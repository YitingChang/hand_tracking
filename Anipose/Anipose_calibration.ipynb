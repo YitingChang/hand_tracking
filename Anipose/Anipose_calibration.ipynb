{
 "cells": [
  {
   "cell_type": "code",
   "execution_count": null,
   "metadata": {},
   "outputs": [],
   "source": [
    "# Anipose_calibration"
   ]
  },
  {
   "cell_type": "code",
   "execution_count": 24,
   "metadata": {},
   "outputs": [],
   "source": [
    "from anipose.calibrate import process_session\n",
    "import toml\n"
   ]
  },
  {
   "cell_type": "code",
   "execution_count": 25,
   "metadata": {},
   "outputs": [],
   "source": [
    "# Set paths\n",
    "config_file = '/home/yiting/Documents/Anipose_projects/config_2cam.toml'\n",
    "session_path = '/home/yiting/Documents/Anipose_projects/Anipose_240624/231121-102936'\n",
    "\n",
    "# Load config file\n",
    "config = toml.load(config_file)"
   ]
  },
  {
   "cell_type": "code",
   "execution_count": 23,
   "metadata": {},
   "outputs": [
    {
     "name": "stdout",
     "output_type": "stream",
     "text": [
      "/home/yiting/Documents/Anipose_projects/Anipose_240624/231121-102936\n",
      "/home/yiting/Documents/Anipose_projects/Anipose_240624/231121-102936/calibration_results/calibration.toml\n",
      "loading calibration from: /home/yiting/Documents/Anipose_projects/calibration_init.toml\n",
      "/home/yiting/Documents/Anipose_projects/Anipose_240624/231121-102936/calibration_videos/vid_cal_camA.mp4\n"
     ]
    },
    {
     "name": "stderr",
     "output_type": "stream",
     "text": [
      "100%|███████████████████████████████| 517/517 [01:45<00:00,  4.92it/s]\n"
     ]
    },
    {
     "name": "stdout",
     "output_type": "stream",
     "text": [
      "322 boards detected\n",
      "/home/yiting/Documents/Anipose_projects/Anipose_240624/231121-102936/calibration_videos/vid_cal_camB.mp4\n"
     ]
    },
    {
     "name": "stderr",
     "output_type": "stream",
     "text": [
      "100%|███████████████████████████████| 517/517 [00:54<00:00,  9.50it/s]\n"
     ]
    },
    {
     "name": "stdout",
     "output_type": "stream",
     "text": [
      "448 boards detected\n",
      "[{'name': 'A', 'size': [960, 960], 'matrix': [[6731.991508876004, 0.0, 479.5], [0.0, 6731.991508876004, 479.5], [0.0, 0.0, 1.0]], 'distortions': [0.3494493925553654, 0.0, 0.0, 0.0], 'rotation': [0.0002549068148358127, -0.0006061210382529684, -0.007603831496108684], 'translation': [0.9063786035492791, 0.1899904569278171, -50.703093936960116], 'fisheye': True}, {'name': 'B', 'size': [960, 960], 'matrix': [[3433.629244425064, 0.0, 479.5], [0.0, 3433.629244425064, 479.5], [0.0, 0.0, 1.0]], 'distortions': [0.20790085873215866, 0.0, 0.0, 0.0], 'rotation': [-0.4931794693417272, 0.001235755454591662, 0.07051657652782072], 'translation': [21.346998188156363, -502.883939608601, -314.5173850016416], 'fisheye': True}]\n"
     ]
    },
    {
     "name": "stderr",
     "output_type": "stream",
     "text": [
      "OMP: Info #276: omp_set_nested routine deprecated, please use omp_set_max_active_levels instead.\n"
     ]
    },
    {
     "name": "stdout",
     "output_type": "stream",
     "text": [
      "error:  0.1337749249212269\n",
      "n_samples: 200\n",
      "{(0, 1): (1000, array([0.0376073 , 0.25675053]))}\n",
      "   Iteration     Total nfev        Cost      Cost reduction    Step norm     Optimality   \n",
      "       0              1         1.9719e+02                                    1.34e+05    \n",
      "       1              2         9.9080e+01      9.81e+01       3.35e+02       1.19e+05    \n",
      "       2              3         6.5580e+01      3.35e+01       3.28e+01       4.10e+03    \n",
      "       3              4         6.4138e+01      1.44e+00       9.15e+00       5.52e+02    \n",
      "       4              5         6.4127e+01      1.10e-02       8.22e-01       7.53e+01    \n",
      "       5              6         6.4127e+01      1.60e-05       7.90e-02       8.77e+01    \n",
      "`ftol` termination condition is satisfied.\n",
      "Function evaluations 6, initial cost 1.9719e+02, final cost 6.4127e+01, first-order optimality 8.77e+01.\n",
      "{(0, 1): (1000, array([0.04347146, 0.26021335]))}\n",
      "error:  0.14933129327700873\n"
     ]
    }
   ],
   "source": [
    "process_session(config, session_path)"
   ]
  }
 ],
 "metadata": {
  "kernelspec": {
   "display_name": "anipose",
   "language": "python",
   "name": "python3"
  },
  "language_info": {
   "codemirror_mode": {
    "name": "ipython",
    "version": 3
   },
   "file_extension": ".py",
   "mimetype": "text/x-python",
   "name": "python",
   "nbconvert_exporter": "python",
   "pygments_lexer": "ipython3",
   "version": "3.7.12"
  }
 },
 "nbformat": 4,
 "nbformat_minor": 2
}
