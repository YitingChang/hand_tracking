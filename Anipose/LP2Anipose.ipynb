{
 "cells": [
  {
   "cell_type": "code",
   "execution_count": null,
   "metadata": {},
   "outputs": [],
   "source": [
    "# Convert Lightning pose 2d outputs from csv format to hdf format\n",
    "# Create multi-level columns\n",
    "\n"
   ]
  },
  {
   "cell_type": "code",
   "execution_count": 1,
   "metadata": {},
   "outputs": [],
   "source": [
    "import os\n",
    "import pandas as pd\n",
    "import numpy"
   ]
  },
  {
   "cell_type": "code",
   "execution_count": 2,
   "metadata": {},
   "outputs": [],
   "source": [
    "lp_2d = \"/home/yiting/Documents/Anipose_projects/Anipose_240624/LP_2d_outputs\"\n",
    "csv_2d = [filename for filename in os.listdir(lp_2d) if filename.endswith('.csv')]\n",
    "for f in csv_2d:\n",
    "    df = pd.read_csv(os.path.join(lp_2d,f), header = None, index_col = 0)\n",
    "    column_array = df.iloc[0:3].to_numpy() \n",
    "    tuples = list(zip(*column_array))\n",
    "    new_array = df.iloc[3:].to_numpy()\n",
    "    new_df = pd.DataFrame(data=new_array)\n",
    "    new_df.columns = pd.MultiIndex.from_tuples(tuples, names=df.index[0:3])\n",
    "    \n",
    "    file_name = os.path.join(lp_2d,f[:-4] + '.h5')\n",
    "    new_df.to_hdf(file_name, key = 'new_df', mode='w')  "
   ]
  }
 ],
 "metadata": {
  "kernelspec": {
   "display_name": "anipose",
   "language": "python",
   "name": "python3"
  },
  "language_info": {
   "codemirror_mode": {
    "name": "ipython",
    "version": 3
   },
   "file_extension": ".py",
   "mimetype": "text/x-python",
   "name": "python",
   "nbconvert_exporter": "python",
   "pygments_lexer": "ipython3",
   "version": "3.7.16"
  }
 },
 "nbformat": 4,
 "nbformat_minor": 2
}
