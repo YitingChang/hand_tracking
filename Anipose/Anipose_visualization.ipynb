{
 "cells": [
  {
   "cell_type": "code",
   "execution_count": null,
   "metadata": {},
   "outputs": [],
   "source": [
    "# Anipose visualization"
   ]
  },
  {
   "cell_type": "code",
   "execution_count": 2,
   "metadata": {},
   "outputs": [],
   "source": [
    "from mayavi import mlab\n",
    "mlab.options.offscreen = True\n",
    "\n",
    "import numpy as np\n",
    "from glob import glob\n",
    "import pandas as pd\n",
    "import os\n",
    "import os.path\n",
    "import toml\n",
    "import cv2\n",
    "import skvideo.io\n",
    "from tqdm import tqdm, trange\n",
    "import sys\n",
    "from collections import defaultdict\n",
    "from matplotlib.pyplot import get_cmap\n",
    "\n",
    "# from .common import make_process_fun, get_nframes, get_video_name, get_video_params, get_data_length, natural_keys"
   ]
  },
  {
   "cell_type": "code",
   "execution_count": 3,
   "metadata": {},
   "outputs": [],
   "source": [
    "def connect(points, bps, bp_dict, color):\n",
    "    ixs = [bp_dict[bp] for bp in bps]\n",
    "    return mlab.plot3d(points[ixs, 0], points[ixs, 1], points[ixs, 2],\n",
    "                       np.ones(len(ixs)), reset_zoom=False,\n",
    "                       color=color, tube_radius=None, line_width=10)\n",
    "\n",
    "def connect_all(points, scheme, bp_dict, cmap):\n",
    "    lines = []\n",
    "    for i, bps in enumerate(scheme):\n",
    "        line = connect(points, bps, bp_dict, color=cmap(i)[:3])\n",
    "        lines.append(line)\n",
    "    return lines\n",
    "\n",
    "def update_line(line, points, bps, bp_dict):\n",
    "    ixs = [bp_dict[bp] for bp in bps]\n",
    "    # ixs = [bodyparts.index(bp) for bp in bps]\n",
    "    new = np.vstack([points[ixs, 0], points[ixs, 1], points[ixs, 2]]).T\n",
    "    line.mlab_source.points = new\n",
    "\n",
    "def update_all_lines(lines, points, scheme, bp_dict):\n",
    "    for line, bps in zip(lines, scheme):\n",
    "        update_line(line, points, bps, bp_dict)"
   ]
  },
  {
   "cell_type": "code",
   "execution_count": 12,
   "metadata": {},
   "outputs": [],
   "source": [
    "config_file = '/home/yiting/Documents/Anipose_projects/config_2cam.toml'\n",
    "p3d_file = '/home/yiting/Documents/Anipose_projects/Anipose_240624/p3d.csv'\n",
    "output_file = '/home/yiting/Documents/Anipose_projects/Anipose_240624/p3d.mp4'"
   ]
  },
  {
   "cell_type": "code",
   "execution_count": 13,
   "metadata": {},
   "outputs": [
    {
     "name": "stdout",
     "output_type": "stream",
     "text": [
      "{'project': '2cam_test', 'path': '/home/yiting/Documents/Anipose_projects', 'model_folder': '/home/tuthill/lili/flypose-test-Lili-2018-12-10', 'nesting': 20, 'video_extension': 'mp4', 'calibration': {'board_type': 'checkerboard', 'board_size': [4, 3], 'board_marker_bits': 6, 'board_marker_dict_number': 250, 'board_marker_length': 9, 'board_square_side_length': 15, 'animal_calibration': False, 'calibration_init': 'calibration_2cam.toml'}, 'filter': {'enabled': True, 'medfilt': 13, 'offset_threshold': 25, 'score_threshold': 0.5, 'spline': True}, 'labeling': {'scheme': [['index_PIP', 'index_DIP', 'index_Tip'], ['middle_PIP', 'middle_DIP', 'middle_Tip'], ['ring_PIP', 'ring_DIP', 'ring_Tip'], ['small_PIP', 'small_DIP', 'small_Tip']]}, 'triangulation': {'cam_regex': 'cam([A-Z])', 'optim': True, 'axes': [['x', 'L1A', 'L3A'], ['z', 'L1B', 'L1A']], 'reference_point': 'L1A', 'cam_align': 'C'}, 'angles': {'L1_CF': ['L1A', 'L1B', 'L1C'], 'L1_FTi': ['L1B', 'L1C', 'L1D'], 'L1_TiTa': ['L1C', 'L1D', 'L1E'], 'L2_CF': ['L2A', 'L2B', 'L2C'], 'L2_FTi': ['L2B', 'L2C', 'L2D'], 'L2_TiTa': ['L2C', 'L2D', 'L2E'], 'L3_CF': ['L3A', 'L3B', 'L3C'], 'L3_FTi': ['L3B', 'L3C', 'L3D'], 'L3_TiTa': ['L3C', 'L3D', 'L3E']}, 'cameras': {'A': {'offset': [224, 120, 832, 704]}, 'B': {'offset': [224, 230, 800, 700]}, 'C': {'offset': [160, 250, 864, 700]}}}\n"
     ]
    }
   ],
   "source": [
    "# Load the TOML file\n",
    "config = toml.load(config_file)\n",
    "\n",
    "# Access the loaded data\n",
    "print(config)\n"
   ]
  },
  {
   "cell_type": "code",
   "execution_count": 6,
   "metadata": {},
   "outputs": [],
   "source": [
    "def visualize_labels(config, labels_fname, outname, fps=100):\n",
    "\n",
    "    try:\n",
    "        scheme = config['labeling']['scheme']\n",
    "    except KeyError:\n",
    "        scheme = []\n",
    "\n",
    "    data = pd.read_csv(labels_fname)\n",
    "    cols = [x for x in data.columns if '_error' in x]\n",
    "\n",
    "    if len(scheme) == 0:\n",
    "        bodyparts = [c.replace('_error', '') for c in cols]\n",
    "    else:\n",
    "        bodyparts = sorted(set([x for dx in scheme for x in dx]))\n",
    "\n",
    "    bp_dict = dict(zip(bodyparts, range(len(bodyparts))))\n",
    "\n",
    "    all_points = np.array([np.array(data.loc[:, (bp+'_x', bp+'_y', bp+'_z')])\n",
    "                           for bp in bodyparts], dtype='float64')\n",
    "\n",
    "    all_errors = np.array([np.array(data.loc[:, bp+'_error'])\n",
    "                           for bp in bodyparts], dtype='float64')\n",
    "\n",
    "    all_scores = np.array([np.array(data.loc[:, bp+'_score'])\n",
    "                           for bp in bodyparts], dtype='float64')\n",
    "\n",
    "    all_ncams = np.array([np.array(data.loc[:, bp+'_ncams'])\n",
    "                          for bp in bodyparts], dtype='float64')\n",
    "\n",
    "\n",
    "    if config['triangulation']['optim']:\n",
    "        all_errors[np.isnan(all_errors)] = 0\n",
    "    else:\n",
    "        all_errors[np.isnan(all_errors)] = 10000\n",
    "    good = (all_errors < 100)\n",
    "    all_points[~good] = np.nan\n",
    "\n",
    "    not_enough_points = np.mean(all_ncams >= 2, axis=1) < 0.2\n",
    "    all_points[not_enough_points] = np.nan\n",
    "\n",
    "    all_points_flat = all_points.reshape(-1, 3)\n",
    "    check = ~np.isnan(all_points_flat[:, 0])\n",
    "\n",
    "    if np.sum(check) < 10:\n",
    "        print('too few points to plot, skipping...')\n",
    "        return\n",
    "\n",
    "    low, high = np.percentile(all_points_flat[check], [5, 95], axis=0)\n",
    "\n",
    "    nparts = len(bodyparts)\n",
    "    framedict = dict(zip(data['fnum'], data.index))\n",
    "\n",
    "    writer = skvideo.io.FFmpegWriter(outname, inputdict={\n",
    "        # '-hwaccel': 'auto',\n",
    "        '-framerate': str(fps),\n",
    "    }, outputdict={\n",
    "        '-vcodec': 'h264', '-qp': '28', '-pix_fmt': 'yuv420p'\n",
    "    })\n",
    "\n",
    "    cmap = get_cmap('tab10')\n",
    "\n",
    "\n",
    "    points = np.copy(all_points[:, 20])\n",
    "    points[0] = low\n",
    "    points[1] = high\n",
    "\n",
    "    s = np.arange(points.shape[0])\n",
    "    good = ~np.isnan(points[:, 0])\n",
    "\n",
    "    fig = mlab.figure(bgcolor=(1,1,1), size=(500,500))\n",
    "    fig.scene.anti_aliasing_frames = 2\n",
    "\n",
    "    low, high = np.percentile(points[good, 0], [10,90])\n",
    "    scale_factor = (high - low) / 12.0\n",
    "\n",
    "    mlab.clf()\n",
    "    pts = mlab.points3d(points[:, 0], points[:, 1], points[:, 2], s,\n",
    "                        color=(0.8, 0.8, 0.8),\n",
    "                        scale_mode='none', scale_factor=scale_factor)\n",
    "    lines = connect_all(points, scheme, bp_dict, cmap)\n",
    "    mlab.orientation_axes()\n",
    "\n",
    "    view = list(mlab.view())\n",
    "\n",
    "    mlab.view(focalpoint='auto', distance='auto')\n",
    "\n",
    "    for framenum in trange(data.shape[0], ncols=70):\n",
    "        fig.scene.disable_render = True\n",
    "\n",
    "        if framenum in framedict:\n",
    "            points = all_points[:, framenum]\n",
    "        else:\n",
    "            points = np.ones((nparts, 3))*np.nan\n",
    "\n",
    "        s = np.arange(points.shape[0])\n",
    "        good = ~np.isnan(points[:, 0])\n",
    "\n",
    "        new = np.vstack([points[:, 0], points[:, 1], points[:, 2]]).T\n",
    "        pts.mlab_source.points = new\n",
    "        update_all_lines(lines, points, scheme, bp_dict)\n",
    "\n",
    "        fig.scene.disable_render = False\n",
    "\n",
    "        img = mlab.screenshot()\n",
    "\n",
    "        mlab.view(*view, reset_roll=False)\n",
    "\n",
    "        writer.writeFrame(img)\n",
    "\n",
    "    mlab.close(all=True)\n",
    "    writer.close()"
   ]
  },
  {
   "cell_type": "code",
   "execution_count": 14,
   "metadata": {},
   "outputs": [
    {
     "name": "stderr",
     "output_type": "stream",
     "text": [
      "100%|█████████████████████████████| 1425/1425 [00:17<00:00, 83.31it/s]\n"
     ]
    }
   ],
   "source": [
    "# 3d labels\n",
    "visualize_labels(config, p3d_file, output_file, fps=100)"
   ]
  },
  {
   "cell_type": "code",
   "execution_count": null,
   "metadata": {},
   "outputs": [],
   "source": []
  }
 ],
 "metadata": {
  "kernelspec": {
   "display_name": "anipose",
   "language": "python",
   "name": "python3"
  },
  "language_info": {
   "codemirror_mode": {
    "name": "ipython",
    "version": 3
   },
   "file_extension": ".py",
   "mimetype": "text/x-python",
   "name": "python",
   "nbconvert_exporter": "python",
   "pygments_lexer": "ipython3",
   "version": "3.7.12"
  }
 },
 "nbformat": 4,
 "nbformat_minor": 2
}
