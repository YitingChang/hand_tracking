{
 "cells": [
  {
   "cell_type": "code",
   "execution_count": null,
   "metadata": {},
   "outputs": [],
   "source": [
    "# Anipose pipeline\n"
   ]
  },
  {
   "cell_type": "code",
   "execution_count": 1,
   "metadata": {},
   "outputs": [],
   "source": [
    "import os\n",
    "import toml\n",
    "from anipose.calibrate import process_session as calibration_process\n",
    "from anipose.triangulate import process_session as triangulate_process\n",
    "from anipose.label_videos_3d import process_session as v3d_process\n",
    "from anipose.label_combined import process_session as combined_process"
   ]
  },
  {
   "cell_type": "code",
   "execution_count": 2,
   "metadata": {},
   "outputs": [],
   "source": [
    "# Set paths\n",
    "config_file = '/home/yiting/Documents/Anipose_projects/Anipose_2cam_test/config_2cam.toml'\n",
    "session_path = '/home/yiting/Documents/Anipose_projects/Anipose_2cam_test/Anipose_240624/231121-102936'\n",
    "\n",
    "# Load config file\n",
    "config = toml.load(config_file)"
   ]
  },
  {
   "cell_type": "code",
   "execution_count": 3,
   "metadata": {},
   "outputs": [
    {
     "name": "stdout",
     "output_type": "stream",
     "text": [
      "/home/yiting/Documents/Anipose_projects/Anipose_2cam_test/Anipose_240624/231121-102936\n",
      "/home/yiting/Documents/Anipose_projects/Anipose_2cam_test/Anipose_240624/231121-102936/calibration_results/calibration.toml\n"
     ]
    }
   ],
   "source": [
    "## Camera calibration\n",
    "calibration_process(config, session_path)"
   ]
  },
  {
   "cell_type": "code",
   "execution_count": null,
   "metadata": {},
   "outputs": [],
   "source": [
    "# Anipose_triangulation\n",
    "\n",
    "# To-do list:\n",
    "# Apply 3d filter if needed"
   ]
  },
  {
   "cell_type": "code",
   "execution_count": 4,
   "metadata": {},
   "outputs": [
    {
     "name": "stdout",
     "output_type": "stream",
     "text": [
      "/home/yiting/Documents/Anipose_projects/Anipose_2cam_test/Anipose_240624/231121-102936/pose_3d/vid_231121-102936_.csv\n"
     ]
    }
   ],
   "source": [
    "triangulate_process(config, session_path)\n"
   ]
  },
  {
   "cell_type": "code",
   "execution_count": null,
   "metadata": {},
   "outputs": [],
   "source": [
    "# Anipose_visualization\n",
    "# Create labeled 3d videos\n",
    "# Create combined videos that have 2d and labeled 3d videos "
   ]
  },
  {
   "cell_type": "code",
   "execution_count": 7,
   "metadata": {},
   "outputs": [
    {
     "name": "stdout",
     "output_type": "stream",
     "text": [
      "/home/yiting/Documents/Anipose_projects/Anipose_2cam_test/Anipose_240624/231121-102936/videos_labeled_3d/vid_231121-102936_.mp4\n"
     ]
    },
    {
     "name": "stderr",
     "output_type": "stream",
     "text": [
      "100%|█████████████████████████████| 1425/1425 [00:16<00:00, 83.93it/s]\n"
     ]
    }
   ],
   "source": [
    "# Create labeled 3d videos\n",
    "v3d_process(config, session_path)"
   ]
  },
  {
   "cell_type": "code",
   "execution_count": 6,
   "metadata": {},
   "outputs": [],
   "source": [
    "# Create combined videos that have 2d and labeled 3d videos\n",
    "combined_process(config, session_path)"
   ]
  }
 ],
 "metadata": {
  "kernelspec": {
   "display_name": "anipose",
   "language": "python",
   "name": "python3"
  },
  "language_info": {
   "codemirror_mode": {
    "name": "ipython",
    "version": 3
   },
   "file_extension": ".py",
   "mimetype": "text/x-python",
   "name": "python",
   "nbconvert_exporter": "python",
   "pygments_lexer": "ipython3",
   "version": "3.7.12"
  }
 },
 "nbformat": 4,
 "nbformat_minor": 2
}
