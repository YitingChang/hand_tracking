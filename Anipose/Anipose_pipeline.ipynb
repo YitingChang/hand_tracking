{
 "cells": [
  {
   "cell_type": "code",
   "execution_count": null,
   "metadata": {},
   "outputs": [],
   "source": [
    "# Anipose pipeline\n"
   ]
  },
  {
   "cell_type": "code",
   "execution_count": 15,
   "metadata": {},
   "outputs": [],
   "source": [
    "import os\n",
    "import toml\n",
    "from anipose.calibrate import process_session as calibration_process\n",
    "from anipose.triangulate import process_session as triangulate_process\n",
    "from anipose.label_videos_3d import process_session as v3d_process\n",
    "from anipose.label_combined import process_session as combined_process\n",
    "from anipose.compute_angles import process_session as angles_process"
   ]
  },
  {
   "cell_type": "code",
   "execution_count": 21,
   "metadata": {},
   "outputs": [],
   "source": [
    "# Set paths\n",
    "config_file = '/home/yiting/Documents/Anipose_projects/Anipose_2cam_test/config_2cam.toml'\n",
    "session_path = '/home/yiting/Documents/Anipose_projects/Anipose_2cam_test/Anipose_240624/231121-102936'\n",
    "# config_file = '/home/yiting/Documents/Anipose_projects/Anipose_6cam_240331/config_6cam.toml'\n",
    "# session_path = '/home/yiting/Documents/Anipose_projects/Anipose_6cam_240331/Anipose_240701/231121-102936'\n",
    "# Load config file\n",
    "config = toml.load(config_file)"
   ]
  },
  {
   "cell_type": "code",
   "execution_count": 22,
   "metadata": {},
   "outputs": [
    {
     "name": "stdout",
     "output_type": "stream",
     "text": [
      "/home/yiting/Documents/Anipose_projects/Anipose_2cam_test/Anipose_240624/231121-102936\n",
      "/home/yiting/Documents/Anipose_projects/Anipose_2cam_test/Anipose_240624/231121-102936/calibration_results/calibration.toml\n",
      "loading calibration from: /home/yiting/Documents/Anipose_projects/Anipose_2cam_test/calibration_init.toml\n",
      "/home/yiting/Documents/Anipose_projects/Anipose_2cam_test/Anipose_240624/231121-102936/calibration_videos/vid_cal_camA.mp4\n"
     ]
    },
    {
     "name": "stderr",
     "output_type": "stream",
     "text": [
      "100%|███████████████████████████████| 517/517 [01:45<00:00,  4.92it/s]\n"
     ]
    },
    {
     "name": "stdout",
     "output_type": "stream",
     "text": [
      "322 boards detected\n",
      "/home/yiting/Documents/Anipose_projects/Anipose_2cam_test/Anipose_240624/231121-102936/calibration_videos/vid_cal_camB.mp4\n"
     ]
    },
    {
     "name": "stderr",
     "output_type": "stream",
     "text": [
      "100%|███████████████████████████████| 517/517 [00:54<00:00,  9.41it/s]\n"
     ]
    },
    {
     "name": "stdout",
     "output_type": "stream",
     "text": [
      "448 boards detected\n",
      "[{'name': 'A', 'size': [960, 960], 'matrix': [[6731.991508876004, 0.0, 479.5], [0.0, 6731.991508876004, 479.5], [0.0, 0.0, 1.0]], 'distortions': [0.3494493925553654, 0.0, 0.0, 0.0], 'rotation': [0.0002549068148358127, -0.0006061210382529684, -0.007603831496108684], 'translation': [0.9063786035492791, 0.1899904569278171, -50.703093936960116], 'fisheye': True}, {'name': 'B', 'size': [960, 960], 'matrix': [[3433.629244425064, 0.0, 479.5], [0.0, 3433.629244425064, 479.5], [0.0, 0.0, 1.0]], 'distortions': [0.20790085873215866, 0.0, 0.0, 0.0], 'rotation': [-0.4931794693417272, 0.001235755454591662, 0.07051657652782072], 'translation': [21.346998188156363, -502.883939608601, -314.5173850016416], 'fisheye': True}]\n",
      "error:  0.1470717327051042\n",
      "n_samples: 200\n",
      "{(0, 1): (1000, array([0.04161149, 0.2711184 ]))}\n",
      "   Iteration     Total nfev        Cost      Cost reduction    Step norm     Optimality   \n",
      "       0              1         2.0134e+02                                    1.32e+05    \n",
      "       1              2         1.0428e+02      9.71e+01       3.64e+02       1.24e+05    \n",
      "       2              3         6.1973e+01      4.23e+01       3.80e+01       4.91e+03    \n",
      "       3              4         6.0736e+01      1.24e+00       5.41e+00       2.98e+02    \n",
      "       4              5         6.0734e+01      2.55e-03       6.18e-01       1.76e+02    \n",
      "`ftol` termination condition is satisfied.\n",
      "Function evaluations 5, initial cost 2.0134e+02, final cost 6.0734e+01, first-order optimality 1.76e+02.\n",
      "{(0, 1): (1000, array([0.04687151, 0.26823636]))}\n",
      "error:  0.14729536421064507\n"
     ]
    }
   ],
   "source": [
    "## Camera calibration\n",
    "calibration_process(config, session_path)"
   ]
  },
  {
   "cell_type": "code",
   "execution_count": null,
   "metadata": {},
   "outputs": [],
   "source": [
    "# Anipose_triangulation\n",
    "\n",
    "# To-do list:\n",
    "# Apply 3d filter if needed"
   ]
  },
  {
   "cell_type": "code",
   "execution_count": 23,
   "metadata": {},
   "outputs": [
    {
     "name": "stdout",
     "output_type": "stream",
     "text": [
      "/home/yiting/Documents/Anipose_projects/Anipose_2cam_test/Anipose_240624/231121-102936/pose_3d/vid_231121-102936_.csv\n"
     ]
    },
    {
     "name": "stderr",
     "output_type": "stream",
     "text": [
      "100%|█████████████████████████| 17100/17100 [00:04<00:00, 3605.37it/s]\n"
     ]
    }
   ],
   "source": [
    "triangulate_process(config, session_path)\n"
   ]
  },
  {
   "cell_type": "code",
   "execution_count": null,
   "metadata": {},
   "outputs": [],
   "source": [
    "# Anipose_visualization\n",
    "# Create labeled 3d videos\n",
    "# Create combined videos that have 2d and labeled 3d videos "
   ]
  },
  {
   "cell_type": "code",
   "execution_count": 24,
   "metadata": {},
   "outputs": [
    {
     "name": "stdout",
     "output_type": "stream",
     "text": [
      "/home/yiting/Documents/Anipose_projects/Anipose_2cam_test/Anipose_240624/231121-102936/videos_labeled_3d/vid_231121-102936_.mp4\n"
     ]
    },
    {
     "name": "stderr",
     "output_type": "stream",
     "text": [
      "100%|█████████████████████████████| 1425/1425 [00:17<00:00, 79.56it/s]\n"
     ]
    }
   ],
   "source": [
    "# Create labeled 3d videos\n",
    "v3d_process(config, session_path)"
   ]
  },
  {
   "cell_type": "code",
   "execution_count": 25,
   "metadata": {},
   "outputs": [
    {
     "name": "stdout",
     "output_type": "stream",
     "text": [
      "/home/yiting/Documents/Anipose_projects/Anipose_2cam_test/Anipose_240624/231121-102936/videos_combined/vid_231121-102936_.mp4\n"
     ]
    },
    {
     "name": "stderr",
     "output_type": "stream",
     "text": [
      "100%|█████████████████████████████| 1425/1425 [00:16<00:00, 84.78it/s]\n"
     ]
    }
   ],
   "source": [
    "# Create combined videos that have 2d and labeled 3d videos\n",
    "combined_process(config, session_path)"
   ]
  },
  {
   "cell_type": "code",
   "execution_count": 26,
   "metadata": {},
   "outputs": [
    {
     "name": "stdout",
     "output_type": "stream",
     "text": [
      "/home/yiting/Documents/Anipose_projects/Anipose_2cam_test/Anipose_240624/231121-102936/angles/vid_231121-102936_.csv\n"
     ]
    }
   ],
   "source": [
    "# Compute angles\n",
    "angles_process(config, session_path)"
   ]
  }
 ],
 "metadata": {
  "kernelspec": {
   "display_name": "anipose",
   "language": "python",
   "name": "python3"
  },
  "language_info": {
   "codemirror_mode": {
    "name": "ipython",
    "version": 3
   },
   "file_extension": ".py",
   "mimetype": "text/x-python",
   "name": "python",
   "nbconvert_exporter": "python",
   "pygments_lexer": "ipython3",
   "version": "3.7.12"
  }
 },
 "nbformat": 4,
 "nbformat_minor": 2
}
