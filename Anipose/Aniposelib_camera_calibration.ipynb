{
 "cells": [
  {
   "cell_type": "code",
   "execution_count": null,
   "metadata": {},
   "outputs": [],
   "source": [
    "## Anipose Camera Calibration"
   ]
  },
  {
   "cell_type": "code",
   "execution_count": null,
   "metadata": {},
   "outputs": [],
   "source": [
    "import numpy as np\n",
    "from aniposelib.boards import CharucoBoard, Checkerboard\n",
    "from aniposelib.cameras import Camera, CameraGroup\n",
    "from aniposelib.utils import load_pose2d_fnames\n",
    "import os"
   ]
  },
  {
   "cell_type": "code",
   "execution_count": null,
   "metadata": {},
   "outputs": [],
   "source": [
    "# calibration_folder = r'/home/yiting/Documents/Anipose_projects/Anipose_6cam_240331/Anipose_240701/calibration_videos_downsampled_10'\n",
    "calibration_folder = r'/home/yiting/Documents/Anipose_projects/Anipose_6cam_240331/Anipose_240701/calibration_videos_downsampled_10'\n",
    "\n",
    "vidnames = [[os.path.join(calibration_folder,'vid_cal_camA.mp4')],\n",
    "            [os.path.join(calibration_folder,'vid_cal_camB.mp4')],\n",
    "            [os.path.join(calibration_folder,'vid_cal_camC.mp4')],\n",
    "            [os.path.join(calibration_folder,'vid_cal_camD.mp4')],\n",
    "            [os.path.join(calibration_folder,'vid_cal_camE.mp4')],\n",
    "            [os.path.join(calibration_folder,'vid_cal_camF.mp4')]\n",
    "]\n",
    "\n",
    "cam_names = ['A', 'B', 'C', 'D', 'E', 'F']\n",
    "# cam_names = ['A', 'C', 'D', 'E']\n",
    "\n",
    "n_cams = len(vidnames)\n",
    "\n",
    "# board = Checkerboard(4, 3, square_length=15)\n",
    "board = CharucoBoard(5, 4,\n",
    "                     square_length=15, # here, in mm but any unit works\n",
    "                     marker_length=9,\n",
    "                     marker_bits=6, dict_size=250)\n",
    "\n",
    "\n",
    "# the videos provided are fisheye, so we need the fisheye option\n",
    "cgroup = CameraGroup.from_names(cam_names, fisheye=True)"
   ]
  },
  {
   "cell_type": "code",
   "execution_count": null,
   "metadata": {},
   "outputs": [],
   "source": [
    "# this will take about 15 minutes (mostly due to detection)\n",
    "# it will detect the charuco board in the videos,\n",
    "# then calibrate the cameras based on the detections, using iterative bundle adjustment\n",
    "cgroup.calibrate_videos(vidnames, board)\n",
    "\n",
    "# if you need to save and load\n",
    "# example saving and loading for later\n",
    "cgroup.dump(os.path.join(calibration_folder,'calibration.toml'))"
   ]
  },
  {
   "cell_type": "code",
   "execution_count": null,
   "metadata": {},
   "outputs": [],
   "source": []
  }
 ],
 "metadata": {
  "kernelspec": {
   "display_name": "anipose",
   "language": "python",
   "name": "python3"
  },
  "language_info": {
   "codemirror_mode": {
    "name": "ipython",
    "version": 3
   },
   "file_extension": ".py",
   "mimetype": "text/x-python",
   "name": "python",
   "nbconvert_exporter": "python",
   "pygments_lexer": "ipython3",
   "version": "3.7.12"
  }
 },
 "nbformat": 4,
 "nbformat_minor": 2
}
