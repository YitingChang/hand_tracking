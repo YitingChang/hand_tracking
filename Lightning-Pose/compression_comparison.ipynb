{
 "cells": [
  {
   "cell_type": "code",
   "execution_count": null,
   "metadata": {},
   "outputs": [],
   "source": [
    "# Compare the tracking results of different levels of video compression\n"
   ]
  },
  {
   "cell_type": "code",
   "execution_count": 1,
   "metadata": {},
   "outputs": [],
   "source": [
    "import os\n",
    "import glob\n",
    "import pandas as pd \n",
    "import numpy as np"
   ]
  },
  {
   "cell_type": "code",
   "execution_count": 2,
   "metadata": {},
   "outputs": [],
   "source": [
    "true_labeled_csv = '/home/yiting/Documents/Jarvis_projects/Datasets/annotations/compression_comparison_video/2024-02-25/output_comp0/annotations.csv'\n",
    "df1 = pd.read_csv(true_labeled_csv, on_bad_lines='skip', header = None, index_col=0) \n",
    "df2 = pd.read_csv(true_labeled_csv, skiprows=4, header = None, index_col=0) \n",
    "last_column = df2.shape[1]\n",
    "df2 = df2.drop(columns=[last_column],axis='columns')\n",
    "df_true = pd.concat([df1,df2])"
   ]
  },
  {
   "cell_type": "code",
   "execution_count": 20,
   "metadata": {},
   "outputs": [],
   "source": [
    "isbodyparts = [x == 'bodyparts' for x in df_true.index.values]\n",
    "bodyparts = np.unique(df_true.iloc[isbodyparts].values[0])\n",
    "bd_idx = 1\n",
    "# for bd_idx, bd in enumerate(bodyparts):\n",
    "\n"
   ]
  },
  {
   "cell_type": "code",
   "execution_count": 3,
   "metadata": {},
   "outputs": [],
   "source": [
    "compressed_folder = r\"/home/yiting/Documents/LP_projects/LP_240220/predictions\"\n",
    "compressed_labeled_csvs = [filename for filename in os.listdir(compressed_folder) if filename.endswith('.csv')]\n"
   ]
  },
  {
   "cell_type": "code",
   "execution_count": 4,
   "metadata": {},
   "outputs": [],
   "source": [
    "csv = compressed_labeled_csvs[0]\n",
    "compressed_labeled_csv = os.path.join(compressed_folder,csv)\n",
    "df_compressed = pd.read_csv(compressed_labeled_csv, header = None, index_col=0) "
   ]
  },
  {
   "cell_type": "code",
   "execution_count": 24,
   "metadata": {},
   "outputs": [
    {
     "data": {
      "text/plain": [
       "'output_comp0_heatmap_mhcrnn_temporal_5.0_pca_singleview_5.0.csv'"
      ]
     },
     "execution_count": 24,
     "metadata": {},
     "output_type": "execute_result"
    }
   ],
   "source": [
    "csv"
   ]
  },
  {
   "cell_type": "code",
   "execution_count": 5,
   "metadata": {},
   "outputs": [
    {
     "data": {
      "text/plain": [
       "[980,\n",
       " 490,\n",
       " 220,\n",
       " 570,\n",
       " 260,\n",
       " 720,\n",
       " 620,\n",
       " 680,\n",
       " 760,\n",
       " 310,\n",
       " 650,\n",
       " 190,\n",
       " 380,\n",
       " 790,\n",
       " 730,\n",
       " 740,\n",
       " 70,\n",
       " 210,\n",
       " 710,\n",
       " 600]"
      ]
     },
     "execution_count": 5,
     "metadata": {},
     "output_type": "execute_result"
    }
   ],
   "source": [
    "frame_names = [os.path.splitext(framename)[0] for framename in df_true.index.values[4:]]\n",
    "frame_idxes = [int(frame_name[6:])for frame_name in frame_names]\n",
    "frame_idxes"
   ]
  },
  {
   "cell_type": "code",
   "execution_count": 21,
   "metadata": {},
   "outputs": [],
   "source": [
    "errors = np.full([len(frame_idxes), len(bodyparts)],np.nan)\n",
    "for k, frame_idx in enumerate(frame_idxes):\n",
    "    true_row_idx = k + 4\n",
    "    compressed_row_idx = frame_idx + 3\n",
    "    true_x = df_true.iloc[true_row_idx, bd_idx*3]\n",
    "    true_y = df_true.iloc[true_row_idx, bd_idx*3 + 1]\n",
    "    compressed_x = float(df_compressed.iloc[compressed_row_idx, bd_idx*3])\n",
    "    compressed_y = float(df_compressed.iloc[compressed_row_idx, bd_idx*3 + 1])\n",
    "    v = [abs(compressed_x - true_x), abs(compressed_y - true_y)]\n",
    "    errors[k, bd_idx] = np.linalg.norm(v)\n",
    "    "
   ]
  },
  {
   "cell_type": "code",
   "execution_count": 23,
   "metadata": {},
   "outputs": [
    {
     "data": {
      "text/plain": [
       "array([[         nan, 185.33543536,          nan,          nan,\n",
       "                 nan,          nan,          nan,          nan,\n",
       "                 nan,          nan,          nan,          nan],\n",
       "       [         nan, 227.81752645,          nan,          nan,\n",
       "                 nan,          nan,          nan,          nan,\n",
       "                 nan,          nan,          nan,          nan],\n",
       "       [         nan, 224.36068242,          nan,          nan,\n",
       "                 nan,          nan,          nan,          nan,\n",
       "                 nan,          nan,          nan,          nan],\n",
       "       [         nan, 202.12287529,          nan,          nan,\n",
       "                 nan,          nan,          nan,          nan,\n",
       "                 nan,          nan,          nan,          nan],\n",
       "       [         nan, 220.40688687,          nan,          nan,\n",
       "                 nan,          nan,          nan,          nan,\n",
       "                 nan,          nan,          nan,          nan],\n",
       "       [         nan, 191.55828455,          nan,          nan,\n",
       "                 nan,          nan,          nan,          nan,\n",
       "                 nan,          nan,          nan,          nan],\n",
       "       [         nan, 156.67377651,          nan,          nan,\n",
       "                 nan,          nan,          nan,          nan,\n",
       "                 nan,          nan,          nan,          nan],\n",
       "       [         nan, 181.93947399,          nan,          nan,\n",
       "                 nan,          nan,          nan,          nan,\n",
       "                 nan,          nan,          nan,          nan],\n",
       "       [         nan, 189.36825365,          nan,          nan,\n",
       "                 nan,          nan,          nan,          nan,\n",
       "                 nan,          nan,          nan,          nan],\n",
       "       [         nan,          nan,          nan,          nan,\n",
       "                 nan,          nan,          nan,          nan,\n",
       "                 nan,          nan,          nan,          nan],\n",
       "       [         nan, 164.90527338,          nan,          nan,\n",
       "                 nan,          nan,          nan,          nan,\n",
       "                 nan,          nan,          nan,          nan],\n",
       "       [         nan, 228.46535572,          nan,          nan,\n",
       "                 nan,          nan,          nan,          nan,\n",
       "                 nan,          nan,          nan,          nan],\n",
       "       [         nan, 230.29387974,          nan,          nan,\n",
       "                 nan,          nan,          nan,          nan,\n",
       "                 nan,          nan,          nan,          nan],\n",
       "       [         nan, 193.7945268 ,          nan,          nan,\n",
       "                 nan,          nan,          nan,          nan,\n",
       "                 nan,          nan,          nan,          nan],\n",
       "       [         nan, 183.05116619,          nan,          nan,\n",
       "                 nan,          nan,          nan,          nan,\n",
       "                 nan,          nan,          nan,          nan],\n",
       "       [         nan, 195.72805051,          nan,          nan,\n",
       "                 nan,          nan,          nan,          nan,\n",
       "                 nan,          nan,          nan,          nan],\n",
       "       [         nan, 211.24476591,          nan,          nan,\n",
       "                 nan,          nan,          nan,          nan,\n",
       "                 nan,          nan,          nan,          nan],\n",
       "       [         nan, 228.98150936,          nan,          nan,\n",
       "                 nan,          nan,          nan,          nan,\n",
       "                 nan,          nan,          nan,          nan],\n",
       "       [         nan, 180.50162077,          nan,          nan,\n",
       "                 nan,          nan,          nan,          nan,\n",
       "                 nan,          nan,          nan,          nan],\n",
       "       [         nan,          nan,          nan,          nan,\n",
       "                 nan,          nan,          nan,          nan,\n",
       "                 nan,          nan,          nan,          nan]])"
      ]
     },
     "execution_count": 23,
     "metadata": {},
     "output_type": "execute_result"
    }
   ],
   "source": [
    "\n",
    "# errors = np.full([len(frame_idxes), len(bodyparts)],np.nan)\n",
    "errors\n"
   ]
  },
  {
   "cell_type": "code",
   "execution_count": null,
   "metadata": {},
   "outputs": [],
   "source": [
    "true_x = df_true.iloc[true_row_idx, bd_idx*3]\n",
    "true_y = df_true.iloc[true_row_idx, bd_idx*3 + 1]\n",
    "compressed_x = float(df_compressed.iloc[compressed_row_idx, bd_idx*3])\n",
    "compressed_y = float(df_compressed.iloc[compressed_row_idx, bd_idx*3 + 1])\n",
    "v = [abs(compressed_x - true_x), abs(compressed_y - true_y)]\n",
    "error = np.linalg.norm(v)\n",
    "error"
   ]
  },
  {
   "cell_type": "code",
   "execution_count": null,
   "metadata": {},
   "outputs": [],
   "source": [
    "df_compressed"
   ]
  },
  {
   "cell_type": "code",
   "execution_count": null,
   "metadata": {},
   "outputs": [],
   "source": [
    "df_compressed.iloc[3,:]"
   ]
  },
  {
   "cell_type": "code",
   "execution_count": null,
   "metadata": {},
   "outputs": [],
   "source": [
    "for csv in compressed_labeled_csvs:\n",
    "    compressed_labeled_csv = os.path.join(compressed_folder,csv)\n",
    "    df_compressed = pd.read_csv(compressed_labeled_csv, header = None, index_col=0) "
   ]
  }
 ],
 "metadata": {
  "kernelspec": {
   "display_name": "ltg_pose",
   "language": "python",
   "name": "python3"
  },
  "language_info": {
   "codemirror_mode": {
    "name": "ipython",
    "version": 3
   },
   "file_extension": ".py",
   "mimetype": "text/x-python",
   "name": "python",
   "nbconvert_exporter": "python",
   "pygments_lexer": "ipython3",
   "version": "3.8.18"
  }
 },
 "nbformat": 4,
 "nbformat_minor": 2
}
