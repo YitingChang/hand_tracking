{
 "cells": [
  {
   "cell_type": "markdown",
   "metadata": {},
   "source": [
    "# Visualization of model metrics during training\n",
    "\n",
    "This notebook accesses tensorboard log files that are saved during Lightning Pose network training and visualizes trainig metrics. \\\n",
    "\n",
    "Alternatively, we can visualize them in Tensorboard directly. \n",
    "In terminal, \\\n",
    "tensorboard --logdir /home/yiting/Documents/GitHub/lightning-pose/outputs/2024-08-07/15-24-31/ "
   ]
  },
  {
   "cell_type": "markdown",
   "metadata": {},
   "source": [
    "### Setup"
   ]
  },
  {
   "cell_type": "code",
   "execution_count": null,
   "metadata": {},
   "outputs": [],
   "source": [
    "# from tensorboard.backend.event_processing.event_accumulator import EventAccumulator\n",
    "import os\n",
    "import pandas as pd\n",
    "from matplotlib import pyplot as plt \n",
    "from tbparse import SummaryReader\n",
    "from collections import defaultdict\n"
   ]
  },
  {
   "cell_type": "code",
   "execution_count": null,
   "metadata": {},
   "outputs": [],
   "source": [
    "output_dir = r\"/home/yiting/Documents/GitHub/lightning-pose/outputs\"\n",
    "\n",
    "# # Single model\n",
    "model_dirs = [\"2024-11-27/16-31-40\"]\n",
    "model_names = [\"241128\"]\n",
    "save_dir = r'/home/yiting/Documents/LP_projects/LP_241128/model_eval'\n",
    "\n",
    "# Pose PCA loss\n",
    "# model_dirs = [\"2024-08-12/18-04-44\", \"2024-08-09/15-12-36\"]\n",
    "# model_names = [\"no_pose_pca\", \"pose_pca\"]\n",
    "# TCN\n",
    "# model_dirs = [\"2024-08-12/18-04-44\", \"2024-08-09/16-34-04\"]\n",
    "# model_names = [\"no_TCN\", \"TCN\"]\n",
    "# save_dir = r\"/home/yiting/Documents/LP_projects/model_eval/TCN\"\n",
    "# Temporal loss\n",
    "# model_dirs = [\"2024-08-08/15-34-52\",\"2024-07-30/13-41-23\", \"2024-08-07/15-24-31\", \"2024-08-08/13-39-33\"]\n",
    "# # Supervised training\n",
    "# model_dirs = [\"2024-08-07/15-43-46\", \"2024-08-07/16-21-14\"]\n",
    "# Semi-supervised training\n",
    "# model_dirs = [\"2024-07-30/13-41-23\", \"2024-07-30/16-03-42\"]\n",
    "supervised_metrics = [\"train_supervised_rmse\", \"val_supervised_rmse\"]\n",
    "unsupervised_metrics = [\"train_temporal_loss_weighted\", \"train_pca_multiview_loss_weighted\", \"train_pca_multiview_loss\",\n",
    "                        \"train_pca_singleview_loss_weighted\", \"train_pca_singleview_loss\"]\n",
    "total_metrics = [\"total_loss\"]\n"
   ]
  },
  {
   "cell_type": "markdown",
   "metadata": {},
   "source": [
    "### Access tensorbard data "
   ]
  },
  {
   "cell_type": "code",
   "execution_count": null,
   "metadata": {},
   "outputs": [],
   "source": [
    "model_dfs = defaultdict(dict)\n",
    "for m, (model_dir, model_name) in enumerate(zip(model_dirs, model_names)):\n",
    "    log_folder_path = os.path.join(output_dir, model_dir, \"tb_logs\", \"test\", \"version_0\")\n",
    "    log_files = [filename for filename in os.listdir(log_folder_path) if filename.startswith(\"events\")]\n",
    "    for log_file in log_files:\n",
    "        reader = SummaryReader(os.path.join(log_folder_path, log_file))\n",
    "        tags = reader.get_tags('scalars')\n",
    "        if len(tags) > 1 : # It seems that only one log file contains all tags. \n",
    "            model_dfs[model_name] = reader.scalars\n",
    "            print(model_name)\n",
    "            print(tags)"
   ]
  },
  {
   "cell_type": "markdown",
   "metadata": {},
   "source": [
    "## Single Model"
   ]
  },
  {
   "cell_type": "code",
   "execution_count": null,
   "metadata": {},
   "outputs": [],
   "source": [
    "# Supervised metrics\n",
    "fig, axs = plt.subplots(len(supervised_metrics), 1, figsize=(6, 3*len(supervised_metrics)))\n",
    "model_name = model_names[0]\n",
    "df = model_dfs[model_name]\n",
    "for me, metric in enumerate(supervised_metrics):\n",
    "    df_metric = df[df.tag == metric]\n",
    "    # Plot trace\n",
    "    axs[me].plot(df_metric.step, df_metric.value)\n",
    "    # Remove upper and right boundary\n",
    "    axs[me].spines['top'].set_visible(False)\n",
    "    axs[me].spines['right'].set_visible(False)\n",
    "    if me == 0:\n",
    "        axs[me].set_title(model_name)\n",
    "    if me == len(supervised_metrics) - 1:\n",
    "        axs[me].set_xlabel(\"step\")\n",
    "    axs[me].set_ylabel(metric)\n",
    "\n",
    "# Adjust layout to prevent overlap\n",
    "plt.tight_layout()\n",
    "\n",
    "# Save the figure\n",
    "plt.savefig(os.path.join(save_dir, \"supervised_loss.png\"))"
   ]
  },
  {
   "cell_type": "code",
   "execution_count": null,
   "metadata": {},
   "outputs": [],
   "source": [
    "# Unsupervised_metrics\n",
    "fig, axs = plt.subplots(len(unsupervised_metrics), 1, figsize=(6, 3*len(unsupervised_metrics)))\n",
    "model_name = model_names[0]\n",
    "df = model_dfs[model_name]\n",
    "for me, metric in enumerate(unsupervised_metrics):\n",
    "    # Check if the current model has this metric\n",
    "    if sum(df.tag == metric) > 0:\n",
    "        # Access metric data\n",
    "        df_metric = df[df.tag == metric]\n",
    "        # Plot trace\n",
    "        axs[me].plot(df_metric.step, df_metric.value)\n",
    "    else:\n",
    "        axs[me].text(0.4, 0.5, 'Not available', fontsize=12, color='black')\n",
    "    # Remove upper and right boundary\n",
    "    axs[me].spines['top'].set_visible(False)\n",
    "    axs[me].spines['right'].set_visible(False)\n",
    "    if me == 0:\n",
    "        axs[me].set_title(model_name)\n",
    "    if me == len(unsupervised_metrics) - 1:\n",
    "        axs[me].set_xlabel(\"step\")\n",
    "    axs[me].set_ylabel(metric)\n",
    "\n",
    "# Adjust layout to prevent overlap\n",
    "plt.tight_layout()\n",
    "\n",
    "# Save the figure\n",
    "plt.savefig(os.path.join(save_dir, \"unsupervised_loss.png\"))"
   ]
  },
  {
   "cell_type": "code",
   "execution_count": null,
   "metadata": {},
   "outputs": [],
   "source": [
    "fig, axs = plt.subplots(len(total_metrics), 1, figsize=(6, 3*len(total_metrics)))\n"
   ]
  },
  {
   "cell_type": "code",
   "execution_count": null,
   "metadata": {},
   "outputs": [],
   "source": [
    "# Total_metrics\n",
    "fig, ax = plt.subplots(len(total_metrics), 1, figsize=(6, 3*len(total_metrics)))\n",
    "model_name = model_names[0]\n",
    "df = model_dfs[model_name]\n",
    "for me, metric in enumerate(total_metrics):\n",
    "    # Check if the current model has this metric\n",
    "    if sum(df.tag == metric) > 0:\n",
    "        # Access metric data\n",
    "        df_metric = df[df.tag == metric]\n",
    "        # Plot trace\n",
    "        ax.plot(df_metric.step, df_metric.value)\n",
    "    else:\n",
    "        ax.text(0.4, 0.5, 'Not available', fontsize=12, color='black')\n",
    "    # Remove upper and right boundary\n",
    "    ax.spines['top'].set_visible(False)\n",
    "    ax.spines['right'].set_visible(False)\n",
    "    ax.set_title(model_name)\n",
    "    ax.set_xlabel(\"step\")\n",
    "    ax.set_ylabel(metric)\n",
    "\n",
    "# Save the figure\n",
    "plt.savefig(os.path.join(save_dir, \"total_loss.png\"))"
   ]
  },
  {
   "cell_type": "markdown",
   "metadata": {},
   "source": [
    "## Multiple models"
   ]
  },
  {
   "cell_type": "markdown",
   "metadata": {},
   "source": [
    "### Plot training results"
   ]
  },
  {
   "cell_type": "code",
   "execution_count": null,
   "metadata": {},
   "outputs": [],
   "source": [
    "# Supervised metrics\n",
    "fig, axs = plt.subplots(len(supervised_metrics), len(model_names), figsize=(5*len(model_names), 3*len(supervised_metrics)), sharey=True)\n",
    "for mo, (model_dir, model_name) in enumerate(zip(model_dirs, model_names)):\n",
    "    df = model_dfs[model_name]\n",
    "    for me, metric in enumerate(supervised_metrics):\n",
    "        df_metric = df[df.tag == metric]\n",
    "        # Plot trace\n",
    "        axs[me, mo].plot(df_metric.step, df_metric.value)\n",
    "        # Remove upper and right boundary\n",
    "        axs[me, mo].spines['top'].set_visible(False)\n",
    "        axs[me, mo].spines['right'].set_visible(False)\n",
    "        if me == 0:\n",
    "            axs[me, mo].set_title(model_name)\n",
    "        if me == len(supervised_metrics) - 1:\n",
    "            axs[me, mo].set_xlabel(\"step\")\n",
    "        if mo == 0:\n",
    "            axs[me, mo].set_ylabel(metric)\n",
    "\n",
    "# Adjust layout to prevent overlap\n",
    "plt.tight_layout()\n",
    "\n",
    "# Save the figure\n",
    "plt.savefig(os.path.join(save_dir, \"supervised_loss.png\"))\n"
   ]
  },
  {
   "cell_type": "code",
   "execution_count": null,
   "metadata": {},
   "outputs": [],
   "source": [
    "# Unsupervised_metrics\n",
    "fig, axs = plt.subplots(len(unsupervised_metrics), len(model_names), figsize=(5*len(model_names), 3*len(unsupervised_metrics)))\n",
    "for mo, (model_dir, model_name) in enumerate(zip(model_dirs, model_names)):\n",
    "    df = model_dfs[model_name]\n",
    "    for me, metric in enumerate(unsupervised_metrics):\n",
    "        # Check if the current model has this metric\n",
    "        if sum(df.tag == metric) > 0:\n",
    "            # Access metric data\n",
    "            df_metric = df[df.tag == metric]\n",
    "            # Plot trace\n",
    "            axs[me, mo].plot(df_metric.step, df_metric.value)\n",
    "        else:\n",
    "            axs[me, mo].text(0.4, 0.5, 'Not available', fontsize=12, color='black')\n",
    "        # Remove upper and right boundary\n",
    "        axs[me, mo].spines['top'].set_visible(False)\n",
    "        axs[me, mo].spines['right'].set_visible(False)\n",
    "        if me == 0:\n",
    "            axs[me, mo].set_title(model_name)\n",
    "        if me == len(unsupervised_metrics) - 1:\n",
    "            axs[me, mo].set_xlabel(\"step\")\n",
    "        if mo == 0:\n",
    "            axs[me, mo].set_ylabel(metric)\n",
    "\n",
    "# Adjust layout to prevent overlap\n",
    "plt.tight_layout()\n",
    "\n",
    "# Save the figure\n",
    "plt.savefig(os.path.join(save_dir, \"unsupervised_loss.png\"))"
   ]
  },
  {
   "cell_type": "code",
   "execution_count": null,
   "metadata": {},
   "outputs": [],
   "source": [
    "# Total_metrics\n",
    "fig, axs = plt.subplots(len(total_metrics), len(model_names), figsize=(5*len(model_names), 3*len(total_metrics)))\n",
    "for mo, (model_dir, model_name) in enumerate(zip(model_dirs, model_names)):\n",
    "    df = model_dfs[model_name]\n",
    "    for me, metric in enumerate(total_metrics):\n",
    "        # Check if the current model has this metric\n",
    "        if sum(df.tag == metric) > 0:\n",
    "            # Access metric data\n",
    "            df_metric = df[df.tag == metric]\n",
    "            # Plot trace\n",
    "            axs[mo].plot(df_metric.step, df_metric.value)\n",
    "        else:\n",
    "            axs[mo].text(0.4, 0.5, 'Not available', fontsize=12, color='black')\n",
    "        # Remove upper and right boundary\n",
    "        axs[mo].spines['top'].set_visible(False)\n",
    "        axs[mo].spines['right'].set_visible(False)\n",
    "        if me == 0:\n",
    "            axs[mo].set_title(model_name)\n",
    "        if me == len(unsupervised_metrics) - 1:\n",
    "            axs[mo].set_xlabel(\"step\")\n",
    "        if mo == 0:\n",
    "            axs[mo].set_ylabel(metric)\n",
    "\n",
    "# Adjust layout to prevent overlap\n",
    "plt.tight_layout()\n",
    "\n",
    "# Save the figure\n",
    "plt.savefig(os.path.join(save_dir, \"total_loss.png\"))"
   ]
  },
  {
   "cell_type": "code",
   "execution_count": null,
   "metadata": {},
   "outputs": [],
   "source": []
  }
 ],
 "metadata": {
  "kernelspec": {
   "display_name": "litpose",
   "language": "python",
   "name": "python3"
  },
  "language_info": {
   "codemirror_mode": {
    "name": "ipython",
    "version": 3
   },
   "file_extension": ".py",
   "mimetype": "text/x-python",
   "name": "python",
   "nbconvert_exporter": "python",
   "pygments_lexer": "ipython3",
   "version": "3.10.14"
  }
 },
 "nbformat": 4,
 "nbformat_minor": 2
}
