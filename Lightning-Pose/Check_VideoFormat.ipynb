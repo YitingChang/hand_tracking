{
 "cells": [
  {
   "cell_type": "code",
   "execution_count": 1,
   "id": "1ef06ffe-f57b-4008-915d-b294a2fadbc9",
   "metadata": {},
   "outputs": [],
   "source": [
    "import subprocess\n",
    "\n",
    "def check_codec_format(input_file: str) -> bool:\n",
    "    \"\"\"Run FFprobe command to get video codec and pixel format.\"\"\"\n",
    "    ffmpeg_cmd = f'ffmpeg -i {input_file}'\n",
    "    output_str = subprocess.run(ffmpeg_cmd, shell=True, capture_output=True, text=True)\n",
    "    # stderr because the ffmpeg command has no output file, but the stderr still has codec info.\n",
    "    output_str = output_str.stderr\n",
    "    # search for correct codec (h264) and pixel format (yuv420p)\n",
    "    if output_str.find('h264') != -1 and output_str.find('yuv420p') != -1:\n",
    "        # print('Video uses H.264 codec')\n",
    "        is_correct_format = True\n",
    "    else:\n",
    "        is_correct_format = False\n",
    "    return is_correct_format"
   ]
  },
  {
   "cell_type": "code",
   "execution_count": 2,
   "id": "df06d7ef-553c-4ee7-9162-7556f20eff1c",
   "metadata": {},
   "outputs": [
    {
     "data": {
      "text/plain": [
       "False"
      ]
     },
     "execution_count": 2,
     "metadata": {},
     "output_type": "execute_result"
    }
   ],
   "source": [
    "check_codec_format('/home/yiting/Documents/LP_projects/LP_fused_2cam-Yiting-2024-01-12/videos/camTo_camBL.mp4')"
   ]
  },
  {
   "cell_type": "code",
   "execution_count": 3,
   "id": "558f681d-4587-4804-9839-5cac99d9de72",
   "metadata": {},
   "outputs": [],
   "source": [
    "import os\n",
    "import subprocess\n",
    "\n",
    "def reencode_video(input_file: str, output_file: str) -> None:\n",
    "    \"\"\"reencodes video into H.264 coded format using ffmpeg from a subprocess.\n",
    "\n",
    "    Args:\n",
    "        input_file: abspath to existing video\n",
    "        output_file: abspath to to new video\n",
    "\n",
    "    \"\"\"\n",
    "    # check input file exists\n",
    "    assert os.path.isfile(input_file), \"input video does not exist.\"\n",
    "    # check directory for saving outputs exists\n",
    "    os.makedirs(os.path.dirname(output_file), exist_ok=True)\n",
    "    ffmpeg_cmd = f'ffmpeg -i {input_file} -c:v libx264 -pix_fmt yuv420p -c:a copy -y {output_file}'\n",
    "    subprocess.run(ffmpeg_cmd, shell=True)"
   ]
  },
  {
   "cell_type": "code",
   "execution_count": 4,
   "id": "4fa54dfb-486f-4ad8-aa08-c02f8e48bd2e",
   "metadata": {},
   "outputs": [
    {
     "name": "stderr",
     "output_type": "stream",
     "text": [
      "ffmpeg version 4.2.7-0ubuntu0.1 Copyright (c) 2000-2022 the FFmpeg developers\n",
      "  built with gcc 9 (Ubuntu 9.4.0-1ubuntu1~20.04.1)\n",
      "  configuration: --prefix=/usr --extra-version=0ubuntu0.1 --toolchain=hardened --libdir=/usr/lib/x86_64-linux-gnu --incdir=/usr/include/x86_64-linux-gnu --arch=amd64 --enable-gpl --disable-stripping --enable-avresample --disable-filter=resample --enable-avisynth --enable-gnutls --enable-ladspa --enable-libaom --enable-libass --enable-libbluray --enable-libbs2b --enable-libcaca --enable-libcdio --enable-libcodec2 --enable-libflite --enable-libfontconfig --enable-libfreetype --enable-libfribidi --enable-libgme --enable-libgsm --enable-libjack --enable-libmp3lame --enable-libmysofa --enable-libopenjpeg --enable-libopenmpt --enable-libopus --enable-libpulse --enable-librsvg --enable-librubberband --enable-libshine --enable-libsnappy --enable-libsoxr --enable-libspeex --enable-libssh --enable-libtheora --enable-libtwolame --enable-libvidstab --enable-libvorbis --enable-libvpx --enable-libwavpack --enable-libwebp --enable-libx265 --enable-libxml2 --enable-libxvid --enable-libzmq --enable-libzvbi --enable-lv2 --enable-omx --enable-openal --enable-opencl --enable-opengl --enable-sdl2 --enable-libdc1394 --enable-libdrm --enable-libiec61883 --enable-nvenc --enable-chromaprint --enable-frei0r --enable-libx264 --enable-shared\n",
      "  WARNING: library configuration mismatch\n",
      "  avcodec     configuration: --prefix=/usr --extra-version=0ubuntu0.1 --toolchain=hardened --libdir=/usr/lib/x86_64-linux-gnu --incdir=/usr/include/x86_64-linux-gnu --arch=amd64 --enable-gpl --disable-stripping --enable-avresample --disable-filter=resample --enable-avisynth --enable-gnutls --enable-ladspa --enable-libaom --enable-libass --enable-libbluray --enable-libbs2b --enable-libcaca --enable-libcdio --enable-libcodec2 --enable-libflite --enable-libfontconfig --enable-libfreetype --enable-libfribidi --enable-libgme --enable-libgsm --enable-libjack --enable-libmp3lame --enable-libmysofa --enable-libopenjpeg --enable-libopenmpt --enable-libopus --enable-libpulse --enable-librsvg --enable-librubberband --enable-libshine --enable-libsnappy --enable-libsoxr --enable-libspeex --enable-libssh --enable-libtheora --enable-libtwolame --enable-libvidstab --enable-libvorbis --enable-libvpx --enable-libwavpack --enable-libwebp --enable-libx265 --enable-libxml2 --enable-libxvid --enable-libzmq --enable-libzvbi --enable-lv2 --enable-omx --enable-openal --enable-opencl --enable-opengl --enable-sdl2 --enable-libdc1394 --enable-libdrm --enable-libiec61883 --enable-nvenc --enable-chromaprint --enable-frei0r --enable-libx264 --enable-shared --enable-version3 --disable-doc --disable-programs --enable-libaribb24 --enable-liblensfun --enable-libopencore_amrnb --enable-libopencore_amrwb --enable-libtesseract --enable-libvo_amrwbenc\n",
      "  libavutil      56. 31.100 / 56. 31.100\n",
      "  libavcodec     58. 54.100 / 58. 54.100\n",
      "  libavformat    58. 29.100 / 58. 29.100\n",
      "  libavdevice    58.  8.100 / 58.  8.100\n",
      "  libavfilter     7. 57.100 /  7. 57.100\n",
      "  libavresample   4.  0.  0 /  4.  0.  0\n",
      "  libswscale      5.  5.100 /  5.  5.100\n",
      "  libswresample   3.  5.100 /  3.  5.100\n",
      "  libpostproc    55.  5.100 / 55.  5.100\n",
      "Input #0, mov,mp4,m4a,3gp,3g2,mj2, from '/home/yiting/Documents/LP_projects/LP_fused_2cam-Yiting-2024-01-12/videos/camTo_camBL.mp4':\n",
      "  Metadata:\n",
      "    major_brand     : isom\n",
      "    minor_version   : 512\n",
      "    compatible_brands: isomiso2mp41\n",
      "    encoder         : Lavf58.76.100\n",
      "  Duration: 00:00:21.94, start: 0.000000, bitrate: 132341 kb/s\n",
      "    Stream #0:0(und): Video: mpeg4 (Simple Profile) (mp4v / 0x7634706D), yuv420p, 1920x960 [SAR 1:1 DAR 2:1], 132336 kb/s, 100 fps, 100 tbr, 12800 tbn, 100 tbc (default)\n",
      "    Metadata:\n",
      "      handler_name    : VideoHandler\n",
      "Stream mapping:\n",
      "  Stream #0:0 -> #0:0 (mpeg4 (native) -> h264 (libx264))\n",
      "Press [q] to stop, [?] for help\n",
      "[libx264 @ 0x55999e8e78c0] using SAR=1/1\n",
      "[libx264 @ 0x55999e8e78c0] using cpu capabilities: MMX2 SSE2Fast SSSE3 SSE4.2 AVX FMA3 BMI2 AVX2\n",
      "[libx264 @ 0x55999e8e78c0] profile High, level 5.1\n",
      "[libx264 @ 0x55999e8e78c0] 264 - core 155 r2917 0a84d98 - H.264/MPEG-4 AVC codec - Copyleft 2003-2018 - http://www.videolan.org/x264.html - options: cabac=1 ref=3 deblock=1:0:0 analyse=0x3:0x113 me=hex subme=7 psy=1 psy_rd=1.00:0.00 mixed_ref=1 me_range=16 chroma_me=1 trellis=1 8x8dct=1 cqm=0 deadzone=21,11 fast_pskip=1 chroma_qp_offset=-2 threads=30 lookahead_threads=5 sliced_threads=0 nr=0 decimate=1 interlaced=0 bluray_compat=0 constrained_intra=0 bframes=3 b_pyramid=2 b_adapt=1 b_bias=0 direct=1 weightb=1 open_gop=0 weightp=2 keyint=250 keyint_min=25 scenecut=40 intra_refresh=0 rc_lookahead=40 rc=crf mbtree=1 crf=23.0 qcomp=0.60 qpmin=0 qpmax=69 qpstep=4 ip_ratio=1.40 aq=1:1.00\n",
      "Output #0, mp4, to '/home/yiting/Documents/LP_projects/LP_fused_2cam-Yiting-2024-01-12/videos_checked/camTo_camBL.mp4':\n",
      "  Metadata:\n",
      "    major_brand     : isom\n",
      "    minor_version   : 512\n",
      "    compatible_brands: isomiso2mp41\n",
      "    encoder         : Lavf58.29.100\n",
      "    Stream #0:0(und): Video: h264 (libx264) (avc1 / 0x31637661), yuv420p, 1920x960 [SAR 1:1 DAR 2:1], q=-1--1, 100 fps, 12800 tbn, 100 tbc (default)\n",
      "    Metadata:\n",
      "      handler_name    : VideoHandler\n",
      "      encoder         : Lavc58.54.100 libx264\n",
      "    Side data:\n",
      "      cpb: bitrate max/min/avg: 0/0/0 buffer size: 0 vbv_delay: -1\n",
      "frame= 2194 fps=277 q=-1.0 Lsize=    6081kB time=00:00:21.91 bitrate=2273.8kbits/s speed=2.77x    \n",
      "video:6055kB audio:0kB subtitle:0kB other streams:0kB global headers:0kB muxing overhead: 0.438303%\n",
      "[libx264 @ 0x55999e8e78c0] frame I:18    Avg QP:26.17  size: 55598\n",
      "[libx264 @ 0x55999e8e78c0] frame P:551   Avg QP:29.09  size:  4441\n",
      "[libx264 @ 0x55999e8e78c0] frame B:1625  Avg QP:30.76  size:  1693\n",
      "[libx264 @ 0x55999e8e78c0] consecutive B-frames:  1.0%  0.0%  2.2% 96.8%\n",
      "[libx264 @ 0x55999e8e78c0] mb I  I16..4:  7.9% 90.6%  1.5%\n",
      "[libx264 @ 0x55999e8e78c0] mb P  I16..4:  0.7%  1.8%  0.1%  P16..4: 11.5%  1.3%  0.8%  0.0%  0.0%    skip:83.8%\n",
      "[libx264 @ 0x55999e8e78c0] mb B  I16..4:  0.0%  0.1%  0.0%  B16..8: 15.3%  0.2%  0.0%  direct: 0.1%  skip:84.2%  L0:51.3% L1:48.2% BI: 0.6%\n",
      "[libx264 @ 0x55999e8e78c0] 8x8 transform intra:80.7% inter:91.1%\n",
      "[libx264 @ 0x55999e8e78c0] coded y,uvDC,uvAC intra: 47.1% 0.0% 0.0% inter: 1.8% 0.0% 0.0%\n",
      "[libx264 @ 0x55999e8e78c0] i16 v,h,dc,p: 36% 20% 25% 19%\n",
      "[libx264 @ 0x55999e8e78c0] i8 v,h,dc,ddl,ddr,vr,hd,vl,hu: 18% 13% 51%  3%  2%  2%  3%  3%  4%\n",
      "[libx264 @ 0x55999e8e78c0] i4 v,h,dc,ddl,ddr,vr,hd,vl,hu: 22% 15% 18%  8%  9%  9%  8%  6%  5%\n",
      "[libx264 @ 0x55999e8e78c0] i8c dc,h,v,p: 100%  0%  0%  0%\n",
      "[libx264 @ 0x55999e8e78c0] Weighted P-Frames: Y:0.0% UV:0.0%\n",
      "[libx264 @ 0x55999e8e78c0] ref P L0: 60.4% 16.9% 18.6%  4.1%\n",
      "[libx264 @ 0x55999e8e78c0] ref B L0: 81.1% 16.7%  2.2%\n",
      "[libx264 @ 0x55999e8e78c0] ref B L1: 94.4%  5.6%\n",
      "[libx264 @ 0x55999e8e78c0] kb/s:2260.56\n"
     ]
    }
   ],
   "source": [
    "reencode_video('/home/yiting/Documents/LP_projects/LP_fused_2cam-Yiting-2024-01-12/videos/camTo_camBL.mp4',\n",
    "               '/home/yiting/Documents/LP_projects/LP_fused_2cam-Yiting-2024-01-12/videos_checked/camTo_camBL.mp4')"
   ]
  },
  {
   "cell_type": "code",
   "execution_count": 5,
   "id": "6c217f7f-4d42-40bf-874e-5172049683c1",
   "metadata": {},
   "outputs": [
    {
     "data": {
      "text/plain": [
       "True"
      ]
     },
     "execution_count": 5,
     "metadata": {},
     "output_type": "execute_result"
    }
   ],
   "source": [
    "check_codec_format('/home/yiting/Documents/LP_projects/LP_fused_2cam-Yiting-2024-01-12/videos_checked/camTo_camBL.mp4')"
   ]
  },
  {
   "cell_type": "code",
   "execution_count": null,
   "id": "a161729b-5b6a-4f82-8416-d3c7ae64d7c0",
   "metadata": {},
   "outputs": [],
   "source": []
  }
 ],
 "metadata": {
  "kernelspec": {
   "display_name": "ltg_pose",
   "language": "python",
   "name": "python3"
  },
  "language_info": {
   "codemirror_mode": {
    "name": "ipython",
    "version": 3
   },
   "file_extension": ".py",
   "mimetype": "text/x-python",
   "name": "python",
   "nbconvert_exporter": "python",
   "pygments_lexer": "ipython3",
   "version": "3.8.18"
  }
 },
 "nbformat": 4,
 "nbformat_minor": 5
}
