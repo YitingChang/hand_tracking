{
 "cells": [
  {
   "cell_type": "code",
   "execution_count": 1,
   "metadata": {},
   "outputs": [],
   "source": [
    "import os\n",
    "import cv2\n",
    "import numpy as np"
   ]
  },
  {
   "cell_type": "code",
   "execution_count": 15,
   "metadata": {},
   "outputs": [],
   "source": [
    "# Single view project\n",
    "base_dir = r'/home/yiting/Documents/LP_projects/LP_240719'\n",
    "videos = os.listdir(os.path.join(base_dir, \"videos\"))\n",
    "context_range = [-2, 2]\n",
    "for v in videos:\n",
    "    video = cv2.VideoCapture(os.path.join(base_dir, \"videos\", v))\n",
    "    frame_folder = os.path.join(base_dir, \"labeled-data\", v[:len(v)-4])\n",
    "    frame_idxs = [\n",
    "        int(f[3:len(f)-4])\n",
    "        for f in os.listdir(frame_folder)\n",
    "        if f.endswith('.png')\n",
    "    ]\n",
    "\n",
    "    # Get context frames\n",
    "    for fr_idx in frame_idxs:\n",
    "        fr_con = np.arange(fr_idx + context_range[0], fr_idx + context_range[1] + 1)\n",
    "        for i in fr_con:\n",
    "            video.set(cv2.CAP_PROP_POS_FRAMES, i)\n",
    "            ret, frame = video.read()\n",
    "            img_save_path = os.path.join(frame_folder, 'img' + format(i,'04d') + '.png')\n",
    "            cv2.imwrite(img_save_path, frame)\n",
    "\n",
    "    "
   ]
  },
  {
   "cell_type": "code",
   "execution_count": 3,
   "metadata": {},
   "outputs": [],
   "source": [
    "# Multiple view project\n",
    "lp_dir = r'/home/yiting/Documents/LP_projects/LP_240719'\n",
    "context_range = [-2, 2]\n",
    "videos = os.listdir(os.path.join(lp_dir, \"videos\"))\n",
    "for v in videos:\n",
    "    video = cv2.VideoCapture(os.path.join(lp_dir, \"videos\", v))\n",
    "    root, ext = os.path.splitext(v)\n",
    "    vidname_parts = root.split('_')\n",
    "    trial_name = vidname_parts[0] \n",
    "    view_name = vidname_parts[1]\n",
    "    frame_folder = os.path.join(lp_dir, \"labeled-data\", trial_name, view_name)\n",
    "    frame_idxs = [\n",
    "        int(f[3:len(f)-4])\n",
    "        for f in os.listdir(frame_folder)\n",
    "        if f.endswith('.png')\n",
    "    ]\n",
    "    # Get context frames\n",
    "    for fr_idx in frame_idxs:\n",
    "        fr_con = np.arange(fr_idx + context_range[0], fr_idx + context_range[1] + 1)\n",
    "        for i in fr_con:\n",
    "            video.set(cv2.CAP_PROP_POS_FRAMES, i)\n",
    "            ret, frame = video.read()\n",
    "            img_save_path = os.path.join(frame_folder, 'img' + format(i,'04d') + '.png')\n",
    "            cv2.imwrite(img_save_path, frame)\n"
   ]
  }
 ],
 "metadata": {
  "kernelspec": {
   "display_name": "lgt-pose",
   "language": "python",
   "name": "python3"
  },
  "language_info": {
   "codemirror_mode": {
    "name": "ipython",
    "version": 3
   },
   "file_extension": ".py",
   "mimetype": "text/x-python",
   "name": "python",
   "nbconvert_exporter": "python",
   "pygments_lexer": "ipython3",
   "version": "3.10.14"
  }
 },
 "nbformat": 4,
 "nbformat_minor": 2
}
