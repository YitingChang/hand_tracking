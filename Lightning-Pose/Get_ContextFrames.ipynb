{
 "cells": [
  {
   "cell_type": "code",
   "execution_count": 2,
   "metadata": {},
   "outputs": [],
   "source": [
    "import os\n",
    "import cv2\n",
    "import numpy as np"
   ]
  },
  {
   "cell_type": "code",
   "execution_count": 3,
   "metadata": {},
   "outputs": [],
   "source": [
    "base_dir = r'/home/yiting/Documents/LP_projects/LP_fused_2cam-Yiting-2024-01-12'\n",
    "video = cv2.VideoCapture(os.path.join(base_dir, 'videos', 'camTo_camBL.mp4'))\n",
    "old_path = os.path.join(base_dir, 'labeled-data', 'camTo_camBL') \n",
    "new_path = os.path.join(base_dir, 'labeled-data', 'camTo_camBL_new')\n",
    "frame_idxs = [\n",
    "        int(f[3:7])\n",
    "        for f in os.listdir(old_path)\n",
    "        if f.endswith('.png')\n",
    "    ]"
   ]
  },
  {
   "cell_type": "code",
   "execution_count": 4,
   "metadata": {},
   "outputs": [],
   "source": [
    "# Get context frames\n",
    "context_range = [-2, 2]\n",
    "for fr_idx in frame_idxs:\n",
    "    fr_con = np.arange(fr_idx + context_range[0], fr_idx + context_range[1] + 1)\n",
    "    for i in fr_con:\n",
    "        video.set(cv2.CAP_PROP_POS_FRAMES, i)\n",
    "        ret, frame = video.read()\n",
    "        img_save_path = os.path.join(new_path, 'img' + format(i, '04d') + '.png')\n",
    "        cv2.imwrite(img_save_path, frame)"
   ]
  }
 ],
 "metadata": {
  "kernelspec": {
   "display_name": "ltg_pose",
   "language": "python",
   "name": "python3"
  },
  "language_info": {
   "codemirror_mode": {
    "name": "ipython",
    "version": 3
   },
   "file_extension": ".py",
   "mimetype": "text/x-python",
   "name": "python",
   "nbconvert_exporter": "python",
   "pygments_lexer": "ipython3",
   "version": "3.8.18"
  }
 },
 "nbformat": 4,
 "nbformat_minor": 2
}
