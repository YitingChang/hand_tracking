{
 "cells": [
  {
   "cell_type": "code",
   "execution_count": 4,
   "metadata": {},
   "outputs": [],
   "source": [
    "import os\n",
    "import cv2\n",
    "import numpy as np"
   ]
  },
  {
   "cell_type": "code",
   "execution_count": 15,
   "metadata": {},
   "outputs": [],
   "source": [
    "base_dir = r'/home/yiting/Documents/LP_projects/LP_240120'\n",
    "videos = os.listdir(os.path.join(base_dir, \"videos\"))\n",
    "context_range = [-2, 2]\n",
    "for v in videos:\n",
    "    video = cv2.VideoCapture(os.path.join(base_dir, \"videos\", v))\n",
    "    frame_folder = os.path.join(base_dir, \"labeled-data\", v[:len(v)-4])\n",
    "    frame_idxs = [\n",
    "        int(f[3:len(f)-4])\n",
    "        for f in os.listdir(frame_folder)\n",
    "        if f.endswith('.png')\n",
    "    ]\n",
    "\n",
    "    # Get context frames\n",
    "    for fr_idx in frame_idxs:\n",
    "        fr_con = np.arange(fr_idx + context_range[0], fr_idx + context_range[1] + 1)\n",
    "        for i in fr_con:\n",
    "            video.set(cv2.CAP_PROP_POS_FRAMES, i)\n",
    "            ret, frame = video.read()\n",
    "            img_save_path = os.path.join(frame_folder, 'img' + format(i,'04d') + '.png')\n",
    "            cv2.imwrite(img_save_path, frame)\n",
    "\n",
    "    "
   ]
  },
  {
   "cell_type": "code",
   "execution_count": null,
   "metadata": {},
   "outputs": [],
   "source": []
  }
 ],
 "metadata": {
  "kernelspec": {
   "display_name": "ltg_pose",
   "language": "python",
   "name": "python3"
  },
  "language_info": {
   "codemirror_mode": {
    "name": "ipython",
    "version": 3
   },
   "file_extension": ".py",
   "mimetype": "text/x-python",
   "name": "python",
   "nbconvert_exporter": "python",
   "pygments_lexer": "ipython3",
   "version": "3.8.18"
  }
 },
 "nbformat": 4,
 "nbformat_minor": 2
}
