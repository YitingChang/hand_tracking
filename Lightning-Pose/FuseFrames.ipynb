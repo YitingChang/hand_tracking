{
 "cells": [
  {
   "cell_type": "code",
   "execution_count": null,
   "id": "d4ba4fbe",
   "metadata": {},
   "outputs": [],
   "source": [
    "# As of 01/12/2024, the current Lightening Pose package only supports mirrored or fused frames \n",
    "# for the multiview consistency loss.\n",
    "# To try this feature, I fuse frames from multiple synchronized cameras.\n",
    "#\n",
    "# https://lightning-pose.readthedocs.io/en/latest/source/user_guide_advanced/multiview_fused.html"
   ]
  },
  {
   "cell_type": "code",
   "execution_count": 44,
   "id": "e2a86b26",
   "metadata": {},
   "outputs": [],
   "source": [
    "# Combine images side by side\n",
    "import cv2\n",
    "import os\n",
    "import numpy as np\n",
    "\n",
    "frame_rate = 100\n",
    "\n",
    "# Get the folder for videos\n",
    "image_path_trial = r'E:\\Hand_tracking\\Recordings\\Images\\2023-11-21\\2023-11-21_10-29-36_549786'\n",
    "\n",
    "# Load the images\n",
    "image_folder1 = os.path.join(image_path_trial, 'camTo')\n",
    "image_folder2 = os.path.join(image_path_trial, 'camBL')\n",
    "            \n",
    "image_names1 = [img for img in os.listdir(image_folder1) if img.endswith(\".bmp\")]\n",
    "image_names2 = [img for img in os.listdir(image_folder2) if img.endswith(\".bmp\")]\n",
    "\n",
    "# Get the image size \n",
    "frame = cv2.imread(os.path.join(image_folder1, image_names1[0]))\n",
    "height, width, layers = frame.shape\n",
    "\n",
    "\n",
    "# Initiate a video for combined images\n",
    "video_save_path = r'E:\\Hand_tracking\\Recordings\\FusedVideos\\2023-11-21\\2023-11-21_10-29-36_549786\\camTo_camBL.mp4'\n",
    "video = cv2.VideoWriter(video_save_path,  \n",
    "                fourcc = cv2.VideoWriter_fourcc(*'mp4v'), \n",
    "                fps=frame_rate,                                       \n",
    "                frameSize=(width*2, height)) # combine them horizontally: width*2\n",
    "\n",
    "for index, (image_name1, image_name2) in enumerate(zip(image_names1, image_names2)): \n",
    "    image1 = cv2.imread(os.path.join(image_folder1, image_name1))\n",
    "    image2 = cv2.imread(os.path.join(image_folder2, image_name2))\n",
    "\n",
    "    # Concatenate images horizontally\n",
    "    combined_image = np.concatenate((image1, image2), axis=1)\n",
    "    \n",
    "    # Write the combined image to the video\n",
    "    video.write(combined_image)\n",
    "    \n",
    "cv2.destroyAllWindows()    \n",
    "video.release()"
   ]
  },
  {
   "cell_type": "code",
   "execution_count": null,
   "id": "1e351b6e",
   "metadata": {},
   "outputs": [],
   "source": [
    "\n"
   ]
  }
 ],
 "metadata": {
  "kernelspec": {
   "display_name": "Python [conda env:DEEPLABCUT] *",
   "language": "python",
   "name": "conda-env-DEEPLABCUT-py"
  },
  "language_info": {
   "codemirror_mode": {
    "name": "ipython",
    "version": 3
   },
   "file_extension": ".py",
   "mimetype": "text/x-python",
   "name": "python",
   "nbconvert_exporter": "python",
   "pygments_lexer": "ipython3",
   "version": "3.8.17"
  }
 },
 "nbformat": 4,
 "nbformat_minor": 5
}
