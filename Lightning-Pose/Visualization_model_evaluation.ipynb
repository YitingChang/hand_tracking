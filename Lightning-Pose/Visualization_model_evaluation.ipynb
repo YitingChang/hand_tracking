{
 "cells": [
  {
   "cell_type": "markdown",
   "metadata": {},
   "source": [
    "# Model evaluation "
   ]
  },
  {
   "cell_type": "markdown",
   "metadata": {},
   "source": [
    "## Setup"
   ]
  },
  {
   "cell_type": "code",
   "execution_count": 1,
   "metadata": {},
   "outputs": [],
   "source": [
    "import os\n",
    "from collections import defaultdict\n",
    "import pandas as pd\n",
    "from matplotlib import pyplot as plt \n",
    "import seaborn as sns\n",
    "from omegaconf import DictConfig, OmegaConf\n",
    "\n",
    "\n",
    "output_dir = r\"/home/yiting/Documents/GitHub/lightning-pose/outputs\"\n",
    "# Pose PCA loss\n",
    "model_dirs = [\"2024-08-12/18-04-44\", \"2024-08-09/15-12-36\"]\n",
    "model_names = [\"no_pose_pca\", \"pose_pca\"]\n",
    "# model_dir = r\"2024-08-09/15-12-36\"\n",
    "# model_name = \"PosePCA\"\n",
    "save_dir = r\"/home/yiting/Documents/LP_projects/model_eval/pose_pca_loss\"\n"
   ]
  },
  {
   "cell_type": "markdown",
   "metadata": {},
   "source": [
    "### Preparation for multiview datasets (optional)"
   ]
  },
  {
   "cell_type": "code",
   "execution_count": null,
   "metadata": {},
   "outputs": [],
   "source": [
    "# Concatenate data across camera views\n",
    "\n",
    "# Get view names\n",
    "view_names = cfg.data.view_names\n",
    "df_all = pd.DataFrame()\n",
    "for view in view_names:\n",
    "    file_path = os.path.join(output_dir, model_dir, \"predictions_\" + view +\".csv\")\n",
    "    df = pd.read_csv(file_path, header=[0, 1, 2], index_col=0)\n",
    "    df_all = pd.concat([df_all, df])\n",
    "df_all.to_csv(os.path.join(output_dir, model_dir, \"predictions.csv\"))\n",
    "\n",
    "df_error_all = pd.DataFrame()\n",
    "for view in view_names:\n",
    "    file_path = os.path.join(output_dir, model_dir, \"predictions_\" + view +\"_pixel_error.csv\")\n",
    "    df = pd.read_csv(file_path, index_col=0)\n",
    "    df_error_all = pd.concat([df_error_all, df])\n",
    "df_error_all.to_csv(os.path.join(output_dir, model_dir, \"predictions_pixel_error.csv\"))"
   ]
  },
  {
   "cell_type": "markdown",
   "metadata": {},
   "source": [
    "## Labeled Frame Diagnostics"
   ]
  },
  {
   "cell_type": "markdown",
   "metadata": {},
   "source": [
    "### Multipel model comparison"
   ]
  },
  {
   "cell_type": "code",
   "execution_count": 2,
   "metadata": {},
   "outputs": [],
   "source": [
    "# Load data \n",
    "dframes_metrics = defaultdict(dict)\n",
    "df_data_types = defaultdict(dict)\n",
    "for model_dir, model_name in zip(model_dirs, model_names):\n",
    "    # Load hydra configuration file\n",
    "    cfg = OmegaConf.load(os.path.join(output_dir, model_dir, \"config.yaml\"))\n",
    "    # Load prediction files\n",
    "    prediction_files_all = [filename for filename in os.listdir(os.path.join(output_dir,model_dir)) \n",
    "                    if filename.endswith('.csv')]\n",
    "    # Select predictions.csv and predictions_pixel_error.csv (removing camera view files)\n",
    "    prediction_files = [filename for filename in prediction_files_all if 'cam' not in str(filename)]\n",
    "    # Get keypoint names\n",
    "    keypoint_names = cfg.data.keypoint_names\n",
    "    # Load evaluation data\n",
    "    for model_pred_file in prediction_files:\n",
    "        model_pred_file_path = os.path.join(output_dir, model_dir, model_pred_file)\n",
    "        model_pred_file_name, ext = os.path.splitext(model_pred_file)\n",
    "        if \"pca\" in str(model_pred_file) or \"temporal\" in str(model_pred_file) or \"pixel\" in str(model_pred_file):\n",
    "            dframe = pd.read_csv(model_pred_file_path, index_col=None)\n",
    "            dframes_metrics[model_name][str(model_pred_file_name)] = dframe\n",
    "        else:\n",
    "            dframe = pd.read_csv(model_pred_file_path, header=[1, 2], index_col=0)\n",
    "            new_df = pd.DataFrame()\n",
    "            for kp in keypoint_names:\n",
    "                new_df[kp] = dframe[kp]['likelihood']\n",
    "            new_df['set'] = dframe.iloc[:,-1]\n",
    "            dframes_metrics[model_name][\"confidence\"] = new_df\n",
    "        df_data_types[model_name] = dframe.iloc[:, -1].unique()\n",
    "    "
   ]
  },
  {
   "cell_type": "code",
   "execution_count": null,
   "metadata": {},
   "outputs": [],
   "source": [
    "# Plot\n",
    "metric_names = dframes_metrics[model_names[0]].keys()\n",
    "data_types = df_data_types[model_names[0]]\n",
    "\n",
    "for me, metric in enumerate(metric_names):\n",
    "    fig, axs = plt.subplots(len(data_types), len(model_names), figsize=(5*len(model_names), 5*len(data_types)), sharey=True)\n",
    "    for mo, model_name in enumerate(model_names):\n",
    "        df = dframes_metrics[model_name][metric]\n",
    "        \n",
    "        for d, data_type in enumerate(data_types):\n",
    "            df_data_type = df[df['set'] == data_type]\n",
    "            sns.boxplot(data = df_data_type, ax=axs[d, mo])\n",
    "            # Setup title, labels, axes\n",
    "            axs[d, mo].spines['top'].set_visible(False)\n",
    "            axs[d, mo].spines['right'].set_visible(False)\n",
    "            axs[d, mo].tick_params(axis='x', rotation=45)  # Rotate x-tick labels\n",
    "            axs[d, mo].set_ylabel(data_type + \"\\n\" + metric)\n",
    "            axs[d, mo].set_ylim(0, 50)\n",
    "            if d == 0:\n",
    "                axs[d, mo].set_title(model_name)\n",
    "    # Adjust layout to prevent overlap\n",
    "    plt.tight_layout()\n",
    "\n",
    "    # Save the figure\n",
    "    plt.savefig(os.path.join(save_dir, model_name + \"_\" + metric + \".png\")) "
   ]
  },
  {
   "cell_type": "markdown",
   "metadata": {},
   "source": [
    "### Single model"
   ]
  },
  {
   "cell_type": "code",
   "execution_count": null,
   "metadata": {},
   "outputs": [],
   "source": [
    "prediction_files_all = [filename for filename in os.listdir(os.path.join(output_dir,model_dir)) \n",
    "                    if filename.endswith('.csv')]\n",
    "# Select predictions.csv and predictions_pixel_error.csv (removing camera view files)\n",
    "prediction_files = [filename for filename in prediction_files_all if 'cam' not in str(filename)]\n",
    "# Get keypoint names\n",
    "keypoint_names = cfg.data.keypoint_names\n",
    "# Load evaluation data\n",
    "dframes_metrics = defaultdict(dict)\n",
    "for model_pred_file in prediction_files:\n",
    "    model_pred_file_path = os.path.join(output_dir, model_dir, model_pred_file)\n",
    "    model_pred_file_name, ext = os.path.splitext(model_pred_file)\n",
    "    if \"pca\" in str(model_pred_file) or \"temporal\" in str(model_pred_file) or \"pixel\" in str(model_pred_file):\n",
    "        dframe = pd.read_csv(model_pred_file_path, index_col=None)\n",
    "        dframes_metrics[str(model_pred_file_name)] = dframe\n",
    "    else:\n",
    "        dframe = pd.read_csv(model_pred_file_path, header=[1, 2], index_col=0)\n",
    "        new_df = pd.DataFrame()\n",
    "        for kp in keypoint_names:\n",
    "            new_df[kp] = dframe[kp]['likelihood']\n",
    "        new_df['set'] = dframe.iloc[:,-1]\n",
    "        dframes_metrics[\"confidence\"] = new_df\n",
    "    data_types = dframe.iloc[:, -1].unique()"
   ]
  },
  {
   "cell_type": "code",
   "execution_count": null,
   "metadata": {},
   "outputs": [],
   "source": [
    "def plot_metric_per_keypoint(df, metric, model_name, data_types):\n",
    "\n",
    "    fig, axs = plt.subplots(len(data_types), 1, figsize=(8, 5*len(data_types)))\n",
    "    for d, data_type in enumerate(data_types):\n",
    "        df_data_type = df[df['set'] == data_type]\n",
    "        sns.boxplot(data = df_data_type, ax=axs[d])\n",
    "        # Setup title, labels, axes\n",
    "        axs[d].spines['top'].set_visible(False)\n",
    "        axs[d].spines['right'].set_visible(False)\n",
    "        axs[d].set_ylabel(metric)\n",
    "        # axs[d].set_xlabel(\"keypoint\")\n",
    "        axs[d].tick_params(axis='x', rotation=45)  # Rotate x-tick labels\n",
    "        axs[d].set_title(data_type)\n",
    "        # axs[d].set_ylim()\n",
    "\n",
    "    # Add a super title\n",
    "    fig.suptitle(model_name, fontsize=16)\n",
    "\n",
    "    # Adjust layout\n",
    "    plt.tight_layout(rect=[0, 0, 1, 0.98])  # Adjust the rect to make room for the super title\n",
    "    \n",
    "    return fig, axs"
   ]
  },
  {
   "cell_type": "code",
   "execution_count": null,
   "metadata": {},
   "outputs": [],
   "source": [
    "\n",
    "\n"
   ]
  },
  {
   "cell_type": "code",
   "execution_count": null,
   "metadata": {},
   "outputs": [],
   "source": []
  }
 ],
 "metadata": {
  "kernelspec": {
   "display_name": "litpose",
   "language": "python",
   "name": "python3"
  },
  "language_info": {
   "codemirror_mode": {
    "name": "ipython",
    "version": 3
   },
   "file_extension": ".py",
   "mimetype": "text/x-python",
   "name": "python",
   "nbconvert_exporter": "python",
   "pygments_lexer": "ipython3",
   "version": "3.10.14"
  }
 },
 "nbformat": 4,
 "nbformat_minor": 2
}
