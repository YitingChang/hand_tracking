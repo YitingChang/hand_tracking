{
 "cells": [
  {
   "cell_type": "code",
   "execution_count": null,
   "metadata": {},
   "outputs": [],
   "source": [
    "# Data preparation for training Lightning Pose models\n",
    "# 1. Convert Jarvis labeled data to Lightning Pose labeled data \n",
    "# 2. Format videos\n",
    "# 3. Get context frames\n",
    "# "
   ]
  },
  {
   "cell_type": "code",
   "execution_count": null,
   "metadata": {},
   "outputs": [],
   "source": [
    "# Install packages later (Github/hand_tracking/utils/convert_videos)  \n",
    "import os\n",
    "import shutil\n",
    "import pandas as pd\n",
    "from utils.convert_videos import get_videos  # type: ignore\n",
    "from utils.jarvis2lp import J2LP_mulview, J2LP_sigview, get_labeledframes, get_contextframes  # type: ignore\n",
    "\n"
   ]
  },
  {
   "cell_type": "markdown",
   "metadata": {},
   "source": [
    "## Convert Jarvis labeled data to Lightning Pose labeled data"
   ]
  },
  {
   "cell_type": "code",
   "execution_count": null,
   "metadata": {},
   "outputs": [],
   "source": [
    "# Single-view project\n",
    "# session_name: YYYY-MM-DD\n",
    "# trial_name: YYYY-MM-DD_HH-MM-SS\n",
    "'''\n",
    "# Jarvis:\n",
    "annotations/dataset_name/\n",
    "                ├── trial1/\n",
    "                │   ├── camA/\n",
    "                │   │    ├── frame1.jpg\n",
    "                │   │    ├── frame2.jpg\n",
    "                │   │    └── annotations.csv\n",
    "                │   └── camB/\n",
    "                │        ├── frame1.jpg\n",
    "                │        ├── frame2.jpg\n",
    "                │        └── annotations.csv\n",
    "                └── trial2/\n",
    "                    ├── camA/\n",
    "                    │    ├── frame1.jpg\n",
    "                    │    ├── frame2.jpg\n",
    "                    │    └── annotations.csv\n",
    "                    └── camB/\n",
    "                         ├── frame1.jpg\n",
    "                         ├── frame2.jpg\n",
    "                         └── annotations.csv\n",
    "\n",
    "# Lightning Pose:\n",
    "project_name/\n",
    "    ├──CollectedData.csv\n",
    "    └──labeled-data/\n",
    "                ├── trial1/\n",
    "                │   ├── camA/\n",
    "                │   │    ├── frame1.jpg\n",
    "                │   │    └── frame2.jpg\n",
    "                │   └── camB/\n",
    "                │        ├── frame1.jpg\n",
    "                │        └── frame2.jpg\n",
    "                └── trial2/\n",
    "                    ├── camA/\n",
    "                    │    ├── frame1.jpg\n",
    "                    │    └── frame2.jpg\n",
    "                    └── camB/\n",
    "                         ├── frame1.jpg\n",
    "                         └── frame2.jpg\n",
    "'''"
   ]
  },
  {
   "cell_type": "code",
   "execution_count": null,
   "metadata": {},
   "outputs": [],
   "source": [
    "jarvis_dir = r'/home/yiting/Documents/Jarvis_projects/Datasets/annotations/6cam_dataset_231216' # path to the Jarivs labeled dataset \n",
    "lp_dir = r'/home/yiting/Documents/LP_projects/LP_240726' # path to the lp project\n",
    "\n",
    "# Convert Jarvis labeled data to Lightning Pose labeled data\n",
    "J2LP_sigview(jarvis_dir, lp_dir)\n",
    "\n",
    "# Copy labeled frames to the LP project folder\n",
    "get_labeledframes(jarvis_dir, lp_dir)\n",
    "\n",
    "# Check if frame paths are correct\n",
    "csv_file = os.path.join(lp_dir, \"CollectedData.csv\")\n",
    "df_all = pd.read_csv(csv_file, header = [0,1,2], index_col=0)\n",
    "for im in df_all.index:\n",
    "    assert os.path.exists(os.path.join(lp_dir, im))"
   ]
  },
  {
   "cell_type": "code",
   "execution_count": null,
   "metadata": {},
   "outputs": [],
   "source": [
    "# Multi-view project\n",
    "# session_name: YYYY-MM-DD\n",
    "# trial_name: YYYY-MM-DD_HH-MM-SS\n",
    "'''\n",
    "# Jarvis:\n",
    "annotations/dataset_name/\n",
    "                ├── trial1/\n",
    "                │   ├── camA/\n",
    "                │   │    ├── frame1.jpg\n",
    "                │   │    ├── frame2.jpg\n",
    "                │   │    └── annotations.csv\n",
    "                │   └── camB/\n",
    "                │        ├── frame1.jpg\n",
    "                │        ├── frame2.jpg\n",
    "                │        └── annotations.csv\n",
    "                └── trial2/\n",
    "                    ├── camA/\n",
    "                    │    ├── frame1.jpg\n",
    "                    │    ├── frame2.jpg\n",
    "                    │    └── annotations.csv\n",
    "                    └── camB/\n",
    "                         ├── frame1.jpg\n",
    "                         ├── frame2.jpg\n",
    "                         └── annotations.csv\n",
    "\n",
    "# Lightning Pose:\n",
    "project_name/\n",
    "    ├──camA.csv\n",
    "    ├──camB.csv\n",
    "    └──labeled-data/\n",
    "                ├── trial1/\n",
    "                │   ├── camA/\n",
    "                │   │    ├── frame1.jpg\n",
    "                │   │    └── frame2.jpg\n",
    "                │   └── camB/\n",
    "                │        ├── frame1.jpg\n",
    "                │        └── frame2.jpg\n",
    "                └── trial2/\n",
    "                    ├── camA/\n",
    "                    │    ├── frame1.jpg\n",
    "                    │    └── frame2.jpg\n",
    "                    └── camB/\n",
    "                         ├── frame1.jpg\n",
    "                         └── frame2.jpg\n",
    "'''"
   ]
  },
  {
   "cell_type": "code",
   "execution_count": null,
   "metadata": {},
   "outputs": [],
   "source": [
    "jarvis_dir = r'/home/yiting/Documents/Jarvis_projects/Datasets/annotations/6cam_dataset_231216' # path to the Jarivs labeled dataset \n",
    "lp_dir = r'/home/yiting/Documents/LP_projects/LP_240725' # path to the lp project\n",
    "\n",
    "# Convert Jarvis labeled data to Lightning Pose labeled data\n",
    "J2LP_mulview(jarvis_dir, lp_dir)\n",
    "# Copy labeled frames to the LP project folder\n",
    "get_labeledframes(jarvis_dir, lp_dir)\n",
    "\n",
    "# Check if frame paths are correct\n",
    "camera_csvs = [filename for filename in os.listdir(lp_dir) if filename.endswith('.csv')]\n",
    "for c in camera_csvs:\n",
    "    csv_file = os.path.join(lp_dir, c)\n",
    "    df_all = pd.read_csv(csv_file, header = [0,1,2], index_col=0)\n",
    "    for im in df_all.index:\n",
    "        assert os.path.exists(os.path.join(lp_dir, im))"
   ]
  },
  {
   "cell_type": "markdown",
   "metadata": {},
   "source": [
    "## Format, rename, organize videos"
   ]
  },
  {
   "cell_type": "code",
   "execution_count": null,
   "metadata": {},
   "outputs": [],
   "source": [
    "# Format, rename, organize videos\n",
    "\n",
    "# session_name: YYYY-MM-DD\n",
    "# trial_name: YYYY-MM-DD_HH-MM-SS\n",
    "'''\n",
    "Video Source:\n",
    "videos/session1/\n",
    "          ├── trial1/\n",
    "          │   └── camA.mp4\n",
    "          │   └── camB.mp4\n",
    "          └── trial2/\n",
    "              └── camA.mp4\n",
    "              └── camB.mp4\n",
    "Lightning Pose:\n",
    "project_name/videos/\n",
    "               ├── session1Ttrial1_camA.mp4\n",
    "               ├── session1Ttrial1_camB.mp4\n",
    "               ├── session1Ttrial2_camA.mp4\n",
    "               └── session1Ttrial2_camB.mp4\n",
    "'''\n"
   ]
  },
  {
   "cell_type": "code",
   "execution_count": null,
   "metadata": {},
   "outputs": [],
   "source": [
    "jarvis_dir = r'/home/yiting/Documents/Jarvis_projects/Datasets/annotations/6cam_dataset_231216' # path to the Jarivs labeled dataset \n",
    "lp_dir = r'/home/yiting/Documents/LP_projects/LP_240726' # path to the lp project\n",
    "src_vid_dir = r'/home/yiting/Documents/Data/Videos'\n",
    "get_videos(jarvis_dir, lp_dir, src_vid_dir)\n"
   ]
  },
  {
   "cell_type": "markdown",
   "metadata": {},
   "source": [
    "## Get context frames"
   ]
  },
  {
   "cell_type": "code",
   "execution_count": null,
   "metadata": {},
   "outputs": [],
   "source": [
    "# Get context frames \n",
    "'''\n",
    "project_name/labeled-data/\n",
    "                └── trial1/\n",
    "                    └── camA/\n",
    "                         └── frame10.jpg\n",
    "\n",
    "# context_range = [-2,2]:\n",
    "\n",
    "project_name/labeled-data/\n",
    "                └── trial1/\n",
    "                    └── camA/\n",
    "                        ├── frame08.jpg\n",
    "                        ├── frame09.jpg\n",
    "                        ├── frame10.jpg\n",
    "                        ├── frame11.jpg\n",
    "                        └── frame12.jpg\n",
    "'''"
   ]
  },
  {
   "cell_type": "code",
   "execution_count": null,
   "metadata": {},
   "outputs": [],
   "source": [
    "# Multi-view project\n",
    "lp_dir = r'/home/yiting/Documents/LP_projects/LP_240726' # path to the lp project\n",
    "context_range = [-2, 2]\n",
    "get_contextframes(lp_dir, context_range)\n"
   ]
  },
  {
   "cell_type": "code",
   "execution_count": null,
   "metadata": {},
   "outputs": [],
   "source": []
  },
  {
   "cell_type": "code",
   "execution_count": null,
   "metadata": {},
   "outputs": [],
   "source": []
  },
  {
   "cell_type": "code",
   "execution_count": null,
   "metadata": {},
   "outputs": [],
   "source": [
    "## Format, rename, organize videos for inference\n",
    "src_vid_dir = r'/home/yiting/Documents/LP_projects/New_videos'\n",
    "dst_vid_dir = r'/home/yiting/Documents/LP_projects/LP_240719/new_videos'\n",
    "trials = os.listdir(src_vid_dir)\n",
    "for t in trials:\n",
    "    cameras = os.listdir(os.path.join(src_vid_dir, t))\n",
    "    trialname_parts = t.split('_')\n",
    "    for c in cameras:\n",
    "        new_vid_name = trialname_parts[0] + 'T' + trialname_parts[1] + '_' + c\n",
    "        # Check video format and reencode video (if needed)\n",
    "        if check_codec_format(os.path.join(src_vid_dir, t, c)):\n",
    "            shutil.copy(os.path.join(src_vid_dir, t, c), os.path.join(dst_vid_dir, new_vid_name))\n",
    "        else:\n",
    "            reencode_video(os.path.join(src_vid_dir, t, c), os.path.join(dst_vid_dir, new_vid_name))"
   ]
  },
  {
   "cell_type": "code",
   "execution_count": null,
   "metadata": {},
   "outputs": [],
   "source": [
    "## "
   ]
  }
 ],
 "metadata": {
  "kernelspec": {
   "display_name": "litpose",
   "language": "python",
   "name": "python3"
  },
  "language_info": {
   "codemirror_mode": {
    "name": "ipython",
    "version": 3
   },
   "file_extension": ".py",
   "mimetype": "text/x-python",
   "name": "python",
   "nbconvert_exporter": "python",
   "pygments_lexer": "ipython3",
   "version": "3.10.14"
  }
 },
 "nbformat": 4,
 "nbformat_minor": 2
}
