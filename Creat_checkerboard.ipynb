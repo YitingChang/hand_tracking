{
 "cells": [
  {
   "cell_type": "code",
   "execution_count": null,
   "id": "55026409",
   "metadata": {},
   "outputs": [],
   "source": [
    "# The original function for creating checkerboard does not work for board dimension is an even number.\n",
    "# This notebook is to fix this bug. "
   ]
  },
  {
   "cell_type": "code",
   "execution_count": 37,
   "id": "e1149ad1-8bdd-49a3-9a4b-8c1861160db3",
   "metadata": {
    "tags": []
   },
   "outputs": [],
   "source": [
    "import ncams\n",
    "import os\n",
    "import time\n",
    "import numpy as np\n",
    "import cv2\n",
    "from glob import glob\n",
    "from PIL import Image\n",
    "import matplotlib.pyplot as mpl_pp\n"
   ]
  },
  {
   "cell_type": "code",
   "execution_count": 3,
   "id": "84cb0a57-2561-42b7-9d89-a8e586fd6b1e",
   "metadata": {
    "tags": []
   },
   "outputs": [],
   "source": [
    "BASE_DIR = r'C:\\Users\\Yiting\\YitingData\\Hand_tracking'\n",
    "session_dir = r'checkerboard_example'\n",
    "config_dir = os.path.join(BASE_DIR, session_dir)"
   ]
  },
  {
   "cell_type": "code",
   "execution_count": 29,
   "id": "60106db2-8cb0-4976-9811-eb2506de0395",
   "metadata": {
    "tags": []
   },
   "outputs": [],
   "source": [
    "ncams_config = {\n",
    "    # Camera information\n",
    "    'serials': [19472072, 19472089], #\n",
    "    'reference_camera_serial': 19472072,  # This is linked to how the cameras are hardwired\n",
    "    'image_size': (1200, 1920),  # height x width \n",
    "    # Board information\n",
    "    'board_type': 'checkerboard',  # charuco (preferred) or checkerboard\n",
    "    'board_dim': [6, 8],  # If this is incorrect it will cause analyses to freeze\n",
    "    'check_size': 20, # Size of the checks in mm, essential for accurate 3D reconstructions\n",
    "    'world_units': 'mm', # Determines how to scale the world ('m', 'dm', 'cm', 'mm')\n",
    "    # Path information\n",
    "    'setup_path': config_dir, # Where to store this configuration\n",
    "    'setup_filename': 'ncams_config.yaml', # Desired filename for the configuration\n",
    "    'intrinsic_path': 'intrinsic', # Name of the subdirectory for the intrinsic calibration data\n",
    "    'intrinsic_filename': 'intrinsic_calib.pickle', # Desired filename for the intrinsics\n",
    "    'extrinsic_path': 'extrinsic', # Name of the subdirectory for the extrinsic calibration data\n",
    "    'extrinsic_filename': 'extrinsic_calib.pickle'}"
   ]
  },
  {
   "cell_type": "code",
   "execution_count": 30,
   "id": "149b91b5-3046-4a87-a446-02a009fc24b8",
   "metadata": {
    "tags": []
   },
   "outputs": [
    {
     "data": {
      "image/png": "[encoded data removed]",
      "text/plain": [
       "<Figure size 640x480 with 1 Axes>"
      ]
     },
     "metadata": {},
     "output_type": "display_data"
    }
   ],
   "source": [
    "ncams.camera_io.config_to_yaml(ncams_config)\n",
    "checker_dict, checker_board, board_img = ncams.camera_tools.create_board(ncams_config, output=True, plotting=True)\n"
   ]
  },
  {
   "cell_type": "code",
   "execution_count": 49,
   "id": "321ad37a-3bc4-47aa-b446-f012760a75f9",
   "metadata": {
    "tags": []
   },
   "outputs": [],
   "source": [
    "board_type= 'checkerboard'\n",
    "board_dim= [6, 8]\n",
    "check_size = 20\n",
    "dpi = 300\n",
    "dpmm = dpi / 25.4 # Convert inches to mm\n",
    "\n",
    "# Litearlly just tile black and white squares\n",
    "check_length_in_pixels = int(np.round(check_size * dpmm))\n",
    "black_check = np.ones((check_length_in_pixels, check_length_in_pixels)) * 255\n",
    "white_check = np.zeros((check_length_in_pixels, check_length_in_pixels))\n",
    "board_img = np.empty((0, check_length_in_pixels*board_dim[0]), int)\n",
    "\n",
    "for _ in range(board_dim[1]):\n",
    "    col = np.empty((check_length_in_pixels, 0), int)\n",
    "    if (_ % 2) == 0: # even row\n",
    "        white = True\n",
    "    else: # odd row\n",
    "        white = False\n",
    "    for __ in range(board_dim[0]):\n",
    "        if white:\n",
    "            col = np.append(col, white_check, axis=1)\n",
    "        else:\n",
    "            col = np.append(col, black_check, axis=1)\n",
    "        white = not white\n",
    "\n",
    "    board_img = np.append(board_img, col, axis=0)"
   ]
  },
  {
   "cell_type": "code",
   "execution_count": 50,
   "id": "70ee95f4-18eb-45b6-9a44-971213695975",
   "metadata": {
    "tags": []
   },
   "outputs": [
    {
     "data": {
      "text/plain": [
       "[]"
      ]
     },
     "execution_count": 50,
     "metadata": {},
     "output_type": "execute_result"
    },
    {
     "data": {
      "image/png": "[encoded data removed]",
      "text/plain": [
       "<Figure size 640x480 with 1 Axes>"
      ]
     },
     "metadata": {},
     "output_type": "display_data"
    }
   ],
   "source": [
    "ax = mpl_pp.subplots()[1]\n",
    "ax.imshow(board_img/255, cmap='gray')\n",
    "ax.set_xticks([])\n",
    "ax.set_yticks([])"
   ]
  },
  {
   "cell_type": "code",
   "execution_count": 52,
   "id": "06ea0476-4f66-4743-955d-c6915b41f6da",
   "metadata": {
    "tags": []
   },
   "outputs": [
    {
     "data": {
      "text/plain": [
       "True"
      ]
     },
     "execution_count": 52,
     "metadata": {},
     "output_type": "execute_result"
    }
   ],
   "source": [
    "cv2.imwrite(os.path.join(config_dir, board_type+'_board.'+'png'), board_img)"
   ]
  },
  {
   "cell_type": "code",
   "execution_count": null,
   "id": "338e98f0-0b31-43f2-b215-030def2562a1",
   "metadata": {},
   "outputs": [],
   "source": []
  }
 ],
 "metadata": {
  "kernelspec": {
   "display_name": "Python [conda env:ncams]",
   "language": "python",
   "name": "conda-env-ncams-py"
  },
  "language_info": {
   "codemirror_mode": {
    "name": "ipython",
    "version": 3
   },
   "file_extension": ".py",
   "mimetype": "text/x-python",
   "name": "python",
   "nbconvert_exporter": "python",
   "pygments_lexer": "ipython3",
   "version": "3.8.17"
  }
 },
 "nbformat": 4,
 "nbformat_minor": 5
}
