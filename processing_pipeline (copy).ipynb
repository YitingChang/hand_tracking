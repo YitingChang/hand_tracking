{
 "cells": [
  {
   "cell_type": "code",
   "execution_count": null,
   "metadata": {},
   "outputs": [],
   "source": [
    "# Inference and triangulation pipeline\n",
    "# \n",
    "# Input: \n",
    "#       Raw videos from different camera views\n",
    "# Output:\n",
    "#       LP output: 2D pose estimation \n",
    "#       Anipose output: 3D pose estimation and feature extraction"
   ]
  },
  {
   "cell_type": "code",
   "execution_count": 1,
   "metadata": {},
   "outputs": [],
   "source": [
    "import os\n",
    "from glob import glob\n",
    "import shutil\n",
    "import pandas as pd\n",
    "import numpy\n",
    "import toml\n",
    "\n",
    "from utils.lp2anipose import lp2anipose_session\n",
    "from utils.visualization import creat_combined_video\n",
    "from anipose_yt.compute_angles import process_trial as angles_process\n",
    "from anipose_yt.triangulate import process_trial as triangulate_process\n",
    "from anipose_yt.filter_pose import process_trial as filter2d_process\n",
    "from anipose_yt.label_combined import process_trial as v2d3d_process\n",
    "from anipose_yt.label_videos_3d import process_trial as v3d_process\n",
    "from anipose_yt.filter_3d import process_trial as filter3d_process\n"
   ]
  },
  {
   "cell_type": "code",
   "execution_count": 2,
   "metadata": {},
   "outputs": [],
   "source": [
    "# Setting\n",
    "data_dir = r\"/media/yiting/NewVolume/Data/Videos\"\n",
    "analysis_dir = r\"/home/yiting/Documents/Analysis\"\n",
    "session_name = \"2024-11-22\"\n",
    "camera_views = [\"To\", \"TL\", \"TR\", \"BL\", \"BR\"]\n",
    "\n",
    "lp_dir = os.path.join(analysis_dir, session_name, \"litpose\")\n",
    "ap_dir = os.path.join(analysis_dir, session_name, \"anipose\")\n"
   ]
  },
  {
   "cell_type": "markdown",
   "metadata": {},
   "source": [
    "# Lightning Pose\n",
    "### Rename and reorganize videos"
   ]
  },
  {
   "cell_type": "code",
   "execution_count": null,
   "metadata": {},
   "outputs": [],
   "source": [
    "os.makedirs(os.path.join(lp_dir, \"new_videos\"), exist_ok = True)\n",
    "trials = sorted(os.listdir(os.path.join(data_dir, session_name, \"cameras\")))\n",
    "for t in trials:\n",
    "    trialname_parts = t.split('_')\n",
    "    for c in camera_views:\n",
    "        raw_vid_file = os.path.join(data_dir, session_name, \"cameras\", t, \"cam\" + c +\".mp4\")\n",
    "        new_vid_name = trialname_parts[0] + \"_\" + trialname_parts[1] + \"_\" + \"cam\" + c + \".mp4\"\n",
    "        lp_vid_file = os.path.join(lp_dir, \"new_videos\", new_vid_name)\n",
    "        shutil.copyfile(raw_vid_file, lp_vid_file)\n"
   ]
  },
  {
   "cell_type": "markdown",
   "metadata": {},
   "source": [
    "### Inference @ Rockfish Cluster\n",
    "\n",
    "Run inference on new videos  \n",
    "\n",
    "1. Upload new videos to Rockfish cluster (projects/hand_tracking/lightning-pose-gpu/data/new_videos/session_name)\n",
    "\n",
    "2. Edit litpose configuration file\\\n",
    "    eval.hydra_paths: path to models to use for prediction\\\n",
    "    eval.test_videos_directory: path to a directory containing videos to run inference on\\\n",
    "    eval.save_vids_after_training: if true, the script will also save a copy of the full video with model predictions overlaid.\n",
    "\n",
    "3. Edit sbatch script (projects/hand_tracking/lightning-pose-gpu/inference_1gpu.sh)\\\n",
    "###Run the python script\\\n",
    "srun python scripts/predict_new_vids.py --config-path=/vast/doconn15/projects/hand_tracking/lightning-pose-gpu/data --config-name=config_inference.yaml\n",
    "\n",
    "4. Submit job script on Rockfish cluster\\\n",
    "Terminal:\\\n",
    "cd vast-doconn15/projects/hand_tracking/lightning-pose-gpu\\\n",
    "sbatch inference_1gpu.sh\n"
   ]
  },
  {
   "cell_type": "markdown",
   "metadata": {},
   "source": [
    "# Anipose"
   ]
  },
  {
   "cell_type": "markdown",
   "metadata": {},
   "source": [
    "### Setting"
   ]
  },
  {
   "cell_type": "code",
   "execution_count": 3,
   "metadata": {},
   "outputs": [],
   "source": [
    "config_file = os.path.join(analysis_dir, \"anipose_config.toml\")\n",
    "calib_folder = os.path.join(analysis_dir, \"anipose_calibration\")\n",
    "# Load config file\n",
    "config = toml.load(config_file)\n"
   ]
  },
  {
   "cell_type": "markdown",
   "metadata": {},
   "source": [
    "### Convert and reorganize LP outputs\n",
    "1. Download Lightning Pose outputs from Rockfish cluster (outputs/YYYY-MM-DD/HH-MM-SS/video_preds)\n",
    "2. Convert Lightning pose 2d outputs (.csv) to Anipose inputs (.hdf)"
   ]
  },
  {
   "cell_type": "code",
   "execution_count": 4,
   "metadata": {},
   "outputs": [],
   "source": [
    "lp_2d_dir = os.path.join(lp_dir, \"video_preds\")\n",
    "ap_2d_dir = os.path.join(ap_dir, \"pose_2d\")\n",
    "os.makedirs(ap_2d_dir, exist_ok = True)\n",
    "lp2anipose_session(lp_2d_dir, ap_2d_dir, camera_views)"
   ]
  },
  {
   "cell_type": "markdown",
   "metadata": {},
   "source": [
    "### Filtering 2D data\n",
    "The filter applied over the 2D data functions as a threshold filter. Predicted labels that do not fall within the threshold are removed and replaced with a new prediction that is determined by interpolating. In config.toml, the parameter spline can be set to true for interpolation using a cubic spline, or false for linear interpolation."
   ]
  },
  {
   "cell_type": "code",
   "execution_count": 5,
   "metadata": {},
   "outputs": [
    {
     "name": "stdout",
     "output_type": "stream",
     "text": [
      "/home/yiting/Documents/Analysis/2024-11-22/anipose/pose_2d_filter/2024-11-22_08-43-44/2024-11-22_08-43-44_camBL.h5\n",
      "/home/yiting/Documents/Analysis/2024-11-22/anipose/pose_2d_filter/2024-11-22_08-43-44/2024-11-22_08-43-44_camBR.h5\n",
      "/home/yiting/Documents/Analysis/2024-11-22/anipose/pose_2d_filter/2024-11-22_08-43-44/2024-11-22_08-43-44_camTL.h5\n",
      "/home/yiting/Documents/Analysis/2024-11-22/anipose/pose_2d_filter/2024-11-22_08-43-44/2024-11-22_08-43-44_camTR.h5\n",
      "/home/yiting/Documents/Analysis/2024-11-22/anipose/pose_2d_filter/2024-11-22_08-43-44/2024-11-22_08-43-44_camTo.h5\n",
      "/home/yiting/Documents/Analysis/2024-11-22/anipose/pose_2d_filter/2024-11-22_08-43-57/2024-11-22_08-43-57_camBL.h5\n",
      "/home/yiting/Documents/Analysis/2024-11-22/anipose/pose_2d_filter/2024-11-22_08-43-57/2024-11-22_08-43-57_camBR.h5\n",
      "/home/yiting/Documents/Analysis/2024-11-22/anipose/pose_2d_filter/2024-11-22_08-43-57/2024-11-22_08-43-57_camTL.h5\n",
      "/home/yiting/Documents/Analysis/2024-11-22/anipose/pose_2d_filter/2024-11-22_08-43-57/2024-11-22_08-43-57_camTR.h5\n",
      "/home/yiting/Documents/Analysis/2024-11-22/anipose/pose_2d_filter/2024-11-22_08-43-57/2024-11-22_08-43-57_camTo.h5\n",
      "/home/yiting/Documents/Analysis/2024-11-22/anipose/pose_2d_filter/2024-11-22_08-44-11/2024-11-22_08-44-11_camBL.h5\n",
      "/home/yiting/Documents/Analysis/2024-11-22/anipose/pose_2d_filter/2024-11-22_08-44-11/2024-11-22_08-44-11_camBR.h5\n",
      "/home/yiting/Documents/Analysis/2024-11-22/anipose/pose_2d_filter/2024-11-22_08-44-11/2024-11-22_08-44-11_camTL.h5\n",
      "/home/yiting/Documents/Analysis/2024-11-22/anipose/pose_2d_filter/2024-11-22_08-44-11/2024-11-22_08-44-11_camTR.h5\n",
      "/home/yiting/Documents/Analysis/2024-11-22/anipose/pose_2d_filter/2024-11-22_08-44-11/2024-11-22_08-44-11_camTo.h5\n",
      "/home/yiting/Documents/Analysis/2024-11-22/anipose/pose_2d_filter/2024-11-22_08-44-23/2024-11-22_08-44-23_camBL.h5\n",
      "/home/yiting/Documents/Analysis/2024-11-22/anipose/pose_2d_filter/2024-11-22_08-44-23/2024-11-22_08-44-23_camBR.h5\n",
      "/home/yiting/Documents/Analysis/2024-11-22/anipose/pose_2d_filter/2024-11-22_08-44-23/2024-11-22_08-44-23_camTL.h5\n",
      "/home/yiting/Documents/Analysis/2024-11-22/anipose/pose_2d_filter/2024-11-22_08-44-23/2024-11-22_08-44-23_camTR.h5\n",
      "/home/yiting/Documents/Analysis/2024-11-22/anipose/pose_2d_filter/2024-11-22_08-44-23/2024-11-22_08-44-23_camTo.h5\n",
      "/home/yiting/Documents/Analysis/2024-11-22/anipose/pose_2d_filter/2024-11-22_08-44-36/2024-11-22_08-44-36_camBL.h5\n",
      "/home/yiting/Documents/Analysis/2024-11-22/anipose/pose_2d_filter/2024-11-22_08-44-36/2024-11-22_08-44-36_camBR.h5\n",
      "/home/yiting/Documents/Analysis/2024-11-22/anipose/pose_2d_filter/2024-11-22_08-44-36/2024-11-22_08-44-36_camTL.h5\n",
      "/home/yiting/Documents/Analysis/2024-11-22/anipose/pose_2d_filter/2024-11-22_08-44-36/2024-11-22_08-44-36_camTR.h5\n",
      "/home/yiting/Documents/Analysis/2024-11-22/anipose/pose_2d_filter/2024-11-22_08-44-36/2024-11-22_08-44-36_camTo.h5\n",
      "/home/yiting/Documents/Analysis/2024-11-22/anipose/pose_2d_filter/2024-11-22_08-44-49/2024-11-22_08-44-49_camBL.h5\n",
      "/home/yiting/Documents/Analysis/2024-11-22/anipose/pose_2d_filter/2024-11-22_08-44-49/2024-11-22_08-44-49_camBR.h5\n",
      "/home/yiting/Documents/Analysis/2024-11-22/anipose/pose_2d_filter/2024-11-22_08-44-49/2024-11-22_08-44-49_camTL.h5\n",
      "/home/yiting/Documents/Analysis/2024-11-22/anipose/pose_2d_filter/2024-11-22_08-44-49/2024-11-22_08-44-49_camTR.h5\n",
      "/home/yiting/Documents/Analysis/2024-11-22/anipose/pose_2d_filter/2024-11-22_08-44-49/2024-11-22_08-44-49_camTo.h5\n",
      "/home/yiting/Documents/Analysis/2024-11-22/anipose/pose_2d_filter/2024-11-22_08-45-08/2024-11-22_08-45-08_camBL.h5\n",
      "/home/yiting/Documents/Analysis/2024-11-22/anipose/pose_2d_filter/2024-11-22_08-45-08/2024-11-22_08-45-08_camBR.h5\n",
      "/home/yiting/Documents/Analysis/2024-11-22/anipose/pose_2d_filter/2024-11-22_08-45-08/2024-11-22_08-45-08_camTL.h5\n",
      "/home/yiting/Documents/Analysis/2024-11-22/anipose/pose_2d_filter/2024-11-22_08-45-08/2024-11-22_08-45-08_camTR.h5\n",
      "/home/yiting/Documents/Analysis/2024-11-22/anipose/pose_2d_filter/2024-11-22_08-45-08/2024-11-22_08-45-08_camTo.h5\n",
      "/home/yiting/Documents/Analysis/2024-11-22/anipose/pose_2d_filter/2024-11-22_08-45-21/2024-11-22_08-45-21_camBL.h5\n",
      "/home/yiting/Documents/Analysis/2024-11-22/anipose/pose_2d_filter/2024-11-22_08-45-21/2024-11-22_08-45-21_camBR.h5\n",
      "/home/yiting/Documents/Analysis/2024-11-22/anipose/pose_2d_filter/2024-11-22_08-45-21/2024-11-22_08-45-21_camTL.h5\n",
      "/home/yiting/Documents/Analysis/2024-11-22/anipose/pose_2d_filter/2024-11-22_08-45-21/2024-11-22_08-45-21_camTR.h5\n",
      "/home/yiting/Documents/Analysis/2024-11-22/anipose/pose_2d_filter/2024-11-22_08-45-21/2024-11-22_08-45-21_camTo.h5\n",
      "/home/yiting/Documents/Analysis/2024-11-22/anipose/pose_2d_filter/2024-11-22_08-45-35/2024-11-22_08-45-35_camBL.h5\n",
      "/home/yiting/Documents/Analysis/2024-11-22/anipose/pose_2d_filter/2024-11-22_08-45-35/2024-11-22_08-45-35_camBR.h5\n",
      "/home/yiting/Documents/Analysis/2024-11-22/anipose/pose_2d_filter/2024-11-22_08-45-35/2024-11-22_08-45-35_camTL.h5\n",
      "/home/yiting/Documents/Analysis/2024-11-22/anipose/pose_2d_filter/2024-11-22_08-45-35/2024-11-22_08-45-35_camTR.h5\n",
      "/home/yiting/Documents/Analysis/2024-11-22/anipose/pose_2d_filter/2024-11-22_08-45-35/2024-11-22_08-45-35_camTo.h5\n",
      "/home/yiting/Documents/Analysis/2024-11-22/anipose/pose_2d_filter/2024-11-22_08-45-48/2024-11-22_08-45-48_camBL.h5\n",
      "/home/yiting/Documents/Analysis/2024-11-22/anipose/pose_2d_filter/2024-11-22_08-45-48/2024-11-22_08-45-48_camBR.h5\n",
      "/home/yiting/Documents/Analysis/2024-11-22/anipose/pose_2d_filter/2024-11-22_08-45-48/2024-11-22_08-45-48_camTL.h5\n",
      "/home/yiting/Documents/Analysis/2024-11-22/anipose/pose_2d_filter/2024-11-22_08-45-48/2024-11-22_08-45-48_camTR.h5\n",
      "/home/yiting/Documents/Analysis/2024-11-22/anipose/pose_2d_filter/2024-11-22_08-45-48/2024-11-22_08-45-48_camTo.h5\n",
      "/home/yiting/Documents/Analysis/2024-11-22/anipose/pose_2d_filter/2024-11-22_08-46-02/2024-11-22_08-46-02_camBL.h5\n",
      "/home/yiting/Documents/Analysis/2024-11-22/anipose/pose_2d_filter/2024-11-22_08-46-02/2024-11-22_08-46-02_camBR.h5\n",
      "/home/yiting/Documents/Analysis/2024-11-22/anipose/pose_2d_filter/2024-11-22_08-46-02/2024-11-22_08-46-02_camTL.h5\n",
      "/home/yiting/Documents/Analysis/2024-11-22/anipose/pose_2d_filter/2024-11-22_08-46-02/2024-11-22_08-46-02_camTR.h5\n",
      "/home/yiting/Documents/Analysis/2024-11-22/anipose/pose_2d_filter/2024-11-22_08-46-02/2024-11-22_08-46-02_camTo.h5\n",
      "/home/yiting/Documents/Analysis/2024-11-22/anipose/pose_2d_filter/2024-11-22_08-46-16/2024-11-22_08-46-16_camBL.h5\n",
      "/home/yiting/Documents/Analysis/2024-11-22/anipose/pose_2d_filter/2024-11-22_08-46-16/2024-11-22_08-46-16_camBR.h5\n",
      "/home/yiting/Documents/Analysis/2024-11-22/anipose/pose_2d_filter/2024-11-22_08-46-16/2024-11-22_08-46-16_camTL.h5\n",
      "/home/yiting/Documents/Analysis/2024-11-22/anipose/pose_2d_filter/2024-11-22_08-46-16/2024-11-22_08-46-16_camTR.h5\n",
      "/home/yiting/Documents/Analysis/2024-11-22/anipose/pose_2d_filter/2024-11-22_08-46-16/2024-11-22_08-46-16_camTo.h5\n",
      "/home/yiting/Documents/Analysis/2024-11-22/anipose/pose_2d_filter/2024-11-22_08-46-27/2024-11-22_08-46-27_camBL.h5\n",
      "/home/yiting/Documents/Analysis/2024-11-22/anipose/pose_2d_filter/2024-11-22_08-46-27/2024-11-22_08-46-27_camBR.h5\n",
      "/home/yiting/Documents/Analysis/2024-11-22/anipose/pose_2d_filter/2024-11-22_08-46-27/2024-11-22_08-46-27_camTL.h5\n",
      "/home/yiting/Documents/Analysis/2024-11-22/anipose/pose_2d_filter/2024-11-22_08-46-27/2024-11-22_08-46-27_camTR.h5\n",
      "/home/yiting/Documents/Analysis/2024-11-22/anipose/pose_2d_filter/2024-11-22_08-46-27/2024-11-22_08-46-27_camTo.h5\n",
      "/home/yiting/Documents/Analysis/2024-11-22/anipose/pose_2d_filter/2024-11-22_08-46-41/2024-11-22_08-46-41_camBL.h5\n",
      "/home/yiting/Documents/Analysis/2024-11-22/anipose/pose_2d_filter/2024-11-22_08-46-41/2024-11-22_08-46-41_camBR.h5\n",
      "/home/yiting/Documents/Analysis/2024-11-22/anipose/pose_2d_filter/2024-11-22_08-46-41/2024-11-22_08-46-41_camTL.h5\n",
      "/home/yiting/Documents/Analysis/2024-11-22/anipose/pose_2d_filter/2024-11-22_08-46-41/2024-11-22_08-46-41_camTR.h5\n",
      "/home/yiting/Documents/Analysis/2024-11-22/anipose/pose_2d_filter/2024-11-22_08-46-41/2024-11-22_08-46-41_camTo.h5\n",
      "/home/yiting/Documents/Analysis/2024-11-22/anipose/pose_2d_filter/2024-11-22_08-46-54/2024-11-22_08-46-54_camBL.h5\n",
      "/home/yiting/Documents/Analysis/2024-11-22/anipose/pose_2d_filter/2024-11-22_08-46-54/2024-11-22_08-46-54_camBR.h5\n",
      "/home/yiting/Documents/Analysis/2024-11-22/anipose/pose_2d_filter/2024-11-22_08-46-54/2024-11-22_08-46-54_camTL.h5\n",
      "/home/yiting/Documents/Analysis/2024-11-22/anipose/pose_2d_filter/2024-11-22_08-46-54/2024-11-22_08-46-54_camTR.h5\n",
      "/home/yiting/Documents/Analysis/2024-11-22/anipose/pose_2d_filter/2024-11-22_08-46-54/2024-11-22_08-46-54_camTo.h5\n",
      "/home/yiting/Documents/Analysis/2024-11-22/anipose/pose_2d_filter/2024-11-22_08-47-06/2024-11-22_08-47-06_camBL.h5\n",
      "/home/yiting/Documents/Analysis/2024-11-22/anipose/pose_2d_filter/2024-11-22_08-47-06/2024-11-22_08-47-06_camBR.h5\n",
      "/home/yiting/Documents/Analysis/2024-11-22/anipose/pose_2d_filter/2024-11-22_08-47-06/2024-11-22_08-47-06_camTL.h5\n",
      "/home/yiting/Documents/Analysis/2024-11-22/anipose/pose_2d_filter/2024-11-22_08-47-06/2024-11-22_08-47-06_camTR.h5\n",
      "/home/yiting/Documents/Analysis/2024-11-22/anipose/pose_2d_filter/2024-11-22_08-47-06/2024-11-22_08-47-06_camTo.h5\n",
      "/home/yiting/Documents/Analysis/2024-11-22/anipose/pose_2d_filter/2024-11-22_08-47-20/2024-11-22_08-47-20_camBL.h5\n",
      "/home/yiting/Documents/Analysis/2024-11-22/anipose/pose_2d_filter/2024-11-22_08-47-20/2024-11-22_08-47-20_camBR.h5\n",
      "/home/yiting/Documents/Analysis/2024-11-22/anipose/pose_2d_filter/2024-11-22_08-47-20/2024-11-22_08-47-20_camTL.h5\n",
      "/home/yiting/Documents/Analysis/2024-11-22/anipose/pose_2d_filter/2024-11-22_08-47-20/2024-11-22_08-47-20_camTR.h5\n",
      "/home/yiting/Documents/Analysis/2024-11-22/anipose/pose_2d_filter/2024-11-22_08-47-20/2024-11-22_08-47-20_camTo.h5\n",
      "/home/yiting/Documents/Analysis/2024-11-22/anipose/pose_2d_filter/2024-11-22_08-47-32/2024-11-22_08-47-32_camBL.h5\n",
      "/home/yiting/Documents/Analysis/2024-11-22/anipose/pose_2d_filter/2024-11-22_08-47-32/2024-11-22_08-47-32_camBR.h5\n",
      "/home/yiting/Documents/Analysis/2024-11-22/anipose/pose_2d_filter/2024-11-22_08-47-32/2024-11-22_08-47-32_camTL.h5\n",
      "/home/yiting/Documents/Analysis/2024-11-22/anipose/pose_2d_filter/2024-11-22_08-47-32/2024-11-22_08-47-32_camTR.h5\n",
      "/home/yiting/Documents/Analysis/2024-11-22/anipose/pose_2d_filter/2024-11-22_08-47-32/2024-11-22_08-47-32_camTo.h5\n",
      "/home/yiting/Documents/Analysis/2024-11-22/anipose/pose_2d_filter/2024-11-22_08-47-45/2024-11-22_08-47-45_camBL.h5\n",
      "/home/yiting/Documents/Analysis/2024-11-22/anipose/pose_2d_filter/2024-11-22_08-47-45/2024-11-22_08-47-45_camBR.h5\n",
      "/home/yiting/Documents/Analysis/2024-11-22/anipose/pose_2d_filter/2024-11-22_08-47-45/2024-11-22_08-47-45_camTL.h5\n",
      "/home/yiting/Documents/Analysis/2024-11-22/anipose/pose_2d_filter/2024-11-22_08-47-45/2024-11-22_08-47-45_camTR.h5\n",
      "/home/yiting/Documents/Analysis/2024-11-22/anipose/pose_2d_filter/2024-11-22_08-47-45/2024-11-22_08-47-45_camTo.h5\n",
      "/home/yiting/Documents/Analysis/2024-11-22/anipose/pose_2d_filter/2024-11-22_08-47-58/2024-11-22_08-47-58_camBL.h5\n",
      "/home/yiting/Documents/Analysis/2024-11-22/anipose/pose_2d_filter/2024-11-22_08-47-58/2024-11-22_08-47-58_camBR.h5\n",
      "/home/yiting/Documents/Analysis/2024-11-22/anipose/pose_2d_filter/2024-11-22_08-47-58/2024-11-22_08-47-58_camTL.h5\n",
      "/home/yiting/Documents/Analysis/2024-11-22/anipose/pose_2d_filter/2024-11-22_08-47-58/2024-11-22_08-47-58_camTR.h5\n",
      "/home/yiting/Documents/Analysis/2024-11-22/anipose/pose_2d_filter/2024-11-22_08-47-58/2024-11-22_08-47-58_camTo.h5\n",
      "/home/yiting/Documents/Analysis/2024-11-22/anipose/pose_2d_filter/2024-11-22_08-48-12/2024-11-22_08-48-12_camBL.h5\n",
      "/home/yiting/Documents/Analysis/2024-11-22/anipose/pose_2d_filter/2024-11-22_08-48-12/2024-11-22_08-48-12_camBR.h5\n",
      "/home/yiting/Documents/Analysis/2024-11-22/anipose/pose_2d_filter/2024-11-22_08-48-12/2024-11-22_08-48-12_camTL.h5\n",
      "/home/yiting/Documents/Analysis/2024-11-22/anipose/pose_2d_filter/2024-11-22_08-48-12/2024-11-22_08-48-12_camTR.h5\n",
      "/home/yiting/Documents/Analysis/2024-11-22/anipose/pose_2d_filter/2024-11-22_08-48-12/2024-11-22_08-48-12_camTo.h5\n",
      "/home/yiting/Documents/Analysis/2024-11-22/anipose/pose_2d_filter/2024-11-22_08-48-25/2024-11-22_08-48-25_camBL.h5\n",
      "/home/yiting/Documents/Analysis/2024-11-22/anipose/pose_2d_filter/2024-11-22_08-48-25/2024-11-22_08-48-25_camBR.h5\n",
      "/home/yiting/Documents/Analysis/2024-11-22/anipose/pose_2d_filter/2024-11-22_08-48-25/2024-11-22_08-48-25_camTL.h5\n",
      "/home/yiting/Documents/Analysis/2024-11-22/anipose/pose_2d_filter/2024-11-22_08-48-25/2024-11-22_08-48-25_camTR.h5\n",
      "/home/yiting/Documents/Analysis/2024-11-22/anipose/pose_2d_filter/2024-11-22_08-48-25/2024-11-22_08-48-25_camTo.h5\n",
      "/home/yiting/Documents/Analysis/2024-11-22/anipose/pose_2d_filter/2024-11-22_08-48-39/2024-11-22_08-48-39_camBL.h5\n",
      "/home/yiting/Documents/Analysis/2024-11-22/anipose/pose_2d_filter/2024-11-22_08-48-39/2024-11-22_08-48-39_camBR.h5\n",
      "/home/yiting/Documents/Analysis/2024-11-22/anipose/pose_2d_filter/2024-11-22_08-48-39/2024-11-22_08-48-39_camTL.h5\n",
      "/home/yiting/Documents/Analysis/2024-11-22/anipose/pose_2d_filter/2024-11-22_08-48-39/2024-11-22_08-48-39_camTR.h5\n",
      "/home/yiting/Documents/Analysis/2024-11-22/anipose/pose_2d_filter/2024-11-22_08-48-39/2024-11-22_08-48-39_camTo.h5\n",
      "/home/yiting/Documents/Analysis/2024-11-22/anipose/pose_2d_filter/2024-11-22_08-48-51/2024-11-22_08-48-51_camBL.h5\n",
      "/home/yiting/Documents/Analysis/2024-11-22/anipose/pose_2d_filter/2024-11-22_08-48-51/2024-11-22_08-48-51_camBR.h5\n",
      "/home/yiting/Documents/Analysis/2024-11-22/anipose/pose_2d_filter/2024-11-22_08-48-51/2024-11-22_08-48-51_camTL.h5\n",
      "/home/yiting/Documents/Analysis/2024-11-22/anipose/pose_2d_filter/2024-11-22_08-48-51/2024-11-22_08-48-51_camTR.h5\n",
      "/home/yiting/Documents/Analysis/2024-11-22/anipose/pose_2d_filter/2024-11-22_08-48-51/2024-11-22_08-48-51_camTo.h5\n",
      "/home/yiting/Documents/Analysis/2024-11-22/anipose/pose_2d_filter/2024-11-22_08-49-04/2024-11-22_08-49-04_camBL.h5\n",
      "/home/yiting/Documents/Analysis/2024-11-22/anipose/pose_2d_filter/2024-11-22_08-49-04/2024-11-22_08-49-04_camBR.h5\n",
      "/home/yiting/Documents/Analysis/2024-11-22/anipose/pose_2d_filter/2024-11-22_08-49-04/2024-11-22_08-49-04_camTL.h5\n",
      "/home/yiting/Documents/Analysis/2024-11-22/anipose/pose_2d_filter/2024-11-22_08-49-04/2024-11-22_08-49-04_camTR.h5\n",
      "/home/yiting/Documents/Analysis/2024-11-22/anipose/pose_2d_filter/2024-11-22_08-49-04/2024-11-22_08-49-04_camTo.h5\n",
      "/home/yiting/Documents/Analysis/2024-11-22/anipose/pose_2d_filter/2024-11-22_08-49-17/2024-11-22_08-49-17_camBL.h5\n",
      "/home/yiting/Documents/Analysis/2024-11-22/anipose/pose_2d_filter/2024-11-22_08-49-17/2024-11-22_08-49-17_camBR.h5\n",
      "/home/yiting/Documents/Analysis/2024-11-22/anipose/pose_2d_filter/2024-11-22_08-49-17/2024-11-22_08-49-17_camTL.h5\n",
      "/home/yiting/Documents/Analysis/2024-11-22/anipose/pose_2d_filter/2024-11-22_08-49-17/2024-11-22_08-49-17_camTR.h5\n",
      "/home/yiting/Documents/Analysis/2024-11-22/anipose/pose_2d_filter/2024-11-22_08-49-17/2024-11-22_08-49-17_camTo.h5\n",
      "/home/yiting/Documents/Analysis/2024-11-22/anipose/pose_2d_filter/2024-11-22_08-49-30/2024-11-22_08-49-30_camBL.h5\n",
      "/home/yiting/Documents/Analysis/2024-11-22/anipose/pose_2d_filter/2024-11-22_08-49-30/2024-11-22_08-49-30_camBR.h5\n",
      "/home/yiting/Documents/Analysis/2024-11-22/anipose/pose_2d_filter/2024-11-22_08-49-30/2024-11-22_08-49-30_camTL.h5\n",
      "/home/yiting/Documents/Analysis/2024-11-22/anipose/pose_2d_filter/2024-11-22_08-49-30/2024-11-22_08-49-30_camTR.h5\n",
      "/home/yiting/Documents/Analysis/2024-11-22/anipose/pose_2d_filter/2024-11-22_08-49-30/2024-11-22_08-49-30_camTo.h5\n",
      "/home/yiting/Documents/Analysis/2024-11-22/anipose/pose_2d_filter/2024-11-22_08-49-42/2024-11-22_08-49-42_camBL.h5\n",
      "/home/yiting/Documents/Analysis/2024-11-22/anipose/pose_2d_filter/2024-11-22_08-49-42/2024-11-22_08-49-42_camBR.h5\n",
      "/home/yiting/Documents/Analysis/2024-11-22/anipose/pose_2d_filter/2024-11-22_08-49-42/2024-11-22_08-49-42_camTL.h5\n",
      "/home/yiting/Documents/Analysis/2024-11-22/anipose/pose_2d_filter/2024-11-22_08-49-42/2024-11-22_08-49-42_camTR.h5\n",
      "/home/yiting/Documents/Analysis/2024-11-22/anipose/pose_2d_filter/2024-11-22_08-49-42/2024-11-22_08-49-42_camTo.h5\n",
      "/home/yiting/Documents/Analysis/2024-11-22/anipose/pose_2d_filter/2024-11-22_08-49-56/2024-11-22_08-49-56_camBL.h5\n",
      "/home/yiting/Documents/Analysis/2024-11-22/anipose/pose_2d_filter/2024-11-22_08-49-56/2024-11-22_08-49-56_camBR.h5\n",
      "/home/yiting/Documents/Analysis/2024-11-22/anipose/pose_2d_filter/2024-11-22_08-49-56/2024-11-22_08-49-56_camTL.h5\n",
      "/home/yiting/Documents/Analysis/2024-11-22/anipose/pose_2d_filter/2024-11-22_08-49-56/2024-11-22_08-49-56_camTR.h5\n",
      "/home/yiting/Documents/Analysis/2024-11-22/anipose/pose_2d_filter/2024-11-22_08-49-56/2024-11-22_08-49-56_camTo.h5\n",
      "/home/yiting/Documents/Analysis/2024-11-22/anipose/pose_2d_filter/2024-11-22_08-50-08/2024-11-22_08-50-08_camBL.h5\n",
      "/home/yiting/Documents/Analysis/2024-11-22/anipose/pose_2d_filter/2024-11-22_08-50-08/2024-11-22_08-50-08_camBR.h5\n",
      "/home/yiting/Documents/Analysis/2024-11-22/anipose/pose_2d_filter/2024-11-22_08-50-08/2024-11-22_08-50-08_camTL.h5\n",
      "/home/yiting/Documents/Analysis/2024-11-22/anipose/pose_2d_filter/2024-11-22_08-50-08/2024-11-22_08-50-08_camTR.h5\n",
      "/home/yiting/Documents/Analysis/2024-11-22/anipose/pose_2d_filter/2024-11-22_08-50-08/2024-11-22_08-50-08_camTo.h5\n",
      "/home/yiting/Documents/Analysis/2024-11-22/anipose/pose_2d_filter/2024-11-22_08-50-20/2024-11-22_08-50-20_camBL.h5\n",
      "/home/yiting/Documents/Analysis/2024-11-22/anipose/pose_2d_filter/2024-11-22_08-50-20/2024-11-22_08-50-20_camBR.h5\n",
      "/home/yiting/Documents/Analysis/2024-11-22/anipose/pose_2d_filter/2024-11-22_08-50-20/2024-11-22_08-50-20_camTL.h5\n",
      "/home/yiting/Documents/Analysis/2024-11-22/anipose/pose_2d_filter/2024-11-22_08-50-20/2024-11-22_08-50-20_camTR.h5\n",
      "/home/yiting/Documents/Analysis/2024-11-22/anipose/pose_2d_filter/2024-11-22_08-50-20/2024-11-22_08-50-20_camTo.h5\n",
      "/home/yiting/Documents/Analysis/2024-11-22/anipose/pose_2d_filter/2024-11-22_08-50-35/2024-11-22_08-50-35_camBL.h5\n",
      "/home/yiting/Documents/Analysis/2024-11-22/anipose/pose_2d_filter/2024-11-22_08-50-35/2024-11-22_08-50-35_camBR.h5\n",
      "/home/yiting/Documents/Analysis/2024-11-22/anipose/pose_2d_filter/2024-11-22_08-50-35/2024-11-22_08-50-35_camTL.h5\n",
      "/home/yiting/Documents/Analysis/2024-11-22/anipose/pose_2d_filter/2024-11-22_08-50-35/2024-11-22_08-50-35_camTR.h5\n",
      "/home/yiting/Documents/Analysis/2024-11-22/anipose/pose_2d_filter/2024-11-22_08-50-35/2024-11-22_08-50-35_camTo.h5\n",
      "/home/yiting/Documents/Analysis/2024-11-22/anipose/pose_2d_filter/2024-11-22_08-50-46/2024-11-22_08-50-46_camBL.h5\n",
      "/home/yiting/Documents/Analysis/2024-11-22/anipose/pose_2d_filter/2024-11-22_08-50-46/2024-11-22_08-50-46_camBR.h5\n",
      "/home/yiting/Documents/Analysis/2024-11-22/anipose/pose_2d_filter/2024-11-22_08-50-46/2024-11-22_08-50-46_camTL.h5\n",
      "/home/yiting/Documents/Analysis/2024-11-22/anipose/pose_2d_filter/2024-11-22_08-50-46/2024-11-22_08-50-46_camTR.h5\n",
      "/home/yiting/Documents/Analysis/2024-11-22/anipose/pose_2d_filter/2024-11-22_08-50-46/2024-11-22_08-50-46_camTo.h5\n",
      "/home/yiting/Documents/Analysis/2024-11-22/anipose/pose_2d_filter/2024-11-22_08-50-59/2024-11-22_08-50-59_camBL.h5\n",
      "/home/yiting/Documents/Analysis/2024-11-22/anipose/pose_2d_filter/2024-11-22_08-50-59/2024-11-22_08-50-59_camBR.h5\n",
      "/home/yiting/Documents/Analysis/2024-11-22/anipose/pose_2d_filter/2024-11-22_08-50-59/2024-11-22_08-50-59_camTL.h5\n",
      "/home/yiting/Documents/Analysis/2024-11-22/anipose/pose_2d_filter/2024-11-22_08-50-59/2024-11-22_08-50-59_camTR.h5\n",
      "/home/yiting/Documents/Analysis/2024-11-22/anipose/pose_2d_filter/2024-11-22_08-50-59/2024-11-22_08-50-59_camTo.h5\n",
      "/home/yiting/Documents/Analysis/2024-11-22/anipose/pose_2d_filter/2024-11-22_08-51-13/2024-11-22_08-51-13_camBL.h5\n",
      "/home/yiting/Documents/Analysis/2024-11-22/anipose/pose_2d_filter/2024-11-22_08-51-13/2024-11-22_08-51-13_camBR.h5\n",
      "/home/yiting/Documents/Analysis/2024-11-22/anipose/pose_2d_filter/2024-11-22_08-51-13/2024-11-22_08-51-13_camTL.h5\n",
      "/home/yiting/Documents/Analysis/2024-11-22/anipose/pose_2d_filter/2024-11-22_08-51-13/2024-11-22_08-51-13_camTR.h5\n",
      "/home/yiting/Documents/Analysis/2024-11-22/anipose/pose_2d_filter/2024-11-22_08-51-13/2024-11-22_08-51-13_camTo.h5\n",
      "/home/yiting/Documents/Analysis/2024-11-22/anipose/pose_2d_filter/2024-11-22_08-51-29/2024-11-22_08-51-29_camBL.h5\n",
      "/home/yiting/Documents/Analysis/2024-11-22/anipose/pose_2d_filter/2024-11-22_08-51-29/2024-11-22_08-51-29_camBR.h5\n",
      "/home/yiting/Documents/Analysis/2024-11-22/anipose/pose_2d_filter/2024-11-22_08-51-29/2024-11-22_08-51-29_camTL.h5\n",
      "/home/yiting/Documents/Analysis/2024-11-22/anipose/pose_2d_filter/2024-11-22_08-51-29/2024-11-22_08-51-29_camTR.h5\n",
      "/home/yiting/Documents/Analysis/2024-11-22/anipose/pose_2d_filter/2024-11-22_08-51-29/2024-11-22_08-51-29_camTo.h5\n",
      "/home/yiting/Documents/Analysis/2024-11-22/anipose/pose_2d_filter/2024-11-22_08-51-42/2024-11-22_08-51-42_camBL.h5\n",
      "/home/yiting/Documents/Analysis/2024-11-22/anipose/pose_2d_filter/2024-11-22_08-51-42/2024-11-22_08-51-42_camBR.h5\n",
      "/home/yiting/Documents/Analysis/2024-11-22/anipose/pose_2d_filter/2024-11-22_08-51-42/2024-11-22_08-51-42_camTL.h5\n",
      "/home/yiting/Documents/Analysis/2024-11-22/anipose/pose_2d_filter/2024-11-22_08-51-42/2024-11-22_08-51-42_camTR.h5\n",
      "/home/yiting/Documents/Analysis/2024-11-22/anipose/pose_2d_filter/2024-11-22_08-51-42/2024-11-22_08-51-42_camTo.h5\n",
      "/home/yiting/Documents/Analysis/2024-11-22/anipose/pose_2d_filter/2024-11-22_08-51-56/2024-11-22_08-51-56_camBL.h5\n",
      "/home/yiting/Documents/Analysis/2024-11-22/anipose/pose_2d_filter/2024-11-22_08-51-56/2024-11-22_08-51-56_camBR.h5\n",
      "/home/yiting/Documents/Analysis/2024-11-22/anipose/pose_2d_filter/2024-11-22_08-51-56/2024-11-22_08-51-56_camTL.h5\n",
      "/home/yiting/Documents/Analysis/2024-11-22/anipose/pose_2d_filter/2024-11-22_08-51-56/2024-11-22_08-51-56_camTR.h5\n",
      "/home/yiting/Documents/Analysis/2024-11-22/anipose/pose_2d_filter/2024-11-22_08-51-56/2024-11-22_08-51-56_camTo.h5\n",
      "/home/yiting/Documents/Analysis/2024-11-22/anipose/pose_2d_filter/2024-11-22_08-52-08/2024-11-22_08-52-08_camBL.h5\n",
      "/home/yiting/Documents/Analysis/2024-11-22/anipose/pose_2d_filter/2024-11-22_08-52-08/2024-11-22_08-52-08_camBR.h5\n",
      "/home/yiting/Documents/Analysis/2024-11-22/anipose/pose_2d_filter/2024-11-22_08-52-08/2024-11-22_08-52-08_camTL.h5\n",
      "/home/yiting/Documents/Analysis/2024-11-22/anipose/pose_2d_filter/2024-11-22_08-52-08/2024-11-22_08-52-08_camTR.h5\n",
      "/home/yiting/Documents/Analysis/2024-11-22/anipose/pose_2d_filter/2024-11-22_08-52-08/2024-11-22_08-52-08_camTo.h5\n",
      "/home/yiting/Documents/Analysis/2024-11-22/anipose/pose_2d_filter/2024-11-22_08-52-20/2024-11-22_08-52-20_camBL.h5\n",
      "/home/yiting/Documents/Analysis/2024-11-22/anipose/pose_2d_filter/2024-11-22_08-52-20/2024-11-22_08-52-20_camBR.h5\n",
      "/home/yiting/Documents/Analysis/2024-11-22/anipose/pose_2d_filter/2024-11-22_08-52-20/2024-11-22_08-52-20_camTL.h5\n",
      "/home/yiting/Documents/Analysis/2024-11-22/anipose/pose_2d_filter/2024-11-22_08-52-20/2024-11-22_08-52-20_camTR.h5\n",
      "/home/yiting/Documents/Analysis/2024-11-22/anipose/pose_2d_filter/2024-11-22_08-52-20/2024-11-22_08-52-20_camTo.h5\n",
      "/home/yiting/Documents/Analysis/2024-11-22/anipose/pose_2d_filter/2024-11-22_08-52-33/2024-11-22_08-52-33_camBL.h5\n",
      "/home/yiting/Documents/Analysis/2024-11-22/anipose/pose_2d_filter/2024-11-22_08-52-33/2024-11-22_08-52-33_camBR.h5\n",
      "/home/yiting/Documents/Analysis/2024-11-22/anipose/pose_2d_filter/2024-11-22_08-52-33/2024-11-22_08-52-33_camTL.h5\n",
      "/home/yiting/Documents/Analysis/2024-11-22/anipose/pose_2d_filter/2024-11-22_08-52-33/2024-11-22_08-52-33_camTR.h5\n",
      "/home/yiting/Documents/Analysis/2024-11-22/anipose/pose_2d_filter/2024-11-22_08-52-33/2024-11-22_08-52-33_camTo.h5\n",
      "/home/yiting/Documents/Analysis/2024-11-22/anipose/pose_2d_filter/2024-11-22_08-52-45/2024-11-22_08-52-45_camBL.h5\n",
      "/home/yiting/Documents/Analysis/2024-11-22/anipose/pose_2d_filter/2024-11-22_08-52-45/2024-11-22_08-52-45_camBR.h5\n",
      "/home/yiting/Documents/Analysis/2024-11-22/anipose/pose_2d_filter/2024-11-22_08-52-45/2024-11-22_08-52-45_camTL.h5\n",
      "/home/yiting/Documents/Analysis/2024-11-22/anipose/pose_2d_filter/2024-11-22_08-52-45/2024-11-22_08-52-45_camTR.h5\n",
      "/home/yiting/Documents/Analysis/2024-11-22/anipose/pose_2d_filter/2024-11-22_08-52-45/2024-11-22_08-52-45_camTo.h5\n",
      "/home/yiting/Documents/Analysis/2024-11-22/anipose/pose_2d_filter/2024-11-22_08-52-58/2024-11-22_08-52-58_camBL.h5\n",
      "/home/yiting/Documents/Analysis/2024-11-22/anipose/pose_2d_filter/2024-11-22_08-52-58/2024-11-22_08-52-58_camBR.h5\n",
      "/home/yiting/Documents/Analysis/2024-11-22/anipose/pose_2d_filter/2024-11-22_08-52-58/2024-11-22_08-52-58_camTL.h5\n",
      "/home/yiting/Documents/Analysis/2024-11-22/anipose/pose_2d_filter/2024-11-22_08-52-58/2024-11-22_08-52-58_camTR.h5\n",
      "/home/yiting/Documents/Analysis/2024-11-22/anipose/pose_2d_filter/2024-11-22_08-52-58/2024-11-22_08-52-58_camTo.h5\n",
      "/home/yiting/Documents/Analysis/2024-11-22/anipose/pose_2d_filter/2024-11-22_08-53-11/2024-11-22_08-53-11_camBL.h5\n",
      "/home/yiting/Documents/Analysis/2024-11-22/anipose/pose_2d_filter/2024-11-22_08-53-11/2024-11-22_08-53-11_camBR.h5\n",
      "/home/yiting/Documents/Analysis/2024-11-22/anipose/pose_2d_filter/2024-11-22_08-53-11/2024-11-22_08-53-11_camTL.h5\n",
      "/home/yiting/Documents/Analysis/2024-11-22/anipose/pose_2d_filter/2024-11-22_08-53-11/2024-11-22_08-53-11_camTR.h5\n",
      "/home/yiting/Documents/Analysis/2024-11-22/anipose/pose_2d_filter/2024-11-22_08-53-11/2024-11-22_08-53-11_camTo.h5\n",
      "/home/yiting/Documents/Analysis/2024-11-22/anipose/pose_2d_filter/2024-11-22_08-53-23/2024-11-22_08-53-23_camBL.h5\n",
      "/home/yiting/Documents/Analysis/2024-11-22/anipose/pose_2d_filter/2024-11-22_08-53-23/2024-11-22_08-53-23_camBR.h5\n",
      "/home/yiting/Documents/Analysis/2024-11-22/anipose/pose_2d_filter/2024-11-22_08-53-23/2024-11-22_08-53-23_camTL.h5\n",
      "/home/yiting/Documents/Analysis/2024-11-22/anipose/pose_2d_filter/2024-11-22_08-53-23/2024-11-22_08-53-23_camTR.h5\n",
      "/home/yiting/Documents/Analysis/2024-11-22/anipose/pose_2d_filter/2024-11-22_08-53-23/2024-11-22_08-53-23_camTo.h5\n",
      "/home/yiting/Documents/Analysis/2024-11-22/anipose/pose_2d_filter/2024-11-22_08-53-37/2024-11-22_08-53-37_camBL.h5\n",
      "/home/yiting/Documents/Analysis/2024-11-22/anipose/pose_2d_filter/2024-11-22_08-53-37/2024-11-22_08-53-37_camBR.h5\n",
      "/home/yiting/Documents/Analysis/2024-11-22/anipose/pose_2d_filter/2024-11-22_08-53-37/2024-11-22_08-53-37_camTL.h5\n",
      "/home/yiting/Documents/Analysis/2024-11-22/anipose/pose_2d_filter/2024-11-22_08-53-37/2024-11-22_08-53-37_camTR.h5\n",
      "/home/yiting/Documents/Analysis/2024-11-22/anipose/pose_2d_filter/2024-11-22_08-53-37/2024-11-22_08-53-37_camTo.h5\n",
      "/home/yiting/Documents/Analysis/2024-11-22/anipose/pose_2d_filter/2024-11-22_08-53-50/2024-11-22_08-53-50_camBL.h5\n",
      "/home/yiting/Documents/Analysis/2024-11-22/anipose/pose_2d_filter/2024-11-22_08-53-50/2024-11-22_08-53-50_camBR.h5\n",
      "/home/yiting/Documents/Analysis/2024-11-22/anipose/pose_2d_filter/2024-11-22_08-53-50/2024-11-22_08-53-50_camTL.h5\n",
      "/home/yiting/Documents/Analysis/2024-11-22/anipose/pose_2d_filter/2024-11-22_08-53-50/2024-11-22_08-53-50_camTR.h5\n",
      "/home/yiting/Documents/Analysis/2024-11-22/anipose/pose_2d_filter/2024-11-22_08-53-50/2024-11-22_08-53-50_camTo.h5\n",
      "/home/yiting/Documents/Analysis/2024-11-22/anipose/pose_2d_filter/2024-11-22_08-54-01/2024-11-22_08-54-01_camBL.h5\n",
      "/home/yiting/Documents/Analysis/2024-11-22/anipose/pose_2d_filter/2024-11-22_08-54-01/2024-11-22_08-54-01_camBR.h5\n",
      "/home/yiting/Documents/Analysis/2024-11-22/anipose/pose_2d_filter/2024-11-22_08-54-01/2024-11-22_08-54-01_camTL.h5\n",
      "/home/yiting/Documents/Analysis/2024-11-22/anipose/pose_2d_filter/2024-11-22_08-54-01/2024-11-22_08-54-01_camTR.h5\n",
      "/home/yiting/Documents/Analysis/2024-11-22/anipose/pose_2d_filter/2024-11-22_08-54-01/2024-11-22_08-54-01_camTo.h5\n",
      "/home/yiting/Documents/Analysis/2024-11-22/anipose/pose_2d_filter/2024-11-22_08-54-14/2024-11-22_08-54-14_camBL.h5\n",
      "/home/yiting/Documents/Analysis/2024-11-22/anipose/pose_2d_filter/2024-11-22_08-54-14/2024-11-22_08-54-14_camBR.h5\n",
      "/home/yiting/Documents/Analysis/2024-11-22/anipose/pose_2d_filter/2024-11-22_08-54-14/2024-11-22_08-54-14_camTL.h5\n",
      "/home/yiting/Documents/Analysis/2024-11-22/anipose/pose_2d_filter/2024-11-22_08-54-14/2024-11-22_08-54-14_camTR.h5\n",
      "/home/yiting/Documents/Analysis/2024-11-22/anipose/pose_2d_filter/2024-11-22_08-54-14/2024-11-22_08-54-14_camTo.h5\n",
      "/home/yiting/Documents/Analysis/2024-11-22/anipose/pose_2d_filter/2024-11-22_08-54-26/2024-11-22_08-54-26_camBL.h5\n",
      "/home/yiting/Documents/Analysis/2024-11-22/anipose/pose_2d_filter/2024-11-22_08-54-26/2024-11-22_08-54-26_camBR.h5\n",
      "/home/yiting/Documents/Analysis/2024-11-22/anipose/pose_2d_filter/2024-11-22_08-54-26/2024-11-22_08-54-26_camTL.h5\n",
      "/home/yiting/Documents/Analysis/2024-11-22/anipose/pose_2d_filter/2024-11-22_08-54-26/2024-11-22_08-54-26_camTR.h5\n",
      "/home/yiting/Documents/Analysis/2024-11-22/anipose/pose_2d_filter/2024-11-22_08-54-26/2024-11-22_08-54-26_camTo.h5\n",
      "/home/yiting/Documents/Analysis/2024-11-22/anipose/pose_2d_filter/2024-11-22_08-54-38/2024-11-22_08-54-38_camBL.h5\n",
      "/home/yiting/Documents/Analysis/2024-11-22/anipose/pose_2d_filter/2024-11-22_08-54-38/2024-11-22_08-54-38_camBR.h5\n",
      "/home/yiting/Documents/Analysis/2024-11-22/anipose/pose_2d_filter/2024-11-22_08-54-38/2024-11-22_08-54-38_camTL.h5\n",
      "/home/yiting/Documents/Analysis/2024-11-22/anipose/pose_2d_filter/2024-11-22_08-54-38/2024-11-22_08-54-38_camTR.h5\n",
      "/home/yiting/Documents/Analysis/2024-11-22/anipose/pose_2d_filter/2024-11-22_08-54-38/2024-11-22_08-54-38_camTo.h5\n",
      "/home/yiting/Documents/Analysis/2024-11-22/anipose/pose_2d_filter/2024-11-22_08-54-51/2024-11-22_08-54-51_camBL.h5\n",
      "/home/yiting/Documents/Analysis/2024-11-22/anipose/pose_2d_filter/2024-11-22_08-54-51/2024-11-22_08-54-51_camBR.h5\n",
      "/home/yiting/Documents/Analysis/2024-11-22/anipose/pose_2d_filter/2024-11-22_08-54-51/2024-11-22_08-54-51_camTL.h5\n",
      "/home/yiting/Documents/Analysis/2024-11-22/anipose/pose_2d_filter/2024-11-22_08-54-51/2024-11-22_08-54-51_camTR.h5\n",
      "/home/yiting/Documents/Analysis/2024-11-22/anipose/pose_2d_filter/2024-11-22_08-54-51/2024-11-22_08-54-51_camTo.h5\n",
      "/home/yiting/Documents/Analysis/2024-11-22/anipose/pose_2d_filter/2024-11-22_08-55-04/2024-11-22_08-55-04_camBL.h5\n",
      "/home/yiting/Documents/Analysis/2024-11-22/anipose/pose_2d_filter/2024-11-22_08-55-04/2024-11-22_08-55-04_camBR.h5\n",
      "/home/yiting/Documents/Analysis/2024-11-22/anipose/pose_2d_filter/2024-11-22_08-55-04/2024-11-22_08-55-04_camTL.h5\n",
      "/home/yiting/Documents/Analysis/2024-11-22/anipose/pose_2d_filter/2024-11-22_08-55-04/2024-11-22_08-55-04_camTR.h5\n",
      "/home/yiting/Documents/Analysis/2024-11-22/anipose/pose_2d_filter/2024-11-22_08-55-04/2024-11-22_08-55-04_camTo.h5\n",
      "/home/yiting/Documents/Analysis/2024-11-22/anipose/pose_2d_filter/2024-11-22_08-55-17/2024-11-22_08-55-17_camBL.h5\n",
      "/home/yiting/Documents/Analysis/2024-11-22/anipose/pose_2d_filter/2024-11-22_08-55-17/2024-11-22_08-55-17_camBR.h5\n",
      "/home/yiting/Documents/Analysis/2024-11-22/anipose/pose_2d_filter/2024-11-22_08-55-17/2024-11-22_08-55-17_camTL.h5\n",
      "/home/yiting/Documents/Analysis/2024-11-22/anipose/pose_2d_filter/2024-11-22_08-55-17/2024-11-22_08-55-17_camTR.h5\n",
      "/home/yiting/Documents/Analysis/2024-11-22/anipose/pose_2d_filter/2024-11-22_08-55-17/2024-11-22_08-55-17_camTo.h5\n",
      "/home/yiting/Documents/Analysis/2024-11-22/anipose/pose_2d_filter/2024-11-22_08-55-29/2024-11-22_08-55-29_camBL.h5\n",
      "/home/yiting/Documents/Analysis/2024-11-22/anipose/pose_2d_filter/2024-11-22_08-55-29/2024-11-22_08-55-29_camBR.h5\n",
      "/home/yiting/Documents/Analysis/2024-11-22/anipose/pose_2d_filter/2024-11-22_08-55-29/2024-11-22_08-55-29_camTL.h5\n",
      "/home/yiting/Documents/Analysis/2024-11-22/anipose/pose_2d_filter/2024-11-22_08-55-29/2024-11-22_08-55-29_camTR.h5\n",
      "/home/yiting/Documents/Analysis/2024-11-22/anipose/pose_2d_filter/2024-11-22_08-55-29/2024-11-22_08-55-29_camTo.h5\n",
      "/home/yiting/Documents/Analysis/2024-11-22/anipose/pose_2d_filter/2024-11-22_08-55-42/2024-11-22_08-55-42_camBL.h5\n",
      "/home/yiting/Documents/Analysis/2024-11-22/anipose/pose_2d_filter/2024-11-22_08-55-42/2024-11-22_08-55-42_camBR.h5\n",
      "/home/yiting/Documents/Analysis/2024-11-22/anipose/pose_2d_filter/2024-11-22_08-55-42/2024-11-22_08-55-42_camTL.h5\n",
      "/home/yiting/Documents/Analysis/2024-11-22/anipose/pose_2d_filter/2024-11-22_08-55-42/2024-11-22_08-55-42_camTR.h5\n",
      "/home/yiting/Documents/Analysis/2024-11-22/anipose/pose_2d_filter/2024-11-22_08-55-42/2024-11-22_08-55-42_camTo.h5\n",
      "/home/yiting/Documents/Analysis/2024-11-22/anipose/pose_2d_filter/2024-11-22_08-55-54/2024-11-22_08-55-54_camBL.h5\n",
      "/home/yiting/Documents/Analysis/2024-11-22/anipose/pose_2d_filter/2024-11-22_08-55-54/2024-11-22_08-55-54_camBR.h5\n",
      "/home/yiting/Documents/Analysis/2024-11-22/anipose/pose_2d_filter/2024-11-22_08-55-54/2024-11-22_08-55-54_camTL.h5\n",
      "/home/yiting/Documents/Analysis/2024-11-22/anipose/pose_2d_filter/2024-11-22_08-55-54/2024-11-22_08-55-54_camTR.h5\n",
      "/home/yiting/Documents/Analysis/2024-11-22/anipose/pose_2d_filter/2024-11-22_08-55-54/2024-11-22_08-55-54_camTo.h5\n",
      "/home/yiting/Documents/Analysis/2024-11-22/anipose/pose_2d_filter/2024-11-22_08-56-07/2024-11-22_08-56-07_camBL.h5\n",
      "/home/yiting/Documents/Analysis/2024-11-22/anipose/pose_2d_filter/2024-11-22_08-56-07/2024-11-22_08-56-07_camBR.h5\n",
      "/home/yiting/Documents/Analysis/2024-11-22/anipose/pose_2d_filter/2024-11-22_08-56-07/2024-11-22_08-56-07_camTL.h5\n",
      "/home/yiting/Documents/Analysis/2024-11-22/anipose/pose_2d_filter/2024-11-22_08-56-07/2024-11-22_08-56-07_camTR.h5\n",
      "/home/yiting/Documents/Analysis/2024-11-22/anipose/pose_2d_filter/2024-11-22_08-56-07/2024-11-22_08-56-07_camTo.h5\n",
      "/home/yiting/Documents/Analysis/2024-11-22/anipose/pose_2d_filter/2024-11-22_08-56-19/2024-11-22_08-56-19_camBL.h5\n",
      "/home/yiting/Documents/Analysis/2024-11-22/anipose/pose_2d_filter/2024-11-22_08-56-19/2024-11-22_08-56-19_camBR.h5\n",
      "/home/yiting/Documents/Analysis/2024-11-22/anipose/pose_2d_filter/2024-11-22_08-56-19/2024-11-22_08-56-19_camTL.h5\n",
      "/home/yiting/Documents/Analysis/2024-11-22/anipose/pose_2d_filter/2024-11-22_08-56-19/2024-11-22_08-56-19_camTR.h5\n",
      "/home/yiting/Documents/Analysis/2024-11-22/anipose/pose_2d_filter/2024-11-22_08-56-19/2024-11-22_08-56-19_camTo.h5\n",
      "/home/yiting/Documents/Analysis/2024-11-22/anipose/pose_2d_filter/2024-11-22_08-56-32/2024-11-22_08-56-32_camBL.h5\n",
      "/home/yiting/Documents/Analysis/2024-11-22/anipose/pose_2d_filter/2024-11-22_08-56-32/2024-11-22_08-56-32_camBR.h5\n",
      "/home/yiting/Documents/Analysis/2024-11-22/anipose/pose_2d_filter/2024-11-22_08-56-32/2024-11-22_08-56-32_camTL.h5\n",
      "/home/yiting/Documents/Analysis/2024-11-22/anipose/pose_2d_filter/2024-11-22_08-56-32/2024-11-22_08-56-32_camTR.h5\n",
      "/home/yiting/Documents/Analysis/2024-11-22/anipose/pose_2d_filter/2024-11-22_08-56-32/2024-11-22_08-56-32_camTo.h5\n",
      "/home/yiting/Documents/Analysis/2024-11-22/anipose/pose_2d_filter/2024-11-22_08-56-44/2024-11-22_08-56-44_camBL.h5\n",
      "/home/yiting/Documents/Analysis/2024-11-22/anipose/pose_2d_filter/2024-11-22_08-56-44/2024-11-22_08-56-44_camBR.h5\n",
      "/home/yiting/Documents/Analysis/2024-11-22/anipose/pose_2d_filter/2024-11-22_08-56-44/2024-11-22_08-56-44_camTL.h5\n",
      "/home/yiting/Documents/Analysis/2024-11-22/anipose/pose_2d_filter/2024-11-22_08-56-44/2024-11-22_08-56-44_camTR.h5\n",
      "/home/yiting/Documents/Analysis/2024-11-22/anipose/pose_2d_filter/2024-11-22_08-56-44/2024-11-22_08-56-44_camTo.h5\n",
      "/home/yiting/Documents/Analysis/2024-11-22/anipose/pose_2d_filter/2024-11-22_08-56-56/2024-11-22_08-56-56_camBL.h5\n",
      "/home/yiting/Documents/Analysis/2024-11-22/anipose/pose_2d_filter/2024-11-22_08-56-56/2024-11-22_08-56-56_camBR.h5\n",
      "/home/yiting/Documents/Analysis/2024-11-22/anipose/pose_2d_filter/2024-11-22_08-56-56/2024-11-22_08-56-56_camTL.h5\n",
      "/home/yiting/Documents/Analysis/2024-11-22/anipose/pose_2d_filter/2024-11-22_08-56-56/2024-11-22_08-56-56_camTR.h5\n",
      "/home/yiting/Documents/Analysis/2024-11-22/anipose/pose_2d_filter/2024-11-22_08-56-56/2024-11-22_08-56-56_camTo.h5\n",
      "/home/yiting/Documents/Analysis/2024-11-22/anipose/pose_2d_filter/2024-11-22_08-57-11/2024-11-22_08-57-11_camBL.h5\n",
      "/home/yiting/Documents/Analysis/2024-11-22/anipose/pose_2d_filter/2024-11-22_08-57-11/2024-11-22_08-57-11_camBR.h5\n",
      "/home/yiting/Documents/Analysis/2024-11-22/anipose/pose_2d_filter/2024-11-22_08-57-11/2024-11-22_08-57-11_camTL.h5\n",
      "/home/yiting/Documents/Analysis/2024-11-22/anipose/pose_2d_filter/2024-11-22_08-57-11/2024-11-22_08-57-11_camTR.h5\n",
      "/home/yiting/Documents/Analysis/2024-11-22/anipose/pose_2d_filter/2024-11-22_08-57-11/2024-11-22_08-57-11_camTo.h5\n",
      "/home/yiting/Documents/Analysis/2024-11-22/anipose/pose_2d_filter/2024-11-22_08-57-22/2024-11-22_08-57-22_camBL.h5\n",
      "/home/yiting/Documents/Analysis/2024-11-22/anipose/pose_2d_filter/2024-11-22_08-57-22/2024-11-22_08-57-22_camBR.h5\n",
      "/home/yiting/Documents/Analysis/2024-11-22/anipose/pose_2d_filter/2024-11-22_08-57-22/2024-11-22_08-57-22_camTL.h5\n",
      "/home/yiting/Documents/Analysis/2024-11-22/anipose/pose_2d_filter/2024-11-22_08-57-22/2024-11-22_08-57-22_camTR.h5\n",
      "/home/yiting/Documents/Analysis/2024-11-22/anipose/pose_2d_filter/2024-11-22_08-57-22/2024-11-22_08-57-22_camTo.h5\n",
      "/home/yiting/Documents/Analysis/2024-11-22/anipose/pose_2d_filter/2024-11-22_08-57-35/2024-11-22_08-57-35_camBL.h5\n",
      "/home/yiting/Documents/Analysis/2024-11-22/anipose/pose_2d_filter/2024-11-22_08-57-35/2024-11-22_08-57-35_camBR.h5\n",
      "/home/yiting/Documents/Analysis/2024-11-22/anipose/pose_2d_filter/2024-11-22_08-57-35/2024-11-22_08-57-35_camTL.h5\n",
      "/home/yiting/Documents/Analysis/2024-11-22/anipose/pose_2d_filter/2024-11-22_08-57-35/2024-11-22_08-57-35_camTR.h5\n",
      "/home/yiting/Documents/Analysis/2024-11-22/anipose/pose_2d_filter/2024-11-22_08-57-35/2024-11-22_08-57-35_camTo.h5\n",
      "/home/yiting/Documents/Analysis/2024-11-22/anipose/pose_2d_filter/2024-11-22_08-57-46/2024-11-22_08-57-46_camBL.h5\n",
      "/home/yiting/Documents/Analysis/2024-11-22/anipose/pose_2d_filter/2024-11-22_08-57-46/2024-11-22_08-57-46_camBR.h5\n",
      "/home/yiting/Documents/Analysis/2024-11-22/anipose/pose_2d_filter/2024-11-22_08-57-46/2024-11-22_08-57-46_camTL.h5\n",
      "/home/yiting/Documents/Analysis/2024-11-22/anipose/pose_2d_filter/2024-11-22_08-57-46/2024-11-22_08-57-46_camTR.h5\n",
      "/home/yiting/Documents/Analysis/2024-11-22/anipose/pose_2d_filter/2024-11-22_08-57-46/2024-11-22_08-57-46_camTo.h5\n",
      "/home/yiting/Documents/Analysis/2024-11-22/anipose/pose_2d_filter/2024-11-22_08-57-59/2024-11-22_08-57-59_camBL.h5\n",
      "/home/yiting/Documents/Analysis/2024-11-22/anipose/pose_2d_filter/2024-11-22_08-57-59/2024-11-22_08-57-59_camBR.h5\n",
      "/home/yiting/Documents/Analysis/2024-11-22/anipose/pose_2d_filter/2024-11-22_08-57-59/2024-11-22_08-57-59_camTL.h5\n",
      "/home/yiting/Documents/Analysis/2024-11-22/anipose/pose_2d_filter/2024-11-22_08-57-59/2024-11-22_08-57-59_camTR.h5\n",
      "/home/yiting/Documents/Analysis/2024-11-22/anipose/pose_2d_filter/2024-11-22_08-57-59/2024-11-22_08-57-59_camTo.h5\n",
      "/home/yiting/Documents/Analysis/2024-11-22/anipose/pose_2d_filter/2024-11-22_08-58-13/2024-11-22_08-58-13_camBL.h5\n",
      "/home/yiting/Documents/Analysis/2024-11-22/anipose/pose_2d_filter/2024-11-22_08-58-13/2024-11-22_08-58-13_camBR.h5\n",
      "/home/yiting/Documents/Analysis/2024-11-22/anipose/pose_2d_filter/2024-11-22_08-58-13/2024-11-22_08-58-13_camTL.h5\n",
      "/home/yiting/Documents/Analysis/2024-11-22/anipose/pose_2d_filter/2024-11-22_08-58-13/2024-11-22_08-58-13_camTR.h5\n",
      "/home/yiting/Documents/Analysis/2024-11-22/anipose/pose_2d_filter/2024-11-22_08-58-13/2024-11-22_08-58-13_camTo.h5\n",
      "/home/yiting/Documents/Analysis/2024-11-22/anipose/pose_2d_filter/2024-11-22_08-58-24/2024-11-22_08-58-24_camBL.h5\n",
      "/home/yiting/Documents/Analysis/2024-11-22/anipose/pose_2d_filter/2024-11-22_08-58-24/2024-11-22_08-58-24_camBR.h5\n",
      "/home/yiting/Documents/Analysis/2024-11-22/anipose/pose_2d_filter/2024-11-22_08-58-24/2024-11-22_08-58-24_camTL.h5\n",
      "/home/yiting/Documents/Analysis/2024-11-22/anipose/pose_2d_filter/2024-11-22_08-58-24/2024-11-22_08-58-24_camTR.h5\n",
      "/home/yiting/Documents/Analysis/2024-11-22/anipose/pose_2d_filter/2024-11-22_08-58-24/2024-11-22_08-58-24_camTo.h5\n",
      "/home/yiting/Documents/Analysis/2024-11-22/anipose/pose_2d_filter/2024-11-22_08-58-37/2024-11-22_08-58-37_camBL.h5\n",
      "/home/yiting/Documents/Analysis/2024-11-22/anipose/pose_2d_filter/2024-11-22_08-58-37/2024-11-22_08-58-37_camBR.h5\n",
      "/home/yiting/Documents/Analysis/2024-11-22/anipose/pose_2d_filter/2024-11-22_08-58-37/2024-11-22_08-58-37_camTL.h5\n",
      "/home/yiting/Documents/Analysis/2024-11-22/anipose/pose_2d_filter/2024-11-22_08-58-37/2024-11-22_08-58-37_camTR.h5\n",
      "/home/yiting/Documents/Analysis/2024-11-22/anipose/pose_2d_filter/2024-11-22_08-58-37/2024-11-22_08-58-37_camTo.h5\n",
      "/home/yiting/Documents/Analysis/2024-11-22/anipose/pose_2d_filter/2024-11-22_08-58-51/2024-11-22_08-58-51_camBL.h5\n",
      "/home/yiting/Documents/Analysis/2024-11-22/anipose/pose_2d_filter/2024-11-22_08-58-51/2024-11-22_08-58-51_camBR.h5\n",
      "/home/yiting/Documents/Analysis/2024-11-22/anipose/pose_2d_filter/2024-11-22_08-58-51/2024-11-22_08-58-51_camTL.h5\n",
      "/home/yiting/Documents/Analysis/2024-11-22/anipose/pose_2d_filter/2024-11-22_08-58-51/2024-11-22_08-58-51_camTR.h5\n",
      "/home/yiting/Documents/Analysis/2024-11-22/anipose/pose_2d_filter/2024-11-22_08-58-51/2024-11-22_08-58-51_camTo.h5\n",
      "/home/yiting/Documents/Analysis/2024-11-22/anipose/pose_2d_filter/2024-11-22_08-59-03/2024-11-22_08-59-03_camBL.h5\n",
      "/home/yiting/Documents/Analysis/2024-11-22/anipose/pose_2d_filter/2024-11-22_08-59-03/2024-11-22_08-59-03_camBR.h5\n",
      "/home/yiting/Documents/Analysis/2024-11-22/anipose/pose_2d_filter/2024-11-22_08-59-03/2024-11-22_08-59-03_camTL.h5\n",
      "/home/yiting/Documents/Analysis/2024-11-22/anipose/pose_2d_filter/2024-11-22_08-59-03/2024-11-22_08-59-03_camTR.h5\n",
      "/home/yiting/Documents/Analysis/2024-11-22/anipose/pose_2d_filter/2024-11-22_08-59-03/2024-11-22_08-59-03_camTo.h5\n",
      "/home/yiting/Documents/Analysis/2024-11-22/anipose/pose_2d_filter/2024-11-22_08-59-14/2024-11-22_08-59-14_camBL.h5\n",
      "/home/yiting/Documents/Analysis/2024-11-22/anipose/pose_2d_filter/2024-11-22_08-59-14/2024-11-22_08-59-14_camBR.h5\n",
      "/home/yiting/Documents/Analysis/2024-11-22/anipose/pose_2d_filter/2024-11-22_08-59-14/2024-11-22_08-59-14_camTL.h5\n",
      "/home/yiting/Documents/Analysis/2024-11-22/anipose/pose_2d_filter/2024-11-22_08-59-14/2024-11-22_08-59-14_camTR.h5\n",
      "/home/yiting/Documents/Analysis/2024-11-22/anipose/pose_2d_filter/2024-11-22_08-59-14/2024-11-22_08-59-14_camTo.h5\n",
      "/home/yiting/Documents/Analysis/2024-11-22/anipose/pose_2d_filter/2024-11-22_08-59-27/2024-11-22_08-59-27_camBL.h5\n",
      "/home/yiting/Documents/Analysis/2024-11-22/anipose/pose_2d_filter/2024-11-22_08-59-27/2024-11-22_08-59-27_camBR.h5\n",
      "/home/yiting/Documents/Analysis/2024-11-22/anipose/pose_2d_filter/2024-11-22_08-59-27/2024-11-22_08-59-27_camTL.h5\n",
      "/home/yiting/Documents/Analysis/2024-11-22/anipose/pose_2d_filter/2024-11-22_08-59-27/2024-11-22_08-59-27_camTR.h5\n",
      "/home/yiting/Documents/Analysis/2024-11-22/anipose/pose_2d_filter/2024-11-22_08-59-27/2024-11-22_08-59-27_camTo.h5\n",
      "/home/yiting/Documents/Analysis/2024-11-22/anipose/pose_2d_filter/2024-11-22_08-59-41/2024-11-22_08-59-41_camBL.h5\n",
      "/home/yiting/Documents/Analysis/2024-11-22/anipose/pose_2d_filter/2024-11-22_08-59-41/2024-11-22_08-59-41_camBR.h5\n",
      "/home/yiting/Documents/Analysis/2024-11-22/anipose/pose_2d_filter/2024-11-22_08-59-41/2024-11-22_08-59-41_camTL.h5\n",
      "/home/yiting/Documents/Analysis/2024-11-22/anipose/pose_2d_filter/2024-11-22_08-59-41/2024-11-22_08-59-41_camTR.h5\n",
      "/home/yiting/Documents/Analysis/2024-11-22/anipose/pose_2d_filter/2024-11-22_08-59-41/2024-11-22_08-59-41_camTo.h5\n",
      "/home/yiting/Documents/Analysis/2024-11-22/anipose/pose_2d_filter/2024-11-22_08-59-54/2024-11-22_08-59-54_camBL.h5\n",
      "/home/yiting/Documents/Analysis/2024-11-22/anipose/pose_2d_filter/2024-11-22_08-59-54/2024-11-22_08-59-54_camBR.h5\n",
      "/home/yiting/Documents/Analysis/2024-11-22/anipose/pose_2d_filter/2024-11-22_08-59-54/2024-11-22_08-59-54_camTL.h5\n",
      "/home/yiting/Documents/Analysis/2024-11-22/anipose/pose_2d_filter/2024-11-22_08-59-54/2024-11-22_08-59-54_camTR.h5\n",
      "/home/yiting/Documents/Analysis/2024-11-22/anipose/pose_2d_filter/2024-11-22_08-59-54/2024-11-22_08-59-54_camTo.h5\n",
      "/home/yiting/Documents/Analysis/2024-11-22/anipose/pose_2d_filter/2024-11-22_09-00-07/2024-11-22_09-00-07_camBL.h5\n",
      "/home/yiting/Documents/Analysis/2024-11-22/anipose/pose_2d_filter/2024-11-22_09-00-07/2024-11-22_09-00-07_camBR.h5\n",
      "/home/yiting/Documents/Analysis/2024-11-22/anipose/pose_2d_filter/2024-11-22_09-00-07/2024-11-22_09-00-07_camTL.h5\n",
      "/home/yiting/Documents/Analysis/2024-11-22/anipose/pose_2d_filter/2024-11-22_09-00-07/2024-11-22_09-00-07_camTR.h5\n",
      "/home/yiting/Documents/Analysis/2024-11-22/anipose/pose_2d_filter/2024-11-22_09-00-07/2024-11-22_09-00-07_camTo.h5\n",
      "/home/yiting/Documents/Analysis/2024-11-22/anipose/pose_2d_filter/2024-11-22_09-00-20/2024-11-22_09-00-20_camBL.h5\n",
      "/home/yiting/Documents/Analysis/2024-11-22/anipose/pose_2d_filter/2024-11-22_09-00-20/2024-11-22_09-00-20_camBR.h5\n",
      "/home/yiting/Documents/Analysis/2024-11-22/anipose/pose_2d_filter/2024-11-22_09-00-20/2024-11-22_09-00-20_camTL.h5\n",
      "/home/yiting/Documents/Analysis/2024-11-22/anipose/pose_2d_filter/2024-11-22_09-00-20/2024-11-22_09-00-20_camTR.h5\n",
      "/home/yiting/Documents/Analysis/2024-11-22/anipose/pose_2d_filter/2024-11-22_09-00-20/2024-11-22_09-00-20_camTo.h5\n",
      "/home/yiting/Documents/Analysis/2024-11-22/anipose/pose_2d_filter/2024-11-22_09-00-34/2024-11-22_09-00-34_camBL.h5\n",
      "/home/yiting/Documents/Analysis/2024-11-22/anipose/pose_2d_filter/2024-11-22_09-00-34/2024-11-22_09-00-34_camBR.h5\n",
      "/home/yiting/Documents/Analysis/2024-11-22/anipose/pose_2d_filter/2024-11-22_09-00-34/2024-11-22_09-00-34_camTL.h5\n",
      "/home/yiting/Documents/Analysis/2024-11-22/anipose/pose_2d_filter/2024-11-22_09-00-34/2024-11-22_09-00-34_camTR.h5\n",
      "/home/yiting/Documents/Analysis/2024-11-22/anipose/pose_2d_filter/2024-11-22_09-00-34/2024-11-22_09-00-34_camTo.h5\n",
      "/home/yiting/Documents/Analysis/2024-11-22/anipose/pose_2d_filter/2024-11-22_09-00-47/2024-11-22_09-00-47_camBL.h5\n",
      "/home/yiting/Documents/Analysis/2024-11-22/anipose/pose_2d_filter/2024-11-22_09-00-47/2024-11-22_09-00-47_camBR.h5\n",
      "/home/yiting/Documents/Analysis/2024-11-22/anipose/pose_2d_filter/2024-11-22_09-00-47/2024-11-22_09-00-47_camTL.h5\n",
      "/home/yiting/Documents/Analysis/2024-11-22/anipose/pose_2d_filter/2024-11-22_09-00-47/2024-11-22_09-00-47_camTR.h5\n",
      "/home/yiting/Documents/Analysis/2024-11-22/anipose/pose_2d_filter/2024-11-22_09-00-47/2024-11-22_09-00-47_camTo.h5\n",
      "/home/yiting/Documents/Analysis/2024-11-22/anipose/pose_2d_filter/2024-11-22_09-00-59/2024-11-22_09-00-59_camBL.h5\n",
      "/home/yiting/Documents/Analysis/2024-11-22/anipose/pose_2d_filter/2024-11-22_09-00-59/2024-11-22_09-00-59_camBR.h5\n",
      "/home/yiting/Documents/Analysis/2024-11-22/anipose/pose_2d_filter/2024-11-22_09-00-59/2024-11-22_09-00-59_camTL.h5\n",
      "/home/yiting/Documents/Analysis/2024-11-22/anipose/pose_2d_filter/2024-11-22_09-00-59/2024-11-22_09-00-59_camTR.h5\n",
      "/home/yiting/Documents/Analysis/2024-11-22/anipose/pose_2d_filter/2024-11-22_09-00-59/2024-11-22_09-00-59_camTo.h5\n",
      "/home/yiting/Documents/Analysis/2024-11-22/anipose/pose_2d_filter/2024-11-22_09-01-11/2024-11-22_09-01-11_camBL.h5\n",
      "/home/yiting/Documents/Analysis/2024-11-22/anipose/pose_2d_filter/2024-11-22_09-01-11/2024-11-22_09-01-11_camBR.h5\n",
      "/home/yiting/Documents/Analysis/2024-11-22/anipose/pose_2d_filter/2024-11-22_09-01-11/2024-11-22_09-01-11_camTL.h5\n",
      "/home/yiting/Documents/Analysis/2024-11-22/anipose/pose_2d_filter/2024-11-22_09-01-11/2024-11-22_09-01-11_camTR.h5\n",
      "/home/yiting/Documents/Analysis/2024-11-22/anipose/pose_2d_filter/2024-11-22_09-01-11/2024-11-22_09-01-11_camTo.h5\n",
      "/home/yiting/Documents/Analysis/2024-11-22/anipose/pose_2d_filter/2024-11-22_09-01-25/2024-11-22_09-01-25_camBL.h5\n",
      "/home/yiting/Documents/Analysis/2024-11-22/anipose/pose_2d_filter/2024-11-22_09-01-25/2024-11-22_09-01-25_camBR.h5\n",
      "/home/yiting/Documents/Analysis/2024-11-22/anipose/pose_2d_filter/2024-11-22_09-01-25/2024-11-22_09-01-25_camTL.h5\n",
      "/home/yiting/Documents/Analysis/2024-11-22/anipose/pose_2d_filter/2024-11-22_09-01-25/2024-11-22_09-01-25_camTR.h5\n",
      "/home/yiting/Documents/Analysis/2024-11-22/anipose/pose_2d_filter/2024-11-22_09-01-25/2024-11-22_09-01-25_camTo.h5\n",
      "/home/yiting/Documents/Analysis/2024-11-22/anipose/pose_2d_filter/2024-11-22_09-01-37/2024-11-22_09-01-37_camBL.h5\n",
      "/home/yiting/Documents/Analysis/2024-11-22/anipose/pose_2d_filter/2024-11-22_09-01-37/2024-11-22_09-01-37_camBR.h5\n",
      "/home/yiting/Documents/Analysis/2024-11-22/anipose/pose_2d_filter/2024-11-22_09-01-37/2024-11-22_09-01-37_camTL.h5\n",
      "/home/yiting/Documents/Analysis/2024-11-22/anipose/pose_2d_filter/2024-11-22_09-01-37/2024-11-22_09-01-37_camTR.h5\n",
      "/home/yiting/Documents/Analysis/2024-11-22/anipose/pose_2d_filter/2024-11-22_09-01-37/2024-11-22_09-01-37_camTo.h5\n",
      "/home/yiting/Documents/Analysis/2024-11-22/anipose/pose_2d_filter/2024-11-22_09-01-51/2024-11-22_09-01-51_camBL.h5\n",
      "/home/yiting/Documents/Analysis/2024-11-22/anipose/pose_2d_filter/2024-11-22_09-01-51/2024-11-22_09-01-51_camBR.h5\n",
      "/home/yiting/Documents/Analysis/2024-11-22/anipose/pose_2d_filter/2024-11-22_09-01-51/2024-11-22_09-01-51_camTL.h5\n",
      "/home/yiting/Documents/Analysis/2024-11-22/anipose/pose_2d_filter/2024-11-22_09-01-51/2024-11-22_09-01-51_camTR.h5\n",
      "/home/yiting/Documents/Analysis/2024-11-22/anipose/pose_2d_filter/2024-11-22_09-01-51/2024-11-22_09-01-51_camTo.h5\n",
      "/home/yiting/Documents/Analysis/2024-11-22/anipose/pose_2d_filter/2024-11-22_09-02-05/2024-11-22_09-02-05_camBL.h5\n",
      "/home/yiting/Documents/Analysis/2024-11-22/anipose/pose_2d_filter/2024-11-22_09-02-05/2024-11-22_09-02-05_camBR.h5\n",
      "/home/yiting/Documents/Analysis/2024-11-22/anipose/pose_2d_filter/2024-11-22_09-02-05/2024-11-22_09-02-05_camTL.h5\n",
      "/home/yiting/Documents/Analysis/2024-11-22/anipose/pose_2d_filter/2024-11-22_09-02-05/2024-11-22_09-02-05_camTR.h5\n",
      "/home/yiting/Documents/Analysis/2024-11-22/anipose/pose_2d_filter/2024-11-22_09-02-05/2024-11-22_09-02-05_camTo.h5\n",
      "/home/yiting/Documents/Analysis/2024-11-22/anipose/pose_2d_filter/2024-11-22_09-02-19/2024-11-22_09-02-19_camBL.h5\n",
      "/home/yiting/Documents/Analysis/2024-11-22/anipose/pose_2d_filter/2024-11-22_09-02-19/2024-11-22_09-02-19_camBR.h5\n",
      "/home/yiting/Documents/Analysis/2024-11-22/anipose/pose_2d_filter/2024-11-22_09-02-19/2024-11-22_09-02-19_camTL.h5\n",
      "/home/yiting/Documents/Analysis/2024-11-22/anipose/pose_2d_filter/2024-11-22_09-02-19/2024-11-22_09-02-19_camTR.h5\n",
      "/home/yiting/Documents/Analysis/2024-11-22/anipose/pose_2d_filter/2024-11-22_09-02-19/2024-11-22_09-02-19_camTo.h5\n",
      "/home/yiting/Documents/Analysis/2024-11-22/anipose/pose_2d_filter/2024-11-22_09-02-33/2024-11-22_09-02-33_camBL.h5\n",
      "/home/yiting/Documents/Analysis/2024-11-22/anipose/pose_2d_filter/2024-11-22_09-02-33/2024-11-22_09-02-33_camBR.h5\n",
      "/home/yiting/Documents/Analysis/2024-11-22/anipose/pose_2d_filter/2024-11-22_09-02-33/2024-11-22_09-02-33_camTL.h5\n",
      "/home/yiting/Documents/Analysis/2024-11-22/anipose/pose_2d_filter/2024-11-22_09-02-33/2024-11-22_09-02-33_camTR.h5\n",
      "/home/yiting/Documents/Analysis/2024-11-22/anipose/pose_2d_filter/2024-11-22_09-02-33/2024-11-22_09-02-33_camTo.h5\n",
      "/home/yiting/Documents/Analysis/2024-11-22/anipose/pose_2d_filter/2024-11-22_09-02-45/2024-11-22_09-02-45_camBL.h5\n",
      "/home/yiting/Documents/Analysis/2024-11-22/anipose/pose_2d_filter/2024-11-22_09-02-45/2024-11-22_09-02-45_camBR.h5\n",
      "/home/yiting/Documents/Analysis/2024-11-22/anipose/pose_2d_filter/2024-11-22_09-02-45/2024-11-22_09-02-45_camTL.h5\n",
      "/home/yiting/Documents/Analysis/2024-11-22/anipose/pose_2d_filter/2024-11-22_09-02-45/2024-11-22_09-02-45_camTR.h5\n",
      "/home/yiting/Documents/Analysis/2024-11-22/anipose/pose_2d_filter/2024-11-22_09-02-45/2024-11-22_09-02-45_camTo.h5\n",
      "/home/yiting/Documents/Analysis/2024-11-22/anipose/pose_2d_filter/2024-11-22_09-02-57/2024-11-22_09-02-57_camBL.h5\n",
      "/home/yiting/Documents/Analysis/2024-11-22/anipose/pose_2d_filter/2024-11-22_09-02-57/2024-11-22_09-02-57_camBR.h5\n",
      "/home/yiting/Documents/Analysis/2024-11-22/anipose/pose_2d_filter/2024-11-22_09-02-57/2024-11-22_09-02-57_camTL.h5\n",
      "/home/yiting/Documents/Analysis/2024-11-22/anipose/pose_2d_filter/2024-11-22_09-02-57/2024-11-22_09-02-57_camTR.h5\n",
      "/home/yiting/Documents/Analysis/2024-11-22/anipose/pose_2d_filter/2024-11-22_09-02-57/2024-11-22_09-02-57_camTo.h5\n",
      "/home/yiting/Documents/Analysis/2024-11-22/anipose/pose_2d_filter/2024-11-22_09-03-08/2024-11-22_09-03-08_camBL.h5\n",
      "/home/yiting/Documents/Analysis/2024-11-22/anipose/pose_2d_filter/2024-11-22_09-03-08/2024-11-22_09-03-08_camBR.h5\n",
      "/home/yiting/Documents/Analysis/2024-11-22/anipose/pose_2d_filter/2024-11-22_09-03-08/2024-11-22_09-03-08_camTL.h5\n",
      "/home/yiting/Documents/Analysis/2024-11-22/anipose/pose_2d_filter/2024-11-22_09-03-08/2024-11-22_09-03-08_camTR.h5\n",
      "/home/yiting/Documents/Analysis/2024-11-22/anipose/pose_2d_filter/2024-11-22_09-03-08/2024-11-22_09-03-08_camTo.h5\n",
      "/home/yiting/Documents/Analysis/2024-11-22/anipose/pose_2d_filter/2024-11-22_09-03-20/2024-11-22_09-03-20_camBL.h5\n",
      "/home/yiting/Documents/Analysis/2024-11-22/anipose/pose_2d_filter/2024-11-22_09-03-20/2024-11-22_09-03-20_camBR.h5\n",
      "/home/yiting/Documents/Analysis/2024-11-22/anipose/pose_2d_filter/2024-11-22_09-03-20/2024-11-22_09-03-20_camTL.h5\n",
      "/home/yiting/Documents/Analysis/2024-11-22/anipose/pose_2d_filter/2024-11-22_09-03-20/2024-11-22_09-03-20_camTR.h5\n",
      "/home/yiting/Documents/Analysis/2024-11-22/anipose/pose_2d_filter/2024-11-22_09-03-20/2024-11-22_09-03-20_camTo.h5\n",
      "/home/yiting/Documents/Analysis/2024-11-22/anipose/pose_2d_filter/2024-11-22_09-03-32/2024-11-22_09-03-32_camBL.h5\n",
      "/home/yiting/Documents/Analysis/2024-11-22/anipose/pose_2d_filter/2024-11-22_09-03-32/2024-11-22_09-03-32_camBR.h5\n",
      "/home/yiting/Documents/Analysis/2024-11-22/anipose/pose_2d_filter/2024-11-22_09-03-32/2024-11-22_09-03-32_camTL.h5\n",
      "/home/yiting/Documents/Analysis/2024-11-22/anipose/pose_2d_filter/2024-11-22_09-03-32/2024-11-22_09-03-32_camTR.h5\n",
      "/home/yiting/Documents/Analysis/2024-11-22/anipose/pose_2d_filter/2024-11-22_09-03-32/2024-11-22_09-03-32_camTo.h5\n",
      "/home/yiting/Documents/Analysis/2024-11-22/anipose/pose_2d_filter/2024-11-22_09-03-43/2024-11-22_09-03-43_camBL.h5\n",
      "/home/yiting/Documents/Analysis/2024-11-22/anipose/pose_2d_filter/2024-11-22_09-03-43/2024-11-22_09-03-43_camBR.h5\n",
      "/home/yiting/Documents/Analysis/2024-11-22/anipose/pose_2d_filter/2024-11-22_09-03-43/2024-11-22_09-03-43_camTL.h5\n",
      "/home/yiting/Documents/Analysis/2024-11-22/anipose/pose_2d_filter/2024-11-22_09-03-43/2024-11-22_09-03-43_camTR.h5\n",
      "/home/yiting/Documents/Analysis/2024-11-22/anipose/pose_2d_filter/2024-11-22_09-03-43/2024-11-22_09-03-43_camTo.h5\n",
      "/home/yiting/Documents/Analysis/2024-11-22/anipose/pose_2d_filter/2024-11-22_09-03-54/2024-11-22_09-03-54_camBL.h5\n",
      "/home/yiting/Documents/Analysis/2024-11-22/anipose/pose_2d_filter/2024-11-22_09-03-54/2024-11-22_09-03-54_camBR.h5\n",
      "/home/yiting/Documents/Analysis/2024-11-22/anipose/pose_2d_filter/2024-11-22_09-03-54/2024-11-22_09-03-54_camTL.h5\n",
      "/home/yiting/Documents/Analysis/2024-11-22/anipose/pose_2d_filter/2024-11-22_09-03-54/2024-11-22_09-03-54_camTR.h5\n",
      "/home/yiting/Documents/Analysis/2024-11-22/anipose/pose_2d_filter/2024-11-22_09-03-54/2024-11-22_09-03-54_camTo.h5\n",
      "/home/yiting/Documents/Analysis/2024-11-22/anipose/pose_2d_filter/2024-11-22_09-04-07/2024-11-22_09-04-07_camBL.h5\n",
      "/home/yiting/Documents/Analysis/2024-11-22/anipose/pose_2d_filter/2024-11-22_09-04-07/2024-11-22_09-04-07_camBR.h5\n",
      "/home/yiting/Documents/Analysis/2024-11-22/anipose/pose_2d_filter/2024-11-22_09-04-07/2024-11-22_09-04-07_camTL.h5\n",
      "/home/yiting/Documents/Analysis/2024-11-22/anipose/pose_2d_filter/2024-11-22_09-04-07/2024-11-22_09-04-07_camTR.h5\n",
      "/home/yiting/Documents/Analysis/2024-11-22/anipose/pose_2d_filter/2024-11-22_09-04-07/2024-11-22_09-04-07_camTo.h5\n",
      "/home/yiting/Documents/Analysis/2024-11-22/anipose/pose_2d_filter/2024-11-22_09-04-20/2024-11-22_09-04-20_camBL.h5\n",
      "/home/yiting/Documents/Analysis/2024-11-22/anipose/pose_2d_filter/2024-11-22_09-04-20/2024-11-22_09-04-20_camBR.h5\n",
      "/home/yiting/Documents/Analysis/2024-11-22/anipose/pose_2d_filter/2024-11-22_09-04-20/2024-11-22_09-04-20_camTL.h5\n",
      "/home/yiting/Documents/Analysis/2024-11-22/anipose/pose_2d_filter/2024-11-22_09-04-20/2024-11-22_09-04-20_camTR.h5\n",
      "/home/yiting/Documents/Analysis/2024-11-22/anipose/pose_2d_filter/2024-11-22_09-04-20/2024-11-22_09-04-20_camTo.h5\n",
      "/home/yiting/Documents/Analysis/2024-11-22/anipose/pose_2d_filter/2024-11-22_09-04-33/2024-11-22_09-04-33_camBL.h5\n",
      "/home/yiting/Documents/Analysis/2024-11-22/anipose/pose_2d_filter/2024-11-22_09-04-33/2024-11-22_09-04-33_camBR.h5\n",
      "/home/yiting/Documents/Analysis/2024-11-22/anipose/pose_2d_filter/2024-11-22_09-04-33/2024-11-22_09-04-33_camTL.h5\n",
      "/home/yiting/Documents/Analysis/2024-11-22/anipose/pose_2d_filter/2024-11-22_09-04-33/2024-11-22_09-04-33_camTR.h5\n",
      "/home/yiting/Documents/Analysis/2024-11-22/anipose/pose_2d_filter/2024-11-22_09-04-33/2024-11-22_09-04-33_camTo.h5\n",
      "/home/yiting/Documents/Analysis/2024-11-22/anipose/pose_2d_filter/2024-11-22_09-04-48/2024-11-22_09-04-48_camBL.h5\n",
      "/home/yiting/Documents/Analysis/2024-11-22/anipose/pose_2d_filter/2024-11-22_09-04-48/2024-11-22_09-04-48_camBR.h5\n",
      "/home/yiting/Documents/Analysis/2024-11-22/anipose/pose_2d_filter/2024-11-22_09-04-48/2024-11-22_09-04-48_camTL.h5\n",
      "/home/yiting/Documents/Analysis/2024-11-22/anipose/pose_2d_filter/2024-11-22_09-04-48/2024-11-22_09-04-48_camTR.h5\n",
      "/home/yiting/Documents/Analysis/2024-11-22/anipose/pose_2d_filter/2024-11-22_09-04-48/2024-11-22_09-04-48_camTo.h5\n",
      "/home/yiting/Documents/Analysis/2024-11-22/anipose/pose_2d_filter/2024-11-22_09-05-03/2024-11-22_09-05-03_camBL.h5\n",
      "/home/yiting/Documents/Analysis/2024-11-22/anipose/pose_2d_filter/2024-11-22_09-05-03/2024-11-22_09-05-03_camBR.h5\n",
      "/home/yiting/Documents/Analysis/2024-11-22/anipose/pose_2d_filter/2024-11-22_09-05-03/2024-11-22_09-05-03_camTL.h5\n",
      "/home/yiting/Documents/Analysis/2024-11-22/anipose/pose_2d_filter/2024-11-22_09-05-03/2024-11-22_09-05-03_camTR.h5\n",
      "/home/yiting/Documents/Analysis/2024-11-22/anipose/pose_2d_filter/2024-11-22_09-05-03/2024-11-22_09-05-03_camTo.h5\n",
      "/home/yiting/Documents/Analysis/2024-11-22/anipose/pose_2d_filter/2024-11-22_09-05-16/2024-11-22_09-05-16_camBL.h5\n",
      "/home/yiting/Documents/Analysis/2024-11-22/anipose/pose_2d_filter/2024-11-22_09-05-16/2024-11-22_09-05-16_camBR.h5\n",
      "/home/yiting/Documents/Analysis/2024-11-22/anipose/pose_2d_filter/2024-11-22_09-05-16/2024-11-22_09-05-16_camTL.h5\n",
      "/home/yiting/Documents/Analysis/2024-11-22/anipose/pose_2d_filter/2024-11-22_09-05-16/2024-11-22_09-05-16_camTR.h5\n",
      "/home/yiting/Documents/Analysis/2024-11-22/anipose/pose_2d_filter/2024-11-22_09-05-16/2024-11-22_09-05-16_camTo.h5\n",
      "/home/yiting/Documents/Analysis/2024-11-22/anipose/pose_2d_filter/2024-11-22_09-05-30/2024-11-22_09-05-30_camBL.h5\n",
      "/home/yiting/Documents/Analysis/2024-11-22/anipose/pose_2d_filter/2024-11-22_09-05-30/2024-11-22_09-05-30_camBR.h5\n",
      "/home/yiting/Documents/Analysis/2024-11-22/anipose/pose_2d_filter/2024-11-22_09-05-30/2024-11-22_09-05-30_camTL.h5\n",
      "/home/yiting/Documents/Analysis/2024-11-22/anipose/pose_2d_filter/2024-11-22_09-05-30/2024-11-22_09-05-30_camTR.h5\n",
      "/home/yiting/Documents/Analysis/2024-11-22/anipose/pose_2d_filter/2024-11-22_09-05-30/2024-11-22_09-05-30_camTo.h5\n",
      "/home/yiting/Documents/Analysis/2024-11-22/anipose/pose_2d_filter/2024-11-22_09-05-43/2024-11-22_09-05-43_camBL.h5\n",
      "/home/yiting/Documents/Analysis/2024-11-22/anipose/pose_2d_filter/2024-11-22_09-05-43/2024-11-22_09-05-43_camBR.h5\n",
      "/home/yiting/Documents/Analysis/2024-11-22/anipose/pose_2d_filter/2024-11-22_09-05-43/2024-11-22_09-05-43_camTL.h5\n",
      "/home/yiting/Documents/Analysis/2024-11-22/anipose/pose_2d_filter/2024-11-22_09-05-43/2024-11-22_09-05-43_camTR.h5\n",
      "/home/yiting/Documents/Analysis/2024-11-22/anipose/pose_2d_filter/2024-11-22_09-05-43/2024-11-22_09-05-43_camTo.h5\n",
      "/home/yiting/Documents/Analysis/2024-11-22/anipose/pose_2d_filter/2024-11-22_09-05-57/2024-11-22_09-05-57_camBL.h5\n",
      "/home/yiting/Documents/Analysis/2024-11-22/anipose/pose_2d_filter/2024-11-22_09-05-57/2024-11-22_09-05-57_camBR.h5\n",
      "/home/yiting/Documents/Analysis/2024-11-22/anipose/pose_2d_filter/2024-11-22_09-05-57/2024-11-22_09-05-57_camTL.h5\n",
      "/home/yiting/Documents/Analysis/2024-11-22/anipose/pose_2d_filter/2024-11-22_09-05-57/2024-11-22_09-05-57_camTR.h5\n",
      "/home/yiting/Documents/Analysis/2024-11-22/anipose/pose_2d_filter/2024-11-22_09-05-57/2024-11-22_09-05-57_camTo.h5\n",
      "/home/yiting/Documents/Analysis/2024-11-22/anipose/pose_2d_filter/2024-11-22_09-06-09/2024-11-22_09-06-09_camBL.h5\n",
      "/home/yiting/Documents/Analysis/2024-11-22/anipose/pose_2d_filter/2024-11-22_09-06-09/2024-11-22_09-06-09_camBR.h5\n",
      "/home/yiting/Documents/Analysis/2024-11-22/anipose/pose_2d_filter/2024-11-22_09-06-09/2024-11-22_09-06-09_camTL.h5\n",
      "/home/yiting/Documents/Analysis/2024-11-22/anipose/pose_2d_filter/2024-11-22_09-06-09/2024-11-22_09-06-09_camTR.h5\n",
      "/home/yiting/Documents/Analysis/2024-11-22/anipose/pose_2d_filter/2024-11-22_09-06-09/2024-11-22_09-06-09_camTo.h5\n",
      "/home/yiting/Documents/Analysis/2024-11-22/anipose/pose_2d_filter/2024-11-22_09-06-20/2024-11-22_09-06-20_camBL.h5\n",
      "/home/yiting/Documents/Analysis/2024-11-22/anipose/pose_2d_filter/2024-11-22_09-06-20/2024-11-22_09-06-20_camBR.h5\n",
      "/home/yiting/Documents/Analysis/2024-11-22/anipose/pose_2d_filter/2024-11-22_09-06-20/2024-11-22_09-06-20_camTL.h5\n",
      "/home/yiting/Documents/Analysis/2024-11-22/anipose/pose_2d_filter/2024-11-22_09-06-20/2024-11-22_09-06-20_camTR.h5\n",
      "/home/yiting/Documents/Analysis/2024-11-22/anipose/pose_2d_filter/2024-11-22_09-06-20/2024-11-22_09-06-20_camTo.h5\n",
      "/home/yiting/Documents/Analysis/2024-11-22/anipose/pose_2d_filter/2024-11-22_09-06-34/2024-11-22_09-06-34_camBL.h5\n",
      "/home/yiting/Documents/Analysis/2024-11-22/anipose/pose_2d_filter/2024-11-22_09-06-34/2024-11-22_09-06-34_camBR.h5\n",
      "/home/yiting/Documents/Analysis/2024-11-22/anipose/pose_2d_filter/2024-11-22_09-06-34/2024-11-22_09-06-34_camTL.h5\n",
      "/home/yiting/Documents/Analysis/2024-11-22/anipose/pose_2d_filter/2024-11-22_09-06-34/2024-11-22_09-06-34_camTR.h5\n",
      "/home/yiting/Documents/Analysis/2024-11-22/anipose/pose_2d_filter/2024-11-22_09-06-34/2024-11-22_09-06-34_camTo.h5\n",
      "/home/yiting/Documents/Analysis/2024-11-22/anipose/pose_2d_filter/2024-11-22_09-06-48/2024-11-22_09-06-48_camBL.h5\n",
      "/home/yiting/Documents/Analysis/2024-11-22/anipose/pose_2d_filter/2024-11-22_09-06-48/2024-11-22_09-06-48_camBR.h5\n",
      "/home/yiting/Documents/Analysis/2024-11-22/anipose/pose_2d_filter/2024-11-22_09-06-48/2024-11-22_09-06-48_camTL.h5\n",
      "/home/yiting/Documents/Analysis/2024-11-22/anipose/pose_2d_filter/2024-11-22_09-06-48/2024-11-22_09-06-48_camTR.h5\n",
      "/home/yiting/Documents/Analysis/2024-11-22/anipose/pose_2d_filter/2024-11-22_09-06-48/2024-11-22_09-06-48_camTo.h5\n",
      "/home/yiting/Documents/Analysis/2024-11-22/anipose/pose_2d_filter/2024-11-22_09-07-02/2024-11-22_09-07-02_camBL.h5\n",
      "/home/yiting/Documents/Analysis/2024-11-22/anipose/pose_2d_filter/2024-11-22_09-07-02/2024-11-22_09-07-02_camBR.h5\n",
      "/home/yiting/Documents/Analysis/2024-11-22/anipose/pose_2d_filter/2024-11-22_09-07-02/2024-11-22_09-07-02_camTL.h5\n",
      "/home/yiting/Documents/Analysis/2024-11-22/anipose/pose_2d_filter/2024-11-22_09-07-02/2024-11-22_09-07-02_camTR.h5\n",
      "/home/yiting/Documents/Analysis/2024-11-22/anipose/pose_2d_filter/2024-11-22_09-07-02/2024-11-22_09-07-02_camTo.h5\n",
      "/home/yiting/Documents/Analysis/2024-11-22/anipose/pose_2d_filter/2024-11-22_09-07-17/2024-11-22_09-07-17_camBL.h5\n",
      "/home/yiting/Documents/Analysis/2024-11-22/anipose/pose_2d_filter/2024-11-22_09-07-17/2024-11-22_09-07-17_camBR.h5\n",
      "/home/yiting/Documents/Analysis/2024-11-22/anipose/pose_2d_filter/2024-11-22_09-07-17/2024-11-22_09-07-17_camTL.h5\n",
      "/home/yiting/Documents/Analysis/2024-11-22/anipose/pose_2d_filter/2024-11-22_09-07-17/2024-11-22_09-07-17_camTR.h5\n",
      "/home/yiting/Documents/Analysis/2024-11-22/anipose/pose_2d_filter/2024-11-22_09-07-17/2024-11-22_09-07-17_camTo.h5\n",
      "/home/yiting/Documents/Analysis/2024-11-22/anipose/pose_2d_filter/2024-11-22_09-07-31/2024-11-22_09-07-31_camBL.h5\n",
      "/home/yiting/Documents/Analysis/2024-11-22/anipose/pose_2d_filter/2024-11-22_09-07-31/2024-11-22_09-07-31_camBR.h5\n",
      "/home/yiting/Documents/Analysis/2024-11-22/anipose/pose_2d_filter/2024-11-22_09-07-31/2024-11-22_09-07-31_camTL.h5\n",
      "/home/yiting/Documents/Analysis/2024-11-22/anipose/pose_2d_filter/2024-11-22_09-07-31/2024-11-22_09-07-31_camTR.h5\n",
      "/home/yiting/Documents/Analysis/2024-11-22/anipose/pose_2d_filter/2024-11-22_09-07-31/2024-11-22_09-07-31_camTo.h5\n",
      "/home/yiting/Documents/Analysis/2024-11-22/anipose/pose_2d_filter/2024-11-22_09-07-44/2024-11-22_09-07-44_camBL.h5\n",
      "/home/yiting/Documents/Analysis/2024-11-22/anipose/pose_2d_filter/2024-11-22_09-07-44/2024-11-22_09-07-44_camBR.h5\n",
      "/home/yiting/Documents/Analysis/2024-11-22/anipose/pose_2d_filter/2024-11-22_09-07-44/2024-11-22_09-07-44_camTL.h5\n",
      "/home/yiting/Documents/Analysis/2024-11-22/anipose/pose_2d_filter/2024-11-22_09-07-44/2024-11-22_09-07-44_camTR.h5\n",
      "/home/yiting/Documents/Analysis/2024-11-22/anipose/pose_2d_filter/2024-11-22_09-07-44/2024-11-22_09-07-44_camTo.h5\n",
      "/home/yiting/Documents/Analysis/2024-11-22/anipose/pose_2d_filter/2024-11-22_09-07-56/2024-11-22_09-07-56_camBL.h5\n",
      "/home/yiting/Documents/Analysis/2024-11-22/anipose/pose_2d_filter/2024-11-22_09-07-56/2024-11-22_09-07-56_camBR.h5\n",
      "/home/yiting/Documents/Analysis/2024-11-22/anipose/pose_2d_filter/2024-11-22_09-07-56/2024-11-22_09-07-56_camTL.h5\n",
      "/home/yiting/Documents/Analysis/2024-11-22/anipose/pose_2d_filter/2024-11-22_09-07-56/2024-11-22_09-07-56_camTR.h5\n",
      "/home/yiting/Documents/Analysis/2024-11-22/anipose/pose_2d_filter/2024-11-22_09-07-56/2024-11-22_09-07-56_camTo.h5\n",
      "/home/yiting/Documents/Analysis/2024-11-22/anipose/pose_2d_filter/2024-11-22_09-08-10/2024-11-22_09-08-10_camBL.h5\n",
      "/home/yiting/Documents/Analysis/2024-11-22/anipose/pose_2d_filter/2024-11-22_09-08-10/2024-11-22_09-08-10_camBR.h5\n",
      "/home/yiting/Documents/Analysis/2024-11-22/anipose/pose_2d_filter/2024-11-22_09-08-10/2024-11-22_09-08-10_camTL.h5\n",
      "/home/yiting/Documents/Analysis/2024-11-22/anipose/pose_2d_filter/2024-11-22_09-08-10/2024-11-22_09-08-10_camTR.h5\n",
      "/home/yiting/Documents/Analysis/2024-11-22/anipose/pose_2d_filter/2024-11-22_09-08-10/2024-11-22_09-08-10_camTo.h5\n",
      "/home/yiting/Documents/Analysis/2024-11-22/anipose/pose_2d_filter/2024-11-22_09-08-23/2024-11-22_09-08-23_camBL.h5\n",
      "/home/yiting/Documents/Analysis/2024-11-22/anipose/pose_2d_filter/2024-11-22_09-08-23/2024-11-22_09-08-23_camBR.h5\n",
      "/home/yiting/Documents/Analysis/2024-11-22/anipose/pose_2d_filter/2024-11-22_09-08-23/2024-11-22_09-08-23_camTL.h5\n",
      "/home/yiting/Documents/Analysis/2024-11-22/anipose/pose_2d_filter/2024-11-22_09-08-23/2024-11-22_09-08-23_camTR.h5\n",
      "/home/yiting/Documents/Analysis/2024-11-22/anipose/pose_2d_filter/2024-11-22_09-08-23/2024-11-22_09-08-23_camTo.h5\n",
      "/home/yiting/Documents/Analysis/2024-11-22/anipose/pose_2d_filter/2024-11-22_09-08-36/2024-11-22_09-08-36_camBL.h5\n",
      "/home/yiting/Documents/Analysis/2024-11-22/anipose/pose_2d_filter/2024-11-22_09-08-36/2024-11-22_09-08-36_camBR.h5\n",
      "/home/yiting/Documents/Analysis/2024-11-22/anipose/pose_2d_filter/2024-11-22_09-08-36/2024-11-22_09-08-36_camTL.h5\n",
      "/home/yiting/Documents/Analysis/2024-11-22/anipose/pose_2d_filter/2024-11-22_09-08-36/2024-11-22_09-08-36_camTR.h5\n",
      "/home/yiting/Documents/Analysis/2024-11-22/anipose/pose_2d_filter/2024-11-22_09-08-36/2024-11-22_09-08-36_camTo.h5\n",
      "/home/yiting/Documents/Analysis/2024-11-22/anipose/pose_2d_filter/2024-11-22_09-08-48/2024-11-22_09-08-48_camBL.h5\n",
      "/home/yiting/Documents/Analysis/2024-11-22/anipose/pose_2d_filter/2024-11-22_09-08-48/2024-11-22_09-08-48_camBR.h5\n",
      "/home/yiting/Documents/Analysis/2024-11-22/anipose/pose_2d_filter/2024-11-22_09-08-48/2024-11-22_09-08-48_camTL.h5\n",
      "/home/yiting/Documents/Analysis/2024-11-22/anipose/pose_2d_filter/2024-11-22_09-08-48/2024-11-22_09-08-48_camTR.h5\n",
      "/home/yiting/Documents/Analysis/2024-11-22/anipose/pose_2d_filter/2024-11-22_09-08-48/2024-11-22_09-08-48_camTo.h5\n",
      "/home/yiting/Documents/Analysis/2024-11-22/anipose/pose_2d_filter/2024-11-22_09-09-00/2024-11-22_09-09-00_camBL.h5\n",
      "/home/yiting/Documents/Analysis/2024-11-22/anipose/pose_2d_filter/2024-11-22_09-09-00/2024-11-22_09-09-00_camBR.h5\n",
      "/home/yiting/Documents/Analysis/2024-11-22/anipose/pose_2d_filter/2024-11-22_09-09-00/2024-11-22_09-09-00_camTL.h5\n",
      "/home/yiting/Documents/Analysis/2024-11-22/anipose/pose_2d_filter/2024-11-22_09-09-00/2024-11-22_09-09-00_camTR.h5\n",
      "/home/yiting/Documents/Analysis/2024-11-22/anipose/pose_2d_filter/2024-11-22_09-09-00/2024-11-22_09-09-00_camTo.h5\n",
      "/home/yiting/Documents/Analysis/2024-11-22/anipose/pose_2d_filter/2024-11-22_09-09-13/2024-11-22_09-09-13_camBL.h5\n",
      "/home/yiting/Documents/Analysis/2024-11-22/anipose/pose_2d_filter/2024-11-22_09-09-13/2024-11-22_09-09-13_camBR.h5\n",
      "/home/yiting/Documents/Analysis/2024-11-22/anipose/pose_2d_filter/2024-11-22_09-09-13/2024-11-22_09-09-13_camTL.h5\n",
      "/home/yiting/Documents/Analysis/2024-11-22/anipose/pose_2d_filter/2024-11-22_09-09-13/2024-11-22_09-09-13_camTR.h5\n",
      "/home/yiting/Documents/Analysis/2024-11-22/anipose/pose_2d_filter/2024-11-22_09-09-13/2024-11-22_09-09-13_camTo.h5\n",
      "/home/yiting/Documents/Analysis/2024-11-22/anipose/pose_2d_filter/2024-11-22_09-09-24/2024-11-22_09-09-24_camBL.h5\n",
      "/home/yiting/Documents/Analysis/2024-11-22/anipose/pose_2d_filter/2024-11-22_09-09-24/2024-11-22_09-09-24_camBR.h5\n",
      "/home/yiting/Documents/Analysis/2024-11-22/anipose/pose_2d_filter/2024-11-22_09-09-24/2024-11-22_09-09-24_camTL.h5\n",
      "/home/yiting/Documents/Analysis/2024-11-22/anipose/pose_2d_filter/2024-11-22_09-09-24/2024-11-22_09-09-24_camTR.h5\n",
      "/home/yiting/Documents/Analysis/2024-11-22/anipose/pose_2d_filter/2024-11-22_09-09-24/2024-11-22_09-09-24_camTo.h5\n",
      "/home/yiting/Documents/Analysis/2024-11-22/anipose/pose_2d_filter/2024-11-22_09-09-38/2024-11-22_09-09-38_camBL.h5\n",
      "/home/yiting/Documents/Analysis/2024-11-22/anipose/pose_2d_filter/2024-11-22_09-09-38/2024-11-22_09-09-38_camBR.h5\n",
      "/home/yiting/Documents/Analysis/2024-11-22/anipose/pose_2d_filter/2024-11-22_09-09-38/2024-11-22_09-09-38_camTL.h5\n",
      "/home/yiting/Documents/Analysis/2024-11-22/anipose/pose_2d_filter/2024-11-22_09-09-38/2024-11-22_09-09-38_camTR.h5\n",
      "/home/yiting/Documents/Analysis/2024-11-22/anipose/pose_2d_filter/2024-11-22_09-09-38/2024-11-22_09-09-38_camTo.h5\n",
      "/home/yiting/Documents/Analysis/2024-11-22/anipose/pose_2d_filter/2024-11-22_09-09-51/2024-11-22_09-09-51_camBL.h5\n",
      "/home/yiting/Documents/Analysis/2024-11-22/anipose/pose_2d_filter/2024-11-22_09-09-51/2024-11-22_09-09-51_camBR.h5\n",
      "/home/yiting/Documents/Analysis/2024-11-22/anipose/pose_2d_filter/2024-11-22_09-09-51/2024-11-22_09-09-51_camTL.h5\n",
      "/home/yiting/Documents/Analysis/2024-11-22/anipose/pose_2d_filter/2024-11-22_09-09-51/2024-11-22_09-09-51_camTR.h5\n",
      "/home/yiting/Documents/Analysis/2024-11-22/anipose/pose_2d_filter/2024-11-22_09-09-51/2024-11-22_09-09-51_camTo.h5\n",
      "/home/yiting/Documents/Analysis/2024-11-22/anipose/pose_2d_filter/2024-11-22_09-10-03/2024-11-22_09-10-03_camBL.h5\n",
      "/home/yiting/Documents/Analysis/2024-11-22/anipose/pose_2d_filter/2024-11-22_09-10-03/2024-11-22_09-10-03_camBR.h5\n",
      "/home/yiting/Documents/Analysis/2024-11-22/anipose/pose_2d_filter/2024-11-22_09-10-03/2024-11-22_09-10-03_camTL.h5\n",
      "/home/yiting/Documents/Analysis/2024-11-22/anipose/pose_2d_filter/2024-11-22_09-10-03/2024-11-22_09-10-03_camTR.h5\n",
      "/home/yiting/Documents/Analysis/2024-11-22/anipose/pose_2d_filter/2024-11-22_09-10-03/2024-11-22_09-10-03_camTo.h5\n",
      "/home/yiting/Documents/Analysis/2024-11-22/anipose/pose_2d_filter/2024-11-22_09-10-14/2024-11-22_09-10-14_camBL.h5\n",
      "/home/yiting/Documents/Analysis/2024-11-22/anipose/pose_2d_filter/2024-11-22_09-10-14/2024-11-22_09-10-14_camBR.h5\n",
      "/home/yiting/Documents/Analysis/2024-11-22/anipose/pose_2d_filter/2024-11-22_09-10-14/2024-11-22_09-10-14_camTL.h5\n",
      "/home/yiting/Documents/Analysis/2024-11-22/anipose/pose_2d_filter/2024-11-22_09-10-14/2024-11-22_09-10-14_camTR.h5\n",
      "/home/yiting/Documents/Analysis/2024-11-22/anipose/pose_2d_filter/2024-11-22_09-10-14/2024-11-22_09-10-14_camTo.h5\n",
      "/home/yiting/Documents/Analysis/2024-11-22/anipose/pose_2d_filter/2024-11-22_09-10-28/2024-11-22_09-10-28_camBL.h5\n",
      "/home/yiting/Documents/Analysis/2024-11-22/anipose/pose_2d_filter/2024-11-22_09-10-28/2024-11-22_09-10-28_camBR.h5\n",
      "/home/yiting/Documents/Analysis/2024-11-22/anipose/pose_2d_filter/2024-11-22_09-10-28/2024-11-22_09-10-28_camTL.h5\n",
      "/home/yiting/Documents/Analysis/2024-11-22/anipose/pose_2d_filter/2024-11-22_09-10-28/2024-11-22_09-10-28_camTR.h5\n",
      "/home/yiting/Documents/Analysis/2024-11-22/anipose/pose_2d_filter/2024-11-22_09-10-28/2024-11-22_09-10-28_camTo.h5\n",
      "/home/yiting/Documents/Analysis/2024-11-22/anipose/pose_2d_filter/2024-11-22_09-10-42/2024-11-22_09-10-42_camBL.h5\n",
      "/home/yiting/Documents/Analysis/2024-11-22/anipose/pose_2d_filter/2024-11-22_09-10-42/2024-11-22_09-10-42_camBR.h5\n",
      "/home/yiting/Documents/Analysis/2024-11-22/anipose/pose_2d_filter/2024-11-22_09-10-42/2024-11-22_09-10-42_camTL.h5\n",
      "/home/yiting/Documents/Analysis/2024-11-22/anipose/pose_2d_filter/2024-11-22_09-10-42/2024-11-22_09-10-42_camTR.h5\n",
      "/home/yiting/Documents/Analysis/2024-11-22/anipose/pose_2d_filter/2024-11-22_09-10-42/2024-11-22_09-10-42_camTo.h5\n",
      "/home/yiting/Documents/Analysis/2024-11-22/anipose/pose_2d_filter/2024-11-22_09-10-54/2024-11-22_09-10-54_camBL.h5\n",
      "/home/yiting/Documents/Analysis/2024-11-22/anipose/pose_2d_filter/2024-11-22_09-10-54/2024-11-22_09-10-54_camBR.h5\n",
      "/home/yiting/Documents/Analysis/2024-11-22/anipose/pose_2d_filter/2024-11-22_09-10-54/2024-11-22_09-10-54_camTL.h5\n",
      "/home/yiting/Documents/Analysis/2024-11-22/anipose/pose_2d_filter/2024-11-22_09-10-54/2024-11-22_09-10-54_camTR.h5\n",
      "/home/yiting/Documents/Analysis/2024-11-22/anipose/pose_2d_filter/2024-11-22_09-10-54/2024-11-22_09-10-54_camTo.h5\n",
      "/home/yiting/Documents/Analysis/2024-11-22/anipose/pose_2d_filter/2024-11-22_09-11-07/2024-11-22_09-11-07_camBL.h5\n",
      "/home/yiting/Documents/Analysis/2024-11-22/anipose/pose_2d_filter/2024-11-22_09-11-07/2024-11-22_09-11-07_camBR.h5\n",
      "/home/yiting/Documents/Analysis/2024-11-22/anipose/pose_2d_filter/2024-11-22_09-11-07/2024-11-22_09-11-07_camTL.h5\n",
      "/home/yiting/Documents/Analysis/2024-11-22/anipose/pose_2d_filter/2024-11-22_09-11-07/2024-11-22_09-11-07_camTR.h5\n",
      "/home/yiting/Documents/Analysis/2024-11-22/anipose/pose_2d_filter/2024-11-22_09-11-07/2024-11-22_09-11-07_camTo.h5\n",
      "/home/yiting/Documents/Analysis/2024-11-22/anipose/pose_2d_filter/2024-11-22_09-11-19/2024-11-22_09-11-19_camBL.h5\n",
      "/home/yiting/Documents/Analysis/2024-11-22/anipose/pose_2d_filter/2024-11-22_09-11-19/2024-11-22_09-11-19_camBR.h5\n",
      "/home/yiting/Documents/Analysis/2024-11-22/anipose/pose_2d_filter/2024-11-22_09-11-19/2024-11-22_09-11-19_camTL.h5\n",
      "/home/yiting/Documents/Analysis/2024-11-22/anipose/pose_2d_filter/2024-11-22_09-11-19/2024-11-22_09-11-19_camTR.h5\n",
      "/home/yiting/Documents/Analysis/2024-11-22/anipose/pose_2d_filter/2024-11-22_09-11-19/2024-11-22_09-11-19_camTo.h5\n",
      "/home/yiting/Documents/Analysis/2024-11-22/anipose/pose_2d_filter/2024-11-22_09-11-31/2024-11-22_09-11-31_camBL.h5\n",
      "/home/yiting/Documents/Analysis/2024-11-22/anipose/pose_2d_filter/2024-11-22_09-11-31/2024-11-22_09-11-31_camBR.h5\n",
      "/home/yiting/Documents/Analysis/2024-11-22/anipose/pose_2d_filter/2024-11-22_09-11-31/2024-11-22_09-11-31_camTL.h5\n",
      "/home/yiting/Documents/Analysis/2024-11-22/anipose/pose_2d_filter/2024-11-22_09-11-31/2024-11-22_09-11-31_camTR.h5\n",
      "/home/yiting/Documents/Analysis/2024-11-22/anipose/pose_2d_filter/2024-11-22_09-11-31/2024-11-22_09-11-31_camTo.h5\n",
      "/home/yiting/Documents/Analysis/2024-11-22/anipose/pose_2d_filter/2024-11-22_09-11-45/2024-11-22_09-11-45_camBL.h5\n",
      "/home/yiting/Documents/Analysis/2024-11-22/anipose/pose_2d_filter/2024-11-22_09-11-45/2024-11-22_09-11-45_camBR.h5\n",
      "/home/yiting/Documents/Analysis/2024-11-22/anipose/pose_2d_filter/2024-11-22_09-11-45/2024-11-22_09-11-45_camTL.h5\n",
      "/home/yiting/Documents/Analysis/2024-11-22/anipose/pose_2d_filter/2024-11-22_09-11-45/2024-11-22_09-11-45_camTR.h5\n",
      "/home/yiting/Documents/Analysis/2024-11-22/anipose/pose_2d_filter/2024-11-22_09-11-45/2024-11-22_09-11-45_camTo.h5\n",
      "/home/yiting/Documents/Analysis/2024-11-22/anipose/pose_2d_filter/2024-11-22_09-11-58/2024-11-22_09-11-58_camBL.h5\n",
      "/home/yiting/Documents/Analysis/2024-11-22/anipose/pose_2d_filter/2024-11-22_09-11-58/2024-11-22_09-11-58_camBR.h5\n",
      "/home/yiting/Documents/Analysis/2024-11-22/anipose/pose_2d_filter/2024-11-22_09-11-58/2024-11-22_09-11-58_camTL.h5\n",
      "/home/yiting/Documents/Analysis/2024-11-22/anipose/pose_2d_filter/2024-11-22_09-11-58/2024-11-22_09-11-58_camTR.h5\n",
      "/home/yiting/Documents/Analysis/2024-11-22/anipose/pose_2d_filter/2024-11-22_09-11-58/2024-11-22_09-11-58_camTo.h5\n",
      "/home/yiting/Documents/Analysis/2024-11-22/anipose/pose_2d_filter/2024-11-22_09-12-09/2024-11-22_09-12-09_camBL.h5\n",
      "/home/yiting/Documents/Analysis/2024-11-22/anipose/pose_2d_filter/2024-11-22_09-12-09/2024-11-22_09-12-09_camBR.h5\n",
      "/home/yiting/Documents/Analysis/2024-11-22/anipose/pose_2d_filter/2024-11-22_09-12-09/2024-11-22_09-12-09_camTL.h5\n",
      "/home/yiting/Documents/Analysis/2024-11-22/anipose/pose_2d_filter/2024-11-22_09-12-09/2024-11-22_09-12-09_camTR.h5\n",
      "/home/yiting/Documents/Analysis/2024-11-22/anipose/pose_2d_filter/2024-11-22_09-12-09/2024-11-22_09-12-09_camTo.h5\n",
      "/home/yiting/Documents/Analysis/2024-11-22/anipose/pose_2d_filter/2024-11-22_09-12-21/2024-11-22_09-12-21_camBL.h5\n",
      "/home/yiting/Documents/Analysis/2024-11-22/anipose/pose_2d_filter/2024-11-22_09-12-21/2024-11-22_09-12-21_camBR.h5\n",
      "/home/yiting/Documents/Analysis/2024-11-22/anipose/pose_2d_filter/2024-11-22_09-12-21/2024-11-22_09-12-21_camTL.h5\n",
      "/home/yiting/Documents/Analysis/2024-11-22/anipose/pose_2d_filter/2024-11-22_09-12-21/2024-11-22_09-12-21_camTR.h5\n",
      "/home/yiting/Documents/Analysis/2024-11-22/anipose/pose_2d_filter/2024-11-22_09-12-21/2024-11-22_09-12-21_camTo.h5\n",
      "/home/yiting/Documents/Analysis/2024-11-22/anipose/pose_2d_filter/2024-11-22_09-12-36/2024-11-22_09-12-36_camBL.h5\n",
      "/home/yiting/Documents/Analysis/2024-11-22/anipose/pose_2d_filter/2024-11-22_09-12-36/2024-11-22_09-12-36_camBR.h5\n",
      "/home/yiting/Documents/Analysis/2024-11-22/anipose/pose_2d_filter/2024-11-22_09-12-36/2024-11-22_09-12-36_camTL.h5\n",
      "/home/yiting/Documents/Analysis/2024-11-22/anipose/pose_2d_filter/2024-11-22_09-12-36/2024-11-22_09-12-36_camTR.h5\n",
      "/home/yiting/Documents/Analysis/2024-11-22/anipose/pose_2d_filter/2024-11-22_09-12-36/2024-11-22_09-12-36_camTo.h5\n",
      "/home/yiting/Documents/Analysis/2024-11-22/anipose/pose_2d_filter/2024-11-22_09-12-51/2024-11-22_09-12-51_camBL.h5\n",
      "/home/yiting/Documents/Analysis/2024-11-22/anipose/pose_2d_filter/2024-11-22_09-12-51/2024-11-22_09-12-51_camBR.h5\n",
      "/home/yiting/Documents/Analysis/2024-11-22/anipose/pose_2d_filter/2024-11-22_09-12-51/2024-11-22_09-12-51_camTL.h5\n",
      "/home/yiting/Documents/Analysis/2024-11-22/anipose/pose_2d_filter/2024-11-22_09-12-51/2024-11-22_09-12-51_camTR.h5\n",
      "/home/yiting/Documents/Analysis/2024-11-22/anipose/pose_2d_filter/2024-11-22_09-12-51/2024-11-22_09-12-51_camTo.h5\n",
      "/home/yiting/Documents/Analysis/2024-11-22/anipose/pose_2d_filter/2024-11-22_09-13-05/2024-11-22_09-13-05_camBL.h5\n",
      "/home/yiting/Documents/Analysis/2024-11-22/anipose/pose_2d_filter/2024-11-22_09-13-05/2024-11-22_09-13-05_camBR.h5\n",
      "/home/yiting/Documents/Analysis/2024-11-22/anipose/pose_2d_filter/2024-11-22_09-13-05/2024-11-22_09-13-05_camTL.h5\n",
      "/home/yiting/Documents/Analysis/2024-11-22/anipose/pose_2d_filter/2024-11-22_09-13-05/2024-11-22_09-13-05_camTR.h5\n",
      "/home/yiting/Documents/Analysis/2024-11-22/anipose/pose_2d_filter/2024-11-22_09-13-05/2024-11-22_09-13-05_camTo.h5\n",
      "/home/yiting/Documents/Analysis/2024-11-22/anipose/pose_2d_filter/2024-11-22_09-13-19/2024-11-22_09-13-19_camBL.h5\n",
      "/home/yiting/Documents/Analysis/2024-11-22/anipose/pose_2d_filter/2024-11-22_09-13-19/2024-11-22_09-13-19_camBR.h5\n",
      "/home/yiting/Documents/Analysis/2024-11-22/anipose/pose_2d_filter/2024-11-22_09-13-19/2024-11-22_09-13-19_camTL.h5\n",
      "/home/yiting/Documents/Analysis/2024-11-22/anipose/pose_2d_filter/2024-11-22_09-13-19/2024-11-22_09-13-19_camTR.h5\n",
      "/home/yiting/Documents/Analysis/2024-11-22/anipose/pose_2d_filter/2024-11-22_09-13-19/2024-11-22_09-13-19_camTo.h5\n",
      "/home/yiting/Documents/Analysis/2024-11-22/anipose/pose_2d_filter/2024-11-22_09-13-35/2024-11-22_09-13-35_camBL.h5\n",
      "/home/yiting/Documents/Analysis/2024-11-22/anipose/pose_2d_filter/2024-11-22_09-13-35/2024-11-22_09-13-35_camBR.h5\n",
      "/home/yiting/Documents/Analysis/2024-11-22/anipose/pose_2d_filter/2024-11-22_09-13-35/2024-11-22_09-13-35_camTL.h5\n",
      "/home/yiting/Documents/Analysis/2024-11-22/anipose/pose_2d_filter/2024-11-22_09-13-35/2024-11-22_09-13-35_camTR.h5\n",
      "/home/yiting/Documents/Analysis/2024-11-22/anipose/pose_2d_filter/2024-11-22_09-13-35/2024-11-22_09-13-35_camTo.h5\n",
      "/home/yiting/Documents/Analysis/2024-11-22/anipose/pose_2d_filter/2024-11-22_09-13-46/2024-11-22_09-13-46_camBL.h5\n",
      "/home/yiting/Documents/Analysis/2024-11-22/anipose/pose_2d_filter/2024-11-22_09-13-46/2024-11-22_09-13-46_camBR.h5\n",
      "/home/yiting/Documents/Analysis/2024-11-22/anipose/pose_2d_filter/2024-11-22_09-13-46/2024-11-22_09-13-46_camTL.h5\n",
      "/home/yiting/Documents/Analysis/2024-11-22/anipose/pose_2d_filter/2024-11-22_09-13-46/2024-11-22_09-13-46_camTR.h5\n",
      "/home/yiting/Documents/Analysis/2024-11-22/anipose/pose_2d_filter/2024-11-22_09-13-46/2024-11-22_09-13-46_camTo.h5\n",
      "/home/yiting/Documents/Analysis/2024-11-22/anipose/pose_2d_filter/2024-11-22_09-13-58/2024-11-22_09-13-58_camBL.h5\n",
      "/home/yiting/Documents/Analysis/2024-11-22/anipose/pose_2d_filter/2024-11-22_09-13-58/2024-11-22_09-13-58_camBR.h5\n",
      "/home/yiting/Documents/Analysis/2024-11-22/anipose/pose_2d_filter/2024-11-22_09-13-58/2024-11-22_09-13-58_camTL.h5\n",
      "/home/yiting/Documents/Analysis/2024-11-22/anipose/pose_2d_filter/2024-11-22_09-13-58/2024-11-22_09-13-58_camTR.h5\n",
      "/home/yiting/Documents/Analysis/2024-11-22/anipose/pose_2d_filter/2024-11-22_09-13-58/2024-11-22_09-13-58_camTo.h5\n",
      "/home/yiting/Documents/Analysis/2024-11-22/anipose/pose_2d_filter/2024-11-22_09-14-11/2024-11-22_09-14-11_camBL.h5\n",
      "/home/yiting/Documents/Analysis/2024-11-22/anipose/pose_2d_filter/2024-11-22_09-14-11/2024-11-22_09-14-11_camBR.h5\n",
      "/home/yiting/Documents/Analysis/2024-11-22/anipose/pose_2d_filter/2024-11-22_09-14-11/2024-11-22_09-14-11_camTL.h5\n",
      "/home/yiting/Documents/Analysis/2024-11-22/anipose/pose_2d_filter/2024-11-22_09-14-11/2024-11-22_09-14-11_camTR.h5\n",
      "/home/yiting/Documents/Analysis/2024-11-22/anipose/pose_2d_filter/2024-11-22_09-14-11/2024-11-22_09-14-11_camTo.h5\n",
      "/home/yiting/Documents/Analysis/2024-11-22/anipose/pose_2d_filter/2024-11-22_09-14-22/2024-11-22_09-14-22_camBL.h5\n",
      "/home/yiting/Documents/Analysis/2024-11-22/anipose/pose_2d_filter/2024-11-22_09-14-22/2024-11-22_09-14-22_camBR.h5\n",
      "/home/yiting/Documents/Analysis/2024-11-22/anipose/pose_2d_filter/2024-11-22_09-14-22/2024-11-22_09-14-22_camTL.h5\n",
      "/home/yiting/Documents/Analysis/2024-11-22/anipose/pose_2d_filter/2024-11-22_09-14-22/2024-11-22_09-14-22_camTR.h5\n",
      "/home/yiting/Documents/Analysis/2024-11-22/anipose/pose_2d_filter/2024-11-22_09-14-22/2024-11-22_09-14-22_camTo.h5\n",
      "/home/yiting/Documents/Analysis/2024-11-22/anipose/pose_2d_filter/2024-11-22_09-14-34/2024-11-22_09-14-34_camBL.h5\n",
      "/home/yiting/Documents/Analysis/2024-11-22/anipose/pose_2d_filter/2024-11-22_09-14-34/2024-11-22_09-14-34_camBR.h5\n",
      "/home/yiting/Documents/Analysis/2024-11-22/anipose/pose_2d_filter/2024-11-22_09-14-34/2024-11-22_09-14-34_camTL.h5\n",
      "/home/yiting/Documents/Analysis/2024-11-22/anipose/pose_2d_filter/2024-11-22_09-14-34/2024-11-22_09-14-34_camTR.h5\n",
      "/home/yiting/Documents/Analysis/2024-11-22/anipose/pose_2d_filter/2024-11-22_09-14-34/2024-11-22_09-14-34_camTo.h5\n",
      "/home/yiting/Documents/Analysis/2024-11-22/anipose/pose_2d_filter/2024-11-22_09-14-49/2024-11-22_09-14-49_camBL.h5\n",
      "/home/yiting/Documents/Analysis/2024-11-22/anipose/pose_2d_filter/2024-11-22_09-14-49/2024-11-22_09-14-49_camBR.h5\n",
      "/home/yiting/Documents/Analysis/2024-11-22/anipose/pose_2d_filter/2024-11-22_09-14-49/2024-11-22_09-14-49_camTL.h5\n",
      "/home/yiting/Documents/Analysis/2024-11-22/anipose/pose_2d_filter/2024-11-22_09-14-49/2024-11-22_09-14-49_camTR.h5\n",
      "/home/yiting/Documents/Analysis/2024-11-22/anipose/pose_2d_filter/2024-11-22_09-14-49/2024-11-22_09-14-49_camTo.h5\n",
      "/home/yiting/Documents/Analysis/2024-11-22/anipose/pose_2d_filter/2024-11-22_09-15-06/2024-11-22_09-15-06_camBL.h5\n",
      "/home/yiting/Documents/Analysis/2024-11-22/anipose/pose_2d_filter/2024-11-22_09-15-06/2024-11-22_09-15-06_camBR.h5\n",
      "/home/yiting/Documents/Analysis/2024-11-22/anipose/pose_2d_filter/2024-11-22_09-15-06/2024-11-22_09-15-06_camTL.h5\n",
      "/home/yiting/Documents/Analysis/2024-11-22/anipose/pose_2d_filter/2024-11-22_09-15-06/2024-11-22_09-15-06_camTR.h5\n",
      "/home/yiting/Documents/Analysis/2024-11-22/anipose/pose_2d_filter/2024-11-22_09-15-06/2024-11-22_09-15-06_camTo.h5\n",
      "/home/yiting/Documents/Analysis/2024-11-22/anipose/pose_2d_filter/2024-11-22_09-15-19/2024-11-22_09-15-19_camBL.h5\n",
      "/home/yiting/Documents/Analysis/2024-11-22/anipose/pose_2d_filter/2024-11-22_09-15-19/2024-11-22_09-15-19_camBR.h5\n",
      "/home/yiting/Documents/Analysis/2024-11-22/anipose/pose_2d_filter/2024-11-22_09-15-19/2024-11-22_09-15-19_camTL.h5\n",
      "/home/yiting/Documents/Analysis/2024-11-22/anipose/pose_2d_filter/2024-11-22_09-15-19/2024-11-22_09-15-19_camTR.h5\n",
      "/home/yiting/Documents/Analysis/2024-11-22/anipose/pose_2d_filter/2024-11-22_09-15-19/2024-11-22_09-15-19_camTo.h5\n",
      "/home/yiting/Documents/Analysis/2024-11-22/anipose/pose_2d_filter/2024-11-22_09-15-32/2024-11-22_09-15-32_camBL.h5\n",
      "/home/yiting/Documents/Analysis/2024-11-22/anipose/pose_2d_filter/2024-11-22_09-15-32/2024-11-22_09-15-32_camBR.h5\n",
      "/home/yiting/Documents/Analysis/2024-11-22/anipose/pose_2d_filter/2024-11-22_09-15-32/2024-11-22_09-15-32_camTL.h5\n",
      "/home/yiting/Documents/Analysis/2024-11-22/anipose/pose_2d_filter/2024-11-22_09-15-32/2024-11-22_09-15-32_camTR.h5\n",
      "/home/yiting/Documents/Analysis/2024-11-22/anipose/pose_2d_filter/2024-11-22_09-15-32/2024-11-22_09-15-32_camTo.h5\n",
      "/home/yiting/Documents/Analysis/2024-11-22/anipose/pose_2d_filter/2024-11-22_09-15-47/2024-11-22_09-15-47_camBL.h5\n",
      "/home/yiting/Documents/Analysis/2024-11-22/anipose/pose_2d_filter/2024-11-22_09-15-47/2024-11-22_09-15-47_camBR.h5\n",
      "/home/yiting/Documents/Analysis/2024-11-22/anipose/pose_2d_filter/2024-11-22_09-15-47/2024-11-22_09-15-47_camTL.h5\n",
      "/home/yiting/Documents/Analysis/2024-11-22/anipose/pose_2d_filter/2024-11-22_09-15-47/2024-11-22_09-15-47_camTR.h5\n",
      "/home/yiting/Documents/Analysis/2024-11-22/anipose/pose_2d_filter/2024-11-22_09-15-47/2024-11-22_09-15-47_camTo.h5\n",
      "/home/yiting/Documents/Analysis/2024-11-22/anipose/pose_2d_filter/2024-11-22_09-16-02/2024-11-22_09-16-02_camBL.h5\n",
      "/home/yiting/Documents/Analysis/2024-11-22/anipose/pose_2d_filter/2024-11-22_09-16-02/2024-11-22_09-16-02_camBR.h5\n",
      "/home/yiting/Documents/Analysis/2024-11-22/anipose/pose_2d_filter/2024-11-22_09-16-02/2024-11-22_09-16-02_camTL.h5\n",
      "/home/yiting/Documents/Analysis/2024-11-22/anipose/pose_2d_filter/2024-11-22_09-16-02/2024-11-22_09-16-02_camTR.h5\n",
      "/home/yiting/Documents/Analysis/2024-11-22/anipose/pose_2d_filter/2024-11-22_09-16-02/2024-11-22_09-16-02_camTo.h5\n",
      "/home/yiting/Documents/Analysis/2024-11-22/anipose/pose_2d_filter/2024-11-22_09-16-15/2024-11-22_09-16-15_camBL.h5\n",
      "/home/yiting/Documents/Analysis/2024-11-22/anipose/pose_2d_filter/2024-11-22_09-16-15/2024-11-22_09-16-15_camBR.h5\n",
      "/home/yiting/Documents/Analysis/2024-11-22/anipose/pose_2d_filter/2024-11-22_09-16-15/2024-11-22_09-16-15_camTL.h5\n",
      "/home/yiting/Documents/Analysis/2024-11-22/anipose/pose_2d_filter/2024-11-22_09-16-15/2024-11-22_09-16-15_camTR.h5\n",
      "/home/yiting/Documents/Analysis/2024-11-22/anipose/pose_2d_filter/2024-11-22_09-16-15/2024-11-22_09-16-15_camTo.h5\n",
      "/home/yiting/Documents/Analysis/2024-11-22/anipose/pose_2d_filter/2024-11-22_09-16-29/2024-11-22_09-16-29_camBL.h5\n",
      "/home/yiting/Documents/Analysis/2024-11-22/anipose/pose_2d_filter/2024-11-22_09-16-29/2024-11-22_09-16-29_camBR.h5\n",
      "/home/yiting/Documents/Analysis/2024-11-22/anipose/pose_2d_filter/2024-11-22_09-16-29/2024-11-22_09-16-29_camTL.h5\n",
      "/home/yiting/Documents/Analysis/2024-11-22/anipose/pose_2d_filter/2024-11-22_09-16-29/2024-11-22_09-16-29_camTR.h5\n",
      "/home/yiting/Documents/Analysis/2024-11-22/anipose/pose_2d_filter/2024-11-22_09-16-29/2024-11-22_09-16-29_camTo.h5\n",
      "/home/yiting/Documents/Analysis/2024-11-22/anipose/pose_2d_filter/2024-11-22_09-16-42/2024-11-22_09-16-42_camBL.h5\n",
      "/home/yiting/Documents/Analysis/2024-11-22/anipose/pose_2d_filter/2024-11-22_09-16-42/2024-11-22_09-16-42_camBR.h5\n",
      "/home/yiting/Documents/Analysis/2024-11-22/anipose/pose_2d_filter/2024-11-22_09-16-42/2024-11-22_09-16-42_camTL.h5\n",
      "/home/yiting/Documents/Analysis/2024-11-22/anipose/pose_2d_filter/2024-11-22_09-16-42/2024-11-22_09-16-42_camTR.h5\n",
      "/home/yiting/Documents/Analysis/2024-11-22/anipose/pose_2d_filter/2024-11-22_09-16-42/2024-11-22_09-16-42_camTo.h5\n",
      "/home/yiting/Documents/Analysis/2024-11-22/anipose/pose_2d_filter/2024-11-22_09-16-54/2024-11-22_09-16-54_camBL.h5\n",
      "/home/yiting/Documents/Analysis/2024-11-22/anipose/pose_2d_filter/2024-11-22_09-16-54/2024-11-22_09-16-54_camBR.h5\n",
      "/home/yiting/Documents/Analysis/2024-11-22/anipose/pose_2d_filter/2024-11-22_09-16-54/2024-11-22_09-16-54_camTL.h5\n",
      "/home/yiting/Documents/Analysis/2024-11-22/anipose/pose_2d_filter/2024-11-22_09-16-54/2024-11-22_09-16-54_camTR.h5\n",
      "/home/yiting/Documents/Analysis/2024-11-22/anipose/pose_2d_filter/2024-11-22_09-16-54/2024-11-22_09-16-54_camTo.h5\n",
      "/home/yiting/Documents/Analysis/2024-11-22/anipose/pose_2d_filter/2024-11-22_09-17-08/2024-11-22_09-17-08_camBL.h5\n",
      "/home/yiting/Documents/Analysis/2024-11-22/anipose/pose_2d_filter/2024-11-22_09-17-08/2024-11-22_09-17-08_camBR.h5\n",
      "/home/yiting/Documents/Analysis/2024-11-22/anipose/pose_2d_filter/2024-11-22_09-17-08/2024-11-22_09-17-08_camTL.h5\n",
      "/home/yiting/Documents/Analysis/2024-11-22/anipose/pose_2d_filter/2024-11-22_09-17-08/2024-11-22_09-17-08_camTR.h5\n",
      "/home/yiting/Documents/Analysis/2024-11-22/anipose/pose_2d_filter/2024-11-22_09-17-08/2024-11-22_09-17-08_camTo.h5\n",
      "/home/yiting/Documents/Analysis/2024-11-22/anipose/pose_2d_filter/2024-11-22_09-17-20/2024-11-22_09-17-20_camBL.h5\n",
      "/home/yiting/Documents/Analysis/2024-11-22/anipose/pose_2d_filter/2024-11-22_09-17-20/2024-11-22_09-17-20_camBR.h5\n",
      "/home/yiting/Documents/Analysis/2024-11-22/anipose/pose_2d_filter/2024-11-22_09-17-20/2024-11-22_09-17-20_camTL.h5\n",
      "/home/yiting/Documents/Analysis/2024-11-22/anipose/pose_2d_filter/2024-11-22_09-17-20/2024-11-22_09-17-20_camTR.h5\n",
      "/home/yiting/Documents/Analysis/2024-11-22/anipose/pose_2d_filter/2024-11-22_09-17-20/2024-11-22_09-17-20_camTo.h5\n",
      "/home/yiting/Documents/Analysis/2024-11-22/anipose/pose_2d_filter/2024-11-22_09-17-33/2024-11-22_09-17-33_camBL.h5\n",
      "/home/yiting/Documents/Analysis/2024-11-22/anipose/pose_2d_filter/2024-11-22_09-17-33/2024-11-22_09-17-33_camBR.h5\n",
      "/home/yiting/Documents/Analysis/2024-11-22/anipose/pose_2d_filter/2024-11-22_09-17-33/2024-11-22_09-17-33_camTL.h5\n",
      "/home/yiting/Documents/Analysis/2024-11-22/anipose/pose_2d_filter/2024-11-22_09-17-33/2024-11-22_09-17-33_camTR.h5\n",
      "/home/yiting/Documents/Analysis/2024-11-22/anipose/pose_2d_filter/2024-11-22_09-17-33/2024-11-22_09-17-33_camTo.h5\n",
      "/home/yiting/Documents/Analysis/2024-11-22/anipose/pose_2d_filter/2024-11-22_09-17-45/2024-11-22_09-17-45_camBL.h5\n",
      "/home/yiting/Documents/Analysis/2024-11-22/anipose/pose_2d_filter/2024-11-22_09-17-45/2024-11-22_09-17-45_camBR.h5\n",
      "/home/yiting/Documents/Analysis/2024-11-22/anipose/pose_2d_filter/2024-11-22_09-17-45/2024-11-22_09-17-45_camTL.h5\n",
      "/home/yiting/Documents/Analysis/2024-11-22/anipose/pose_2d_filter/2024-11-22_09-17-45/2024-11-22_09-17-45_camTR.h5\n",
      "/home/yiting/Documents/Analysis/2024-11-22/anipose/pose_2d_filter/2024-11-22_09-17-45/2024-11-22_09-17-45_camTo.h5\n",
      "/home/yiting/Documents/Analysis/2024-11-22/anipose/pose_2d_filter/2024-11-22_09-17-58/2024-11-22_09-17-58_camBL.h5\n",
      "/home/yiting/Documents/Analysis/2024-11-22/anipose/pose_2d_filter/2024-11-22_09-17-58/2024-11-22_09-17-58_camBR.h5\n",
      "/home/yiting/Documents/Analysis/2024-11-22/anipose/pose_2d_filter/2024-11-22_09-17-58/2024-11-22_09-17-58_camTL.h5\n",
      "/home/yiting/Documents/Analysis/2024-11-22/anipose/pose_2d_filter/2024-11-22_09-17-58/2024-11-22_09-17-58_camTR.h5\n",
      "/home/yiting/Documents/Analysis/2024-11-22/anipose/pose_2d_filter/2024-11-22_09-17-58/2024-11-22_09-17-58_camTo.h5\n",
      "/home/yiting/Documents/Analysis/2024-11-22/anipose/pose_2d_filter/2024-11-22_09-18-11/2024-11-22_09-18-11_camBL.h5\n",
      "/home/yiting/Documents/Analysis/2024-11-22/anipose/pose_2d_filter/2024-11-22_09-18-11/2024-11-22_09-18-11_camBR.h5\n",
      "/home/yiting/Documents/Analysis/2024-11-22/anipose/pose_2d_filter/2024-11-22_09-18-11/2024-11-22_09-18-11_camTL.h5\n",
      "/home/yiting/Documents/Analysis/2024-11-22/anipose/pose_2d_filter/2024-11-22_09-18-11/2024-11-22_09-18-11_camTR.h5\n",
      "/home/yiting/Documents/Analysis/2024-11-22/anipose/pose_2d_filter/2024-11-22_09-18-11/2024-11-22_09-18-11_camTo.h5\n",
      "/home/yiting/Documents/Analysis/2024-11-22/anipose/pose_2d_filter/2024-11-22_09-18-25/2024-11-22_09-18-25_camBL.h5\n",
      "/home/yiting/Documents/Analysis/2024-11-22/anipose/pose_2d_filter/2024-11-22_09-18-25/2024-11-22_09-18-25_camBR.h5\n",
      "/home/yiting/Documents/Analysis/2024-11-22/anipose/pose_2d_filter/2024-11-22_09-18-25/2024-11-22_09-18-25_camTL.h5\n",
      "/home/yiting/Documents/Analysis/2024-11-22/anipose/pose_2d_filter/2024-11-22_09-18-25/2024-11-22_09-18-25_camTR.h5\n",
      "/home/yiting/Documents/Analysis/2024-11-22/anipose/pose_2d_filter/2024-11-22_09-18-25/2024-11-22_09-18-25_camTo.h5\n",
      "/home/yiting/Documents/Analysis/2024-11-22/anipose/pose_2d_filter/2024-11-22_09-18-40/2024-11-22_09-18-40_camBL.h5\n",
      "/home/yiting/Documents/Analysis/2024-11-22/anipose/pose_2d_filter/2024-11-22_09-18-40/2024-11-22_09-18-40_camBR.h5\n",
      "/home/yiting/Documents/Analysis/2024-11-22/anipose/pose_2d_filter/2024-11-22_09-18-40/2024-11-22_09-18-40_camTL.h5\n",
      "/home/yiting/Documents/Analysis/2024-11-22/anipose/pose_2d_filter/2024-11-22_09-18-40/2024-11-22_09-18-40_camTR.h5\n",
      "/home/yiting/Documents/Analysis/2024-11-22/anipose/pose_2d_filter/2024-11-22_09-18-40/2024-11-22_09-18-40_camTo.h5\n",
      "/home/yiting/Documents/Analysis/2024-11-22/anipose/pose_2d_filter/2024-11-22_09-18-53/2024-11-22_09-18-53_camBL.h5\n",
      "/home/yiting/Documents/Analysis/2024-11-22/anipose/pose_2d_filter/2024-11-22_09-18-53/2024-11-22_09-18-53_camBR.h5\n",
      "/home/yiting/Documents/Analysis/2024-11-22/anipose/pose_2d_filter/2024-11-22_09-18-53/2024-11-22_09-18-53_camTL.h5\n",
      "/home/yiting/Documents/Analysis/2024-11-22/anipose/pose_2d_filter/2024-11-22_09-18-53/2024-11-22_09-18-53_camTR.h5\n",
      "/home/yiting/Documents/Analysis/2024-11-22/anipose/pose_2d_filter/2024-11-22_09-18-53/2024-11-22_09-18-53_camTo.h5\n",
      "/home/yiting/Documents/Analysis/2024-11-22/anipose/pose_2d_filter/2024-11-22_09-19-07/2024-11-22_09-19-07_camBL.h5\n",
      "/home/yiting/Documents/Analysis/2024-11-22/anipose/pose_2d_filter/2024-11-22_09-19-07/2024-11-22_09-19-07_camBR.h5\n",
      "/home/yiting/Documents/Analysis/2024-11-22/anipose/pose_2d_filter/2024-11-22_09-19-07/2024-11-22_09-19-07_camTL.h5\n",
      "/home/yiting/Documents/Analysis/2024-11-22/anipose/pose_2d_filter/2024-11-22_09-19-07/2024-11-22_09-19-07_camTR.h5\n",
      "/home/yiting/Documents/Analysis/2024-11-22/anipose/pose_2d_filter/2024-11-22_09-19-07/2024-11-22_09-19-07_camTo.h5\n",
      "/home/yiting/Documents/Analysis/2024-11-22/anipose/pose_2d_filter/2024-11-22_09-19-20/2024-11-22_09-19-20_camBL.h5\n",
      "/home/yiting/Documents/Analysis/2024-11-22/anipose/pose_2d_filter/2024-11-22_09-19-20/2024-11-22_09-19-20_camBR.h5\n",
      "/home/yiting/Documents/Analysis/2024-11-22/anipose/pose_2d_filter/2024-11-22_09-19-20/2024-11-22_09-19-20_camTL.h5\n",
      "/home/yiting/Documents/Analysis/2024-11-22/anipose/pose_2d_filter/2024-11-22_09-19-20/2024-11-22_09-19-20_camTR.h5\n",
      "/home/yiting/Documents/Analysis/2024-11-22/anipose/pose_2d_filter/2024-11-22_09-19-20/2024-11-22_09-19-20_camTo.h5\n",
      "/home/yiting/Documents/Analysis/2024-11-22/anipose/pose_2d_filter/2024-11-22_09-19-32/2024-11-22_09-19-32_camBL.h5\n",
      "/home/yiting/Documents/Analysis/2024-11-22/anipose/pose_2d_filter/2024-11-22_09-19-32/2024-11-22_09-19-32_camBR.h5\n",
      "/home/yiting/Documents/Analysis/2024-11-22/anipose/pose_2d_filter/2024-11-22_09-19-32/2024-11-22_09-19-32_camTL.h5\n",
      "/home/yiting/Documents/Analysis/2024-11-22/anipose/pose_2d_filter/2024-11-22_09-19-32/2024-11-22_09-19-32_camTR.h5\n",
      "/home/yiting/Documents/Analysis/2024-11-22/anipose/pose_2d_filter/2024-11-22_09-19-32/2024-11-22_09-19-32_camTo.h5\n",
      "/home/yiting/Documents/Analysis/2024-11-22/anipose/pose_2d_filter/2024-11-22_09-19-44/2024-11-22_09-19-44_camBL.h5\n",
      "/home/yiting/Documents/Analysis/2024-11-22/anipose/pose_2d_filter/2024-11-22_09-19-44/2024-11-22_09-19-44_camBR.h5\n",
      "/home/yiting/Documents/Analysis/2024-11-22/anipose/pose_2d_filter/2024-11-22_09-19-44/2024-11-22_09-19-44_camTL.h5\n",
      "/home/yiting/Documents/Analysis/2024-11-22/anipose/pose_2d_filter/2024-11-22_09-19-44/2024-11-22_09-19-44_camTR.h5\n",
      "/home/yiting/Documents/Analysis/2024-11-22/anipose/pose_2d_filter/2024-11-22_09-19-44/2024-11-22_09-19-44_camTo.h5\n",
      "/home/yiting/Documents/Analysis/2024-11-22/anipose/pose_2d_filter/2024-11-22_09-19-57/2024-11-22_09-19-57_camBL.h5\n",
      "/home/yiting/Documents/Analysis/2024-11-22/anipose/pose_2d_filter/2024-11-22_09-19-57/2024-11-22_09-19-57_camBR.h5\n",
      "/home/yiting/Documents/Analysis/2024-11-22/anipose/pose_2d_filter/2024-11-22_09-19-57/2024-11-22_09-19-57_camTL.h5\n",
      "/home/yiting/Documents/Analysis/2024-11-22/anipose/pose_2d_filter/2024-11-22_09-19-57/2024-11-22_09-19-57_camTR.h5\n",
      "/home/yiting/Documents/Analysis/2024-11-22/anipose/pose_2d_filter/2024-11-22_09-19-57/2024-11-22_09-19-57_camTo.h5\n",
      "/home/yiting/Documents/Analysis/2024-11-22/anipose/pose_2d_filter/2024-11-22_09-20-10/2024-11-22_09-20-10_camBL.h5\n",
      "/home/yiting/Documents/Analysis/2024-11-22/anipose/pose_2d_filter/2024-11-22_09-20-10/2024-11-22_09-20-10_camBR.h5\n",
      "/home/yiting/Documents/Analysis/2024-11-22/anipose/pose_2d_filter/2024-11-22_09-20-10/2024-11-22_09-20-10_camTL.h5\n",
      "/home/yiting/Documents/Analysis/2024-11-22/anipose/pose_2d_filter/2024-11-22_09-20-10/2024-11-22_09-20-10_camTR.h5\n",
      "/home/yiting/Documents/Analysis/2024-11-22/anipose/pose_2d_filter/2024-11-22_09-20-10/2024-11-22_09-20-10_camTo.h5\n",
      "/home/yiting/Documents/Analysis/2024-11-22/anipose/pose_2d_filter/2024-11-22_09-20-21/2024-11-22_09-20-21_camBL.h5\n",
      "/home/yiting/Documents/Analysis/2024-11-22/anipose/pose_2d_filter/2024-11-22_09-20-21/2024-11-22_09-20-21_camBR.h5\n",
      "/home/yiting/Documents/Analysis/2024-11-22/anipose/pose_2d_filter/2024-11-22_09-20-21/2024-11-22_09-20-21_camTL.h5\n",
      "/home/yiting/Documents/Analysis/2024-11-22/anipose/pose_2d_filter/2024-11-22_09-20-21/2024-11-22_09-20-21_camTR.h5\n",
      "/home/yiting/Documents/Analysis/2024-11-22/anipose/pose_2d_filter/2024-11-22_09-20-21/2024-11-22_09-20-21_camTo.h5\n",
      "/home/yiting/Documents/Analysis/2024-11-22/anipose/pose_2d_filter/2024-11-22_09-20-36/2024-11-22_09-20-36_camBL.h5\n",
      "/home/yiting/Documents/Analysis/2024-11-22/anipose/pose_2d_filter/2024-11-22_09-20-36/2024-11-22_09-20-36_camBR.h5\n",
      "/home/yiting/Documents/Analysis/2024-11-22/anipose/pose_2d_filter/2024-11-22_09-20-36/2024-11-22_09-20-36_camTL.h5\n",
      "/home/yiting/Documents/Analysis/2024-11-22/anipose/pose_2d_filter/2024-11-22_09-20-36/2024-11-22_09-20-36_camTR.h5\n",
      "/home/yiting/Documents/Analysis/2024-11-22/anipose/pose_2d_filter/2024-11-22_09-20-36/2024-11-22_09-20-36_camTo.h5\n",
      "/home/yiting/Documents/Analysis/2024-11-22/anipose/pose_2d_filter/2024-11-22_09-20-49/2024-11-22_09-20-49_camBL.h5\n",
      "/home/yiting/Documents/Analysis/2024-11-22/anipose/pose_2d_filter/2024-11-22_09-20-49/2024-11-22_09-20-49_camBR.h5\n",
      "/home/yiting/Documents/Analysis/2024-11-22/anipose/pose_2d_filter/2024-11-22_09-20-49/2024-11-22_09-20-49_camTL.h5\n",
      "/home/yiting/Documents/Analysis/2024-11-22/anipose/pose_2d_filter/2024-11-22_09-20-49/2024-11-22_09-20-49_camTR.h5\n",
      "/home/yiting/Documents/Analysis/2024-11-22/anipose/pose_2d_filter/2024-11-22_09-20-49/2024-11-22_09-20-49_camTo.h5\n",
      "/home/yiting/Documents/Analysis/2024-11-22/anipose/pose_2d_filter/2024-11-22_09-21-02/2024-11-22_09-21-02_camBL.h5\n",
      "/home/yiting/Documents/Analysis/2024-11-22/anipose/pose_2d_filter/2024-11-22_09-21-02/2024-11-22_09-21-02_camBR.h5\n",
      "/home/yiting/Documents/Analysis/2024-11-22/anipose/pose_2d_filter/2024-11-22_09-21-02/2024-11-22_09-21-02_camTL.h5\n",
      "/home/yiting/Documents/Analysis/2024-11-22/anipose/pose_2d_filter/2024-11-22_09-21-02/2024-11-22_09-21-02_camTR.h5\n",
      "/home/yiting/Documents/Analysis/2024-11-22/anipose/pose_2d_filter/2024-11-22_09-21-02/2024-11-22_09-21-02_camTo.h5\n",
      "/home/yiting/Documents/Analysis/2024-11-22/anipose/pose_2d_filter/2024-11-22_09-21-14/2024-11-22_09-21-14_camBL.h5\n",
      "/home/yiting/Documents/Analysis/2024-11-22/anipose/pose_2d_filter/2024-11-22_09-21-14/2024-11-22_09-21-14_camBR.h5\n",
      "/home/yiting/Documents/Analysis/2024-11-22/anipose/pose_2d_filter/2024-11-22_09-21-14/2024-11-22_09-21-14_camTL.h5\n",
      "/home/yiting/Documents/Analysis/2024-11-22/anipose/pose_2d_filter/2024-11-22_09-21-14/2024-11-22_09-21-14_camTR.h5\n",
      "/home/yiting/Documents/Analysis/2024-11-22/anipose/pose_2d_filter/2024-11-22_09-21-14/2024-11-22_09-21-14_camTo.h5\n",
      "/home/yiting/Documents/Analysis/2024-11-22/anipose/pose_2d_filter/2024-11-22_09-21-28/2024-11-22_09-21-28_camBL.h5\n",
      "/home/yiting/Documents/Analysis/2024-11-22/anipose/pose_2d_filter/2024-11-22_09-21-28/2024-11-22_09-21-28_camBR.h5\n",
      "/home/yiting/Documents/Analysis/2024-11-22/anipose/pose_2d_filter/2024-11-22_09-21-28/2024-11-22_09-21-28_camTL.h5\n",
      "/home/yiting/Documents/Analysis/2024-11-22/anipose/pose_2d_filter/2024-11-22_09-21-28/2024-11-22_09-21-28_camTR.h5\n",
      "/home/yiting/Documents/Analysis/2024-11-22/anipose/pose_2d_filter/2024-11-22_09-21-28/2024-11-22_09-21-28_camTo.h5\n",
      "/home/yiting/Documents/Analysis/2024-11-22/anipose/pose_2d_filter/2024-11-22_09-21-40/2024-11-22_09-21-40_camBL.h5\n",
      "/home/yiting/Documents/Analysis/2024-11-22/anipose/pose_2d_filter/2024-11-22_09-21-40/2024-11-22_09-21-40_camBR.h5\n",
      "/home/yiting/Documents/Analysis/2024-11-22/anipose/pose_2d_filter/2024-11-22_09-21-40/2024-11-22_09-21-40_camTL.h5\n",
      "/home/yiting/Documents/Analysis/2024-11-22/anipose/pose_2d_filter/2024-11-22_09-21-40/2024-11-22_09-21-40_camTR.h5\n",
      "/home/yiting/Documents/Analysis/2024-11-22/anipose/pose_2d_filter/2024-11-22_09-21-40/2024-11-22_09-21-40_camTo.h5\n",
      "/home/yiting/Documents/Analysis/2024-11-22/anipose/pose_2d_filter/2024-11-22_09-21-52/2024-11-22_09-21-52_camBL.h5\n",
      "/home/yiting/Documents/Analysis/2024-11-22/anipose/pose_2d_filter/2024-11-22_09-21-52/2024-11-22_09-21-52_camBR.h5\n",
      "/home/yiting/Documents/Analysis/2024-11-22/anipose/pose_2d_filter/2024-11-22_09-21-52/2024-11-22_09-21-52_camTL.h5\n",
      "/home/yiting/Documents/Analysis/2024-11-22/anipose/pose_2d_filter/2024-11-22_09-21-52/2024-11-22_09-21-52_camTR.h5\n",
      "/home/yiting/Documents/Analysis/2024-11-22/anipose/pose_2d_filter/2024-11-22_09-21-52/2024-11-22_09-21-52_camTo.h5\n",
      "/home/yiting/Documents/Analysis/2024-11-22/anipose/pose_2d_filter/2024-11-22_09-22-03/2024-11-22_09-22-03_camBL.h5\n",
      "/home/yiting/Documents/Analysis/2024-11-22/anipose/pose_2d_filter/2024-11-22_09-22-03/2024-11-22_09-22-03_camBR.h5\n",
      "/home/yiting/Documents/Analysis/2024-11-22/anipose/pose_2d_filter/2024-11-22_09-22-03/2024-11-22_09-22-03_camTL.h5\n",
      "/home/yiting/Documents/Analysis/2024-11-22/anipose/pose_2d_filter/2024-11-22_09-22-03/2024-11-22_09-22-03_camTR.h5\n",
      "/home/yiting/Documents/Analysis/2024-11-22/anipose/pose_2d_filter/2024-11-22_09-22-03/2024-11-22_09-22-03_camTo.h5\n",
      "/home/yiting/Documents/Analysis/2024-11-22/anipose/pose_2d_filter/2024-11-22_09-22-19/2024-11-22_09-22-19_camBL.h5\n",
      "/home/yiting/Documents/Analysis/2024-11-22/anipose/pose_2d_filter/2024-11-22_09-22-19/2024-11-22_09-22-19_camBR.h5\n",
      "/home/yiting/Documents/Analysis/2024-11-22/anipose/pose_2d_filter/2024-11-22_09-22-19/2024-11-22_09-22-19_camTL.h5\n",
      "/home/yiting/Documents/Analysis/2024-11-22/anipose/pose_2d_filter/2024-11-22_09-22-19/2024-11-22_09-22-19_camTR.h5\n",
      "/home/yiting/Documents/Analysis/2024-11-22/anipose/pose_2d_filter/2024-11-22_09-22-19/2024-11-22_09-22-19_camTo.h5\n",
      "/home/yiting/Documents/Analysis/2024-11-22/anipose/pose_2d_filter/2024-11-22_09-22-33/2024-11-22_09-22-33_camBL.h5\n",
      "/home/yiting/Documents/Analysis/2024-11-22/anipose/pose_2d_filter/2024-11-22_09-22-33/2024-11-22_09-22-33_camBR.h5\n",
      "/home/yiting/Documents/Analysis/2024-11-22/anipose/pose_2d_filter/2024-11-22_09-22-33/2024-11-22_09-22-33_camTL.h5\n",
      "/home/yiting/Documents/Analysis/2024-11-22/anipose/pose_2d_filter/2024-11-22_09-22-33/2024-11-22_09-22-33_camTR.h5\n",
      "/home/yiting/Documents/Analysis/2024-11-22/anipose/pose_2d_filter/2024-11-22_09-22-33/2024-11-22_09-22-33_camTo.h5\n",
      "/home/yiting/Documents/Analysis/2024-11-22/anipose/pose_2d_filter/2024-11-22_09-22-46/2024-11-22_09-22-46_camBL.h5\n",
      "/home/yiting/Documents/Analysis/2024-11-22/anipose/pose_2d_filter/2024-11-22_09-22-46/2024-11-22_09-22-46_camBR.h5\n",
      "/home/yiting/Documents/Analysis/2024-11-22/anipose/pose_2d_filter/2024-11-22_09-22-46/2024-11-22_09-22-46_camTL.h5\n",
      "/home/yiting/Documents/Analysis/2024-11-22/anipose/pose_2d_filter/2024-11-22_09-22-46/2024-11-22_09-22-46_camTR.h5\n",
      "/home/yiting/Documents/Analysis/2024-11-22/anipose/pose_2d_filter/2024-11-22_09-22-46/2024-11-22_09-22-46_camTo.h5\n",
      "/home/yiting/Documents/Analysis/2024-11-22/anipose/pose_2d_filter/2024-11-22_09-23-00/2024-11-22_09-23-00_camBL.h5\n",
      "/home/yiting/Documents/Analysis/2024-11-22/anipose/pose_2d_filter/2024-11-22_09-23-00/2024-11-22_09-23-00_camBR.h5\n",
      "/home/yiting/Documents/Analysis/2024-11-22/anipose/pose_2d_filter/2024-11-22_09-23-00/2024-11-22_09-23-00_camTL.h5\n",
      "/home/yiting/Documents/Analysis/2024-11-22/anipose/pose_2d_filter/2024-11-22_09-23-00/2024-11-22_09-23-00_camTR.h5\n",
      "/home/yiting/Documents/Analysis/2024-11-22/anipose/pose_2d_filter/2024-11-22_09-23-00/2024-11-22_09-23-00_camTo.h5\n",
      "/home/yiting/Documents/Analysis/2024-11-22/anipose/pose_2d_filter/2024-11-22_09-23-15/2024-11-22_09-23-15_camBL.h5\n",
      "/home/yiting/Documents/Analysis/2024-11-22/anipose/pose_2d_filter/2024-11-22_09-23-15/2024-11-22_09-23-15_camBR.h5\n",
      "/home/yiting/Documents/Analysis/2024-11-22/anipose/pose_2d_filter/2024-11-22_09-23-15/2024-11-22_09-23-15_camTL.h5\n",
      "/home/yiting/Documents/Analysis/2024-11-22/anipose/pose_2d_filter/2024-11-22_09-23-15/2024-11-22_09-23-15_camTR.h5\n",
      "/home/yiting/Documents/Analysis/2024-11-22/anipose/pose_2d_filter/2024-11-22_09-23-15/2024-11-22_09-23-15_camTo.h5\n",
      "/home/yiting/Documents/Analysis/2024-11-22/anipose/pose_2d_filter/2024-11-22_09-23-25/2024-11-22_09-23-25_camBL.h5\n",
      "/home/yiting/Documents/Analysis/2024-11-22/anipose/pose_2d_filter/2024-11-22_09-23-25/2024-11-22_09-23-25_camBR.h5\n",
      "/home/yiting/Documents/Analysis/2024-11-22/anipose/pose_2d_filter/2024-11-22_09-23-25/2024-11-22_09-23-25_camTL.h5\n",
      "/home/yiting/Documents/Analysis/2024-11-22/anipose/pose_2d_filter/2024-11-22_09-23-25/2024-11-22_09-23-25_camTR.h5\n",
      "/home/yiting/Documents/Analysis/2024-11-22/anipose/pose_2d_filter/2024-11-22_09-23-25/2024-11-22_09-23-25_camTo.h5\n",
      "/home/yiting/Documents/Analysis/2024-11-22/anipose/pose_2d_filter/2024-11-22_09-23-37/2024-11-22_09-23-37_camBL.h5\n",
      "/home/yiting/Documents/Analysis/2024-11-22/anipose/pose_2d_filter/2024-11-22_09-23-37/2024-11-22_09-23-37_camBR.h5\n",
      "/home/yiting/Documents/Analysis/2024-11-22/anipose/pose_2d_filter/2024-11-22_09-23-37/2024-11-22_09-23-37_camTL.h5\n",
      "/home/yiting/Documents/Analysis/2024-11-22/anipose/pose_2d_filter/2024-11-22_09-23-37/2024-11-22_09-23-37_camTR.h5\n",
      "/home/yiting/Documents/Analysis/2024-11-22/anipose/pose_2d_filter/2024-11-22_09-23-37/2024-11-22_09-23-37_camTo.h5\n",
      "/home/yiting/Documents/Analysis/2024-11-22/anipose/pose_2d_filter/2024-11-22_09-23-49/2024-11-22_09-23-49_camBL.h5\n",
      "/home/yiting/Documents/Analysis/2024-11-22/anipose/pose_2d_filter/2024-11-22_09-23-49/2024-11-22_09-23-49_camBR.h5\n",
      "/home/yiting/Documents/Analysis/2024-11-22/anipose/pose_2d_filter/2024-11-22_09-23-49/2024-11-22_09-23-49_camTL.h5\n",
      "/home/yiting/Documents/Analysis/2024-11-22/anipose/pose_2d_filter/2024-11-22_09-23-49/2024-11-22_09-23-49_camTR.h5\n",
      "/home/yiting/Documents/Analysis/2024-11-22/anipose/pose_2d_filter/2024-11-22_09-23-49/2024-11-22_09-23-49_camTo.h5\n",
      "/home/yiting/Documents/Analysis/2024-11-22/anipose/pose_2d_filter/2024-11-22_09-24-00/2024-11-22_09-24-00_camBL.h5\n",
      "/home/yiting/Documents/Analysis/2024-11-22/anipose/pose_2d_filter/2024-11-22_09-24-00/2024-11-22_09-24-00_camBR.h5\n",
      "/home/yiting/Documents/Analysis/2024-11-22/anipose/pose_2d_filter/2024-11-22_09-24-00/2024-11-22_09-24-00_camTL.h5\n",
      "/home/yiting/Documents/Analysis/2024-11-22/anipose/pose_2d_filter/2024-11-22_09-24-00/2024-11-22_09-24-00_camTR.h5\n",
      "/home/yiting/Documents/Analysis/2024-11-22/anipose/pose_2d_filter/2024-11-22_09-24-00/2024-11-22_09-24-00_camTo.h5\n",
      "/home/yiting/Documents/Analysis/2024-11-22/anipose/pose_2d_filter/2024-11-22_09-24-13/2024-11-22_09-24-13_camBL.h5\n",
      "/home/yiting/Documents/Analysis/2024-11-22/anipose/pose_2d_filter/2024-11-22_09-24-13/2024-11-22_09-24-13_camBR.h5\n",
      "/home/yiting/Documents/Analysis/2024-11-22/anipose/pose_2d_filter/2024-11-22_09-24-13/2024-11-22_09-24-13_camTL.h5\n",
      "/home/yiting/Documents/Analysis/2024-11-22/anipose/pose_2d_filter/2024-11-22_09-24-13/2024-11-22_09-24-13_camTR.h5\n",
      "/home/yiting/Documents/Analysis/2024-11-22/anipose/pose_2d_filter/2024-11-22_09-24-13/2024-11-22_09-24-13_camTo.h5\n",
      "/home/yiting/Documents/Analysis/2024-11-22/anipose/pose_2d_filter/2024-11-22_09-24-25/2024-11-22_09-24-25_camBL.h5\n",
      "/home/yiting/Documents/Analysis/2024-11-22/anipose/pose_2d_filter/2024-11-22_09-24-25/2024-11-22_09-24-25_camBR.h5\n",
      "/home/yiting/Documents/Analysis/2024-11-22/anipose/pose_2d_filter/2024-11-22_09-24-25/2024-11-22_09-24-25_camTL.h5\n",
      "/home/yiting/Documents/Analysis/2024-11-22/anipose/pose_2d_filter/2024-11-22_09-24-25/2024-11-22_09-24-25_camTR.h5\n",
      "/home/yiting/Documents/Analysis/2024-11-22/anipose/pose_2d_filter/2024-11-22_09-24-25/2024-11-22_09-24-25_camTo.h5\n",
      "/home/yiting/Documents/Analysis/2024-11-22/anipose/pose_2d_filter/2024-11-22_09-24-38/2024-11-22_09-24-38_camBL.h5\n",
      "/home/yiting/Documents/Analysis/2024-11-22/anipose/pose_2d_filter/2024-11-22_09-24-38/2024-11-22_09-24-38_camBR.h5\n",
      "/home/yiting/Documents/Analysis/2024-11-22/anipose/pose_2d_filter/2024-11-22_09-24-38/2024-11-22_09-24-38_camTL.h5\n",
      "/home/yiting/Documents/Analysis/2024-11-22/anipose/pose_2d_filter/2024-11-22_09-24-38/2024-11-22_09-24-38_camTR.h5\n",
      "/home/yiting/Documents/Analysis/2024-11-22/anipose/pose_2d_filter/2024-11-22_09-24-38/2024-11-22_09-24-38_camTo.h5\n",
      "/home/yiting/Documents/Analysis/2024-11-22/anipose/pose_2d_filter/2024-11-22_09-24-53/2024-11-22_09-24-53_camBL.h5\n",
      "/home/yiting/Documents/Analysis/2024-11-22/anipose/pose_2d_filter/2024-11-22_09-24-53/2024-11-22_09-24-53_camBR.h5\n",
      "/home/yiting/Documents/Analysis/2024-11-22/anipose/pose_2d_filter/2024-11-22_09-24-53/2024-11-22_09-24-53_camTL.h5\n",
      "/home/yiting/Documents/Analysis/2024-11-22/anipose/pose_2d_filter/2024-11-22_09-24-53/2024-11-22_09-24-53_camTR.h5\n",
      "/home/yiting/Documents/Analysis/2024-11-22/anipose/pose_2d_filter/2024-11-22_09-24-53/2024-11-22_09-24-53_camTo.h5\n",
      "/home/yiting/Documents/Analysis/2024-11-22/anipose/pose_2d_filter/2024-11-22_09-25-05/2024-11-22_09-25-05_camBL.h5\n",
      "/home/yiting/Documents/Analysis/2024-11-22/anipose/pose_2d_filter/2024-11-22_09-25-05/2024-11-22_09-25-05_camBR.h5\n",
      "/home/yiting/Documents/Analysis/2024-11-22/anipose/pose_2d_filter/2024-11-22_09-25-05/2024-11-22_09-25-05_camTL.h5\n",
      "/home/yiting/Documents/Analysis/2024-11-22/anipose/pose_2d_filter/2024-11-22_09-25-05/2024-11-22_09-25-05_camTR.h5\n",
      "/home/yiting/Documents/Analysis/2024-11-22/anipose/pose_2d_filter/2024-11-22_09-25-05/2024-11-22_09-25-05_camTo.h5\n",
      "/home/yiting/Documents/Analysis/2024-11-22/anipose/pose_2d_filter/2024-11-22_09-25-17/2024-11-22_09-25-17_camBL.h5\n",
      "/home/yiting/Documents/Analysis/2024-11-22/anipose/pose_2d_filter/2024-11-22_09-25-17/2024-11-22_09-25-17_camBR.h5\n",
      "/home/yiting/Documents/Analysis/2024-11-22/anipose/pose_2d_filter/2024-11-22_09-25-17/2024-11-22_09-25-17_camTL.h5\n",
      "/home/yiting/Documents/Analysis/2024-11-22/anipose/pose_2d_filter/2024-11-22_09-25-17/2024-11-22_09-25-17_camTR.h5\n",
      "/home/yiting/Documents/Analysis/2024-11-22/anipose/pose_2d_filter/2024-11-22_09-25-17/2024-11-22_09-25-17_camTo.h5\n",
      "/home/yiting/Documents/Analysis/2024-11-22/anipose/pose_2d_filter/2024-11-22_09-25-31/2024-11-22_09-25-31_camBL.h5\n",
      "/home/yiting/Documents/Analysis/2024-11-22/anipose/pose_2d_filter/2024-11-22_09-25-31/2024-11-22_09-25-31_camBR.h5\n",
      "/home/yiting/Documents/Analysis/2024-11-22/anipose/pose_2d_filter/2024-11-22_09-25-31/2024-11-22_09-25-31_camTL.h5\n",
      "/home/yiting/Documents/Analysis/2024-11-22/anipose/pose_2d_filter/2024-11-22_09-25-31/2024-11-22_09-25-31_camTR.h5\n",
      "/home/yiting/Documents/Analysis/2024-11-22/anipose/pose_2d_filter/2024-11-22_09-25-31/2024-11-22_09-25-31_camTo.h5\n",
      "/home/yiting/Documents/Analysis/2024-11-22/anipose/pose_2d_filter/2024-11-22_09-25-45/2024-11-22_09-25-45_camBL.h5\n",
      "/home/yiting/Documents/Analysis/2024-11-22/anipose/pose_2d_filter/2024-11-22_09-25-45/2024-11-22_09-25-45_camBR.h5\n",
      "/home/yiting/Documents/Analysis/2024-11-22/anipose/pose_2d_filter/2024-11-22_09-25-45/2024-11-22_09-25-45_camTL.h5\n",
      "/home/yiting/Documents/Analysis/2024-11-22/anipose/pose_2d_filter/2024-11-22_09-25-45/2024-11-22_09-25-45_camTR.h5\n",
      "/home/yiting/Documents/Analysis/2024-11-22/anipose/pose_2d_filter/2024-11-22_09-25-45/2024-11-22_09-25-45_camTo.h5\n",
      "/home/yiting/Documents/Analysis/2024-11-22/anipose/pose_2d_filter/2024-11-22_09-25-59/2024-11-22_09-25-59_camBL.h5\n",
      "/home/yiting/Documents/Analysis/2024-11-22/anipose/pose_2d_filter/2024-11-22_09-25-59/2024-11-22_09-25-59_camBR.h5\n",
      "/home/yiting/Documents/Analysis/2024-11-22/anipose/pose_2d_filter/2024-11-22_09-25-59/2024-11-22_09-25-59_camTL.h5\n",
      "/home/yiting/Documents/Analysis/2024-11-22/anipose/pose_2d_filter/2024-11-22_09-25-59/2024-11-22_09-25-59_camTR.h5\n",
      "/home/yiting/Documents/Analysis/2024-11-22/anipose/pose_2d_filter/2024-11-22_09-25-59/2024-11-22_09-25-59_camTo.h5\n",
      "/home/yiting/Documents/Analysis/2024-11-22/anipose/pose_2d_filter/2024-11-22_09-26-12/2024-11-22_09-26-12_camBL.h5\n",
      "/home/yiting/Documents/Analysis/2024-11-22/anipose/pose_2d_filter/2024-11-22_09-26-12/2024-11-22_09-26-12_camBR.h5\n",
      "/home/yiting/Documents/Analysis/2024-11-22/anipose/pose_2d_filter/2024-11-22_09-26-12/2024-11-22_09-26-12_camTL.h5\n",
      "/home/yiting/Documents/Analysis/2024-11-22/anipose/pose_2d_filter/2024-11-22_09-26-12/2024-11-22_09-26-12_camTR.h5\n",
      "/home/yiting/Documents/Analysis/2024-11-22/anipose/pose_2d_filter/2024-11-22_09-26-12/2024-11-22_09-26-12_camTo.h5\n",
      "/home/yiting/Documents/Analysis/2024-11-22/anipose/pose_2d_filter/2024-11-22_09-26-25/2024-11-22_09-26-25_camBL.h5\n",
      "/home/yiting/Documents/Analysis/2024-11-22/anipose/pose_2d_filter/2024-11-22_09-26-25/2024-11-22_09-26-25_camBR.h5\n",
      "/home/yiting/Documents/Analysis/2024-11-22/anipose/pose_2d_filter/2024-11-22_09-26-25/2024-11-22_09-26-25_camTL.h5\n",
      "/home/yiting/Documents/Analysis/2024-11-22/anipose/pose_2d_filter/2024-11-22_09-26-25/2024-11-22_09-26-25_camTR.h5\n",
      "/home/yiting/Documents/Analysis/2024-11-22/anipose/pose_2d_filter/2024-11-22_09-26-25/2024-11-22_09-26-25_camTo.h5\n",
      "/home/yiting/Documents/Analysis/2024-11-22/anipose/pose_2d_filter/2024-11-22_09-26-39/2024-11-22_09-26-39_camBL.h5\n",
      "/home/yiting/Documents/Analysis/2024-11-22/anipose/pose_2d_filter/2024-11-22_09-26-39/2024-11-22_09-26-39_camBR.h5\n",
      "/home/yiting/Documents/Analysis/2024-11-22/anipose/pose_2d_filter/2024-11-22_09-26-39/2024-11-22_09-26-39_camTL.h5\n",
      "/home/yiting/Documents/Analysis/2024-11-22/anipose/pose_2d_filter/2024-11-22_09-26-39/2024-11-22_09-26-39_camTR.h5\n",
      "/home/yiting/Documents/Analysis/2024-11-22/anipose/pose_2d_filter/2024-11-22_09-26-39/2024-11-22_09-26-39_camTo.h5\n",
      "/home/yiting/Documents/Analysis/2024-11-22/anipose/pose_2d_filter/2024-11-22_09-26-52/2024-11-22_09-26-52_camBL.h5\n",
      "/home/yiting/Documents/Analysis/2024-11-22/anipose/pose_2d_filter/2024-11-22_09-26-52/2024-11-22_09-26-52_camBR.h5\n",
      "/home/yiting/Documents/Analysis/2024-11-22/anipose/pose_2d_filter/2024-11-22_09-26-52/2024-11-22_09-26-52_camTL.h5\n",
      "/home/yiting/Documents/Analysis/2024-11-22/anipose/pose_2d_filter/2024-11-22_09-26-52/2024-11-22_09-26-52_camTR.h5\n",
      "/home/yiting/Documents/Analysis/2024-11-22/anipose/pose_2d_filter/2024-11-22_09-26-52/2024-11-22_09-26-52_camTo.h5\n",
      "/home/yiting/Documents/Analysis/2024-11-22/anipose/pose_2d_filter/2024-11-22_09-27-06/2024-11-22_09-27-06_camBL.h5\n",
      "/home/yiting/Documents/Analysis/2024-11-22/anipose/pose_2d_filter/2024-11-22_09-27-06/2024-11-22_09-27-06_camBR.h5\n",
      "/home/yiting/Documents/Analysis/2024-11-22/anipose/pose_2d_filter/2024-11-22_09-27-06/2024-11-22_09-27-06_camTL.h5\n",
      "/home/yiting/Documents/Analysis/2024-11-22/anipose/pose_2d_filter/2024-11-22_09-27-06/2024-11-22_09-27-06_camTR.h5\n",
      "/home/yiting/Documents/Analysis/2024-11-22/anipose/pose_2d_filter/2024-11-22_09-27-06/2024-11-22_09-27-06_camTo.h5\n",
      "/home/yiting/Documents/Analysis/2024-11-22/anipose/pose_2d_filter/2024-11-22_09-27-19/2024-11-22_09-27-19_camBL.h5\n",
      "/home/yiting/Documents/Analysis/2024-11-22/anipose/pose_2d_filter/2024-11-22_09-27-19/2024-11-22_09-27-19_camBR.h5\n",
      "/home/yiting/Documents/Analysis/2024-11-22/anipose/pose_2d_filter/2024-11-22_09-27-19/2024-11-22_09-27-19_camTL.h5\n",
      "/home/yiting/Documents/Analysis/2024-11-22/anipose/pose_2d_filter/2024-11-22_09-27-19/2024-11-22_09-27-19_camTR.h5\n",
      "/home/yiting/Documents/Analysis/2024-11-22/anipose/pose_2d_filter/2024-11-22_09-27-19/2024-11-22_09-27-19_camTo.h5\n",
      "/home/yiting/Documents/Analysis/2024-11-22/anipose/pose_2d_filter/2024-11-22_09-27-31/2024-11-22_09-27-31_camBL.h5\n",
      "/home/yiting/Documents/Analysis/2024-11-22/anipose/pose_2d_filter/2024-11-22_09-27-31/2024-11-22_09-27-31_camBR.h5\n",
      "/home/yiting/Documents/Analysis/2024-11-22/anipose/pose_2d_filter/2024-11-22_09-27-31/2024-11-22_09-27-31_camTL.h5\n",
      "/home/yiting/Documents/Analysis/2024-11-22/anipose/pose_2d_filter/2024-11-22_09-27-31/2024-11-22_09-27-31_camTR.h5\n",
      "/home/yiting/Documents/Analysis/2024-11-22/anipose/pose_2d_filter/2024-11-22_09-27-31/2024-11-22_09-27-31_camTo.h5\n",
      "/home/yiting/Documents/Analysis/2024-11-22/anipose/pose_2d_filter/2024-11-22_09-27-43/2024-11-22_09-27-43_camBL.h5\n",
      "/home/yiting/Documents/Analysis/2024-11-22/anipose/pose_2d_filter/2024-11-22_09-27-43/2024-11-22_09-27-43_camBR.h5\n",
      "/home/yiting/Documents/Analysis/2024-11-22/anipose/pose_2d_filter/2024-11-22_09-27-43/2024-11-22_09-27-43_camTL.h5\n",
      "/home/yiting/Documents/Analysis/2024-11-22/anipose/pose_2d_filter/2024-11-22_09-27-43/2024-11-22_09-27-43_camTR.h5\n",
      "/home/yiting/Documents/Analysis/2024-11-22/anipose/pose_2d_filter/2024-11-22_09-27-43/2024-11-22_09-27-43_camTo.h5\n",
      "/home/yiting/Documents/Analysis/2024-11-22/anipose/pose_2d_filter/2024-11-22_09-27-55/2024-11-22_09-27-55_camBL.h5\n",
      "/home/yiting/Documents/Analysis/2024-11-22/anipose/pose_2d_filter/2024-11-22_09-27-55/2024-11-22_09-27-55_camBR.h5\n",
      "/home/yiting/Documents/Analysis/2024-11-22/anipose/pose_2d_filter/2024-11-22_09-27-55/2024-11-22_09-27-55_camTL.h5\n",
      "/home/yiting/Documents/Analysis/2024-11-22/anipose/pose_2d_filter/2024-11-22_09-27-55/2024-11-22_09-27-55_camTR.h5\n",
      "/home/yiting/Documents/Analysis/2024-11-22/anipose/pose_2d_filter/2024-11-22_09-27-55/2024-11-22_09-27-55_camTo.h5\n",
      "/home/yiting/Documents/Analysis/2024-11-22/anipose/pose_2d_filter/2024-11-22_09-28-07/2024-11-22_09-28-07_camBL.h5\n",
      "/home/yiting/Documents/Analysis/2024-11-22/anipose/pose_2d_filter/2024-11-22_09-28-07/2024-11-22_09-28-07_camBR.h5\n",
      "/home/yiting/Documents/Analysis/2024-11-22/anipose/pose_2d_filter/2024-11-22_09-28-07/2024-11-22_09-28-07_camTL.h5\n",
      "/home/yiting/Documents/Analysis/2024-11-22/anipose/pose_2d_filter/2024-11-22_09-28-07/2024-11-22_09-28-07_camTR.h5\n",
      "/home/yiting/Documents/Analysis/2024-11-22/anipose/pose_2d_filter/2024-11-22_09-28-07/2024-11-22_09-28-07_camTo.h5\n",
      "/home/yiting/Documents/Analysis/2024-11-22/anipose/pose_2d_filter/2024-11-22_09-28-19/2024-11-22_09-28-19_camBL.h5\n",
      "/home/yiting/Documents/Analysis/2024-11-22/anipose/pose_2d_filter/2024-11-22_09-28-19/2024-11-22_09-28-19_camBR.h5\n",
      "/home/yiting/Documents/Analysis/2024-11-22/anipose/pose_2d_filter/2024-11-22_09-28-19/2024-11-22_09-28-19_camTL.h5\n",
      "/home/yiting/Documents/Analysis/2024-11-22/anipose/pose_2d_filter/2024-11-22_09-28-19/2024-11-22_09-28-19_camTR.h5\n",
      "/home/yiting/Documents/Analysis/2024-11-22/anipose/pose_2d_filter/2024-11-22_09-28-19/2024-11-22_09-28-19_camTo.h5\n",
      "/home/yiting/Documents/Analysis/2024-11-22/anipose/pose_2d_filter/2024-11-22_09-28-34/2024-11-22_09-28-34_camBL.h5\n",
      "/home/yiting/Documents/Analysis/2024-11-22/anipose/pose_2d_filter/2024-11-22_09-28-34/2024-11-22_09-28-34_camBR.h5\n",
      "/home/yiting/Documents/Analysis/2024-11-22/anipose/pose_2d_filter/2024-11-22_09-28-34/2024-11-22_09-28-34_camTL.h5\n",
      "/home/yiting/Documents/Analysis/2024-11-22/anipose/pose_2d_filter/2024-11-22_09-28-34/2024-11-22_09-28-34_camTR.h5\n",
      "/home/yiting/Documents/Analysis/2024-11-22/anipose/pose_2d_filter/2024-11-22_09-28-34/2024-11-22_09-28-34_camTo.h5\n",
      "/home/yiting/Documents/Analysis/2024-11-22/anipose/pose_2d_filter/2024-11-22_09-28-49/2024-11-22_09-28-49_camBL.h5\n",
      "/home/yiting/Documents/Analysis/2024-11-22/anipose/pose_2d_filter/2024-11-22_09-28-49/2024-11-22_09-28-49_camBR.h5\n",
      "/home/yiting/Documents/Analysis/2024-11-22/anipose/pose_2d_filter/2024-11-22_09-28-49/2024-11-22_09-28-49_camTL.h5\n",
      "/home/yiting/Documents/Analysis/2024-11-22/anipose/pose_2d_filter/2024-11-22_09-28-49/2024-11-22_09-28-49_camTR.h5\n",
      "/home/yiting/Documents/Analysis/2024-11-22/anipose/pose_2d_filter/2024-11-22_09-28-49/2024-11-22_09-28-49_camTo.h5\n",
      "/home/yiting/Documents/Analysis/2024-11-22/anipose/pose_2d_filter/2024-11-22_09-29-03/2024-11-22_09-29-03_camBL.h5\n",
      "/home/yiting/Documents/Analysis/2024-11-22/anipose/pose_2d_filter/2024-11-22_09-29-03/2024-11-22_09-29-03_camBR.h5\n",
      "/home/yiting/Documents/Analysis/2024-11-22/anipose/pose_2d_filter/2024-11-22_09-29-03/2024-11-22_09-29-03_camTL.h5\n",
      "/home/yiting/Documents/Analysis/2024-11-22/anipose/pose_2d_filter/2024-11-22_09-29-03/2024-11-22_09-29-03_camTR.h5\n",
      "/home/yiting/Documents/Analysis/2024-11-22/anipose/pose_2d_filter/2024-11-22_09-29-03/2024-11-22_09-29-03_camTo.h5\n",
      "/home/yiting/Documents/Analysis/2024-11-22/anipose/pose_2d_filter/2024-11-22_09-29-17/2024-11-22_09-29-17_camBL.h5\n",
      "/home/yiting/Documents/Analysis/2024-11-22/anipose/pose_2d_filter/2024-11-22_09-29-17/2024-11-22_09-29-17_camBR.h5\n",
      "/home/yiting/Documents/Analysis/2024-11-22/anipose/pose_2d_filter/2024-11-22_09-29-17/2024-11-22_09-29-17_camTL.h5\n",
      "/home/yiting/Documents/Analysis/2024-11-22/anipose/pose_2d_filter/2024-11-22_09-29-17/2024-11-22_09-29-17_camTR.h5\n",
      "/home/yiting/Documents/Analysis/2024-11-22/anipose/pose_2d_filter/2024-11-22_09-29-17/2024-11-22_09-29-17_camTo.h5\n",
      "/home/yiting/Documents/Analysis/2024-11-22/anipose/pose_2d_filter/2024-11-22_09-29-31/2024-11-22_09-29-31_camBL.h5\n",
      "/home/yiting/Documents/Analysis/2024-11-22/anipose/pose_2d_filter/2024-11-22_09-29-31/2024-11-22_09-29-31_camBR.h5\n",
      "/home/yiting/Documents/Analysis/2024-11-22/anipose/pose_2d_filter/2024-11-22_09-29-31/2024-11-22_09-29-31_camTL.h5\n",
      "/home/yiting/Documents/Analysis/2024-11-22/anipose/pose_2d_filter/2024-11-22_09-29-31/2024-11-22_09-29-31_camTR.h5\n",
      "/home/yiting/Documents/Analysis/2024-11-22/anipose/pose_2d_filter/2024-11-22_09-29-31/2024-11-22_09-29-31_camTo.h5\n",
      "/home/yiting/Documents/Analysis/2024-11-22/anipose/pose_2d_filter/2024-11-22_09-29-44/2024-11-22_09-29-44_camBL.h5\n",
      "/home/yiting/Documents/Analysis/2024-11-22/anipose/pose_2d_filter/2024-11-22_09-29-44/2024-11-22_09-29-44_camBR.h5\n",
      "/home/yiting/Documents/Analysis/2024-11-22/anipose/pose_2d_filter/2024-11-22_09-29-44/2024-11-22_09-29-44_camTL.h5\n",
      "/home/yiting/Documents/Analysis/2024-11-22/anipose/pose_2d_filter/2024-11-22_09-29-44/2024-11-22_09-29-44_camTR.h5\n",
      "/home/yiting/Documents/Analysis/2024-11-22/anipose/pose_2d_filter/2024-11-22_09-29-44/2024-11-22_09-29-44_camTo.h5\n",
      "/home/yiting/Documents/Analysis/2024-11-22/anipose/pose_2d_filter/2024-11-22_09-29-57/2024-11-22_09-29-57_camBL.h5\n",
      "/home/yiting/Documents/Analysis/2024-11-22/anipose/pose_2d_filter/2024-11-22_09-29-57/2024-11-22_09-29-57_camBR.h5\n",
      "/home/yiting/Documents/Analysis/2024-11-22/anipose/pose_2d_filter/2024-11-22_09-29-57/2024-11-22_09-29-57_camTL.h5\n",
      "/home/yiting/Documents/Analysis/2024-11-22/anipose/pose_2d_filter/2024-11-22_09-29-57/2024-11-22_09-29-57_camTR.h5\n",
      "/home/yiting/Documents/Analysis/2024-11-22/anipose/pose_2d_filter/2024-11-22_09-29-57/2024-11-22_09-29-57_camTo.h5\n",
      "/home/yiting/Documents/Analysis/2024-11-22/anipose/pose_2d_filter/2024-11-22_09-30-09/2024-11-22_09-30-09_camBL.h5\n",
      "/home/yiting/Documents/Analysis/2024-11-22/anipose/pose_2d_filter/2024-11-22_09-30-09/2024-11-22_09-30-09_camBR.h5\n",
      "/home/yiting/Documents/Analysis/2024-11-22/anipose/pose_2d_filter/2024-11-22_09-30-09/2024-11-22_09-30-09_camTL.h5\n",
      "/home/yiting/Documents/Analysis/2024-11-22/anipose/pose_2d_filter/2024-11-22_09-30-09/2024-11-22_09-30-09_camTR.h5\n",
      "/home/yiting/Documents/Analysis/2024-11-22/anipose/pose_2d_filter/2024-11-22_09-30-09/2024-11-22_09-30-09_camTo.h5\n",
      "/home/yiting/Documents/Analysis/2024-11-22/anipose/pose_2d_filter/2024-11-22_09-30-22/2024-11-22_09-30-22_camBL.h5\n",
      "/home/yiting/Documents/Analysis/2024-11-22/anipose/pose_2d_filter/2024-11-22_09-30-22/2024-11-22_09-30-22_camBR.h5\n",
      "/home/yiting/Documents/Analysis/2024-11-22/anipose/pose_2d_filter/2024-11-22_09-30-22/2024-11-22_09-30-22_camTL.h5\n",
      "/home/yiting/Documents/Analysis/2024-11-22/anipose/pose_2d_filter/2024-11-22_09-30-22/2024-11-22_09-30-22_camTR.h5\n",
      "/home/yiting/Documents/Analysis/2024-11-22/anipose/pose_2d_filter/2024-11-22_09-30-22/2024-11-22_09-30-22_camTo.h5\n",
      "/home/yiting/Documents/Analysis/2024-11-22/anipose/pose_2d_filter/2024-11-22_09-30-35/2024-11-22_09-30-35_camBL.h5\n",
      "/home/yiting/Documents/Analysis/2024-11-22/anipose/pose_2d_filter/2024-11-22_09-30-35/2024-11-22_09-30-35_camBR.h5\n",
      "/home/yiting/Documents/Analysis/2024-11-22/anipose/pose_2d_filter/2024-11-22_09-30-35/2024-11-22_09-30-35_camTL.h5\n",
      "/home/yiting/Documents/Analysis/2024-11-22/anipose/pose_2d_filter/2024-11-22_09-30-35/2024-11-22_09-30-35_camTR.h5\n",
      "/home/yiting/Documents/Analysis/2024-11-22/anipose/pose_2d_filter/2024-11-22_09-30-35/2024-11-22_09-30-35_camTo.h5\n",
      "/home/yiting/Documents/Analysis/2024-11-22/anipose/pose_2d_filter/2024-11-22_09-30-47/2024-11-22_09-30-47_camBL.h5\n",
      "/home/yiting/Documents/Analysis/2024-11-22/anipose/pose_2d_filter/2024-11-22_09-30-47/2024-11-22_09-30-47_camBR.h5\n",
      "/home/yiting/Documents/Analysis/2024-11-22/anipose/pose_2d_filter/2024-11-22_09-30-47/2024-11-22_09-30-47_camTL.h5\n",
      "/home/yiting/Documents/Analysis/2024-11-22/anipose/pose_2d_filter/2024-11-22_09-30-47/2024-11-22_09-30-47_camTR.h5\n",
      "/home/yiting/Documents/Analysis/2024-11-22/anipose/pose_2d_filter/2024-11-22_09-30-47/2024-11-22_09-30-47_camTo.h5\n",
      "/home/yiting/Documents/Analysis/2024-11-22/anipose/pose_2d_filter/2024-11-22_09-30-59/2024-11-22_09-30-59_camBL.h5\n",
      "/home/yiting/Documents/Analysis/2024-11-22/anipose/pose_2d_filter/2024-11-22_09-30-59/2024-11-22_09-30-59_camBR.h5\n",
      "/home/yiting/Documents/Analysis/2024-11-22/anipose/pose_2d_filter/2024-11-22_09-30-59/2024-11-22_09-30-59_camTL.h5\n",
      "/home/yiting/Documents/Analysis/2024-11-22/anipose/pose_2d_filter/2024-11-22_09-30-59/2024-11-22_09-30-59_camTR.h5\n",
      "/home/yiting/Documents/Analysis/2024-11-22/anipose/pose_2d_filter/2024-11-22_09-30-59/2024-11-22_09-30-59_camTo.h5\n",
      "/home/yiting/Documents/Analysis/2024-11-22/anipose/pose_2d_filter/2024-11-22_09-31-13/2024-11-22_09-31-13_camBL.h5\n",
      "/home/yiting/Documents/Analysis/2024-11-22/anipose/pose_2d_filter/2024-11-22_09-31-13/2024-11-22_09-31-13_camBR.h5\n",
      "/home/yiting/Documents/Analysis/2024-11-22/anipose/pose_2d_filter/2024-11-22_09-31-13/2024-11-22_09-31-13_camTL.h5\n",
      "/home/yiting/Documents/Analysis/2024-11-22/anipose/pose_2d_filter/2024-11-22_09-31-13/2024-11-22_09-31-13_camTR.h5\n",
      "/home/yiting/Documents/Analysis/2024-11-22/anipose/pose_2d_filter/2024-11-22_09-31-13/2024-11-22_09-31-13_camTo.h5\n",
      "/home/yiting/Documents/Analysis/2024-11-22/anipose/pose_2d_filter/2024-11-22_09-31-24/2024-11-22_09-31-24_camBL.h5\n",
      "/home/yiting/Documents/Analysis/2024-11-22/anipose/pose_2d_filter/2024-11-22_09-31-24/2024-11-22_09-31-24_camBR.h5\n",
      "/home/yiting/Documents/Analysis/2024-11-22/anipose/pose_2d_filter/2024-11-22_09-31-24/2024-11-22_09-31-24_camTL.h5\n",
      "/home/yiting/Documents/Analysis/2024-11-22/anipose/pose_2d_filter/2024-11-22_09-31-24/2024-11-22_09-31-24_camTR.h5\n",
      "/home/yiting/Documents/Analysis/2024-11-22/anipose/pose_2d_filter/2024-11-22_09-31-24/2024-11-22_09-31-24_camTo.h5\n",
      "/home/yiting/Documents/Analysis/2024-11-22/anipose/pose_2d_filter/2024-11-22_09-31-36/2024-11-22_09-31-36_camBL.h5\n",
      "/home/yiting/Documents/Analysis/2024-11-22/anipose/pose_2d_filter/2024-11-22_09-31-36/2024-11-22_09-31-36_camBR.h5\n",
      "/home/yiting/Documents/Analysis/2024-11-22/anipose/pose_2d_filter/2024-11-22_09-31-36/2024-11-22_09-31-36_camTL.h5\n",
      "/home/yiting/Documents/Analysis/2024-11-22/anipose/pose_2d_filter/2024-11-22_09-31-36/2024-11-22_09-31-36_camTR.h5\n",
      "/home/yiting/Documents/Analysis/2024-11-22/anipose/pose_2d_filter/2024-11-22_09-31-36/2024-11-22_09-31-36_camTo.h5\n",
      "/home/yiting/Documents/Analysis/2024-11-22/anipose/pose_2d_filter/2024-11-22_09-31-49/2024-11-22_09-31-49_camBL.h5\n",
      "/home/yiting/Documents/Analysis/2024-11-22/anipose/pose_2d_filter/2024-11-22_09-31-49/2024-11-22_09-31-49_camBR.h5\n",
      "/home/yiting/Documents/Analysis/2024-11-22/anipose/pose_2d_filter/2024-11-22_09-31-49/2024-11-22_09-31-49_camTL.h5\n",
      "/home/yiting/Documents/Analysis/2024-11-22/anipose/pose_2d_filter/2024-11-22_09-31-49/2024-11-22_09-31-49_camTR.h5\n",
      "/home/yiting/Documents/Analysis/2024-11-22/anipose/pose_2d_filter/2024-11-22_09-31-49/2024-11-22_09-31-49_camTo.h5\n",
      "/home/yiting/Documents/Analysis/2024-11-22/anipose/pose_2d_filter/2024-11-22_09-32-02/2024-11-22_09-32-02_camBL.h5\n",
      "/home/yiting/Documents/Analysis/2024-11-22/anipose/pose_2d_filter/2024-11-22_09-32-02/2024-11-22_09-32-02_camBR.h5\n",
      "/home/yiting/Documents/Analysis/2024-11-22/anipose/pose_2d_filter/2024-11-22_09-32-02/2024-11-22_09-32-02_camTL.h5\n",
      "/home/yiting/Documents/Analysis/2024-11-22/anipose/pose_2d_filter/2024-11-22_09-32-02/2024-11-22_09-32-02_camTR.h5\n",
      "/home/yiting/Documents/Analysis/2024-11-22/anipose/pose_2d_filter/2024-11-22_09-32-02/2024-11-22_09-32-02_camTo.h5\n",
      "/home/yiting/Documents/Analysis/2024-11-22/anipose/pose_2d_filter/2024-11-22_09-32-14/2024-11-22_09-32-14_camBL.h5\n",
      "/home/yiting/Documents/Analysis/2024-11-22/anipose/pose_2d_filter/2024-11-22_09-32-14/2024-11-22_09-32-14_camBR.h5\n",
      "/home/yiting/Documents/Analysis/2024-11-22/anipose/pose_2d_filter/2024-11-22_09-32-14/2024-11-22_09-32-14_camTL.h5\n",
      "/home/yiting/Documents/Analysis/2024-11-22/anipose/pose_2d_filter/2024-11-22_09-32-14/2024-11-22_09-32-14_camTR.h5\n",
      "/home/yiting/Documents/Analysis/2024-11-22/anipose/pose_2d_filter/2024-11-22_09-32-14/2024-11-22_09-32-14_camTo.h5\n",
      "/home/yiting/Documents/Analysis/2024-11-22/anipose/pose_2d_filter/2024-11-22_09-32-28/2024-11-22_09-32-28_camBL.h5\n",
      "/home/yiting/Documents/Analysis/2024-11-22/anipose/pose_2d_filter/2024-11-22_09-32-28/2024-11-22_09-32-28_camBR.h5\n",
      "/home/yiting/Documents/Analysis/2024-11-22/anipose/pose_2d_filter/2024-11-22_09-32-28/2024-11-22_09-32-28_camTL.h5\n",
      "/home/yiting/Documents/Analysis/2024-11-22/anipose/pose_2d_filter/2024-11-22_09-32-28/2024-11-22_09-32-28_camTR.h5\n",
      "/home/yiting/Documents/Analysis/2024-11-22/anipose/pose_2d_filter/2024-11-22_09-32-28/2024-11-22_09-32-28_camTo.h5\n",
      "/home/yiting/Documents/Analysis/2024-11-22/anipose/pose_2d_filter/2024-11-22_09-32-42/2024-11-22_09-32-42_camBL.h5\n",
      "/home/yiting/Documents/Analysis/2024-11-22/anipose/pose_2d_filter/2024-11-22_09-32-42/2024-11-22_09-32-42_camBR.h5\n",
      "/home/yiting/Documents/Analysis/2024-11-22/anipose/pose_2d_filter/2024-11-22_09-32-42/2024-11-22_09-32-42_camTL.h5\n",
      "/home/yiting/Documents/Analysis/2024-11-22/anipose/pose_2d_filter/2024-11-22_09-32-42/2024-11-22_09-32-42_camTR.h5\n",
      "/home/yiting/Documents/Analysis/2024-11-22/anipose/pose_2d_filter/2024-11-22_09-32-42/2024-11-22_09-32-42_camTo.h5\n",
      "/home/yiting/Documents/Analysis/2024-11-22/anipose/pose_2d_filter/2024-11-22_09-32-55/2024-11-22_09-32-55_camBL.h5\n",
      "/home/yiting/Documents/Analysis/2024-11-22/anipose/pose_2d_filter/2024-11-22_09-32-55/2024-11-22_09-32-55_camBR.h5\n",
      "/home/yiting/Documents/Analysis/2024-11-22/anipose/pose_2d_filter/2024-11-22_09-32-55/2024-11-22_09-32-55_camTL.h5\n",
      "/home/yiting/Documents/Analysis/2024-11-22/anipose/pose_2d_filter/2024-11-22_09-32-55/2024-11-22_09-32-55_camTR.h5\n",
      "/home/yiting/Documents/Analysis/2024-11-22/anipose/pose_2d_filter/2024-11-22_09-32-55/2024-11-22_09-32-55_camTo.h5\n",
      "/home/yiting/Documents/Analysis/2024-11-22/anipose/pose_2d_filter/2024-11-22_09-33-09/2024-11-22_09-33-09_camBL.h5\n",
      "/home/yiting/Documents/Analysis/2024-11-22/anipose/pose_2d_filter/2024-11-22_09-33-09/2024-11-22_09-33-09_camBR.h5\n",
      "/home/yiting/Documents/Analysis/2024-11-22/anipose/pose_2d_filter/2024-11-22_09-33-09/2024-11-22_09-33-09_camTL.h5\n",
      "/home/yiting/Documents/Analysis/2024-11-22/anipose/pose_2d_filter/2024-11-22_09-33-09/2024-11-22_09-33-09_camTR.h5\n",
      "/home/yiting/Documents/Analysis/2024-11-22/anipose/pose_2d_filter/2024-11-22_09-33-09/2024-11-22_09-33-09_camTo.h5\n",
      "/home/yiting/Documents/Analysis/2024-11-22/anipose/pose_2d_filter/2024-11-22_09-33-23/2024-11-22_09-33-23_camBL.h5\n",
      "/home/yiting/Documents/Analysis/2024-11-22/anipose/pose_2d_filter/2024-11-22_09-33-23/2024-11-22_09-33-23_camBR.h5\n",
      "/home/yiting/Documents/Analysis/2024-11-22/anipose/pose_2d_filter/2024-11-22_09-33-23/2024-11-22_09-33-23_camTL.h5\n",
      "/home/yiting/Documents/Analysis/2024-11-22/anipose/pose_2d_filter/2024-11-22_09-33-23/2024-11-22_09-33-23_camTR.h5\n",
      "/home/yiting/Documents/Analysis/2024-11-22/anipose/pose_2d_filter/2024-11-22_09-33-23/2024-11-22_09-33-23_camTo.h5\n",
      "/home/yiting/Documents/Analysis/2024-11-22/anipose/pose_2d_filter/2024-11-22_09-33-35/2024-11-22_09-33-35_camBL.h5\n",
      "/home/yiting/Documents/Analysis/2024-11-22/anipose/pose_2d_filter/2024-11-22_09-33-35/2024-11-22_09-33-35_camBR.h5\n",
      "/home/yiting/Documents/Analysis/2024-11-22/anipose/pose_2d_filter/2024-11-22_09-33-35/2024-11-22_09-33-35_camTL.h5\n",
      "/home/yiting/Documents/Analysis/2024-11-22/anipose/pose_2d_filter/2024-11-22_09-33-35/2024-11-22_09-33-35_camTR.h5\n",
      "/home/yiting/Documents/Analysis/2024-11-22/anipose/pose_2d_filter/2024-11-22_09-33-35/2024-11-22_09-33-35_camTo.h5\n",
      "/home/yiting/Documents/Analysis/2024-11-22/anipose/pose_2d_filter/2024-11-22_09-33-48/2024-11-22_09-33-48_camBL.h5\n",
      "/home/yiting/Documents/Analysis/2024-11-22/anipose/pose_2d_filter/2024-11-22_09-33-48/2024-11-22_09-33-48_camBR.h5\n",
      "/home/yiting/Documents/Analysis/2024-11-22/anipose/pose_2d_filter/2024-11-22_09-33-48/2024-11-22_09-33-48_camTL.h5\n",
      "/home/yiting/Documents/Analysis/2024-11-22/anipose/pose_2d_filter/2024-11-22_09-33-48/2024-11-22_09-33-48_camTR.h5\n",
      "/home/yiting/Documents/Analysis/2024-11-22/anipose/pose_2d_filter/2024-11-22_09-33-48/2024-11-22_09-33-48_camTo.h5\n",
      "/home/yiting/Documents/Analysis/2024-11-22/anipose/pose_2d_filter/2024-11-22_09-34-02/2024-11-22_09-34-02_camBL.h5\n",
      "/home/yiting/Documents/Analysis/2024-11-22/anipose/pose_2d_filter/2024-11-22_09-34-02/2024-11-22_09-34-02_camBR.h5\n",
      "/home/yiting/Documents/Analysis/2024-11-22/anipose/pose_2d_filter/2024-11-22_09-34-02/2024-11-22_09-34-02_camTL.h5\n",
      "/home/yiting/Documents/Analysis/2024-11-22/anipose/pose_2d_filter/2024-11-22_09-34-02/2024-11-22_09-34-02_camTR.h5\n",
      "/home/yiting/Documents/Analysis/2024-11-22/anipose/pose_2d_filter/2024-11-22_09-34-02/2024-11-22_09-34-02_camTo.h5\n",
      "/home/yiting/Documents/Analysis/2024-11-22/anipose/pose_2d_filter/2024-11-22_09-34-14/2024-11-22_09-34-14_camBL.h5\n",
      "/home/yiting/Documents/Analysis/2024-11-22/anipose/pose_2d_filter/2024-11-22_09-34-14/2024-11-22_09-34-14_camBR.h5\n",
      "/home/yiting/Documents/Analysis/2024-11-22/anipose/pose_2d_filter/2024-11-22_09-34-14/2024-11-22_09-34-14_camTL.h5\n",
      "/home/yiting/Documents/Analysis/2024-11-22/anipose/pose_2d_filter/2024-11-22_09-34-14/2024-11-22_09-34-14_camTR.h5\n",
      "/home/yiting/Documents/Analysis/2024-11-22/anipose/pose_2d_filter/2024-11-22_09-34-14/2024-11-22_09-34-14_camTo.h5\n",
      "/home/yiting/Documents/Analysis/2024-11-22/anipose/pose_2d_filter/2024-11-22_09-34-28/2024-11-22_09-34-28_camBL.h5\n",
      "/home/yiting/Documents/Analysis/2024-11-22/anipose/pose_2d_filter/2024-11-22_09-34-28/2024-11-22_09-34-28_camBR.h5\n",
      "/home/yiting/Documents/Analysis/2024-11-22/anipose/pose_2d_filter/2024-11-22_09-34-28/2024-11-22_09-34-28_camTL.h5\n",
      "/home/yiting/Documents/Analysis/2024-11-22/anipose/pose_2d_filter/2024-11-22_09-34-28/2024-11-22_09-34-28_camTR.h5\n",
      "/home/yiting/Documents/Analysis/2024-11-22/anipose/pose_2d_filter/2024-11-22_09-34-28/2024-11-22_09-34-28_camTo.h5\n",
      "/home/yiting/Documents/Analysis/2024-11-22/anipose/pose_2d_filter/2024-11-22_09-34-42/2024-11-22_09-34-42_camBL.h5\n",
      "/home/yiting/Documents/Analysis/2024-11-22/anipose/pose_2d_filter/2024-11-22_09-34-42/2024-11-22_09-34-42_camBR.h5\n",
      "/home/yiting/Documents/Analysis/2024-11-22/anipose/pose_2d_filter/2024-11-22_09-34-42/2024-11-22_09-34-42_camTL.h5\n",
      "/home/yiting/Documents/Analysis/2024-11-22/anipose/pose_2d_filter/2024-11-22_09-34-42/2024-11-22_09-34-42_camTR.h5\n",
      "/home/yiting/Documents/Analysis/2024-11-22/anipose/pose_2d_filter/2024-11-22_09-34-42/2024-11-22_09-34-42_camTo.h5\n",
      "/home/yiting/Documents/Analysis/2024-11-22/anipose/pose_2d_filter/2024-11-22_09-34-56/2024-11-22_09-34-56_camBL.h5\n",
      "/home/yiting/Documents/Analysis/2024-11-22/anipose/pose_2d_filter/2024-11-22_09-34-56/2024-11-22_09-34-56_camBR.h5\n",
      "/home/yiting/Documents/Analysis/2024-11-22/anipose/pose_2d_filter/2024-11-22_09-34-56/2024-11-22_09-34-56_camTL.h5\n",
      "/home/yiting/Documents/Analysis/2024-11-22/anipose/pose_2d_filter/2024-11-22_09-34-56/2024-11-22_09-34-56_camTR.h5\n",
      "/home/yiting/Documents/Analysis/2024-11-22/anipose/pose_2d_filter/2024-11-22_09-34-56/2024-11-22_09-34-56_camTo.h5\n",
      "/home/yiting/Documents/Analysis/2024-11-22/anipose/pose_2d_filter/2024-11-22_09-35-08/2024-11-22_09-35-08_camBL.h5\n",
      "/home/yiting/Documents/Analysis/2024-11-22/anipose/pose_2d_filter/2024-11-22_09-35-08/2024-11-22_09-35-08_camBR.h5\n",
      "/home/yiting/Documents/Analysis/2024-11-22/anipose/pose_2d_filter/2024-11-22_09-35-08/2024-11-22_09-35-08_camTL.h5\n",
      "/home/yiting/Documents/Analysis/2024-11-22/anipose/pose_2d_filter/2024-11-22_09-35-08/2024-11-22_09-35-08_camTR.h5\n",
      "/home/yiting/Documents/Analysis/2024-11-22/anipose/pose_2d_filter/2024-11-22_09-35-08/2024-11-22_09-35-08_camTo.h5\n",
      "/home/yiting/Documents/Analysis/2024-11-22/anipose/pose_2d_filter/2024-11-22_09-35-21/2024-11-22_09-35-21_camBL.h5\n",
      "/home/yiting/Documents/Analysis/2024-11-22/anipose/pose_2d_filter/2024-11-22_09-35-21/2024-11-22_09-35-21_camBR.h5\n",
      "/home/yiting/Documents/Analysis/2024-11-22/anipose/pose_2d_filter/2024-11-22_09-35-21/2024-11-22_09-35-21_camTL.h5\n",
      "/home/yiting/Documents/Analysis/2024-11-22/anipose/pose_2d_filter/2024-11-22_09-35-21/2024-11-22_09-35-21_camTR.h5\n",
      "/home/yiting/Documents/Analysis/2024-11-22/anipose/pose_2d_filter/2024-11-22_09-35-21/2024-11-22_09-35-21_camTo.h5\n",
      "/home/yiting/Documents/Analysis/2024-11-22/anipose/pose_2d_filter/2024-11-22_09-35-32/2024-11-22_09-35-32_camBL.h5\n",
      "/home/yiting/Documents/Analysis/2024-11-22/anipose/pose_2d_filter/2024-11-22_09-35-32/2024-11-22_09-35-32_camBR.h5\n",
      "/home/yiting/Documents/Analysis/2024-11-22/anipose/pose_2d_filter/2024-11-22_09-35-32/2024-11-22_09-35-32_camTL.h5\n",
      "/home/yiting/Documents/Analysis/2024-11-22/anipose/pose_2d_filter/2024-11-22_09-35-32/2024-11-22_09-35-32_camTR.h5\n",
      "/home/yiting/Documents/Analysis/2024-11-22/anipose/pose_2d_filter/2024-11-22_09-35-32/2024-11-22_09-35-32_camTo.h5\n",
      "/home/yiting/Documents/Analysis/2024-11-22/anipose/pose_2d_filter/2024-11-22_09-35-43/2024-11-22_09-35-43_camBL.h5\n",
      "/home/yiting/Documents/Analysis/2024-11-22/anipose/pose_2d_filter/2024-11-22_09-35-43/2024-11-22_09-35-43_camBR.h5\n",
      "/home/yiting/Documents/Analysis/2024-11-22/anipose/pose_2d_filter/2024-11-22_09-35-43/2024-11-22_09-35-43_camTL.h5\n",
      "/home/yiting/Documents/Analysis/2024-11-22/anipose/pose_2d_filter/2024-11-22_09-35-43/2024-11-22_09-35-43_camTR.h5\n",
      "/home/yiting/Documents/Analysis/2024-11-22/anipose/pose_2d_filter/2024-11-22_09-35-43/2024-11-22_09-35-43_camTo.h5\n",
      "/home/yiting/Documents/Analysis/2024-11-22/anipose/pose_2d_filter/2024-11-22_09-35-57/2024-11-22_09-35-57_camBL.h5\n",
      "/home/yiting/Documents/Analysis/2024-11-22/anipose/pose_2d_filter/2024-11-22_09-35-57/2024-11-22_09-35-57_camBR.h5\n",
      "/home/yiting/Documents/Analysis/2024-11-22/anipose/pose_2d_filter/2024-11-22_09-35-57/2024-11-22_09-35-57_camTL.h5\n",
      "/home/yiting/Documents/Analysis/2024-11-22/anipose/pose_2d_filter/2024-11-22_09-35-57/2024-11-22_09-35-57_camTR.h5\n",
      "/home/yiting/Documents/Analysis/2024-11-22/anipose/pose_2d_filter/2024-11-22_09-35-57/2024-11-22_09-35-57_camTo.h5\n",
      "/home/yiting/Documents/Analysis/2024-11-22/anipose/pose_2d_filter/2024-11-22_09-36-10/2024-11-22_09-36-10_camBL.h5\n",
      "/home/yiting/Documents/Analysis/2024-11-22/anipose/pose_2d_filter/2024-11-22_09-36-10/2024-11-22_09-36-10_camBR.h5\n",
      "/home/yiting/Documents/Analysis/2024-11-22/anipose/pose_2d_filter/2024-11-22_09-36-10/2024-11-22_09-36-10_camTL.h5\n",
      "/home/yiting/Documents/Analysis/2024-11-22/anipose/pose_2d_filter/2024-11-22_09-36-10/2024-11-22_09-36-10_camTR.h5\n",
      "/home/yiting/Documents/Analysis/2024-11-22/anipose/pose_2d_filter/2024-11-22_09-36-10/2024-11-22_09-36-10_camTo.h5\n",
      "/home/yiting/Documents/Analysis/2024-11-22/anipose/pose_2d_filter/2024-11-22_09-36-23/2024-11-22_09-36-23_camBL.h5\n",
      "/home/yiting/Documents/Analysis/2024-11-22/anipose/pose_2d_filter/2024-11-22_09-36-23/2024-11-22_09-36-23_camBR.h5\n",
      "/home/yiting/Documents/Analysis/2024-11-22/anipose/pose_2d_filter/2024-11-22_09-36-23/2024-11-22_09-36-23_camTL.h5\n",
      "/home/yiting/Documents/Analysis/2024-11-22/anipose/pose_2d_filter/2024-11-22_09-36-23/2024-11-22_09-36-23_camTR.h5\n",
      "/home/yiting/Documents/Analysis/2024-11-22/anipose/pose_2d_filter/2024-11-22_09-36-23/2024-11-22_09-36-23_camTo.h5\n",
      "/home/yiting/Documents/Analysis/2024-11-22/anipose/pose_2d_filter/2024-11-22_09-36-38/2024-11-22_09-36-38_camBL.h5\n",
      "/home/yiting/Documents/Analysis/2024-11-22/anipose/pose_2d_filter/2024-11-22_09-36-38/2024-11-22_09-36-38_camBR.h5\n",
      "/home/yiting/Documents/Analysis/2024-11-22/anipose/pose_2d_filter/2024-11-22_09-36-38/2024-11-22_09-36-38_camTL.h5\n",
      "/home/yiting/Documents/Analysis/2024-11-22/anipose/pose_2d_filter/2024-11-22_09-36-38/2024-11-22_09-36-38_camTR.h5\n",
      "/home/yiting/Documents/Analysis/2024-11-22/anipose/pose_2d_filter/2024-11-22_09-36-38/2024-11-22_09-36-38_camTo.h5\n",
      "/home/yiting/Documents/Analysis/2024-11-22/anipose/pose_2d_filter/2024-11-22_09-36-51/2024-11-22_09-36-51_camBL.h5\n",
      "/home/yiting/Documents/Analysis/2024-11-22/anipose/pose_2d_filter/2024-11-22_09-36-51/2024-11-22_09-36-51_camBR.h5\n",
      "/home/yiting/Documents/Analysis/2024-11-22/anipose/pose_2d_filter/2024-11-22_09-36-51/2024-11-22_09-36-51_camTL.h5\n",
      "/home/yiting/Documents/Analysis/2024-11-22/anipose/pose_2d_filter/2024-11-22_09-36-51/2024-11-22_09-36-51_camTR.h5\n",
      "/home/yiting/Documents/Analysis/2024-11-22/anipose/pose_2d_filter/2024-11-22_09-36-51/2024-11-22_09-36-51_camTo.h5\n",
      "/home/yiting/Documents/Analysis/2024-11-22/anipose/pose_2d_filter/2024-11-22_09-37-03/2024-11-22_09-37-03_camBL.h5\n",
      "/home/yiting/Documents/Analysis/2024-11-22/anipose/pose_2d_filter/2024-11-22_09-37-03/2024-11-22_09-37-03_camBR.h5\n",
      "/home/yiting/Documents/Analysis/2024-11-22/anipose/pose_2d_filter/2024-11-22_09-37-03/2024-11-22_09-37-03_camTL.h5\n",
      "/home/yiting/Documents/Analysis/2024-11-22/anipose/pose_2d_filter/2024-11-22_09-37-03/2024-11-22_09-37-03_camTR.h5\n",
      "/home/yiting/Documents/Analysis/2024-11-22/anipose/pose_2d_filter/2024-11-22_09-37-03/2024-11-22_09-37-03_camTo.h5\n",
      "/home/yiting/Documents/Analysis/2024-11-22/anipose/pose_2d_filter/2024-11-22_09-37-15/2024-11-22_09-37-15_camBL.h5\n",
      "/home/yiting/Documents/Analysis/2024-11-22/anipose/pose_2d_filter/2024-11-22_09-37-15/2024-11-22_09-37-15_camBR.h5\n",
      "/home/yiting/Documents/Analysis/2024-11-22/anipose/pose_2d_filter/2024-11-22_09-37-15/2024-11-22_09-37-15_camTL.h5\n",
      "/home/yiting/Documents/Analysis/2024-11-22/anipose/pose_2d_filter/2024-11-22_09-37-15/2024-11-22_09-37-15_camTR.h5\n",
      "/home/yiting/Documents/Analysis/2024-11-22/anipose/pose_2d_filter/2024-11-22_09-37-15/2024-11-22_09-37-15_camTo.h5\n",
      "/home/yiting/Documents/Analysis/2024-11-22/anipose/pose_2d_filter/2024-11-22_09-37-29/2024-11-22_09-37-29_camBL.h5\n",
      "/home/yiting/Documents/Analysis/2024-11-22/anipose/pose_2d_filter/2024-11-22_09-37-29/2024-11-22_09-37-29_camBR.h5\n",
      "/home/yiting/Documents/Analysis/2024-11-22/anipose/pose_2d_filter/2024-11-22_09-37-29/2024-11-22_09-37-29_camTL.h5\n",
      "/home/yiting/Documents/Analysis/2024-11-22/anipose/pose_2d_filter/2024-11-22_09-37-29/2024-11-22_09-37-29_camTR.h5\n",
      "/home/yiting/Documents/Analysis/2024-11-22/anipose/pose_2d_filter/2024-11-22_09-37-29/2024-11-22_09-37-29_camTo.h5\n",
      "/home/yiting/Documents/Analysis/2024-11-22/anipose/pose_2d_filter/2024-11-22_09-37-42/2024-11-22_09-37-42_camBL.h5\n",
      "/home/yiting/Documents/Analysis/2024-11-22/anipose/pose_2d_filter/2024-11-22_09-37-42/2024-11-22_09-37-42_camBR.h5\n",
      "/home/yiting/Documents/Analysis/2024-11-22/anipose/pose_2d_filter/2024-11-22_09-37-42/2024-11-22_09-37-42_camTL.h5\n",
      "/home/yiting/Documents/Analysis/2024-11-22/anipose/pose_2d_filter/2024-11-22_09-37-42/2024-11-22_09-37-42_camTR.h5\n",
      "/home/yiting/Documents/Analysis/2024-11-22/anipose/pose_2d_filter/2024-11-22_09-37-42/2024-11-22_09-37-42_camTo.h5\n",
      "/home/yiting/Documents/Analysis/2024-11-22/anipose/pose_2d_filter/2024-11-22_09-37-54/2024-11-22_09-37-54_camBL.h5\n",
      "/home/yiting/Documents/Analysis/2024-11-22/anipose/pose_2d_filter/2024-11-22_09-37-54/2024-11-22_09-37-54_camBR.h5\n",
      "/home/yiting/Documents/Analysis/2024-11-22/anipose/pose_2d_filter/2024-11-22_09-37-54/2024-11-22_09-37-54_camTL.h5\n",
      "/home/yiting/Documents/Analysis/2024-11-22/anipose/pose_2d_filter/2024-11-22_09-37-54/2024-11-22_09-37-54_camTR.h5\n",
      "/home/yiting/Documents/Analysis/2024-11-22/anipose/pose_2d_filter/2024-11-22_09-37-54/2024-11-22_09-37-54_camTo.h5\n",
      "/home/yiting/Documents/Analysis/2024-11-22/anipose/pose_2d_filter/2024-11-22_09-38-08/2024-11-22_09-38-08_camBL.h5\n",
      "/home/yiting/Documents/Analysis/2024-11-22/anipose/pose_2d_filter/2024-11-22_09-38-08/2024-11-22_09-38-08_camBR.h5\n",
      "/home/yiting/Documents/Analysis/2024-11-22/anipose/pose_2d_filter/2024-11-22_09-38-08/2024-11-22_09-38-08_camTL.h5\n",
      "/home/yiting/Documents/Analysis/2024-11-22/anipose/pose_2d_filter/2024-11-22_09-38-08/2024-11-22_09-38-08_camTR.h5\n",
      "/home/yiting/Documents/Analysis/2024-11-22/anipose/pose_2d_filter/2024-11-22_09-38-08/2024-11-22_09-38-08_camTo.h5\n",
      "/home/yiting/Documents/Analysis/2024-11-22/anipose/pose_2d_filter/2024-11-22_09-38-21/2024-11-22_09-38-21_camBL.h5\n",
      "/home/yiting/Documents/Analysis/2024-11-22/anipose/pose_2d_filter/2024-11-22_09-38-21/2024-11-22_09-38-21_camBR.h5\n",
      "/home/yiting/Documents/Analysis/2024-11-22/anipose/pose_2d_filter/2024-11-22_09-38-21/2024-11-22_09-38-21_camTL.h5\n",
      "/home/yiting/Documents/Analysis/2024-11-22/anipose/pose_2d_filter/2024-11-22_09-38-21/2024-11-22_09-38-21_camTR.h5\n",
      "/home/yiting/Documents/Analysis/2024-11-22/anipose/pose_2d_filter/2024-11-22_09-38-21/2024-11-22_09-38-21_camTo.h5\n",
      "/home/yiting/Documents/Analysis/2024-11-22/anipose/pose_2d_filter/2024-11-22_09-38-33/2024-11-22_09-38-33_camBL.h5\n",
      "/home/yiting/Documents/Analysis/2024-11-22/anipose/pose_2d_filter/2024-11-22_09-38-33/2024-11-22_09-38-33_camBR.h5\n",
      "/home/yiting/Documents/Analysis/2024-11-22/anipose/pose_2d_filter/2024-11-22_09-38-33/2024-11-22_09-38-33_camTL.h5\n",
      "/home/yiting/Documents/Analysis/2024-11-22/anipose/pose_2d_filter/2024-11-22_09-38-33/2024-11-22_09-38-33_camTR.h5\n",
      "/home/yiting/Documents/Analysis/2024-11-22/anipose/pose_2d_filter/2024-11-22_09-38-33/2024-11-22_09-38-33_camTo.h5\n",
      "/home/yiting/Documents/Analysis/2024-11-22/anipose/pose_2d_filter/2024-11-22_09-38-45/2024-11-22_09-38-45_camBL.h5\n",
      "/home/yiting/Documents/Analysis/2024-11-22/anipose/pose_2d_filter/2024-11-22_09-38-45/2024-11-22_09-38-45_camBR.h5\n",
      "/home/yiting/Documents/Analysis/2024-11-22/anipose/pose_2d_filter/2024-11-22_09-38-45/2024-11-22_09-38-45_camTL.h5\n",
      "/home/yiting/Documents/Analysis/2024-11-22/anipose/pose_2d_filter/2024-11-22_09-38-45/2024-11-22_09-38-45_camTR.h5\n",
      "/home/yiting/Documents/Analysis/2024-11-22/anipose/pose_2d_filter/2024-11-22_09-38-45/2024-11-22_09-38-45_camTo.h5\n",
      "/home/yiting/Documents/Analysis/2024-11-22/anipose/pose_2d_filter/2024-11-22_09-38-59/2024-11-22_09-38-59_camBL.h5\n",
      "/home/yiting/Documents/Analysis/2024-11-22/anipose/pose_2d_filter/2024-11-22_09-38-59/2024-11-22_09-38-59_camBR.h5\n",
      "/home/yiting/Documents/Analysis/2024-11-22/anipose/pose_2d_filter/2024-11-22_09-38-59/2024-11-22_09-38-59_camTL.h5\n",
      "/home/yiting/Documents/Analysis/2024-11-22/anipose/pose_2d_filter/2024-11-22_09-38-59/2024-11-22_09-38-59_camTR.h5\n",
      "/home/yiting/Documents/Analysis/2024-11-22/anipose/pose_2d_filter/2024-11-22_09-38-59/2024-11-22_09-38-59_camTo.h5\n",
      "/home/yiting/Documents/Analysis/2024-11-22/anipose/pose_2d_filter/2024-11-22_09-39-13/2024-11-22_09-39-13_camBL.h5\n",
      "/home/yiting/Documents/Analysis/2024-11-22/anipose/pose_2d_filter/2024-11-22_09-39-13/2024-11-22_09-39-13_camBR.h5\n",
      "/home/yiting/Documents/Analysis/2024-11-22/anipose/pose_2d_filter/2024-11-22_09-39-13/2024-11-22_09-39-13_camTL.h5\n",
      "/home/yiting/Documents/Analysis/2024-11-22/anipose/pose_2d_filter/2024-11-22_09-39-13/2024-11-22_09-39-13_camTR.h5\n",
      "/home/yiting/Documents/Analysis/2024-11-22/anipose/pose_2d_filter/2024-11-22_09-39-13/2024-11-22_09-39-13_camTo.h5\n",
      "/home/yiting/Documents/Analysis/2024-11-22/anipose/pose_2d_filter/2024-11-22_09-39-28/2024-11-22_09-39-28_camBL.h5\n",
      "/home/yiting/Documents/Analysis/2024-11-22/anipose/pose_2d_filter/2024-11-22_09-39-28/2024-11-22_09-39-28_camBR.h5\n",
      "/home/yiting/Documents/Analysis/2024-11-22/anipose/pose_2d_filter/2024-11-22_09-39-28/2024-11-22_09-39-28_camTL.h5\n",
      "/home/yiting/Documents/Analysis/2024-11-22/anipose/pose_2d_filter/2024-11-22_09-39-28/2024-11-22_09-39-28_camTR.h5\n",
      "/home/yiting/Documents/Analysis/2024-11-22/anipose/pose_2d_filter/2024-11-22_09-39-28/2024-11-22_09-39-28_camTo.h5\n",
      "/home/yiting/Documents/Analysis/2024-11-22/anipose/pose_2d_filter/2024-11-22_09-39-40/2024-11-22_09-39-40_camBL.h5\n",
      "/home/yiting/Documents/Analysis/2024-11-22/anipose/pose_2d_filter/2024-11-22_09-39-40/2024-11-22_09-39-40_camBR.h5\n",
      "/home/yiting/Documents/Analysis/2024-11-22/anipose/pose_2d_filter/2024-11-22_09-39-40/2024-11-22_09-39-40_camTL.h5\n",
      "/home/yiting/Documents/Analysis/2024-11-22/anipose/pose_2d_filter/2024-11-22_09-39-40/2024-11-22_09-39-40_camTR.h5\n",
      "/home/yiting/Documents/Analysis/2024-11-22/anipose/pose_2d_filter/2024-11-22_09-39-40/2024-11-22_09-39-40_camTo.h5\n",
      "/home/yiting/Documents/Analysis/2024-11-22/anipose/pose_2d_filter/2024-11-22_09-39-51/2024-11-22_09-39-51_camBL.h5\n",
      "/home/yiting/Documents/Analysis/2024-11-22/anipose/pose_2d_filter/2024-11-22_09-39-51/2024-11-22_09-39-51_camBR.h5\n",
      "/home/yiting/Documents/Analysis/2024-11-22/anipose/pose_2d_filter/2024-11-22_09-39-51/2024-11-22_09-39-51_camTL.h5\n",
      "/home/yiting/Documents/Analysis/2024-11-22/anipose/pose_2d_filter/2024-11-22_09-39-51/2024-11-22_09-39-51_camTR.h5\n",
      "/home/yiting/Documents/Analysis/2024-11-22/anipose/pose_2d_filter/2024-11-22_09-39-51/2024-11-22_09-39-51_camTo.h5\n",
      "/home/yiting/Documents/Analysis/2024-11-22/anipose/pose_2d_filter/2024-11-22_09-40-04/2024-11-22_09-40-04_camBL.h5\n",
      "/home/yiting/Documents/Analysis/2024-11-22/anipose/pose_2d_filter/2024-11-22_09-40-04/2024-11-22_09-40-04_camBR.h5\n",
      "/home/yiting/Documents/Analysis/2024-11-22/anipose/pose_2d_filter/2024-11-22_09-40-04/2024-11-22_09-40-04_camTL.h5\n",
      "/home/yiting/Documents/Analysis/2024-11-22/anipose/pose_2d_filter/2024-11-22_09-40-04/2024-11-22_09-40-04_camTR.h5\n",
      "/home/yiting/Documents/Analysis/2024-11-22/anipose/pose_2d_filter/2024-11-22_09-40-04/2024-11-22_09-40-04_camTo.h5\n",
      "/home/yiting/Documents/Analysis/2024-11-22/anipose/pose_2d_filter/2024-11-22_09-40-16/2024-11-22_09-40-16_camBL.h5\n",
      "/home/yiting/Documents/Analysis/2024-11-22/anipose/pose_2d_filter/2024-11-22_09-40-16/2024-11-22_09-40-16_camBR.h5\n",
      "/home/yiting/Documents/Analysis/2024-11-22/anipose/pose_2d_filter/2024-11-22_09-40-16/2024-11-22_09-40-16_camTL.h5\n",
      "/home/yiting/Documents/Analysis/2024-11-22/anipose/pose_2d_filter/2024-11-22_09-40-16/2024-11-22_09-40-16_camTR.h5\n",
      "/home/yiting/Documents/Analysis/2024-11-22/anipose/pose_2d_filter/2024-11-22_09-40-16/2024-11-22_09-40-16_camTo.h5\n",
      "/home/yiting/Documents/Analysis/2024-11-22/anipose/pose_2d_filter/2024-11-22_09-40-31/2024-11-22_09-40-31_camBL.h5\n",
      "/home/yiting/Documents/Analysis/2024-11-22/anipose/pose_2d_filter/2024-11-22_09-40-31/2024-11-22_09-40-31_camBR.h5\n",
      "/home/yiting/Documents/Analysis/2024-11-22/anipose/pose_2d_filter/2024-11-22_09-40-31/2024-11-22_09-40-31_camTL.h5\n",
      "/home/yiting/Documents/Analysis/2024-11-22/anipose/pose_2d_filter/2024-11-22_09-40-31/2024-11-22_09-40-31_camTR.h5\n",
      "/home/yiting/Documents/Analysis/2024-11-22/anipose/pose_2d_filter/2024-11-22_09-40-31/2024-11-22_09-40-31_camTo.h5\n",
      "/home/yiting/Documents/Analysis/2024-11-22/anipose/pose_2d_filter/2024-11-22_09-40-45/2024-11-22_09-40-45_camBL.h5\n",
      "/home/yiting/Documents/Analysis/2024-11-22/anipose/pose_2d_filter/2024-11-22_09-40-45/2024-11-22_09-40-45_camBR.h5\n",
      "/home/yiting/Documents/Analysis/2024-11-22/anipose/pose_2d_filter/2024-11-22_09-40-45/2024-11-22_09-40-45_camTL.h5\n",
      "/home/yiting/Documents/Analysis/2024-11-22/anipose/pose_2d_filter/2024-11-22_09-40-45/2024-11-22_09-40-45_camTR.h5\n",
      "/home/yiting/Documents/Analysis/2024-11-22/anipose/pose_2d_filter/2024-11-22_09-40-45/2024-11-22_09-40-45_camTo.h5\n",
      "/home/yiting/Documents/Analysis/2024-11-22/anipose/pose_2d_filter/2024-11-22_09-40-59/2024-11-22_09-40-59_camBL.h5\n",
      "/home/yiting/Documents/Analysis/2024-11-22/anipose/pose_2d_filter/2024-11-22_09-40-59/2024-11-22_09-40-59_camBR.h5\n",
      "/home/yiting/Documents/Analysis/2024-11-22/anipose/pose_2d_filter/2024-11-22_09-40-59/2024-11-22_09-40-59_camTL.h5\n",
      "/home/yiting/Documents/Analysis/2024-11-22/anipose/pose_2d_filter/2024-11-22_09-40-59/2024-11-22_09-40-59_camTR.h5\n",
      "/home/yiting/Documents/Analysis/2024-11-22/anipose/pose_2d_filter/2024-11-22_09-40-59/2024-11-22_09-40-59_camTo.h5\n",
      "/home/yiting/Documents/Analysis/2024-11-22/anipose/pose_2d_filter/2024-11-22_09-41-13/2024-11-22_09-41-13_camBL.h5\n",
      "/home/yiting/Documents/Analysis/2024-11-22/anipose/pose_2d_filter/2024-11-22_09-41-13/2024-11-22_09-41-13_camBR.h5\n",
      "/home/yiting/Documents/Analysis/2024-11-22/anipose/pose_2d_filter/2024-11-22_09-41-13/2024-11-22_09-41-13_camTL.h5\n",
      "/home/yiting/Documents/Analysis/2024-11-22/anipose/pose_2d_filter/2024-11-22_09-41-13/2024-11-22_09-41-13_camTR.h5\n",
      "/home/yiting/Documents/Analysis/2024-11-22/anipose/pose_2d_filter/2024-11-22_09-41-13/2024-11-22_09-41-13_camTo.h5\n",
      "/home/yiting/Documents/Analysis/2024-11-22/anipose/pose_2d_filter/2024-11-22_09-41-26/2024-11-22_09-41-26_camBL.h5\n",
      "/home/yiting/Documents/Analysis/2024-11-22/anipose/pose_2d_filter/2024-11-22_09-41-26/2024-11-22_09-41-26_camBR.h5\n",
      "/home/yiting/Documents/Analysis/2024-11-22/anipose/pose_2d_filter/2024-11-22_09-41-26/2024-11-22_09-41-26_camTL.h5\n",
      "/home/yiting/Documents/Analysis/2024-11-22/anipose/pose_2d_filter/2024-11-22_09-41-26/2024-11-22_09-41-26_camTR.h5\n",
      "/home/yiting/Documents/Analysis/2024-11-22/anipose/pose_2d_filter/2024-11-22_09-41-26/2024-11-22_09-41-26_camTo.h5\n",
      "/home/yiting/Documents/Analysis/2024-11-22/anipose/pose_2d_filter/2024-11-22_09-41-39/2024-11-22_09-41-39_camBL.h5\n",
      "/home/yiting/Documents/Analysis/2024-11-22/anipose/pose_2d_filter/2024-11-22_09-41-39/2024-11-22_09-41-39_camBR.h5\n",
      "/home/yiting/Documents/Analysis/2024-11-22/anipose/pose_2d_filter/2024-11-22_09-41-39/2024-11-22_09-41-39_camTL.h5\n",
      "/home/yiting/Documents/Analysis/2024-11-22/anipose/pose_2d_filter/2024-11-22_09-41-39/2024-11-22_09-41-39_camTR.h5\n",
      "/home/yiting/Documents/Analysis/2024-11-22/anipose/pose_2d_filter/2024-11-22_09-41-39/2024-11-22_09-41-39_camTo.h5\n",
      "/home/yiting/Documents/Analysis/2024-11-22/anipose/pose_2d_filter/2024-11-22_09-41-51/2024-11-22_09-41-51_camBL.h5\n",
      "/home/yiting/Documents/Analysis/2024-11-22/anipose/pose_2d_filter/2024-11-22_09-41-51/2024-11-22_09-41-51_camBR.h5\n",
      "/home/yiting/Documents/Analysis/2024-11-22/anipose/pose_2d_filter/2024-11-22_09-41-51/2024-11-22_09-41-51_camTL.h5\n",
      "/home/yiting/Documents/Analysis/2024-11-22/anipose/pose_2d_filter/2024-11-22_09-41-51/2024-11-22_09-41-51_camTR.h5\n",
      "/home/yiting/Documents/Analysis/2024-11-22/anipose/pose_2d_filter/2024-11-22_09-41-51/2024-11-22_09-41-51_camTo.h5\n",
      "/home/yiting/Documents/Analysis/2024-11-22/anipose/pose_2d_filter/2024-11-22_09-42-04/2024-11-22_09-42-04_camBL.h5\n",
      "/home/yiting/Documents/Analysis/2024-11-22/anipose/pose_2d_filter/2024-11-22_09-42-04/2024-11-22_09-42-04_camBR.h5\n",
      "/home/yiting/Documents/Analysis/2024-11-22/anipose/pose_2d_filter/2024-11-22_09-42-04/2024-11-22_09-42-04_camTL.h5\n",
      "/home/yiting/Documents/Analysis/2024-11-22/anipose/pose_2d_filter/2024-11-22_09-42-04/2024-11-22_09-42-04_camTR.h5\n",
      "/home/yiting/Documents/Analysis/2024-11-22/anipose/pose_2d_filter/2024-11-22_09-42-04/2024-11-22_09-42-04_camTo.h5\n",
      "/home/yiting/Documents/Analysis/2024-11-22/anipose/pose_2d_filter/2024-11-22_09-42-18/2024-11-22_09-42-18_camBL.h5\n",
      "/home/yiting/Documents/Analysis/2024-11-22/anipose/pose_2d_filter/2024-11-22_09-42-18/2024-11-22_09-42-18_camBR.h5\n",
      "/home/yiting/Documents/Analysis/2024-11-22/anipose/pose_2d_filter/2024-11-22_09-42-18/2024-11-22_09-42-18_camTL.h5\n",
      "/home/yiting/Documents/Analysis/2024-11-22/anipose/pose_2d_filter/2024-11-22_09-42-18/2024-11-22_09-42-18_camTR.h5\n",
      "/home/yiting/Documents/Analysis/2024-11-22/anipose/pose_2d_filter/2024-11-22_09-42-18/2024-11-22_09-42-18_camTo.h5\n",
      "/home/yiting/Documents/Analysis/2024-11-22/anipose/pose_2d_filter/2024-11-22_09-42-31/2024-11-22_09-42-31_camBL.h5\n",
      "/home/yiting/Documents/Analysis/2024-11-22/anipose/pose_2d_filter/2024-11-22_09-42-31/2024-11-22_09-42-31_camBR.h5\n",
      "/home/yiting/Documents/Analysis/2024-11-22/anipose/pose_2d_filter/2024-11-22_09-42-31/2024-11-22_09-42-31_camTL.h5\n",
      "/home/yiting/Documents/Analysis/2024-11-22/anipose/pose_2d_filter/2024-11-22_09-42-31/2024-11-22_09-42-31_camTR.h5\n",
      "/home/yiting/Documents/Analysis/2024-11-22/anipose/pose_2d_filter/2024-11-22_09-42-31/2024-11-22_09-42-31_camTo.h5\n",
      "/home/yiting/Documents/Analysis/2024-11-22/anipose/pose_2d_filter/2024-11-22_09-42-43/2024-11-22_09-42-43_camBL.h5\n",
      "/home/yiting/Documents/Analysis/2024-11-22/anipose/pose_2d_filter/2024-11-22_09-42-43/2024-11-22_09-42-43_camBR.h5\n",
      "/home/yiting/Documents/Analysis/2024-11-22/anipose/pose_2d_filter/2024-11-22_09-42-43/2024-11-22_09-42-43_camTL.h5\n",
      "/home/yiting/Documents/Analysis/2024-11-22/anipose/pose_2d_filter/2024-11-22_09-42-43/2024-11-22_09-42-43_camTR.h5\n",
      "/home/yiting/Documents/Analysis/2024-11-22/anipose/pose_2d_filter/2024-11-22_09-42-43/2024-11-22_09-42-43_camTo.h5\n",
      "/home/yiting/Documents/Analysis/2024-11-22/anipose/pose_2d_filter/2024-11-22_09-42-56/2024-11-22_09-42-56_camBL.h5\n",
      "/home/yiting/Documents/Analysis/2024-11-22/anipose/pose_2d_filter/2024-11-22_09-42-56/2024-11-22_09-42-56_camBR.h5\n",
      "/home/yiting/Documents/Analysis/2024-11-22/anipose/pose_2d_filter/2024-11-22_09-42-56/2024-11-22_09-42-56_camTL.h5\n",
      "/home/yiting/Documents/Analysis/2024-11-22/anipose/pose_2d_filter/2024-11-22_09-42-56/2024-11-22_09-42-56_camTR.h5\n",
      "/home/yiting/Documents/Analysis/2024-11-22/anipose/pose_2d_filter/2024-11-22_09-42-56/2024-11-22_09-42-56_camTo.h5\n",
      "/home/yiting/Documents/Analysis/2024-11-22/anipose/pose_2d_filter/2024-11-22_09-43-08/2024-11-22_09-43-08_camBL.h5\n",
      "/home/yiting/Documents/Analysis/2024-11-22/anipose/pose_2d_filter/2024-11-22_09-43-08/2024-11-22_09-43-08_camBR.h5\n",
      "/home/yiting/Documents/Analysis/2024-11-22/anipose/pose_2d_filter/2024-11-22_09-43-08/2024-11-22_09-43-08_camTL.h5\n",
      "/home/yiting/Documents/Analysis/2024-11-22/anipose/pose_2d_filter/2024-11-22_09-43-08/2024-11-22_09-43-08_camTR.h5\n",
      "/home/yiting/Documents/Analysis/2024-11-22/anipose/pose_2d_filter/2024-11-22_09-43-08/2024-11-22_09-43-08_camTo.h5\n",
      "/home/yiting/Documents/Analysis/2024-11-22/anipose/pose_2d_filter/2024-11-22_09-43-20/2024-11-22_09-43-20_camBL.h5\n",
      "/home/yiting/Documents/Analysis/2024-11-22/anipose/pose_2d_filter/2024-11-22_09-43-20/2024-11-22_09-43-20_camBR.h5\n",
      "/home/yiting/Documents/Analysis/2024-11-22/anipose/pose_2d_filter/2024-11-22_09-43-20/2024-11-22_09-43-20_camTL.h5\n",
      "/home/yiting/Documents/Analysis/2024-11-22/anipose/pose_2d_filter/2024-11-22_09-43-20/2024-11-22_09-43-20_camTR.h5\n",
      "/home/yiting/Documents/Analysis/2024-11-22/anipose/pose_2d_filter/2024-11-22_09-43-20/2024-11-22_09-43-20_camTo.h5\n",
      "/home/yiting/Documents/Analysis/2024-11-22/anipose/pose_2d_filter/2024-11-22_09-43-33/2024-11-22_09-43-33_camBL.h5\n",
      "/home/yiting/Documents/Analysis/2024-11-22/anipose/pose_2d_filter/2024-11-22_09-43-33/2024-11-22_09-43-33_camBR.h5\n",
      "/home/yiting/Documents/Analysis/2024-11-22/anipose/pose_2d_filter/2024-11-22_09-43-33/2024-11-22_09-43-33_camTL.h5\n",
      "/home/yiting/Documents/Analysis/2024-11-22/anipose/pose_2d_filter/2024-11-22_09-43-33/2024-11-22_09-43-33_camTR.h5\n",
      "/home/yiting/Documents/Analysis/2024-11-22/anipose/pose_2d_filter/2024-11-22_09-43-33/2024-11-22_09-43-33_camTo.h5\n",
      "/home/yiting/Documents/Analysis/2024-11-22/anipose/pose_2d_filter/2024-11-22_09-43-47/2024-11-22_09-43-47_camBL.h5\n",
      "/home/yiting/Documents/Analysis/2024-11-22/anipose/pose_2d_filter/2024-11-22_09-43-47/2024-11-22_09-43-47_camBR.h5\n",
      "/home/yiting/Documents/Analysis/2024-11-22/anipose/pose_2d_filter/2024-11-22_09-43-47/2024-11-22_09-43-47_camTL.h5\n",
      "/home/yiting/Documents/Analysis/2024-11-22/anipose/pose_2d_filter/2024-11-22_09-43-47/2024-11-22_09-43-47_camTR.h5\n",
      "/home/yiting/Documents/Analysis/2024-11-22/anipose/pose_2d_filter/2024-11-22_09-43-47/2024-11-22_09-43-47_camTo.h5\n",
      "/home/yiting/Documents/Analysis/2024-11-22/anipose/pose_2d_filter/2024-11-22_09-44-00/2024-11-22_09-44-00_camBL.h5\n",
      "/home/yiting/Documents/Analysis/2024-11-22/anipose/pose_2d_filter/2024-11-22_09-44-00/2024-11-22_09-44-00_camBR.h5\n",
      "/home/yiting/Documents/Analysis/2024-11-22/anipose/pose_2d_filter/2024-11-22_09-44-00/2024-11-22_09-44-00_camTL.h5\n",
      "/home/yiting/Documents/Analysis/2024-11-22/anipose/pose_2d_filter/2024-11-22_09-44-00/2024-11-22_09-44-00_camTR.h5\n",
      "/home/yiting/Documents/Analysis/2024-11-22/anipose/pose_2d_filter/2024-11-22_09-44-00/2024-11-22_09-44-00_camTo.h5\n",
      "/home/yiting/Documents/Analysis/2024-11-22/anipose/pose_2d_filter/2024-11-22_09-44-13/2024-11-22_09-44-13_camBL.h5\n",
      "/home/yiting/Documents/Analysis/2024-11-22/anipose/pose_2d_filter/2024-11-22_09-44-13/2024-11-22_09-44-13_camBR.h5\n",
      "/home/yiting/Documents/Analysis/2024-11-22/anipose/pose_2d_filter/2024-11-22_09-44-13/2024-11-22_09-44-13_camTL.h5\n",
      "/home/yiting/Documents/Analysis/2024-11-22/anipose/pose_2d_filter/2024-11-22_09-44-13/2024-11-22_09-44-13_camTR.h5\n",
      "/home/yiting/Documents/Analysis/2024-11-22/anipose/pose_2d_filter/2024-11-22_09-44-13/2024-11-22_09-44-13_camTo.h5\n",
      "/home/yiting/Documents/Analysis/2024-11-22/anipose/pose_2d_filter/2024-11-22_09-44-29/2024-11-22_09-44-29_camBL.h5\n",
      "/home/yiting/Documents/Analysis/2024-11-22/anipose/pose_2d_filter/2024-11-22_09-44-29/2024-11-22_09-44-29_camBR.h5\n",
      "/home/yiting/Documents/Analysis/2024-11-22/anipose/pose_2d_filter/2024-11-22_09-44-29/2024-11-22_09-44-29_camTL.h5\n",
      "/home/yiting/Documents/Analysis/2024-11-22/anipose/pose_2d_filter/2024-11-22_09-44-29/2024-11-22_09-44-29_camTR.h5\n",
      "/home/yiting/Documents/Analysis/2024-11-22/anipose/pose_2d_filter/2024-11-22_09-44-29/2024-11-22_09-44-29_camTo.h5\n",
      "/home/yiting/Documents/Analysis/2024-11-22/anipose/pose_2d_filter/2024-11-22_09-44-43/2024-11-22_09-44-43_camBL.h5\n",
      "/home/yiting/Documents/Analysis/2024-11-22/anipose/pose_2d_filter/2024-11-22_09-44-43/2024-11-22_09-44-43_camBR.h5\n",
      "/home/yiting/Documents/Analysis/2024-11-22/anipose/pose_2d_filter/2024-11-22_09-44-43/2024-11-22_09-44-43_camTL.h5\n",
      "/home/yiting/Documents/Analysis/2024-11-22/anipose/pose_2d_filter/2024-11-22_09-44-43/2024-11-22_09-44-43_camTR.h5\n",
      "/home/yiting/Documents/Analysis/2024-11-22/anipose/pose_2d_filter/2024-11-22_09-44-43/2024-11-22_09-44-43_camTo.h5\n",
      "/home/yiting/Documents/Analysis/2024-11-22/anipose/pose_2d_filter/2024-11-22_09-44-57/2024-11-22_09-44-57_camBL.h5\n",
      "/home/yiting/Documents/Analysis/2024-11-22/anipose/pose_2d_filter/2024-11-22_09-44-57/2024-11-22_09-44-57_camBR.h5\n",
      "/home/yiting/Documents/Analysis/2024-11-22/anipose/pose_2d_filter/2024-11-22_09-44-57/2024-11-22_09-44-57_camTL.h5\n",
      "/home/yiting/Documents/Analysis/2024-11-22/anipose/pose_2d_filter/2024-11-22_09-44-57/2024-11-22_09-44-57_camTR.h5\n",
      "/home/yiting/Documents/Analysis/2024-11-22/anipose/pose_2d_filter/2024-11-22_09-44-57/2024-11-22_09-44-57_camTo.h5\n",
      "/home/yiting/Documents/Analysis/2024-11-22/anipose/pose_2d_filter/2024-11-22_09-45-09/2024-11-22_09-45-09_camBL.h5\n",
      "/home/yiting/Documents/Analysis/2024-11-22/anipose/pose_2d_filter/2024-11-22_09-45-09/2024-11-22_09-45-09_camBR.h5\n",
      "/home/yiting/Documents/Analysis/2024-11-22/anipose/pose_2d_filter/2024-11-22_09-45-09/2024-11-22_09-45-09_camTL.h5\n",
      "/home/yiting/Documents/Analysis/2024-11-22/anipose/pose_2d_filter/2024-11-22_09-45-09/2024-11-22_09-45-09_camTR.h5\n",
      "/home/yiting/Documents/Analysis/2024-11-22/anipose/pose_2d_filter/2024-11-22_09-45-09/2024-11-22_09-45-09_camTo.h5\n",
      "/home/yiting/Documents/Analysis/2024-11-22/anipose/pose_2d_filter/2024-11-22_09-45-23/2024-11-22_09-45-23_camBL.h5\n",
      "/home/yiting/Documents/Analysis/2024-11-22/anipose/pose_2d_filter/2024-11-22_09-45-23/2024-11-22_09-45-23_camBR.h5\n",
      "/home/yiting/Documents/Analysis/2024-11-22/anipose/pose_2d_filter/2024-11-22_09-45-23/2024-11-22_09-45-23_camTL.h5\n",
      "/home/yiting/Documents/Analysis/2024-11-22/anipose/pose_2d_filter/2024-11-22_09-45-23/2024-11-22_09-45-23_camTR.h5\n",
      "/home/yiting/Documents/Analysis/2024-11-22/anipose/pose_2d_filter/2024-11-22_09-45-23/2024-11-22_09-45-23_camTo.h5\n",
      "/home/yiting/Documents/Analysis/2024-11-22/anipose/pose_2d_filter/2024-11-22_09-45-35/2024-11-22_09-45-35_camBL.h5\n",
      "/home/yiting/Documents/Analysis/2024-11-22/anipose/pose_2d_filter/2024-11-22_09-45-35/2024-11-22_09-45-35_camBR.h5\n",
      "/home/yiting/Documents/Analysis/2024-11-22/anipose/pose_2d_filter/2024-11-22_09-45-35/2024-11-22_09-45-35_camTL.h5\n",
      "/home/yiting/Documents/Analysis/2024-11-22/anipose/pose_2d_filter/2024-11-22_09-45-35/2024-11-22_09-45-35_camTR.h5\n",
      "/home/yiting/Documents/Analysis/2024-11-22/anipose/pose_2d_filter/2024-11-22_09-45-35/2024-11-22_09-45-35_camTo.h5\n",
      "/home/yiting/Documents/Analysis/2024-11-22/anipose/pose_2d_filter/2024-11-22_09-45-49/2024-11-22_09-45-49_camBL.h5\n",
      "/home/yiting/Documents/Analysis/2024-11-22/anipose/pose_2d_filter/2024-11-22_09-45-49/2024-11-22_09-45-49_camBR.h5\n",
      "/home/yiting/Documents/Analysis/2024-11-22/anipose/pose_2d_filter/2024-11-22_09-45-49/2024-11-22_09-45-49_camTL.h5\n",
      "/home/yiting/Documents/Analysis/2024-11-22/anipose/pose_2d_filter/2024-11-22_09-45-49/2024-11-22_09-45-49_camTR.h5\n",
      "/home/yiting/Documents/Analysis/2024-11-22/anipose/pose_2d_filter/2024-11-22_09-45-49/2024-11-22_09-45-49_camTo.h5\n",
      "/home/yiting/Documents/Analysis/2024-11-22/anipose/pose_2d_filter/2024-11-22_09-46-04/2024-11-22_09-46-04_camBL.h5\n",
      "/home/yiting/Documents/Analysis/2024-11-22/anipose/pose_2d_filter/2024-11-22_09-46-04/2024-11-22_09-46-04_camBR.h5\n",
      "/home/yiting/Documents/Analysis/2024-11-22/anipose/pose_2d_filter/2024-11-22_09-46-04/2024-11-22_09-46-04_camTL.h5\n",
      "/home/yiting/Documents/Analysis/2024-11-22/anipose/pose_2d_filter/2024-11-22_09-46-04/2024-11-22_09-46-04_camTR.h5\n",
      "/home/yiting/Documents/Analysis/2024-11-22/anipose/pose_2d_filter/2024-11-22_09-46-04/2024-11-22_09-46-04_camTo.h5\n",
      "/home/yiting/Documents/Analysis/2024-11-22/anipose/pose_2d_filter/2024-11-22_09-46-15/2024-11-22_09-46-15_camBL.h5\n",
      "/home/yiting/Documents/Analysis/2024-11-22/anipose/pose_2d_filter/2024-11-22_09-46-15/2024-11-22_09-46-15_camBR.h5\n",
      "/home/yiting/Documents/Analysis/2024-11-22/anipose/pose_2d_filter/2024-11-22_09-46-15/2024-11-22_09-46-15_camTL.h5\n",
      "/home/yiting/Documents/Analysis/2024-11-22/anipose/pose_2d_filter/2024-11-22_09-46-15/2024-11-22_09-46-15_camTR.h5\n",
      "/home/yiting/Documents/Analysis/2024-11-22/anipose/pose_2d_filter/2024-11-22_09-46-15/2024-11-22_09-46-15_camTo.h5\n",
      "/home/yiting/Documents/Analysis/2024-11-22/anipose/pose_2d_filter/2024-11-22_09-46-29/2024-11-22_09-46-29_camBL.h5\n",
      "/home/yiting/Documents/Analysis/2024-11-22/anipose/pose_2d_filter/2024-11-22_09-46-29/2024-11-22_09-46-29_camBR.h5\n",
      "/home/yiting/Documents/Analysis/2024-11-22/anipose/pose_2d_filter/2024-11-22_09-46-29/2024-11-22_09-46-29_camTL.h5\n",
      "/home/yiting/Documents/Analysis/2024-11-22/anipose/pose_2d_filter/2024-11-22_09-46-29/2024-11-22_09-46-29_camTR.h5\n",
      "/home/yiting/Documents/Analysis/2024-11-22/anipose/pose_2d_filter/2024-11-22_09-46-29/2024-11-22_09-46-29_camTo.h5\n",
      "/home/yiting/Documents/Analysis/2024-11-22/anipose/pose_2d_filter/2024-11-22_09-46-41/2024-11-22_09-46-41_camBL.h5\n",
      "/home/yiting/Documents/Analysis/2024-11-22/anipose/pose_2d_filter/2024-11-22_09-46-41/2024-11-22_09-46-41_camBR.h5\n",
      "/home/yiting/Documents/Analysis/2024-11-22/anipose/pose_2d_filter/2024-11-22_09-46-41/2024-11-22_09-46-41_camTL.h5\n",
      "/home/yiting/Documents/Analysis/2024-11-22/anipose/pose_2d_filter/2024-11-22_09-46-41/2024-11-22_09-46-41_camTR.h5\n",
      "/home/yiting/Documents/Analysis/2024-11-22/anipose/pose_2d_filter/2024-11-22_09-46-41/2024-11-22_09-46-41_camTo.h5\n",
      "/home/yiting/Documents/Analysis/2024-11-22/anipose/pose_2d_filter/2024-11-22_09-46-55/2024-11-22_09-46-55_camBL.h5\n",
      "/home/yiting/Documents/Analysis/2024-11-22/anipose/pose_2d_filter/2024-11-22_09-46-55/2024-11-22_09-46-55_camBR.h5\n",
      "/home/yiting/Documents/Analysis/2024-11-22/anipose/pose_2d_filter/2024-11-22_09-46-55/2024-11-22_09-46-55_camTL.h5\n",
      "/home/yiting/Documents/Analysis/2024-11-22/anipose/pose_2d_filter/2024-11-22_09-46-55/2024-11-22_09-46-55_camTR.h5\n",
      "/home/yiting/Documents/Analysis/2024-11-22/anipose/pose_2d_filter/2024-11-22_09-46-55/2024-11-22_09-46-55_camTo.h5\n",
      "/home/yiting/Documents/Analysis/2024-11-22/anipose/pose_2d_filter/2024-11-22_09-47-06/2024-11-22_09-47-06_camBL.h5\n",
      "/home/yiting/Documents/Analysis/2024-11-22/anipose/pose_2d_filter/2024-11-22_09-47-06/2024-11-22_09-47-06_camBR.h5\n",
      "/home/yiting/Documents/Analysis/2024-11-22/anipose/pose_2d_filter/2024-11-22_09-47-06/2024-11-22_09-47-06_camTL.h5\n",
      "/home/yiting/Documents/Analysis/2024-11-22/anipose/pose_2d_filter/2024-11-22_09-47-06/2024-11-22_09-47-06_camTR.h5\n",
      "/home/yiting/Documents/Analysis/2024-11-22/anipose/pose_2d_filter/2024-11-22_09-47-06/2024-11-22_09-47-06_camTo.h5\n",
      "/home/yiting/Documents/Analysis/2024-11-22/anipose/pose_2d_filter/2024-11-22_09-47-21/2024-11-22_09-47-21_camBL.h5\n",
      "/home/yiting/Documents/Analysis/2024-11-22/anipose/pose_2d_filter/2024-11-22_09-47-21/2024-11-22_09-47-21_camBR.h5\n",
      "/home/yiting/Documents/Analysis/2024-11-22/anipose/pose_2d_filter/2024-11-22_09-47-21/2024-11-22_09-47-21_camTL.h5\n",
      "/home/yiting/Documents/Analysis/2024-11-22/anipose/pose_2d_filter/2024-11-22_09-47-21/2024-11-22_09-47-21_camTR.h5\n",
      "/home/yiting/Documents/Analysis/2024-11-22/anipose/pose_2d_filter/2024-11-22_09-47-21/2024-11-22_09-47-21_camTo.h5\n",
      "/home/yiting/Documents/Analysis/2024-11-22/anipose/pose_2d_filter/2024-11-22_09-47-35/2024-11-22_09-47-35_camBL.h5\n",
      "/home/yiting/Documents/Analysis/2024-11-22/anipose/pose_2d_filter/2024-11-22_09-47-35/2024-11-22_09-47-35_camBR.h5\n",
      "/home/yiting/Documents/Analysis/2024-11-22/anipose/pose_2d_filter/2024-11-22_09-47-35/2024-11-22_09-47-35_camTL.h5\n",
      "/home/yiting/Documents/Analysis/2024-11-22/anipose/pose_2d_filter/2024-11-22_09-47-35/2024-11-22_09-47-35_camTR.h5\n",
      "/home/yiting/Documents/Analysis/2024-11-22/anipose/pose_2d_filter/2024-11-22_09-47-35/2024-11-22_09-47-35_camTo.h5\n",
      "/home/yiting/Documents/Analysis/2024-11-22/anipose/pose_2d_filter/2024-11-22_09-47-47/2024-11-22_09-47-47_camBL.h5\n",
      "/home/yiting/Documents/Analysis/2024-11-22/anipose/pose_2d_filter/2024-11-22_09-47-47/2024-11-22_09-47-47_camBR.h5\n",
      "/home/yiting/Documents/Analysis/2024-11-22/anipose/pose_2d_filter/2024-11-22_09-47-47/2024-11-22_09-47-47_camTL.h5\n",
      "/home/yiting/Documents/Analysis/2024-11-22/anipose/pose_2d_filter/2024-11-22_09-47-47/2024-11-22_09-47-47_camTR.h5\n",
      "/home/yiting/Documents/Analysis/2024-11-22/anipose/pose_2d_filter/2024-11-22_09-47-47/2024-11-22_09-47-47_camTo.h5\n",
      "/home/yiting/Documents/Analysis/2024-11-22/anipose/pose_2d_filter/2024-11-22_09-47-59/2024-11-22_09-47-59_camBL.h5\n",
      "/home/yiting/Documents/Analysis/2024-11-22/anipose/pose_2d_filter/2024-11-22_09-47-59/2024-11-22_09-47-59_camBR.h5\n",
      "/home/yiting/Documents/Analysis/2024-11-22/anipose/pose_2d_filter/2024-11-22_09-47-59/2024-11-22_09-47-59_camTL.h5\n",
      "/home/yiting/Documents/Analysis/2024-11-22/anipose/pose_2d_filter/2024-11-22_09-47-59/2024-11-22_09-47-59_camTR.h5\n",
      "/home/yiting/Documents/Analysis/2024-11-22/anipose/pose_2d_filter/2024-11-22_09-47-59/2024-11-22_09-47-59_camTo.h5\n",
      "/home/yiting/Documents/Analysis/2024-11-22/anipose/pose_2d_filter/2024-11-22_09-48-13/2024-11-22_09-48-13_camBL.h5\n",
      "/home/yiting/Documents/Analysis/2024-11-22/anipose/pose_2d_filter/2024-11-22_09-48-13/2024-11-22_09-48-13_camBR.h5\n",
      "/home/yiting/Documents/Analysis/2024-11-22/anipose/pose_2d_filter/2024-11-22_09-48-13/2024-11-22_09-48-13_camTL.h5\n",
      "/home/yiting/Documents/Analysis/2024-11-22/anipose/pose_2d_filter/2024-11-22_09-48-13/2024-11-22_09-48-13_camTR.h5\n",
      "/home/yiting/Documents/Analysis/2024-11-22/anipose/pose_2d_filter/2024-11-22_09-48-13/2024-11-22_09-48-13_camTo.h5\n",
      "/home/yiting/Documents/Analysis/2024-11-22/anipose/pose_2d_filter/2024-11-22_09-48-25/2024-11-22_09-48-25_camBL.h5\n",
      "/home/yiting/Documents/Analysis/2024-11-22/anipose/pose_2d_filter/2024-11-22_09-48-25/2024-11-22_09-48-25_camBR.h5\n",
      "/home/yiting/Documents/Analysis/2024-11-22/anipose/pose_2d_filter/2024-11-22_09-48-25/2024-11-22_09-48-25_camTL.h5\n",
      "/home/yiting/Documents/Analysis/2024-11-22/anipose/pose_2d_filter/2024-11-22_09-48-25/2024-11-22_09-48-25_camTR.h5\n",
      "/home/yiting/Documents/Analysis/2024-11-22/anipose/pose_2d_filter/2024-11-22_09-48-25/2024-11-22_09-48-25_camTo.h5\n",
      "/home/yiting/Documents/Analysis/2024-11-22/anipose/pose_2d_filter/2024-11-22_09-48-36/2024-11-22_09-48-36_camBL.h5\n",
      "/home/yiting/Documents/Analysis/2024-11-22/anipose/pose_2d_filter/2024-11-22_09-48-36/2024-11-22_09-48-36_camBR.h5\n",
      "/home/yiting/Documents/Analysis/2024-11-22/anipose/pose_2d_filter/2024-11-22_09-48-36/2024-11-22_09-48-36_camTL.h5\n",
      "/home/yiting/Documents/Analysis/2024-11-22/anipose/pose_2d_filter/2024-11-22_09-48-36/2024-11-22_09-48-36_camTR.h5\n",
      "/home/yiting/Documents/Analysis/2024-11-22/anipose/pose_2d_filter/2024-11-22_09-48-36/2024-11-22_09-48-36_camTo.h5\n",
      "/home/yiting/Documents/Analysis/2024-11-22/anipose/pose_2d_filter/2024-11-22_09-48-47/2024-11-22_09-48-47_camBL.h5\n",
      "/home/yiting/Documents/Analysis/2024-11-22/anipose/pose_2d_filter/2024-11-22_09-48-47/2024-11-22_09-48-47_camBR.h5\n",
      "/home/yiting/Documents/Analysis/2024-11-22/anipose/pose_2d_filter/2024-11-22_09-48-47/2024-11-22_09-48-47_camTL.h5\n",
      "/home/yiting/Documents/Analysis/2024-11-22/anipose/pose_2d_filter/2024-11-22_09-48-47/2024-11-22_09-48-47_camTR.h5\n",
      "/home/yiting/Documents/Analysis/2024-11-22/anipose/pose_2d_filter/2024-11-22_09-48-47/2024-11-22_09-48-47_camTo.h5\n",
      "/home/yiting/Documents/Analysis/2024-11-22/anipose/pose_2d_filter/2024-11-22_09-48-59/2024-11-22_09-48-59_camBL.h5\n",
      "/home/yiting/Documents/Analysis/2024-11-22/anipose/pose_2d_filter/2024-11-22_09-48-59/2024-11-22_09-48-59_camBR.h5\n",
      "/home/yiting/Documents/Analysis/2024-11-22/anipose/pose_2d_filter/2024-11-22_09-48-59/2024-11-22_09-48-59_camTL.h5\n",
      "/home/yiting/Documents/Analysis/2024-11-22/anipose/pose_2d_filter/2024-11-22_09-48-59/2024-11-22_09-48-59_camTR.h5\n",
      "/home/yiting/Documents/Analysis/2024-11-22/anipose/pose_2d_filter/2024-11-22_09-48-59/2024-11-22_09-48-59_camTo.h5\n",
      "/home/yiting/Documents/Analysis/2024-11-22/anipose/pose_2d_filter/2024-11-22_09-49-14/2024-11-22_09-49-14_camBL.h5\n",
      "/home/yiting/Documents/Analysis/2024-11-22/anipose/pose_2d_filter/2024-11-22_09-49-14/2024-11-22_09-49-14_camBR.h5\n",
      "/home/yiting/Documents/Analysis/2024-11-22/anipose/pose_2d_filter/2024-11-22_09-49-14/2024-11-22_09-49-14_camTL.h5\n",
      "/home/yiting/Documents/Analysis/2024-11-22/anipose/pose_2d_filter/2024-11-22_09-49-14/2024-11-22_09-49-14_camTR.h5\n",
      "/home/yiting/Documents/Analysis/2024-11-22/anipose/pose_2d_filter/2024-11-22_09-49-14/2024-11-22_09-49-14_camTo.h5\n",
      "/home/yiting/Documents/Analysis/2024-11-22/anipose/pose_2d_filter/2024-11-22_09-49-29/2024-11-22_09-49-29_camBL.h5\n",
      "/home/yiting/Documents/Analysis/2024-11-22/anipose/pose_2d_filter/2024-11-22_09-49-29/2024-11-22_09-49-29_camBR.h5\n",
      "/home/yiting/Documents/Analysis/2024-11-22/anipose/pose_2d_filter/2024-11-22_09-49-29/2024-11-22_09-49-29_camTL.h5\n",
      "/home/yiting/Documents/Analysis/2024-11-22/anipose/pose_2d_filter/2024-11-22_09-49-29/2024-11-22_09-49-29_camTR.h5\n",
      "/home/yiting/Documents/Analysis/2024-11-22/anipose/pose_2d_filter/2024-11-22_09-49-29/2024-11-22_09-49-29_camTo.h5\n",
      "/home/yiting/Documents/Analysis/2024-11-22/anipose/pose_2d_filter/2024-11-22_09-49-42/2024-11-22_09-49-42_camBL.h5\n",
      "/home/yiting/Documents/Analysis/2024-11-22/anipose/pose_2d_filter/2024-11-22_09-49-42/2024-11-22_09-49-42_camBR.h5\n",
      "/home/yiting/Documents/Analysis/2024-11-22/anipose/pose_2d_filter/2024-11-22_09-49-42/2024-11-22_09-49-42_camTL.h5\n",
      "/home/yiting/Documents/Analysis/2024-11-22/anipose/pose_2d_filter/2024-11-22_09-49-42/2024-11-22_09-49-42_camTR.h5\n",
      "/home/yiting/Documents/Analysis/2024-11-22/anipose/pose_2d_filter/2024-11-22_09-49-42/2024-11-22_09-49-42_camTo.h5\n",
      "/home/yiting/Documents/Analysis/2024-11-22/anipose/pose_2d_filter/2024-11-22_09-49-54/2024-11-22_09-49-54_camBL.h5\n",
      "/home/yiting/Documents/Analysis/2024-11-22/anipose/pose_2d_filter/2024-11-22_09-49-54/2024-11-22_09-49-54_camBR.h5\n",
      "/home/yiting/Documents/Analysis/2024-11-22/anipose/pose_2d_filter/2024-11-22_09-49-54/2024-11-22_09-49-54_camTL.h5\n",
      "/home/yiting/Documents/Analysis/2024-11-22/anipose/pose_2d_filter/2024-11-22_09-49-54/2024-11-22_09-49-54_camTR.h5\n",
      "/home/yiting/Documents/Analysis/2024-11-22/anipose/pose_2d_filter/2024-11-22_09-49-54/2024-11-22_09-49-54_camTo.h5\n",
      "/home/yiting/Documents/Analysis/2024-11-22/anipose/pose_2d_filter/2024-11-22_09-50-06/2024-11-22_09-50-06_camBL.h5\n",
      "/home/yiting/Documents/Analysis/2024-11-22/anipose/pose_2d_filter/2024-11-22_09-50-06/2024-11-22_09-50-06_camBR.h5\n",
      "/home/yiting/Documents/Analysis/2024-11-22/anipose/pose_2d_filter/2024-11-22_09-50-06/2024-11-22_09-50-06_camTL.h5\n",
      "/home/yiting/Documents/Analysis/2024-11-22/anipose/pose_2d_filter/2024-11-22_09-50-06/2024-11-22_09-50-06_camTR.h5\n",
      "/home/yiting/Documents/Analysis/2024-11-22/anipose/pose_2d_filter/2024-11-22_09-50-06/2024-11-22_09-50-06_camTo.h5\n",
      "/home/yiting/Documents/Analysis/2024-11-22/anipose/pose_2d_filter/2024-11-22_09-50-18/2024-11-22_09-50-18_camBL.h5\n",
      "/home/yiting/Documents/Analysis/2024-11-22/anipose/pose_2d_filter/2024-11-22_09-50-18/2024-11-22_09-50-18_camBR.h5\n",
      "/home/yiting/Documents/Analysis/2024-11-22/anipose/pose_2d_filter/2024-11-22_09-50-18/2024-11-22_09-50-18_camTL.h5\n",
      "/home/yiting/Documents/Analysis/2024-11-22/anipose/pose_2d_filter/2024-11-22_09-50-18/2024-11-22_09-50-18_camTR.h5\n",
      "/home/yiting/Documents/Analysis/2024-11-22/anipose/pose_2d_filter/2024-11-22_09-50-18/2024-11-22_09-50-18_camTo.h5\n",
      "/home/yiting/Documents/Analysis/2024-11-22/anipose/pose_2d_filter/2024-11-22_09-50-33/2024-11-22_09-50-33_camBL.h5\n",
      "/home/yiting/Documents/Analysis/2024-11-22/anipose/pose_2d_filter/2024-11-22_09-50-33/2024-11-22_09-50-33_camBR.h5\n",
      "/home/yiting/Documents/Analysis/2024-11-22/anipose/pose_2d_filter/2024-11-22_09-50-33/2024-11-22_09-50-33_camTL.h5\n",
      "/home/yiting/Documents/Analysis/2024-11-22/anipose/pose_2d_filter/2024-11-22_09-50-33/2024-11-22_09-50-33_camTR.h5\n",
      "/home/yiting/Documents/Analysis/2024-11-22/anipose/pose_2d_filter/2024-11-22_09-50-33/2024-11-22_09-50-33_camTo.h5\n",
      "/home/yiting/Documents/Analysis/2024-11-22/anipose/pose_2d_filter/2024-11-22_09-50-45/2024-11-22_09-50-45_camBL.h5\n",
      "/home/yiting/Documents/Analysis/2024-11-22/anipose/pose_2d_filter/2024-11-22_09-50-45/2024-11-22_09-50-45_camBR.h5\n",
      "/home/yiting/Documents/Analysis/2024-11-22/anipose/pose_2d_filter/2024-11-22_09-50-45/2024-11-22_09-50-45_camTL.h5\n",
      "/home/yiting/Documents/Analysis/2024-11-22/anipose/pose_2d_filter/2024-11-22_09-50-45/2024-11-22_09-50-45_camTR.h5\n",
      "/home/yiting/Documents/Analysis/2024-11-22/anipose/pose_2d_filter/2024-11-22_09-50-45/2024-11-22_09-50-45_camTo.h5\n",
      "/home/yiting/Documents/Analysis/2024-11-22/anipose/pose_2d_filter/2024-11-22_09-50-56/2024-11-22_09-50-56_camBL.h5\n",
      "/home/yiting/Documents/Analysis/2024-11-22/anipose/pose_2d_filter/2024-11-22_09-50-56/2024-11-22_09-50-56_camBR.h5\n",
      "/home/yiting/Documents/Analysis/2024-11-22/anipose/pose_2d_filter/2024-11-22_09-50-56/2024-11-22_09-50-56_camTL.h5\n",
      "/home/yiting/Documents/Analysis/2024-11-22/anipose/pose_2d_filter/2024-11-22_09-50-56/2024-11-22_09-50-56_camTR.h5\n",
      "/home/yiting/Documents/Analysis/2024-11-22/anipose/pose_2d_filter/2024-11-22_09-50-56/2024-11-22_09-50-56_camTo.h5\n",
      "/home/yiting/Documents/Analysis/2024-11-22/anipose/pose_2d_filter/2024-11-22_09-51-10/2024-11-22_09-51-10_camBL.h5\n",
      "/home/yiting/Documents/Analysis/2024-11-22/anipose/pose_2d_filter/2024-11-22_09-51-10/2024-11-22_09-51-10_camBR.h5\n",
      "/home/yiting/Documents/Analysis/2024-11-22/anipose/pose_2d_filter/2024-11-22_09-51-10/2024-11-22_09-51-10_camTL.h5\n",
      "/home/yiting/Documents/Analysis/2024-11-22/anipose/pose_2d_filter/2024-11-22_09-51-10/2024-11-22_09-51-10_camTR.h5\n",
      "/home/yiting/Documents/Analysis/2024-11-22/anipose/pose_2d_filter/2024-11-22_09-51-10/2024-11-22_09-51-10_camTo.h5\n",
      "/home/yiting/Documents/Analysis/2024-11-22/anipose/pose_2d_filter/2024-11-22_09-51-23/2024-11-22_09-51-23_camBL.h5\n",
      "/home/yiting/Documents/Analysis/2024-11-22/anipose/pose_2d_filter/2024-11-22_09-51-23/2024-11-22_09-51-23_camBR.h5\n",
      "/home/yiting/Documents/Analysis/2024-11-22/anipose/pose_2d_filter/2024-11-22_09-51-23/2024-11-22_09-51-23_camTL.h5\n",
      "/home/yiting/Documents/Analysis/2024-11-22/anipose/pose_2d_filter/2024-11-22_09-51-23/2024-11-22_09-51-23_camTR.h5\n",
      "/home/yiting/Documents/Analysis/2024-11-22/anipose/pose_2d_filter/2024-11-22_09-51-23/2024-11-22_09-51-23_camTo.h5\n",
      "/home/yiting/Documents/Analysis/2024-11-22/anipose/pose_2d_filter/2024-11-22_09-51-36/2024-11-22_09-51-36_camBL.h5\n",
      "/home/yiting/Documents/Analysis/2024-11-22/anipose/pose_2d_filter/2024-11-22_09-51-36/2024-11-22_09-51-36_camBR.h5\n",
      "/home/yiting/Documents/Analysis/2024-11-22/anipose/pose_2d_filter/2024-11-22_09-51-36/2024-11-22_09-51-36_camTL.h5\n",
      "/home/yiting/Documents/Analysis/2024-11-22/anipose/pose_2d_filter/2024-11-22_09-51-36/2024-11-22_09-51-36_camTR.h5\n",
      "/home/yiting/Documents/Analysis/2024-11-22/anipose/pose_2d_filter/2024-11-22_09-51-36/2024-11-22_09-51-36_camTo.h5\n",
      "/home/yiting/Documents/Analysis/2024-11-22/anipose/pose_2d_filter/2024-11-22_09-51-50/2024-11-22_09-51-50_camBL.h5\n",
      "/home/yiting/Documents/Analysis/2024-11-22/anipose/pose_2d_filter/2024-11-22_09-51-50/2024-11-22_09-51-50_camBR.h5\n",
      "/home/yiting/Documents/Analysis/2024-11-22/anipose/pose_2d_filter/2024-11-22_09-51-50/2024-11-22_09-51-50_camTL.h5\n",
      "/home/yiting/Documents/Analysis/2024-11-22/anipose/pose_2d_filter/2024-11-22_09-51-50/2024-11-22_09-51-50_camTR.h5\n",
      "/home/yiting/Documents/Analysis/2024-11-22/anipose/pose_2d_filter/2024-11-22_09-51-50/2024-11-22_09-51-50_camTo.h5\n",
      "/home/yiting/Documents/Analysis/2024-11-22/anipose/pose_2d_filter/2024-11-22_09-52-05/2024-11-22_09-52-05_camBL.h5\n",
      "/home/yiting/Documents/Analysis/2024-11-22/anipose/pose_2d_filter/2024-11-22_09-52-05/2024-11-22_09-52-05_camBR.h5\n",
      "/home/yiting/Documents/Analysis/2024-11-22/anipose/pose_2d_filter/2024-11-22_09-52-05/2024-11-22_09-52-05_camTL.h5\n",
      "/home/yiting/Documents/Analysis/2024-11-22/anipose/pose_2d_filter/2024-11-22_09-52-05/2024-11-22_09-52-05_camTR.h5\n",
      "/home/yiting/Documents/Analysis/2024-11-22/anipose/pose_2d_filter/2024-11-22_09-52-05/2024-11-22_09-52-05_camTo.h5\n",
      "/home/yiting/Documents/Analysis/2024-11-22/anipose/pose_2d_filter/2024-11-22_09-52-20/2024-11-22_09-52-20_camBL.h5\n",
      "/home/yiting/Documents/Analysis/2024-11-22/anipose/pose_2d_filter/2024-11-22_09-52-20/2024-11-22_09-52-20_camBR.h5\n",
      "/home/yiting/Documents/Analysis/2024-11-22/anipose/pose_2d_filter/2024-11-22_09-52-20/2024-11-22_09-52-20_camTL.h5\n",
      "/home/yiting/Documents/Analysis/2024-11-22/anipose/pose_2d_filter/2024-11-22_09-52-20/2024-11-22_09-52-20_camTR.h5\n",
      "/home/yiting/Documents/Analysis/2024-11-22/anipose/pose_2d_filter/2024-11-22_09-52-20/2024-11-22_09-52-20_camTo.h5\n",
      "/home/yiting/Documents/Analysis/2024-11-22/anipose/pose_2d_filter/2024-11-22_09-52-33/2024-11-22_09-52-33_camBL.h5\n",
      "/home/yiting/Documents/Analysis/2024-11-22/anipose/pose_2d_filter/2024-11-22_09-52-33/2024-11-22_09-52-33_camBR.h5\n",
      "/home/yiting/Documents/Analysis/2024-11-22/anipose/pose_2d_filter/2024-11-22_09-52-33/2024-11-22_09-52-33_camTL.h5\n",
      "/home/yiting/Documents/Analysis/2024-11-22/anipose/pose_2d_filter/2024-11-22_09-52-33/2024-11-22_09-52-33_camTR.h5\n",
      "/home/yiting/Documents/Analysis/2024-11-22/anipose/pose_2d_filter/2024-11-22_09-52-33/2024-11-22_09-52-33_camTo.h5\n",
      "/home/yiting/Documents/Analysis/2024-11-22/anipose/pose_2d_filter/2024-11-22_09-52-46/2024-11-22_09-52-46_camBL.h5\n",
      "/home/yiting/Documents/Analysis/2024-11-22/anipose/pose_2d_filter/2024-11-22_09-52-46/2024-11-22_09-52-46_camBR.h5\n",
      "/home/yiting/Documents/Analysis/2024-11-22/anipose/pose_2d_filter/2024-11-22_09-52-46/2024-11-22_09-52-46_camTL.h5\n",
      "/home/yiting/Documents/Analysis/2024-11-22/anipose/pose_2d_filter/2024-11-22_09-52-46/2024-11-22_09-52-46_camTR.h5\n",
      "/home/yiting/Documents/Analysis/2024-11-22/anipose/pose_2d_filter/2024-11-22_09-52-46/2024-11-22_09-52-46_camTo.h5\n",
      "/home/yiting/Documents/Analysis/2024-11-22/anipose/pose_2d_filter/2024-11-22_09-53-00/2024-11-22_09-53-00_camBL.h5\n",
      "/home/yiting/Documents/Analysis/2024-11-22/anipose/pose_2d_filter/2024-11-22_09-53-00/2024-11-22_09-53-00_camBR.h5\n",
      "/home/yiting/Documents/Analysis/2024-11-22/anipose/pose_2d_filter/2024-11-22_09-53-00/2024-11-22_09-53-00_camTL.h5\n",
      "/home/yiting/Documents/Analysis/2024-11-22/anipose/pose_2d_filter/2024-11-22_09-53-00/2024-11-22_09-53-00_camTR.h5\n",
      "/home/yiting/Documents/Analysis/2024-11-22/anipose/pose_2d_filter/2024-11-22_09-53-00/2024-11-22_09-53-00_camTo.h5\n",
      "/home/yiting/Documents/Analysis/2024-11-22/anipose/pose_2d_filter/2024-11-22_09-53-15/2024-11-22_09-53-15_camBL.h5\n",
      "/home/yiting/Documents/Analysis/2024-11-22/anipose/pose_2d_filter/2024-11-22_09-53-15/2024-11-22_09-53-15_camBR.h5\n",
      "/home/yiting/Documents/Analysis/2024-11-22/anipose/pose_2d_filter/2024-11-22_09-53-15/2024-11-22_09-53-15_camTL.h5\n",
      "/home/yiting/Documents/Analysis/2024-11-22/anipose/pose_2d_filter/2024-11-22_09-53-15/2024-11-22_09-53-15_camTR.h5\n",
      "/home/yiting/Documents/Analysis/2024-11-22/anipose/pose_2d_filter/2024-11-22_09-53-15/2024-11-22_09-53-15_camTo.h5\n",
      "/home/yiting/Documents/Analysis/2024-11-22/anipose/pose_2d_filter/2024-11-22_09-53-26/2024-11-22_09-53-26_camBL.h5\n",
      "/home/yiting/Documents/Analysis/2024-11-22/anipose/pose_2d_filter/2024-11-22_09-53-26/2024-11-22_09-53-26_camBR.h5\n",
      "/home/yiting/Documents/Analysis/2024-11-22/anipose/pose_2d_filter/2024-11-22_09-53-26/2024-11-22_09-53-26_camTL.h5\n",
      "/home/yiting/Documents/Analysis/2024-11-22/anipose/pose_2d_filter/2024-11-22_09-53-26/2024-11-22_09-53-26_camTR.h5\n",
      "/home/yiting/Documents/Analysis/2024-11-22/anipose/pose_2d_filter/2024-11-22_09-53-26/2024-11-22_09-53-26_camTo.h5\n",
      "/home/yiting/Documents/Analysis/2024-11-22/anipose/pose_2d_filter/2024-11-22_09-53-39/2024-11-22_09-53-39_camBL.h5\n",
      "/home/yiting/Documents/Analysis/2024-11-22/anipose/pose_2d_filter/2024-11-22_09-53-39/2024-11-22_09-53-39_camBR.h5\n",
      "/home/yiting/Documents/Analysis/2024-11-22/anipose/pose_2d_filter/2024-11-22_09-53-39/2024-11-22_09-53-39_camTL.h5\n",
      "/home/yiting/Documents/Analysis/2024-11-22/anipose/pose_2d_filter/2024-11-22_09-53-39/2024-11-22_09-53-39_camTR.h5\n",
      "/home/yiting/Documents/Analysis/2024-11-22/anipose/pose_2d_filter/2024-11-22_09-53-39/2024-11-22_09-53-39_camTo.h5\n",
      "/home/yiting/Documents/Analysis/2024-11-22/anipose/pose_2d_filter/2024-11-22_09-53-54/2024-11-22_09-53-54_camBL.h5\n",
      "/home/yiting/Documents/Analysis/2024-11-22/anipose/pose_2d_filter/2024-11-22_09-53-54/2024-11-22_09-53-54_camBR.h5\n",
      "/home/yiting/Documents/Analysis/2024-11-22/anipose/pose_2d_filter/2024-11-22_09-53-54/2024-11-22_09-53-54_camTL.h5\n",
      "/home/yiting/Documents/Analysis/2024-11-22/anipose/pose_2d_filter/2024-11-22_09-53-54/2024-11-22_09-53-54_camTR.h5\n",
      "/home/yiting/Documents/Analysis/2024-11-22/anipose/pose_2d_filter/2024-11-22_09-53-54/2024-11-22_09-53-54_camTo.h5\n",
      "/home/yiting/Documents/Analysis/2024-11-22/anipose/pose_2d_filter/2024-11-22_09-54-07/2024-11-22_09-54-07_camBL.h5\n",
      "/home/yiting/Documents/Analysis/2024-11-22/anipose/pose_2d_filter/2024-11-22_09-54-07/2024-11-22_09-54-07_camBR.h5\n",
      "/home/yiting/Documents/Analysis/2024-11-22/anipose/pose_2d_filter/2024-11-22_09-54-07/2024-11-22_09-54-07_camTL.h5\n",
      "/home/yiting/Documents/Analysis/2024-11-22/anipose/pose_2d_filter/2024-11-22_09-54-07/2024-11-22_09-54-07_camTR.h5\n",
      "/home/yiting/Documents/Analysis/2024-11-22/anipose/pose_2d_filter/2024-11-22_09-54-07/2024-11-22_09-54-07_camTo.h5\n",
      "/home/yiting/Documents/Analysis/2024-11-22/anipose/pose_2d_filter/2024-11-22_09-54-19/2024-11-22_09-54-19_camBL.h5\n",
      "/home/yiting/Documents/Analysis/2024-11-22/anipose/pose_2d_filter/2024-11-22_09-54-19/2024-11-22_09-54-19_camBR.h5\n",
      "/home/yiting/Documents/Analysis/2024-11-22/anipose/pose_2d_filter/2024-11-22_09-54-19/2024-11-22_09-54-19_camTL.h5\n",
      "/home/yiting/Documents/Analysis/2024-11-22/anipose/pose_2d_filter/2024-11-22_09-54-19/2024-11-22_09-54-19_camTR.h5\n",
      "/home/yiting/Documents/Analysis/2024-11-22/anipose/pose_2d_filter/2024-11-22_09-54-19/2024-11-22_09-54-19_camTo.h5\n",
      "/home/yiting/Documents/Analysis/2024-11-22/anipose/pose_2d_filter/2024-11-22_09-54-31/2024-11-22_09-54-31_camBL.h5\n",
      "/home/yiting/Documents/Analysis/2024-11-22/anipose/pose_2d_filter/2024-11-22_09-54-31/2024-11-22_09-54-31_camBR.h5\n",
      "/home/yiting/Documents/Analysis/2024-11-22/anipose/pose_2d_filter/2024-11-22_09-54-31/2024-11-22_09-54-31_camTL.h5\n",
      "/home/yiting/Documents/Analysis/2024-11-22/anipose/pose_2d_filter/2024-11-22_09-54-31/2024-11-22_09-54-31_camTR.h5\n",
      "/home/yiting/Documents/Analysis/2024-11-22/anipose/pose_2d_filter/2024-11-22_09-54-31/2024-11-22_09-54-31_camTo.h5\n",
      "/home/yiting/Documents/Analysis/2024-11-22/anipose/pose_2d_filter/2024-11-22_09-54-44/2024-11-22_09-54-44_camBL.h5\n",
      "/home/yiting/Documents/Analysis/2024-11-22/anipose/pose_2d_filter/2024-11-22_09-54-44/2024-11-22_09-54-44_camBR.h5\n",
      "/home/yiting/Documents/Analysis/2024-11-22/anipose/pose_2d_filter/2024-11-22_09-54-44/2024-11-22_09-54-44_camTL.h5\n",
      "/home/yiting/Documents/Analysis/2024-11-22/anipose/pose_2d_filter/2024-11-22_09-54-44/2024-11-22_09-54-44_camTR.h5\n",
      "/home/yiting/Documents/Analysis/2024-11-22/anipose/pose_2d_filter/2024-11-22_09-54-44/2024-11-22_09-54-44_camTo.h5\n",
      "/home/yiting/Documents/Analysis/2024-11-22/anipose/pose_2d_filter/2024-11-22_09-54-55/2024-11-22_09-54-55_camBL.h5\n",
      "/home/yiting/Documents/Analysis/2024-11-22/anipose/pose_2d_filter/2024-11-22_09-54-55/2024-11-22_09-54-55_camBR.h5\n",
      "/home/yiting/Documents/Analysis/2024-11-22/anipose/pose_2d_filter/2024-11-22_09-54-55/2024-11-22_09-54-55_camTL.h5\n",
      "/home/yiting/Documents/Analysis/2024-11-22/anipose/pose_2d_filter/2024-11-22_09-54-55/2024-11-22_09-54-55_camTR.h5\n",
      "/home/yiting/Documents/Analysis/2024-11-22/anipose/pose_2d_filter/2024-11-22_09-54-55/2024-11-22_09-54-55_camTo.h5\n",
      "/home/yiting/Documents/Analysis/2024-11-22/anipose/pose_2d_filter/2024-11-22_09-55-07/2024-11-22_09-55-07_camBL.h5\n",
      "/home/yiting/Documents/Analysis/2024-11-22/anipose/pose_2d_filter/2024-11-22_09-55-07/2024-11-22_09-55-07_camBR.h5\n",
      "/home/yiting/Documents/Analysis/2024-11-22/anipose/pose_2d_filter/2024-11-22_09-55-07/2024-11-22_09-55-07_camTL.h5\n",
      "/home/yiting/Documents/Analysis/2024-11-22/anipose/pose_2d_filter/2024-11-22_09-55-07/2024-11-22_09-55-07_camTR.h5\n",
      "/home/yiting/Documents/Analysis/2024-11-22/anipose/pose_2d_filter/2024-11-22_09-55-07/2024-11-22_09-55-07_camTo.h5\n",
      "/home/yiting/Documents/Analysis/2024-11-22/anipose/pose_2d_filter/2024-11-22_09-55-19/2024-11-22_09-55-19_camBL.h5\n",
      "/home/yiting/Documents/Analysis/2024-11-22/anipose/pose_2d_filter/2024-11-22_09-55-19/2024-11-22_09-55-19_camBR.h5\n",
      "/home/yiting/Documents/Analysis/2024-11-22/anipose/pose_2d_filter/2024-11-22_09-55-19/2024-11-22_09-55-19_camTL.h5\n",
      "/home/yiting/Documents/Analysis/2024-11-22/anipose/pose_2d_filter/2024-11-22_09-55-19/2024-11-22_09-55-19_camTR.h5\n",
      "/home/yiting/Documents/Analysis/2024-11-22/anipose/pose_2d_filter/2024-11-22_09-55-19/2024-11-22_09-55-19_camTo.h5\n",
      "/home/yiting/Documents/Analysis/2024-11-22/anipose/pose_2d_filter/2024-11-22_09-55-33/2024-11-22_09-55-33_camBL.h5\n",
      "/home/yiting/Documents/Analysis/2024-11-22/anipose/pose_2d_filter/2024-11-22_09-55-33/2024-11-22_09-55-33_camBR.h5\n",
      "/home/yiting/Documents/Analysis/2024-11-22/anipose/pose_2d_filter/2024-11-22_09-55-33/2024-11-22_09-55-33_camTL.h5\n",
      "/home/yiting/Documents/Analysis/2024-11-22/anipose/pose_2d_filter/2024-11-22_09-55-33/2024-11-22_09-55-33_camTR.h5\n",
      "/home/yiting/Documents/Analysis/2024-11-22/anipose/pose_2d_filter/2024-11-22_09-55-33/2024-11-22_09-55-33_camTo.h5\n",
      "/home/yiting/Documents/Analysis/2024-11-22/anipose/pose_2d_filter/2024-11-22_09-55-45/2024-11-22_09-55-45_camBL.h5\n",
      "/home/yiting/Documents/Analysis/2024-11-22/anipose/pose_2d_filter/2024-11-22_09-55-45/2024-11-22_09-55-45_camBR.h5\n",
      "/home/yiting/Documents/Analysis/2024-11-22/anipose/pose_2d_filter/2024-11-22_09-55-45/2024-11-22_09-55-45_camTL.h5\n",
      "/home/yiting/Documents/Analysis/2024-11-22/anipose/pose_2d_filter/2024-11-22_09-55-45/2024-11-22_09-55-45_camTR.h5\n",
      "/home/yiting/Documents/Analysis/2024-11-22/anipose/pose_2d_filter/2024-11-22_09-55-45/2024-11-22_09-55-45_camTo.h5\n",
      "/home/yiting/Documents/Analysis/2024-11-22/anipose/pose_2d_filter/2024-11-22_09-55-58/2024-11-22_09-55-58_camBL.h5\n",
      "/home/yiting/Documents/Analysis/2024-11-22/anipose/pose_2d_filter/2024-11-22_09-55-58/2024-11-22_09-55-58_camBR.h5\n",
      "/home/yiting/Documents/Analysis/2024-11-22/anipose/pose_2d_filter/2024-11-22_09-55-58/2024-11-22_09-55-58_camTL.h5\n",
      "/home/yiting/Documents/Analysis/2024-11-22/anipose/pose_2d_filter/2024-11-22_09-55-58/2024-11-22_09-55-58_camTR.h5\n",
      "/home/yiting/Documents/Analysis/2024-11-22/anipose/pose_2d_filter/2024-11-22_09-55-58/2024-11-22_09-55-58_camTo.h5\n",
      "/home/yiting/Documents/Analysis/2024-11-22/anipose/pose_2d_filter/2024-11-22_09-56-11/2024-11-22_09-56-11_camBL.h5\n",
      "/home/yiting/Documents/Analysis/2024-11-22/anipose/pose_2d_filter/2024-11-22_09-56-11/2024-11-22_09-56-11_camBR.h5\n",
      "/home/yiting/Documents/Analysis/2024-11-22/anipose/pose_2d_filter/2024-11-22_09-56-11/2024-11-22_09-56-11_camTL.h5\n",
      "/home/yiting/Documents/Analysis/2024-11-22/anipose/pose_2d_filter/2024-11-22_09-56-11/2024-11-22_09-56-11_camTR.h5\n",
      "/home/yiting/Documents/Analysis/2024-11-22/anipose/pose_2d_filter/2024-11-22_09-56-11/2024-11-22_09-56-11_camTo.h5\n",
      "/home/yiting/Documents/Analysis/2024-11-22/anipose/pose_2d_filter/2024-11-22_09-56-24/2024-11-22_09-56-24_camBL.h5\n",
      "/home/yiting/Documents/Analysis/2024-11-22/anipose/pose_2d_filter/2024-11-22_09-56-24/2024-11-22_09-56-24_camBR.h5\n",
      "/home/yiting/Documents/Analysis/2024-11-22/anipose/pose_2d_filter/2024-11-22_09-56-24/2024-11-22_09-56-24_camTL.h5\n",
      "/home/yiting/Documents/Analysis/2024-11-22/anipose/pose_2d_filter/2024-11-22_09-56-24/2024-11-22_09-56-24_camTR.h5\n",
      "/home/yiting/Documents/Analysis/2024-11-22/anipose/pose_2d_filter/2024-11-22_09-56-24/2024-11-22_09-56-24_camTo.h5\n",
      "/home/yiting/Documents/Analysis/2024-11-22/anipose/pose_2d_filter/2024-11-22_09-56-39/2024-11-22_09-56-39_camBL.h5\n",
      "/home/yiting/Documents/Analysis/2024-11-22/anipose/pose_2d_filter/2024-11-22_09-56-39/2024-11-22_09-56-39_camBR.h5\n",
      "/home/yiting/Documents/Analysis/2024-11-22/anipose/pose_2d_filter/2024-11-22_09-56-39/2024-11-22_09-56-39_camTL.h5\n",
      "/home/yiting/Documents/Analysis/2024-11-22/anipose/pose_2d_filter/2024-11-22_09-56-39/2024-11-22_09-56-39_camTR.h5\n",
      "/home/yiting/Documents/Analysis/2024-11-22/anipose/pose_2d_filter/2024-11-22_09-56-39/2024-11-22_09-56-39_camTo.h5\n",
      "/home/yiting/Documents/Analysis/2024-11-22/anipose/pose_2d_filter/2024-11-22_09-56-53/2024-11-22_09-56-53_camBL.h5\n",
      "/home/yiting/Documents/Analysis/2024-11-22/anipose/pose_2d_filter/2024-11-22_09-56-53/2024-11-22_09-56-53_camBR.h5\n",
      "/home/yiting/Documents/Analysis/2024-11-22/anipose/pose_2d_filter/2024-11-22_09-56-53/2024-11-22_09-56-53_camTL.h5\n",
      "/home/yiting/Documents/Analysis/2024-11-22/anipose/pose_2d_filter/2024-11-22_09-56-53/2024-11-22_09-56-53_camTR.h5\n",
      "/home/yiting/Documents/Analysis/2024-11-22/anipose/pose_2d_filter/2024-11-22_09-56-53/2024-11-22_09-56-53_camTo.h5\n",
      "/home/yiting/Documents/Analysis/2024-11-22/anipose/pose_2d_filter/2024-11-22_09-57-05/2024-11-22_09-57-05_camBL.h5\n",
      "/home/yiting/Documents/Analysis/2024-11-22/anipose/pose_2d_filter/2024-11-22_09-57-05/2024-11-22_09-57-05_camBR.h5\n",
      "/home/yiting/Documents/Analysis/2024-11-22/anipose/pose_2d_filter/2024-11-22_09-57-05/2024-11-22_09-57-05_camTL.h5\n",
      "/home/yiting/Documents/Analysis/2024-11-22/anipose/pose_2d_filter/2024-11-22_09-57-05/2024-11-22_09-57-05_camTR.h5\n",
      "/home/yiting/Documents/Analysis/2024-11-22/anipose/pose_2d_filter/2024-11-22_09-57-05/2024-11-22_09-57-05_camTo.h5\n",
      "/home/yiting/Documents/Analysis/2024-11-22/anipose/pose_2d_filter/2024-11-22_09-57-17/2024-11-22_09-57-17_camBL.h5\n",
      "/home/yiting/Documents/Analysis/2024-11-22/anipose/pose_2d_filter/2024-11-22_09-57-17/2024-11-22_09-57-17_camBR.h5\n",
      "/home/yiting/Documents/Analysis/2024-11-22/anipose/pose_2d_filter/2024-11-22_09-57-17/2024-11-22_09-57-17_camTL.h5\n",
      "/home/yiting/Documents/Analysis/2024-11-22/anipose/pose_2d_filter/2024-11-22_09-57-17/2024-11-22_09-57-17_camTR.h5\n",
      "/home/yiting/Documents/Analysis/2024-11-22/anipose/pose_2d_filter/2024-11-22_09-57-17/2024-11-22_09-57-17_camTo.h5\n",
      "/home/yiting/Documents/Analysis/2024-11-22/anipose/pose_2d_filter/2024-11-22_09-57-27/2024-11-22_09-57-27_camBL.h5\n",
      "/home/yiting/Documents/Analysis/2024-11-22/anipose/pose_2d_filter/2024-11-22_09-57-27/2024-11-22_09-57-27_camBR.h5\n",
      "/home/yiting/Documents/Analysis/2024-11-22/anipose/pose_2d_filter/2024-11-22_09-57-27/2024-11-22_09-57-27_camTL.h5\n",
      "/home/yiting/Documents/Analysis/2024-11-22/anipose/pose_2d_filter/2024-11-22_09-57-27/2024-11-22_09-57-27_camTR.h5\n",
      "/home/yiting/Documents/Analysis/2024-11-22/anipose/pose_2d_filter/2024-11-22_09-57-27/2024-11-22_09-57-27_camTo.h5\n",
      "/home/yiting/Documents/Analysis/2024-11-22/anipose/pose_2d_filter/2024-11-22_09-57-38/2024-11-22_09-57-38_camBL.h5\n",
      "/home/yiting/Documents/Analysis/2024-11-22/anipose/pose_2d_filter/2024-11-22_09-57-38/2024-11-22_09-57-38_camBR.h5\n",
      "/home/yiting/Documents/Analysis/2024-11-22/anipose/pose_2d_filter/2024-11-22_09-57-38/2024-11-22_09-57-38_camTL.h5\n",
      "/home/yiting/Documents/Analysis/2024-11-22/anipose/pose_2d_filter/2024-11-22_09-57-38/2024-11-22_09-57-38_camTR.h5\n",
      "/home/yiting/Documents/Analysis/2024-11-22/anipose/pose_2d_filter/2024-11-22_09-57-38/2024-11-22_09-57-38_camTo.h5\n",
      "/home/yiting/Documents/Analysis/2024-11-22/anipose/pose_2d_filter/2024-11-22_09-58-44/2024-11-22_09-58-44_camBL.h5\n",
      "/home/yiting/Documents/Analysis/2024-11-22/anipose/pose_2d_filter/2024-11-22_09-58-44/2024-11-22_09-58-44_camBR.h5\n",
      "/home/yiting/Documents/Analysis/2024-11-22/anipose/pose_2d_filter/2024-11-22_09-58-44/2024-11-22_09-58-44_camTL.h5\n",
      "/home/yiting/Documents/Analysis/2024-11-22/anipose/pose_2d_filter/2024-11-22_09-58-44/2024-11-22_09-58-44_camTR.h5\n",
      "/home/yiting/Documents/Analysis/2024-11-22/anipose/pose_2d_filter/2024-11-22_09-58-44/2024-11-22_09-58-44_camTo.h5\n",
      "/home/yiting/Documents/Analysis/2024-11-22/anipose/pose_2d_filter/2024-11-22_09-58-57/2024-11-22_09-58-57_camBL.h5\n",
      "/home/yiting/Documents/Analysis/2024-11-22/anipose/pose_2d_filter/2024-11-22_09-58-57/2024-11-22_09-58-57_camBR.h5\n",
      "/home/yiting/Documents/Analysis/2024-11-22/anipose/pose_2d_filter/2024-11-22_09-58-57/2024-11-22_09-58-57_camTL.h5\n",
      "/home/yiting/Documents/Analysis/2024-11-22/anipose/pose_2d_filter/2024-11-22_09-58-57/2024-11-22_09-58-57_camTR.h5\n",
      "/home/yiting/Documents/Analysis/2024-11-22/anipose/pose_2d_filter/2024-11-22_09-58-57/2024-11-22_09-58-57_camTo.h5\n",
      "/home/yiting/Documents/Analysis/2024-11-22/anipose/pose_2d_filter/2024-11-22_09-59-09/2024-11-22_09-59-09_camBL.h5\n",
      "/home/yiting/Documents/Analysis/2024-11-22/anipose/pose_2d_filter/2024-11-22_09-59-09/2024-11-22_09-59-09_camBR.h5\n",
      "/home/yiting/Documents/Analysis/2024-11-22/anipose/pose_2d_filter/2024-11-22_09-59-09/2024-11-22_09-59-09_camTL.h5\n",
      "/home/yiting/Documents/Analysis/2024-11-22/anipose/pose_2d_filter/2024-11-22_09-59-09/2024-11-22_09-59-09_camTR.h5\n",
      "/home/yiting/Documents/Analysis/2024-11-22/anipose/pose_2d_filter/2024-11-22_09-59-09/2024-11-22_09-59-09_camTo.h5\n",
      "/home/yiting/Documents/Analysis/2024-11-22/anipose/pose_2d_filter/2024-11-22_09-59-23/2024-11-22_09-59-23_camBL.h5\n",
      "/home/yiting/Documents/Analysis/2024-11-22/anipose/pose_2d_filter/2024-11-22_09-59-23/2024-11-22_09-59-23_camBR.h5\n",
      "/home/yiting/Documents/Analysis/2024-11-22/anipose/pose_2d_filter/2024-11-22_09-59-23/2024-11-22_09-59-23_camTL.h5\n",
      "/home/yiting/Documents/Analysis/2024-11-22/anipose/pose_2d_filter/2024-11-22_09-59-23/2024-11-22_09-59-23_camTR.h5\n",
      "/home/yiting/Documents/Analysis/2024-11-22/anipose/pose_2d_filter/2024-11-22_09-59-23/2024-11-22_09-59-23_camTo.h5\n",
      "/home/yiting/Documents/Analysis/2024-11-22/anipose/pose_2d_filter/2024-11-22_09-59-37/2024-11-22_09-59-37_camBL.h5\n",
      "/home/yiting/Documents/Analysis/2024-11-22/anipose/pose_2d_filter/2024-11-22_09-59-37/2024-11-22_09-59-37_camBR.h5\n",
      "/home/yiting/Documents/Analysis/2024-11-22/anipose/pose_2d_filter/2024-11-22_09-59-37/2024-11-22_09-59-37_camTL.h5\n",
      "/home/yiting/Documents/Analysis/2024-11-22/anipose/pose_2d_filter/2024-11-22_09-59-37/2024-11-22_09-59-37_camTR.h5\n",
      "/home/yiting/Documents/Analysis/2024-11-22/anipose/pose_2d_filter/2024-11-22_09-59-37/2024-11-22_09-59-37_camTo.h5\n",
      "/home/yiting/Documents/Analysis/2024-11-22/anipose/pose_2d_filter/2024-11-22_09-59-51/2024-11-22_09-59-51_camBL.h5\n",
      "/home/yiting/Documents/Analysis/2024-11-22/anipose/pose_2d_filter/2024-11-22_09-59-51/2024-11-22_09-59-51_camBR.h5\n",
      "/home/yiting/Documents/Analysis/2024-11-22/anipose/pose_2d_filter/2024-11-22_09-59-51/2024-11-22_09-59-51_camTL.h5\n",
      "/home/yiting/Documents/Analysis/2024-11-22/anipose/pose_2d_filter/2024-11-22_09-59-51/2024-11-22_09-59-51_camTR.h5\n",
      "/home/yiting/Documents/Analysis/2024-11-22/anipose/pose_2d_filter/2024-11-22_09-59-51/2024-11-22_09-59-51_camTo.h5\n",
      "/home/yiting/Documents/Analysis/2024-11-22/anipose/pose_2d_filter/2024-11-22_10-00-06/2024-11-22_10-00-06_camBL.h5\n",
      "/home/yiting/Documents/Analysis/2024-11-22/anipose/pose_2d_filter/2024-11-22_10-00-06/2024-11-22_10-00-06_camBR.h5\n",
      "/home/yiting/Documents/Analysis/2024-11-22/anipose/pose_2d_filter/2024-11-22_10-00-06/2024-11-22_10-00-06_camTL.h5\n",
      "/home/yiting/Documents/Analysis/2024-11-22/anipose/pose_2d_filter/2024-11-22_10-00-06/2024-11-22_10-00-06_camTR.h5\n",
      "/home/yiting/Documents/Analysis/2024-11-22/anipose/pose_2d_filter/2024-11-22_10-00-06/2024-11-22_10-00-06_camTo.h5\n",
      "/home/yiting/Documents/Analysis/2024-11-22/anipose/pose_2d_filter/2024-11-22_10-00-21/2024-11-22_10-00-21_camBL.h5\n",
      "/home/yiting/Documents/Analysis/2024-11-22/anipose/pose_2d_filter/2024-11-22_10-00-21/2024-11-22_10-00-21_camBR.h5\n",
      "/home/yiting/Documents/Analysis/2024-11-22/anipose/pose_2d_filter/2024-11-22_10-00-21/2024-11-22_10-00-21_camTL.h5\n",
      "/home/yiting/Documents/Analysis/2024-11-22/anipose/pose_2d_filter/2024-11-22_10-00-21/2024-11-22_10-00-21_camTR.h5\n",
      "/home/yiting/Documents/Analysis/2024-11-22/anipose/pose_2d_filter/2024-11-22_10-00-21/2024-11-22_10-00-21_camTo.h5\n",
      "/home/yiting/Documents/Analysis/2024-11-22/anipose/pose_2d_filter/2024-11-22_10-00-34/2024-11-22_10-00-34_camBL.h5\n",
      "/home/yiting/Documents/Analysis/2024-11-22/anipose/pose_2d_filter/2024-11-22_10-00-34/2024-11-22_10-00-34_camBR.h5\n",
      "/home/yiting/Documents/Analysis/2024-11-22/anipose/pose_2d_filter/2024-11-22_10-00-34/2024-11-22_10-00-34_camTL.h5\n",
      "/home/yiting/Documents/Analysis/2024-11-22/anipose/pose_2d_filter/2024-11-22_10-00-34/2024-11-22_10-00-34_camTR.h5\n",
      "/home/yiting/Documents/Analysis/2024-11-22/anipose/pose_2d_filter/2024-11-22_10-00-34/2024-11-22_10-00-34_camTo.h5\n",
      "/home/yiting/Documents/Analysis/2024-11-22/anipose/pose_2d_filter/2024-11-22_10-00-49/2024-11-22_10-00-49_camBL.h5\n",
      "/home/yiting/Documents/Analysis/2024-11-22/anipose/pose_2d_filter/2024-11-22_10-00-49/2024-11-22_10-00-49_camBR.h5\n",
      "/home/yiting/Documents/Analysis/2024-11-22/anipose/pose_2d_filter/2024-11-22_10-00-49/2024-11-22_10-00-49_camTL.h5\n",
      "/home/yiting/Documents/Analysis/2024-11-22/anipose/pose_2d_filter/2024-11-22_10-00-49/2024-11-22_10-00-49_camTR.h5\n",
      "/home/yiting/Documents/Analysis/2024-11-22/anipose/pose_2d_filter/2024-11-22_10-00-49/2024-11-22_10-00-49_camTo.h5\n",
      "/home/yiting/Documents/Analysis/2024-11-22/anipose/pose_2d_filter/2024-11-22_10-01-01/2024-11-22_10-01-01_camBL.h5\n",
      "/home/yiting/Documents/Analysis/2024-11-22/anipose/pose_2d_filter/2024-11-22_10-01-01/2024-11-22_10-01-01_camBR.h5\n",
      "/home/yiting/Documents/Analysis/2024-11-22/anipose/pose_2d_filter/2024-11-22_10-01-01/2024-11-22_10-01-01_camTL.h5\n",
      "/home/yiting/Documents/Analysis/2024-11-22/anipose/pose_2d_filter/2024-11-22_10-01-01/2024-11-22_10-01-01_camTR.h5\n",
      "/home/yiting/Documents/Analysis/2024-11-22/anipose/pose_2d_filter/2024-11-22_10-01-01/2024-11-22_10-01-01_camTo.h5\n",
      "/home/yiting/Documents/Analysis/2024-11-22/anipose/pose_2d_filter/2024-11-22_10-01-14/2024-11-22_10-01-14_camBL.h5\n",
      "/home/yiting/Documents/Analysis/2024-11-22/anipose/pose_2d_filter/2024-11-22_10-01-14/2024-11-22_10-01-14_camBR.h5\n",
      "/home/yiting/Documents/Analysis/2024-11-22/anipose/pose_2d_filter/2024-11-22_10-01-14/2024-11-22_10-01-14_camTL.h5\n",
      "/home/yiting/Documents/Analysis/2024-11-22/anipose/pose_2d_filter/2024-11-22_10-01-14/2024-11-22_10-01-14_camTR.h5\n",
      "/home/yiting/Documents/Analysis/2024-11-22/anipose/pose_2d_filter/2024-11-22_10-01-14/2024-11-22_10-01-14_camTo.h5\n",
      "/home/yiting/Documents/Analysis/2024-11-22/anipose/pose_2d_filter/2024-11-22_10-01-26/2024-11-22_10-01-26_camBL.h5\n",
      "/home/yiting/Documents/Analysis/2024-11-22/anipose/pose_2d_filter/2024-11-22_10-01-26/2024-11-22_10-01-26_camBR.h5\n",
      "/home/yiting/Documents/Analysis/2024-11-22/anipose/pose_2d_filter/2024-11-22_10-01-26/2024-11-22_10-01-26_camTL.h5\n",
      "/home/yiting/Documents/Analysis/2024-11-22/anipose/pose_2d_filter/2024-11-22_10-01-26/2024-11-22_10-01-26_camTR.h5\n",
      "/home/yiting/Documents/Analysis/2024-11-22/anipose/pose_2d_filter/2024-11-22_10-01-26/2024-11-22_10-01-26_camTo.h5\n",
      "/home/yiting/Documents/Analysis/2024-11-22/anipose/pose_2d_filter/2024-11-22_10-01-38/2024-11-22_10-01-38_camBL.h5\n",
      "/home/yiting/Documents/Analysis/2024-11-22/anipose/pose_2d_filter/2024-11-22_10-01-38/2024-11-22_10-01-38_camBR.h5\n",
      "/home/yiting/Documents/Analysis/2024-11-22/anipose/pose_2d_filter/2024-11-22_10-01-38/2024-11-22_10-01-38_camTL.h5\n",
      "/home/yiting/Documents/Analysis/2024-11-22/anipose/pose_2d_filter/2024-11-22_10-01-38/2024-11-22_10-01-38_camTR.h5\n",
      "/home/yiting/Documents/Analysis/2024-11-22/anipose/pose_2d_filter/2024-11-22_10-01-38/2024-11-22_10-01-38_camTo.h5\n",
      "/home/yiting/Documents/Analysis/2024-11-22/anipose/pose_2d_filter/2024-11-22_10-01-52/2024-11-22_10-01-52_camBL.h5\n",
      "/home/yiting/Documents/Analysis/2024-11-22/anipose/pose_2d_filter/2024-11-22_10-01-52/2024-11-22_10-01-52_camBR.h5\n",
      "/home/yiting/Documents/Analysis/2024-11-22/anipose/pose_2d_filter/2024-11-22_10-01-52/2024-11-22_10-01-52_camTL.h5\n",
      "/home/yiting/Documents/Analysis/2024-11-22/anipose/pose_2d_filter/2024-11-22_10-01-52/2024-11-22_10-01-52_camTR.h5\n",
      "/home/yiting/Documents/Analysis/2024-11-22/anipose/pose_2d_filter/2024-11-22_10-01-52/2024-11-22_10-01-52_camTo.h5\n",
      "/home/yiting/Documents/Analysis/2024-11-22/anipose/pose_2d_filter/2024-11-22_10-02-03/2024-11-22_10-02-03_camBL.h5\n",
      "/home/yiting/Documents/Analysis/2024-11-22/anipose/pose_2d_filter/2024-11-22_10-02-03/2024-11-22_10-02-03_camBR.h5\n",
      "/home/yiting/Documents/Analysis/2024-11-22/anipose/pose_2d_filter/2024-11-22_10-02-03/2024-11-22_10-02-03_camTL.h5\n",
      "/home/yiting/Documents/Analysis/2024-11-22/anipose/pose_2d_filter/2024-11-22_10-02-03/2024-11-22_10-02-03_camTR.h5\n",
      "/home/yiting/Documents/Analysis/2024-11-22/anipose/pose_2d_filter/2024-11-22_10-02-03/2024-11-22_10-02-03_camTo.h5\n",
      "/home/yiting/Documents/Analysis/2024-11-22/anipose/pose_2d_filter/2024-11-22_10-02-17/2024-11-22_10-02-17_camBL.h5\n",
      "/home/yiting/Documents/Analysis/2024-11-22/anipose/pose_2d_filter/2024-11-22_10-02-17/2024-11-22_10-02-17_camBR.h5\n",
      "/home/yiting/Documents/Analysis/2024-11-22/anipose/pose_2d_filter/2024-11-22_10-02-17/2024-11-22_10-02-17_camTL.h5\n",
      "/home/yiting/Documents/Analysis/2024-11-22/anipose/pose_2d_filter/2024-11-22_10-02-17/2024-11-22_10-02-17_camTR.h5\n",
      "/home/yiting/Documents/Analysis/2024-11-22/anipose/pose_2d_filter/2024-11-22_10-02-17/2024-11-22_10-02-17_camTo.h5\n",
      "/home/yiting/Documents/Analysis/2024-11-22/anipose/pose_2d_filter/2024-11-22_10-02-28/2024-11-22_10-02-28_camBL.h5\n",
      "/home/yiting/Documents/Analysis/2024-11-22/anipose/pose_2d_filter/2024-11-22_10-02-28/2024-11-22_10-02-28_camBR.h5\n",
      "/home/yiting/Documents/Analysis/2024-11-22/anipose/pose_2d_filter/2024-11-22_10-02-28/2024-11-22_10-02-28_camTL.h5\n",
      "/home/yiting/Documents/Analysis/2024-11-22/anipose/pose_2d_filter/2024-11-22_10-02-28/2024-11-22_10-02-28_camTR.h5\n",
      "/home/yiting/Documents/Analysis/2024-11-22/anipose/pose_2d_filter/2024-11-22_10-02-28/2024-11-22_10-02-28_camTo.h5\n",
      "/home/yiting/Documents/Analysis/2024-11-22/anipose/pose_2d_filter/2024-11-22_10-02-43/2024-11-22_10-02-43_camBL.h5\n",
      "/home/yiting/Documents/Analysis/2024-11-22/anipose/pose_2d_filter/2024-11-22_10-02-43/2024-11-22_10-02-43_camBR.h5\n",
      "/home/yiting/Documents/Analysis/2024-11-22/anipose/pose_2d_filter/2024-11-22_10-02-43/2024-11-22_10-02-43_camTL.h5\n",
      "/home/yiting/Documents/Analysis/2024-11-22/anipose/pose_2d_filter/2024-11-22_10-02-43/2024-11-22_10-02-43_camTR.h5\n",
      "/home/yiting/Documents/Analysis/2024-11-22/anipose/pose_2d_filter/2024-11-22_10-02-43/2024-11-22_10-02-43_camTo.h5\n",
      "/home/yiting/Documents/Analysis/2024-11-22/anipose/pose_2d_filter/2024-11-22_10-02-56/2024-11-22_10-02-56_camBL.h5\n",
      "/home/yiting/Documents/Analysis/2024-11-22/anipose/pose_2d_filter/2024-11-22_10-02-56/2024-11-22_10-02-56_camBR.h5\n",
      "/home/yiting/Documents/Analysis/2024-11-22/anipose/pose_2d_filter/2024-11-22_10-02-56/2024-11-22_10-02-56_camTL.h5\n",
      "/home/yiting/Documents/Analysis/2024-11-22/anipose/pose_2d_filter/2024-11-22_10-02-56/2024-11-22_10-02-56_camTR.h5\n",
      "/home/yiting/Documents/Analysis/2024-11-22/anipose/pose_2d_filter/2024-11-22_10-02-56/2024-11-22_10-02-56_camTo.h5\n",
      "/home/yiting/Documents/Analysis/2024-11-22/anipose/pose_2d_filter/2024-11-22_10-03-10/2024-11-22_10-03-10_camBL.h5\n",
      "/home/yiting/Documents/Analysis/2024-11-22/anipose/pose_2d_filter/2024-11-22_10-03-10/2024-11-22_10-03-10_camBR.h5\n",
      "/home/yiting/Documents/Analysis/2024-11-22/anipose/pose_2d_filter/2024-11-22_10-03-10/2024-11-22_10-03-10_camTL.h5\n",
      "/home/yiting/Documents/Analysis/2024-11-22/anipose/pose_2d_filter/2024-11-22_10-03-10/2024-11-22_10-03-10_camTR.h5\n",
      "/home/yiting/Documents/Analysis/2024-11-22/anipose/pose_2d_filter/2024-11-22_10-03-10/2024-11-22_10-03-10_camTo.h5\n",
      "/home/yiting/Documents/Analysis/2024-11-22/anipose/pose_2d_filter/2024-11-22_10-03-23/2024-11-22_10-03-23_camBL.h5\n",
      "/home/yiting/Documents/Analysis/2024-11-22/anipose/pose_2d_filter/2024-11-22_10-03-23/2024-11-22_10-03-23_camBR.h5\n",
      "/home/yiting/Documents/Analysis/2024-11-22/anipose/pose_2d_filter/2024-11-22_10-03-23/2024-11-22_10-03-23_camTL.h5\n",
      "/home/yiting/Documents/Analysis/2024-11-22/anipose/pose_2d_filter/2024-11-22_10-03-23/2024-11-22_10-03-23_camTR.h5\n",
      "/home/yiting/Documents/Analysis/2024-11-22/anipose/pose_2d_filter/2024-11-22_10-03-23/2024-11-22_10-03-23_camTo.h5\n",
      "/home/yiting/Documents/Analysis/2024-11-22/anipose/pose_2d_filter/2024-11-22_10-03-34/2024-11-22_10-03-34_camBL.h5\n",
      "/home/yiting/Documents/Analysis/2024-11-22/anipose/pose_2d_filter/2024-11-22_10-03-34/2024-11-22_10-03-34_camBR.h5\n",
      "/home/yiting/Documents/Analysis/2024-11-22/anipose/pose_2d_filter/2024-11-22_10-03-34/2024-11-22_10-03-34_camTL.h5\n",
      "/home/yiting/Documents/Analysis/2024-11-22/anipose/pose_2d_filter/2024-11-22_10-03-34/2024-11-22_10-03-34_camTR.h5\n",
      "/home/yiting/Documents/Analysis/2024-11-22/anipose/pose_2d_filter/2024-11-22_10-03-34/2024-11-22_10-03-34_camTo.h5\n",
      "/home/yiting/Documents/Analysis/2024-11-22/anipose/pose_2d_filter/2024-11-22_10-03-47/2024-11-22_10-03-47_camBL.h5\n",
      "/home/yiting/Documents/Analysis/2024-11-22/anipose/pose_2d_filter/2024-11-22_10-03-47/2024-11-22_10-03-47_camBR.h5\n",
      "/home/yiting/Documents/Analysis/2024-11-22/anipose/pose_2d_filter/2024-11-22_10-03-47/2024-11-22_10-03-47_camTL.h5\n",
      "/home/yiting/Documents/Analysis/2024-11-22/anipose/pose_2d_filter/2024-11-22_10-03-47/2024-11-22_10-03-47_camTR.h5\n",
      "/home/yiting/Documents/Analysis/2024-11-22/anipose/pose_2d_filter/2024-11-22_10-03-47/2024-11-22_10-03-47_camTo.h5\n",
      "/home/yiting/Documents/Analysis/2024-11-22/anipose/pose_2d_filter/2024-11-22_10-04-00/2024-11-22_10-04-00_camBL.h5\n",
      "/home/yiting/Documents/Analysis/2024-11-22/anipose/pose_2d_filter/2024-11-22_10-04-00/2024-11-22_10-04-00_camBR.h5\n",
      "/home/yiting/Documents/Analysis/2024-11-22/anipose/pose_2d_filter/2024-11-22_10-04-00/2024-11-22_10-04-00_camTL.h5\n",
      "/home/yiting/Documents/Analysis/2024-11-22/anipose/pose_2d_filter/2024-11-22_10-04-00/2024-11-22_10-04-00_camTR.h5\n",
      "/home/yiting/Documents/Analysis/2024-11-22/anipose/pose_2d_filter/2024-11-22_10-04-00/2024-11-22_10-04-00_camTo.h5\n",
      "/home/yiting/Documents/Analysis/2024-11-22/anipose/pose_2d_filter/2024-11-22_10-04-12/2024-11-22_10-04-12_camBL.h5\n",
      "/home/yiting/Documents/Analysis/2024-11-22/anipose/pose_2d_filter/2024-11-22_10-04-12/2024-11-22_10-04-12_camBR.h5\n",
      "/home/yiting/Documents/Analysis/2024-11-22/anipose/pose_2d_filter/2024-11-22_10-04-12/2024-11-22_10-04-12_camTL.h5\n",
      "/home/yiting/Documents/Analysis/2024-11-22/anipose/pose_2d_filter/2024-11-22_10-04-12/2024-11-22_10-04-12_camTR.h5\n",
      "/home/yiting/Documents/Analysis/2024-11-22/anipose/pose_2d_filter/2024-11-22_10-04-12/2024-11-22_10-04-12_camTo.h5\n",
      "/home/yiting/Documents/Analysis/2024-11-22/anipose/pose_2d_filter/2024-11-22_10-04-24/2024-11-22_10-04-24_camBL.h5\n",
      "/home/yiting/Documents/Analysis/2024-11-22/anipose/pose_2d_filter/2024-11-22_10-04-24/2024-11-22_10-04-24_camBR.h5\n",
      "/home/yiting/Documents/Analysis/2024-11-22/anipose/pose_2d_filter/2024-11-22_10-04-24/2024-11-22_10-04-24_camTL.h5\n",
      "/home/yiting/Documents/Analysis/2024-11-22/anipose/pose_2d_filter/2024-11-22_10-04-24/2024-11-22_10-04-24_camTR.h5\n",
      "/home/yiting/Documents/Analysis/2024-11-22/anipose/pose_2d_filter/2024-11-22_10-04-24/2024-11-22_10-04-24_camTo.h5\n",
      "/home/yiting/Documents/Analysis/2024-11-22/anipose/pose_2d_filter/2024-11-22_10-04-38/2024-11-22_10-04-38_camBL.h5\n",
      "/home/yiting/Documents/Analysis/2024-11-22/anipose/pose_2d_filter/2024-11-22_10-04-38/2024-11-22_10-04-38_camBR.h5\n",
      "/home/yiting/Documents/Analysis/2024-11-22/anipose/pose_2d_filter/2024-11-22_10-04-38/2024-11-22_10-04-38_camTL.h5\n",
      "/home/yiting/Documents/Analysis/2024-11-22/anipose/pose_2d_filter/2024-11-22_10-04-38/2024-11-22_10-04-38_camTR.h5\n",
      "/home/yiting/Documents/Analysis/2024-11-22/anipose/pose_2d_filter/2024-11-22_10-04-38/2024-11-22_10-04-38_camTo.h5\n",
      "/home/yiting/Documents/Analysis/2024-11-22/anipose/pose_2d_filter/2024-11-22_10-04-50/2024-11-22_10-04-50_camBL.h5\n",
      "/home/yiting/Documents/Analysis/2024-11-22/anipose/pose_2d_filter/2024-11-22_10-04-50/2024-11-22_10-04-50_camBR.h5\n",
      "/home/yiting/Documents/Analysis/2024-11-22/anipose/pose_2d_filter/2024-11-22_10-04-50/2024-11-22_10-04-50_camTL.h5\n",
      "/home/yiting/Documents/Analysis/2024-11-22/anipose/pose_2d_filter/2024-11-22_10-04-50/2024-11-22_10-04-50_camTR.h5\n",
      "/home/yiting/Documents/Analysis/2024-11-22/anipose/pose_2d_filter/2024-11-22_10-04-50/2024-11-22_10-04-50_camTo.h5\n",
      "/home/yiting/Documents/Analysis/2024-11-22/anipose/pose_2d_filter/2024-11-22_10-05-04/2024-11-22_10-05-04_camBL.h5\n",
      "/home/yiting/Documents/Analysis/2024-11-22/anipose/pose_2d_filter/2024-11-22_10-05-04/2024-11-22_10-05-04_camBR.h5\n",
      "/home/yiting/Documents/Analysis/2024-11-22/anipose/pose_2d_filter/2024-11-22_10-05-04/2024-11-22_10-05-04_camTL.h5\n",
      "/home/yiting/Documents/Analysis/2024-11-22/anipose/pose_2d_filter/2024-11-22_10-05-04/2024-11-22_10-05-04_camTR.h5\n",
      "/home/yiting/Documents/Analysis/2024-11-22/anipose/pose_2d_filter/2024-11-22_10-05-04/2024-11-22_10-05-04_camTo.h5\n",
      "/home/yiting/Documents/Analysis/2024-11-22/anipose/pose_2d_filter/2024-11-22_10-05-18/2024-11-22_10-05-18_camBL.h5\n",
      "/home/yiting/Documents/Analysis/2024-11-22/anipose/pose_2d_filter/2024-11-22_10-05-18/2024-11-22_10-05-18_camBR.h5\n",
      "/home/yiting/Documents/Analysis/2024-11-22/anipose/pose_2d_filter/2024-11-22_10-05-18/2024-11-22_10-05-18_camTL.h5\n",
      "/home/yiting/Documents/Analysis/2024-11-22/anipose/pose_2d_filter/2024-11-22_10-05-18/2024-11-22_10-05-18_camTR.h5\n",
      "/home/yiting/Documents/Analysis/2024-11-22/anipose/pose_2d_filter/2024-11-22_10-05-18/2024-11-22_10-05-18_camTo.h5\n",
      "/home/yiting/Documents/Analysis/2024-11-22/anipose/pose_2d_filter/2024-11-22_10-05-32/2024-11-22_10-05-32_camBL.h5\n",
      "/home/yiting/Documents/Analysis/2024-11-22/anipose/pose_2d_filter/2024-11-22_10-05-32/2024-11-22_10-05-32_camBR.h5\n",
      "/home/yiting/Documents/Analysis/2024-11-22/anipose/pose_2d_filter/2024-11-22_10-05-32/2024-11-22_10-05-32_camTL.h5\n",
      "/home/yiting/Documents/Analysis/2024-11-22/anipose/pose_2d_filter/2024-11-22_10-05-32/2024-11-22_10-05-32_camTR.h5\n",
      "/home/yiting/Documents/Analysis/2024-11-22/anipose/pose_2d_filter/2024-11-22_10-05-32/2024-11-22_10-05-32_camTo.h5\n",
      "/home/yiting/Documents/Analysis/2024-11-22/anipose/pose_2d_filter/2024-11-22_10-05-46/2024-11-22_10-05-46_camBL.h5\n",
      "/home/yiting/Documents/Analysis/2024-11-22/anipose/pose_2d_filter/2024-11-22_10-05-46/2024-11-22_10-05-46_camBR.h5\n",
      "/home/yiting/Documents/Analysis/2024-11-22/anipose/pose_2d_filter/2024-11-22_10-05-46/2024-11-22_10-05-46_camTL.h5\n",
      "/home/yiting/Documents/Analysis/2024-11-22/anipose/pose_2d_filter/2024-11-22_10-05-46/2024-11-22_10-05-46_camTR.h5\n",
      "/home/yiting/Documents/Analysis/2024-11-22/anipose/pose_2d_filter/2024-11-22_10-05-46/2024-11-22_10-05-46_camTo.h5\n",
      "/home/yiting/Documents/Analysis/2024-11-22/anipose/pose_2d_filter/2024-11-22_10-06-00/2024-11-22_10-06-00_camBL.h5\n",
      "/home/yiting/Documents/Analysis/2024-11-22/anipose/pose_2d_filter/2024-11-22_10-06-00/2024-11-22_10-06-00_camBR.h5\n",
      "/home/yiting/Documents/Analysis/2024-11-22/anipose/pose_2d_filter/2024-11-22_10-06-00/2024-11-22_10-06-00_camTL.h5\n",
      "/home/yiting/Documents/Analysis/2024-11-22/anipose/pose_2d_filter/2024-11-22_10-06-00/2024-11-22_10-06-00_camTR.h5\n",
      "/home/yiting/Documents/Analysis/2024-11-22/anipose/pose_2d_filter/2024-11-22_10-06-00/2024-11-22_10-06-00_camTo.h5\n",
      "/home/yiting/Documents/Analysis/2024-11-22/anipose/pose_2d_filter/2024-11-22_10-06-12/2024-11-22_10-06-12_camBL.h5\n",
      "/home/yiting/Documents/Analysis/2024-11-22/anipose/pose_2d_filter/2024-11-22_10-06-12/2024-11-22_10-06-12_camBR.h5\n",
      "/home/yiting/Documents/Analysis/2024-11-22/anipose/pose_2d_filter/2024-11-22_10-06-12/2024-11-22_10-06-12_camTL.h5\n",
      "/home/yiting/Documents/Analysis/2024-11-22/anipose/pose_2d_filter/2024-11-22_10-06-12/2024-11-22_10-06-12_camTR.h5\n",
      "/home/yiting/Documents/Analysis/2024-11-22/anipose/pose_2d_filter/2024-11-22_10-06-12/2024-11-22_10-06-12_camTo.h5\n",
      "/home/yiting/Documents/Analysis/2024-11-22/anipose/pose_2d_filter/2024-11-22_10-06-26/2024-11-22_10-06-26_camBL.h5\n",
      "/home/yiting/Documents/Analysis/2024-11-22/anipose/pose_2d_filter/2024-11-22_10-06-26/2024-11-22_10-06-26_camBR.h5\n",
      "/home/yiting/Documents/Analysis/2024-11-22/anipose/pose_2d_filter/2024-11-22_10-06-26/2024-11-22_10-06-26_camTL.h5\n",
      "/home/yiting/Documents/Analysis/2024-11-22/anipose/pose_2d_filter/2024-11-22_10-06-26/2024-11-22_10-06-26_camTR.h5\n",
      "/home/yiting/Documents/Analysis/2024-11-22/anipose/pose_2d_filter/2024-11-22_10-06-26/2024-11-22_10-06-26_camTo.h5\n",
      "/home/yiting/Documents/Analysis/2024-11-22/anipose/pose_2d_filter/2024-11-22_10-06-40/2024-11-22_10-06-40_camBL.h5\n",
      "/home/yiting/Documents/Analysis/2024-11-22/anipose/pose_2d_filter/2024-11-22_10-06-40/2024-11-22_10-06-40_camBR.h5\n",
      "/home/yiting/Documents/Analysis/2024-11-22/anipose/pose_2d_filter/2024-11-22_10-06-40/2024-11-22_10-06-40_camTL.h5\n",
      "/home/yiting/Documents/Analysis/2024-11-22/anipose/pose_2d_filter/2024-11-22_10-06-40/2024-11-22_10-06-40_camTR.h5\n",
      "/home/yiting/Documents/Analysis/2024-11-22/anipose/pose_2d_filter/2024-11-22_10-06-40/2024-11-22_10-06-40_camTo.h5\n",
      "/home/yiting/Documents/Analysis/2024-11-22/anipose/pose_2d_filter/2024-11-22_10-06-51/2024-11-22_10-06-51_camBL.h5\n",
      "/home/yiting/Documents/Analysis/2024-11-22/anipose/pose_2d_filter/2024-11-22_10-06-51/2024-11-22_10-06-51_camBR.h5\n",
      "/home/yiting/Documents/Analysis/2024-11-22/anipose/pose_2d_filter/2024-11-22_10-06-51/2024-11-22_10-06-51_camTL.h5\n",
      "/home/yiting/Documents/Analysis/2024-11-22/anipose/pose_2d_filter/2024-11-22_10-06-51/2024-11-22_10-06-51_camTR.h5\n",
      "/home/yiting/Documents/Analysis/2024-11-22/anipose/pose_2d_filter/2024-11-22_10-06-51/2024-11-22_10-06-51_camTo.h5\n",
      "/home/yiting/Documents/Analysis/2024-11-22/anipose/pose_2d_filter/2024-11-22_10-07-05/2024-11-22_10-07-05_camBL.h5\n",
      "/home/yiting/Documents/Analysis/2024-11-22/anipose/pose_2d_filter/2024-11-22_10-07-05/2024-11-22_10-07-05_camBR.h5\n",
      "/home/yiting/Documents/Analysis/2024-11-22/anipose/pose_2d_filter/2024-11-22_10-07-05/2024-11-22_10-07-05_camTL.h5\n",
      "/home/yiting/Documents/Analysis/2024-11-22/anipose/pose_2d_filter/2024-11-22_10-07-05/2024-11-22_10-07-05_camTR.h5\n",
      "/home/yiting/Documents/Analysis/2024-11-22/anipose/pose_2d_filter/2024-11-22_10-07-05/2024-11-22_10-07-05_camTo.h5\n",
      "/home/yiting/Documents/Analysis/2024-11-22/anipose/pose_2d_filter/2024-11-22_10-07-19/2024-11-22_10-07-19_camBL.h5\n",
      "/home/yiting/Documents/Analysis/2024-11-22/anipose/pose_2d_filter/2024-11-22_10-07-19/2024-11-22_10-07-19_camBR.h5\n",
      "/home/yiting/Documents/Analysis/2024-11-22/anipose/pose_2d_filter/2024-11-22_10-07-19/2024-11-22_10-07-19_camTL.h5\n",
      "/home/yiting/Documents/Analysis/2024-11-22/anipose/pose_2d_filter/2024-11-22_10-07-19/2024-11-22_10-07-19_camTR.h5\n",
      "/home/yiting/Documents/Analysis/2024-11-22/anipose/pose_2d_filter/2024-11-22_10-07-19/2024-11-22_10-07-19_camTo.h5\n",
      "/home/yiting/Documents/Analysis/2024-11-22/anipose/pose_2d_filter/2024-11-22_10-07-33/2024-11-22_10-07-33_camBL.h5\n",
      "/home/yiting/Documents/Analysis/2024-11-22/anipose/pose_2d_filter/2024-11-22_10-07-33/2024-11-22_10-07-33_camBR.h5\n",
      "/home/yiting/Documents/Analysis/2024-11-22/anipose/pose_2d_filter/2024-11-22_10-07-33/2024-11-22_10-07-33_camTL.h5\n",
      "/home/yiting/Documents/Analysis/2024-11-22/anipose/pose_2d_filter/2024-11-22_10-07-33/2024-11-22_10-07-33_camTR.h5\n",
      "/home/yiting/Documents/Analysis/2024-11-22/anipose/pose_2d_filter/2024-11-22_10-07-33/2024-11-22_10-07-33_camTo.h5\n",
      "/home/yiting/Documents/Analysis/2024-11-22/anipose/pose_2d_filter/2024-11-22_10-07-46/2024-11-22_10-07-46_camBL.h5\n",
      "/home/yiting/Documents/Analysis/2024-11-22/anipose/pose_2d_filter/2024-11-22_10-07-46/2024-11-22_10-07-46_camBR.h5\n",
      "/home/yiting/Documents/Analysis/2024-11-22/anipose/pose_2d_filter/2024-11-22_10-07-46/2024-11-22_10-07-46_camTL.h5\n",
      "/home/yiting/Documents/Analysis/2024-11-22/anipose/pose_2d_filter/2024-11-22_10-07-46/2024-11-22_10-07-46_camTR.h5\n",
      "/home/yiting/Documents/Analysis/2024-11-22/anipose/pose_2d_filter/2024-11-22_10-07-46/2024-11-22_10-07-46_camTo.h5\n",
      "/home/yiting/Documents/Analysis/2024-11-22/anipose/pose_2d_filter/2024-11-22_10-07-58/2024-11-22_10-07-58_camBL.h5\n",
      "/home/yiting/Documents/Analysis/2024-11-22/anipose/pose_2d_filter/2024-11-22_10-07-58/2024-11-22_10-07-58_camBR.h5\n",
      "/home/yiting/Documents/Analysis/2024-11-22/anipose/pose_2d_filter/2024-11-22_10-07-58/2024-11-22_10-07-58_camTL.h5\n",
      "/home/yiting/Documents/Analysis/2024-11-22/anipose/pose_2d_filter/2024-11-22_10-07-58/2024-11-22_10-07-58_camTR.h5\n",
      "/home/yiting/Documents/Analysis/2024-11-22/anipose/pose_2d_filter/2024-11-22_10-07-58/2024-11-22_10-07-58_camTo.h5\n",
      "/home/yiting/Documents/Analysis/2024-11-22/anipose/pose_2d_filter/2024-11-22_10-08-11/2024-11-22_10-08-11_camBL.h5\n",
      "/home/yiting/Documents/Analysis/2024-11-22/anipose/pose_2d_filter/2024-11-22_10-08-11/2024-11-22_10-08-11_camBR.h5\n",
      "/home/yiting/Documents/Analysis/2024-11-22/anipose/pose_2d_filter/2024-11-22_10-08-11/2024-11-22_10-08-11_camTL.h5\n",
      "/home/yiting/Documents/Analysis/2024-11-22/anipose/pose_2d_filter/2024-11-22_10-08-11/2024-11-22_10-08-11_camTR.h5\n",
      "/home/yiting/Documents/Analysis/2024-11-22/anipose/pose_2d_filter/2024-11-22_10-08-11/2024-11-22_10-08-11_camTo.h5\n",
      "/home/yiting/Documents/Analysis/2024-11-22/anipose/pose_2d_filter/2024-11-22_10-08-23/2024-11-22_10-08-23_camBL.h5\n",
      "/home/yiting/Documents/Analysis/2024-11-22/anipose/pose_2d_filter/2024-11-22_10-08-23/2024-11-22_10-08-23_camBR.h5\n",
      "/home/yiting/Documents/Analysis/2024-11-22/anipose/pose_2d_filter/2024-11-22_10-08-23/2024-11-22_10-08-23_camTL.h5\n",
      "/home/yiting/Documents/Analysis/2024-11-22/anipose/pose_2d_filter/2024-11-22_10-08-23/2024-11-22_10-08-23_camTR.h5\n",
      "/home/yiting/Documents/Analysis/2024-11-22/anipose/pose_2d_filter/2024-11-22_10-08-23/2024-11-22_10-08-23_camTo.h5\n",
      "/home/yiting/Documents/Analysis/2024-11-22/anipose/pose_2d_filter/2024-11-22_10-08-36/2024-11-22_10-08-36_camBL.h5\n",
      "/home/yiting/Documents/Analysis/2024-11-22/anipose/pose_2d_filter/2024-11-22_10-08-36/2024-11-22_10-08-36_camBR.h5\n",
      "/home/yiting/Documents/Analysis/2024-11-22/anipose/pose_2d_filter/2024-11-22_10-08-36/2024-11-22_10-08-36_camTL.h5\n",
      "/home/yiting/Documents/Analysis/2024-11-22/anipose/pose_2d_filter/2024-11-22_10-08-36/2024-11-22_10-08-36_camTR.h5\n",
      "/home/yiting/Documents/Analysis/2024-11-22/anipose/pose_2d_filter/2024-11-22_10-08-36/2024-11-22_10-08-36_camTo.h5\n",
      "/home/yiting/Documents/Analysis/2024-11-22/anipose/pose_2d_filter/2024-11-22_10-08-49/2024-11-22_10-08-49_camBL.h5\n",
      "/home/yiting/Documents/Analysis/2024-11-22/anipose/pose_2d_filter/2024-11-22_10-08-49/2024-11-22_10-08-49_camBR.h5\n",
      "/home/yiting/Documents/Analysis/2024-11-22/anipose/pose_2d_filter/2024-11-22_10-08-49/2024-11-22_10-08-49_camTL.h5\n",
      "/home/yiting/Documents/Analysis/2024-11-22/anipose/pose_2d_filter/2024-11-22_10-08-49/2024-11-22_10-08-49_camTR.h5\n",
      "/home/yiting/Documents/Analysis/2024-11-22/anipose/pose_2d_filter/2024-11-22_10-08-49/2024-11-22_10-08-49_camTo.h5\n",
      "/home/yiting/Documents/Analysis/2024-11-22/anipose/pose_2d_filter/2024-11-22_10-09-02/2024-11-22_10-09-02_camBL.h5\n",
      "/home/yiting/Documents/Analysis/2024-11-22/anipose/pose_2d_filter/2024-11-22_10-09-02/2024-11-22_10-09-02_camBR.h5\n",
      "/home/yiting/Documents/Analysis/2024-11-22/anipose/pose_2d_filter/2024-11-22_10-09-02/2024-11-22_10-09-02_camTL.h5\n",
      "/home/yiting/Documents/Analysis/2024-11-22/anipose/pose_2d_filter/2024-11-22_10-09-02/2024-11-22_10-09-02_camTR.h5\n",
      "/home/yiting/Documents/Analysis/2024-11-22/anipose/pose_2d_filter/2024-11-22_10-09-02/2024-11-22_10-09-02_camTo.h5\n",
      "/home/yiting/Documents/Analysis/2024-11-22/anipose/pose_2d_filter/2024-11-22_10-09-18/2024-11-22_10-09-18_camBL.h5\n",
      "/home/yiting/Documents/Analysis/2024-11-22/anipose/pose_2d_filter/2024-11-22_10-09-18/2024-11-22_10-09-18_camBR.h5\n",
      "/home/yiting/Documents/Analysis/2024-11-22/anipose/pose_2d_filter/2024-11-22_10-09-18/2024-11-22_10-09-18_camTL.h5\n",
      "/home/yiting/Documents/Analysis/2024-11-22/anipose/pose_2d_filter/2024-11-22_10-09-18/2024-11-22_10-09-18_camTR.h5\n",
      "/home/yiting/Documents/Analysis/2024-11-22/anipose/pose_2d_filter/2024-11-22_10-09-18/2024-11-22_10-09-18_camTo.h5\n",
      "/home/yiting/Documents/Analysis/2024-11-22/anipose/pose_2d_filter/2024-11-22_10-09-31/2024-11-22_10-09-31_camBL.h5\n",
      "/home/yiting/Documents/Analysis/2024-11-22/anipose/pose_2d_filter/2024-11-22_10-09-31/2024-11-22_10-09-31_camBR.h5\n",
      "/home/yiting/Documents/Analysis/2024-11-22/anipose/pose_2d_filter/2024-11-22_10-09-31/2024-11-22_10-09-31_camTL.h5\n",
      "/home/yiting/Documents/Analysis/2024-11-22/anipose/pose_2d_filter/2024-11-22_10-09-31/2024-11-22_10-09-31_camTR.h5\n",
      "/home/yiting/Documents/Analysis/2024-11-22/anipose/pose_2d_filter/2024-11-22_10-09-31/2024-11-22_10-09-31_camTo.h5\n",
      "/home/yiting/Documents/Analysis/2024-11-22/anipose/pose_2d_filter/2024-11-22_10-09-43/2024-11-22_10-09-43_camBL.h5\n",
      "/home/yiting/Documents/Analysis/2024-11-22/anipose/pose_2d_filter/2024-11-22_10-09-43/2024-11-22_10-09-43_camBR.h5\n",
      "/home/yiting/Documents/Analysis/2024-11-22/anipose/pose_2d_filter/2024-11-22_10-09-43/2024-11-22_10-09-43_camTL.h5\n",
      "/home/yiting/Documents/Analysis/2024-11-22/anipose/pose_2d_filter/2024-11-22_10-09-43/2024-11-22_10-09-43_camTR.h5\n",
      "/home/yiting/Documents/Analysis/2024-11-22/anipose/pose_2d_filter/2024-11-22_10-09-43/2024-11-22_10-09-43_camTo.h5\n",
      "/home/yiting/Documents/Analysis/2024-11-22/anipose/pose_2d_filter/2024-11-22_10-09-57/2024-11-22_10-09-57_camBL.h5\n",
      "/home/yiting/Documents/Analysis/2024-11-22/anipose/pose_2d_filter/2024-11-22_10-09-57/2024-11-22_10-09-57_camBR.h5\n",
      "/home/yiting/Documents/Analysis/2024-11-22/anipose/pose_2d_filter/2024-11-22_10-09-57/2024-11-22_10-09-57_camTL.h5\n",
      "/home/yiting/Documents/Analysis/2024-11-22/anipose/pose_2d_filter/2024-11-22_10-09-57/2024-11-22_10-09-57_camTR.h5\n",
      "/home/yiting/Documents/Analysis/2024-11-22/anipose/pose_2d_filter/2024-11-22_10-09-57/2024-11-22_10-09-57_camTo.h5\n",
      "/home/yiting/Documents/Analysis/2024-11-22/anipose/pose_2d_filter/2024-11-22_10-10-09/2024-11-22_10-10-09_camBL.h5\n",
      "/home/yiting/Documents/Analysis/2024-11-22/anipose/pose_2d_filter/2024-11-22_10-10-09/2024-11-22_10-10-09_camBR.h5\n",
      "/home/yiting/Documents/Analysis/2024-11-22/anipose/pose_2d_filter/2024-11-22_10-10-09/2024-11-22_10-10-09_camTL.h5\n",
      "/home/yiting/Documents/Analysis/2024-11-22/anipose/pose_2d_filter/2024-11-22_10-10-09/2024-11-22_10-10-09_camTR.h5\n",
      "/home/yiting/Documents/Analysis/2024-11-22/anipose/pose_2d_filter/2024-11-22_10-10-09/2024-11-22_10-10-09_camTo.h5\n",
      "/home/yiting/Documents/Analysis/2024-11-22/anipose/pose_2d_filter/2024-11-22_10-10-24/2024-11-22_10-10-24_camBL.h5\n",
      "/home/yiting/Documents/Analysis/2024-11-22/anipose/pose_2d_filter/2024-11-22_10-10-24/2024-11-22_10-10-24_camBR.h5\n",
      "/home/yiting/Documents/Analysis/2024-11-22/anipose/pose_2d_filter/2024-11-22_10-10-24/2024-11-22_10-10-24_camTL.h5\n",
      "/home/yiting/Documents/Analysis/2024-11-22/anipose/pose_2d_filter/2024-11-22_10-10-24/2024-11-22_10-10-24_camTR.h5\n",
      "/home/yiting/Documents/Analysis/2024-11-22/anipose/pose_2d_filter/2024-11-22_10-10-24/2024-11-22_10-10-24_camTo.h5\n",
      "/home/yiting/Documents/Analysis/2024-11-22/anipose/pose_2d_filter/2024-11-22_10-10-38/2024-11-22_10-10-38_camBL.h5\n",
      "/home/yiting/Documents/Analysis/2024-11-22/anipose/pose_2d_filter/2024-11-22_10-10-38/2024-11-22_10-10-38_camBR.h5\n",
      "/home/yiting/Documents/Analysis/2024-11-22/anipose/pose_2d_filter/2024-11-22_10-10-38/2024-11-22_10-10-38_camTL.h5\n",
      "/home/yiting/Documents/Analysis/2024-11-22/anipose/pose_2d_filter/2024-11-22_10-10-38/2024-11-22_10-10-38_camTR.h5\n",
      "/home/yiting/Documents/Analysis/2024-11-22/anipose/pose_2d_filter/2024-11-22_10-10-38/2024-11-22_10-10-38_camTo.h5\n",
      "/home/yiting/Documents/Analysis/2024-11-22/anipose/pose_2d_filter/2024-11-22_10-10-51/2024-11-22_10-10-51_camBL.h5\n",
      "/home/yiting/Documents/Analysis/2024-11-22/anipose/pose_2d_filter/2024-11-22_10-10-51/2024-11-22_10-10-51_camBR.h5\n",
      "/home/yiting/Documents/Analysis/2024-11-22/anipose/pose_2d_filter/2024-11-22_10-10-51/2024-11-22_10-10-51_camTL.h5\n",
      "/home/yiting/Documents/Analysis/2024-11-22/anipose/pose_2d_filter/2024-11-22_10-10-51/2024-11-22_10-10-51_camTR.h5\n",
      "/home/yiting/Documents/Analysis/2024-11-22/anipose/pose_2d_filter/2024-11-22_10-10-51/2024-11-22_10-10-51_camTo.h5\n",
      "/home/yiting/Documents/Analysis/2024-11-22/anipose/pose_2d_filter/2024-11-22_10-11-05/2024-11-22_10-11-05_camBL.h5\n",
      "/home/yiting/Documents/Analysis/2024-11-22/anipose/pose_2d_filter/2024-11-22_10-11-05/2024-11-22_10-11-05_camBR.h5\n",
      "/home/yiting/Documents/Analysis/2024-11-22/anipose/pose_2d_filter/2024-11-22_10-11-05/2024-11-22_10-11-05_camTL.h5\n",
      "/home/yiting/Documents/Analysis/2024-11-22/anipose/pose_2d_filter/2024-11-22_10-11-05/2024-11-22_10-11-05_camTR.h5\n",
      "/home/yiting/Documents/Analysis/2024-11-22/anipose/pose_2d_filter/2024-11-22_10-11-05/2024-11-22_10-11-05_camTo.h5\n",
      "/home/yiting/Documents/Analysis/2024-11-22/anipose/pose_2d_filter/2024-11-22_10-11-19/2024-11-22_10-11-19_camBL.h5\n",
      "/home/yiting/Documents/Analysis/2024-11-22/anipose/pose_2d_filter/2024-11-22_10-11-19/2024-11-22_10-11-19_camBR.h5\n",
      "/home/yiting/Documents/Analysis/2024-11-22/anipose/pose_2d_filter/2024-11-22_10-11-19/2024-11-22_10-11-19_camTL.h5\n",
      "/home/yiting/Documents/Analysis/2024-11-22/anipose/pose_2d_filter/2024-11-22_10-11-19/2024-11-22_10-11-19_camTR.h5\n",
      "/home/yiting/Documents/Analysis/2024-11-22/anipose/pose_2d_filter/2024-11-22_10-11-19/2024-11-22_10-11-19_camTo.h5\n",
      "/home/yiting/Documents/Analysis/2024-11-22/anipose/pose_2d_filter/2024-11-22_10-11-33/2024-11-22_10-11-33_camBL.h5\n",
      "/home/yiting/Documents/Analysis/2024-11-22/anipose/pose_2d_filter/2024-11-22_10-11-33/2024-11-22_10-11-33_camBR.h5\n",
      "/home/yiting/Documents/Analysis/2024-11-22/anipose/pose_2d_filter/2024-11-22_10-11-33/2024-11-22_10-11-33_camTL.h5\n",
      "/home/yiting/Documents/Analysis/2024-11-22/anipose/pose_2d_filter/2024-11-22_10-11-33/2024-11-22_10-11-33_camTR.h5\n",
      "/home/yiting/Documents/Analysis/2024-11-22/anipose/pose_2d_filter/2024-11-22_10-11-33/2024-11-22_10-11-33_camTo.h5\n",
      "/home/yiting/Documents/Analysis/2024-11-22/anipose/pose_2d_filter/2024-11-22_10-11-45/2024-11-22_10-11-45_camBL.h5\n",
      "/home/yiting/Documents/Analysis/2024-11-22/anipose/pose_2d_filter/2024-11-22_10-11-45/2024-11-22_10-11-45_camBR.h5\n",
      "/home/yiting/Documents/Analysis/2024-11-22/anipose/pose_2d_filter/2024-11-22_10-11-45/2024-11-22_10-11-45_camTL.h5\n",
      "/home/yiting/Documents/Analysis/2024-11-22/anipose/pose_2d_filter/2024-11-22_10-11-45/2024-11-22_10-11-45_camTR.h5\n",
      "/home/yiting/Documents/Analysis/2024-11-22/anipose/pose_2d_filter/2024-11-22_10-11-45/2024-11-22_10-11-45_camTo.h5\n",
      "/home/yiting/Documents/Analysis/2024-11-22/anipose/pose_2d_filter/2024-11-22_10-11-58/2024-11-22_10-11-58_camBL.h5\n",
      "/home/yiting/Documents/Analysis/2024-11-22/anipose/pose_2d_filter/2024-11-22_10-11-58/2024-11-22_10-11-58_camBR.h5\n",
      "/home/yiting/Documents/Analysis/2024-11-22/anipose/pose_2d_filter/2024-11-22_10-11-58/2024-11-22_10-11-58_camTL.h5\n",
      "/home/yiting/Documents/Analysis/2024-11-22/anipose/pose_2d_filter/2024-11-22_10-11-58/2024-11-22_10-11-58_camTR.h5\n",
      "/home/yiting/Documents/Analysis/2024-11-22/anipose/pose_2d_filter/2024-11-22_10-11-58/2024-11-22_10-11-58_camTo.h5\n",
      "/home/yiting/Documents/Analysis/2024-11-22/anipose/pose_2d_filter/2024-11-22_10-12-11/2024-11-22_10-12-11_camBL.h5\n",
      "/home/yiting/Documents/Analysis/2024-11-22/anipose/pose_2d_filter/2024-11-22_10-12-11/2024-11-22_10-12-11_camBR.h5\n",
      "/home/yiting/Documents/Analysis/2024-11-22/anipose/pose_2d_filter/2024-11-22_10-12-11/2024-11-22_10-12-11_camTL.h5\n",
      "/home/yiting/Documents/Analysis/2024-11-22/anipose/pose_2d_filter/2024-11-22_10-12-11/2024-11-22_10-12-11_camTR.h5\n",
      "/home/yiting/Documents/Analysis/2024-11-22/anipose/pose_2d_filter/2024-11-22_10-12-11/2024-11-22_10-12-11_camTo.h5\n",
      "/home/yiting/Documents/Analysis/2024-11-22/anipose/pose_2d_filter/2024-11-22_10-12-25/2024-11-22_10-12-25_camBL.h5\n",
      "/home/yiting/Documents/Analysis/2024-11-22/anipose/pose_2d_filter/2024-11-22_10-12-25/2024-11-22_10-12-25_camBR.h5\n",
      "/home/yiting/Documents/Analysis/2024-11-22/anipose/pose_2d_filter/2024-11-22_10-12-25/2024-11-22_10-12-25_camTL.h5\n",
      "/home/yiting/Documents/Analysis/2024-11-22/anipose/pose_2d_filter/2024-11-22_10-12-25/2024-11-22_10-12-25_camTR.h5\n",
      "/home/yiting/Documents/Analysis/2024-11-22/anipose/pose_2d_filter/2024-11-22_10-12-25/2024-11-22_10-12-25_camTo.h5\n",
      "/home/yiting/Documents/Analysis/2024-11-22/anipose/pose_2d_filter/2024-11-22_10-12-37/2024-11-22_10-12-37_camBL.h5\n",
      "/home/yiting/Documents/Analysis/2024-11-22/anipose/pose_2d_filter/2024-11-22_10-12-37/2024-11-22_10-12-37_camBR.h5\n",
      "/home/yiting/Documents/Analysis/2024-11-22/anipose/pose_2d_filter/2024-11-22_10-12-37/2024-11-22_10-12-37_camTL.h5\n",
      "/home/yiting/Documents/Analysis/2024-11-22/anipose/pose_2d_filter/2024-11-22_10-12-37/2024-11-22_10-12-37_camTR.h5\n",
      "/home/yiting/Documents/Analysis/2024-11-22/anipose/pose_2d_filter/2024-11-22_10-12-37/2024-11-22_10-12-37_camTo.h5\n",
      "/home/yiting/Documents/Analysis/2024-11-22/anipose/pose_2d_filter/2024-11-22_10-12-49/2024-11-22_10-12-49_camBL.h5\n",
      "/home/yiting/Documents/Analysis/2024-11-22/anipose/pose_2d_filter/2024-11-22_10-12-49/2024-11-22_10-12-49_camBR.h5\n",
      "/home/yiting/Documents/Analysis/2024-11-22/anipose/pose_2d_filter/2024-11-22_10-12-49/2024-11-22_10-12-49_camTL.h5\n",
      "/home/yiting/Documents/Analysis/2024-11-22/anipose/pose_2d_filter/2024-11-22_10-12-49/2024-11-22_10-12-49_camTR.h5\n",
      "/home/yiting/Documents/Analysis/2024-11-22/anipose/pose_2d_filter/2024-11-22_10-12-49/2024-11-22_10-12-49_camTo.h5\n",
      "/home/yiting/Documents/Analysis/2024-11-22/anipose/pose_2d_filter/2024-11-22_10-13-03/2024-11-22_10-13-03_camBL.h5\n",
      "/home/yiting/Documents/Analysis/2024-11-22/anipose/pose_2d_filter/2024-11-22_10-13-03/2024-11-22_10-13-03_camBR.h5\n",
      "/home/yiting/Documents/Analysis/2024-11-22/anipose/pose_2d_filter/2024-11-22_10-13-03/2024-11-22_10-13-03_camTL.h5\n",
      "/home/yiting/Documents/Analysis/2024-11-22/anipose/pose_2d_filter/2024-11-22_10-13-03/2024-11-22_10-13-03_camTR.h5\n",
      "/home/yiting/Documents/Analysis/2024-11-22/anipose/pose_2d_filter/2024-11-22_10-13-03/2024-11-22_10-13-03_camTo.h5\n",
      "/home/yiting/Documents/Analysis/2024-11-22/anipose/pose_2d_filter/2024-11-22_10-13-14/2024-11-22_10-13-14_camBL.h5\n",
      "/home/yiting/Documents/Analysis/2024-11-22/anipose/pose_2d_filter/2024-11-22_10-13-14/2024-11-22_10-13-14_camBR.h5\n",
      "/home/yiting/Documents/Analysis/2024-11-22/anipose/pose_2d_filter/2024-11-22_10-13-14/2024-11-22_10-13-14_camTL.h5\n",
      "/home/yiting/Documents/Analysis/2024-11-22/anipose/pose_2d_filter/2024-11-22_10-13-14/2024-11-22_10-13-14_camTR.h5\n",
      "/home/yiting/Documents/Analysis/2024-11-22/anipose/pose_2d_filter/2024-11-22_10-13-14/2024-11-22_10-13-14_camTo.h5\n",
      "/home/yiting/Documents/Analysis/2024-11-22/anipose/pose_2d_filter/2024-11-22_10-13-28/2024-11-22_10-13-28_camBL.h5\n",
      "/home/yiting/Documents/Analysis/2024-11-22/anipose/pose_2d_filter/2024-11-22_10-13-28/2024-11-22_10-13-28_camBR.h5\n",
      "/home/yiting/Documents/Analysis/2024-11-22/anipose/pose_2d_filter/2024-11-22_10-13-28/2024-11-22_10-13-28_camTL.h5\n",
      "/home/yiting/Documents/Analysis/2024-11-22/anipose/pose_2d_filter/2024-11-22_10-13-28/2024-11-22_10-13-28_camTR.h5\n",
      "/home/yiting/Documents/Analysis/2024-11-22/anipose/pose_2d_filter/2024-11-22_10-13-28/2024-11-22_10-13-28_camTo.h5\n",
      "/home/yiting/Documents/Analysis/2024-11-22/anipose/pose_2d_filter/2024-11-22_10-13-40/2024-11-22_10-13-40_camBL.h5\n",
      "/home/yiting/Documents/Analysis/2024-11-22/anipose/pose_2d_filter/2024-11-22_10-13-40/2024-11-22_10-13-40_camBR.h5\n",
      "/home/yiting/Documents/Analysis/2024-11-22/anipose/pose_2d_filter/2024-11-22_10-13-40/2024-11-22_10-13-40_camTL.h5\n",
      "/home/yiting/Documents/Analysis/2024-11-22/anipose/pose_2d_filter/2024-11-22_10-13-40/2024-11-22_10-13-40_camTR.h5\n",
      "/home/yiting/Documents/Analysis/2024-11-22/anipose/pose_2d_filter/2024-11-22_10-13-40/2024-11-22_10-13-40_camTo.h5\n",
      "/home/yiting/Documents/Analysis/2024-11-22/anipose/pose_2d_filter/2024-11-22_10-13-53/2024-11-22_10-13-53_camBL.h5\n",
      "/home/yiting/Documents/Analysis/2024-11-22/anipose/pose_2d_filter/2024-11-22_10-13-53/2024-11-22_10-13-53_camBR.h5\n",
      "/home/yiting/Documents/Analysis/2024-11-22/anipose/pose_2d_filter/2024-11-22_10-13-53/2024-11-22_10-13-53_camTL.h5\n",
      "/home/yiting/Documents/Analysis/2024-11-22/anipose/pose_2d_filter/2024-11-22_10-13-53/2024-11-22_10-13-53_camTR.h5\n",
      "/home/yiting/Documents/Analysis/2024-11-22/anipose/pose_2d_filter/2024-11-22_10-13-53/2024-11-22_10-13-53_camTo.h5\n",
      "/home/yiting/Documents/Analysis/2024-11-22/anipose/pose_2d_filter/2024-11-22_10-14-05/2024-11-22_10-14-05_camBL.h5\n",
      "/home/yiting/Documents/Analysis/2024-11-22/anipose/pose_2d_filter/2024-11-22_10-14-05/2024-11-22_10-14-05_camBR.h5\n",
      "/home/yiting/Documents/Analysis/2024-11-22/anipose/pose_2d_filter/2024-11-22_10-14-05/2024-11-22_10-14-05_camTL.h5\n",
      "/home/yiting/Documents/Analysis/2024-11-22/anipose/pose_2d_filter/2024-11-22_10-14-05/2024-11-22_10-14-05_camTR.h5\n",
      "/home/yiting/Documents/Analysis/2024-11-22/anipose/pose_2d_filter/2024-11-22_10-14-05/2024-11-22_10-14-05_camTo.h5\n",
      "/home/yiting/Documents/Analysis/2024-11-22/anipose/pose_2d_filter/2024-11-22_10-14-19/2024-11-22_10-14-19_camBL.h5\n",
      "/home/yiting/Documents/Analysis/2024-11-22/anipose/pose_2d_filter/2024-11-22_10-14-19/2024-11-22_10-14-19_camBR.h5\n",
      "/home/yiting/Documents/Analysis/2024-11-22/anipose/pose_2d_filter/2024-11-22_10-14-19/2024-11-22_10-14-19_camTL.h5\n",
      "/home/yiting/Documents/Analysis/2024-11-22/anipose/pose_2d_filter/2024-11-22_10-14-19/2024-11-22_10-14-19_camTR.h5\n",
      "/home/yiting/Documents/Analysis/2024-11-22/anipose/pose_2d_filter/2024-11-22_10-14-19/2024-11-22_10-14-19_camTo.h5\n",
      "/home/yiting/Documents/Analysis/2024-11-22/anipose/pose_2d_filter/2024-11-22_10-14-32/2024-11-22_10-14-32_camBL.h5\n",
      "/home/yiting/Documents/Analysis/2024-11-22/anipose/pose_2d_filter/2024-11-22_10-14-32/2024-11-22_10-14-32_camBR.h5\n",
      "/home/yiting/Documents/Analysis/2024-11-22/anipose/pose_2d_filter/2024-11-22_10-14-32/2024-11-22_10-14-32_camTL.h5\n",
      "/home/yiting/Documents/Analysis/2024-11-22/anipose/pose_2d_filter/2024-11-22_10-14-32/2024-11-22_10-14-32_camTR.h5\n",
      "/home/yiting/Documents/Analysis/2024-11-22/anipose/pose_2d_filter/2024-11-22_10-14-32/2024-11-22_10-14-32_camTo.h5\n",
      "/home/yiting/Documents/Analysis/2024-11-22/anipose/pose_2d_filter/2024-11-22_10-14-46/2024-11-22_10-14-46_camBL.h5\n",
      "/home/yiting/Documents/Analysis/2024-11-22/anipose/pose_2d_filter/2024-11-22_10-14-46/2024-11-22_10-14-46_camBR.h5\n",
      "/home/yiting/Documents/Analysis/2024-11-22/anipose/pose_2d_filter/2024-11-22_10-14-46/2024-11-22_10-14-46_camTL.h5\n",
      "/home/yiting/Documents/Analysis/2024-11-22/anipose/pose_2d_filter/2024-11-22_10-14-46/2024-11-22_10-14-46_camTR.h5\n",
      "/home/yiting/Documents/Analysis/2024-11-22/anipose/pose_2d_filter/2024-11-22_10-14-46/2024-11-22_10-14-46_camTo.h5\n",
      "/home/yiting/Documents/Analysis/2024-11-22/anipose/pose_2d_filter/2024-11-22_10-15-00/2024-11-22_10-15-00_camBL.h5\n",
      "/home/yiting/Documents/Analysis/2024-11-22/anipose/pose_2d_filter/2024-11-22_10-15-00/2024-11-22_10-15-00_camBR.h5\n",
      "/home/yiting/Documents/Analysis/2024-11-22/anipose/pose_2d_filter/2024-11-22_10-15-00/2024-11-22_10-15-00_camTL.h5\n",
      "/home/yiting/Documents/Analysis/2024-11-22/anipose/pose_2d_filter/2024-11-22_10-15-00/2024-11-22_10-15-00_camTR.h5\n",
      "/home/yiting/Documents/Analysis/2024-11-22/anipose/pose_2d_filter/2024-11-22_10-15-00/2024-11-22_10-15-00_camTo.h5\n",
      "/home/yiting/Documents/Analysis/2024-11-22/anipose/pose_2d_filter/2024-11-22_10-15-14/2024-11-22_10-15-14_camBL.h5\n",
      "/home/yiting/Documents/Analysis/2024-11-22/anipose/pose_2d_filter/2024-11-22_10-15-14/2024-11-22_10-15-14_camBR.h5\n",
      "/home/yiting/Documents/Analysis/2024-11-22/anipose/pose_2d_filter/2024-11-22_10-15-14/2024-11-22_10-15-14_camTL.h5\n",
      "/home/yiting/Documents/Analysis/2024-11-22/anipose/pose_2d_filter/2024-11-22_10-15-14/2024-11-22_10-15-14_camTR.h5\n",
      "/home/yiting/Documents/Analysis/2024-11-22/anipose/pose_2d_filter/2024-11-22_10-15-14/2024-11-22_10-15-14_camTo.h5\n",
      "/home/yiting/Documents/Analysis/2024-11-22/anipose/pose_2d_filter/2024-11-22_10-15-28/2024-11-22_10-15-28_camBL.h5\n",
      "/home/yiting/Documents/Analysis/2024-11-22/anipose/pose_2d_filter/2024-11-22_10-15-28/2024-11-22_10-15-28_camBR.h5\n",
      "/home/yiting/Documents/Analysis/2024-11-22/anipose/pose_2d_filter/2024-11-22_10-15-28/2024-11-22_10-15-28_camTL.h5\n",
      "/home/yiting/Documents/Analysis/2024-11-22/anipose/pose_2d_filter/2024-11-22_10-15-28/2024-11-22_10-15-28_camTR.h5\n",
      "/home/yiting/Documents/Analysis/2024-11-22/anipose/pose_2d_filter/2024-11-22_10-15-28/2024-11-22_10-15-28_camTo.h5\n",
      "/home/yiting/Documents/Analysis/2024-11-22/anipose/pose_2d_filter/2024-11-22_10-15-42/2024-11-22_10-15-42_camBL.h5\n",
      "/home/yiting/Documents/Analysis/2024-11-22/anipose/pose_2d_filter/2024-11-22_10-15-42/2024-11-22_10-15-42_camBR.h5\n",
      "/home/yiting/Documents/Analysis/2024-11-22/anipose/pose_2d_filter/2024-11-22_10-15-42/2024-11-22_10-15-42_camTL.h5\n",
      "/home/yiting/Documents/Analysis/2024-11-22/anipose/pose_2d_filter/2024-11-22_10-15-42/2024-11-22_10-15-42_camTR.h5\n",
      "/home/yiting/Documents/Analysis/2024-11-22/anipose/pose_2d_filter/2024-11-22_10-15-42/2024-11-22_10-15-42_camTo.h5\n",
      "/home/yiting/Documents/Analysis/2024-11-22/anipose/pose_2d_filter/2024-11-22_10-15-53/2024-11-22_10-15-53_camBL.h5\n",
      "/home/yiting/Documents/Analysis/2024-11-22/anipose/pose_2d_filter/2024-11-22_10-15-53/2024-11-22_10-15-53_camBR.h5\n",
      "/home/yiting/Documents/Analysis/2024-11-22/anipose/pose_2d_filter/2024-11-22_10-15-53/2024-11-22_10-15-53_camTL.h5\n",
      "/home/yiting/Documents/Analysis/2024-11-22/anipose/pose_2d_filter/2024-11-22_10-15-53/2024-11-22_10-15-53_camTR.h5\n",
      "/home/yiting/Documents/Analysis/2024-11-22/anipose/pose_2d_filter/2024-11-22_10-15-53/2024-11-22_10-15-53_camTo.h5\n",
      "/home/yiting/Documents/Analysis/2024-11-22/anipose/pose_2d_filter/2024-11-22_10-16-07/2024-11-22_10-16-07_camBL.h5\n",
      "/home/yiting/Documents/Analysis/2024-11-22/anipose/pose_2d_filter/2024-11-22_10-16-07/2024-11-22_10-16-07_camBR.h5\n",
      "/home/yiting/Documents/Analysis/2024-11-22/anipose/pose_2d_filter/2024-11-22_10-16-07/2024-11-22_10-16-07_camTL.h5\n",
      "/home/yiting/Documents/Analysis/2024-11-22/anipose/pose_2d_filter/2024-11-22_10-16-07/2024-11-22_10-16-07_camTR.h5\n",
      "/home/yiting/Documents/Analysis/2024-11-22/anipose/pose_2d_filter/2024-11-22_10-16-07/2024-11-22_10-16-07_camTo.h5\n",
      "/home/yiting/Documents/Analysis/2024-11-22/anipose/pose_2d_filter/2024-11-22_10-16-20/2024-11-22_10-16-20_camBL.h5\n",
      "/home/yiting/Documents/Analysis/2024-11-22/anipose/pose_2d_filter/2024-11-22_10-16-20/2024-11-22_10-16-20_camBR.h5\n",
      "/home/yiting/Documents/Analysis/2024-11-22/anipose/pose_2d_filter/2024-11-22_10-16-20/2024-11-22_10-16-20_camTL.h5\n",
      "/home/yiting/Documents/Analysis/2024-11-22/anipose/pose_2d_filter/2024-11-22_10-16-20/2024-11-22_10-16-20_camTR.h5\n",
      "/home/yiting/Documents/Analysis/2024-11-22/anipose/pose_2d_filter/2024-11-22_10-16-20/2024-11-22_10-16-20_camTo.h5\n",
      "/home/yiting/Documents/Analysis/2024-11-22/anipose/pose_2d_filter/2024-11-22_10-16-35/2024-11-22_10-16-35_camBL.h5\n",
      "/home/yiting/Documents/Analysis/2024-11-22/anipose/pose_2d_filter/2024-11-22_10-16-35/2024-11-22_10-16-35_camBR.h5\n",
      "/home/yiting/Documents/Analysis/2024-11-22/anipose/pose_2d_filter/2024-11-22_10-16-35/2024-11-22_10-16-35_camTL.h5\n",
      "/home/yiting/Documents/Analysis/2024-11-22/anipose/pose_2d_filter/2024-11-22_10-16-35/2024-11-22_10-16-35_camTR.h5\n",
      "/home/yiting/Documents/Analysis/2024-11-22/anipose/pose_2d_filter/2024-11-22_10-16-35/2024-11-22_10-16-35_camTo.h5\n",
      "/home/yiting/Documents/Analysis/2024-11-22/anipose/pose_2d_filter/2024-11-22_10-16-50/2024-11-22_10-16-50_camBL.h5\n",
      "/home/yiting/Documents/Analysis/2024-11-22/anipose/pose_2d_filter/2024-11-22_10-16-50/2024-11-22_10-16-50_camBR.h5\n",
      "/home/yiting/Documents/Analysis/2024-11-22/anipose/pose_2d_filter/2024-11-22_10-16-50/2024-11-22_10-16-50_camTL.h5\n",
      "/home/yiting/Documents/Analysis/2024-11-22/anipose/pose_2d_filter/2024-11-22_10-16-50/2024-11-22_10-16-50_camTR.h5\n",
      "/home/yiting/Documents/Analysis/2024-11-22/anipose/pose_2d_filter/2024-11-22_10-16-50/2024-11-22_10-16-50_camTo.h5\n",
      "/home/yiting/Documents/Analysis/2024-11-22/anipose/pose_2d_filter/2024-11-22_10-17-03/2024-11-22_10-17-03_camBL.h5\n",
      "/home/yiting/Documents/Analysis/2024-11-22/anipose/pose_2d_filter/2024-11-22_10-17-03/2024-11-22_10-17-03_camBR.h5\n",
      "/home/yiting/Documents/Analysis/2024-11-22/anipose/pose_2d_filter/2024-11-22_10-17-03/2024-11-22_10-17-03_camTL.h5\n",
      "/home/yiting/Documents/Analysis/2024-11-22/anipose/pose_2d_filter/2024-11-22_10-17-03/2024-11-22_10-17-03_camTR.h5\n",
      "/home/yiting/Documents/Analysis/2024-11-22/anipose/pose_2d_filter/2024-11-22_10-17-03/2024-11-22_10-17-03_camTo.h5\n",
      "/home/yiting/Documents/Analysis/2024-11-22/anipose/pose_2d_filter/2024-11-22_10-17-16/2024-11-22_10-17-16_camBL.h5\n",
      "/home/yiting/Documents/Analysis/2024-11-22/anipose/pose_2d_filter/2024-11-22_10-17-16/2024-11-22_10-17-16_camBR.h5\n",
      "/home/yiting/Documents/Analysis/2024-11-22/anipose/pose_2d_filter/2024-11-22_10-17-16/2024-11-22_10-17-16_camTL.h5\n",
      "/home/yiting/Documents/Analysis/2024-11-22/anipose/pose_2d_filter/2024-11-22_10-17-16/2024-11-22_10-17-16_camTR.h5\n",
      "/home/yiting/Documents/Analysis/2024-11-22/anipose/pose_2d_filter/2024-11-22_10-17-16/2024-11-22_10-17-16_camTo.h5\n",
      "/home/yiting/Documents/Analysis/2024-11-22/anipose/pose_2d_filter/2024-11-22_10-17-28/2024-11-22_10-17-28_camBL.h5\n",
      "/home/yiting/Documents/Analysis/2024-11-22/anipose/pose_2d_filter/2024-11-22_10-17-28/2024-11-22_10-17-28_camBR.h5\n",
      "/home/yiting/Documents/Analysis/2024-11-22/anipose/pose_2d_filter/2024-11-22_10-17-28/2024-11-22_10-17-28_camTL.h5\n",
      "/home/yiting/Documents/Analysis/2024-11-22/anipose/pose_2d_filter/2024-11-22_10-17-28/2024-11-22_10-17-28_camTR.h5\n",
      "/home/yiting/Documents/Analysis/2024-11-22/anipose/pose_2d_filter/2024-11-22_10-17-28/2024-11-22_10-17-28_camTo.h5\n",
      "/home/yiting/Documents/Analysis/2024-11-22/anipose/pose_2d_filter/2024-11-22_10-17-41/2024-11-22_10-17-41_camBL.h5\n",
      "/home/yiting/Documents/Analysis/2024-11-22/anipose/pose_2d_filter/2024-11-22_10-17-41/2024-11-22_10-17-41_camBR.h5\n",
      "/home/yiting/Documents/Analysis/2024-11-22/anipose/pose_2d_filter/2024-11-22_10-17-41/2024-11-22_10-17-41_camTL.h5\n",
      "/home/yiting/Documents/Analysis/2024-11-22/anipose/pose_2d_filter/2024-11-22_10-17-41/2024-11-22_10-17-41_camTR.h5\n",
      "/home/yiting/Documents/Analysis/2024-11-22/anipose/pose_2d_filter/2024-11-22_10-17-41/2024-11-22_10-17-41_camTo.h5\n",
      "/home/yiting/Documents/Analysis/2024-11-22/anipose/pose_2d_filter/2024-11-22_10-17-53/2024-11-22_10-17-53_camBL.h5\n",
      "/home/yiting/Documents/Analysis/2024-11-22/anipose/pose_2d_filter/2024-11-22_10-17-53/2024-11-22_10-17-53_camBR.h5\n",
      "/home/yiting/Documents/Analysis/2024-11-22/anipose/pose_2d_filter/2024-11-22_10-17-53/2024-11-22_10-17-53_camTL.h5\n",
      "/home/yiting/Documents/Analysis/2024-11-22/anipose/pose_2d_filter/2024-11-22_10-17-53/2024-11-22_10-17-53_camTR.h5\n",
      "/home/yiting/Documents/Analysis/2024-11-22/anipose/pose_2d_filter/2024-11-22_10-17-53/2024-11-22_10-17-53_camTo.h5\n",
      "/home/yiting/Documents/Analysis/2024-11-22/anipose/pose_2d_filter/2024-11-22_10-18-07/2024-11-22_10-18-07_camBL.h5\n",
      "/home/yiting/Documents/Analysis/2024-11-22/anipose/pose_2d_filter/2024-11-22_10-18-07/2024-11-22_10-18-07_camBR.h5\n",
      "/home/yiting/Documents/Analysis/2024-11-22/anipose/pose_2d_filter/2024-11-22_10-18-07/2024-11-22_10-18-07_camTL.h5\n",
      "/home/yiting/Documents/Analysis/2024-11-22/anipose/pose_2d_filter/2024-11-22_10-18-07/2024-11-22_10-18-07_camTR.h5\n",
      "/home/yiting/Documents/Analysis/2024-11-22/anipose/pose_2d_filter/2024-11-22_10-18-07/2024-11-22_10-18-07_camTo.h5\n",
      "/home/yiting/Documents/Analysis/2024-11-22/anipose/pose_2d_filter/2024-11-22_10-18-21/2024-11-22_10-18-21_camBL.h5\n",
      "/home/yiting/Documents/Analysis/2024-11-22/anipose/pose_2d_filter/2024-11-22_10-18-21/2024-11-22_10-18-21_camBR.h5\n",
      "/home/yiting/Documents/Analysis/2024-11-22/anipose/pose_2d_filter/2024-11-22_10-18-21/2024-11-22_10-18-21_camTL.h5\n",
      "/home/yiting/Documents/Analysis/2024-11-22/anipose/pose_2d_filter/2024-11-22_10-18-21/2024-11-22_10-18-21_camTR.h5\n",
      "/home/yiting/Documents/Analysis/2024-11-22/anipose/pose_2d_filter/2024-11-22_10-18-21/2024-11-22_10-18-21_camTo.h5\n",
      "/home/yiting/Documents/Analysis/2024-11-22/anipose/pose_2d_filter/2024-11-22_10-18-34/2024-11-22_10-18-34_camBL.h5\n",
      "/home/yiting/Documents/Analysis/2024-11-22/anipose/pose_2d_filter/2024-11-22_10-18-34/2024-11-22_10-18-34_camBR.h5\n",
      "/home/yiting/Documents/Analysis/2024-11-22/anipose/pose_2d_filter/2024-11-22_10-18-34/2024-11-22_10-18-34_camTL.h5\n",
      "/home/yiting/Documents/Analysis/2024-11-22/anipose/pose_2d_filter/2024-11-22_10-18-34/2024-11-22_10-18-34_camTR.h5\n",
      "/home/yiting/Documents/Analysis/2024-11-22/anipose/pose_2d_filter/2024-11-22_10-18-34/2024-11-22_10-18-34_camTo.h5\n",
      "/home/yiting/Documents/Analysis/2024-11-22/anipose/pose_2d_filter/2024-11-22_10-18-48/2024-11-22_10-18-48_camBL.h5\n",
      "/home/yiting/Documents/Analysis/2024-11-22/anipose/pose_2d_filter/2024-11-22_10-18-48/2024-11-22_10-18-48_camBR.h5\n",
      "/home/yiting/Documents/Analysis/2024-11-22/anipose/pose_2d_filter/2024-11-22_10-18-48/2024-11-22_10-18-48_camTL.h5\n",
      "/home/yiting/Documents/Analysis/2024-11-22/anipose/pose_2d_filter/2024-11-22_10-18-48/2024-11-22_10-18-48_camTR.h5\n",
      "/home/yiting/Documents/Analysis/2024-11-22/anipose/pose_2d_filter/2024-11-22_10-18-48/2024-11-22_10-18-48_camTo.h5\n",
      "/home/yiting/Documents/Analysis/2024-11-22/anipose/pose_2d_filter/2024-11-22_10-19-02/2024-11-22_10-19-02_camBL.h5\n",
      "/home/yiting/Documents/Analysis/2024-11-22/anipose/pose_2d_filter/2024-11-22_10-19-02/2024-11-22_10-19-02_camBR.h5\n",
      "/home/yiting/Documents/Analysis/2024-11-22/anipose/pose_2d_filter/2024-11-22_10-19-02/2024-11-22_10-19-02_camTL.h5\n",
      "/home/yiting/Documents/Analysis/2024-11-22/anipose/pose_2d_filter/2024-11-22_10-19-02/2024-11-22_10-19-02_camTR.h5\n",
      "/home/yiting/Documents/Analysis/2024-11-22/anipose/pose_2d_filter/2024-11-22_10-19-02/2024-11-22_10-19-02_camTo.h5\n",
      "/home/yiting/Documents/Analysis/2024-11-22/anipose/pose_2d_filter/2024-11-22_10-19-14/2024-11-22_10-19-14_camBL.h5\n",
      "/home/yiting/Documents/Analysis/2024-11-22/anipose/pose_2d_filter/2024-11-22_10-19-14/2024-11-22_10-19-14_camBR.h5\n",
      "/home/yiting/Documents/Analysis/2024-11-22/anipose/pose_2d_filter/2024-11-22_10-19-14/2024-11-22_10-19-14_camTL.h5\n",
      "/home/yiting/Documents/Analysis/2024-11-22/anipose/pose_2d_filter/2024-11-22_10-19-14/2024-11-22_10-19-14_camTR.h5\n",
      "/home/yiting/Documents/Analysis/2024-11-22/anipose/pose_2d_filter/2024-11-22_10-19-14/2024-11-22_10-19-14_camTo.h5\n",
      "/home/yiting/Documents/Analysis/2024-11-22/anipose/pose_2d_filter/2024-11-22_10-19-27/2024-11-22_10-19-27_camBL.h5\n",
      "/home/yiting/Documents/Analysis/2024-11-22/anipose/pose_2d_filter/2024-11-22_10-19-27/2024-11-22_10-19-27_camBR.h5\n",
      "/home/yiting/Documents/Analysis/2024-11-22/anipose/pose_2d_filter/2024-11-22_10-19-27/2024-11-22_10-19-27_camTL.h5\n",
      "/home/yiting/Documents/Analysis/2024-11-22/anipose/pose_2d_filter/2024-11-22_10-19-27/2024-11-22_10-19-27_camTR.h5\n",
      "/home/yiting/Documents/Analysis/2024-11-22/anipose/pose_2d_filter/2024-11-22_10-19-27/2024-11-22_10-19-27_camTo.h5\n",
      "/home/yiting/Documents/Analysis/2024-11-22/anipose/pose_2d_filter/2024-11-22_10-19-41/2024-11-22_10-19-41_camBL.h5\n",
      "/home/yiting/Documents/Analysis/2024-11-22/anipose/pose_2d_filter/2024-11-22_10-19-41/2024-11-22_10-19-41_camBR.h5\n",
      "/home/yiting/Documents/Analysis/2024-11-22/anipose/pose_2d_filter/2024-11-22_10-19-41/2024-11-22_10-19-41_camTL.h5\n",
      "/home/yiting/Documents/Analysis/2024-11-22/anipose/pose_2d_filter/2024-11-22_10-19-41/2024-11-22_10-19-41_camTR.h5\n",
      "/home/yiting/Documents/Analysis/2024-11-22/anipose/pose_2d_filter/2024-11-22_10-19-41/2024-11-22_10-19-41_camTo.h5\n",
      "/home/yiting/Documents/Analysis/2024-11-22/anipose/pose_2d_filter/2024-11-22_10-19-57/2024-11-22_10-19-57_camBL.h5\n",
      "/home/yiting/Documents/Analysis/2024-11-22/anipose/pose_2d_filter/2024-11-22_10-19-57/2024-11-22_10-19-57_camBR.h5\n",
      "/home/yiting/Documents/Analysis/2024-11-22/anipose/pose_2d_filter/2024-11-22_10-19-57/2024-11-22_10-19-57_camTL.h5\n",
      "/home/yiting/Documents/Analysis/2024-11-22/anipose/pose_2d_filter/2024-11-22_10-19-57/2024-11-22_10-19-57_camTR.h5\n",
      "/home/yiting/Documents/Analysis/2024-11-22/anipose/pose_2d_filter/2024-11-22_10-19-57/2024-11-22_10-19-57_camTo.h5\n",
      "/home/yiting/Documents/Analysis/2024-11-22/anipose/pose_2d_filter/2024-11-22_10-20-11/2024-11-22_10-20-11_camBL.h5\n",
      "/home/yiting/Documents/Analysis/2024-11-22/anipose/pose_2d_filter/2024-11-22_10-20-11/2024-11-22_10-20-11_camBR.h5\n",
      "/home/yiting/Documents/Analysis/2024-11-22/anipose/pose_2d_filter/2024-11-22_10-20-11/2024-11-22_10-20-11_camTL.h5\n",
      "/home/yiting/Documents/Analysis/2024-11-22/anipose/pose_2d_filter/2024-11-22_10-20-11/2024-11-22_10-20-11_camTR.h5\n",
      "/home/yiting/Documents/Analysis/2024-11-22/anipose/pose_2d_filter/2024-11-22_10-20-11/2024-11-22_10-20-11_camTo.h5\n",
      "/home/yiting/Documents/Analysis/2024-11-22/anipose/pose_2d_filter/2024-11-22_10-20-24/2024-11-22_10-20-24_camBL.h5\n",
      "/home/yiting/Documents/Analysis/2024-11-22/anipose/pose_2d_filter/2024-11-22_10-20-24/2024-11-22_10-20-24_camBR.h5\n",
      "/home/yiting/Documents/Analysis/2024-11-22/anipose/pose_2d_filter/2024-11-22_10-20-24/2024-11-22_10-20-24_camTL.h5\n",
      "/home/yiting/Documents/Analysis/2024-11-22/anipose/pose_2d_filter/2024-11-22_10-20-24/2024-11-22_10-20-24_camTR.h5\n",
      "/home/yiting/Documents/Analysis/2024-11-22/anipose/pose_2d_filter/2024-11-22_10-20-24/2024-11-22_10-20-24_camTo.h5\n",
      "/home/yiting/Documents/Analysis/2024-11-22/anipose/pose_2d_filter/2024-11-22_10-20-37/2024-11-22_10-20-37_camBL.h5\n",
      "/home/yiting/Documents/Analysis/2024-11-22/anipose/pose_2d_filter/2024-11-22_10-20-37/2024-11-22_10-20-37_camBR.h5\n",
      "/home/yiting/Documents/Analysis/2024-11-22/anipose/pose_2d_filter/2024-11-22_10-20-37/2024-11-22_10-20-37_camTL.h5\n",
      "/home/yiting/Documents/Analysis/2024-11-22/anipose/pose_2d_filter/2024-11-22_10-20-37/2024-11-22_10-20-37_camTR.h5\n",
      "/home/yiting/Documents/Analysis/2024-11-22/anipose/pose_2d_filter/2024-11-22_10-20-37/2024-11-22_10-20-37_camTo.h5\n",
      "/home/yiting/Documents/Analysis/2024-11-22/anipose/pose_2d_filter/2024-11-22_10-20-50/2024-11-22_10-20-50_camBL.h5\n",
      "/home/yiting/Documents/Analysis/2024-11-22/anipose/pose_2d_filter/2024-11-22_10-20-50/2024-11-22_10-20-50_camBR.h5\n",
      "/home/yiting/Documents/Analysis/2024-11-22/anipose/pose_2d_filter/2024-11-22_10-20-50/2024-11-22_10-20-50_camTL.h5\n",
      "/home/yiting/Documents/Analysis/2024-11-22/anipose/pose_2d_filter/2024-11-22_10-20-50/2024-11-22_10-20-50_camTR.h5\n",
      "/home/yiting/Documents/Analysis/2024-11-22/anipose/pose_2d_filter/2024-11-22_10-20-50/2024-11-22_10-20-50_camTo.h5\n",
      "/home/yiting/Documents/Analysis/2024-11-22/anipose/pose_2d_filter/2024-11-22_10-21-01/2024-11-22_10-21-01_camBL.h5\n",
      "/home/yiting/Documents/Analysis/2024-11-22/anipose/pose_2d_filter/2024-11-22_10-21-01/2024-11-22_10-21-01_camBR.h5\n",
      "/home/yiting/Documents/Analysis/2024-11-22/anipose/pose_2d_filter/2024-11-22_10-21-01/2024-11-22_10-21-01_camTL.h5\n",
      "/home/yiting/Documents/Analysis/2024-11-22/anipose/pose_2d_filter/2024-11-22_10-21-01/2024-11-22_10-21-01_camTR.h5\n",
      "/home/yiting/Documents/Analysis/2024-11-22/anipose/pose_2d_filter/2024-11-22_10-21-01/2024-11-22_10-21-01_camTo.h5\n",
      "/home/yiting/Documents/Analysis/2024-11-22/anipose/pose_2d_filter/2024-11-22_10-21-14/2024-11-22_10-21-14_camBL.h5\n",
      "/home/yiting/Documents/Analysis/2024-11-22/anipose/pose_2d_filter/2024-11-22_10-21-14/2024-11-22_10-21-14_camBR.h5\n",
      "/home/yiting/Documents/Analysis/2024-11-22/anipose/pose_2d_filter/2024-11-22_10-21-14/2024-11-22_10-21-14_camTL.h5\n",
      "/home/yiting/Documents/Analysis/2024-11-22/anipose/pose_2d_filter/2024-11-22_10-21-14/2024-11-22_10-21-14_camTR.h5\n",
      "/home/yiting/Documents/Analysis/2024-11-22/anipose/pose_2d_filter/2024-11-22_10-21-14/2024-11-22_10-21-14_camTo.h5\n",
      "/home/yiting/Documents/Analysis/2024-11-22/anipose/pose_2d_filter/2024-11-22_10-21-29/2024-11-22_10-21-29_camBL.h5\n",
      "/home/yiting/Documents/Analysis/2024-11-22/anipose/pose_2d_filter/2024-11-22_10-21-29/2024-11-22_10-21-29_camBR.h5\n",
      "/home/yiting/Documents/Analysis/2024-11-22/anipose/pose_2d_filter/2024-11-22_10-21-29/2024-11-22_10-21-29_camTL.h5\n",
      "/home/yiting/Documents/Analysis/2024-11-22/anipose/pose_2d_filter/2024-11-22_10-21-29/2024-11-22_10-21-29_camTR.h5\n",
      "/home/yiting/Documents/Analysis/2024-11-22/anipose/pose_2d_filter/2024-11-22_10-21-29/2024-11-22_10-21-29_camTo.h5\n",
      "/home/yiting/Documents/Analysis/2024-11-22/anipose/pose_2d_filter/2024-11-22_10-21-44/2024-11-22_10-21-44_camBL.h5\n",
      "/home/yiting/Documents/Analysis/2024-11-22/anipose/pose_2d_filter/2024-11-22_10-21-44/2024-11-22_10-21-44_camBR.h5\n",
      "/home/yiting/Documents/Analysis/2024-11-22/anipose/pose_2d_filter/2024-11-22_10-21-44/2024-11-22_10-21-44_camTL.h5\n",
      "/home/yiting/Documents/Analysis/2024-11-22/anipose/pose_2d_filter/2024-11-22_10-21-44/2024-11-22_10-21-44_camTR.h5\n",
      "/home/yiting/Documents/Analysis/2024-11-22/anipose/pose_2d_filter/2024-11-22_10-21-44/2024-11-22_10-21-44_camTo.h5\n",
      "/home/yiting/Documents/Analysis/2024-11-22/anipose/pose_2d_filter/2024-11-22_10-21-57/2024-11-22_10-21-57_camBL.h5\n",
      "/home/yiting/Documents/Analysis/2024-11-22/anipose/pose_2d_filter/2024-11-22_10-21-57/2024-11-22_10-21-57_camBR.h5\n",
      "/home/yiting/Documents/Analysis/2024-11-22/anipose/pose_2d_filter/2024-11-22_10-21-57/2024-11-22_10-21-57_camTL.h5\n",
      "/home/yiting/Documents/Analysis/2024-11-22/anipose/pose_2d_filter/2024-11-22_10-21-57/2024-11-22_10-21-57_camTR.h5\n",
      "/home/yiting/Documents/Analysis/2024-11-22/anipose/pose_2d_filter/2024-11-22_10-21-57/2024-11-22_10-21-57_camTo.h5\n",
      "/home/yiting/Documents/Analysis/2024-11-22/anipose/pose_2d_filter/2024-11-22_10-22-09/2024-11-22_10-22-09_camBL.h5\n",
      "/home/yiting/Documents/Analysis/2024-11-22/anipose/pose_2d_filter/2024-11-22_10-22-09/2024-11-22_10-22-09_camBR.h5\n",
      "/home/yiting/Documents/Analysis/2024-11-22/anipose/pose_2d_filter/2024-11-22_10-22-09/2024-11-22_10-22-09_camTL.h5\n",
      "/home/yiting/Documents/Analysis/2024-11-22/anipose/pose_2d_filter/2024-11-22_10-22-09/2024-11-22_10-22-09_camTR.h5\n",
      "/home/yiting/Documents/Analysis/2024-11-22/anipose/pose_2d_filter/2024-11-22_10-22-09/2024-11-22_10-22-09_camTo.h5\n",
      "/home/yiting/Documents/Analysis/2024-11-22/anipose/pose_2d_filter/2024-11-22_10-22-20/2024-11-22_10-22-20_camBL.h5\n",
      "/home/yiting/Documents/Analysis/2024-11-22/anipose/pose_2d_filter/2024-11-22_10-22-20/2024-11-22_10-22-20_camBR.h5\n",
      "/home/yiting/Documents/Analysis/2024-11-22/anipose/pose_2d_filter/2024-11-22_10-22-20/2024-11-22_10-22-20_camTL.h5\n",
      "/home/yiting/Documents/Analysis/2024-11-22/anipose/pose_2d_filter/2024-11-22_10-22-20/2024-11-22_10-22-20_camTR.h5\n",
      "/home/yiting/Documents/Analysis/2024-11-22/anipose/pose_2d_filter/2024-11-22_10-22-20/2024-11-22_10-22-20_camTo.h5\n",
      "/home/yiting/Documents/Analysis/2024-11-22/anipose/pose_2d_filter/2024-11-22_10-22-30/2024-11-22_10-22-30_camBL.h5\n",
      "/home/yiting/Documents/Analysis/2024-11-22/anipose/pose_2d_filter/2024-11-22_10-22-30/2024-11-22_10-22-30_camBR.h5\n",
      "/home/yiting/Documents/Analysis/2024-11-22/anipose/pose_2d_filter/2024-11-22_10-22-30/2024-11-22_10-22-30_camTL.h5\n",
      "/home/yiting/Documents/Analysis/2024-11-22/anipose/pose_2d_filter/2024-11-22_10-22-30/2024-11-22_10-22-30_camTR.h5\n",
      "/home/yiting/Documents/Analysis/2024-11-22/anipose/pose_2d_filter/2024-11-22_10-22-30/2024-11-22_10-22-30_camTo.h5\n",
      "/home/yiting/Documents/Analysis/2024-11-22/anipose/pose_2d_filter/2024-11-22_10-22-40/2024-11-22_10-22-40_camBL.h5\n",
      "/home/yiting/Documents/Analysis/2024-11-22/anipose/pose_2d_filter/2024-11-22_10-22-40/2024-11-22_10-22-40_camBR.h5\n",
      "/home/yiting/Documents/Analysis/2024-11-22/anipose/pose_2d_filter/2024-11-22_10-22-40/2024-11-22_10-22-40_camTL.h5\n",
      "/home/yiting/Documents/Analysis/2024-11-22/anipose/pose_2d_filter/2024-11-22_10-22-40/2024-11-22_10-22-40_camTR.h5\n",
      "/home/yiting/Documents/Analysis/2024-11-22/anipose/pose_2d_filter/2024-11-22_10-22-40/2024-11-22_10-22-40_camTo.h5\n",
      "/home/yiting/Documents/Analysis/2024-11-22/anipose/pose_2d_filter/2024-11-22_10-22-51/2024-11-22_10-22-51_camBL.h5\n",
      "/home/yiting/Documents/Analysis/2024-11-22/anipose/pose_2d_filter/2024-11-22_10-22-51/2024-11-22_10-22-51_camBR.h5\n",
      "/home/yiting/Documents/Analysis/2024-11-22/anipose/pose_2d_filter/2024-11-22_10-22-51/2024-11-22_10-22-51_camTL.h5\n",
      "/home/yiting/Documents/Analysis/2024-11-22/anipose/pose_2d_filter/2024-11-22_10-22-51/2024-11-22_10-22-51_camTR.h5\n",
      "/home/yiting/Documents/Analysis/2024-11-22/anipose/pose_2d_filter/2024-11-22_10-22-51/2024-11-22_10-22-51_camTo.h5\n",
      "/home/yiting/Documents/Analysis/2024-11-22/anipose/pose_2d_filter/2024-11-22_10-23-01/2024-11-22_10-23-01_camBL.h5\n",
      "/home/yiting/Documents/Analysis/2024-11-22/anipose/pose_2d_filter/2024-11-22_10-23-01/2024-11-22_10-23-01_camBR.h5\n",
      "/home/yiting/Documents/Analysis/2024-11-22/anipose/pose_2d_filter/2024-11-22_10-23-01/2024-11-22_10-23-01_camTL.h5\n",
      "/home/yiting/Documents/Analysis/2024-11-22/anipose/pose_2d_filter/2024-11-22_10-23-01/2024-11-22_10-23-01_camTR.h5\n",
      "/home/yiting/Documents/Analysis/2024-11-22/anipose/pose_2d_filter/2024-11-22_10-23-01/2024-11-22_10-23-01_camTo.h5\n",
      "/home/yiting/Documents/Analysis/2024-11-22/anipose/pose_2d_filter/2024-11-22_10-23-12/2024-11-22_10-23-12_camBL.h5\n",
      "/home/yiting/Documents/Analysis/2024-11-22/anipose/pose_2d_filter/2024-11-22_10-23-12/2024-11-22_10-23-12_camBR.h5\n",
      "/home/yiting/Documents/Analysis/2024-11-22/anipose/pose_2d_filter/2024-11-22_10-23-12/2024-11-22_10-23-12_camTL.h5\n",
      "/home/yiting/Documents/Analysis/2024-11-22/anipose/pose_2d_filter/2024-11-22_10-23-12/2024-11-22_10-23-12_camTR.h5\n",
      "/home/yiting/Documents/Analysis/2024-11-22/anipose/pose_2d_filter/2024-11-22_10-23-12/2024-11-22_10-23-12_camTo.h5\n",
      "/home/yiting/Documents/Analysis/2024-11-22/anipose/pose_2d_filter/2024-11-22_10-23-22/2024-11-22_10-23-22_camBL.h5\n",
      "/home/yiting/Documents/Analysis/2024-11-22/anipose/pose_2d_filter/2024-11-22_10-23-22/2024-11-22_10-23-22_camBR.h5\n",
      "/home/yiting/Documents/Analysis/2024-11-22/anipose/pose_2d_filter/2024-11-22_10-23-22/2024-11-22_10-23-22_camTL.h5\n",
      "/home/yiting/Documents/Analysis/2024-11-22/anipose/pose_2d_filter/2024-11-22_10-23-22/2024-11-22_10-23-22_camTR.h5\n",
      "/home/yiting/Documents/Analysis/2024-11-22/anipose/pose_2d_filter/2024-11-22_10-23-22/2024-11-22_10-23-22_camTo.h5\n",
      "/home/yiting/Documents/Analysis/2024-11-22/anipose/pose_2d_filter/2024-11-22_10-23-32/2024-11-22_10-23-32_camBL.h5\n",
      "/home/yiting/Documents/Analysis/2024-11-22/anipose/pose_2d_filter/2024-11-22_10-23-32/2024-11-22_10-23-32_camBR.h5\n",
      "/home/yiting/Documents/Analysis/2024-11-22/anipose/pose_2d_filter/2024-11-22_10-23-32/2024-11-22_10-23-32_camTL.h5\n",
      "/home/yiting/Documents/Analysis/2024-11-22/anipose/pose_2d_filter/2024-11-22_10-23-32/2024-11-22_10-23-32_camTR.h5\n",
      "/home/yiting/Documents/Analysis/2024-11-22/anipose/pose_2d_filter/2024-11-22_10-23-32/2024-11-22_10-23-32_camTo.h5\n",
      "/home/yiting/Documents/Analysis/2024-11-22/anipose/pose_2d_filter/2024-11-22_10-23-42/2024-11-22_10-23-42_camBL.h5\n",
      "/home/yiting/Documents/Analysis/2024-11-22/anipose/pose_2d_filter/2024-11-22_10-23-42/2024-11-22_10-23-42_camBR.h5\n",
      "/home/yiting/Documents/Analysis/2024-11-22/anipose/pose_2d_filter/2024-11-22_10-23-42/2024-11-22_10-23-42_camTL.h5\n",
      "/home/yiting/Documents/Analysis/2024-11-22/anipose/pose_2d_filter/2024-11-22_10-23-42/2024-11-22_10-23-42_camTR.h5\n",
      "/home/yiting/Documents/Analysis/2024-11-22/anipose/pose_2d_filter/2024-11-22_10-23-42/2024-11-22_10-23-42_camTo.h5\n",
      "/home/yiting/Documents/Analysis/2024-11-22/anipose/pose_2d_filter/2024-11-22_10-23-53/2024-11-22_10-23-53_camBL.h5\n",
      "/home/yiting/Documents/Analysis/2024-11-22/anipose/pose_2d_filter/2024-11-22_10-23-53/2024-11-22_10-23-53_camBR.h5\n",
      "/home/yiting/Documents/Analysis/2024-11-22/anipose/pose_2d_filter/2024-11-22_10-23-53/2024-11-22_10-23-53_camTL.h5\n",
      "/home/yiting/Documents/Analysis/2024-11-22/anipose/pose_2d_filter/2024-11-22_10-23-53/2024-11-22_10-23-53_camTR.h5\n",
      "/home/yiting/Documents/Analysis/2024-11-22/anipose/pose_2d_filter/2024-11-22_10-23-53/2024-11-22_10-23-53_camTo.h5\n",
      "/home/yiting/Documents/Analysis/2024-11-22/anipose/pose_2d_filter/2024-11-22_10-34-32/2024-11-22_10-34-32_camBL.h5\n",
      "/home/yiting/Documents/Analysis/2024-11-22/anipose/pose_2d_filter/2024-11-22_10-34-32/2024-11-22_10-34-32_camBR.h5\n",
      "/home/yiting/Documents/Analysis/2024-11-22/anipose/pose_2d_filter/2024-11-22_10-34-32/2024-11-22_10-34-32_camTL.h5\n",
      "/home/yiting/Documents/Analysis/2024-11-22/anipose/pose_2d_filter/2024-11-22_10-34-32/2024-11-22_10-34-32_camTR.h5\n",
      "/home/yiting/Documents/Analysis/2024-11-22/anipose/pose_2d_filter/2024-11-22_10-34-32/2024-11-22_10-34-32_camTo.h5\n",
      "/home/yiting/Documents/Analysis/2024-11-22/anipose/pose_2d_filter/2024-11-22_10-34-42/2024-11-22_10-34-42_camBL.h5\n",
      "/home/yiting/Documents/Analysis/2024-11-22/anipose/pose_2d_filter/2024-11-22_10-34-42/2024-11-22_10-34-42_camBR.h5\n",
      "/home/yiting/Documents/Analysis/2024-11-22/anipose/pose_2d_filter/2024-11-22_10-34-42/2024-11-22_10-34-42_camTL.h5\n",
      "/home/yiting/Documents/Analysis/2024-11-22/anipose/pose_2d_filter/2024-11-22_10-34-42/2024-11-22_10-34-42_camTR.h5\n",
      "/home/yiting/Documents/Analysis/2024-11-22/anipose/pose_2d_filter/2024-11-22_10-34-42/2024-11-22_10-34-42_camTo.h5\n",
      "/home/yiting/Documents/Analysis/2024-11-22/anipose/pose_2d_filter/2024-11-22_10-34-54/2024-11-22_10-34-54_camBL.h5\n",
      "/home/yiting/Documents/Analysis/2024-11-22/anipose/pose_2d_filter/2024-11-22_10-34-54/2024-11-22_10-34-54_camBR.h5\n",
      "/home/yiting/Documents/Analysis/2024-11-22/anipose/pose_2d_filter/2024-11-22_10-34-54/2024-11-22_10-34-54_camTL.h5\n",
      "/home/yiting/Documents/Analysis/2024-11-22/anipose/pose_2d_filter/2024-11-22_10-34-54/2024-11-22_10-34-54_camTR.h5\n",
      "/home/yiting/Documents/Analysis/2024-11-22/anipose/pose_2d_filter/2024-11-22_10-34-54/2024-11-22_10-34-54_camTo.h5\n",
      "/home/yiting/Documents/Analysis/2024-11-22/anipose/pose_2d_filter/2024-11-22_10-35-08/2024-11-22_10-35-08_camBL.h5\n",
      "/home/yiting/Documents/Analysis/2024-11-22/anipose/pose_2d_filter/2024-11-22_10-35-08/2024-11-22_10-35-08_camBR.h5\n",
      "/home/yiting/Documents/Analysis/2024-11-22/anipose/pose_2d_filter/2024-11-22_10-35-08/2024-11-22_10-35-08_camTL.h5\n",
      "/home/yiting/Documents/Analysis/2024-11-22/anipose/pose_2d_filter/2024-11-22_10-35-08/2024-11-22_10-35-08_camTR.h5\n",
      "/home/yiting/Documents/Analysis/2024-11-22/anipose/pose_2d_filter/2024-11-22_10-35-08/2024-11-22_10-35-08_camTo.h5\n",
      "/home/yiting/Documents/Analysis/2024-11-22/anipose/pose_2d_filter/2024-11-22_10-35-22/2024-11-22_10-35-22_camBL.h5\n",
      "/home/yiting/Documents/Analysis/2024-11-22/anipose/pose_2d_filter/2024-11-22_10-35-22/2024-11-22_10-35-22_camBR.h5\n",
      "/home/yiting/Documents/Analysis/2024-11-22/anipose/pose_2d_filter/2024-11-22_10-35-22/2024-11-22_10-35-22_camTL.h5\n",
      "/home/yiting/Documents/Analysis/2024-11-22/anipose/pose_2d_filter/2024-11-22_10-35-22/2024-11-22_10-35-22_camTR.h5\n",
      "/home/yiting/Documents/Analysis/2024-11-22/anipose/pose_2d_filter/2024-11-22_10-35-22/2024-11-22_10-35-22_camTo.h5\n",
      "/home/yiting/Documents/Analysis/2024-11-22/anipose/pose_2d_filter/2024-11-22_10-35-36/2024-11-22_10-35-36_camBL.h5\n",
      "/home/yiting/Documents/Analysis/2024-11-22/anipose/pose_2d_filter/2024-11-22_10-35-36/2024-11-22_10-35-36_camBR.h5\n",
      "/home/yiting/Documents/Analysis/2024-11-22/anipose/pose_2d_filter/2024-11-22_10-35-36/2024-11-22_10-35-36_camTL.h5\n",
      "/home/yiting/Documents/Analysis/2024-11-22/anipose/pose_2d_filter/2024-11-22_10-35-36/2024-11-22_10-35-36_camTR.h5\n",
      "/home/yiting/Documents/Analysis/2024-11-22/anipose/pose_2d_filter/2024-11-22_10-35-36/2024-11-22_10-35-36_camTo.h5\n",
      "/home/yiting/Documents/Analysis/2024-11-22/anipose/pose_2d_filter/2024-11-22_10-35-51/2024-11-22_10-35-51_camBL.h5\n",
      "/home/yiting/Documents/Analysis/2024-11-22/anipose/pose_2d_filter/2024-11-22_10-35-51/2024-11-22_10-35-51_camBR.h5\n",
      "/home/yiting/Documents/Analysis/2024-11-22/anipose/pose_2d_filter/2024-11-22_10-35-51/2024-11-22_10-35-51_camTL.h5\n",
      "/home/yiting/Documents/Analysis/2024-11-22/anipose/pose_2d_filter/2024-11-22_10-35-51/2024-11-22_10-35-51_camTR.h5\n",
      "/home/yiting/Documents/Analysis/2024-11-22/anipose/pose_2d_filter/2024-11-22_10-35-51/2024-11-22_10-35-51_camTo.h5\n",
      "/home/yiting/Documents/Analysis/2024-11-22/anipose/pose_2d_filter/2024-11-22_10-36-03/2024-11-22_10-36-03_camBL.h5\n",
      "/home/yiting/Documents/Analysis/2024-11-22/anipose/pose_2d_filter/2024-11-22_10-36-03/2024-11-22_10-36-03_camBR.h5\n",
      "/home/yiting/Documents/Analysis/2024-11-22/anipose/pose_2d_filter/2024-11-22_10-36-03/2024-11-22_10-36-03_camTL.h5\n",
      "/home/yiting/Documents/Analysis/2024-11-22/anipose/pose_2d_filter/2024-11-22_10-36-03/2024-11-22_10-36-03_camTR.h5\n",
      "/home/yiting/Documents/Analysis/2024-11-22/anipose/pose_2d_filter/2024-11-22_10-36-03/2024-11-22_10-36-03_camTo.h5\n",
      "/home/yiting/Documents/Analysis/2024-11-22/anipose/pose_2d_filter/2024-11-22_10-36-18/2024-11-22_10-36-18_camBL.h5\n",
      "/home/yiting/Documents/Analysis/2024-11-22/anipose/pose_2d_filter/2024-11-22_10-36-18/2024-11-22_10-36-18_camBR.h5\n",
      "/home/yiting/Documents/Analysis/2024-11-22/anipose/pose_2d_filter/2024-11-22_10-36-18/2024-11-22_10-36-18_camTL.h5\n",
      "/home/yiting/Documents/Analysis/2024-11-22/anipose/pose_2d_filter/2024-11-22_10-36-18/2024-11-22_10-36-18_camTR.h5\n",
      "/home/yiting/Documents/Analysis/2024-11-22/anipose/pose_2d_filter/2024-11-22_10-36-18/2024-11-22_10-36-18_camTo.h5\n",
      "/home/yiting/Documents/Analysis/2024-11-22/anipose/pose_2d_filter/2024-11-22_10-36-32/2024-11-22_10-36-32_camBL.h5\n",
      "/home/yiting/Documents/Analysis/2024-11-22/anipose/pose_2d_filter/2024-11-22_10-36-32/2024-11-22_10-36-32_camBR.h5\n",
      "/home/yiting/Documents/Analysis/2024-11-22/anipose/pose_2d_filter/2024-11-22_10-36-32/2024-11-22_10-36-32_camTL.h5\n",
      "/home/yiting/Documents/Analysis/2024-11-22/anipose/pose_2d_filter/2024-11-22_10-36-32/2024-11-22_10-36-32_camTR.h5\n",
      "/home/yiting/Documents/Analysis/2024-11-22/anipose/pose_2d_filter/2024-11-22_10-36-32/2024-11-22_10-36-32_camTo.h5\n",
      "/home/yiting/Documents/Analysis/2024-11-22/anipose/pose_2d_filter/2024-11-22_10-36-46/2024-11-22_10-36-46_camBL.h5\n",
      "/home/yiting/Documents/Analysis/2024-11-22/anipose/pose_2d_filter/2024-11-22_10-36-46/2024-11-22_10-36-46_camBR.h5\n",
      "/home/yiting/Documents/Analysis/2024-11-22/anipose/pose_2d_filter/2024-11-22_10-36-46/2024-11-22_10-36-46_camTL.h5\n",
      "/home/yiting/Documents/Analysis/2024-11-22/anipose/pose_2d_filter/2024-11-22_10-36-46/2024-11-22_10-36-46_camTR.h5\n",
      "/home/yiting/Documents/Analysis/2024-11-22/anipose/pose_2d_filter/2024-11-22_10-36-46/2024-11-22_10-36-46_camTo.h5\n",
      "/home/yiting/Documents/Analysis/2024-11-22/anipose/pose_2d_filter/2024-11-22_10-36-58/2024-11-22_10-36-58_camBL.h5\n",
      "/home/yiting/Documents/Analysis/2024-11-22/anipose/pose_2d_filter/2024-11-22_10-36-58/2024-11-22_10-36-58_camBR.h5\n",
      "/home/yiting/Documents/Analysis/2024-11-22/anipose/pose_2d_filter/2024-11-22_10-36-58/2024-11-22_10-36-58_camTL.h5\n",
      "/home/yiting/Documents/Analysis/2024-11-22/anipose/pose_2d_filter/2024-11-22_10-36-58/2024-11-22_10-36-58_camTR.h5\n",
      "/home/yiting/Documents/Analysis/2024-11-22/anipose/pose_2d_filter/2024-11-22_10-36-58/2024-11-22_10-36-58_camTo.h5\n",
      "/home/yiting/Documents/Analysis/2024-11-22/anipose/pose_2d_filter/2024-11-22_10-37-10/2024-11-22_10-37-10_camBL.h5\n",
      "/home/yiting/Documents/Analysis/2024-11-22/anipose/pose_2d_filter/2024-11-22_10-37-10/2024-11-22_10-37-10_camBR.h5\n",
      "/home/yiting/Documents/Analysis/2024-11-22/anipose/pose_2d_filter/2024-11-22_10-37-10/2024-11-22_10-37-10_camTL.h5\n",
      "/home/yiting/Documents/Analysis/2024-11-22/anipose/pose_2d_filter/2024-11-22_10-37-10/2024-11-22_10-37-10_camTR.h5\n",
      "/home/yiting/Documents/Analysis/2024-11-22/anipose/pose_2d_filter/2024-11-22_10-37-10/2024-11-22_10-37-10_camTo.h5\n",
      "/home/yiting/Documents/Analysis/2024-11-22/anipose/pose_2d_filter/2024-11-22_10-37-24/2024-11-22_10-37-24_camBL.h5\n",
      "/home/yiting/Documents/Analysis/2024-11-22/anipose/pose_2d_filter/2024-11-22_10-37-24/2024-11-22_10-37-24_camBR.h5\n",
      "/home/yiting/Documents/Analysis/2024-11-22/anipose/pose_2d_filter/2024-11-22_10-37-24/2024-11-22_10-37-24_camTL.h5\n",
      "/home/yiting/Documents/Analysis/2024-11-22/anipose/pose_2d_filter/2024-11-22_10-37-24/2024-11-22_10-37-24_camTR.h5\n",
      "/home/yiting/Documents/Analysis/2024-11-22/anipose/pose_2d_filter/2024-11-22_10-37-24/2024-11-22_10-37-24_camTo.h5\n",
      "/home/yiting/Documents/Analysis/2024-11-22/anipose/pose_2d_filter/2024-11-22_10-37-38/2024-11-22_10-37-38_camBL.h5\n",
      "/home/yiting/Documents/Analysis/2024-11-22/anipose/pose_2d_filter/2024-11-22_10-37-38/2024-11-22_10-37-38_camBR.h5\n",
      "/home/yiting/Documents/Analysis/2024-11-22/anipose/pose_2d_filter/2024-11-22_10-37-38/2024-11-22_10-37-38_camTL.h5\n",
      "/home/yiting/Documents/Analysis/2024-11-22/anipose/pose_2d_filter/2024-11-22_10-37-38/2024-11-22_10-37-38_camTR.h5\n",
      "/home/yiting/Documents/Analysis/2024-11-22/anipose/pose_2d_filter/2024-11-22_10-37-38/2024-11-22_10-37-38_camTo.h5\n",
      "/home/yiting/Documents/Analysis/2024-11-22/anipose/pose_2d_filter/2024-11-22_10-37-52/2024-11-22_10-37-52_camBL.h5\n",
      "/home/yiting/Documents/Analysis/2024-11-22/anipose/pose_2d_filter/2024-11-22_10-37-52/2024-11-22_10-37-52_camBR.h5\n",
      "/home/yiting/Documents/Analysis/2024-11-22/anipose/pose_2d_filter/2024-11-22_10-37-52/2024-11-22_10-37-52_camTL.h5\n",
      "/home/yiting/Documents/Analysis/2024-11-22/anipose/pose_2d_filter/2024-11-22_10-37-52/2024-11-22_10-37-52_camTR.h5\n",
      "/home/yiting/Documents/Analysis/2024-11-22/anipose/pose_2d_filter/2024-11-22_10-37-52/2024-11-22_10-37-52_camTo.h5\n",
      "/home/yiting/Documents/Analysis/2024-11-22/anipose/pose_2d_filter/2024-11-22_10-38-06/2024-11-22_10-38-06_camBL.h5\n",
      "/home/yiting/Documents/Analysis/2024-11-22/anipose/pose_2d_filter/2024-11-22_10-38-06/2024-11-22_10-38-06_camBR.h5\n",
      "/home/yiting/Documents/Analysis/2024-11-22/anipose/pose_2d_filter/2024-11-22_10-38-06/2024-11-22_10-38-06_camTL.h5\n",
      "/home/yiting/Documents/Analysis/2024-11-22/anipose/pose_2d_filter/2024-11-22_10-38-06/2024-11-22_10-38-06_camTR.h5\n",
      "/home/yiting/Documents/Analysis/2024-11-22/anipose/pose_2d_filter/2024-11-22_10-38-06/2024-11-22_10-38-06_camTo.h5\n",
      "/home/yiting/Documents/Analysis/2024-11-22/anipose/pose_2d_filter/2024-11-22_10-38-19/2024-11-22_10-38-19_camBL.h5\n",
      "/home/yiting/Documents/Analysis/2024-11-22/anipose/pose_2d_filter/2024-11-22_10-38-19/2024-11-22_10-38-19_camBR.h5\n",
      "/home/yiting/Documents/Analysis/2024-11-22/anipose/pose_2d_filter/2024-11-22_10-38-19/2024-11-22_10-38-19_camTL.h5\n",
      "/home/yiting/Documents/Analysis/2024-11-22/anipose/pose_2d_filter/2024-11-22_10-38-19/2024-11-22_10-38-19_camTR.h5\n",
      "/home/yiting/Documents/Analysis/2024-11-22/anipose/pose_2d_filter/2024-11-22_10-38-19/2024-11-22_10-38-19_camTo.h5\n",
      "/home/yiting/Documents/Analysis/2024-11-22/anipose/pose_2d_filter/2024-11-22_10-38-31/2024-11-22_10-38-31_camBL.h5\n",
      "/home/yiting/Documents/Analysis/2024-11-22/anipose/pose_2d_filter/2024-11-22_10-38-31/2024-11-22_10-38-31_camBR.h5\n",
      "/home/yiting/Documents/Analysis/2024-11-22/anipose/pose_2d_filter/2024-11-22_10-38-31/2024-11-22_10-38-31_camTL.h5\n",
      "/home/yiting/Documents/Analysis/2024-11-22/anipose/pose_2d_filter/2024-11-22_10-38-31/2024-11-22_10-38-31_camTR.h5\n",
      "/home/yiting/Documents/Analysis/2024-11-22/anipose/pose_2d_filter/2024-11-22_10-38-31/2024-11-22_10-38-31_camTo.h5\n",
      "/home/yiting/Documents/Analysis/2024-11-22/anipose/pose_2d_filter/2024-11-22_10-38-46/2024-11-22_10-38-46_camBL.h5\n",
      "/home/yiting/Documents/Analysis/2024-11-22/anipose/pose_2d_filter/2024-11-22_10-38-46/2024-11-22_10-38-46_camBR.h5\n",
      "/home/yiting/Documents/Analysis/2024-11-22/anipose/pose_2d_filter/2024-11-22_10-38-46/2024-11-22_10-38-46_camTL.h5\n",
      "/home/yiting/Documents/Analysis/2024-11-22/anipose/pose_2d_filter/2024-11-22_10-38-46/2024-11-22_10-38-46_camTR.h5\n",
      "/home/yiting/Documents/Analysis/2024-11-22/anipose/pose_2d_filter/2024-11-22_10-38-46/2024-11-22_10-38-46_camTo.h5\n",
      "/home/yiting/Documents/Analysis/2024-11-22/anipose/pose_2d_filter/2024-11-22_10-38-59/2024-11-22_10-38-59_camBL.h5\n",
      "/home/yiting/Documents/Analysis/2024-11-22/anipose/pose_2d_filter/2024-11-22_10-38-59/2024-11-22_10-38-59_camBR.h5\n",
      "/home/yiting/Documents/Analysis/2024-11-22/anipose/pose_2d_filter/2024-11-22_10-38-59/2024-11-22_10-38-59_camTL.h5\n",
      "/home/yiting/Documents/Analysis/2024-11-22/anipose/pose_2d_filter/2024-11-22_10-38-59/2024-11-22_10-38-59_camTR.h5\n",
      "/home/yiting/Documents/Analysis/2024-11-22/anipose/pose_2d_filter/2024-11-22_10-38-59/2024-11-22_10-38-59_camTo.h5\n",
      "/home/yiting/Documents/Analysis/2024-11-22/anipose/pose_2d_filter/2024-11-22_10-39-11/2024-11-22_10-39-11_camBL.h5\n",
      "/home/yiting/Documents/Analysis/2024-11-22/anipose/pose_2d_filter/2024-11-22_10-39-11/2024-11-22_10-39-11_camBR.h5\n",
      "/home/yiting/Documents/Analysis/2024-11-22/anipose/pose_2d_filter/2024-11-22_10-39-11/2024-11-22_10-39-11_camTL.h5\n",
      "/home/yiting/Documents/Analysis/2024-11-22/anipose/pose_2d_filter/2024-11-22_10-39-11/2024-11-22_10-39-11_camTR.h5\n",
      "/home/yiting/Documents/Analysis/2024-11-22/anipose/pose_2d_filter/2024-11-22_10-39-11/2024-11-22_10-39-11_camTo.h5\n",
      "/home/yiting/Documents/Analysis/2024-11-22/anipose/pose_2d_filter/2024-11-22_10-39-25/2024-11-22_10-39-25_camBL.h5\n",
      "/home/yiting/Documents/Analysis/2024-11-22/anipose/pose_2d_filter/2024-11-22_10-39-25/2024-11-22_10-39-25_camBR.h5\n",
      "/home/yiting/Documents/Analysis/2024-11-22/anipose/pose_2d_filter/2024-11-22_10-39-25/2024-11-22_10-39-25_camTL.h5\n",
      "/home/yiting/Documents/Analysis/2024-11-22/anipose/pose_2d_filter/2024-11-22_10-39-25/2024-11-22_10-39-25_camTR.h5\n",
      "/home/yiting/Documents/Analysis/2024-11-22/anipose/pose_2d_filter/2024-11-22_10-39-25/2024-11-22_10-39-25_camTo.h5\n",
      "/home/yiting/Documents/Analysis/2024-11-22/anipose/pose_2d_filter/2024-11-22_10-39-39/2024-11-22_10-39-39_camBL.h5\n",
      "/home/yiting/Documents/Analysis/2024-11-22/anipose/pose_2d_filter/2024-11-22_10-39-39/2024-11-22_10-39-39_camBR.h5\n",
      "/home/yiting/Documents/Analysis/2024-11-22/anipose/pose_2d_filter/2024-11-22_10-39-39/2024-11-22_10-39-39_camTL.h5\n",
      "/home/yiting/Documents/Analysis/2024-11-22/anipose/pose_2d_filter/2024-11-22_10-39-39/2024-11-22_10-39-39_camTR.h5\n",
      "/home/yiting/Documents/Analysis/2024-11-22/anipose/pose_2d_filter/2024-11-22_10-39-39/2024-11-22_10-39-39_camTo.h5\n",
      "/home/yiting/Documents/Analysis/2024-11-22/anipose/pose_2d_filter/2024-11-22_10-39-53/2024-11-22_10-39-53_camBL.h5\n",
      "/home/yiting/Documents/Analysis/2024-11-22/anipose/pose_2d_filter/2024-11-22_10-39-53/2024-11-22_10-39-53_camBR.h5\n",
      "/home/yiting/Documents/Analysis/2024-11-22/anipose/pose_2d_filter/2024-11-22_10-39-53/2024-11-22_10-39-53_camTL.h5\n",
      "/home/yiting/Documents/Analysis/2024-11-22/anipose/pose_2d_filter/2024-11-22_10-39-53/2024-11-22_10-39-53_camTR.h5\n",
      "/home/yiting/Documents/Analysis/2024-11-22/anipose/pose_2d_filter/2024-11-22_10-39-53/2024-11-22_10-39-53_camTo.h5\n",
      "/home/yiting/Documents/Analysis/2024-11-22/anipose/pose_2d_filter/2024-11-22_10-40-06/2024-11-22_10-40-06_camBL.h5\n",
      "/home/yiting/Documents/Analysis/2024-11-22/anipose/pose_2d_filter/2024-11-22_10-40-06/2024-11-22_10-40-06_camBR.h5\n",
      "/home/yiting/Documents/Analysis/2024-11-22/anipose/pose_2d_filter/2024-11-22_10-40-06/2024-11-22_10-40-06_camTL.h5\n",
      "/home/yiting/Documents/Analysis/2024-11-22/anipose/pose_2d_filter/2024-11-22_10-40-06/2024-11-22_10-40-06_camTR.h5\n",
      "/home/yiting/Documents/Analysis/2024-11-22/anipose/pose_2d_filter/2024-11-22_10-40-06/2024-11-22_10-40-06_camTo.h5\n",
      "/home/yiting/Documents/Analysis/2024-11-22/anipose/pose_2d_filter/2024-11-22_10-40-20/2024-11-22_10-40-20_camBL.h5\n",
      "/home/yiting/Documents/Analysis/2024-11-22/anipose/pose_2d_filter/2024-11-22_10-40-20/2024-11-22_10-40-20_camBR.h5\n",
      "/home/yiting/Documents/Analysis/2024-11-22/anipose/pose_2d_filter/2024-11-22_10-40-20/2024-11-22_10-40-20_camTL.h5\n",
      "/home/yiting/Documents/Analysis/2024-11-22/anipose/pose_2d_filter/2024-11-22_10-40-20/2024-11-22_10-40-20_camTR.h5\n",
      "/home/yiting/Documents/Analysis/2024-11-22/anipose/pose_2d_filter/2024-11-22_10-40-20/2024-11-22_10-40-20_camTo.h5\n",
      "/home/yiting/Documents/Analysis/2024-11-22/anipose/pose_2d_filter/2024-11-22_10-40-32/2024-11-22_10-40-32_camBL.h5\n",
      "/home/yiting/Documents/Analysis/2024-11-22/anipose/pose_2d_filter/2024-11-22_10-40-32/2024-11-22_10-40-32_camBR.h5\n",
      "/home/yiting/Documents/Analysis/2024-11-22/anipose/pose_2d_filter/2024-11-22_10-40-32/2024-11-22_10-40-32_camTL.h5\n",
      "/home/yiting/Documents/Analysis/2024-11-22/anipose/pose_2d_filter/2024-11-22_10-40-32/2024-11-22_10-40-32_camTR.h5\n",
      "/home/yiting/Documents/Analysis/2024-11-22/anipose/pose_2d_filter/2024-11-22_10-40-32/2024-11-22_10-40-32_camTo.h5\n",
      "/home/yiting/Documents/Analysis/2024-11-22/anipose/pose_2d_filter/2024-11-22_10-40-44/2024-11-22_10-40-44_camBL.h5\n",
      "/home/yiting/Documents/Analysis/2024-11-22/anipose/pose_2d_filter/2024-11-22_10-40-44/2024-11-22_10-40-44_camBR.h5\n",
      "/home/yiting/Documents/Analysis/2024-11-22/anipose/pose_2d_filter/2024-11-22_10-40-44/2024-11-22_10-40-44_camTL.h5\n",
      "/home/yiting/Documents/Analysis/2024-11-22/anipose/pose_2d_filter/2024-11-22_10-40-44/2024-11-22_10-40-44_camTR.h5\n",
      "/home/yiting/Documents/Analysis/2024-11-22/anipose/pose_2d_filter/2024-11-22_10-40-44/2024-11-22_10-40-44_camTo.h5\n",
      "/home/yiting/Documents/Analysis/2024-11-22/anipose/pose_2d_filter/2024-11-22_10-40-58/2024-11-22_10-40-58_camBL.h5\n",
      "/home/yiting/Documents/Analysis/2024-11-22/anipose/pose_2d_filter/2024-11-22_10-40-58/2024-11-22_10-40-58_camBR.h5\n",
      "/home/yiting/Documents/Analysis/2024-11-22/anipose/pose_2d_filter/2024-11-22_10-40-58/2024-11-22_10-40-58_camTL.h5\n",
      "/home/yiting/Documents/Analysis/2024-11-22/anipose/pose_2d_filter/2024-11-22_10-40-58/2024-11-22_10-40-58_camTR.h5\n",
      "/home/yiting/Documents/Analysis/2024-11-22/anipose/pose_2d_filter/2024-11-22_10-40-58/2024-11-22_10-40-58_camTo.h5\n",
      "/home/yiting/Documents/Analysis/2024-11-22/anipose/pose_2d_filter/2024-11-22_10-41-12/2024-11-22_10-41-12_camBL.h5\n",
      "/home/yiting/Documents/Analysis/2024-11-22/anipose/pose_2d_filter/2024-11-22_10-41-12/2024-11-22_10-41-12_camBR.h5\n",
      "/home/yiting/Documents/Analysis/2024-11-22/anipose/pose_2d_filter/2024-11-22_10-41-12/2024-11-22_10-41-12_camTL.h5\n",
      "/home/yiting/Documents/Analysis/2024-11-22/anipose/pose_2d_filter/2024-11-22_10-41-12/2024-11-22_10-41-12_camTR.h5\n",
      "/home/yiting/Documents/Analysis/2024-11-22/anipose/pose_2d_filter/2024-11-22_10-41-12/2024-11-22_10-41-12_camTo.h5\n",
      "/home/yiting/Documents/Analysis/2024-11-22/anipose/pose_2d_filter/2024-11-22_10-41-26/2024-11-22_10-41-26_camBL.h5\n",
      "/home/yiting/Documents/Analysis/2024-11-22/anipose/pose_2d_filter/2024-11-22_10-41-26/2024-11-22_10-41-26_camBR.h5\n",
      "/home/yiting/Documents/Analysis/2024-11-22/anipose/pose_2d_filter/2024-11-22_10-41-26/2024-11-22_10-41-26_camTL.h5\n",
      "/home/yiting/Documents/Analysis/2024-11-22/anipose/pose_2d_filter/2024-11-22_10-41-26/2024-11-22_10-41-26_camTR.h5\n",
      "/home/yiting/Documents/Analysis/2024-11-22/anipose/pose_2d_filter/2024-11-22_10-41-26/2024-11-22_10-41-26_camTo.h5\n",
      "/home/yiting/Documents/Analysis/2024-11-22/anipose/pose_2d_filter/2024-11-22_10-41-41/2024-11-22_10-41-41_camBL.h5\n",
      "/home/yiting/Documents/Analysis/2024-11-22/anipose/pose_2d_filter/2024-11-22_10-41-41/2024-11-22_10-41-41_camBR.h5\n",
      "/home/yiting/Documents/Analysis/2024-11-22/anipose/pose_2d_filter/2024-11-22_10-41-41/2024-11-22_10-41-41_camTL.h5\n",
      "/home/yiting/Documents/Analysis/2024-11-22/anipose/pose_2d_filter/2024-11-22_10-41-41/2024-11-22_10-41-41_camTR.h5\n",
      "/home/yiting/Documents/Analysis/2024-11-22/anipose/pose_2d_filter/2024-11-22_10-41-41/2024-11-22_10-41-41_camTo.h5\n",
      "/home/yiting/Documents/Analysis/2024-11-22/anipose/pose_2d_filter/2024-11-22_10-41-55/2024-11-22_10-41-55_camBL.h5\n",
      "/home/yiting/Documents/Analysis/2024-11-22/anipose/pose_2d_filter/2024-11-22_10-41-55/2024-11-22_10-41-55_camBR.h5\n",
      "/home/yiting/Documents/Analysis/2024-11-22/anipose/pose_2d_filter/2024-11-22_10-41-55/2024-11-22_10-41-55_camTL.h5\n",
      "/home/yiting/Documents/Analysis/2024-11-22/anipose/pose_2d_filter/2024-11-22_10-41-55/2024-11-22_10-41-55_camTR.h5\n",
      "/home/yiting/Documents/Analysis/2024-11-22/anipose/pose_2d_filter/2024-11-22_10-41-55/2024-11-22_10-41-55_camTo.h5\n",
      "/home/yiting/Documents/Analysis/2024-11-22/anipose/pose_2d_filter/2024-11-22_10-42-08/2024-11-22_10-42-08_camBL.h5\n",
      "/home/yiting/Documents/Analysis/2024-11-22/anipose/pose_2d_filter/2024-11-22_10-42-08/2024-11-22_10-42-08_camBR.h5\n",
      "/home/yiting/Documents/Analysis/2024-11-22/anipose/pose_2d_filter/2024-11-22_10-42-08/2024-11-22_10-42-08_camTL.h5\n",
      "/home/yiting/Documents/Analysis/2024-11-22/anipose/pose_2d_filter/2024-11-22_10-42-08/2024-11-22_10-42-08_camTR.h5\n",
      "/home/yiting/Documents/Analysis/2024-11-22/anipose/pose_2d_filter/2024-11-22_10-42-08/2024-11-22_10-42-08_camTo.h5\n",
      "/home/yiting/Documents/Analysis/2024-11-22/anipose/pose_2d_filter/2024-11-22_10-42-20/2024-11-22_10-42-20_camBL.h5\n",
      "/home/yiting/Documents/Analysis/2024-11-22/anipose/pose_2d_filter/2024-11-22_10-42-20/2024-11-22_10-42-20_camBR.h5\n",
      "/home/yiting/Documents/Analysis/2024-11-22/anipose/pose_2d_filter/2024-11-22_10-42-20/2024-11-22_10-42-20_camTL.h5\n",
      "/home/yiting/Documents/Analysis/2024-11-22/anipose/pose_2d_filter/2024-11-22_10-42-20/2024-11-22_10-42-20_camTR.h5\n",
      "/home/yiting/Documents/Analysis/2024-11-22/anipose/pose_2d_filter/2024-11-22_10-42-20/2024-11-22_10-42-20_camTo.h5\n",
      "/home/yiting/Documents/Analysis/2024-11-22/anipose/pose_2d_filter/2024-11-22_10-42-33/2024-11-22_10-42-33_camBL.h5\n",
      "/home/yiting/Documents/Analysis/2024-11-22/anipose/pose_2d_filter/2024-11-22_10-42-33/2024-11-22_10-42-33_camBR.h5\n",
      "/home/yiting/Documents/Analysis/2024-11-22/anipose/pose_2d_filter/2024-11-22_10-42-33/2024-11-22_10-42-33_camTL.h5\n",
      "/home/yiting/Documents/Analysis/2024-11-22/anipose/pose_2d_filter/2024-11-22_10-42-33/2024-11-22_10-42-33_camTR.h5\n",
      "/home/yiting/Documents/Analysis/2024-11-22/anipose/pose_2d_filter/2024-11-22_10-42-33/2024-11-22_10-42-33_camTo.h5\n",
      "/home/yiting/Documents/Analysis/2024-11-22/anipose/pose_2d_filter/2024-11-22_10-42-48/2024-11-22_10-42-48_camBL.h5\n",
      "/home/yiting/Documents/Analysis/2024-11-22/anipose/pose_2d_filter/2024-11-22_10-42-48/2024-11-22_10-42-48_camBR.h5\n",
      "/home/yiting/Documents/Analysis/2024-11-22/anipose/pose_2d_filter/2024-11-22_10-42-48/2024-11-22_10-42-48_camTL.h5\n",
      "/home/yiting/Documents/Analysis/2024-11-22/anipose/pose_2d_filter/2024-11-22_10-42-48/2024-11-22_10-42-48_camTR.h5\n",
      "/home/yiting/Documents/Analysis/2024-11-22/anipose/pose_2d_filter/2024-11-22_10-42-48/2024-11-22_10-42-48_camTo.h5\n",
      "/home/yiting/Documents/Analysis/2024-11-22/anipose/pose_2d_filter/2024-11-22_10-43-02/2024-11-22_10-43-02_camBL.h5\n",
      "/home/yiting/Documents/Analysis/2024-11-22/anipose/pose_2d_filter/2024-11-22_10-43-02/2024-11-22_10-43-02_camBR.h5\n",
      "/home/yiting/Documents/Analysis/2024-11-22/anipose/pose_2d_filter/2024-11-22_10-43-02/2024-11-22_10-43-02_camTL.h5\n",
      "/home/yiting/Documents/Analysis/2024-11-22/anipose/pose_2d_filter/2024-11-22_10-43-02/2024-11-22_10-43-02_camTR.h5\n",
      "/home/yiting/Documents/Analysis/2024-11-22/anipose/pose_2d_filter/2024-11-22_10-43-02/2024-11-22_10-43-02_camTo.h5\n",
      "/home/yiting/Documents/Analysis/2024-11-22/anipose/pose_2d_filter/2024-11-22_10-43-15/2024-11-22_10-43-15_camBL.h5\n",
      "/home/yiting/Documents/Analysis/2024-11-22/anipose/pose_2d_filter/2024-11-22_10-43-15/2024-11-22_10-43-15_camBR.h5\n",
      "/home/yiting/Documents/Analysis/2024-11-22/anipose/pose_2d_filter/2024-11-22_10-43-15/2024-11-22_10-43-15_camTL.h5\n",
      "/home/yiting/Documents/Analysis/2024-11-22/anipose/pose_2d_filter/2024-11-22_10-43-15/2024-11-22_10-43-15_camTR.h5\n",
      "/home/yiting/Documents/Analysis/2024-11-22/anipose/pose_2d_filter/2024-11-22_10-43-15/2024-11-22_10-43-15_camTo.h5\n",
      "/home/yiting/Documents/Analysis/2024-11-22/anipose/pose_2d_filter/2024-11-22_10-43-27/2024-11-22_10-43-27_camBL.h5\n",
      "/home/yiting/Documents/Analysis/2024-11-22/anipose/pose_2d_filter/2024-11-22_10-43-27/2024-11-22_10-43-27_camBR.h5\n",
      "/home/yiting/Documents/Analysis/2024-11-22/anipose/pose_2d_filter/2024-11-22_10-43-27/2024-11-22_10-43-27_camTL.h5\n",
      "/home/yiting/Documents/Analysis/2024-11-22/anipose/pose_2d_filter/2024-11-22_10-43-27/2024-11-22_10-43-27_camTR.h5\n",
      "/home/yiting/Documents/Analysis/2024-11-22/anipose/pose_2d_filter/2024-11-22_10-43-27/2024-11-22_10-43-27_camTo.h5\n",
      "/home/yiting/Documents/Analysis/2024-11-22/anipose/pose_2d_filter/2024-11-22_10-43-39/2024-11-22_10-43-39_camBL.h5\n",
      "/home/yiting/Documents/Analysis/2024-11-22/anipose/pose_2d_filter/2024-11-22_10-43-39/2024-11-22_10-43-39_camBR.h5\n",
      "/home/yiting/Documents/Analysis/2024-11-22/anipose/pose_2d_filter/2024-11-22_10-43-39/2024-11-22_10-43-39_camTL.h5\n",
      "/home/yiting/Documents/Analysis/2024-11-22/anipose/pose_2d_filter/2024-11-22_10-43-39/2024-11-22_10-43-39_camTR.h5\n",
      "/home/yiting/Documents/Analysis/2024-11-22/anipose/pose_2d_filter/2024-11-22_10-43-39/2024-11-22_10-43-39_camTo.h5\n",
      "/home/yiting/Documents/Analysis/2024-11-22/anipose/pose_2d_filter/2024-11-22_10-43-53/2024-11-22_10-43-53_camBL.h5\n",
      "/home/yiting/Documents/Analysis/2024-11-22/anipose/pose_2d_filter/2024-11-22_10-43-53/2024-11-22_10-43-53_camBR.h5\n",
      "/home/yiting/Documents/Analysis/2024-11-22/anipose/pose_2d_filter/2024-11-22_10-43-53/2024-11-22_10-43-53_camTL.h5\n",
      "/home/yiting/Documents/Analysis/2024-11-22/anipose/pose_2d_filter/2024-11-22_10-43-53/2024-11-22_10-43-53_camTR.h5\n",
      "/home/yiting/Documents/Analysis/2024-11-22/anipose/pose_2d_filter/2024-11-22_10-43-53/2024-11-22_10-43-53_camTo.h5\n",
      "/home/yiting/Documents/Analysis/2024-11-22/anipose/pose_2d_filter/2024-11-22_10-44-06/2024-11-22_10-44-06_camBL.h5\n",
      "/home/yiting/Documents/Analysis/2024-11-22/anipose/pose_2d_filter/2024-11-22_10-44-06/2024-11-22_10-44-06_camBR.h5\n",
      "/home/yiting/Documents/Analysis/2024-11-22/anipose/pose_2d_filter/2024-11-22_10-44-06/2024-11-22_10-44-06_camTL.h5\n",
      "/home/yiting/Documents/Analysis/2024-11-22/anipose/pose_2d_filter/2024-11-22_10-44-06/2024-11-22_10-44-06_camTR.h5\n",
      "/home/yiting/Documents/Analysis/2024-11-22/anipose/pose_2d_filter/2024-11-22_10-44-06/2024-11-22_10-44-06_camTo.h5\n",
      "/home/yiting/Documents/Analysis/2024-11-22/anipose/pose_2d_filter/2024-11-22_10-44-20/2024-11-22_10-44-20_camBL.h5\n",
      "/home/yiting/Documents/Analysis/2024-11-22/anipose/pose_2d_filter/2024-11-22_10-44-20/2024-11-22_10-44-20_camBR.h5\n",
      "/home/yiting/Documents/Analysis/2024-11-22/anipose/pose_2d_filter/2024-11-22_10-44-20/2024-11-22_10-44-20_camTL.h5\n",
      "/home/yiting/Documents/Analysis/2024-11-22/anipose/pose_2d_filter/2024-11-22_10-44-20/2024-11-22_10-44-20_camTR.h5\n",
      "/home/yiting/Documents/Analysis/2024-11-22/anipose/pose_2d_filter/2024-11-22_10-44-20/2024-11-22_10-44-20_camTo.h5\n",
      "/home/yiting/Documents/Analysis/2024-11-22/anipose/pose_2d_filter/2024-11-22_10-44-33/2024-11-22_10-44-33_camBL.h5\n",
      "/home/yiting/Documents/Analysis/2024-11-22/anipose/pose_2d_filter/2024-11-22_10-44-33/2024-11-22_10-44-33_camBR.h5\n",
      "/home/yiting/Documents/Analysis/2024-11-22/anipose/pose_2d_filter/2024-11-22_10-44-33/2024-11-22_10-44-33_camTL.h5\n",
      "/home/yiting/Documents/Analysis/2024-11-22/anipose/pose_2d_filter/2024-11-22_10-44-33/2024-11-22_10-44-33_camTR.h5\n",
      "/home/yiting/Documents/Analysis/2024-11-22/anipose/pose_2d_filter/2024-11-22_10-44-33/2024-11-22_10-44-33_camTo.h5\n",
      "/home/yiting/Documents/Analysis/2024-11-22/anipose/pose_2d_filter/2024-11-22_10-44-46/2024-11-22_10-44-46_camBL.h5\n",
      "/home/yiting/Documents/Analysis/2024-11-22/anipose/pose_2d_filter/2024-11-22_10-44-46/2024-11-22_10-44-46_camBR.h5\n",
      "/home/yiting/Documents/Analysis/2024-11-22/anipose/pose_2d_filter/2024-11-22_10-44-46/2024-11-22_10-44-46_camTL.h5\n",
      "/home/yiting/Documents/Analysis/2024-11-22/anipose/pose_2d_filter/2024-11-22_10-44-46/2024-11-22_10-44-46_camTR.h5\n",
      "/home/yiting/Documents/Analysis/2024-11-22/anipose/pose_2d_filter/2024-11-22_10-44-46/2024-11-22_10-44-46_camTo.h5\n",
      "/home/yiting/Documents/Analysis/2024-11-22/anipose/pose_2d_filter/2024-11-22_10-44-58/2024-11-22_10-44-58_camBL.h5\n",
      "/home/yiting/Documents/Analysis/2024-11-22/anipose/pose_2d_filter/2024-11-22_10-44-58/2024-11-22_10-44-58_camBR.h5\n",
      "/home/yiting/Documents/Analysis/2024-11-22/anipose/pose_2d_filter/2024-11-22_10-44-58/2024-11-22_10-44-58_camTL.h5\n",
      "/home/yiting/Documents/Analysis/2024-11-22/anipose/pose_2d_filter/2024-11-22_10-44-58/2024-11-22_10-44-58_camTR.h5\n",
      "/home/yiting/Documents/Analysis/2024-11-22/anipose/pose_2d_filter/2024-11-22_10-44-58/2024-11-22_10-44-58_camTo.h5\n",
      "/home/yiting/Documents/Analysis/2024-11-22/anipose/pose_2d_filter/2024-11-22_10-45-12/2024-11-22_10-45-12_camBL.h5\n",
      "/home/yiting/Documents/Analysis/2024-11-22/anipose/pose_2d_filter/2024-11-22_10-45-12/2024-11-22_10-45-12_camBR.h5\n",
      "/home/yiting/Documents/Analysis/2024-11-22/anipose/pose_2d_filter/2024-11-22_10-45-12/2024-11-22_10-45-12_camTL.h5\n",
      "/home/yiting/Documents/Analysis/2024-11-22/anipose/pose_2d_filter/2024-11-22_10-45-12/2024-11-22_10-45-12_camTR.h5\n",
      "/home/yiting/Documents/Analysis/2024-11-22/anipose/pose_2d_filter/2024-11-22_10-45-12/2024-11-22_10-45-12_camTo.h5\n",
      "/home/yiting/Documents/Analysis/2024-11-22/anipose/pose_2d_filter/2024-11-22_10-45-24/2024-11-22_10-45-24_camBL.h5\n",
      "/home/yiting/Documents/Analysis/2024-11-22/anipose/pose_2d_filter/2024-11-22_10-45-24/2024-11-22_10-45-24_camBR.h5\n",
      "/home/yiting/Documents/Analysis/2024-11-22/anipose/pose_2d_filter/2024-11-22_10-45-24/2024-11-22_10-45-24_camTL.h5\n",
      "/home/yiting/Documents/Analysis/2024-11-22/anipose/pose_2d_filter/2024-11-22_10-45-24/2024-11-22_10-45-24_camTR.h5\n",
      "/home/yiting/Documents/Analysis/2024-11-22/anipose/pose_2d_filter/2024-11-22_10-45-24/2024-11-22_10-45-24_camTo.h5\n",
      "/home/yiting/Documents/Analysis/2024-11-22/anipose/pose_2d_filter/2024-11-22_10-45-37/2024-11-22_10-45-37_camBL.h5\n",
      "/home/yiting/Documents/Analysis/2024-11-22/anipose/pose_2d_filter/2024-11-22_10-45-37/2024-11-22_10-45-37_camBR.h5\n",
      "/home/yiting/Documents/Analysis/2024-11-22/anipose/pose_2d_filter/2024-11-22_10-45-37/2024-11-22_10-45-37_camTL.h5\n",
      "/home/yiting/Documents/Analysis/2024-11-22/anipose/pose_2d_filter/2024-11-22_10-45-37/2024-11-22_10-45-37_camTR.h5\n",
      "/home/yiting/Documents/Analysis/2024-11-22/anipose/pose_2d_filter/2024-11-22_10-45-37/2024-11-22_10-45-37_camTo.h5\n",
      "/home/yiting/Documents/Analysis/2024-11-22/anipose/pose_2d_filter/2024-11-22_10-45-51/2024-11-22_10-45-51_camBL.h5\n",
      "/home/yiting/Documents/Analysis/2024-11-22/anipose/pose_2d_filter/2024-11-22_10-45-51/2024-11-22_10-45-51_camBR.h5\n",
      "/home/yiting/Documents/Analysis/2024-11-22/anipose/pose_2d_filter/2024-11-22_10-45-51/2024-11-22_10-45-51_camTL.h5\n",
      "/home/yiting/Documents/Analysis/2024-11-22/anipose/pose_2d_filter/2024-11-22_10-45-51/2024-11-22_10-45-51_camTR.h5\n",
      "/home/yiting/Documents/Analysis/2024-11-22/anipose/pose_2d_filter/2024-11-22_10-45-51/2024-11-22_10-45-51_camTo.h5\n",
      "/home/yiting/Documents/Analysis/2024-11-22/anipose/pose_2d_filter/2024-11-22_10-46-05/2024-11-22_10-46-05_camBL.h5\n",
      "/home/yiting/Documents/Analysis/2024-11-22/anipose/pose_2d_filter/2024-11-22_10-46-05/2024-11-22_10-46-05_camBR.h5\n",
      "/home/yiting/Documents/Analysis/2024-11-22/anipose/pose_2d_filter/2024-11-22_10-46-05/2024-11-22_10-46-05_camTL.h5\n",
      "/home/yiting/Documents/Analysis/2024-11-22/anipose/pose_2d_filter/2024-11-22_10-46-05/2024-11-22_10-46-05_camTR.h5\n",
      "/home/yiting/Documents/Analysis/2024-11-22/anipose/pose_2d_filter/2024-11-22_10-46-05/2024-11-22_10-46-05_camTo.h5\n",
      "/home/yiting/Documents/Analysis/2024-11-22/anipose/pose_2d_filter/2024-11-22_10-46-19/2024-11-22_10-46-19_camBL.h5\n",
      "/home/yiting/Documents/Analysis/2024-11-22/anipose/pose_2d_filter/2024-11-22_10-46-19/2024-11-22_10-46-19_camBR.h5\n",
      "/home/yiting/Documents/Analysis/2024-11-22/anipose/pose_2d_filter/2024-11-22_10-46-19/2024-11-22_10-46-19_camTL.h5\n",
      "/home/yiting/Documents/Analysis/2024-11-22/anipose/pose_2d_filter/2024-11-22_10-46-19/2024-11-22_10-46-19_camTR.h5\n",
      "/home/yiting/Documents/Analysis/2024-11-22/anipose/pose_2d_filter/2024-11-22_10-46-19/2024-11-22_10-46-19_camTo.h5\n",
      "/home/yiting/Documents/Analysis/2024-11-22/anipose/pose_2d_filter/2024-11-22_10-46-32/2024-11-22_10-46-32_camBL.h5\n",
      "/home/yiting/Documents/Analysis/2024-11-22/anipose/pose_2d_filter/2024-11-22_10-46-32/2024-11-22_10-46-32_camBR.h5\n",
      "/home/yiting/Documents/Analysis/2024-11-22/anipose/pose_2d_filter/2024-11-22_10-46-32/2024-11-22_10-46-32_camTL.h5\n",
      "/home/yiting/Documents/Analysis/2024-11-22/anipose/pose_2d_filter/2024-11-22_10-46-32/2024-11-22_10-46-32_camTR.h5\n",
      "/home/yiting/Documents/Analysis/2024-11-22/anipose/pose_2d_filter/2024-11-22_10-46-32/2024-11-22_10-46-32_camTo.h5\n",
      "/home/yiting/Documents/Analysis/2024-11-22/anipose/pose_2d_filter/2024-11-22_10-46-44/2024-11-22_10-46-44_camBL.h5\n",
      "/home/yiting/Documents/Analysis/2024-11-22/anipose/pose_2d_filter/2024-11-22_10-46-44/2024-11-22_10-46-44_camBR.h5\n",
      "/home/yiting/Documents/Analysis/2024-11-22/anipose/pose_2d_filter/2024-11-22_10-46-44/2024-11-22_10-46-44_camTL.h5\n",
      "/home/yiting/Documents/Analysis/2024-11-22/anipose/pose_2d_filter/2024-11-22_10-46-44/2024-11-22_10-46-44_camTR.h5\n",
      "/home/yiting/Documents/Analysis/2024-11-22/anipose/pose_2d_filter/2024-11-22_10-46-44/2024-11-22_10-46-44_camTo.h5\n",
      "/home/yiting/Documents/Analysis/2024-11-22/anipose/pose_2d_filter/2024-11-22_10-46-58/2024-11-22_10-46-58_camBL.h5\n",
      "/home/yiting/Documents/Analysis/2024-11-22/anipose/pose_2d_filter/2024-11-22_10-46-58/2024-11-22_10-46-58_camBR.h5\n",
      "/home/yiting/Documents/Analysis/2024-11-22/anipose/pose_2d_filter/2024-11-22_10-46-58/2024-11-22_10-46-58_camTL.h5\n",
      "/home/yiting/Documents/Analysis/2024-11-22/anipose/pose_2d_filter/2024-11-22_10-46-58/2024-11-22_10-46-58_camTR.h5\n",
      "/home/yiting/Documents/Analysis/2024-11-22/anipose/pose_2d_filter/2024-11-22_10-46-58/2024-11-22_10-46-58_camTo.h5\n",
      "/home/yiting/Documents/Analysis/2024-11-22/anipose/pose_2d_filter/2024-11-22_10-47-10/2024-11-22_10-47-10_camBL.h5\n",
      "/home/yiting/Documents/Analysis/2024-11-22/anipose/pose_2d_filter/2024-11-22_10-47-10/2024-11-22_10-47-10_camBR.h5\n",
      "/home/yiting/Documents/Analysis/2024-11-22/anipose/pose_2d_filter/2024-11-22_10-47-10/2024-11-22_10-47-10_camTL.h5\n",
      "/home/yiting/Documents/Analysis/2024-11-22/anipose/pose_2d_filter/2024-11-22_10-47-10/2024-11-22_10-47-10_camTR.h5\n",
      "/home/yiting/Documents/Analysis/2024-11-22/anipose/pose_2d_filter/2024-11-22_10-47-10/2024-11-22_10-47-10_camTo.h5\n",
      "/home/yiting/Documents/Analysis/2024-11-22/anipose/pose_2d_filter/2024-11-22_10-47-24/2024-11-22_10-47-24_camBL.h5\n",
      "/home/yiting/Documents/Analysis/2024-11-22/anipose/pose_2d_filter/2024-11-22_10-47-24/2024-11-22_10-47-24_camBR.h5\n",
      "/home/yiting/Documents/Analysis/2024-11-22/anipose/pose_2d_filter/2024-11-22_10-47-24/2024-11-22_10-47-24_camTL.h5\n",
      "/home/yiting/Documents/Analysis/2024-11-22/anipose/pose_2d_filter/2024-11-22_10-47-24/2024-11-22_10-47-24_camTR.h5\n",
      "/home/yiting/Documents/Analysis/2024-11-22/anipose/pose_2d_filter/2024-11-22_10-47-24/2024-11-22_10-47-24_camTo.h5\n",
      "/home/yiting/Documents/Analysis/2024-11-22/anipose/pose_2d_filter/2024-11-22_10-47-38/2024-11-22_10-47-38_camBL.h5\n",
      "/home/yiting/Documents/Analysis/2024-11-22/anipose/pose_2d_filter/2024-11-22_10-47-38/2024-11-22_10-47-38_camBR.h5\n",
      "/home/yiting/Documents/Analysis/2024-11-22/anipose/pose_2d_filter/2024-11-22_10-47-38/2024-11-22_10-47-38_camTL.h5\n",
      "/home/yiting/Documents/Analysis/2024-11-22/anipose/pose_2d_filter/2024-11-22_10-47-38/2024-11-22_10-47-38_camTR.h5\n",
      "/home/yiting/Documents/Analysis/2024-11-22/anipose/pose_2d_filter/2024-11-22_10-47-38/2024-11-22_10-47-38_camTo.h5\n",
      "/home/yiting/Documents/Analysis/2024-11-22/anipose/pose_2d_filter/2024-11-22_10-47-53/2024-11-22_10-47-53_camBL.h5\n",
      "/home/yiting/Documents/Analysis/2024-11-22/anipose/pose_2d_filter/2024-11-22_10-47-53/2024-11-22_10-47-53_camBR.h5\n",
      "/home/yiting/Documents/Analysis/2024-11-22/anipose/pose_2d_filter/2024-11-22_10-47-53/2024-11-22_10-47-53_camTL.h5\n",
      "/home/yiting/Documents/Analysis/2024-11-22/anipose/pose_2d_filter/2024-11-22_10-47-53/2024-11-22_10-47-53_camTR.h5\n",
      "/home/yiting/Documents/Analysis/2024-11-22/anipose/pose_2d_filter/2024-11-22_10-47-53/2024-11-22_10-47-53_camTo.h5\n",
      "/home/yiting/Documents/Analysis/2024-11-22/anipose/pose_2d_filter/2024-11-22_10-48-06/2024-11-22_10-48-06_camBL.h5\n",
      "/home/yiting/Documents/Analysis/2024-11-22/anipose/pose_2d_filter/2024-11-22_10-48-06/2024-11-22_10-48-06_camBR.h5\n",
      "/home/yiting/Documents/Analysis/2024-11-22/anipose/pose_2d_filter/2024-11-22_10-48-06/2024-11-22_10-48-06_camTL.h5\n",
      "/home/yiting/Documents/Analysis/2024-11-22/anipose/pose_2d_filter/2024-11-22_10-48-06/2024-11-22_10-48-06_camTR.h5\n",
      "/home/yiting/Documents/Analysis/2024-11-22/anipose/pose_2d_filter/2024-11-22_10-48-06/2024-11-22_10-48-06_camTo.h5\n",
      "/home/yiting/Documents/Analysis/2024-11-22/anipose/pose_2d_filter/2024-11-22_10-48-19/2024-11-22_10-48-19_camBL.h5\n",
      "/home/yiting/Documents/Analysis/2024-11-22/anipose/pose_2d_filter/2024-11-22_10-48-19/2024-11-22_10-48-19_camBR.h5\n",
      "/home/yiting/Documents/Analysis/2024-11-22/anipose/pose_2d_filter/2024-11-22_10-48-19/2024-11-22_10-48-19_camTL.h5\n",
      "/home/yiting/Documents/Analysis/2024-11-22/anipose/pose_2d_filter/2024-11-22_10-48-19/2024-11-22_10-48-19_camTR.h5\n",
      "/home/yiting/Documents/Analysis/2024-11-22/anipose/pose_2d_filter/2024-11-22_10-48-19/2024-11-22_10-48-19_camTo.h5\n",
      "/home/yiting/Documents/Analysis/2024-11-22/anipose/pose_2d_filter/2024-11-22_10-48-31/2024-11-22_10-48-31_camBL.h5\n",
      "/home/yiting/Documents/Analysis/2024-11-22/anipose/pose_2d_filter/2024-11-22_10-48-31/2024-11-22_10-48-31_camBR.h5\n",
      "/home/yiting/Documents/Analysis/2024-11-22/anipose/pose_2d_filter/2024-11-22_10-48-31/2024-11-22_10-48-31_camTL.h5\n",
      "/home/yiting/Documents/Analysis/2024-11-22/anipose/pose_2d_filter/2024-11-22_10-48-31/2024-11-22_10-48-31_camTR.h5\n",
      "/home/yiting/Documents/Analysis/2024-11-22/anipose/pose_2d_filter/2024-11-22_10-48-31/2024-11-22_10-48-31_camTo.h5\n",
      "/home/yiting/Documents/Analysis/2024-11-22/anipose/pose_2d_filter/2024-11-22_10-48-44/2024-11-22_10-48-44_camBL.h5\n",
      "/home/yiting/Documents/Analysis/2024-11-22/anipose/pose_2d_filter/2024-11-22_10-48-44/2024-11-22_10-48-44_camBR.h5\n",
      "/home/yiting/Documents/Analysis/2024-11-22/anipose/pose_2d_filter/2024-11-22_10-48-44/2024-11-22_10-48-44_camTL.h5\n",
      "/home/yiting/Documents/Analysis/2024-11-22/anipose/pose_2d_filter/2024-11-22_10-48-44/2024-11-22_10-48-44_camTR.h5\n",
      "/home/yiting/Documents/Analysis/2024-11-22/anipose/pose_2d_filter/2024-11-22_10-48-44/2024-11-22_10-48-44_camTo.h5\n",
      "/home/yiting/Documents/Analysis/2024-11-22/anipose/pose_2d_filter/2024-11-22_10-48-56/2024-11-22_10-48-56_camBL.h5\n",
      "/home/yiting/Documents/Analysis/2024-11-22/anipose/pose_2d_filter/2024-11-22_10-48-56/2024-11-22_10-48-56_camBR.h5\n",
      "/home/yiting/Documents/Analysis/2024-11-22/anipose/pose_2d_filter/2024-11-22_10-48-56/2024-11-22_10-48-56_camTL.h5\n",
      "/home/yiting/Documents/Analysis/2024-11-22/anipose/pose_2d_filter/2024-11-22_10-48-56/2024-11-22_10-48-56_camTR.h5\n",
      "/home/yiting/Documents/Analysis/2024-11-22/anipose/pose_2d_filter/2024-11-22_10-48-56/2024-11-22_10-48-56_camTo.h5\n",
      "/home/yiting/Documents/Analysis/2024-11-22/anipose/pose_2d_filter/2024-11-22_10-49-07/2024-11-22_10-49-07_camBL.h5\n",
      "/home/yiting/Documents/Analysis/2024-11-22/anipose/pose_2d_filter/2024-11-22_10-49-07/2024-11-22_10-49-07_camBR.h5\n",
      "/home/yiting/Documents/Analysis/2024-11-22/anipose/pose_2d_filter/2024-11-22_10-49-07/2024-11-22_10-49-07_camTL.h5\n",
      "/home/yiting/Documents/Analysis/2024-11-22/anipose/pose_2d_filter/2024-11-22_10-49-07/2024-11-22_10-49-07_camTR.h5\n",
      "/home/yiting/Documents/Analysis/2024-11-22/anipose/pose_2d_filter/2024-11-22_10-49-07/2024-11-22_10-49-07_camTo.h5\n",
      "/home/yiting/Documents/Analysis/2024-11-22/anipose/pose_2d_filter/2024-11-22_10-49-18/2024-11-22_10-49-18_camBL.h5\n",
      "/home/yiting/Documents/Analysis/2024-11-22/anipose/pose_2d_filter/2024-11-22_10-49-18/2024-11-22_10-49-18_camBR.h5\n",
      "/home/yiting/Documents/Analysis/2024-11-22/anipose/pose_2d_filter/2024-11-22_10-49-18/2024-11-22_10-49-18_camTL.h5\n",
      "/home/yiting/Documents/Analysis/2024-11-22/anipose/pose_2d_filter/2024-11-22_10-49-18/2024-11-22_10-49-18_camTR.h5\n",
      "/home/yiting/Documents/Analysis/2024-11-22/anipose/pose_2d_filter/2024-11-22_10-49-18/2024-11-22_10-49-18_camTo.h5\n",
      "/home/yiting/Documents/Analysis/2024-11-22/anipose/pose_2d_filter/2024-11-22_10-49-29/2024-11-22_10-49-29_camBL.h5\n",
      "/home/yiting/Documents/Analysis/2024-11-22/anipose/pose_2d_filter/2024-11-22_10-49-29/2024-11-22_10-49-29_camBR.h5\n",
      "/home/yiting/Documents/Analysis/2024-11-22/anipose/pose_2d_filter/2024-11-22_10-49-29/2024-11-22_10-49-29_camTL.h5\n",
      "/home/yiting/Documents/Analysis/2024-11-22/anipose/pose_2d_filter/2024-11-22_10-49-29/2024-11-22_10-49-29_camTR.h5\n",
      "/home/yiting/Documents/Analysis/2024-11-22/anipose/pose_2d_filter/2024-11-22_10-49-29/2024-11-22_10-49-29_camTo.h5\n",
      "/home/yiting/Documents/Analysis/2024-11-22/anipose/pose_2d_filter/2024-11-22_10-49-44/2024-11-22_10-49-44_camBL.h5\n",
      "/home/yiting/Documents/Analysis/2024-11-22/anipose/pose_2d_filter/2024-11-22_10-49-44/2024-11-22_10-49-44_camBR.h5\n",
      "/home/yiting/Documents/Analysis/2024-11-22/anipose/pose_2d_filter/2024-11-22_10-49-44/2024-11-22_10-49-44_camTL.h5\n",
      "/home/yiting/Documents/Analysis/2024-11-22/anipose/pose_2d_filter/2024-11-22_10-49-44/2024-11-22_10-49-44_camTR.h5\n",
      "/home/yiting/Documents/Analysis/2024-11-22/anipose/pose_2d_filter/2024-11-22_10-49-44/2024-11-22_10-49-44_camTo.h5\n",
      "/home/yiting/Documents/Analysis/2024-11-22/anipose/pose_2d_filter/2024-11-22_10-49-58/2024-11-22_10-49-58_camBL.h5\n",
      "/home/yiting/Documents/Analysis/2024-11-22/anipose/pose_2d_filter/2024-11-22_10-49-58/2024-11-22_10-49-58_camBR.h5\n",
      "/home/yiting/Documents/Analysis/2024-11-22/anipose/pose_2d_filter/2024-11-22_10-49-58/2024-11-22_10-49-58_camTL.h5\n",
      "/home/yiting/Documents/Analysis/2024-11-22/anipose/pose_2d_filter/2024-11-22_10-49-58/2024-11-22_10-49-58_camTR.h5\n",
      "/home/yiting/Documents/Analysis/2024-11-22/anipose/pose_2d_filter/2024-11-22_10-49-58/2024-11-22_10-49-58_camTo.h5\n",
      "/home/yiting/Documents/Analysis/2024-11-22/anipose/pose_2d_filter/2024-11-22_10-50-13/2024-11-22_10-50-13_camBL.h5\n",
      "/home/yiting/Documents/Analysis/2024-11-22/anipose/pose_2d_filter/2024-11-22_10-50-13/2024-11-22_10-50-13_camBR.h5\n",
      "/home/yiting/Documents/Analysis/2024-11-22/anipose/pose_2d_filter/2024-11-22_10-50-13/2024-11-22_10-50-13_camTL.h5\n",
      "/home/yiting/Documents/Analysis/2024-11-22/anipose/pose_2d_filter/2024-11-22_10-50-13/2024-11-22_10-50-13_camTR.h5\n",
      "/home/yiting/Documents/Analysis/2024-11-22/anipose/pose_2d_filter/2024-11-22_10-50-13/2024-11-22_10-50-13_camTo.h5\n",
      "/home/yiting/Documents/Analysis/2024-11-22/anipose/pose_2d_filter/2024-11-22_10-50-25/2024-11-22_10-50-25_camBL.h5\n",
      "/home/yiting/Documents/Analysis/2024-11-22/anipose/pose_2d_filter/2024-11-22_10-50-25/2024-11-22_10-50-25_camBR.h5\n",
      "/home/yiting/Documents/Analysis/2024-11-22/anipose/pose_2d_filter/2024-11-22_10-50-25/2024-11-22_10-50-25_camTL.h5\n",
      "/home/yiting/Documents/Analysis/2024-11-22/anipose/pose_2d_filter/2024-11-22_10-50-25/2024-11-22_10-50-25_camTR.h5\n",
      "/home/yiting/Documents/Analysis/2024-11-22/anipose/pose_2d_filter/2024-11-22_10-50-25/2024-11-22_10-50-25_camTo.h5\n",
      "/home/yiting/Documents/Analysis/2024-11-22/anipose/pose_2d_filter/2024-11-22_10-50-38/2024-11-22_10-50-38_camBL.h5\n",
      "/home/yiting/Documents/Analysis/2024-11-22/anipose/pose_2d_filter/2024-11-22_10-50-38/2024-11-22_10-50-38_camBR.h5\n",
      "/home/yiting/Documents/Analysis/2024-11-22/anipose/pose_2d_filter/2024-11-22_10-50-38/2024-11-22_10-50-38_camTL.h5\n",
      "/home/yiting/Documents/Analysis/2024-11-22/anipose/pose_2d_filter/2024-11-22_10-50-38/2024-11-22_10-50-38_camTR.h5\n",
      "/home/yiting/Documents/Analysis/2024-11-22/anipose/pose_2d_filter/2024-11-22_10-50-38/2024-11-22_10-50-38_camTo.h5\n",
      "/home/yiting/Documents/Analysis/2024-11-22/anipose/pose_2d_filter/2024-11-22_10-50-50/2024-11-22_10-50-50_camBL.h5\n",
      "/home/yiting/Documents/Analysis/2024-11-22/anipose/pose_2d_filter/2024-11-22_10-50-50/2024-11-22_10-50-50_camBR.h5\n",
      "/home/yiting/Documents/Analysis/2024-11-22/anipose/pose_2d_filter/2024-11-22_10-50-50/2024-11-22_10-50-50_camTL.h5\n",
      "/home/yiting/Documents/Analysis/2024-11-22/anipose/pose_2d_filter/2024-11-22_10-50-50/2024-11-22_10-50-50_camTR.h5\n",
      "/home/yiting/Documents/Analysis/2024-11-22/anipose/pose_2d_filter/2024-11-22_10-50-50/2024-11-22_10-50-50_camTo.h5\n",
      "/home/yiting/Documents/Analysis/2024-11-22/anipose/pose_2d_filter/2024-11-22_10-51-03/2024-11-22_10-51-03_camBL.h5\n",
      "/home/yiting/Documents/Analysis/2024-11-22/anipose/pose_2d_filter/2024-11-22_10-51-03/2024-11-22_10-51-03_camBR.h5\n",
      "/home/yiting/Documents/Analysis/2024-11-22/anipose/pose_2d_filter/2024-11-22_10-51-03/2024-11-22_10-51-03_camTL.h5\n",
      "/home/yiting/Documents/Analysis/2024-11-22/anipose/pose_2d_filter/2024-11-22_10-51-03/2024-11-22_10-51-03_camTR.h5\n",
      "/home/yiting/Documents/Analysis/2024-11-22/anipose/pose_2d_filter/2024-11-22_10-51-03/2024-11-22_10-51-03_camTo.h5\n",
      "/home/yiting/Documents/Analysis/2024-11-22/anipose/pose_2d_filter/2024-11-22_10-51-17/2024-11-22_10-51-17_camBL.h5\n",
      "/home/yiting/Documents/Analysis/2024-11-22/anipose/pose_2d_filter/2024-11-22_10-51-17/2024-11-22_10-51-17_camBR.h5\n",
      "/home/yiting/Documents/Analysis/2024-11-22/anipose/pose_2d_filter/2024-11-22_10-51-17/2024-11-22_10-51-17_camTL.h5\n",
      "/home/yiting/Documents/Analysis/2024-11-22/anipose/pose_2d_filter/2024-11-22_10-51-17/2024-11-22_10-51-17_camTR.h5\n",
      "/home/yiting/Documents/Analysis/2024-11-22/anipose/pose_2d_filter/2024-11-22_10-51-17/2024-11-22_10-51-17_camTo.h5\n",
      "/home/yiting/Documents/Analysis/2024-11-22/anipose/pose_2d_filter/2024-11-22_10-51-30/2024-11-22_10-51-30_camBL.h5\n",
      "/home/yiting/Documents/Analysis/2024-11-22/anipose/pose_2d_filter/2024-11-22_10-51-30/2024-11-22_10-51-30_camBR.h5\n",
      "/home/yiting/Documents/Analysis/2024-11-22/anipose/pose_2d_filter/2024-11-22_10-51-30/2024-11-22_10-51-30_camTL.h5\n",
      "/home/yiting/Documents/Analysis/2024-11-22/anipose/pose_2d_filter/2024-11-22_10-51-30/2024-11-22_10-51-30_camTR.h5\n",
      "/home/yiting/Documents/Analysis/2024-11-22/anipose/pose_2d_filter/2024-11-22_10-51-30/2024-11-22_10-51-30_camTo.h5\n",
      "/home/yiting/Documents/Analysis/2024-11-22/anipose/pose_2d_filter/2024-11-22_10-51-45/2024-11-22_10-51-45_camBL.h5\n",
      "/home/yiting/Documents/Analysis/2024-11-22/anipose/pose_2d_filter/2024-11-22_10-51-45/2024-11-22_10-51-45_camBR.h5\n",
      "/home/yiting/Documents/Analysis/2024-11-22/anipose/pose_2d_filter/2024-11-22_10-51-45/2024-11-22_10-51-45_camTL.h5\n",
      "/home/yiting/Documents/Analysis/2024-11-22/anipose/pose_2d_filter/2024-11-22_10-51-45/2024-11-22_10-51-45_camTR.h5\n",
      "/home/yiting/Documents/Analysis/2024-11-22/anipose/pose_2d_filter/2024-11-22_10-51-45/2024-11-22_10-51-45_camTo.h5\n",
      "/home/yiting/Documents/Analysis/2024-11-22/anipose/pose_2d_filter/2024-11-22_10-51-59/2024-11-22_10-51-59_camBL.h5\n",
      "/home/yiting/Documents/Analysis/2024-11-22/anipose/pose_2d_filter/2024-11-22_10-51-59/2024-11-22_10-51-59_camBR.h5\n",
      "/home/yiting/Documents/Analysis/2024-11-22/anipose/pose_2d_filter/2024-11-22_10-51-59/2024-11-22_10-51-59_camTL.h5\n",
      "/home/yiting/Documents/Analysis/2024-11-22/anipose/pose_2d_filter/2024-11-22_10-51-59/2024-11-22_10-51-59_camTR.h5\n",
      "/home/yiting/Documents/Analysis/2024-11-22/anipose/pose_2d_filter/2024-11-22_10-51-59/2024-11-22_10-51-59_camTo.h5\n",
      "/home/yiting/Documents/Analysis/2024-11-22/anipose/pose_2d_filter/2024-11-22_10-52-09/2024-11-22_10-52-09_camBL.h5\n",
      "/home/yiting/Documents/Analysis/2024-11-22/anipose/pose_2d_filter/2024-11-22_10-52-09/2024-11-22_10-52-09_camBR.h5\n",
      "/home/yiting/Documents/Analysis/2024-11-22/anipose/pose_2d_filter/2024-11-22_10-52-09/2024-11-22_10-52-09_camTL.h5\n",
      "/home/yiting/Documents/Analysis/2024-11-22/anipose/pose_2d_filter/2024-11-22_10-52-09/2024-11-22_10-52-09_camTR.h5\n",
      "/home/yiting/Documents/Analysis/2024-11-22/anipose/pose_2d_filter/2024-11-22_10-52-09/2024-11-22_10-52-09_camTo.h5\n",
      "/home/yiting/Documents/Analysis/2024-11-22/anipose/pose_2d_filter/2024-11-22_10-52-21/2024-11-22_10-52-21_camBL.h5\n",
      "/home/yiting/Documents/Analysis/2024-11-22/anipose/pose_2d_filter/2024-11-22_10-52-21/2024-11-22_10-52-21_camBR.h5\n",
      "/home/yiting/Documents/Analysis/2024-11-22/anipose/pose_2d_filter/2024-11-22_10-52-21/2024-11-22_10-52-21_camTL.h5\n",
      "/home/yiting/Documents/Analysis/2024-11-22/anipose/pose_2d_filter/2024-11-22_10-52-21/2024-11-22_10-52-21_camTR.h5\n",
      "/home/yiting/Documents/Analysis/2024-11-22/anipose/pose_2d_filter/2024-11-22_10-52-21/2024-11-22_10-52-21_camTo.h5\n",
      "/home/yiting/Documents/Analysis/2024-11-22/anipose/pose_2d_filter/2024-11-22_10-52-32/2024-11-22_10-52-32_camBL.h5\n",
      "/home/yiting/Documents/Analysis/2024-11-22/anipose/pose_2d_filter/2024-11-22_10-52-32/2024-11-22_10-52-32_camBR.h5\n",
      "/home/yiting/Documents/Analysis/2024-11-22/anipose/pose_2d_filter/2024-11-22_10-52-32/2024-11-22_10-52-32_camTL.h5\n",
      "/home/yiting/Documents/Analysis/2024-11-22/anipose/pose_2d_filter/2024-11-22_10-52-32/2024-11-22_10-52-32_camTR.h5\n",
      "/home/yiting/Documents/Analysis/2024-11-22/anipose/pose_2d_filter/2024-11-22_10-52-32/2024-11-22_10-52-32_camTo.h5\n",
      "/home/yiting/Documents/Analysis/2024-11-22/anipose/pose_2d_filter/2024-11-22_10-52-43/2024-11-22_10-52-43_camBL.h5\n",
      "/home/yiting/Documents/Analysis/2024-11-22/anipose/pose_2d_filter/2024-11-22_10-52-43/2024-11-22_10-52-43_camBR.h5\n",
      "/home/yiting/Documents/Analysis/2024-11-22/anipose/pose_2d_filter/2024-11-22_10-52-43/2024-11-22_10-52-43_camTL.h5\n",
      "/home/yiting/Documents/Analysis/2024-11-22/anipose/pose_2d_filter/2024-11-22_10-52-43/2024-11-22_10-52-43_camTR.h5\n",
      "/home/yiting/Documents/Analysis/2024-11-22/anipose/pose_2d_filter/2024-11-22_10-52-43/2024-11-22_10-52-43_camTo.h5\n",
      "/home/yiting/Documents/Analysis/2024-11-22/anipose/pose_2d_filter/2024-11-22_10-52-54/2024-11-22_10-52-54_camBL.h5\n",
      "/home/yiting/Documents/Analysis/2024-11-22/anipose/pose_2d_filter/2024-11-22_10-52-54/2024-11-22_10-52-54_camBR.h5\n",
      "/home/yiting/Documents/Analysis/2024-11-22/anipose/pose_2d_filter/2024-11-22_10-52-54/2024-11-22_10-52-54_camTL.h5\n",
      "/home/yiting/Documents/Analysis/2024-11-22/anipose/pose_2d_filter/2024-11-22_10-52-54/2024-11-22_10-52-54_camTR.h5\n",
      "/home/yiting/Documents/Analysis/2024-11-22/anipose/pose_2d_filter/2024-11-22_10-52-54/2024-11-22_10-52-54_camTo.h5\n",
      "/home/yiting/Documents/Analysis/2024-11-22/anipose/pose_2d_filter/2024-11-22_10-53-06/2024-11-22_10-53-06_camBL.h5\n",
      "/home/yiting/Documents/Analysis/2024-11-22/anipose/pose_2d_filter/2024-11-22_10-53-06/2024-11-22_10-53-06_camBR.h5\n",
      "/home/yiting/Documents/Analysis/2024-11-22/anipose/pose_2d_filter/2024-11-22_10-53-06/2024-11-22_10-53-06_camTL.h5\n",
      "/home/yiting/Documents/Analysis/2024-11-22/anipose/pose_2d_filter/2024-11-22_10-53-06/2024-11-22_10-53-06_camTR.h5\n",
      "/home/yiting/Documents/Analysis/2024-11-22/anipose/pose_2d_filter/2024-11-22_10-53-06/2024-11-22_10-53-06_camTo.h5\n",
      "/home/yiting/Documents/Analysis/2024-11-22/anipose/pose_2d_filter/2024-11-22_10-53-18/2024-11-22_10-53-18_camBL.h5\n",
      "/home/yiting/Documents/Analysis/2024-11-22/anipose/pose_2d_filter/2024-11-22_10-53-18/2024-11-22_10-53-18_camBR.h5\n",
      "/home/yiting/Documents/Analysis/2024-11-22/anipose/pose_2d_filter/2024-11-22_10-53-18/2024-11-22_10-53-18_camTL.h5\n",
      "/home/yiting/Documents/Analysis/2024-11-22/anipose/pose_2d_filter/2024-11-22_10-53-18/2024-11-22_10-53-18_camTR.h5\n",
      "/home/yiting/Documents/Analysis/2024-11-22/anipose/pose_2d_filter/2024-11-22_10-53-18/2024-11-22_10-53-18_camTo.h5\n",
      "/home/yiting/Documents/Analysis/2024-11-22/anipose/pose_2d_filter/2024-11-22_10-53-32/2024-11-22_10-53-32_camBL.h5\n",
      "/home/yiting/Documents/Analysis/2024-11-22/anipose/pose_2d_filter/2024-11-22_10-53-32/2024-11-22_10-53-32_camBR.h5\n",
      "/home/yiting/Documents/Analysis/2024-11-22/anipose/pose_2d_filter/2024-11-22_10-53-32/2024-11-22_10-53-32_camTL.h5\n",
      "/home/yiting/Documents/Analysis/2024-11-22/anipose/pose_2d_filter/2024-11-22_10-53-32/2024-11-22_10-53-32_camTR.h5\n",
      "/home/yiting/Documents/Analysis/2024-11-22/anipose/pose_2d_filter/2024-11-22_10-53-32/2024-11-22_10-53-32_camTo.h5\n",
      "/home/yiting/Documents/Analysis/2024-11-22/anipose/pose_2d_filter/2024-11-22_10-53-45/2024-11-22_10-53-45_camBL.h5\n",
      "/home/yiting/Documents/Analysis/2024-11-22/anipose/pose_2d_filter/2024-11-22_10-53-45/2024-11-22_10-53-45_camBR.h5\n",
      "/home/yiting/Documents/Analysis/2024-11-22/anipose/pose_2d_filter/2024-11-22_10-53-45/2024-11-22_10-53-45_camTL.h5\n",
      "/home/yiting/Documents/Analysis/2024-11-22/anipose/pose_2d_filter/2024-11-22_10-53-45/2024-11-22_10-53-45_camTR.h5\n",
      "/home/yiting/Documents/Analysis/2024-11-22/anipose/pose_2d_filter/2024-11-22_10-53-45/2024-11-22_10-53-45_camTo.h5\n",
      "/home/yiting/Documents/Analysis/2024-11-22/anipose/pose_2d_filter/2024-11-22_10-53-59/2024-11-22_10-53-59_camBL.h5\n",
      "/home/yiting/Documents/Analysis/2024-11-22/anipose/pose_2d_filter/2024-11-22_10-53-59/2024-11-22_10-53-59_camBR.h5\n",
      "/home/yiting/Documents/Analysis/2024-11-22/anipose/pose_2d_filter/2024-11-22_10-53-59/2024-11-22_10-53-59_camTL.h5\n",
      "/home/yiting/Documents/Analysis/2024-11-22/anipose/pose_2d_filter/2024-11-22_10-53-59/2024-11-22_10-53-59_camTR.h5\n",
      "/home/yiting/Documents/Analysis/2024-11-22/anipose/pose_2d_filter/2024-11-22_10-53-59/2024-11-22_10-53-59_camTo.h5\n",
      "/home/yiting/Documents/Analysis/2024-11-22/anipose/pose_2d_filter/2024-11-22_10-54-12/2024-11-22_10-54-12_camBL.h5\n",
      "/home/yiting/Documents/Analysis/2024-11-22/anipose/pose_2d_filter/2024-11-22_10-54-12/2024-11-22_10-54-12_camBR.h5\n",
      "/home/yiting/Documents/Analysis/2024-11-22/anipose/pose_2d_filter/2024-11-22_10-54-12/2024-11-22_10-54-12_camTL.h5\n",
      "/home/yiting/Documents/Analysis/2024-11-22/anipose/pose_2d_filter/2024-11-22_10-54-12/2024-11-22_10-54-12_camTR.h5\n",
      "/home/yiting/Documents/Analysis/2024-11-22/anipose/pose_2d_filter/2024-11-22_10-54-12/2024-11-22_10-54-12_camTo.h5\n",
      "/home/yiting/Documents/Analysis/2024-11-22/anipose/pose_2d_filter/2024-11-22_10-54-25/2024-11-22_10-54-25_camBL.h5\n",
      "/home/yiting/Documents/Analysis/2024-11-22/anipose/pose_2d_filter/2024-11-22_10-54-25/2024-11-22_10-54-25_camBR.h5\n",
      "/home/yiting/Documents/Analysis/2024-11-22/anipose/pose_2d_filter/2024-11-22_10-54-25/2024-11-22_10-54-25_camTL.h5\n",
      "/home/yiting/Documents/Analysis/2024-11-22/anipose/pose_2d_filter/2024-11-22_10-54-25/2024-11-22_10-54-25_camTR.h5\n",
      "/home/yiting/Documents/Analysis/2024-11-22/anipose/pose_2d_filter/2024-11-22_10-54-25/2024-11-22_10-54-25_camTo.h5\n",
      "/home/yiting/Documents/Analysis/2024-11-22/anipose/pose_2d_filter/2024-11-22_10-54-39/2024-11-22_10-54-39_camBL.h5\n",
      "/home/yiting/Documents/Analysis/2024-11-22/anipose/pose_2d_filter/2024-11-22_10-54-39/2024-11-22_10-54-39_camBR.h5\n",
      "/home/yiting/Documents/Analysis/2024-11-22/anipose/pose_2d_filter/2024-11-22_10-54-39/2024-11-22_10-54-39_camTL.h5\n",
      "/home/yiting/Documents/Analysis/2024-11-22/anipose/pose_2d_filter/2024-11-22_10-54-39/2024-11-22_10-54-39_camTR.h5\n",
      "/home/yiting/Documents/Analysis/2024-11-22/anipose/pose_2d_filter/2024-11-22_10-54-39/2024-11-22_10-54-39_camTo.h5\n",
      "/home/yiting/Documents/Analysis/2024-11-22/anipose/pose_2d_filter/2024-11-22_10-54-51/2024-11-22_10-54-51_camBL.h5\n",
      "/home/yiting/Documents/Analysis/2024-11-22/anipose/pose_2d_filter/2024-11-22_10-54-51/2024-11-22_10-54-51_camBR.h5\n",
      "/home/yiting/Documents/Analysis/2024-11-22/anipose/pose_2d_filter/2024-11-22_10-54-51/2024-11-22_10-54-51_camTL.h5\n",
      "/home/yiting/Documents/Analysis/2024-11-22/anipose/pose_2d_filter/2024-11-22_10-54-51/2024-11-22_10-54-51_camTR.h5\n",
      "/home/yiting/Documents/Analysis/2024-11-22/anipose/pose_2d_filter/2024-11-22_10-54-51/2024-11-22_10-54-51_camTo.h5\n",
      "/home/yiting/Documents/Analysis/2024-11-22/anipose/pose_2d_filter/2024-11-22_10-55-04/2024-11-22_10-55-04_camBL.h5\n",
      "/home/yiting/Documents/Analysis/2024-11-22/anipose/pose_2d_filter/2024-11-22_10-55-04/2024-11-22_10-55-04_camBR.h5\n",
      "/home/yiting/Documents/Analysis/2024-11-22/anipose/pose_2d_filter/2024-11-22_10-55-04/2024-11-22_10-55-04_camTL.h5\n",
      "/home/yiting/Documents/Analysis/2024-11-22/anipose/pose_2d_filter/2024-11-22_10-55-04/2024-11-22_10-55-04_camTR.h5\n",
      "/home/yiting/Documents/Analysis/2024-11-22/anipose/pose_2d_filter/2024-11-22_10-55-04/2024-11-22_10-55-04_camTo.h5\n",
      "/home/yiting/Documents/Analysis/2024-11-22/anipose/pose_2d_filter/2024-11-22_10-55-16/2024-11-22_10-55-16_camBL.h5\n",
      "/home/yiting/Documents/Analysis/2024-11-22/anipose/pose_2d_filter/2024-11-22_10-55-16/2024-11-22_10-55-16_camBR.h5\n",
      "/home/yiting/Documents/Analysis/2024-11-22/anipose/pose_2d_filter/2024-11-22_10-55-16/2024-11-22_10-55-16_camTL.h5\n",
      "/home/yiting/Documents/Analysis/2024-11-22/anipose/pose_2d_filter/2024-11-22_10-55-16/2024-11-22_10-55-16_camTR.h5\n",
      "/home/yiting/Documents/Analysis/2024-11-22/anipose/pose_2d_filter/2024-11-22_10-55-16/2024-11-22_10-55-16_camTo.h5\n",
      "/home/yiting/Documents/Analysis/2024-11-22/anipose/pose_2d_filter/2024-11-22_10-55-30/2024-11-22_10-55-30_camBL.h5\n",
      "/home/yiting/Documents/Analysis/2024-11-22/anipose/pose_2d_filter/2024-11-22_10-55-30/2024-11-22_10-55-30_camBR.h5\n",
      "/home/yiting/Documents/Analysis/2024-11-22/anipose/pose_2d_filter/2024-11-22_10-55-30/2024-11-22_10-55-30_camTL.h5\n",
      "/home/yiting/Documents/Analysis/2024-11-22/anipose/pose_2d_filter/2024-11-22_10-55-30/2024-11-22_10-55-30_camTR.h5\n",
      "/home/yiting/Documents/Analysis/2024-11-22/anipose/pose_2d_filter/2024-11-22_10-55-30/2024-11-22_10-55-30_camTo.h5\n",
      "/home/yiting/Documents/Analysis/2024-11-22/anipose/pose_2d_filter/2024-11-22_10-55-42/2024-11-22_10-55-42_camBL.h5\n",
      "/home/yiting/Documents/Analysis/2024-11-22/anipose/pose_2d_filter/2024-11-22_10-55-42/2024-11-22_10-55-42_camBR.h5\n",
      "/home/yiting/Documents/Analysis/2024-11-22/anipose/pose_2d_filter/2024-11-22_10-55-42/2024-11-22_10-55-42_camTL.h5\n",
      "/home/yiting/Documents/Analysis/2024-11-22/anipose/pose_2d_filter/2024-11-22_10-55-42/2024-11-22_10-55-42_camTR.h5\n",
      "/home/yiting/Documents/Analysis/2024-11-22/anipose/pose_2d_filter/2024-11-22_10-55-42/2024-11-22_10-55-42_camTo.h5\n",
      "/home/yiting/Documents/Analysis/2024-11-22/anipose/pose_2d_filter/2024-11-22_10-55-55/2024-11-22_10-55-55_camBL.h5\n",
      "/home/yiting/Documents/Analysis/2024-11-22/anipose/pose_2d_filter/2024-11-22_10-55-55/2024-11-22_10-55-55_camBR.h5\n",
      "/home/yiting/Documents/Analysis/2024-11-22/anipose/pose_2d_filter/2024-11-22_10-55-55/2024-11-22_10-55-55_camTL.h5\n",
      "/home/yiting/Documents/Analysis/2024-11-22/anipose/pose_2d_filter/2024-11-22_10-55-55/2024-11-22_10-55-55_camTR.h5\n",
      "/home/yiting/Documents/Analysis/2024-11-22/anipose/pose_2d_filter/2024-11-22_10-55-55/2024-11-22_10-55-55_camTo.h5\n",
      "/home/yiting/Documents/Analysis/2024-11-22/anipose/pose_2d_filter/2024-11-22_10-56-07/2024-11-22_10-56-07_camBL.h5\n",
      "/home/yiting/Documents/Analysis/2024-11-22/anipose/pose_2d_filter/2024-11-22_10-56-07/2024-11-22_10-56-07_camBR.h5\n",
      "/home/yiting/Documents/Analysis/2024-11-22/anipose/pose_2d_filter/2024-11-22_10-56-07/2024-11-22_10-56-07_camTL.h5\n",
      "/home/yiting/Documents/Analysis/2024-11-22/anipose/pose_2d_filter/2024-11-22_10-56-07/2024-11-22_10-56-07_camTR.h5\n",
      "/home/yiting/Documents/Analysis/2024-11-22/anipose/pose_2d_filter/2024-11-22_10-56-07/2024-11-22_10-56-07_camTo.h5\n",
      "/home/yiting/Documents/Analysis/2024-11-22/anipose/pose_2d_filter/2024-11-22_10-56-21/2024-11-22_10-56-21_camBL.h5\n",
      "/home/yiting/Documents/Analysis/2024-11-22/anipose/pose_2d_filter/2024-11-22_10-56-21/2024-11-22_10-56-21_camBR.h5\n",
      "/home/yiting/Documents/Analysis/2024-11-22/anipose/pose_2d_filter/2024-11-22_10-56-21/2024-11-22_10-56-21_camTL.h5\n",
      "/home/yiting/Documents/Analysis/2024-11-22/anipose/pose_2d_filter/2024-11-22_10-56-21/2024-11-22_10-56-21_camTR.h5\n",
      "/home/yiting/Documents/Analysis/2024-11-22/anipose/pose_2d_filter/2024-11-22_10-56-21/2024-11-22_10-56-21_camTo.h5\n",
      "/home/yiting/Documents/Analysis/2024-11-22/anipose/pose_2d_filter/2024-11-22_10-56-33/2024-11-22_10-56-33_camBL.h5\n",
      "/home/yiting/Documents/Analysis/2024-11-22/anipose/pose_2d_filter/2024-11-22_10-56-33/2024-11-22_10-56-33_camBR.h5\n",
      "/home/yiting/Documents/Analysis/2024-11-22/anipose/pose_2d_filter/2024-11-22_10-56-33/2024-11-22_10-56-33_camTL.h5\n",
      "/home/yiting/Documents/Analysis/2024-11-22/anipose/pose_2d_filter/2024-11-22_10-56-33/2024-11-22_10-56-33_camTR.h5\n",
      "/home/yiting/Documents/Analysis/2024-11-22/anipose/pose_2d_filter/2024-11-22_10-56-33/2024-11-22_10-56-33_camTo.h5\n",
      "/home/yiting/Documents/Analysis/2024-11-22/anipose/pose_2d_filter/2024-11-22_10-56-45/2024-11-22_10-56-45_camBL.h5\n",
      "/home/yiting/Documents/Analysis/2024-11-22/anipose/pose_2d_filter/2024-11-22_10-56-45/2024-11-22_10-56-45_camBR.h5\n",
      "/home/yiting/Documents/Analysis/2024-11-22/anipose/pose_2d_filter/2024-11-22_10-56-45/2024-11-22_10-56-45_camTL.h5\n",
      "/home/yiting/Documents/Analysis/2024-11-22/anipose/pose_2d_filter/2024-11-22_10-56-45/2024-11-22_10-56-45_camTR.h5\n",
      "/home/yiting/Documents/Analysis/2024-11-22/anipose/pose_2d_filter/2024-11-22_10-56-45/2024-11-22_10-56-45_camTo.h5\n",
      "/home/yiting/Documents/Analysis/2024-11-22/anipose/pose_2d_filter/2024-11-22_10-56-59/2024-11-22_10-56-59_camBL.h5\n",
      "/home/yiting/Documents/Analysis/2024-11-22/anipose/pose_2d_filter/2024-11-22_10-56-59/2024-11-22_10-56-59_camBR.h5\n",
      "/home/yiting/Documents/Analysis/2024-11-22/anipose/pose_2d_filter/2024-11-22_10-56-59/2024-11-22_10-56-59_camTL.h5\n",
      "/home/yiting/Documents/Analysis/2024-11-22/anipose/pose_2d_filter/2024-11-22_10-56-59/2024-11-22_10-56-59_camTR.h5\n",
      "/home/yiting/Documents/Analysis/2024-11-22/anipose/pose_2d_filter/2024-11-22_10-56-59/2024-11-22_10-56-59_camTo.h5\n",
      "/home/yiting/Documents/Analysis/2024-11-22/anipose/pose_2d_filter/2024-11-22_10-57-12/2024-11-22_10-57-12_camBL.h5\n",
      "/home/yiting/Documents/Analysis/2024-11-22/anipose/pose_2d_filter/2024-11-22_10-57-12/2024-11-22_10-57-12_camBR.h5\n",
      "/home/yiting/Documents/Analysis/2024-11-22/anipose/pose_2d_filter/2024-11-22_10-57-12/2024-11-22_10-57-12_camTL.h5\n",
      "/home/yiting/Documents/Analysis/2024-11-22/anipose/pose_2d_filter/2024-11-22_10-57-12/2024-11-22_10-57-12_camTR.h5\n",
      "/home/yiting/Documents/Analysis/2024-11-22/anipose/pose_2d_filter/2024-11-22_10-57-12/2024-11-22_10-57-12_camTo.h5\n",
      "/home/yiting/Documents/Analysis/2024-11-22/anipose/pose_2d_filter/2024-11-22_10-57-24/2024-11-22_10-57-24_camBL.h5\n",
      "/home/yiting/Documents/Analysis/2024-11-22/anipose/pose_2d_filter/2024-11-22_10-57-24/2024-11-22_10-57-24_camBR.h5\n",
      "/home/yiting/Documents/Analysis/2024-11-22/anipose/pose_2d_filter/2024-11-22_10-57-24/2024-11-22_10-57-24_camTL.h5\n",
      "/home/yiting/Documents/Analysis/2024-11-22/anipose/pose_2d_filter/2024-11-22_10-57-24/2024-11-22_10-57-24_camTR.h5\n",
      "/home/yiting/Documents/Analysis/2024-11-22/anipose/pose_2d_filter/2024-11-22_10-57-24/2024-11-22_10-57-24_camTo.h5\n",
      "/home/yiting/Documents/Analysis/2024-11-22/anipose/pose_2d_filter/2024-11-22_10-57-37/2024-11-22_10-57-37_camBL.h5\n",
      "/home/yiting/Documents/Analysis/2024-11-22/anipose/pose_2d_filter/2024-11-22_10-57-37/2024-11-22_10-57-37_camBR.h5\n",
      "/home/yiting/Documents/Analysis/2024-11-22/anipose/pose_2d_filter/2024-11-22_10-57-37/2024-11-22_10-57-37_camTL.h5\n",
      "/home/yiting/Documents/Analysis/2024-11-22/anipose/pose_2d_filter/2024-11-22_10-57-37/2024-11-22_10-57-37_camTR.h5\n",
      "/home/yiting/Documents/Analysis/2024-11-22/anipose/pose_2d_filter/2024-11-22_10-57-37/2024-11-22_10-57-37_camTo.h5\n",
      "/home/yiting/Documents/Analysis/2024-11-22/anipose/pose_2d_filter/2024-11-22_10-57-50/2024-11-22_10-57-50_camBL.h5\n",
      "/home/yiting/Documents/Analysis/2024-11-22/anipose/pose_2d_filter/2024-11-22_10-57-50/2024-11-22_10-57-50_camBR.h5\n",
      "/home/yiting/Documents/Analysis/2024-11-22/anipose/pose_2d_filter/2024-11-22_10-57-50/2024-11-22_10-57-50_camTL.h5\n",
      "/home/yiting/Documents/Analysis/2024-11-22/anipose/pose_2d_filter/2024-11-22_10-57-50/2024-11-22_10-57-50_camTR.h5\n",
      "/home/yiting/Documents/Analysis/2024-11-22/anipose/pose_2d_filter/2024-11-22_10-57-50/2024-11-22_10-57-50_camTo.h5\n",
      "/home/yiting/Documents/Analysis/2024-11-22/anipose/pose_2d_filter/2024-11-22_10-58-05/2024-11-22_10-58-05_camBL.h5\n",
      "/home/yiting/Documents/Analysis/2024-11-22/anipose/pose_2d_filter/2024-11-22_10-58-05/2024-11-22_10-58-05_camBR.h5\n",
      "/home/yiting/Documents/Analysis/2024-11-22/anipose/pose_2d_filter/2024-11-22_10-58-05/2024-11-22_10-58-05_camTL.h5\n",
      "/home/yiting/Documents/Analysis/2024-11-22/anipose/pose_2d_filter/2024-11-22_10-58-05/2024-11-22_10-58-05_camTR.h5\n",
      "/home/yiting/Documents/Analysis/2024-11-22/anipose/pose_2d_filter/2024-11-22_10-58-05/2024-11-22_10-58-05_camTo.h5\n",
      "/home/yiting/Documents/Analysis/2024-11-22/anipose/pose_2d_filter/2024-11-22_10-58-17/2024-11-22_10-58-17_camBL.h5\n",
      "/home/yiting/Documents/Analysis/2024-11-22/anipose/pose_2d_filter/2024-11-22_10-58-17/2024-11-22_10-58-17_camBR.h5\n",
      "/home/yiting/Documents/Analysis/2024-11-22/anipose/pose_2d_filter/2024-11-22_10-58-17/2024-11-22_10-58-17_camTL.h5\n",
      "/home/yiting/Documents/Analysis/2024-11-22/anipose/pose_2d_filter/2024-11-22_10-58-17/2024-11-22_10-58-17_camTR.h5\n",
      "/home/yiting/Documents/Analysis/2024-11-22/anipose/pose_2d_filter/2024-11-22_10-58-17/2024-11-22_10-58-17_camTo.h5\n",
      "/home/yiting/Documents/Analysis/2024-11-22/anipose/pose_2d_filter/2024-11-22_10-58-30/2024-11-22_10-58-30_camBL.h5\n",
      "/home/yiting/Documents/Analysis/2024-11-22/anipose/pose_2d_filter/2024-11-22_10-58-30/2024-11-22_10-58-30_camBR.h5\n",
      "/home/yiting/Documents/Analysis/2024-11-22/anipose/pose_2d_filter/2024-11-22_10-58-30/2024-11-22_10-58-30_camTL.h5\n",
      "/home/yiting/Documents/Analysis/2024-11-22/anipose/pose_2d_filter/2024-11-22_10-58-30/2024-11-22_10-58-30_camTR.h5\n",
      "/home/yiting/Documents/Analysis/2024-11-22/anipose/pose_2d_filter/2024-11-22_10-58-30/2024-11-22_10-58-30_camTo.h5\n",
      "/home/yiting/Documents/Analysis/2024-11-22/anipose/pose_2d_filter/2024-11-22_10-58-44/2024-11-22_10-58-44_camBL.h5\n",
      "/home/yiting/Documents/Analysis/2024-11-22/anipose/pose_2d_filter/2024-11-22_10-58-44/2024-11-22_10-58-44_camBR.h5\n",
      "/home/yiting/Documents/Analysis/2024-11-22/anipose/pose_2d_filter/2024-11-22_10-58-44/2024-11-22_10-58-44_camTL.h5\n",
      "/home/yiting/Documents/Analysis/2024-11-22/anipose/pose_2d_filter/2024-11-22_10-58-44/2024-11-22_10-58-44_camTR.h5\n",
      "/home/yiting/Documents/Analysis/2024-11-22/anipose/pose_2d_filter/2024-11-22_10-58-44/2024-11-22_10-58-44_camTo.h5\n",
      "/home/yiting/Documents/Analysis/2024-11-22/anipose/pose_2d_filter/2024-11-22_10-58-57/2024-11-22_10-58-57_camBL.h5\n",
      "/home/yiting/Documents/Analysis/2024-11-22/anipose/pose_2d_filter/2024-11-22_10-58-57/2024-11-22_10-58-57_camBR.h5\n",
      "/home/yiting/Documents/Analysis/2024-11-22/anipose/pose_2d_filter/2024-11-22_10-58-57/2024-11-22_10-58-57_camTL.h5\n",
      "/home/yiting/Documents/Analysis/2024-11-22/anipose/pose_2d_filter/2024-11-22_10-58-57/2024-11-22_10-58-57_camTR.h5\n",
      "/home/yiting/Documents/Analysis/2024-11-22/anipose/pose_2d_filter/2024-11-22_10-58-57/2024-11-22_10-58-57_camTo.h5\n",
      "/home/yiting/Documents/Analysis/2024-11-22/anipose/pose_2d_filter/2024-11-22_10-59-09/2024-11-22_10-59-09_camBL.h5\n",
      "/home/yiting/Documents/Analysis/2024-11-22/anipose/pose_2d_filter/2024-11-22_10-59-09/2024-11-22_10-59-09_camBR.h5\n",
      "/home/yiting/Documents/Analysis/2024-11-22/anipose/pose_2d_filter/2024-11-22_10-59-09/2024-11-22_10-59-09_camTL.h5\n",
      "/home/yiting/Documents/Analysis/2024-11-22/anipose/pose_2d_filter/2024-11-22_10-59-09/2024-11-22_10-59-09_camTR.h5\n",
      "/home/yiting/Documents/Analysis/2024-11-22/anipose/pose_2d_filter/2024-11-22_10-59-09/2024-11-22_10-59-09_camTo.h5\n",
      "/home/yiting/Documents/Analysis/2024-11-22/anipose/pose_2d_filter/2024-11-22_10-59-24/2024-11-22_10-59-24_camBL.h5\n",
      "/home/yiting/Documents/Analysis/2024-11-22/anipose/pose_2d_filter/2024-11-22_10-59-24/2024-11-22_10-59-24_camBR.h5\n",
      "/home/yiting/Documents/Analysis/2024-11-22/anipose/pose_2d_filter/2024-11-22_10-59-24/2024-11-22_10-59-24_camTL.h5\n",
      "/home/yiting/Documents/Analysis/2024-11-22/anipose/pose_2d_filter/2024-11-22_10-59-24/2024-11-22_10-59-24_camTR.h5\n",
      "/home/yiting/Documents/Analysis/2024-11-22/anipose/pose_2d_filter/2024-11-22_10-59-24/2024-11-22_10-59-24_camTo.h5\n",
      "/home/yiting/Documents/Analysis/2024-11-22/anipose/pose_2d_filter/2024-11-22_10-59-35/2024-11-22_10-59-35_camBL.h5\n",
      "/home/yiting/Documents/Analysis/2024-11-22/anipose/pose_2d_filter/2024-11-22_10-59-35/2024-11-22_10-59-35_camBR.h5\n",
      "/home/yiting/Documents/Analysis/2024-11-22/anipose/pose_2d_filter/2024-11-22_10-59-35/2024-11-22_10-59-35_camTL.h5\n",
      "/home/yiting/Documents/Analysis/2024-11-22/anipose/pose_2d_filter/2024-11-22_10-59-35/2024-11-22_10-59-35_camTR.h5\n",
      "/home/yiting/Documents/Analysis/2024-11-22/anipose/pose_2d_filter/2024-11-22_10-59-35/2024-11-22_10-59-35_camTo.h5\n",
      "/home/yiting/Documents/Analysis/2024-11-22/anipose/pose_2d_filter/2024-11-22_10-59-49/2024-11-22_10-59-49_camBL.h5\n",
      "/home/yiting/Documents/Analysis/2024-11-22/anipose/pose_2d_filter/2024-11-22_10-59-49/2024-11-22_10-59-49_camBR.h5\n",
      "/home/yiting/Documents/Analysis/2024-11-22/anipose/pose_2d_filter/2024-11-22_10-59-49/2024-11-22_10-59-49_camTL.h5\n",
      "/home/yiting/Documents/Analysis/2024-11-22/anipose/pose_2d_filter/2024-11-22_10-59-49/2024-11-22_10-59-49_camTR.h5\n",
      "/home/yiting/Documents/Analysis/2024-11-22/anipose/pose_2d_filter/2024-11-22_10-59-49/2024-11-22_10-59-49_camTo.h5\n",
      "/home/yiting/Documents/Analysis/2024-11-22/anipose/pose_2d_filter/2024-11-22_11-00-04/2024-11-22_11-00-04_camBL.h5\n",
      "/home/yiting/Documents/Analysis/2024-11-22/anipose/pose_2d_filter/2024-11-22_11-00-04/2024-11-22_11-00-04_camBR.h5\n",
      "/home/yiting/Documents/Analysis/2024-11-22/anipose/pose_2d_filter/2024-11-22_11-00-04/2024-11-22_11-00-04_camTL.h5\n",
      "/home/yiting/Documents/Analysis/2024-11-22/anipose/pose_2d_filter/2024-11-22_11-00-04/2024-11-22_11-00-04_camTR.h5\n",
      "/home/yiting/Documents/Analysis/2024-11-22/anipose/pose_2d_filter/2024-11-22_11-00-04/2024-11-22_11-00-04_camTo.h5\n",
      "/home/yiting/Documents/Analysis/2024-11-22/anipose/pose_2d_filter/2024-11-22_11-00-17/2024-11-22_11-00-17_camBL.h5\n",
      "/home/yiting/Documents/Analysis/2024-11-22/anipose/pose_2d_filter/2024-11-22_11-00-17/2024-11-22_11-00-17_camBR.h5\n",
      "/home/yiting/Documents/Analysis/2024-11-22/anipose/pose_2d_filter/2024-11-22_11-00-17/2024-11-22_11-00-17_camTL.h5\n",
      "/home/yiting/Documents/Analysis/2024-11-22/anipose/pose_2d_filter/2024-11-22_11-00-17/2024-11-22_11-00-17_camTR.h5\n",
      "/home/yiting/Documents/Analysis/2024-11-22/anipose/pose_2d_filter/2024-11-22_11-00-17/2024-11-22_11-00-17_camTo.h5\n",
      "/home/yiting/Documents/Analysis/2024-11-22/anipose/pose_2d_filter/2024-11-22_11-00-30/2024-11-22_11-00-30_camBL.h5\n",
      "/home/yiting/Documents/Analysis/2024-11-22/anipose/pose_2d_filter/2024-11-22_11-00-30/2024-11-22_11-00-30_camBR.h5\n",
      "/home/yiting/Documents/Analysis/2024-11-22/anipose/pose_2d_filter/2024-11-22_11-00-30/2024-11-22_11-00-30_camTL.h5\n",
      "/home/yiting/Documents/Analysis/2024-11-22/anipose/pose_2d_filter/2024-11-22_11-00-30/2024-11-22_11-00-30_camTR.h5\n",
      "/home/yiting/Documents/Analysis/2024-11-22/anipose/pose_2d_filter/2024-11-22_11-00-30/2024-11-22_11-00-30_camTo.h5\n",
      "/home/yiting/Documents/Analysis/2024-11-22/anipose/pose_2d_filter/2024-11-22_11-00-45/2024-11-22_11-00-45_camBL.h5\n",
      "/home/yiting/Documents/Analysis/2024-11-22/anipose/pose_2d_filter/2024-11-22_11-00-45/2024-11-22_11-00-45_camBR.h5\n",
      "/home/yiting/Documents/Analysis/2024-11-22/anipose/pose_2d_filter/2024-11-22_11-00-45/2024-11-22_11-00-45_camTL.h5\n",
      "/home/yiting/Documents/Analysis/2024-11-22/anipose/pose_2d_filter/2024-11-22_11-00-45/2024-11-22_11-00-45_camTR.h5\n",
      "/home/yiting/Documents/Analysis/2024-11-22/anipose/pose_2d_filter/2024-11-22_11-00-45/2024-11-22_11-00-45_camTo.h5\n",
      "/home/yiting/Documents/Analysis/2024-11-22/anipose/pose_2d_filter/2024-11-22_11-00-58/2024-11-22_11-00-58_camBL.h5\n",
      "/home/yiting/Documents/Analysis/2024-11-22/anipose/pose_2d_filter/2024-11-22_11-00-58/2024-11-22_11-00-58_camBR.h5\n",
      "/home/yiting/Documents/Analysis/2024-11-22/anipose/pose_2d_filter/2024-11-22_11-00-58/2024-11-22_11-00-58_camTL.h5\n",
      "/home/yiting/Documents/Analysis/2024-11-22/anipose/pose_2d_filter/2024-11-22_11-00-58/2024-11-22_11-00-58_camTR.h5\n",
      "/home/yiting/Documents/Analysis/2024-11-22/anipose/pose_2d_filter/2024-11-22_11-00-58/2024-11-22_11-00-58_camTo.h5\n",
      "/home/yiting/Documents/Analysis/2024-11-22/anipose/pose_2d_filter/2024-11-22_11-01-10/2024-11-22_11-01-10_camBL.h5\n",
      "/home/yiting/Documents/Analysis/2024-11-22/anipose/pose_2d_filter/2024-11-22_11-01-10/2024-11-22_11-01-10_camBR.h5\n",
      "/home/yiting/Documents/Analysis/2024-11-22/anipose/pose_2d_filter/2024-11-22_11-01-10/2024-11-22_11-01-10_camTL.h5\n",
      "/home/yiting/Documents/Analysis/2024-11-22/anipose/pose_2d_filter/2024-11-22_11-01-10/2024-11-22_11-01-10_camTR.h5\n",
      "/home/yiting/Documents/Analysis/2024-11-22/anipose/pose_2d_filter/2024-11-22_11-01-10/2024-11-22_11-01-10_camTo.h5\n",
      "/home/yiting/Documents/Analysis/2024-11-22/anipose/pose_2d_filter/2024-11-22_11-01-24/2024-11-22_11-01-24_camBL.h5\n",
      "/home/yiting/Documents/Analysis/2024-11-22/anipose/pose_2d_filter/2024-11-22_11-01-24/2024-11-22_11-01-24_camBR.h5\n",
      "/home/yiting/Documents/Analysis/2024-11-22/anipose/pose_2d_filter/2024-11-22_11-01-24/2024-11-22_11-01-24_camTL.h5\n",
      "/home/yiting/Documents/Analysis/2024-11-22/anipose/pose_2d_filter/2024-11-22_11-01-24/2024-11-22_11-01-24_camTR.h5\n",
      "/home/yiting/Documents/Analysis/2024-11-22/anipose/pose_2d_filter/2024-11-22_11-01-24/2024-11-22_11-01-24_camTo.h5\n",
      "/home/yiting/Documents/Analysis/2024-11-22/anipose/pose_2d_filter/2024-11-22_11-01-40/2024-11-22_11-01-40_camBL.h5\n",
      "/home/yiting/Documents/Analysis/2024-11-22/anipose/pose_2d_filter/2024-11-22_11-01-40/2024-11-22_11-01-40_camBR.h5\n",
      "/home/yiting/Documents/Analysis/2024-11-22/anipose/pose_2d_filter/2024-11-22_11-01-40/2024-11-22_11-01-40_camTL.h5\n",
      "/home/yiting/Documents/Analysis/2024-11-22/anipose/pose_2d_filter/2024-11-22_11-01-40/2024-11-22_11-01-40_camTR.h5\n",
      "/home/yiting/Documents/Analysis/2024-11-22/anipose/pose_2d_filter/2024-11-22_11-01-40/2024-11-22_11-01-40_camTo.h5\n",
      "/home/yiting/Documents/Analysis/2024-11-22/anipose/pose_2d_filter/2024-11-22_11-01-54/2024-11-22_11-01-54_camBL.h5\n",
      "/home/yiting/Documents/Analysis/2024-11-22/anipose/pose_2d_filter/2024-11-22_11-01-54/2024-11-22_11-01-54_camBR.h5\n",
      "/home/yiting/Documents/Analysis/2024-11-22/anipose/pose_2d_filter/2024-11-22_11-01-54/2024-11-22_11-01-54_camTL.h5\n",
      "/home/yiting/Documents/Analysis/2024-11-22/anipose/pose_2d_filter/2024-11-22_11-01-54/2024-11-22_11-01-54_camTR.h5\n",
      "/home/yiting/Documents/Analysis/2024-11-22/anipose/pose_2d_filter/2024-11-22_11-01-54/2024-11-22_11-01-54_camTo.h5\n",
      "/home/yiting/Documents/Analysis/2024-11-22/anipose/pose_2d_filter/2024-11-22_11-02-06/2024-11-22_11-02-06_camBL.h5\n",
      "/home/yiting/Documents/Analysis/2024-11-22/anipose/pose_2d_filter/2024-11-22_11-02-06/2024-11-22_11-02-06_camBR.h5\n",
      "/home/yiting/Documents/Analysis/2024-11-22/anipose/pose_2d_filter/2024-11-22_11-02-06/2024-11-22_11-02-06_camTL.h5\n",
      "/home/yiting/Documents/Analysis/2024-11-22/anipose/pose_2d_filter/2024-11-22_11-02-06/2024-11-22_11-02-06_camTR.h5\n",
      "/home/yiting/Documents/Analysis/2024-11-22/anipose/pose_2d_filter/2024-11-22_11-02-06/2024-11-22_11-02-06_camTo.h5\n",
      "/home/yiting/Documents/Analysis/2024-11-22/anipose/pose_2d_filter/2024-11-22_11-02-21/2024-11-22_11-02-21_camBL.h5\n",
      "/home/yiting/Documents/Analysis/2024-11-22/anipose/pose_2d_filter/2024-11-22_11-02-21/2024-11-22_11-02-21_camBR.h5\n",
      "/home/yiting/Documents/Analysis/2024-11-22/anipose/pose_2d_filter/2024-11-22_11-02-21/2024-11-22_11-02-21_camTL.h5\n",
      "/home/yiting/Documents/Analysis/2024-11-22/anipose/pose_2d_filter/2024-11-22_11-02-21/2024-11-22_11-02-21_camTR.h5\n",
      "/home/yiting/Documents/Analysis/2024-11-22/anipose/pose_2d_filter/2024-11-22_11-02-21/2024-11-22_11-02-21_camTo.h5\n",
      "/home/yiting/Documents/Analysis/2024-11-22/anipose/pose_2d_filter/2024-11-22_11-02-35/2024-11-22_11-02-35_camBL.h5\n",
      "/home/yiting/Documents/Analysis/2024-11-22/anipose/pose_2d_filter/2024-11-22_11-02-35/2024-11-22_11-02-35_camBR.h5\n",
      "/home/yiting/Documents/Analysis/2024-11-22/anipose/pose_2d_filter/2024-11-22_11-02-35/2024-11-22_11-02-35_camTL.h5\n",
      "/home/yiting/Documents/Analysis/2024-11-22/anipose/pose_2d_filter/2024-11-22_11-02-35/2024-11-22_11-02-35_camTR.h5\n",
      "/home/yiting/Documents/Analysis/2024-11-22/anipose/pose_2d_filter/2024-11-22_11-02-35/2024-11-22_11-02-35_camTo.h5\n",
      "/home/yiting/Documents/Analysis/2024-11-22/anipose/pose_2d_filter/2024-11-22_11-02-48/2024-11-22_11-02-48_camBL.h5\n",
      "/home/yiting/Documents/Analysis/2024-11-22/anipose/pose_2d_filter/2024-11-22_11-02-48/2024-11-22_11-02-48_camBR.h5\n",
      "/home/yiting/Documents/Analysis/2024-11-22/anipose/pose_2d_filter/2024-11-22_11-02-48/2024-11-22_11-02-48_camTL.h5\n",
      "/home/yiting/Documents/Analysis/2024-11-22/anipose/pose_2d_filter/2024-11-22_11-02-48/2024-11-22_11-02-48_camTR.h5\n",
      "/home/yiting/Documents/Analysis/2024-11-22/anipose/pose_2d_filter/2024-11-22_11-02-48/2024-11-22_11-02-48_camTo.h5\n",
      "/home/yiting/Documents/Analysis/2024-11-22/anipose/pose_2d_filter/2024-11-22_11-03-00/2024-11-22_11-03-00_camBL.h5\n",
      "/home/yiting/Documents/Analysis/2024-11-22/anipose/pose_2d_filter/2024-11-22_11-03-00/2024-11-22_11-03-00_camBR.h5\n",
      "/home/yiting/Documents/Analysis/2024-11-22/anipose/pose_2d_filter/2024-11-22_11-03-00/2024-11-22_11-03-00_camTL.h5\n",
      "/home/yiting/Documents/Analysis/2024-11-22/anipose/pose_2d_filter/2024-11-22_11-03-00/2024-11-22_11-03-00_camTR.h5\n",
      "/home/yiting/Documents/Analysis/2024-11-22/anipose/pose_2d_filter/2024-11-22_11-03-00/2024-11-22_11-03-00_camTo.h5\n",
      "/home/yiting/Documents/Analysis/2024-11-22/anipose/pose_2d_filter/2024-11-22_11-03-12/2024-11-22_11-03-12_camBL.h5\n",
      "/home/yiting/Documents/Analysis/2024-11-22/anipose/pose_2d_filter/2024-11-22_11-03-12/2024-11-22_11-03-12_camBR.h5\n",
      "/home/yiting/Documents/Analysis/2024-11-22/anipose/pose_2d_filter/2024-11-22_11-03-12/2024-11-22_11-03-12_camTL.h5\n",
      "/home/yiting/Documents/Analysis/2024-11-22/anipose/pose_2d_filter/2024-11-22_11-03-12/2024-11-22_11-03-12_camTR.h5\n",
      "/home/yiting/Documents/Analysis/2024-11-22/anipose/pose_2d_filter/2024-11-22_11-03-12/2024-11-22_11-03-12_camTo.h5\n",
      "/home/yiting/Documents/Analysis/2024-11-22/anipose/pose_2d_filter/2024-11-22_11-03-27/2024-11-22_11-03-27_camBL.h5\n",
      "/home/yiting/Documents/Analysis/2024-11-22/anipose/pose_2d_filter/2024-11-22_11-03-27/2024-11-22_11-03-27_camBR.h5\n",
      "/home/yiting/Documents/Analysis/2024-11-22/anipose/pose_2d_filter/2024-11-22_11-03-27/2024-11-22_11-03-27_camTL.h5\n",
      "/home/yiting/Documents/Analysis/2024-11-22/anipose/pose_2d_filter/2024-11-22_11-03-27/2024-11-22_11-03-27_camTR.h5\n",
      "/home/yiting/Documents/Analysis/2024-11-22/anipose/pose_2d_filter/2024-11-22_11-03-27/2024-11-22_11-03-27_camTo.h5\n",
      "/home/yiting/Documents/Analysis/2024-11-22/anipose/pose_2d_filter/2024-11-22_11-03-42/2024-11-22_11-03-42_camBL.h5\n",
      "/home/yiting/Documents/Analysis/2024-11-22/anipose/pose_2d_filter/2024-11-22_11-03-42/2024-11-22_11-03-42_camBR.h5\n",
      "/home/yiting/Documents/Analysis/2024-11-22/anipose/pose_2d_filter/2024-11-22_11-03-42/2024-11-22_11-03-42_camTL.h5\n",
      "/home/yiting/Documents/Analysis/2024-11-22/anipose/pose_2d_filter/2024-11-22_11-03-42/2024-11-22_11-03-42_camTR.h5\n",
      "/home/yiting/Documents/Analysis/2024-11-22/anipose/pose_2d_filter/2024-11-22_11-03-42/2024-11-22_11-03-42_camTo.h5\n",
      "/home/yiting/Documents/Analysis/2024-11-22/anipose/pose_2d_filter/2024-11-22_11-03-54/2024-11-22_11-03-54_camBL.h5\n",
      "/home/yiting/Documents/Analysis/2024-11-22/anipose/pose_2d_filter/2024-11-22_11-03-54/2024-11-22_11-03-54_camBR.h5\n",
      "/home/yiting/Documents/Analysis/2024-11-22/anipose/pose_2d_filter/2024-11-22_11-03-54/2024-11-22_11-03-54_camTL.h5\n",
      "/home/yiting/Documents/Analysis/2024-11-22/anipose/pose_2d_filter/2024-11-22_11-03-54/2024-11-22_11-03-54_camTR.h5\n",
      "/home/yiting/Documents/Analysis/2024-11-22/anipose/pose_2d_filter/2024-11-22_11-03-54/2024-11-22_11-03-54_camTo.h5\n",
      "/home/yiting/Documents/Analysis/2024-11-22/anipose/pose_2d_filter/2024-11-22_11-04-08/2024-11-22_11-04-08_camBL.h5\n",
      "/home/yiting/Documents/Analysis/2024-11-22/anipose/pose_2d_filter/2024-11-22_11-04-08/2024-11-22_11-04-08_camBR.h5\n",
      "/home/yiting/Documents/Analysis/2024-11-22/anipose/pose_2d_filter/2024-11-22_11-04-08/2024-11-22_11-04-08_camTL.h5\n",
      "/home/yiting/Documents/Analysis/2024-11-22/anipose/pose_2d_filter/2024-11-22_11-04-08/2024-11-22_11-04-08_camTR.h5\n",
      "/home/yiting/Documents/Analysis/2024-11-22/anipose/pose_2d_filter/2024-11-22_11-04-08/2024-11-22_11-04-08_camTo.h5\n",
      "/home/yiting/Documents/Analysis/2024-11-22/anipose/pose_2d_filter/2024-11-22_11-04-21/2024-11-22_11-04-21_camBL.h5\n",
      "/home/yiting/Documents/Analysis/2024-11-22/anipose/pose_2d_filter/2024-11-22_11-04-21/2024-11-22_11-04-21_camBR.h5\n",
      "/home/yiting/Documents/Analysis/2024-11-22/anipose/pose_2d_filter/2024-11-22_11-04-21/2024-11-22_11-04-21_camTL.h5\n",
      "/home/yiting/Documents/Analysis/2024-11-22/anipose/pose_2d_filter/2024-11-22_11-04-21/2024-11-22_11-04-21_camTR.h5\n",
      "/home/yiting/Documents/Analysis/2024-11-22/anipose/pose_2d_filter/2024-11-22_11-04-21/2024-11-22_11-04-21_camTo.h5\n",
      "/home/yiting/Documents/Analysis/2024-11-22/anipose/pose_2d_filter/2024-11-22_11-04-34/2024-11-22_11-04-34_camBL.h5\n",
      "/home/yiting/Documents/Analysis/2024-11-22/anipose/pose_2d_filter/2024-11-22_11-04-34/2024-11-22_11-04-34_camBR.h5\n",
      "/home/yiting/Documents/Analysis/2024-11-22/anipose/pose_2d_filter/2024-11-22_11-04-34/2024-11-22_11-04-34_camTL.h5\n",
      "/home/yiting/Documents/Analysis/2024-11-22/anipose/pose_2d_filter/2024-11-22_11-04-34/2024-11-22_11-04-34_camTR.h5\n",
      "/home/yiting/Documents/Analysis/2024-11-22/anipose/pose_2d_filter/2024-11-22_11-04-34/2024-11-22_11-04-34_camTo.h5\n",
      "/home/yiting/Documents/Analysis/2024-11-22/anipose/pose_2d_filter/2024-11-22_11-04-48/2024-11-22_11-04-48_camBL.h5\n",
      "/home/yiting/Documents/Analysis/2024-11-22/anipose/pose_2d_filter/2024-11-22_11-04-48/2024-11-22_11-04-48_camBR.h5\n",
      "/home/yiting/Documents/Analysis/2024-11-22/anipose/pose_2d_filter/2024-11-22_11-04-48/2024-11-22_11-04-48_camTL.h5\n",
      "/home/yiting/Documents/Analysis/2024-11-22/anipose/pose_2d_filter/2024-11-22_11-04-48/2024-11-22_11-04-48_camTR.h5\n",
      "/home/yiting/Documents/Analysis/2024-11-22/anipose/pose_2d_filter/2024-11-22_11-04-48/2024-11-22_11-04-48_camTo.h5\n",
      "/home/yiting/Documents/Analysis/2024-11-22/anipose/pose_2d_filter/2024-11-22_11-05-01/2024-11-22_11-05-01_camBL.h5\n",
      "/home/yiting/Documents/Analysis/2024-11-22/anipose/pose_2d_filter/2024-11-22_11-05-01/2024-11-22_11-05-01_camBR.h5\n",
      "/home/yiting/Documents/Analysis/2024-11-22/anipose/pose_2d_filter/2024-11-22_11-05-01/2024-11-22_11-05-01_camTL.h5\n",
      "/home/yiting/Documents/Analysis/2024-11-22/anipose/pose_2d_filter/2024-11-22_11-05-01/2024-11-22_11-05-01_camTR.h5\n",
      "/home/yiting/Documents/Analysis/2024-11-22/anipose/pose_2d_filter/2024-11-22_11-05-01/2024-11-22_11-05-01_camTo.h5\n",
      "/home/yiting/Documents/Analysis/2024-11-22/anipose/pose_2d_filter/2024-11-22_11-05-16/2024-11-22_11-05-16_camBL.h5\n",
      "/home/yiting/Documents/Analysis/2024-11-22/anipose/pose_2d_filter/2024-11-22_11-05-16/2024-11-22_11-05-16_camBR.h5\n",
      "/home/yiting/Documents/Analysis/2024-11-22/anipose/pose_2d_filter/2024-11-22_11-05-16/2024-11-22_11-05-16_camTL.h5\n",
      "/home/yiting/Documents/Analysis/2024-11-22/anipose/pose_2d_filter/2024-11-22_11-05-16/2024-11-22_11-05-16_camTR.h5\n",
      "/home/yiting/Documents/Analysis/2024-11-22/anipose/pose_2d_filter/2024-11-22_11-05-16/2024-11-22_11-05-16_camTo.h5\n",
      "/home/yiting/Documents/Analysis/2024-11-22/anipose/pose_2d_filter/2024-11-22_11-05-29/2024-11-22_11-05-29_camBL.h5\n",
      "/home/yiting/Documents/Analysis/2024-11-22/anipose/pose_2d_filter/2024-11-22_11-05-29/2024-11-22_11-05-29_camBR.h5\n",
      "/home/yiting/Documents/Analysis/2024-11-22/anipose/pose_2d_filter/2024-11-22_11-05-29/2024-11-22_11-05-29_camTL.h5\n",
      "/home/yiting/Documents/Analysis/2024-11-22/anipose/pose_2d_filter/2024-11-22_11-05-29/2024-11-22_11-05-29_camTR.h5\n",
      "/home/yiting/Documents/Analysis/2024-11-22/anipose/pose_2d_filter/2024-11-22_11-05-29/2024-11-22_11-05-29_camTo.h5\n",
      "/home/yiting/Documents/Analysis/2024-11-22/anipose/pose_2d_filter/2024-11-22_11-05-43/2024-11-22_11-05-43_camBL.h5\n",
      "/home/yiting/Documents/Analysis/2024-11-22/anipose/pose_2d_filter/2024-11-22_11-05-43/2024-11-22_11-05-43_camBR.h5\n",
      "/home/yiting/Documents/Analysis/2024-11-22/anipose/pose_2d_filter/2024-11-22_11-05-43/2024-11-22_11-05-43_camTL.h5\n",
      "/home/yiting/Documents/Analysis/2024-11-22/anipose/pose_2d_filter/2024-11-22_11-05-43/2024-11-22_11-05-43_camTR.h5\n",
      "/home/yiting/Documents/Analysis/2024-11-22/anipose/pose_2d_filter/2024-11-22_11-05-43/2024-11-22_11-05-43_camTo.h5\n",
      "/home/yiting/Documents/Analysis/2024-11-22/anipose/pose_2d_filter/2024-11-22_11-05-55/2024-11-22_11-05-55_camBL.h5\n",
      "/home/yiting/Documents/Analysis/2024-11-22/anipose/pose_2d_filter/2024-11-22_11-05-55/2024-11-22_11-05-55_camBR.h5\n",
      "/home/yiting/Documents/Analysis/2024-11-22/anipose/pose_2d_filter/2024-11-22_11-05-55/2024-11-22_11-05-55_camTL.h5\n",
      "/home/yiting/Documents/Analysis/2024-11-22/anipose/pose_2d_filter/2024-11-22_11-05-55/2024-11-22_11-05-55_camTR.h5\n",
      "/home/yiting/Documents/Analysis/2024-11-22/anipose/pose_2d_filter/2024-11-22_11-05-55/2024-11-22_11-05-55_camTo.h5\n",
      "/home/yiting/Documents/Analysis/2024-11-22/anipose/pose_2d_filter/2024-11-22_11-06-07/2024-11-22_11-06-07_camBL.h5\n",
      "/home/yiting/Documents/Analysis/2024-11-22/anipose/pose_2d_filter/2024-11-22_11-06-07/2024-11-22_11-06-07_camBR.h5\n",
      "/home/yiting/Documents/Analysis/2024-11-22/anipose/pose_2d_filter/2024-11-22_11-06-07/2024-11-22_11-06-07_camTL.h5\n",
      "/home/yiting/Documents/Analysis/2024-11-22/anipose/pose_2d_filter/2024-11-22_11-06-07/2024-11-22_11-06-07_camTR.h5\n",
      "/home/yiting/Documents/Analysis/2024-11-22/anipose/pose_2d_filter/2024-11-22_11-06-07/2024-11-22_11-06-07_camTo.h5\n",
      "/home/yiting/Documents/Analysis/2024-11-22/anipose/pose_2d_filter/2024-11-22_11-06-21/2024-11-22_11-06-21_camBL.h5\n",
      "/home/yiting/Documents/Analysis/2024-11-22/anipose/pose_2d_filter/2024-11-22_11-06-21/2024-11-22_11-06-21_camBR.h5\n",
      "/home/yiting/Documents/Analysis/2024-11-22/anipose/pose_2d_filter/2024-11-22_11-06-21/2024-11-22_11-06-21_camTL.h5\n",
      "/home/yiting/Documents/Analysis/2024-11-22/anipose/pose_2d_filter/2024-11-22_11-06-21/2024-11-22_11-06-21_camTR.h5\n",
      "/home/yiting/Documents/Analysis/2024-11-22/anipose/pose_2d_filter/2024-11-22_11-06-21/2024-11-22_11-06-21_camTo.h5\n",
      "/home/yiting/Documents/Analysis/2024-11-22/anipose/pose_2d_filter/2024-11-22_11-06-37/2024-11-22_11-06-37_camBL.h5\n",
      "/home/yiting/Documents/Analysis/2024-11-22/anipose/pose_2d_filter/2024-11-22_11-06-37/2024-11-22_11-06-37_camBR.h5\n",
      "/home/yiting/Documents/Analysis/2024-11-22/anipose/pose_2d_filter/2024-11-22_11-06-37/2024-11-22_11-06-37_camTL.h5\n",
      "/home/yiting/Documents/Analysis/2024-11-22/anipose/pose_2d_filter/2024-11-22_11-06-37/2024-11-22_11-06-37_camTR.h5\n",
      "/home/yiting/Documents/Analysis/2024-11-22/anipose/pose_2d_filter/2024-11-22_11-06-37/2024-11-22_11-06-37_camTo.h5\n",
      "/home/yiting/Documents/Analysis/2024-11-22/anipose/pose_2d_filter/2024-11-22_11-06-49/2024-11-22_11-06-49_camBL.h5\n",
      "/home/yiting/Documents/Analysis/2024-11-22/anipose/pose_2d_filter/2024-11-22_11-06-49/2024-11-22_11-06-49_camBR.h5\n",
      "/home/yiting/Documents/Analysis/2024-11-22/anipose/pose_2d_filter/2024-11-22_11-06-49/2024-11-22_11-06-49_camTL.h5\n",
      "/home/yiting/Documents/Analysis/2024-11-22/anipose/pose_2d_filter/2024-11-22_11-06-49/2024-11-22_11-06-49_camTR.h5\n",
      "/home/yiting/Documents/Analysis/2024-11-22/anipose/pose_2d_filter/2024-11-22_11-06-49/2024-11-22_11-06-49_camTo.h5\n",
      "/home/yiting/Documents/Analysis/2024-11-22/anipose/pose_2d_filter/2024-11-22_11-07-03/2024-11-22_11-07-03_camBL.h5\n",
      "/home/yiting/Documents/Analysis/2024-11-22/anipose/pose_2d_filter/2024-11-22_11-07-03/2024-11-22_11-07-03_camBR.h5\n",
      "/home/yiting/Documents/Analysis/2024-11-22/anipose/pose_2d_filter/2024-11-22_11-07-03/2024-11-22_11-07-03_camTL.h5\n",
      "/home/yiting/Documents/Analysis/2024-11-22/anipose/pose_2d_filter/2024-11-22_11-07-03/2024-11-22_11-07-03_camTR.h5\n",
      "/home/yiting/Documents/Analysis/2024-11-22/anipose/pose_2d_filter/2024-11-22_11-07-03/2024-11-22_11-07-03_camTo.h5\n",
      "/home/yiting/Documents/Analysis/2024-11-22/anipose/pose_2d_filter/2024-11-22_11-07-16/2024-11-22_11-07-16_camBL.h5\n",
      "/home/yiting/Documents/Analysis/2024-11-22/anipose/pose_2d_filter/2024-11-22_11-07-16/2024-11-22_11-07-16_camBR.h5\n",
      "/home/yiting/Documents/Analysis/2024-11-22/anipose/pose_2d_filter/2024-11-22_11-07-16/2024-11-22_11-07-16_camTL.h5\n",
      "/home/yiting/Documents/Analysis/2024-11-22/anipose/pose_2d_filter/2024-11-22_11-07-16/2024-11-22_11-07-16_camTR.h5\n",
      "/home/yiting/Documents/Analysis/2024-11-22/anipose/pose_2d_filter/2024-11-22_11-07-16/2024-11-22_11-07-16_camTo.h5\n",
      "/home/yiting/Documents/Analysis/2024-11-22/anipose/pose_2d_filter/2024-11-22_11-07-30/2024-11-22_11-07-30_camBL.h5\n",
      "/home/yiting/Documents/Analysis/2024-11-22/anipose/pose_2d_filter/2024-11-22_11-07-30/2024-11-22_11-07-30_camBR.h5\n",
      "/home/yiting/Documents/Analysis/2024-11-22/anipose/pose_2d_filter/2024-11-22_11-07-30/2024-11-22_11-07-30_camTL.h5\n",
      "/home/yiting/Documents/Analysis/2024-11-22/anipose/pose_2d_filter/2024-11-22_11-07-30/2024-11-22_11-07-30_camTR.h5\n",
      "/home/yiting/Documents/Analysis/2024-11-22/anipose/pose_2d_filter/2024-11-22_11-07-30/2024-11-22_11-07-30_camTo.h5\n",
      "/home/yiting/Documents/Analysis/2024-11-22/anipose/pose_2d_filter/2024-11-22_11-07-43/2024-11-22_11-07-43_camBL.h5\n",
      "/home/yiting/Documents/Analysis/2024-11-22/anipose/pose_2d_filter/2024-11-22_11-07-43/2024-11-22_11-07-43_camBR.h5\n",
      "/home/yiting/Documents/Analysis/2024-11-22/anipose/pose_2d_filter/2024-11-22_11-07-43/2024-11-22_11-07-43_camTL.h5\n",
      "/home/yiting/Documents/Analysis/2024-11-22/anipose/pose_2d_filter/2024-11-22_11-07-43/2024-11-22_11-07-43_camTR.h5\n",
      "/home/yiting/Documents/Analysis/2024-11-22/anipose/pose_2d_filter/2024-11-22_11-07-43/2024-11-22_11-07-43_camTo.h5\n",
      "/home/yiting/Documents/Analysis/2024-11-22/anipose/pose_2d_filter/2024-11-22_11-07-55/2024-11-22_11-07-55_camBL.h5\n",
      "/home/yiting/Documents/Analysis/2024-11-22/anipose/pose_2d_filter/2024-11-22_11-07-55/2024-11-22_11-07-55_camBR.h5\n",
      "/home/yiting/Documents/Analysis/2024-11-22/anipose/pose_2d_filter/2024-11-22_11-07-55/2024-11-22_11-07-55_camTL.h5\n",
      "/home/yiting/Documents/Analysis/2024-11-22/anipose/pose_2d_filter/2024-11-22_11-07-55/2024-11-22_11-07-55_camTR.h5\n",
      "/home/yiting/Documents/Analysis/2024-11-22/anipose/pose_2d_filter/2024-11-22_11-07-55/2024-11-22_11-07-55_camTo.h5\n",
      "/home/yiting/Documents/Analysis/2024-11-22/anipose/pose_2d_filter/2024-11-22_11-08-07/2024-11-22_11-08-07_camBL.h5\n",
      "/home/yiting/Documents/Analysis/2024-11-22/anipose/pose_2d_filter/2024-11-22_11-08-07/2024-11-22_11-08-07_camBR.h5\n",
      "/home/yiting/Documents/Analysis/2024-11-22/anipose/pose_2d_filter/2024-11-22_11-08-07/2024-11-22_11-08-07_camTL.h5\n",
      "/home/yiting/Documents/Analysis/2024-11-22/anipose/pose_2d_filter/2024-11-22_11-08-07/2024-11-22_11-08-07_camTR.h5\n",
      "/home/yiting/Documents/Analysis/2024-11-22/anipose/pose_2d_filter/2024-11-22_11-08-07/2024-11-22_11-08-07_camTo.h5\n",
      "/home/yiting/Documents/Analysis/2024-11-22/anipose/pose_2d_filter/2024-11-22_11-08-20/2024-11-22_11-08-20_camBL.h5\n",
      "/home/yiting/Documents/Analysis/2024-11-22/anipose/pose_2d_filter/2024-11-22_11-08-20/2024-11-22_11-08-20_camBR.h5\n",
      "/home/yiting/Documents/Analysis/2024-11-22/anipose/pose_2d_filter/2024-11-22_11-08-20/2024-11-22_11-08-20_camTL.h5\n",
      "/home/yiting/Documents/Analysis/2024-11-22/anipose/pose_2d_filter/2024-11-22_11-08-20/2024-11-22_11-08-20_camTR.h5\n",
      "/home/yiting/Documents/Analysis/2024-11-22/anipose/pose_2d_filter/2024-11-22_11-08-20/2024-11-22_11-08-20_camTo.h5\n",
      "/home/yiting/Documents/Analysis/2024-11-22/anipose/pose_2d_filter/2024-11-22_11-08-33/2024-11-22_11-08-33_camBL.h5\n",
      "/home/yiting/Documents/Analysis/2024-11-22/anipose/pose_2d_filter/2024-11-22_11-08-33/2024-11-22_11-08-33_camBR.h5\n",
      "/home/yiting/Documents/Analysis/2024-11-22/anipose/pose_2d_filter/2024-11-22_11-08-33/2024-11-22_11-08-33_camTL.h5\n",
      "/home/yiting/Documents/Analysis/2024-11-22/anipose/pose_2d_filter/2024-11-22_11-08-33/2024-11-22_11-08-33_camTR.h5\n",
      "/home/yiting/Documents/Analysis/2024-11-22/anipose/pose_2d_filter/2024-11-22_11-08-33/2024-11-22_11-08-33_camTo.h5\n",
      "/home/yiting/Documents/Analysis/2024-11-22/anipose/pose_2d_filter/2024-11-22_11-08-46/2024-11-22_11-08-46_camBL.h5\n",
      "/home/yiting/Documents/Analysis/2024-11-22/anipose/pose_2d_filter/2024-11-22_11-08-46/2024-11-22_11-08-46_camBR.h5\n",
      "/home/yiting/Documents/Analysis/2024-11-22/anipose/pose_2d_filter/2024-11-22_11-08-46/2024-11-22_11-08-46_camTL.h5\n",
      "/home/yiting/Documents/Analysis/2024-11-22/anipose/pose_2d_filter/2024-11-22_11-08-46/2024-11-22_11-08-46_camTR.h5\n",
      "/home/yiting/Documents/Analysis/2024-11-22/anipose/pose_2d_filter/2024-11-22_11-08-46/2024-11-22_11-08-46_camTo.h5\n",
      "/home/yiting/Documents/Analysis/2024-11-22/anipose/pose_2d_filter/2024-11-22_11-08-59/2024-11-22_11-08-59_camBL.h5\n",
      "/home/yiting/Documents/Analysis/2024-11-22/anipose/pose_2d_filter/2024-11-22_11-08-59/2024-11-22_11-08-59_camBR.h5\n",
      "/home/yiting/Documents/Analysis/2024-11-22/anipose/pose_2d_filter/2024-11-22_11-08-59/2024-11-22_11-08-59_camTL.h5\n",
      "/home/yiting/Documents/Analysis/2024-11-22/anipose/pose_2d_filter/2024-11-22_11-08-59/2024-11-22_11-08-59_camTR.h5\n",
      "/home/yiting/Documents/Analysis/2024-11-22/anipose/pose_2d_filter/2024-11-22_11-08-59/2024-11-22_11-08-59_camTo.h5\n",
      "/home/yiting/Documents/Analysis/2024-11-22/anipose/pose_2d_filter/2024-11-22_11-09-13/2024-11-22_11-09-13_camBL.h5\n",
      "/home/yiting/Documents/Analysis/2024-11-22/anipose/pose_2d_filter/2024-11-22_11-09-13/2024-11-22_11-09-13_camBR.h5\n",
      "/home/yiting/Documents/Analysis/2024-11-22/anipose/pose_2d_filter/2024-11-22_11-09-13/2024-11-22_11-09-13_camTL.h5\n",
      "/home/yiting/Documents/Analysis/2024-11-22/anipose/pose_2d_filter/2024-11-22_11-09-13/2024-11-22_11-09-13_camTR.h5\n",
      "/home/yiting/Documents/Analysis/2024-11-22/anipose/pose_2d_filter/2024-11-22_11-09-13/2024-11-22_11-09-13_camTo.h5\n",
      "/home/yiting/Documents/Analysis/2024-11-22/anipose/pose_2d_filter/2024-11-22_11-09-27/2024-11-22_11-09-27_camBL.h5\n",
      "/home/yiting/Documents/Analysis/2024-11-22/anipose/pose_2d_filter/2024-11-22_11-09-27/2024-11-22_11-09-27_camBR.h5\n",
      "/home/yiting/Documents/Analysis/2024-11-22/anipose/pose_2d_filter/2024-11-22_11-09-27/2024-11-22_11-09-27_camTL.h5\n",
      "/home/yiting/Documents/Analysis/2024-11-22/anipose/pose_2d_filter/2024-11-22_11-09-27/2024-11-22_11-09-27_camTR.h5\n",
      "/home/yiting/Documents/Analysis/2024-11-22/anipose/pose_2d_filter/2024-11-22_11-09-27/2024-11-22_11-09-27_camTo.h5\n",
      "/home/yiting/Documents/Analysis/2024-11-22/anipose/pose_2d_filter/2024-11-22_11-09-41/2024-11-22_11-09-41_camBL.h5\n",
      "/home/yiting/Documents/Analysis/2024-11-22/anipose/pose_2d_filter/2024-11-22_11-09-41/2024-11-22_11-09-41_camBR.h5\n",
      "/home/yiting/Documents/Analysis/2024-11-22/anipose/pose_2d_filter/2024-11-22_11-09-41/2024-11-22_11-09-41_camTL.h5\n",
      "/home/yiting/Documents/Analysis/2024-11-22/anipose/pose_2d_filter/2024-11-22_11-09-41/2024-11-22_11-09-41_camTR.h5\n",
      "/home/yiting/Documents/Analysis/2024-11-22/anipose/pose_2d_filter/2024-11-22_11-09-41/2024-11-22_11-09-41_camTo.h5\n",
      "/home/yiting/Documents/Analysis/2024-11-22/anipose/pose_2d_filter/2024-11-22_11-09-54/2024-11-22_11-09-54_camBL.h5\n",
      "/home/yiting/Documents/Analysis/2024-11-22/anipose/pose_2d_filter/2024-11-22_11-09-54/2024-11-22_11-09-54_camBR.h5\n",
      "/home/yiting/Documents/Analysis/2024-11-22/anipose/pose_2d_filter/2024-11-22_11-09-54/2024-11-22_11-09-54_camTL.h5\n",
      "/home/yiting/Documents/Analysis/2024-11-22/anipose/pose_2d_filter/2024-11-22_11-09-54/2024-11-22_11-09-54_camTR.h5\n",
      "/home/yiting/Documents/Analysis/2024-11-22/anipose/pose_2d_filter/2024-11-22_11-09-54/2024-11-22_11-09-54_camTo.h5\n",
      "/home/yiting/Documents/Analysis/2024-11-22/anipose/pose_2d_filter/2024-11-22_11-10-06/2024-11-22_11-10-06_camBL.h5\n",
      "/home/yiting/Documents/Analysis/2024-11-22/anipose/pose_2d_filter/2024-11-22_11-10-06/2024-11-22_11-10-06_camBR.h5\n",
      "/home/yiting/Documents/Analysis/2024-11-22/anipose/pose_2d_filter/2024-11-22_11-10-06/2024-11-22_11-10-06_camTL.h5\n",
      "/home/yiting/Documents/Analysis/2024-11-22/anipose/pose_2d_filter/2024-11-22_11-10-06/2024-11-22_11-10-06_camTR.h5\n",
      "/home/yiting/Documents/Analysis/2024-11-22/anipose/pose_2d_filter/2024-11-22_11-10-06/2024-11-22_11-10-06_camTo.h5\n",
      "/home/yiting/Documents/Analysis/2024-11-22/anipose/pose_2d_filter/2024-11-22_11-10-20/2024-11-22_11-10-20_camBL.h5\n",
      "/home/yiting/Documents/Analysis/2024-11-22/anipose/pose_2d_filter/2024-11-22_11-10-20/2024-11-22_11-10-20_camBR.h5\n",
      "/home/yiting/Documents/Analysis/2024-11-22/anipose/pose_2d_filter/2024-11-22_11-10-20/2024-11-22_11-10-20_camTL.h5\n",
      "/home/yiting/Documents/Analysis/2024-11-22/anipose/pose_2d_filter/2024-11-22_11-10-20/2024-11-22_11-10-20_camTR.h5\n",
      "/home/yiting/Documents/Analysis/2024-11-22/anipose/pose_2d_filter/2024-11-22_11-10-20/2024-11-22_11-10-20_camTo.h5\n",
      "/home/yiting/Documents/Analysis/2024-11-22/anipose/pose_2d_filter/2024-11-22_11-10-32/2024-11-22_11-10-32_camBL.h5\n",
      "/home/yiting/Documents/Analysis/2024-11-22/anipose/pose_2d_filter/2024-11-22_11-10-32/2024-11-22_11-10-32_camBR.h5\n",
      "/home/yiting/Documents/Analysis/2024-11-22/anipose/pose_2d_filter/2024-11-22_11-10-32/2024-11-22_11-10-32_camTL.h5\n",
      "/home/yiting/Documents/Analysis/2024-11-22/anipose/pose_2d_filter/2024-11-22_11-10-32/2024-11-22_11-10-32_camTR.h5\n",
      "/home/yiting/Documents/Analysis/2024-11-22/anipose/pose_2d_filter/2024-11-22_11-10-32/2024-11-22_11-10-32_camTo.h5\n",
      "/home/yiting/Documents/Analysis/2024-11-22/anipose/pose_2d_filter/2024-11-22_11-10-46/2024-11-22_11-10-46_camBL.h5\n",
      "/home/yiting/Documents/Analysis/2024-11-22/anipose/pose_2d_filter/2024-11-22_11-10-46/2024-11-22_11-10-46_camBR.h5\n",
      "/home/yiting/Documents/Analysis/2024-11-22/anipose/pose_2d_filter/2024-11-22_11-10-46/2024-11-22_11-10-46_camTL.h5\n",
      "/home/yiting/Documents/Analysis/2024-11-22/anipose/pose_2d_filter/2024-11-22_11-10-46/2024-11-22_11-10-46_camTR.h5\n",
      "/home/yiting/Documents/Analysis/2024-11-22/anipose/pose_2d_filter/2024-11-22_11-10-46/2024-11-22_11-10-46_camTo.h5\n",
      "/home/yiting/Documents/Analysis/2024-11-22/anipose/pose_2d_filter/2024-11-22_11-11-00/2024-11-22_11-11-00_camBL.h5\n",
      "/home/yiting/Documents/Analysis/2024-11-22/anipose/pose_2d_filter/2024-11-22_11-11-00/2024-11-22_11-11-00_camBR.h5\n",
      "/home/yiting/Documents/Analysis/2024-11-22/anipose/pose_2d_filter/2024-11-22_11-11-00/2024-11-22_11-11-00_camTL.h5\n",
      "/home/yiting/Documents/Analysis/2024-11-22/anipose/pose_2d_filter/2024-11-22_11-11-00/2024-11-22_11-11-00_camTR.h5\n",
      "/home/yiting/Documents/Analysis/2024-11-22/anipose/pose_2d_filter/2024-11-22_11-11-00/2024-11-22_11-11-00_camTo.h5\n",
      "/home/yiting/Documents/Analysis/2024-11-22/anipose/pose_2d_filter/2024-11-22_11-11-13/2024-11-22_11-11-13_camBL.h5\n",
      "/home/yiting/Documents/Analysis/2024-11-22/anipose/pose_2d_filter/2024-11-22_11-11-13/2024-11-22_11-11-13_camBR.h5\n",
      "/home/yiting/Documents/Analysis/2024-11-22/anipose/pose_2d_filter/2024-11-22_11-11-13/2024-11-22_11-11-13_camTL.h5\n",
      "/home/yiting/Documents/Analysis/2024-11-22/anipose/pose_2d_filter/2024-11-22_11-11-13/2024-11-22_11-11-13_camTR.h5\n",
      "/home/yiting/Documents/Analysis/2024-11-22/anipose/pose_2d_filter/2024-11-22_11-11-13/2024-11-22_11-11-13_camTo.h5\n",
      "/home/yiting/Documents/Analysis/2024-11-22/anipose/pose_2d_filter/2024-11-22_11-11-27/2024-11-22_11-11-27_camBL.h5\n",
      "/home/yiting/Documents/Analysis/2024-11-22/anipose/pose_2d_filter/2024-11-22_11-11-27/2024-11-22_11-11-27_camBR.h5\n",
      "/home/yiting/Documents/Analysis/2024-11-22/anipose/pose_2d_filter/2024-11-22_11-11-27/2024-11-22_11-11-27_camTL.h5\n",
      "/home/yiting/Documents/Analysis/2024-11-22/anipose/pose_2d_filter/2024-11-22_11-11-27/2024-11-22_11-11-27_camTR.h5\n",
      "/home/yiting/Documents/Analysis/2024-11-22/anipose/pose_2d_filter/2024-11-22_11-11-27/2024-11-22_11-11-27_camTo.h5\n",
      "/home/yiting/Documents/Analysis/2024-11-22/anipose/pose_2d_filter/2024-11-22_11-11-40/2024-11-22_11-11-40_camBL.h5\n",
      "/home/yiting/Documents/Analysis/2024-11-22/anipose/pose_2d_filter/2024-11-22_11-11-40/2024-11-22_11-11-40_camBR.h5\n",
      "/home/yiting/Documents/Analysis/2024-11-22/anipose/pose_2d_filter/2024-11-22_11-11-40/2024-11-22_11-11-40_camTL.h5\n",
      "/home/yiting/Documents/Analysis/2024-11-22/anipose/pose_2d_filter/2024-11-22_11-11-40/2024-11-22_11-11-40_camTR.h5\n",
      "/home/yiting/Documents/Analysis/2024-11-22/anipose/pose_2d_filter/2024-11-22_11-11-40/2024-11-22_11-11-40_camTo.h5\n",
      "/home/yiting/Documents/Analysis/2024-11-22/anipose/pose_2d_filter/2024-11-22_11-11-52/2024-11-22_11-11-52_camBL.h5\n",
      "/home/yiting/Documents/Analysis/2024-11-22/anipose/pose_2d_filter/2024-11-22_11-11-52/2024-11-22_11-11-52_camBR.h5\n",
      "/home/yiting/Documents/Analysis/2024-11-22/anipose/pose_2d_filter/2024-11-22_11-11-52/2024-11-22_11-11-52_camTL.h5\n",
      "/home/yiting/Documents/Analysis/2024-11-22/anipose/pose_2d_filter/2024-11-22_11-11-52/2024-11-22_11-11-52_camTR.h5\n",
      "/home/yiting/Documents/Analysis/2024-11-22/anipose/pose_2d_filter/2024-11-22_11-11-52/2024-11-22_11-11-52_camTo.h5\n",
      "/home/yiting/Documents/Analysis/2024-11-22/anipose/pose_2d_filter/2024-11-22_11-12-04/2024-11-22_11-12-04_camBL.h5\n",
      "/home/yiting/Documents/Analysis/2024-11-22/anipose/pose_2d_filter/2024-11-22_11-12-04/2024-11-22_11-12-04_camBR.h5\n",
      "/home/yiting/Documents/Analysis/2024-11-22/anipose/pose_2d_filter/2024-11-22_11-12-04/2024-11-22_11-12-04_camTL.h5\n",
      "/home/yiting/Documents/Analysis/2024-11-22/anipose/pose_2d_filter/2024-11-22_11-12-04/2024-11-22_11-12-04_camTR.h5\n",
      "/home/yiting/Documents/Analysis/2024-11-22/anipose/pose_2d_filter/2024-11-22_11-12-04/2024-11-22_11-12-04_camTo.h5\n",
      "/home/yiting/Documents/Analysis/2024-11-22/anipose/pose_2d_filter/2024-11-22_11-12-17/2024-11-22_11-12-17_camBL.h5\n",
      "/home/yiting/Documents/Analysis/2024-11-22/anipose/pose_2d_filter/2024-11-22_11-12-17/2024-11-22_11-12-17_camBR.h5\n",
      "/home/yiting/Documents/Analysis/2024-11-22/anipose/pose_2d_filter/2024-11-22_11-12-17/2024-11-22_11-12-17_camTL.h5\n",
      "/home/yiting/Documents/Analysis/2024-11-22/anipose/pose_2d_filter/2024-11-22_11-12-17/2024-11-22_11-12-17_camTR.h5\n",
      "/home/yiting/Documents/Analysis/2024-11-22/anipose/pose_2d_filter/2024-11-22_11-12-17/2024-11-22_11-12-17_camTo.h5\n",
      "/home/yiting/Documents/Analysis/2024-11-22/anipose/pose_2d_filter/2024-11-22_11-12-30/2024-11-22_11-12-30_camBL.h5\n",
      "/home/yiting/Documents/Analysis/2024-11-22/anipose/pose_2d_filter/2024-11-22_11-12-30/2024-11-22_11-12-30_camBR.h5\n",
      "/home/yiting/Documents/Analysis/2024-11-22/anipose/pose_2d_filter/2024-11-22_11-12-30/2024-11-22_11-12-30_camTL.h5\n",
      "/home/yiting/Documents/Analysis/2024-11-22/anipose/pose_2d_filter/2024-11-22_11-12-30/2024-11-22_11-12-30_camTR.h5\n",
      "/home/yiting/Documents/Analysis/2024-11-22/anipose/pose_2d_filter/2024-11-22_11-12-30/2024-11-22_11-12-30_camTo.h5\n",
      "/home/yiting/Documents/Analysis/2024-11-22/anipose/pose_2d_filter/2024-11-22_11-12-44/2024-11-22_11-12-44_camBL.h5\n",
      "/home/yiting/Documents/Analysis/2024-11-22/anipose/pose_2d_filter/2024-11-22_11-12-44/2024-11-22_11-12-44_camBR.h5\n",
      "/home/yiting/Documents/Analysis/2024-11-22/anipose/pose_2d_filter/2024-11-22_11-12-44/2024-11-22_11-12-44_camTL.h5\n",
      "/home/yiting/Documents/Analysis/2024-11-22/anipose/pose_2d_filter/2024-11-22_11-12-44/2024-11-22_11-12-44_camTR.h5\n",
      "/home/yiting/Documents/Analysis/2024-11-22/anipose/pose_2d_filter/2024-11-22_11-12-44/2024-11-22_11-12-44_camTo.h5\n",
      "/home/yiting/Documents/Analysis/2024-11-22/anipose/pose_2d_filter/2024-11-22_11-12-56/2024-11-22_11-12-56_camBL.h5\n",
      "/home/yiting/Documents/Analysis/2024-11-22/anipose/pose_2d_filter/2024-11-22_11-12-56/2024-11-22_11-12-56_camBR.h5\n",
      "/home/yiting/Documents/Analysis/2024-11-22/anipose/pose_2d_filter/2024-11-22_11-12-56/2024-11-22_11-12-56_camTL.h5\n",
      "/home/yiting/Documents/Analysis/2024-11-22/anipose/pose_2d_filter/2024-11-22_11-12-56/2024-11-22_11-12-56_camTR.h5\n",
      "/home/yiting/Documents/Analysis/2024-11-22/anipose/pose_2d_filter/2024-11-22_11-12-56/2024-11-22_11-12-56_camTo.h5\n",
      "/home/yiting/Documents/Analysis/2024-11-22/anipose/pose_2d_filter/2024-11-22_11-13-08/2024-11-22_11-13-08_camBL.h5\n",
      "/home/yiting/Documents/Analysis/2024-11-22/anipose/pose_2d_filter/2024-11-22_11-13-08/2024-11-22_11-13-08_camBR.h5\n",
      "/home/yiting/Documents/Analysis/2024-11-22/anipose/pose_2d_filter/2024-11-22_11-13-08/2024-11-22_11-13-08_camTL.h5\n",
      "/home/yiting/Documents/Analysis/2024-11-22/anipose/pose_2d_filter/2024-11-22_11-13-08/2024-11-22_11-13-08_camTR.h5\n",
      "/home/yiting/Documents/Analysis/2024-11-22/anipose/pose_2d_filter/2024-11-22_11-13-08/2024-11-22_11-13-08_camTo.h5\n",
      "/home/yiting/Documents/Analysis/2024-11-22/anipose/pose_2d_filter/2024-11-22_11-13-19/2024-11-22_11-13-19_camBL.h5\n",
      "/home/yiting/Documents/Analysis/2024-11-22/anipose/pose_2d_filter/2024-11-22_11-13-19/2024-11-22_11-13-19_camBR.h5\n",
      "/home/yiting/Documents/Analysis/2024-11-22/anipose/pose_2d_filter/2024-11-22_11-13-19/2024-11-22_11-13-19_camTL.h5\n",
      "/home/yiting/Documents/Analysis/2024-11-22/anipose/pose_2d_filter/2024-11-22_11-13-19/2024-11-22_11-13-19_camTR.h5\n",
      "/home/yiting/Documents/Analysis/2024-11-22/anipose/pose_2d_filter/2024-11-22_11-13-19/2024-11-22_11-13-19_camTo.h5\n",
      "/home/yiting/Documents/Analysis/2024-11-22/anipose/pose_2d_filter/2024-11-22_11-13-30/2024-11-22_11-13-30_camBL.h5\n",
      "/home/yiting/Documents/Analysis/2024-11-22/anipose/pose_2d_filter/2024-11-22_11-13-30/2024-11-22_11-13-30_camBR.h5\n",
      "/home/yiting/Documents/Analysis/2024-11-22/anipose/pose_2d_filter/2024-11-22_11-13-30/2024-11-22_11-13-30_camTL.h5\n",
      "/home/yiting/Documents/Analysis/2024-11-22/anipose/pose_2d_filter/2024-11-22_11-13-30/2024-11-22_11-13-30_camTR.h5\n",
      "/home/yiting/Documents/Analysis/2024-11-22/anipose/pose_2d_filter/2024-11-22_11-13-30/2024-11-22_11-13-30_camTo.h5\n",
      "/home/yiting/Documents/Analysis/2024-11-22/anipose/pose_2d_filter/2024-11-22_11-13-41/2024-11-22_11-13-41_camBL.h5\n",
      "/home/yiting/Documents/Analysis/2024-11-22/anipose/pose_2d_filter/2024-11-22_11-13-41/2024-11-22_11-13-41_camBR.h5\n",
      "/home/yiting/Documents/Analysis/2024-11-22/anipose/pose_2d_filter/2024-11-22_11-13-41/2024-11-22_11-13-41_camTL.h5\n",
      "/home/yiting/Documents/Analysis/2024-11-22/anipose/pose_2d_filter/2024-11-22_11-13-41/2024-11-22_11-13-41_camTR.h5\n",
      "/home/yiting/Documents/Analysis/2024-11-22/anipose/pose_2d_filter/2024-11-22_11-13-41/2024-11-22_11-13-41_camTo.h5\n",
      "/home/yiting/Documents/Analysis/2024-11-22/anipose/pose_2d_filter/2024-11-22_11-13-52/2024-11-22_11-13-52_camBL.h5\n",
      "/home/yiting/Documents/Analysis/2024-11-22/anipose/pose_2d_filter/2024-11-22_11-13-52/2024-11-22_11-13-52_camBR.h5\n",
      "/home/yiting/Documents/Analysis/2024-11-22/anipose/pose_2d_filter/2024-11-22_11-13-52/2024-11-22_11-13-52_camTL.h5\n",
      "/home/yiting/Documents/Analysis/2024-11-22/anipose/pose_2d_filter/2024-11-22_11-13-52/2024-11-22_11-13-52_camTR.h5\n",
      "/home/yiting/Documents/Analysis/2024-11-22/anipose/pose_2d_filter/2024-11-22_11-13-52/2024-11-22_11-13-52_camTo.h5\n",
      "/home/yiting/Documents/Analysis/2024-11-22/anipose/pose_2d_filter/2024-11-22_11-14-04/2024-11-22_11-14-04_camBL.h5\n",
      "/home/yiting/Documents/Analysis/2024-11-22/anipose/pose_2d_filter/2024-11-22_11-14-04/2024-11-22_11-14-04_camBR.h5\n",
      "/home/yiting/Documents/Analysis/2024-11-22/anipose/pose_2d_filter/2024-11-22_11-14-04/2024-11-22_11-14-04_camTL.h5\n",
      "/home/yiting/Documents/Analysis/2024-11-22/anipose/pose_2d_filter/2024-11-22_11-14-04/2024-11-22_11-14-04_camTR.h5\n",
      "/home/yiting/Documents/Analysis/2024-11-22/anipose/pose_2d_filter/2024-11-22_11-14-04/2024-11-22_11-14-04_camTo.h5\n",
      "/home/yiting/Documents/Analysis/2024-11-22/anipose/pose_2d_filter/2024-11-22_11-18-36/2024-11-22_11-18-36_camBL.h5\n",
      "/home/yiting/Documents/Analysis/2024-11-22/anipose/pose_2d_filter/2024-11-22_11-18-36/2024-11-22_11-18-36_camBR.h5\n",
      "/home/yiting/Documents/Analysis/2024-11-22/anipose/pose_2d_filter/2024-11-22_11-18-36/2024-11-22_11-18-36_camTL.h5\n",
      "/home/yiting/Documents/Analysis/2024-11-22/anipose/pose_2d_filter/2024-11-22_11-18-36/2024-11-22_11-18-36_camTR.h5\n",
      "/home/yiting/Documents/Analysis/2024-11-22/anipose/pose_2d_filter/2024-11-22_11-18-36/2024-11-22_11-18-36_camTo.h5\n",
      "/home/yiting/Documents/Analysis/2024-11-22/anipose/pose_2d_filter/2024-11-22_11-18-48/2024-11-22_11-18-48_camBL.h5\n",
      "/home/yiting/Documents/Analysis/2024-11-22/anipose/pose_2d_filter/2024-11-22_11-18-48/2024-11-22_11-18-48_camBR.h5\n",
      "/home/yiting/Documents/Analysis/2024-11-22/anipose/pose_2d_filter/2024-11-22_11-18-48/2024-11-22_11-18-48_camTL.h5\n",
      "/home/yiting/Documents/Analysis/2024-11-22/anipose/pose_2d_filter/2024-11-22_11-18-48/2024-11-22_11-18-48_camTR.h5\n",
      "/home/yiting/Documents/Analysis/2024-11-22/anipose/pose_2d_filter/2024-11-22_11-18-48/2024-11-22_11-18-48_camTo.h5\n",
      "/home/yiting/Documents/Analysis/2024-11-22/anipose/pose_2d_filter/2024-11-22_11-19-01/2024-11-22_11-19-01_camBL.h5\n",
      "/home/yiting/Documents/Analysis/2024-11-22/anipose/pose_2d_filter/2024-11-22_11-19-01/2024-11-22_11-19-01_camBR.h5\n",
      "/home/yiting/Documents/Analysis/2024-11-22/anipose/pose_2d_filter/2024-11-22_11-19-01/2024-11-22_11-19-01_camTL.h5\n",
      "/home/yiting/Documents/Analysis/2024-11-22/anipose/pose_2d_filter/2024-11-22_11-19-01/2024-11-22_11-19-01_camTR.h5\n",
      "/home/yiting/Documents/Analysis/2024-11-22/anipose/pose_2d_filter/2024-11-22_11-19-01/2024-11-22_11-19-01_camTo.h5\n",
      "/home/yiting/Documents/Analysis/2024-11-22/anipose/pose_2d_filter/2024-11-22_11-19-14/2024-11-22_11-19-14_camBL.h5\n",
      "/home/yiting/Documents/Analysis/2024-11-22/anipose/pose_2d_filter/2024-11-22_11-19-14/2024-11-22_11-19-14_camBR.h5\n",
      "/home/yiting/Documents/Analysis/2024-11-22/anipose/pose_2d_filter/2024-11-22_11-19-14/2024-11-22_11-19-14_camTL.h5\n",
      "/home/yiting/Documents/Analysis/2024-11-22/anipose/pose_2d_filter/2024-11-22_11-19-14/2024-11-22_11-19-14_camTR.h5\n",
      "/home/yiting/Documents/Analysis/2024-11-22/anipose/pose_2d_filter/2024-11-22_11-19-14/2024-11-22_11-19-14_camTo.h5\n",
      "/home/yiting/Documents/Analysis/2024-11-22/anipose/pose_2d_filter/2024-11-22_11-19-28/2024-11-22_11-19-28_camBL.h5\n",
      "/home/yiting/Documents/Analysis/2024-11-22/anipose/pose_2d_filter/2024-11-22_11-19-28/2024-11-22_11-19-28_camBR.h5\n",
      "/home/yiting/Documents/Analysis/2024-11-22/anipose/pose_2d_filter/2024-11-22_11-19-28/2024-11-22_11-19-28_camTL.h5\n",
      "/home/yiting/Documents/Analysis/2024-11-22/anipose/pose_2d_filter/2024-11-22_11-19-28/2024-11-22_11-19-28_camTR.h5\n",
      "/home/yiting/Documents/Analysis/2024-11-22/anipose/pose_2d_filter/2024-11-22_11-19-28/2024-11-22_11-19-28_camTo.h5\n",
      "/home/yiting/Documents/Analysis/2024-11-22/anipose/pose_2d_filter/2024-11-22_11-19-41/2024-11-22_11-19-41_camBL.h5\n",
      "/home/yiting/Documents/Analysis/2024-11-22/anipose/pose_2d_filter/2024-11-22_11-19-41/2024-11-22_11-19-41_camBR.h5\n",
      "/home/yiting/Documents/Analysis/2024-11-22/anipose/pose_2d_filter/2024-11-22_11-19-41/2024-11-22_11-19-41_camTL.h5\n",
      "/home/yiting/Documents/Analysis/2024-11-22/anipose/pose_2d_filter/2024-11-22_11-19-41/2024-11-22_11-19-41_camTR.h5\n",
      "/home/yiting/Documents/Analysis/2024-11-22/anipose/pose_2d_filter/2024-11-22_11-19-41/2024-11-22_11-19-41_camTo.h5\n",
      "/home/yiting/Documents/Analysis/2024-11-22/anipose/pose_2d_filter/2024-11-22_11-19-54/2024-11-22_11-19-54_camBL.h5\n",
      "/home/yiting/Documents/Analysis/2024-11-22/anipose/pose_2d_filter/2024-11-22_11-19-54/2024-11-22_11-19-54_camBR.h5\n",
      "/home/yiting/Documents/Analysis/2024-11-22/anipose/pose_2d_filter/2024-11-22_11-19-54/2024-11-22_11-19-54_camTL.h5\n",
      "/home/yiting/Documents/Analysis/2024-11-22/anipose/pose_2d_filter/2024-11-22_11-19-54/2024-11-22_11-19-54_camTR.h5\n",
      "/home/yiting/Documents/Analysis/2024-11-22/anipose/pose_2d_filter/2024-11-22_11-19-54/2024-11-22_11-19-54_camTo.h5\n",
      "/home/yiting/Documents/Analysis/2024-11-22/anipose/pose_2d_filter/2024-11-22_11-20-08/2024-11-22_11-20-08_camBL.h5\n",
      "/home/yiting/Documents/Analysis/2024-11-22/anipose/pose_2d_filter/2024-11-22_11-20-08/2024-11-22_11-20-08_camBR.h5\n",
      "/home/yiting/Documents/Analysis/2024-11-22/anipose/pose_2d_filter/2024-11-22_11-20-08/2024-11-22_11-20-08_camTL.h5\n",
      "/home/yiting/Documents/Analysis/2024-11-22/anipose/pose_2d_filter/2024-11-22_11-20-08/2024-11-22_11-20-08_camTR.h5\n",
      "/home/yiting/Documents/Analysis/2024-11-22/anipose/pose_2d_filter/2024-11-22_11-20-08/2024-11-22_11-20-08_camTo.h5\n",
      "/home/yiting/Documents/Analysis/2024-11-22/anipose/pose_2d_filter/2024-11-22_11-20-22/2024-11-22_11-20-22_camBL.h5\n",
      "/home/yiting/Documents/Analysis/2024-11-22/anipose/pose_2d_filter/2024-11-22_11-20-22/2024-11-22_11-20-22_camBR.h5\n",
      "/home/yiting/Documents/Analysis/2024-11-22/anipose/pose_2d_filter/2024-11-22_11-20-22/2024-11-22_11-20-22_camTL.h5\n",
      "/home/yiting/Documents/Analysis/2024-11-22/anipose/pose_2d_filter/2024-11-22_11-20-22/2024-11-22_11-20-22_camTR.h5\n",
      "/home/yiting/Documents/Analysis/2024-11-22/anipose/pose_2d_filter/2024-11-22_11-20-22/2024-11-22_11-20-22_camTo.h5\n",
      "/home/yiting/Documents/Analysis/2024-11-22/anipose/pose_2d_filter/2024-11-22_11-20-35/2024-11-22_11-20-35_camBL.h5\n",
      "/home/yiting/Documents/Analysis/2024-11-22/anipose/pose_2d_filter/2024-11-22_11-20-35/2024-11-22_11-20-35_camBR.h5\n",
      "/home/yiting/Documents/Analysis/2024-11-22/anipose/pose_2d_filter/2024-11-22_11-20-35/2024-11-22_11-20-35_camTL.h5\n",
      "/home/yiting/Documents/Analysis/2024-11-22/anipose/pose_2d_filter/2024-11-22_11-20-35/2024-11-22_11-20-35_camTR.h5\n",
      "/home/yiting/Documents/Analysis/2024-11-22/anipose/pose_2d_filter/2024-11-22_11-20-35/2024-11-22_11-20-35_camTo.h5\n",
      "/home/yiting/Documents/Analysis/2024-11-22/anipose/pose_2d_filter/2024-11-22_11-20-47/2024-11-22_11-20-47_camBL.h5\n",
      "/home/yiting/Documents/Analysis/2024-11-22/anipose/pose_2d_filter/2024-11-22_11-20-47/2024-11-22_11-20-47_camBR.h5\n",
      "/home/yiting/Documents/Analysis/2024-11-22/anipose/pose_2d_filter/2024-11-22_11-20-47/2024-11-22_11-20-47_camTL.h5\n",
      "/home/yiting/Documents/Analysis/2024-11-22/anipose/pose_2d_filter/2024-11-22_11-20-47/2024-11-22_11-20-47_camTR.h5\n",
      "/home/yiting/Documents/Analysis/2024-11-22/anipose/pose_2d_filter/2024-11-22_11-20-47/2024-11-22_11-20-47_camTo.h5\n",
      "/home/yiting/Documents/Analysis/2024-11-22/anipose/pose_2d_filter/2024-11-22_11-20-59/2024-11-22_11-20-59_camBL.h5\n",
      "/home/yiting/Documents/Analysis/2024-11-22/anipose/pose_2d_filter/2024-11-22_11-20-59/2024-11-22_11-20-59_camBR.h5\n",
      "/home/yiting/Documents/Analysis/2024-11-22/anipose/pose_2d_filter/2024-11-22_11-20-59/2024-11-22_11-20-59_camTL.h5\n",
      "/home/yiting/Documents/Analysis/2024-11-22/anipose/pose_2d_filter/2024-11-22_11-20-59/2024-11-22_11-20-59_camTR.h5\n",
      "/home/yiting/Documents/Analysis/2024-11-22/anipose/pose_2d_filter/2024-11-22_11-20-59/2024-11-22_11-20-59_camTo.h5\n",
      "/home/yiting/Documents/Analysis/2024-11-22/anipose/pose_2d_filter/2024-11-22_11-21-12/2024-11-22_11-21-12_camBL.h5\n",
      "/home/yiting/Documents/Analysis/2024-11-22/anipose/pose_2d_filter/2024-11-22_11-21-12/2024-11-22_11-21-12_camBR.h5\n",
      "/home/yiting/Documents/Analysis/2024-11-22/anipose/pose_2d_filter/2024-11-22_11-21-12/2024-11-22_11-21-12_camTL.h5\n",
      "/home/yiting/Documents/Analysis/2024-11-22/anipose/pose_2d_filter/2024-11-22_11-21-12/2024-11-22_11-21-12_camTR.h5\n",
      "/home/yiting/Documents/Analysis/2024-11-22/anipose/pose_2d_filter/2024-11-22_11-21-12/2024-11-22_11-21-12_camTo.h5\n",
      "/home/yiting/Documents/Analysis/2024-11-22/anipose/pose_2d_filter/2024-11-22_11-21-24/2024-11-22_11-21-24_camBL.h5\n",
      "/home/yiting/Documents/Analysis/2024-11-22/anipose/pose_2d_filter/2024-11-22_11-21-24/2024-11-22_11-21-24_camBR.h5\n",
      "/home/yiting/Documents/Analysis/2024-11-22/anipose/pose_2d_filter/2024-11-22_11-21-24/2024-11-22_11-21-24_camTL.h5\n",
      "/home/yiting/Documents/Analysis/2024-11-22/anipose/pose_2d_filter/2024-11-22_11-21-24/2024-11-22_11-21-24_camTR.h5\n",
      "/home/yiting/Documents/Analysis/2024-11-22/anipose/pose_2d_filter/2024-11-22_11-21-24/2024-11-22_11-21-24_camTo.h5\n",
      "/home/yiting/Documents/Analysis/2024-11-22/anipose/pose_2d_filter/2024-11-22_11-21-37/2024-11-22_11-21-37_camBL.h5\n",
      "/home/yiting/Documents/Analysis/2024-11-22/anipose/pose_2d_filter/2024-11-22_11-21-37/2024-11-22_11-21-37_camBR.h5\n",
      "/home/yiting/Documents/Analysis/2024-11-22/anipose/pose_2d_filter/2024-11-22_11-21-37/2024-11-22_11-21-37_camTL.h5\n",
      "/home/yiting/Documents/Analysis/2024-11-22/anipose/pose_2d_filter/2024-11-22_11-21-37/2024-11-22_11-21-37_camTR.h5\n",
      "/home/yiting/Documents/Analysis/2024-11-22/anipose/pose_2d_filter/2024-11-22_11-21-37/2024-11-22_11-21-37_camTo.h5\n",
      "/home/yiting/Documents/Analysis/2024-11-22/anipose/pose_2d_filter/2024-11-22_11-21-51/2024-11-22_11-21-51_camBL.h5\n",
      "/home/yiting/Documents/Analysis/2024-11-22/anipose/pose_2d_filter/2024-11-22_11-21-51/2024-11-22_11-21-51_camBR.h5\n",
      "/home/yiting/Documents/Analysis/2024-11-22/anipose/pose_2d_filter/2024-11-22_11-21-51/2024-11-22_11-21-51_camTL.h5\n",
      "/home/yiting/Documents/Analysis/2024-11-22/anipose/pose_2d_filter/2024-11-22_11-21-51/2024-11-22_11-21-51_camTR.h5\n",
      "/home/yiting/Documents/Analysis/2024-11-22/anipose/pose_2d_filter/2024-11-22_11-21-51/2024-11-22_11-21-51_camTo.h5\n",
      "/home/yiting/Documents/Analysis/2024-11-22/anipose/pose_2d_filter/2024-11-22_11-22-06/2024-11-22_11-22-06_camBL.h5\n",
      "/home/yiting/Documents/Analysis/2024-11-22/anipose/pose_2d_filter/2024-11-22_11-22-06/2024-11-22_11-22-06_camBR.h5\n",
      "/home/yiting/Documents/Analysis/2024-11-22/anipose/pose_2d_filter/2024-11-22_11-22-06/2024-11-22_11-22-06_camTL.h5\n",
      "/home/yiting/Documents/Analysis/2024-11-22/anipose/pose_2d_filter/2024-11-22_11-22-06/2024-11-22_11-22-06_camTR.h5\n",
      "/home/yiting/Documents/Analysis/2024-11-22/anipose/pose_2d_filter/2024-11-22_11-22-06/2024-11-22_11-22-06_camTo.h5\n",
      "/home/yiting/Documents/Analysis/2024-11-22/anipose/pose_2d_filter/2024-11-22_11-22-19/2024-11-22_11-22-19_camBL.h5\n",
      "/home/yiting/Documents/Analysis/2024-11-22/anipose/pose_2d_filter/2024-11-22_11-22-19/2024-11-22_11-22-19_camBR.h5\n",
      "/home/yiting/Documents/Analysis/2024-11-22/anipose/pose_2d_filter/2024-11-22_11-22-19/2024-11-22_11-22-19_camTL.h5\n",
      "/home/yiting/Documents/Analysis/2024-11-22/anipose/pose_2d_filter/2024-11-22_11-22-19/2024-11-22_11-22-19_camTR.h5\n",
      "/home/yiting/Documents/Analysis/2024-11-22/anipose/pose_2d_filter/2024-11-22_11-22-19/2024-11-22_11-22-19_camTo.h5\n",
      "/home/yiting/Documents/Analysis/2024-11-22/anipose/pose_2d_filter/2024-11-22_11-22-31/2024-11-22_11-22-31_camBL.h5\n",
      "/home/yiting/Documents/Analysis/2024-11-22/anipose/pose_2d_filter/2024-11-22_11-22-31/2024-11-22_11-22-31_camBR.h5\n",
      "/home/yiting/Documents/Analysis/2024-11-22/anipose/pose_2d_filter/2024-11-22_11-22-31/2024-11-22_11-22-31_camTL.h5\n",
      "/home/yiting/Documents/Analysis/2024-11-22/anipose/pose_2d_filter/2024-11-22_11-22-31/2024-11-22_11-22-31_camTR.h5\n",
      "/home/yiting/Documents/Analysis/2024-11-22/anipose/pose_2d_filter/2024-11-22_11-22-31/2024-11-22_11-22-31_camTo.h5\n",
      "/home/yiting/Documents/Analysis/2024-11-22/anipose/pose_2d_filter/2024-11-22_11-22-44/2024-11-22_11-22-44_camBL.h5\n",
      "/home/yiting/Documents/Analysis/2024-11-22/anipose/pose_2d_filter/2024-11-22_11-22-44/2024-11-22_11-22-44_camBR.h5\n",
      "/home/yiting/Documents/Analysis/2024-11-22/anipose/pose_2d_filter/2024-11-22_11-22-44/2024-11-22_11-22-44_camTL.h5\n",
      "/home/yiting/Documents/Analysis/2024-11-22/anipose/pose_2d_filter/2024-11-22_11-22-44/2024-11-22_11-22-44_camTR.h5\n",
      "/home/yiting/Documents/Analysis/2024-11-22/anipose/pose_2d_filter/2024-11-22_11-22-44/2024-11-22_11-22-44_camTo.h5\n",
      "/home/yiting/Documents/Analysis/2024-11-22/anipose/pose_2d_filter/2024-11-22_11-22-59/2024-11-22_11-22-59_camBL.h5\n",
      "/home/yiting/Documents/Analysis/2024-11-22/anipose/pose_2d_filter/2024-11-22_11-22-59/2024-11-22_11-22-59_camBR.h5\n",
      "/home/yiting/Documents/Analysis/2024-11-22/anipose/pose_2d_filter/2024-11-22_11-22-59/2024-11-22_11-22-59_camTL.h5\n",
      "/home/yiting/Documents/Analysis/2024-11-22/anipose/pose_2d_filter/2024-11-22_11-22-59/2024-11-22_11-22-59_camTR.h5\n",
      "/home/yiting/Documents/Analysis/2024-11-22/anipose/pose_2d_filter/2024-11-22_11-22-59/2024-11-22_11-22-59_camTo.h5\n",
      "/home/yiting/Documents/Analysis/2024-11-22/anipose/pose_2d_filter/2024-11-22_11-23-14/2024-11-22_11-23-14_camBL.h5\n",
      "/home/yiting/Documents/Analysis/2024-11-22/anipose/pose_2d_filter/2024-11-22_11-23-14/2024-11-22_11-23-14_camBR.h5\n",
      "/home/yiting/Documents/Analysis/2024-11-22/anipose/pose_2d_filter/2024-11-22_11-23-14/2024-11-22_11-23-14_camTL.h5\n",
      "/home/yiting/Documents/Analysis/2024-11-22/anipose/pose_2d_filter/2024-11-22_11-23-14/2024-11-22_11-23-14_camTR.h5\n",
      "/home/yiting/Documents/Analysis/2024-11-22/anipose/pose_2d_filter/2024-11-22_11-23-14/2024-11-22_11-23-14_camTo.h5\n",
      "/home/yiting/Documents/Analysis/2024-11-22/anipose/pose_2d_filter/2024-11-22_11-23-28/2024-11-22_11-23-28_camBL.h5\n",
      "/home/yiting/Documents/Analysis/2024-11-22/anipose/pose_2d_filter/2024-11-22_11-23-28/2024-11-22_11-23-28_camBR.h5\n",
      "/home/yiting/Documents/Analysis/2024-11-22/anipose/pose_2d_filter/2024-11-22_11-23-28/2024-11-22_11-23-28_camTL.h5\n",
      "/home/yiting/Documents/Analysis/2024-11-22/anipose/pose_2d_filter/2024-11-22_11-23-28/2024-11-22_11-23-28_camTR.h5\n",
      "/home/yiting/Documents/Analysis/2024-11-22/anipose/pose_2d_filter/2024-11-22_11-23-28/2024-11-22_11-23-28_camTo.h5\n",
      "/home/yiting/Documents/Analysis/2024-11-22/anipose/pose_2d_filter/2024-11-22_11-23-43/2024-11-22_11-23-43_camBL.h5\n",
      "/home/yiting/Documents/Analysis/2024-11-22/anipose/pose_2d_filter/2024-11-22_11-23-43/2024-11-22_11-23-43_camBR.h5\n",
      "/home/yiting/Documents/Analysis/2024-11-22/anipose/pose_2d_filter/2024-11-22_11-23-43/2024-11-22_11-23-43_camTL.h5\n",
      "/home/yiting/Documents/Analysis/2024-11-22/anipose/pose_2d_filter/2024-11-22_11-23-43/2024-11-22_11-23-43_camTR.h5\n",
      "/home/yiting/Documents/Analysis/2024-11-22/anipose/pose_2d_filter/2024-11-22_11-23-43/2024-11-22_11-23-43_camTo.h5\n",
      "/home/yiting/Documents/Analysis/2024-11-22/anipose/pose_2d_filter/2024-11-22_11-23-56/2024-11-22_11-23-56_camBL.h5\n",
      "/home/yiting/Documents/Analysis/2024-11-22/anipose/pose_2d_filter/2024-11-22_11-23-56/2024-11-22_11-23-56_camBR.h5\n",
      "/home/yiting/Documents/Analysis/2024-11-22/anipose/pose_2d_filter/2024-11-22_11-23-56/2024-11-22_11-23-56_camTL.h5\n",
      "/home/yiting/Documents/Analysis/2024-11-22/anipose/pose_2d_filter/2024-11-22_11-23-56/2024-11-22_11-23-56_camTR.h5\n",
      "/home/yiting/Documents/Analysis/2024-11-22/anipose/pose_2d_filter/2024-11-22_11-23-56/2024-11-22_11-23-56_camTo.h5\n",
      "/home/yiting/Documents/Analysis/2024-11-22/anipose/pose_2d_filter/2024-11-22_11-24-10/2024-11-22_11-24-10_camBL.h5\n",
      "/home/yiting/Documents/Analysis/2024-11-22/anipose/pose_2d_filter/2024-11-22_11-24-10/2024-11-22_11-24-10_camBR.h5\n",
      "/home/yiting/Documents/Analysis/2024-11-22/anipose/pose_2d_filter/2024-11-22_11-24-10/2024-11-22_11-24-10_camTL.h5\n",
      "/home/yiting/Documents/Analysis/2024-11-22/anipose/pose_2d_filter/2024-11-22_11-24-10/2024-11-22_11-24-10_camTR.h5\n",
      "/home/yiting/Documents/Analysis/2024-11-22/anipose/pose_2d_filter/2024-11-22_11-24-10/2024-11-22_11-24-10_camTo.h5\n",
      "/home/yiting/Documents/Analysis/2024-11-22/anipose/pose_2d_filter/2024-11-22_11-24-23/2024-11-22_11-24-23_camBL.h5\n",
      "/home/yiting/Documents/Analysis/2024-11-22/anipose/pose_2d_filter/2024-11-22_11-24-23/2024-11-22_11-24-23_camBR.h5\n",
      "/home/yiting/Documents/Analysis/2024-11-22/anipose/pose_2d_filter/2024-11-22_11-24-23/2024-11-22_11-24-23_camTL.h5\n",
      "/home/yiting/Documents/Analysis/2024-11-22/anipose/pose_2d_filter/2024-11-22_11-24-23/2024-11-22_11-24-23_camTR.h5\n",
      "/home/yiting/Documents/Analysis/2024-11-22/anipose/pose_2d_filter/2024-11-22_11-24-23/2024-11-22_11-24-23_camTo.h5\n",
      "/home/yiting/Documents/Analysis/2024-11-22/anipose/pose_2d_filter/2024-11-22_11-24-36/2024-11-22_11-24-36_camBL.h5\n",
      "/home/yiting/Documents/Analysis/2024-11-22/anipose/pose_2d_filter/2024-11-22_11-24-36/2024-11-22_11-24-36_camBR.h5\n",
      "/home/yiting/Documents/Analysis/2024-11-22/anipose/pose_2d_filter/2024-11-22_11-24-36/2024-11-22_11-24-36_camTL.h5\n",
      "/home/yiting/Documents/Analysis/2024-11-22/anipose/pose_2d_filter/2024-11-22_11-24-36/2024-11-22_11-24-36_camTR.h5\n",
      "/home/yiting/Documents/Analysis/2024-11-22/anipose/pose_2d_filter/2024-11-22_11-24-36/2024-11-22_11-24-36_camTo.h5\n",
      "/home/yiting/Documents/Analysis/2024-11-22/anipose/pose_2d_filter/2024-11-22_11-24-47/2024-11-22_11-24-47_camBL.h5\n",
      "/home/yiting/Documents/Analysis/2024-11-22/anipose/pose_2d_filter/2024-11-22_11-24-47/2024-11-22_11-24-47_camBR.h5\n",
      "/home/yiting/Documents/Analysis/2024-11-22/anipose/pose_2d_filter/2024-11-22_11-24-47/2024-11-22_11-24-47_camTL.h5\n",
      "/home/yiting/Documents/Analysis/2024-11-22/anipose/pose_2d_filter/2024-11-22_11-24-47/2024-11-22_11-24-47_camTR.h5\n",
      "/home/yiting/Documents/Analysis/2024-11-22/anipose/pose_2d_filter/2024-11-22_11-24-47/2024-11-22_11-24-47_camTo.h5\n",
      "/home/yiting/Documents/Analysis/2024-11-22/anipose/pose_2d_filter/2024-11-22_11-25-01/2024-11-22_11-25-01_camBL.h5\n",
      "/home/yiting/Documents/Analysis/2024-11-22/anipose/pose_2d_filter/2024-11-22_11-25-01/2024-11-22_11-25-01_camBR.h5\n",
      "/home/yiting/Documents/Analysis/2024-11-22/anipose/pose_2d_filter/2024-11-22_11-25-01/2024-11-22_11-25-01_camTL.h5\n",
      "/home/yiting/Documents/Analysis/2024-11-22/anipose/pose_2d_filter/2024-11-22_11-25-01/2024-11-22_11-25-01_camTR.h5\n",
      "/home/yiting/Documents/Analysis/2024-11-22/anipose/pose_2d_filter/2024-11-22_11-25-01/2024-11-22_11-25-01_camTo.h5\n",
      "/home/yiting/Documents/Analysis/2024-11-22/anipose/pose_2d_filter/2024-11-22_11-25-15/2024-11-22_11-25-15_camBL.h5\n",
      "/home/yiting/Documents/Analysis/2024-11-22/anipose/pose_2d_filter/2024-11-22_11-25-15/2024-11-22_11-25-15_camBR.h5\n",
      "/home/yiting/Documents/Analysis/2024-11-22/anipose/pose_2d_filter/2024-11-22_11-25-15/2024-11-22_11-25-15_camTL.h5\n",
      "/home/yiting/Documents/Analysis/2024-11-22/anipose/pose_2d_filter/2024-11-22_11-25-15/2024-11-22_11-25-15_camTR.h5\n",
      "/home/yiting/Documents/Analysis/2024-11-22/anipose/pose_2d_filter/2024-11-22_11-25-15/2024-11-22_11-25-15_camTo.h5\n",
      "/home/yiting/Documents/Analysis/2024-11-22/anipose/pose_2d_filter/2024-11-22_11-25-29/2024-11-22_11-25-29_camBL.h5\n",
      "/home/yiting/Documents/Analysis/2024-11-22/anipose/pose_2d_filter/2024-11-22_11-25-29/2024-11-22_11-25-29_camBR.h5\n",
      "/home/yiting/Documents/Analysis/2024-11-22/anipose/pose_2d_filter/2024-11-22_11-25-29/2024-11-22_11-25-29_camTL.h5\n",
      "/home/yiting/Documents/Analysis/2024-11-22/anipose/pose_2d_filter/2024-11-22_11-25-29/2024-11-22_11-25-29_camTR.h5\n",
      "/home/yiting/Documents/Analysis/2024-11-22/anipose/pose_2d_filter/2024-11-22_11-25-29/2024-11-22_11-25-29_camTo.h5\n",
      "/home/yiting/Documents/Analysis/2024-11-22/anipose/pose_2d_filter/2024-11-22_11-25-45/2024-11-22_11-25-45_camBL.h5\n",
      "/home/yiting/Documents/Analysis/2024-11-22/anipose/pose_2d_filter/2024-11-22_11-25-45/2024-11-22_11-25-45_camBR.h5\n",
      "/home/yiting/Documents/Analysis/2024-11-22/anipose/pose_2d_filter/2024-11-22_11-25-45/2024-11-22_11-25-45_camTL.h5\n",
      "/home/yiting/Documents/Analysis/2024-11-22/anipose/pose_2d_filter/2024-11-22_11-25-45/2024-11-22_11-25-45_camTR.h5\n",
      "/home/yiting/Documents/Analysis/2024-11-22/anipose/pose_2d_filter/2024-11-22_11-25-45/2024-11-22_11-25-45_camTo.h5\n",
      "/home/yiting/Documents/Analysis/2024-11-22/anipose/pose_2d_filter/2024-11-22_11-25-56/2024-11-22_11-25-56_camBL.h5\n",
      "/home/yiting/Documents/Analysis/2024-11-22/anipose/pose_2d_filter/2024-11-22_11-25-56/2024-11-22_11-25-56_camBR.h5\n",
      "/home/yiting/Documents/Analysis/2024-11-22/anipose/pose_2d_filter/2024-11-22_11-25-56/2024-11-22_11-25-56_camTL.h5\n",
      "/home/yiting/Documents/Analysis/2024-11-22/anipose/pose_2d_filter/2024-11-22_11-25-56/2024-11-22_11-25-56_camTR.h5\n",
      "/home/yiting/Documents/Analysis/2024-11-22/anipose/pose_2d_filter/2024-11-22_11-25-56/2024-11-22_11-25-56_camTo.h5\n",
      "/home/yiting/Documents/Analysis/2024-11-22/anipose/pose_2d_filter/2024-11-22_11-26-09/2024-11-22_11-26-09_camBL.h5\n",
      "/home/yiting/Documents/Analysis/2024-11-22/anipose/pose_2d_filter/2024-11-22_11-26-09/2024-11-22_11-26-09_camBR.h5\n",
      "/home/yiting/Documents/Analysis/2024-11-22/anipose/pose_2d_filter/2024-11-22_11-26-09/2024-11-22_11-26-09_camTL.h5\n",
      "/home/yiting/Documents/Analysis/2024-11-22/anipose/pose_2d_filter/2024-11-22_11-26-09/2024-11-22_11-26-09_camTR.h5\n",
      "/home/yiting/Documents/Analysis/2024-11-22/anipose/pose_2d_filter/2024-11-22_11-26-09/2024-11-22_11-26-09_camTo.h5\n",
      "/home/yiting/Documents/Analysis/2024-11-22/anipose/pose_2d_filter/2024-11-22_11-26-22/2024-11-22_11-26-22_camBL.h5\n",
      "/home/yiting/Documents/Analysis/2024-11-22/anipose/pose_2d_filter/2024-11-22_11-26-22/2024-11-22_11-26-22_camBR.h5\n",
      "/home/yiting/Documents/Analysis/2024-11-22/anipose/pose_2d_filter/2024-11-22_11-26-22/2024-11-22_11-26-22_camTL.h5\n",
      "/home/yiting/Documents/Analysis/2024-11-22/anipose/pose_2d_filter/2024-11-22_11-26-22/2024-11-22_11-26-22_camTR.h5\n",
      "/home/yiting/Documents/Analysis/2024-11-22/anipose/pose_2d_filter/2024-11-22_11-26-22/2024-11-22_11-26-22_camTo.h5\n",
      "/home/yiting/Documents/Analysis/2024-11-22/anipose/pose_2d_filter/2024-11-22_11-26-36/2024-11-22_11-26-36_camBL.h5\n",
      "/home/yiting/Documents/Analysis/2024-11-22/anipose/pose_2d_filter/2024-11-22_11-26-36/2024-11-22_11-26-36_camBR.h5\n",
      "/home/yiting/Documents/Analysis/2024-11-22/anipose/pose_2d_filter/2024-11-22_11-26-36/2024-11-22_11-26-36_camTL.h5\n",
      "/home/yiting/Documents/Analysis/2024-11-22/anipose/pose_2d_filter/2024-11-22_11-26-36/2024-11-22_11-26-36_camTR.h5\n",
      "/home/yiting/Documents/Analysis/2024-11-22/anipose/pose_2d_filter/2024-11-22_11-26-36/2024-11-22_11-26-36_camTo.h5\n",
      "/home/yiting/Documents/Analysis/2024-11-22/anipose/pose_2d_filter/2024-11-22_11-26-51/2024-11-22_11-26-51_camBL.h5\n",
      "/home/yiting/Documents/Analysis/2024-11-22/anipose/pose_2d_filter/2024-11-22_11-26-51/2024-11-22_11-26-51_camBR.h5\n",
      "/home/yiting/Documents/Analysis/2024-11-22/anipose/pose_2d_filter/2024-11-22_11-26-51/2024-11-22_11-26-51_camTL.h5\n",
      "/home/yiting/Documents/Analysis/2024-11-22/anipose/pose_2d_filter/2024-11-22_11-26-51/2024-11-22_11-26-51_camTR.h5\n",
      "/home/yiting/Documents/Analysis/2024-11-22/anipose/pose_2d_filter/2024-11-22_11-26-51/2024-11-22_11-26-51_camTo.h5\n",
      "/home/yiting/Documents/Analysis/2024-11-22/anipose/pose_2d_filter/2024-11-22_11-27-06/2024-11-22_11-27-06_camBL.h5\n",
      "/home/yiting/Documents/Analysis/2024-11-22/anipose/pose_2d_filter/2024-11-22_11-27-06/2024-11-22_11-27-06_camBR.h5\n",
      "/home/yiting/Documents/Analysis/2024-11-22/anipose/pose_2d_filter/2024-11-22_11-27-06/2024-11-22_11-27-06_camTL.h5\n",
      "/home/yiting/Documents/Analysis/2024-11-22/anipose/pose_2d_filter/2024-11-22_11-27-06/2024-11-22_11-27-06_camTR.h5\n",
      "/home/yiting/Documents/Analysis/2024-11-22/anipose/pose_2d_filter/2024-11-22_11-27-06/2024-11-22_11-27-06_camTo.h5\n",
      "/home/yiting/Documents/Analysis/2024-11-22/anipose/pose_2d_filter/2024-11-22_11-27-21/2024-11-22_11-27-21_camBL.h5\n",
      "/home/yiting/Documents/Analysis/2024-11-22/anipose/pose_2d_filter/2024-11-22_11-27-21/2024-11-22_11-27-21_camBR.h5\n",
      "/home/yiting/Documents/Analysis/2024-11-22/anipose/pose_2d_filter/2024-11-22_11-27-21/2024-11-22_11-27-21_camTL.h5\n",
      "/home/yiting/Documents/Analysis/2024-11-22/anipose/pose_2d_filter/2024-11-22_11-27-21/2024-11-22_11-27-21_camTR.h5\n",
      "/home/yiting/Documents/Analysis/2024-11-22/anipose/pose_2d_filter/2024-11-22_11-27-21/2024-11-22_11-27-21_camTo.h5\n",
      "/home/yiting/Documents/Analysis/2024-11-22/anipose/pose_2d_filter/2024-11-22_11-27-33/2024-11-22_11-27-33_camBL.h5\n",
      "/home/yiting/Documents/Analysis/2024-11-22/anipose/pose_2d_filter/2024-11-22_11-27-33/2024-11-22_11-27-33_camBR.h5\n",
      "/home/yiting/Documents/Analysis/2024-11-22/anipose/pose_2d_filter/2024-11-22_11-27-33/2024-11-22_11-27-33_camTL.h5\n",
      "/home/yiting/Documents/Analysis/2024-11-22/anipose/pose_2d_filter/2024-11-22_11-27-33/2024-11-22_11-27-33_camTR.h5\n",
      "/home/yiting/Documents/Analysis/2024-11-22/anipose/pose_2d_filter/2024-11-22_11-27-33/2024-11-22_11-27-33_camTo.h5\n",
      "/home/yiting/Documents/Analysis/2024-11-22/anipose/pose_2d_filter/2024-11-22_11-27-46/2024-11-22_11-27-46_camBL.h5\n",
      "/home/yiting/Documents/Analysis/2024-11-22/anipose/pose_2d_filter/2024-11-22_11-27-46/2024-11-22_11-27-46_camBR.h5\n",
      "/home/yiting/Documents/Analysis/2024-11-22/anipose/pose_2d_filter/2024-11-22_11-27-46/2024-11-22_11-27-46_camTL.h5\n",
      "/home/yiting/Documents/Analysis/2024-11-22/anipose/pose_2d_filter/2024-11-22_11-27-46/2024-11-22_11-27-46_camTR.h5\n",
      "/home/yiting/Documents/Analysis/2024-11-22/anipose/pose_2d_filter/2024-11-22_11-27-46/2024-11-22_11-27-46_camTo.h5\n",
      "/home/yiting/Documents/Analysis/2024-11-22/anipose/pose_2d_filter/2024-11-22_11-27-58/2024-11-22_11-27-58_camBL.h5\n",
      "/home/yiting/Documents/Analysis/2024-11-22/anipose/pose_2d_filter/2024-11-22_11-27-58/2024-11-22_11-27-58_camBR.h5\n",
      "/home/yiting/Documents/Analysis/2024-11-22/anipose/pose_2d_filter/2024-11-22_11-27-58/2024-11-22_11-27-58_camTL.h5\n",
      "/home/yiting/Documents/Analysis/2024-11-22/anipose/pose_2d_filter/2024-11-22_11-27-58/2024-11-22_11-27-58_camTR.h5\n",
      "/home/yiting/Documents/Analysis/2024-11-22/anipose/pose_2d_filter/2024-11-22_11-27-58/2024-11-22_11-27-58_camTo.h5\n",
      "/home/yiting/Documents/Analysis/2024-11-22/anipose/pose_2d_filter/2024-11-22_11-28-12/2024-11-22_11-28-12_camBL.h5\n",
      "/home/yiting/Documents/Analysis/2024-11-22/anipose/pose_2d_filter/2024-11-22_11-28-12/2024-11-22_11-28-12_camBR.h5\n",
      "/home/yiting/Documents/Analysis/2024-11-22/anipose/pose_2d_filter/2024-11-22_11-28-12/2024-11-22_11-28-12_camTL.h5\n",
      "/home/yiting/Documents/Analysis/2024-11-22/anipose/pose_2d_filter/2024-11-22_11-28-12/2024-11-22_11-28-12_camTR.h5\n",
      "/home/yiting/Documents/Analysis/2024-11-22/anipose/pose_2d_filter/2024-11-22_11-28-12/2024-11-22_11-28-12_camTo.h5\n",
      "/home/yiting/Documents/Analysis/2024-11-22/anipose/pose_2d_filter/2024-11-22_11-28-26/2024-11-22_11-28-26_camBL.h5\n",
      "/home/yiting/Documents/Analysis/2024-11-22/anipose/pose_2d_filter/2024-11-22_11-28-26/2024-11-22_11-28-26_camBR.h5\n",
      "/home/yiting/Documents/Analysis/2024-11-22/anipose/pose_2d_filter/2024-11-22_11-28-26/2024-11-22_11-28-26_camTL.h5\n",
      "/home/yiting/Documents/Analysis/2024-11-22/anipose/pose_2d_filter/2024-11-22_11-28-26/2024-11-22_11-28-26_camTR.h5\n",
      "/home/yiting/Documents/Analysis/2024-11-22/anipose/pose_2d_filter/2024-11-22_11-28-26/2024-11-22_11-28-26_camTo.h5\n",
      "/home/yiting/Documents/Analysis/2024-11-22/anipose/pose_2d_filter/2024-11-22_11-28-40/2024-11-22_11-28-40_camBL.h5\n",
      "/home/yiting/Documents/Analysis/2024-11-22/anipose/pose_2d_filter/2024-11-22_11-28-40/2024-11-22_11-28-40_camBR.h5\n",
      "/home/yiting/Documents/Analysis/2024-11-22/anipose/pose_2d_filter/2024-11-22_11-28-40/2024-11-22_11-28-40_camTL.h5\n",
      "/home/yiting/Documents/Analysis/2024-11-22/anipose/pose_2d_filter/2024-11-22_11-28-40/2024-11-22_11-28-40_camTR.h5\n",
      "/home/yiting/Documents/Analysis/2024-11-22/anipose/pose_2d_filter/2024-11-22_11-28-40/2024-11-22_11-28-40_camTo.h5\n",
      "/home/yiting/Documents/Analysis/2024-11-22/anipose/pose_2d_filter/2024-11-22_11-28-54/2024-11-22_11-28-54_camBL.h5\n",
      "/home/yiting/Documents/Analysis/2024-11-22/anipose/pose_2d_filter/2024-11-22_11-28-54/2024-11-22_11-28-54_camBR.h5\n",
      "/home/yiting/Documents/Analysis/2024-11-22/anipose/pose_2d_filter/2024-11-22_11-28-54/2024-11-22_11-28-54_camTL.h5\n",
      "/home/yiting/Documents/Analysis/2024-11-22/anipose/pose_2d_filter/2024-11-22_11-28-54/2024-11-22_11-28-54_camTR.h5\n",
      "/home/yiting/Documents/Analysis/2024-11-22/anipose/pose_2d_filter/2024-11-22_11-28-54/2024-11-22_11-28-54_camTo.h5\n",
      "/home/yiting/Documents/Analysis/2024-11-22/anipose/pose_2d_filter/2024-11-22_11-29-07/2024-11-22_11-29-07_camBL.h5\n",
      "/home/yiting/Documents/Analysis/2024-11-22/anipose/pose_2d_filter/2024-11-22_11-29-07/2024-11-22_11-29-07_camBR.h5\n",
      "/home/yiting/Documents/Analysis/2024-11-22/anipose/pose_2d_filter/2024-11-22_11-29-07/2024-11-22_11-29-07_camTL.h5\n",
      "/home/yiting/Documents/Analysis/2024-11-22/anipose/pose_2d_filter/2024-11-22_11-29-07/2024-11-22_11-29-07_camTR.h5\n",
      "/home/yiting/Documents/Analysis/2024-11-22/anipose/pose_2d_filter/2024-11-22_11-29-07/2024-11-22_11-29-07_camTo.h5\n",
      "/home/yiting/Documents/Analysis/2024-11-22/anipose/pose_2d_filter/2024-11-22_11-29-20/2024-11-22_11-29-20_camBL.h5\n",
      "/home/yiting/Documents/Analysis/2024-11-22/anipose/pose_2d_filter/2024-11-22_11-29-20/2024-11-22_11-29-20_camBR.h5\n",
      "/home/yiting/Documents/Analysis/2024-11-22/anipose/pose_2d_filter/2024-11-22_11-29-20/2024-11-22_11-29-20_camTL.h5\n",
      "/home/yiting/Documents/Analysis/2024-11-22/anipose/pose_2d_filter/2024-11-22_11-29-20/2024-11-22_11-29-20_camTR.h5\n",
      "/home/yiting/Documents/Analysis/2024-11-22/anipose/pose_2d_filter/2024-11-22_11-29-20/2024-11-22_11-29-20_camTo.h5\n",
      "/home/yiting/Documents/Analysis/2024-11-22/anipose/pose_2d_filter/2024-11-22_11-29-34/2024-11-22_11-29-34_camBL.h5\n",
      "/home/yiting/Documents/Analysis/2024-11-22/anipose/pose_2d_filter/2024-11-22_11-29-34/2024-11-22_11-29-34_camBR.h5\n",
      "/home/yiting/Documents/Analysis/2024-11-22/anipose/pose_2d_filter/2024-11-22_11-29-34/2024-11-22_11-29-34_camTL.h5\n",
      "/home/yiting/Documents/Analysis/2024-11-22/anipose/pose_2d_filter/2024-11-22_11-29-34/2024-11-22_11-29-34_camTR.h5\n",
      "/home/yiting/Documents/Analysis/2024-11-22/anipose/pose_2d_filter/2024-11-22_11-29-34/2024-11-22_11-29-34_camTo.h5\n",
      "/home/yiting/Documents/Analysis/2024-11-22/anipose/pose_2d_filter/2024-11-22_11-29-47/2024-11-22_11-29-47_camBL.h5\n",
      "/home/yiting/Documents/Analysis/2024-11-22/anipose/pose_2d_filter/2024-11-22_11-29-47/2024-11-22_11-29-47_camBR.h5\n",
      "/home/yiting/Documents/Analysis/2024-11-22/anipose/pose_2d_filter/2024-11-22_11-29-47/2024-11-22_11-29-47_camTL.h5\n",
      "/home/yiting/Documents/Analysis/2024-11-22/anipose/pose_2d_filter/2024-11-22_11-29-47/2024-11-22_11-29-47_camTR.h5\n",
      "/home/yiting/Documents/Analysis/2024-11-22/anipose/pose_2d_filter/2024-11-22_11-29-47/2024-11-22_11-29-47_camTo.h5\n",
      "/home/yiting/Documents/Analysis/2024-11-22/anipose/pose_2d_filter/2024-11-22_11-29-58/2024-11-22_11-29-58_camBL.h5\n",
      "/home/yiting/Documents/Analysis/2024-11-22/anipose/pose_2d_filter/2024-11-22_11-29-58/2024-11-22_11-29-58_camBR.h5\n",
      "/home/yiting/Documents/Analysis/2024-11-22/anipose/pose_2d_filter/2024-11-22_11-29-58/2024-11-22_11-29-58_camTL.h5\n",
      "/home/yiting/Documents/Analysis/2024-11-22/anipose/pose_2d_filter/2024-11-22_11-29-58/2024-11-22_11-29-58_camTR.h5\n",
      "/home/yiting/Documents/Analysis/2024-11-22/anipose/pose_2d_filter/2024-11-22_11-29-58/2024-11-22_11-29-58_camTo.h5\n",
      "/home/yiting/Documents/Analysis/2024-11-22/anipose/pose_2d_filter/2024-11-22_11-30-12/2024-11-22_11-30-12_camBL.h5\n",
      "/home/yiting/Documents/Analysis/2024-11-22/anipose/pose_2d_filter/2024-11-22_11-30-12/2024-11-22_11-30-12_camBR.h5\n",
      "/home/yiting/Documents/Analysis/2024-11-22/anipose/pose_2d_filter/2024-11-22_11-30-12/2024-11-22_11-30-12_camTL.h5\n",
      "/home/yiting/Documents/Analysis/2024-11-22/anipose/pose_2d_filter/2024-11-22_11-30-12/2024-11-22_11-30-12_camTR.h5\n",
      "/home/yiting/Documents/Analysis/2024-11-22/anipose/pose_2d_filter/2024-11-22_11-30-12/2024-11-22_11-30-12_camTo.h5\n",
      "/home/yiting/Documents/Analysis/2024-11-22/anipose/pose_2d_filter/2024-11-22_11-30-27/2024-11-22_11-30-27_camBL.h5\n",
      "/home/yiting/Documents/Analysis/2024-11-22/anipose/pose_2d_filter/2024-11-22_11-30-27/2024-11-22_11-30-27_camBR.h5\n",
      "/home/yiting/Documents/Analysis/2024-11-22/anipose/pose_2d_filter/2024-11-22_11-30-27/2024-11-22_11-30-27_camTL.h5\n",
      "/home/yiting/Documents/Analysis/2024-11-22/anipose/pose_2d_filter/2024-11-22_11-30-27/2024-11-22_11-30-27_camTR.h5\n",
      "/home/yiting/Documents/Analysis/2024-11-22/anipose/pose_2d_filter/2024-11-22_11-30-27/2024-11-22_11-30-27_camTo.h5\n",
      "/home/yiting/Documents/Analysis/2024-11-22/anipose/pose_2d_filter/2024-11-22_11-30-41/2024-11-22_11-30-41_camBL.h5\n",
      "/home/yiting/Documents/Analysis/2024-11-22/anipose/pose_2d_filter/2024-11-22_11-30-41/2024-11-22_11-30-41_camBR.h5\n",
      "/home/yiting/Documents/Analysis/2024-11-22/anipose/pose_2d_filter/2024-11-22_11-30-41/2024-11-22_11-30-41_camTL.h5\n",
      "/home/yiting/Documents/Analysis/2024-11-22/anipose/pose_2d_filter/2024-11-22_11-30-41/2024-11-22_11-30-41_camTR.h5\n",
      "/home/yiting/Documents/Analysis/2024-11-22/anipose/pose_2d_filter/2024-11-22_11-30-41/2024-11-22_11-30-41_camTo.h5\n",
      "/home/yiting/Documents/Analysis/2024-11-22/anipose/pose_2d_filter/2024-11-22_11-30-54/2024-11-22_11-30-54_camBL.h5\n",
      "/home/yiting/Documents/Analysis/2024-11-22/anipose/pose_2d_filter/2024-11-22_11-30-54/2024-11-22_11-30-54_camBR.h5\n",
      "/home/yiting/Documents/Analysis/2024-11-22/anipose/pose_2d_filter/2024-11-22_11-30-54/2024-11-22_11-30-54_camTL.h5\n",
      "/home/yiting/Documents/Analysis/2024-11-22/anipose/pose_2d_filter/2024-11-22_11-30-54/2024-11-22_11-30-54_camTR.h5\n",
      "/home/yiting/Documents/Analysis/2024-11-22/anipose/pose_2d_filter/2024-11-22_11-30-54/2024-11-22_11-30-54_camTo.h5\n",
      "/home/yiting/Documents/Analysis/2024-11-22/anipose/pose_2d_filter/2024-11-22_11-31-09/2024-11-22_11-31-09_camBL.h5\n",
      "/home/yiting/Documents/Analysis/2024-11-22/anipose/pose_2d_filter/2024-11-22_11-31-09/2024-11-22_11-31-09_camBR.h5\n",
      "/home/yiting/Documents/Analysis/2024-11-22/anipose/pose_2d_filter/2024-11-22_11-31-09/2024-11-22_11-31-09_camTL.h5\n",
      "/home/yiting/Documents/Analysis/2024-11-22/anipose/pose_2d_filter/2024-11-22_11-31-09/2024-11-22_11-31-09_camTR.h5\n",
      "/home/yiting/Documents/Analysis/2024-11-22/anipose/pose_2d_filter/2024-11-22_11-31-09/2024-11-22_11-31-09_camTo.h5\n",
      "/home/yiting/Documents/Analysis/2024-11-22/anipose/pose_2d_filter/2024-11-22_11-31-23/2024-11-22_11-31-23_camBL.h5\n",
      "/home/yiting/Documents/Analysis/2024-11-22/anipose/pose_2d_filter/2024-11-22_11-31-23/2024-11-22_11-31-23_camBR.h5\n",
      "/home/yiting/Documents/Analysis/2024-11-22/anipose/pose_2d_filter/2024-11-22_11-31-23/2024-11-22_11-31-23_camTL.h5\n",
      "/home/yiting/Documents/Analysis/2024-11-22/anipose/pose_2d_filter/2024-11-22_11-31-23/2024-11-22_11-31-23_camTR.h5\n",
      "/home/yiting/Documents/Analysis/2024-11-22/anipose/pose_2d_filter/2024-11-22_11-31-23/2024-11-22_11-31-23_camTo.h5\n",
      "/home/yiting/Documents/Analysis/2024-11-22/anipose/pose_2d_filter/2024-11-22_11-31-35/2024-11-22_11-31-35_camBL.h5\n",
      "/home/yiting/Documents/Analysis/2024-11-22/anipose/pose_2d_filter/2024-11-22_11-31-35/2024-11-22_11-31-35_camBR.h5\n",
      "/home/yiting/Documents/Analysis/2024-11-22/anipose/pose_2d_filter/2024-11-22_11-31-35/2024-11-22_11-31-35_camTL.h5\n",
      "/home/yiting/Documents/Analysis/2024-11-22/anipose/pose_2d_filter/2024-11-22_11-31-35/2024-11-22_11-31-35_camTR.h5\n",
      "/home/yiting/Documents/Analysis/2024-11-22/anipose/pose_2d_filter/2024-11-22_11-31-35/2024-11-22_11-31-35_camTo.h5\n",
      "/home/yiting/Documents/Analysis/2024-11-22/anipose/pose_2d_filter/2024-11-22_11-31-48/2024-11-22_11-31-48_camBL.h5\n",
      "/home/yiting/Documents/Analysis/2024-11-22/anipose/pose_2d_filter/2024-11-22_11-31-48/2024-11-22_11-31-48_camBR.h5\n",
      "/home/yiting/Documents/Analysis/2024-11-22/anipose/pose_2d_filter/2024-11-22_11-31-48/2024-11-22_11-31-48_camTL.h5\n",
      "/home/yiting/Documents/Analysis/2024-11-22/anipose/pose_2d_filter/2024-11-22_11-31-48/2024-11-22_11-31-48_camTR.h5\n",
      "/home/yiting/Documents/Analysis/2024-11-22/anipose/pose_2d_filter/2024-11-22_11-31-48/2024-11-22_11-31-48_camTo.h5\n",
      "/home/yiting/Documents/Analysis/2024-11-22/anipose/pose_2d_filter/2024-11-22_11-32-02/2024-11-22_11-32-02_camBL.h5\n",
      "/home/yiting/Documents/Analysis/2024-11-22/anipose/pose_2d_filter/2024-11-22_11-32-02/2024-11-22_11-32-02_camBR.h5\n",
      "/home/yiting/Documents/Analysis/2024-11-22/anipose/pose_2d_filter/2024-11-22_11-32-02/2024-11-22_11-32-02_camTL.h5\n",
      "/home/yiting/Documents/Analysis/2024-11-22/anipose/pose_2d_filter/2024-11-22_11-32-02/2024-11-22_11-32-02_camTR.h5\n",
      "/home/yiting/Documents/Analysis/2024-11-22/anipose/pose_2d_filter/2024-11-22_11-32-02/2024-11-22_11-32-02_camTo.h5\n",
      "/home/yiting/Documents/Analysis/2024-11-22/anipose/pose_2d_filter/2024-11-22_11-32-15/2024-11-22_11-32-15_camBL.h5\n",
      "/home/yiting/Documents/Analysis/2024-11-22/anipose/pose_2d_filter/2024-11-22_11-32-15/2024-11-22_11-32-15_camBR.h5\n",
      "/home/yiting/Documents/Analysis/2024-11-22/anipose/pose_2d_filter/2024-11-22_11-32-15/2024-11-22_11-32-15_camTL.h5\n",
      "/home/yiting/Documents/Analysis/2024-11-22/anipose/pose_2d_filter/2024-11-22_11-32-15/2024-11-22_11-32-15_camTR.h5\n",
      "/home/yiting/Documents/Analysis/2024-11-22/anipose/pose_2d_filter/2024-11-22_11-32-15/2024-11-22_11-32-15_camTo.h5\n",
      "/home/yiting/Documents/Analysis/2024-11-22/anipose/pose_2d_filter/2024-11-22_11-32-30/2024-11-22_11-32-30_camBL.h5\n",
      "/home/yiting/Documents/Analysis/2024-11-22/anipose/pose_2d_filter/2024-11-22_11-32-30/2024-11-22_11-32-30_camBR.h5\n",
      "/home/yiting/Documents/Analysis/2024-11-22/anipose/pose_2d_filter/2024-11-22_11-32-30/2024-11-22_11-32-30_camTL.h5\n",
      "/home/yiting/Documents/Analysis/2024-11-22/anipose/pose_2d_filter/2024-11-22_11-32-30/2024-11-22_11-32-30_camTR.h5\n",
      "/home/yiting/Documents/Analysis/2024-11-22/anipose/pose_2d_filter/2024-11-22_11-32-30/2024-11-22_11-32-30_camTo.h5\n",
      "/home/yiting/Documents/Analysis/2024-11-22/anipose/pose_2d_filter/2024-11-22_11-32-44/2024-11-22_11-32-44_camBL.h5\n",
      "/home/yiting/Documents/Analysis/2024-11-22/anipose/pose_2d_filter/2024-11-22_11-32-44/2024-11-22_11-32-44_camBR.h5\n",
      "/home/yiting/Documents/Analysis/2024-11-22/anipose/pose_2d_filter/2024-11-22_11-32-44/2024-11-22_11-32-44_camTL.h5\n",
      "/home/yiting/Documents/Analysis/2024-11-22/anipose/pose_2d_filter/2024-11-22_11-32-44/2024-11-22_11-32-44_camTR.h5\n",
      "/home/yiting/Documents/Analysis/2024-11-22/anipose/pose_2d_filter/2024-11-22_11-32-44/2024-11-22_11-32-44_camTo.h5\n",
      "/home/yiting/Documents/Analysis/2024-11-22/anipose/pose_2d_filter/2024-11-22_11-32-57/2024-11-22_11-32-57_camBL.h5\n",
      "/home/yiting/Documents/Analysis/2024-11-22/anipose/pose_2d_filter/2024-11-22_11-32-57/2024-11-22_11-32-57_camBR.h5\n",
      "/home/yiting/Documents/Analysis/2024-11-22/anipose/pose_2d_filter/2024-11-22_11-32-57/2024-11-22_11-32-57_camTL.h5\n",
      "/home/yiting/Documents/Analysis/2024-11-22/anipose/pose_2d_filter/2024-11-22_11-32-57/2024-11-22_11-32-57_camTR.h5\n",
      "/home/yiting/Documents/Analysis/2024-11-22/anipose/pose_2d_filter/2024-11-22_11-32-57/2024-11-22_11-32-57_camTo.h5\n",
      "/home/yiting/Documents/Analysis/2024-11-22/anipose/pose_2d_filter/2024-11-22_11-33-09/2024-11-22_11-33-09_camBL.h5\n",
      "/home/yiting/Documents/Analysis/2024-11-22/anipose/pose_2d_filter/2024-11-22_11-33-09/2024-11-22_11-33-09_camBR.h5\n",
      "/home/yiting/Documents/Analysis/2024-11-22/anipose/pose_2d_filter/2024-11-22_11-33-09/2024-11-22_11-33-09_camTL.h5\n",
      "/home/yiting/Documents/Analysis/2024-11-22/anipose/pose_2d_filter/2024-11-22_11-33-09/2024-11-22_11-33-09_camTR.h5\n",
      "/home/yiting/Documents/Analysis/2024-11-22/anipose/pose_2d_filter/2024-11-22_11-33-09/2024-11-22_11-33-09_camTo.h5\n",
      "/home/yiting/Documents/Analysis/2024-11-22/anipose/pose_2d_filter/2024-11-22_11-33-21/2024-11-22_11-33-21_camBL.h5\n",
      "/home/yiting/Documents/Analysis/2024-11-22/anipose/pose_2d_filter/2024-11-22_11-33-21/2024-11-22_11-33-21_camBR.h5\n",
      "/home/yiting/Documents/Analysis/2024-11-22/anipose/pose_2d_filter/2024-11-22_11-33-21/2024-11-22_11-33-21_camTL.h5\n",
      "/home/yiting/Documents/Analysis/2024-11-22/anipose/pose_2d_filter/2024-11-22_11-33-21/2024-11-22_11-33-21_camTR.h5\n",
      "/home/yiting/Documents/Analysis/2024-11-22/anipose/pose_2d_filter/2024-11-22_11-33-21/2024-11-22_11-33-21_camTo.h5\n",
      "/home/yiting/Documents/Analysis/2024-11-22/anipose/pose_2d_filter/2024-11-22_11-33-33/2024-11-22_11-33-33_camBL.h5\n",
      "/home/yiting/Documents/Analysis/2024-11-22/anipose/pose_2d_filter/2024-11-22_11-33-33/2024-11-22_11-33-33_camBR.h5\n",
      "/home/yiting/Documents/Analysis/2024-11-22/anipose/pose_2d_filter/2024-11-22_11-33-33/2024-11-22_11-33-33_camTL.h5\n",
      "/home/yiting/Documents/Analysis/2024-11-22/anipose/pose_2d_filter/2024-11-22_11-33-33/2024-11-22_11-33-33_camTR.h5\n",
      "/home/yiting/Documents/Analysis/2024-11-22/anipose/pose_2d_filter/2024-11-22_11-33-33/2024-11-22_11-33-33_camTo.h5\n",
      "/home/yiting/Documents/Analysis/2024-11-22/anipose/pose_2d_filter/2024-11-22_11-33-44/2024-11-22_11-33-44_camBL.h5\n",
      "/home/yiting/Documents/Analysis/2024-11-22/anipose/pose_2d_filter/2024-11-22_11-33-44/2024-11-22_11-33-44_camBR.h5\n",
      "/home/yiting/Documents/Analysis/2024-11-22/anipose/pose_2d_filter/2024-11-22_11-33-44/2024-11-22_11-33-44_camTL.h5\n",
      "/home/yiting/Documents/Analysis/2024-11-22/anipose/pose_2d_filter/2024-11-22_11-33-44/2024-11-22_11-33-44_camTR.h5\n",
      "/home/yiting/Documents/Analysis/2024-11-22/anipose/pose_2d_filter/2024-11-22_11-33-44/2024-11-22_11-33-44_camTo.h5\n",
      "/home/yiting/Documents/Analysis/2024-11-22/anipose/pose_2d_filter/2024-11-22_11-33-54/2024-11-22_11-33-54_camBL.h5\n",
      "/home/yiting/Documents/Analysis/2024-11-22/anipose/pose_2d_filter/2024-11-22_11-33-54/2024-11-22_11-33-54_camBR.h5\n",
      "/home/yiting/Documents/Analysis/2024-11-22/anipose/pose_2d_filter/2024-11-22_11-33-54/2024-11-22_11-33-54_camTL.h5\n",
      "/home/yiting/Documents/Analysis/2024-11-22/anipose/pose_2d_filter/2024-11-22_11-33-54/2024-11-22_11-33-54_camTR.h5\n",
      "/home/yiting/Documents/Analysis/2024-11-22/anipose/pose_2d_filter/2024-11-22_11-33-54/2024-11-22_11-33-54_camTo.h5\n",
      "/home/yiting/Documents/Analysis/2024-11-22/anipose/pose_2d_filter/2024-11-22_11-34-05/2024-11-22_11-34-05_camBL.h5\n",
      "/home/yiting/Documents/Analysis/2024-11-22/anipose/pose_2d_filter/2024-11-22_11-34-05/2024-11-22_11-34-05_camBR.h5\n",
      "/home/yiting/Documents/Analysis/2024-11-22/anipose/pose_2d_filter/2024-11-22_11-34-05/2024-11-22_11-34-05_camTL.h5\n",
      "/home/yiting/Documents/Analysis/2024-11-22/anipose/pose_2d_filter/2024-11-22_11-34-05/2024-11-22_11-34-05_camTR.h5\n",
      "/home/yiting/Documents/Analysis/2024-11-22/anipose/pose_2d_filter/2024-11-22_11-34-05/2024-11-22_11-34-05_camTo.h5\n",
      "/home/yiting/Documents/Analysis/2024-11-22/anipose/pose_2d_filter/2024-11-22_11-35-07/2024-11-22_11-35-07_camBL.h5\n",
      "/home/yiting/Documents/Analysis/2024-11-22/anipose/pose_2d_filter/2024-11-22_11-35-07/2024-11-22_11-35-07_camBR.h5\n",
      "/home/yiting/Documents/Analysis/2024-11-22/anipose/pose_2d_filter/2024-11-22_11-35-07/2024-11-22_11-35-07_camTL.h5\n",
      "/home/yiting/Documents/Analysis/2024-11-22/anipose/pose_2d_filter/2024-11-22_11-35-07/2024-11-22_11-35-07_camTR.h5\n",
      "/home/yiting/Documents/Analysis/2024-11-22/anipose/pose_2d_filter/2024-11-22_11-35-07/2024-11-22_11-35-07_camTo.h5\n",
      "/home/yiting/Documents/Analysis/2024-11-22/anipose/pose_2d_filter/2024-11-22_11-35-18/2024-11-22_11-35-18_camBL.h5\n",
      "/home/yiting/Documents/Analysis/2024-11-22/anipose/pose_2d_filter/2024-11-22_11-35-18/2024-11-22_11-35-18_camBR.h5\n",
      "/home/yiting/Documents/Analysis/2024-11-22/anipose/pose_2d_filter/2024-11-22_11-35-18/2024-11-22_11-35-18_camTL.h5\n",
      "/home/yiting/Documents/Analysis/2024-11-22/anipose/pose_2d_filter/2024-11-22_11-35-18/2024-11-22_11-35-18_camTR.h5\n",
      "/home/yiting/Documents/Analysis/2024-11-22/anipose/pose_2d_filter/2024-11-22_11-35-18/2024-11-22_11-35-18_camTo.h5\n",
      "/home/yiting/Documents/Analysis/2024-11-22/anipose/pose_2d_filter/2024-11-22_11-35-29/2024-11-22_11-35-29_camBL.h5\n",
      "/home/yiting/Documents/Analysis/2024-11-22/anipose/pose_2d_filter/2024-11-22_11-35-29/2024-11-22_11-35-29_camBR.h5\n",
      "/home/yiting/Documents/Analysis/2024-11-22/anipose/pose_2d_filter/2024-11-22_11-35-29/2024-11-22_11-35-29_camTL.h5\n",
      "/home/yiting/Documents/Analysis/2024-11-22/anipose/pose_2d_filter/2024-11-22_11-35-29/2024-11-22_11-35-29_camTR.h5\n",
      "/home/yiting/Documents/Analysis/2024-11-22/anipose/pose_2d_filter/2024-11-22_11-35-29/2024-11-22_11-35-29_camTo.h5\n",
      "/home/yiting/Documents/Analysis/2024-11-22/anipose/pose_2d_filter/2024-11-22_11-44-48/2024-11-22_11-44-48_camBL.h5\n",
      "/home/yiting/Documents/Analysis/2024-11-22/anipose/pose_2d_filter/2024-11-22_11-44-48/2024-11-22_11-44-48_camBR.h5\n",
      "/home/yiting/Documents/Analysis/2024-11-22/anipose/pose_2d_filter/2024-11-22_11-44-48/2024-11-22_11-44-48_camTL.h5\n",
      "/home/yiting/Documents/Analysis/2024-11-22/anipose/pose_2d_filter/2024-11-22_11-44-48/2024-11-22_11-44-48_camTR.h5\n",
      "/home/yiting/Documents/Analysis/2024-11-22/anipose/pose_2d_filter/2024-11-22_11-44-48/2024-11-22_11-44-48_camTo.h5\n",
      "/home/yiting/Documents/Analysis/2024-11-22/anipose/pose_2d_filter/2024-11-22_11-44-58/2024-11-22_11-44-58_camBL.h5\n",
      "/home/yiting/Documents/Analysis/2024-11-22/anipose/pose_2d_filter/2024-11-22_11-44-58/2024-11-22_11-44-58_camBR.h5\n",
      "/home/yiting/Documents/Analysis/2024-11-22/anipose/pose_2d_filter/2024-11-22_11-44-58/2024-11-22_11-44-58_camTL.h5\n",
      "/home/yiting/Documents/Analysis/2024-11-22/anipose/pose_2d_filter/2024-11-22_11-44-58/2024-11-22_11-44-58_camTR.h5\n",
      "/home/yiting/Documents/Analysis/2024-11-22/anipose/pose_2d_filter/2024-11-22_11-44-58/2024-11-22_11-44-58_camTo.h5\n",
      "/home/yiting/Documents/Analysis/2024-11-22/anipose/pose_2d_filter/2024-11-22_11-45-10/2024-11-22_11-45-10_camBL.h5\n",
      "/home/yiting/Documents/Analysis/2024-11-22/anipose/pose_2d_filter/2024-11-22_11-45-10/2024-11-22_11-45-10_camBR.h5\n",
      "/home/yiting/Documents/Analysis/2024-11-22/anipose/pose_2d_filter/2024-11-22_11-45-10/2024-11-22_11-45-10_camTL.h5\n",
      "/home/yiting/Documents/Analysis/2024-11-22/anipose/pose_2d_filter/2024-11-22_11-45-10/2024-11-22_11-45-10_camTR.h5\n",
      "/home/yiting/Documents/Analysis/2024-11-22/anipose/pose_2d_filter/2024-11-22_11-45-10/2024-11-22_11-45-10_camTo.h5\n",
      "/home/yiting/Documents/Analysis/2024-11-22/anipose/pose_2d_filter/2024-11-22_11-45-21/2024-11-22_11-45-21_camBL.h5\n",
      "/home/yiting/Documents/Analysis/2024-11-22/anipose/pose_2d_filter/2024-11-22_11-45-21/2024-11-22_11-45-21_camBR.h5\n",
      "/home/yiting/Documents/Analysis/2024-11-22/anipose/pose_2d_filter/2024-11-22_11-45-21/2024-11-22_11-45-21_camTL.h5\n",
      "/home/yiting/Documents/Analysis/2024-11-22/anipose/pose_2d_filter/2024-11-22_11-45-21/2024-11-22_11-45-21_camTR.h5\n",
      "/home/yiting/Documents/Analysis/2024-11-22/anipose/pose_2d_filter/2024-11-22_11-45-21/2024-11-22_11-45-21_camTo.h5\n",
      "/home/yiting/Documents/Analysis/2024-11-22/anipose/pose_2d_filter/2024-11-22_11-45-32/2024-11-22_11-45-32_camBL.h5\n",
      "/home/yiting/Documents/Analysis/2024-11-22/anipose/pose_2d_filter/2024-11-22_11-45-32/2024-11-22_11-45-32_camBR.h5\n",
      "/home/yiting/Documents/Analysis/2024-11-22/anipose/pose_2d_filter/2024-11-22_11-45-32/2024-11-22_11-45-32_camTL.h5\n",
      "/home/yiting/Documents/Analysis/2024-11-22/anipose/pose_2d_filter/2024-11-22_11-45-32/2024-11-22_11-45-32_camTR.h5\n",
      "/home/yiting/Documents/Analysis/2024-11-22/anipose/pose_2d_filter/2024-11-22_11-45-32/2024-11-22_11-45-32_camTo.h5\n"
     ]
    }
   ],
   "source": [
    "ap_2d_dir = os.path.join(ap_dir, \"pose_2d\")\n",
    "trials = sorted(os.listdir(ap_2d_dir))\n",
    "for t in trials:\n",
    "    filter2d_process(config, session_name, t)"
   ]
  },
  {
   "cell_type": "markdown",
   "metadata": {},
   "source": [
    "### Triangulation"
   ]
  },
  {
   "cell_type": "code",
   "execution_count": 6,
   "metadata": {},
   "outputs": [
    {
     "name": "stdout",
     "output_type": "stream",
     "text": [
      "/home/yiting/Documents/Analysis/2024-11-22/anipose/pose_3d/2024-11-22_08-43-44_3d.csv\n"
     ]
    },
    {
     "name": "stderr",
     "output_type": "stream",
     "text": [
      "  0%|                                       | 0/15540 [00:00<?, ?it/s]OMP: Info #276: omp_set_nested routine deprecated, please use omp_set_max_active_levels instead.\n",
      "100%|██████████████████████████| 15540/15540 [01:02<00:00, 248.72it/s]\n"
     ]
    },
    {
     "name": "stdout",
     "output_type": "stream",
     "text": [
      "/home/yiting/Documents/Analysis/2024-11-22/anipose/pose_3d/2024-11-22_08-43-57_3d.csv\n"
     ]
    },
    {
     "name": "stderr",
     "output_type": "stream",
     "text": [
      "100%|██████████████████████████| 15435/15435 [01:06<00:00, 231.87it/s]\n"
     ]
    },
    {
     "name": "stdout",
     "output_type": "stream",
     "text": [
      "/home/yiting/Documents/Analysis/2024-11-22/anipose/pose_3d/2024-11-22_08-44-11_3d.csv\n"
     ]
    },
    {
     "name": "stderr",
     "output_type": "stream",
     "text": [
      "100%|██████████████████████████| 12432/12432 [00:55<00:00, 225.88it/s]\n"
     ]
    },
    {
     "name": "stdout",
     "output_type": "stream",
     "text": [
      "/home/yiting/Documents/Analysis/2024-11-22/anipose/pose_3d/2024-11-22_08-44-23_3d.csv\n"
     ]
    },
    {
     "name": "stderr",
     "output_type": "stream",
     "text": [
      "100%|██████████████████████████| 13440/13440 [01:02<00:00, 215.30it/s]\n"
     ]
    },
    {
     "name": "stdout",
     "output_type": "stream",
     "text": [
      "/home/yiting/Documents/Analysis/2024-11-22/anipose/pose_3d/2024-11-22_08-44-36_3d.csv\n"
     ]
    },
    {
     "name": "stderr",
     "output_type": "stream",
     "text": [
      "100%|██████████████████████████| 14910/14910 [01:06<00:00, 225.17it/s]\n"
     ]
    },
    {
     "name": "stdout",
     "output_type": "stream",
     "text": [
      "/home/yiting/Documents/Analysis/2024-11-22/anipose/pose_3d/2024-11-22_08-44-49_3d.csv\n"
     ]
    },
    {
     "name": "stderr",
     "output_type": "stream",
     "text": [
      "100%|██████████████████████████| 28959/28959 [01:44<00:00, 276.36it/s]\n"
     ]
    },
    {
     "name": "stdout",
     "output_type": "stream",
     "text": [
      "/home/yiting/Documents/Analysis/2024-11-22/anipose/pose_3d/2024-11-22_08-45-08_3d.csv\n"
     ]
    },
    {
     "name": "stderr",
     "output_type": "stream",
     "text": [
      "100%|██████████████████████████| 14994/14994 [01:05<00:00, 229.28it/s]\n"
     ]
    },
    {
     "name": "stdout",
     "output_type": "stream",
     "text": [
      "/home/yiting/Documents/Analysis/2024-11-22/anipose/pose_3d/2024-11-22_08-45-21_3d.csv\n"
     ]
    },
    {
     "name": "stderr",
     "output_type": "stream",
     "text": [
      "100%|██████████████████████████| 15225/15225 [00:52<00:00, 287.94it/s]\n"
     ]
    },
    {
     "name": "stdout",
     "output_type": "stream",
     "text": [
      "/home/yiting/Documents/Analysis/2024-11-22/anipose/pose_3d/2024-11-22_08-45-35_3d.csv\n"
     ]
    },
    {
     "name": "stderr",
     "output_type": "stream",
     "text": [
      "100%|██████████████████████████| 15183/15183 [01:01<00:00, 246.27it/s]\n"
     ]
    },
    {
     "name": "stdout",
     "output_type": "stream",
     "text": [
      "/home/yiting/Documents/Analysis/2024-11-22/anipose/pose_3d/2024-11-22_08-45-48_3d.csv\n"
     ]
    },
    {
     "name": "stderr",
     "output_type": "stream",
     "text": [
      "100%|██████████████████████████| 15561/15561 [00:45<00:00, 338.78it/s]\n"
     ]
    },
    {
     "name": "stdout",
     "output_type": "stream",
     "text": [
      "/home/yiting/Documents/Analysis/2024-11-22/anipose/pose_3d/2024-11-22_08-46-02_3d.csv\n"
     ]
    },
    {
     "name": "stderr",
     "output_type": "stream",
     "text": [
      "100%|██████████████████████████| 15351/15351 [00:57<00:00, 267.64it/s]\n"
     ]
    },
    {
     "name": "stdout",
     "output_type": "stream",
     "text": [
      "/home/yiting/Documents/Analysis/2024-11-22/anipose/pose_3d/2024-11-22_08-46-16_3d.csv\n"
     ]
    },
    {
     "name": "stderr",
     "output_type": "stream",
     "text": [
      "100%|██████████████████████████| 13251/13251 [00:55<00:00, 237.32it/s]\n"
     ]
    },
    {
     "name": "stdout",
     "output_type": "stream",
     "text": [
      "/home/yiting/Documents/Analysis/2024-11-22/anipose/pose_3d/2024-11-22_08-46-27_3d.csv\n"
     ]
    },
    {
     "name": "stderr",
     "output_type": "stream",
     "text": [
      "100%|██████████████████████████| 15015/15015 [01:03<00:00, 236.77it/s]\n"
     ]
    },
    {
     "name": "stdout",
     "output_type": "stream",
     "text": [
      "/home/yiting/Documents/Analysis/2024-11-22/anipose/pose_3d/2024-11-22_08-46-41_3d.csv\n"
     ]
    },
    {
     "name": "stderr",
     "output_type": "stream",
     "text": [
      "100%|██████████████████████████| 12285/12285 [00:57<00:00, 214.82it/s]\n"
     ]
    },
    {
     "name": "stdout",
     "output_type": "stream",
     "text": [
      "/home/yiting/Documents/Analysis/2024-11-22/anipose/pose_3d/2024-11-22_08-46-54_3d.csv\n"
     ]
    },
    {
     "name": "stderr",
     "output_type": "stream",
     "text": [
      "100%|██████████████████████████| 12243/12243 [00:52<00:00, 232.65it/s]\n"
     ]
    },
    {
     "name": "stdout",
     "output_type": "stream",
     "text": [
      "/home/yiting/Documents/Analysis/2024-11-22/anipose/pose_3d/2024-11-22_08-47-06_3d.csv\n"
     ]
    },
    {
     "name": "stderr",
     "output_type": "stream",
     "text": [
      "100%|██████████████████████████| 15267/15267 [01:06<00:00, 230.20it/s]\n"
     ]
    },
    {
     "name": "stdout",
     "output_type": "stream",
     "text": [
      "/home/yiting/Documents/Analysis/2024-11-22/anipose/pose_3d/2024-11-22_08-47-20_3d.csv\n"
     ]
    },
    {
     "name": "stderr",
     "output_type": "stream",
     "text": [
      "100%|██████████████████████████| 12705/12705 [00:52<00:00, 240.57it/s]\n"
     ]
    },
    {
     "name": "stdout",
     "output_type": "stream",
     "text": [
      "/home/yiting/Documents/Analysis/2024-11-22/anipose/pose_3d/2024-11-22_08-47-32_3d.csv\n"
     ]
    },
    {
     "name": "stderr",
     "output_type": "stream",
     "text": [
      "100%|██████████████████████████| 14469/14469 [01:02<00:00, 231.85it/s]\n"
     ]
    },
    {
     "name": "stdout",
     "output_type": "stream",
     "text": [
      "/home/yiting/Documents/Analysis/2024-11-22/anipose/pose_3d/2024-11-22_08-47-45_3d.csv\n"
     ]
    },
    {
     "name": "stderr",
     "output_type": "stream",
     "text": [
      "100%|██████████████████████████| 13797/13797 [01:04<00:00, 214.20it/s]\n"
     ]
    },
    {
     "name": "stdout",
     "output_type": "stream",
     "text": [
      "/home/yiting/Documents/Analysis/2024-11-22/anipose/pose_3d/2024-11-22_08-47-58_3d.csv\n"
     ]
    },
    {
     "name": "stderr",
     "output_type": "stream",
     "text": [
      "100%|██████████████████████████| 15855/15855 [01:08<00:00, 231.19it/s]\n"
     ]
    },
    {
     "name": "stdout",
     "output_type": "stream",
     "text": [
      "/home/yiting/Documents/Analysis/2024-11-22/anipose/pose_3d/2024-11-22_08-48-12_3d.csv\n"
     ]
    },
    {
     "name": "stderr",
     "output_type": "stream",
     "text": [
      "100%|██████████████████████████| 15078/15078 [00:47<00:00, 314.75it/s]\n"
     ]
    },
    {
     "name": "stdout",
     "output_type": "stream",
     "text": [
      "/home/yiting/Documents/Analysis/2024-11-22/anipose/pose_3d/2024-11-22_08-48-25_3d.csv\n"
     ]
    },
    {
     "name": "stderr",
     "output_type": "stream",
     "text": [
      "100%|██████████████████████████| 16485/16485 [00:50<00:00, 325.41it/s]\n"
     ]
    },
    {
     "name": "stdout",
     "output_type": "stream",
     "text": [
      "/home/yiting/Documents/Analysis/2024-11-22/anipose/pose_3d/2024-11-22_08-48-39_3d.csv\n"
     ]
    },
    {
     "name": "stderr",
     "output_type": "stream",
     "text": [
      "100%|██████████████████████████| 14910/14910 [00:52<00:00, 284.16it/s]\n"
     ]
    },
    {
     "name": "stdout",
     "output_type": "stream",
     "text": [
      "/home/yiting/Documents/Analysis/2024-11-22/anipose/pose_3d/2024-11-22_08-48-51_3d.csv\n"
     ]
    },
    {
     "name": "stderr",
     "output_type": "stream",
     "text": [
      "100%|██████████████████████████| 12852/12852 [00:52<00:00, 245.72it/s]\n"
     ]
    },
    {
     "name": "stdout",
     "output_type": "stream",
     "text": [
      "/home/yiting/Documents/Analysis/2024-11-22/anipose/pose_3d/2024-11-22_08-49-04_3d.csv\n"
     ]
    },
    {
     "name": "stderr",
     "output_type": "stream",
     "text": [
      "100%|██████████████████████████| 14910/14910 [01:02<00:00, 239.06it/s]\n"
     ]
    },
    {
     "name": "stdout",
     "output_type": "stream",
     "text": [
      "/home/yiting/Documents/Analysis/2024-11-22/anipose/pose_3d/2024-11-22_08-49-17_3d.csv\n"
     ]
    },
    {
     "name": "stderr",
     "output_type": "stream",
     "text": [
      "100%|██████████████████████████| 13881/13881 [00:50<00:00, 275.93it/s]\n"
     ]
    },
    {
     "name": "stdout",
     "output_type": "stream",
     "text": [
      "/home/yiting/Documents/Analysis/2024-11-22/anipose/pose_3d/2024-11-22_08-49-30_3d.csv\n"
     ]
    },
    {
     "name": "stderr",
     "output_type": "stream",
     "text": [
      "100%|██████████████████████████| 12432/12432 [00:45<00:00, 272.36it/s]\n"
     ]
    },
    {
     "name": "stdout",
     "output_type": "stream",
     "text": [
      "/home/yiting/Documents/Analysis/2024-11-22/anipose/pose_3d/2024-11-22_08-49-42_3d.csv\n"
     ]
    },
    {
     "name": "stderr",
     "output_type": "stream",
     "text": [
      "100%|██████████████████████████| 15078/15078 [01:05<00:00, 231.42it/s]\n"
     ]
    },
    {
     "name": "stdout",
     "output_type": "stream",
     "text": [
      "/home/yiting/Documents/Analysis/2024-11-22/anipose/pose_3d/2024-11-22_08-49-56_3d.csv\n"
     ]
    },
    {
     "name": "stderr",
     "output_type": "stream",
     "text": [
      "100%|██████████████████████████| 12201/12201 [00:57<00:00, 212.38it/s]\n"
     ]
    },
    {
     "name": "stdout",
     "output_type": "stream",
     "text": [
      "/home/yiting/Documents/Analysis/2024-11-22/anipose/pose_3d/2024-11-22_08-50-08_3d.csv\n"
     ]
    },
    {
     "name": "stderr",
     "output_type": "stream",
     "text": [
      "100%|██████████████████████████| 12768/12768 [00:58<00:00, 217.66it/s]\n"
     ]
    },
    {
     "name": "stdout",
     "output_type": "stream",
     "text": [
      "/home/yiting/Documents/Analysis/2024-11-22/anipose/pose_3d/2024-11-22_08-50-20_3d.csv\n"
     ]
    },
    {
     "name": "stderr",
     "output_type": "stream",
     "text": [
      "100%|██████████████████████████| 14973/14973 [01:02<00:00, 238.86it/s]\n"
     ]
    },
    {
     "name": "stdout",
     "output_type": "stream",
     "text": [
      "/home/yiting/Documents/Analysis/2024-11-22/anipose/pose_3d/2024-11-22_08-50-35_3d.csv\n"
     ]
    },
    {
     "name": "stderr",
     "output_type": "stream",
     "text": [
      "100%|██████████████████████████| 12915/12915 [00:59<00:00, 216.03it/s]\n"
     ]
    },
    {
     "name": "stdout",
     "output_type": "stream",
     "text": [
      "/home/yiting/Documents/Analysis/2024-11-22/anipose/pose_3d/2024-11-22_08-50-46_3d.csv\n"
     ]
    },
    {
     "name": "stderr",
     "output_type": "stream",
     "text": [
      "100%|██████████████████████████| 14175/14175 [01:00<00:00, 233.79it/s]\n"
     ]
    },
    {
     "name": "stdout",
     "output_type": "stream",
     "text": [
      "/home/yiting/Documents/Analysis/2024-11-22/anipose/pose_3d/2024-11-22_08-50-59_3d.csv\n"
     ]
    },
    {
     "name": "stderr",
     "output_type": "stream",
     "text": [
      "100%|██████████████████████████| 15792/15792 [01:08<00:00, 230.05it/s]\n"
     ]
    },
    {
     "name": "stdout",
     "output_type": "stream",
     "text": [
      "/home/yiting/Documents/Analysis/2024-11-22/anipose/pose_3d/2024-11-22_08-51-13_3d.csv\n"
     ]
    },
    {
     "name": "stderr",
     "output_type": "stream",
     "text": [
      "100%|██████████████████████████| 21252/21252 [01:30<00:00, 234.76it/s]\n"
     ]
    },
    {
     "name": "stdout",
     "output_type": "stream",
     "text": [
      "/home/yiting/Documents/Analysis/2024-11-22/anipose/pose_3d/2024-11-22_08-51-29_3d.csv\n"
     ]
    },
    {
     "name": "stderr",
     "output_type": "stream",
     "text": [
      "100%|██████████████████████████| 15204/15204 [00:52<00:00, 289.00it/s]\n"
     ]
    },
    {
     "name": "stdout",
     "output_type": "stream",
     "text": [
      "/home/yiting/Documents/Analysis/2024-11-22/anipose/pose_3d/2024-11-22_08-51-42_3d.csv\n"
     ]
    },
    {
     "name": "stderr",
     "output_type": "stream",
     "text": [
      "100%|██████████████████████████| 15897/15897 [01:06<00:00, 239.06it/s]\n"
     ]
    },
    {
     "name": "stdout",
     "output_type": "stream",
     "text": [
      "/home/yiting/Documents/Analysis/2024-11-22/anipose/pose_3d/2024-11-22_08-51-56_3d.csv\n"
     ]
    },
    {
     "name": "stderr",
     "output_type": "stream",
     "text": [
      "100%|██████████████████████████| 12684/12684 [00:43<00:00, 292.30it/s]\n"
     ]
    },
    {
     "name": "stdout",
     "output_type": "stream",
     "text": [
      "/home/yiting/Documents/Analysis/2024-11-22/anipose/pose_3d/2024-11-22_08-52-08_3d.csv\n"
     ]
    },
    {
     "name": "stderr",
     "output_type": "stream",
     "text": [
      "100%|██████████████████████████| 11739/11739 [00:46<00:00, 253.49it/s]\n"
     ]
    },
    {
     "name": "stdout",
     "output_type": "stream",
     "text": [
      "/home/yiting/Documents/Analysis/2024-11-22/anipose/pose_3d/2024-11-22_08-52-20_3d.csv\n"
     ]
    },
    {
     "name": "stderr",
     "output_type": "stream",
     "text": [
      "100%|██████████████████████████| 14364/14364 [01:00<00:00, 237.79it/s]\n"
     ]
    },
    {
     "name": "stdout",
     "output_type": "stream",
     "text": [
      "/home/yiting/Documents/Analysis/2024-11-22/anipose/pose_3d/2024-11-22_08-52-33_3d.csv\n"
     ]
    },
    {
     "name": "stderr",
     "output_type": "stream",
     "text": [
      "100%|██████████████████████████| 13314/13314 [00:57<00:00, 231.69it/s]\n"
     ]
    },
    {
     "name": "stdout",
     "output_type": "stream",
     "text": [
      "/home/yiting/Documents/Analysis/2024-11-22/anipose/pose_3d/2024-11-22_08-52-45_3d.csv\n"
     ]
    },
    {
     "name": "stderr",
     "output_type": "stream",
     "text": [
      "100%|██████████████████████████| 16590/16590 [01:07<00:00, 247.15it/s]\n"
     ]
    },
    {
     "name": "stdout",
     "output_type": "stream",
     "text": [
      "/home/yiting/Documents/Analysis/2024-11-22/anipose/pose_3d/2024-11-22_08-52-58_3d.csv\n"
     ]
    },
    {
     "name": "stderr",
     "output_type": "stream",
     "text": [
      "100%|██████████████████████████| 15057/15057 [01:08<00:00, 220.85it/s]\n"
     ]
    },
    {
     "name": "stdout",
     "output_type": "stream",
     "text": [
      "/home/yiting/Documents/Analysis/2024-11-22/anipose/pose_3d/2024-11-22_08-53-11_3d.csv\n"
     ]
    },
    {
     "name": "stderr",
     "output_type": "stream",
     "text": [
      "100%|██████████████████████████| 11886/11886 [00:53<00:00, 223.97it/s]\n"
     ]
    },
    {
     "name": "stdout",
     "output_type": "stream",
     "text": [
      "/home/yiting/Documents/Analysis/2024-11-22/anipose/pose_3d/2024-11-22_08-53-23_3d.csv\n"
     ]
    },
    {
     "name": "stderr",
     "output_type": "stream",
     "text": [
      "100%|██████████████████████████| 15456/15456 [01:00<00:00, 256.54it/s]\n"
     ]
    },
    {
     "name": "stdout",
     "output_type": "stream",
     "text": [
      "/home/yiting/Documents/Analysis/2024-11-22/anipose/pose_3d/2024-11-22_08-53-37_3d.csv\n"
     ]
    },
    {
     "name": "stderr",
     "output_type": "stream",
     "text": [
      "100%|██████████████████████████| 16002/16002 [00:47<00:00, 337.36it/s]\n"
     ]
    },
    {
     "name": "stdout",
     "output_type": "stream",
     "text": [
      "/home/yiting/Documents/Analysis/2024-11-22/anipose/pose_3d/2024-11-22_08-53-50_3d.csv\n"
     ]
    },
    {
     "name": "stderr",
     "output_type": "stream",
     "text": [
      "100%|██████████████████████████| 12222/12222 [00:41<00:00, 296.13it/s]\n"
     ]
    },
    {
     "name": "stdout",
     "output_type": "stream",
     "text": [
      "/home/yiting/Documents/Analysis/2024-11-22/anipose/pose_3d/2024-11-22_08-54-01_3d.csv\n"
     ]
    },
    {
     "name": "stderr",
     "output_type": "stream",
     "text": [
      "100%|██████████████████████████| 12936/12936 [00:45<00:00, 286.30it/s]\n"
     ]
    },
    {
     "name": "stdout",
     "output_type": "stream",
     "text": [
      "/home/yiting/Documents/Analysis/2024-11-22/anipose/pose_3d/2024-11-22_08-54-14_3d.csv\n"
     ]
    },
    {
     "name": "stderr",
     "output_type": "stream",
     "text": [
      "100%|██████████████████████████| 11634/11634 [00:45<00:00, 257.58it/s]\n"
     ]
    },
    {
     "name": "stdout",
     "output_type": "stream",
     "text": [
      "/home/yiting/Documents/Analysis/2024-11-22/anipose/pose_3d/2024-11-22_08-54-26_3d.csv\n"
     ]
    },
    {
     "name": "stderr",
     "output_type": "stream",
     "text": [
      "100%|██████████████████████████| 15351/15351 [01:04<00:00, 238.28it/s]\n"
     ]
    },
    {
     "name": "stdout",
     "output_type": "stream",
     "text": [
      "/home/yiting/Documents/Analysis/2024-11-22/anipose/pose_3d/2024-11-22_08-54-38_3d.csv\n"
     ]
    },
    {
     "name": "stderr",
     "output_type": "stream",
     "text": [
      "100%|██████████████████████████| 15141/15141 [01:10<00:00, 215.35it/s]\n"
     ]
    },
    {
     "name": "stdout",
     "output_type": "stream",
     "text": [
      "/home/yiting/Documents/Analysis/2024-11-22/anipose/pose_3d/2024-11-22_08-54-51_3d.csv\n"
     ]
    },
    {
     "name": "stderr",
     "output_type": "stream",
     "text": [
      "100%|██████████████████████████| 14595/14595 [00:59<00:00, 243.57it/s]\n"
     ]
    },
    {
     "name": "stdout",
     "output_type": "stream",
     "text": [
      "/home/yiting/Documents/Analysis/2024-11-22/anipose/pose_3d/2024-11-22_08-55-04_3d.csv\n"
     ]
    },
    {
     "name": "stderr",
     "output_type": "stream",
     "text": [
      "100%|██████████████████████████| 15393/15393 [01:04<00:00, 238.74it/s]\n"
     ]
    },
    {
     "name": "stdout",
     "output_type": "stream",
     "text": [
      "/home/yiting/Documents/Analysis/2024-11-22/anipose/pose_3d/2024-11-22_08-55-17_3d.csv\n"
     ]
    },
    {
     "name": "stderr",
     "output_type": "stream",
     "text": [
      "100%|██████████████████████████| 12411/12411 [00:56<00:00, 221.39it/s]\n"
     ]
    },
    {
     "name": "stdout",
     "output_type": "stream",
     "text": [
      "/home/yiting/Documents/Analysis/2024-11-22/anipose/pose_3d/2024-11-22_08-55-29_3d.csv\n"
     ]
    },
    {
     "name": "stderr",
     "output_type": "stream",
     "text": [
      "100%|██████████████████████████| 13146/13146 [01:00<00:00, 217.72it/s]\n"
     ]
    },
    {
     "name": "stdout",
     "output_type": "stream",
     "text": [
      "/home/yiting/Documents/Analysis/2024-11-22/anipose/pose_3d/2024-11-22_08-55-42_3d.csv\n"
     ]
    },
    {
     "name": "stderr",
     "output_type": "stream",
     "text": [
      "100%|██████████████████████████| 11928/11928 [00:50<00:00, 234.22it/s]\n"
     ]
    },
    {
     "name": "stdout",
     "output_type": "stream",
     "text": [
      "/home/yiting/Documents/Analysis/2024-11-22/anipose/pose_3d/2024-11-22_08-55-54_3d.csv\n"
     ]
    },
    {
     "name": "stderr",
     "output_type": "stream",
     "text": [
      "100%|██████████████████████████| 15729/15729 [01:06<00:00, 235.65it/s]\n"
     ]
    },
    {
     "name": "stdout",
     "output_type": "stream",
     "text": [
      "/home/yiting/Documents/Analysis/2024-11-22/anipose/pose_3d/2024-11-22_08-56-07_3d.csv\n"
     ]
    },
    {
     "name": "stderr",
     "output_type": "stream",
     "text": [
      "100%|██████████████████████████| 15099/15099 [00:47<00:00, 315.23it/s]\n"
     ]
    },
    {
     "name": "stdout",
     "output_type": "stream",
     "text": [
      "/home/yiting/Documents/Analysis/2024-11-22/anipose/pose_3d/2024-11-22_08-56-19_3d.csv\n"
     ]
    },
    {
     "name": "stderr",
     "output_type": "stream",
     "text": [
      "100%|██████████████████████████| 15225/15225 [01:07<00:00, 226.59it/s]\n"
     ]
    },
    {
     "name": "stdout",
     "output_type": "stream",
     "text": [
      "/home/yiting/Documents/Analysis/2024-11-22/anipose/pose_3d/2024-11-22_08-56-32_3d.csv\n"
     ]
    },
    {
     "name": "stderr",
     "output_type": "stream",
     "text": [
      "100%|██████████████████████████| 13125/13125 [01:03<00:00, 206.52it/s]\n"
     ]
    },
    {
     "name": "stdout",
     "output_type": "stream",
     "text": [
      "/home/yiting/Documents/Analysis/2024-11-22/anipose/pose_3d/2024-11-22_08-56-44_3d.csv\n"
     ]
    },
    {
     "name": "stderr",
     "output_type": "stream",
     "text": [
      "100%|██████████████████████████| 11949/11949 [00:55<00:00, 215.21it/s]\n"
     ]
    },
    {
     "name": "stdout",
     "output_type": "stream",
     "text": [
      "/home/yiting/Documents/Analysis/2024-11-22/anipose/pose_3d/2024-11-22_08-56-56_3d.csv\n"
     ]
    },
    {
     "name": "stderr",
     "output_type": "stream",
     "text": [
      "100%|██████████████████████████| 15288/15288 [01:05<00:00, 234.27it/s]\n"
     ]
    },
    {
     "name": "stdout",
     "output_type": "stream",
     "text": [
      "/home/yiting/Documents/Analysis/2024-11-22/anipose/pose_3d/2024-11-22_08-57-11_3d.csv\n"
     ]
    },
    {
     "name": "stderr",
     "output_type": "stream",
     "text": [
      "100%|██████████████████████████| 11466/11466 [00:52<00:00, 217.95it/s]\n"
     ]
    },
    {
     "name": "stdout",
     "output_type": "stream",
     "text": [
      "/home/yiting/Documents/Analysis/2024-11-22/anipose/pose_3d/2024-11-22_08-57-22_3d.csv\n"
     ]
    },
    {
     "name": "stderr",
     "output_type": "stream",
     "text": [
      "100%|██████████████████████████| 15498/15498 [00:45<00:00, 343.93it/s]\n"
     ]
    },
    {
     "name": "stdout",
     "output_type": "stream",
     "text": [
      "/home/yiting/Documents/Analysis/2024-11-22/anipose/pose_3d/2024-11-22_08-57-35_3d.csv\n"
     ]
    },
    {
     "name": "stderr",
     "output_type": "stream",
     "text": [
      "100%|██████████████████████████| 11193/11193 [00:43<00:00, 258.22it/s]\n"
     ]
    },
    {
     "name": "stdout",
     "output_type": "stream",
     "text": [
      "/home/yiting/Documents/Analysis/2024-11-22/anipose/pose_3d/2024-11-22_08-57-46_3d.csv\n"
     ]
    },
    {
     "name": "stderr",
     "output_type": "stream",
     "text": [
      "100%|██████████████████████████| 13566/13566 [00:54<00:00, 248.78it/s]\n"
     ]
    },
    {
     "name": "stdout",
     "output_type": "stream",
     "text": [
      "/home/yiting/Documents/Analysis/2024-11-22/anipose/pose_3d/2024-11-22_08-57-59_3d.csv\n"
     ]
    },
    {
     "name": "stderr",
     "output_type": "stream",
     "text": [
      "100%|██████████████████████████| 14574/14574 [01:03<00:00, 231.15it/s]\n"
     ]
    },
    {
     "name": "stdout",
     "output_type": "stream",
     "text": [
      "/home/yiting/Documents/Analysis/2024-11-22/anipose/pose_3d/2024-11-22_08-58-13_3d.csv\n"
     ]
    },
    {
     "name": "stderr",
     "output_type": "stream",
     "text": [
      "100%|██████████████████████████| 11382/11382 [00:52<00:00, 216.72it/s]\n"
     ]
    },
    {
     "name": "stdout",
     "output_type": "stream",
     "text": [
      "/home/yiting/Documents/Analysis/2024-11-22/anipose/pose_3d/2024-11-22_08-58-24_3d.csv\n"
     ]
    },
    {
     "name": "stderr",
     "output_type": "stream",
     "text": [
      "100%|██████████████████████████| 15183/15183 [00:54<00:00, 278.24it/s]\n"
     ]
    },
    {
     "name": "stdout",
     "output_type": "stream",
     "text": [
      "/home/yiting/Documents/Analysis/2024-11-22/anipose/pose_3d/2024-11-22_08-58-37_3d.csv\n"
     ]
    },
    {
     "name": "stderr",
     "output_type": "stream",
     "text": [
      "100%|██████████████████████████| 15015/15015 [01:04<00:00, 231.30it/s]\n"
     ]
    },
    {
     "name": "stdout",
     "output_type": "stream",
     "text": [
      "/home/yiting/Documents/Analysis/2024-11-22/anipose/pose_3d/2024-11-22_08-58-51_3d.csv\n"
     ]
    },
    {
     "name": "stderr",
     "output_type": "stream",
     "text": [
      "100%|██████████████████████████| 12159/12159 [00:59<00:00, 204.99it/s]\n"
     ]
    },
    {
     "name": "stdout",
     "output_type": "stream",
     "text": [
      "/home/yiting/Documents/Analysis/2024-11-22/anipose/pose_3d/2024-11-22_08-59-03_3d.csv\n"
     ]
    },
    {
     "name": "stderr",
     "output_type": "stream",
     "text": [
      "100%|██████████████████████████| 12117/12117 [00:55<00:00, 218.58it/s]\n"
     ]
    },
    {
     "name": "stdout",
     "output_type": "stream",
     "text": [
      "/home/yiting/Documents/Analysis/2024-11-22/anipose/pose_3d/2024-11-22_08-59-14_3d.csv\n"
     ]
    },
    {
     "name": "stderr",
     "output_type": "stream",
     "text": [
      "100%|██████████████████████████| 12621/12621 [00:56<00:00, 221.65it/s]\n"
     ]
    },
    {
     "name": "stdout",
     "output_type": "stream",
     "text": [
      "/home/yiting/Documents/Analysis/2024-11-22/anipose/pose_3d/2024-11-22_08-59-27_3d.csv\n"
     ]
    },
    {
     "name": "stderr",
     "output_type": "stream",
     "text": [
      "100%|██████████████████████████| 13398/13398 [00:56<00:00, 237.55it/s]\n"
     ]
    },
    {
     "name": "stdout",
     "output_type": "stream",
     "text": [
      "/home/yiting/Documents/Analysis/2024-11-22/anipose/pose_3d/2024-11-22_08-59-41_3d.csv\n"
     ]
    },
    {
     "name": "stderr",
     "output_type": "stream",
     "text": [
      "100%|██████████████████████████| 17283/17283 [00:48<00:00, 354.96it/s]\n"
     ]
    },
    {
     "name": "stdout",
     "output_type": "stream",
     "text": [
      "/home/yiting/Documents/Analysis/2024-11-22/anipose/pose_3d/2024-11-22_08-59-54_3d.csv\n"
     ]
    },
    {
     "name": "stderr",
     "output_type": "stream",
     "text": [
      "100%|██████████████████████████| 11718/11718 [00:43<00:00, 269.15it/s]\n"
     ]
    },
    {
     "name": "stdout",
     "output_type": "stream",
     "text": [
      "/home/yiting/Documents/Analysis/2024-11-22/anipose/pose_3d/2024-11-22_09-00-07_3d.csv\n"
     ]
    },
    {
     "name": "stderr",
     "output_type": "stream",
     "text": [
      "100%|██████████████████████████| 15309/15309 [01:04<00:00, 238.18it/s]\n"
     ]
    },
    {
     "name": "stdout",
     "output_type": "stream",
     "text": [
      "/home/yiting/Documents/Analysis/2024-11-22/anipose/pose_3d/2024-11-22_09-00-20_3d.csv\n"
     ]
    },
    {
     "name": "stderr",
     "output_type": "stream",
     "text": [
      "100%|██████████████████████████| 15603/15603 [00:58<00:00, 268.43it/s]\n"
     ]
    },
    {
     "name": "stdout",
     "output_type": "stream",
     "text": [
      "/home/yiting/Documents/Analysis/2024-11-22/anipose/pose_3d/2024-11-22_09-00-34_3d.csv\n"
     ]
    },
    {
     "name": "stderr",
     "output_type": "stream",
     "text": [
      "100%|██████████████████████████| 12747/12747 [00:50<00:00, 254.60it/s]\n"
     ]
    },
    {
     "name": "stdout",
     "output_type": "stream",
     "text": [
      "/home/yiting/Documents/Analysis/2024-11-22/anipose/pose_3d/2024-11-22_09-00-47_3d.csv\n"
     ]
    },
    {
     "name": "stderr",
     "output_type": "stream",
     "text": [
      "100%|██████████████████████████| 11592/11592 [00:53<00:00, 218.07it/s]\n"
     ]
    },
    {
     "name": "stdout",
     "output_type": "stream",
     "text": [
      "/home/yiting/Documents/Analysis/2024-11-22/anipose/pose_3d/2024-11-22_09-00-59_3d.csv\n"
     ]
    },
    {
     "name": "stderr",
     "output_type": "stream",
     "text": [
      "100%|██████████████████████████| 12453/12453 [00:58<00:00, 212.61it/s]\n"
     ]
    },
    {
     "name": "stdout",
     "output_type": "stream",
     "text": [
      "/home/yiting/Documents/Analysis/2024-11-22/anipose/pose_3d/2024-11-22_09-01-11_3d.csv\n"
     ]
    },
    {
     "name": "stderr",
     "output_type": "stream",
     "text": [
      "100%|██████████████████████████| 15099/15099 [01:05<00:00, 229.02it/s]\n"
     ]
    },
    {
     "name": "stdout",
     "output_type": "stream",
     "text": [
      "/home/yiting/Documents/Analysis/2024-11-22/anipose/pose_3d/2024-11-22_09-01-25_3d.csv\n"
     ]
    },
    {
     "name": "stderr",
     "output_type": "stream",
     "text": [
      "100%|██████████████████████████| 11802/11802 [00:50<00:00, 231.52it/s]\n"
     ]
    },
    {
     "name": "stdout",
     "output_type": "stream",
     "text": [
      "/home/yiting/Documents/Analysis/2024-11-22/anipose/pose_3d/2024-11-22_09-01-37_3d.csv\n"
     ]
    },
    {
     "name": "stderr",
     "output_type": "stream",
     "text": [
      "100%|██████████████████████████| 15372/15372 [00:51<00:00, 295.73it/s]\n"
     ]
    },
    {
     "name": "stdout",
     "output_type": "stream",
     "text": [
      "/home/yiting/Documents/Analysis/2024-11-22/anipose/pose_3d/2024-11-22_09-01-51_3d.csv\n"
     ]
    },
    {
     "name": "stderr",
     "output_type": "stream",
     "text": [
      "100%|██████████████████████████| 14826/14826 [00:54<00:00, 269.61it/s]\n"
     ]
    },
    {
     "name": "stdout",
     "output_type": "stream",
     "text": [
      "/home/yiting/Documents/Analysis/2024-11-22/anipose/pose_3d/2024-11-22_09-02-05_3d.csv\n"
     ]
    },
    {
     "name": "stderr",
     "output_type": "stream",
     "text": [
      "100%|██████████████████████████| 16212/16212 [01:04<00:00, 252.36it/s]\n"
     ]
    },
    {
     "name": "stdout",
     "output_type": "stream",
     "text": [
      "/home/yiting/Documents/Analysis/2024-11-22/anipose/pose_3d/2024-11-22_09-02-19_3d.csv\n"
     ]
    },
    {
     "name": "stderr",
     "output_type": "stream",
     "text": [
      "100%|██████████████████████████| 16506/16506 [01:00<00:00, 274.89it/s]\n"
     ]
    },
    {
     "name": "stdout",
     "output_type": "stream",
     "text": [
      "/home/yiting/Documents/Analysis/2024-11-22/anipose/pose_3d/2024-11-22_09-02-33_3d.csv\n"
     ]
    },
    {
     "name": "stderr",
     "output_type": "stream",
     "text": [
      "100%|██████████████████████████| 13377/13377 [00:32<00:00, 413.11it/s]\n"
     ]
    },
    {
     "name": "stdout",
     "output_type": "stream",
     "text": [
      "/home/yiting/Documents/Analysis/2024-11-22/anipose/pose_3d/2024-11-22_09-02-45_3d.csv\n"
     ]
    },
    {
     "name": "stderr",
     "output_type": "stream",
     "text": [
      "100%|█████████████████████████| 10059/10059 [00:08<00:00, 1253.97it/s]\n"
     ]
    },
    {
     "name": "stdout",
     "output_type": "stream",
     "text": [
      "/home/yiting/Documents/Analysis/2024-11-22/anipose/pose_3d/2024-11-22_09-02-57_3d.csv\n"
     ]
    },
    {
     "name": "stderr",
     "output_type": "stream",
     "text": [
      "100%|████████████████████████████| 9660/9660 [00:10<00:00, 942.11it/s]\n"
     ]
    },
    {
     "name": "stdout",
     "output_type": "stream",
     "text": [
      "/home/yiting/Documents/Analysis/2024-11-22/anipose/pose_3d/2024-11-22_09-03-08_3d.csv\n"
     ]
    },
    {
     "name": "stderr",
     "output_type": "stream",
     "text": [
      "100%|██████████████████████████| 12915/12915 [00:51<00:00, 252.75it/s]\n"
     ]
    },
    {
     "name": "stdout",
     "output_type": "stream",
     "text": [
      "/home/yiting/Documents/Analysis/2024-11-22/anipose/pose_3d/2024-11-22_09-03-20_3d.csv\n"
     ]
    },
    {
     "name": "stderr",
     "output_type": "stream",
     "text": [
      "100%|██████████████████████████| 12936/12936 [00:54<00:00, 236.80it/s]\n"
     ]
    },
    {
     "name": "stdout",
     "output_type": "stream",
     "text": [
      "/home/yiting/Documents/Analysis/2024-11-22/anipose/pose_3d/2024-11-22_09-03-32_3d.csv\n"
     ]
    },
    {
     "name": "stderr",
     "output_type": "stream",
     "text": [
      "100%|██████████████████████████| 11907/11907 [00:50<00:00, 237.51it/s]\n"
     ]
    },
    {
     "name": "stdout",
     "output_type": "stream",
     "text": [
      "/home/yiting/Documents/Analysis/2024-11-22/anipose/pose_3d/2024-11-22_09-03-43_3d.csv\n"
     ]
    },
    {
     "name": "stderr",
     "output_type": "stream",
     "text": [
      "100%|██████████████████████████| 11718/11718 [00:47<00:00, 247.62it/s]\n"
     ]
    },
    {
     "name": "stdout",
     "output_type": "stream",
     "text": [
      "/home/yiting/Documents/Analysis/2024-11-22/anipose/pose_3d/2024-11-22_09-03-54_3d.csv\n"
     ]
    },
    {
     "name": "stderr",
     "output_type": "stream",
     "text": [
      "100%|██████████████████████████| 16254/16254 [01:06<00:00, 243.52it/s]\n"
     ]
    },
    {
     "name": "stdout",
     "output_type": "stream",
     "text": [
      "/home/yiting/Documents/Analysis/2024-11-22/anipose/pose_3d/2024-11-22_09-04-07_3d.csv\n"
     ]
    },
    {
     "name": "stderr",
     "output_type": "stream",
     "text": [
      "100%|██████████████████████████| 11382/11382 [00:46<00:00, 246.62it/s]\n"
     ]
    },
    {
     "name": "stdout",
     "output_type": "stream",
     "text": [
      "/home/yiting/Documents/Analysis/2024-11-22/anipose/pose_3d/2024-11-22_09-04-20_3d.csv\n"
     ]
    },
    {
     "name": "stderr",
     "output_type": "stream",
     "text": [
      "100%|██████████████████████████| 13671/13671 [00:59<00:00, 229.59it/s]\n"
     ]
    },
    {
     "name": "stdout",
     "output_type": "stream",
     "text": [
      "/home/yiting/Documents/Analysis/2024-11-22/anipose/pose_3d/2024-11-22_09-04-33_3d.csv\n"
     ]
    },
    {
     "name": "stderr",
     "output_type": "stream",
     "text": [
      "100%|██████████████████████████| 16905/16905 [01:14<00:00, 225.54it/s]\n"
     ]
    },
    {
     "name": "stdout",
     "output_type": "stream",
     "text": [
      "/home/yiting/Documents/Analysis/2024-11-22/anipose/pose_3d/2024-11-22_09-04-48_3d.csv\n"
     ]
    },
    {
     "name": "stderr",
     "output_type": "stream",
     "text": [
      "100%|██████████████████████████| 15351/15351 [01:09<00:00, 220.24it/s]\n"
     ]
    },
    {
     "name": "stdout",
     "output_type": "stream",
     "text": [
      "/home/yiting/Documents/Analysis/2024-11-22/anipose/pose_3d/2024-11-22_09-05-03_3d.csv\n"
     ]
    },
    {
     "name": "stderr",
     "output_type": "stream",
     "text": [
      "100%|██████████████████████████| 14952/14952 [00:44<00:00, 337.23it/s]\n"
     ]
    },
    {
     "name": "stdout",
     "output_type": "stream",
     "text": [
      "/home/yiting/Documents/Analysis/2024-11-22/anipose/pose_3d/2024-11-22_09-05-16_3d.csv\n"
     ]
    },
    {
     "name": "stderr",
     "output_type": "stream",
     "text": [
      "100%|██████████████████████████| 15078/15078 [00:59<00:00, 254.11it/s]\n"
     ]
    },
    {
     "name": "stdout",
     "output_type": "stream",
     "text": [
      "/home/yiting/Documents/Analysis/2024-11-22/anipose/pose_3d/2024-11-22_09-05-30_3d.csv\n"
     ]
    },
    {
     "name": "stderr",
     "output_type": "stream",
     "text": [
      "100%|██████████████████████████| 12621/12621 [00:50<00:00, 250.75it/s]\n"
     ]
    },
    {
     "name": "stdout",
     "output_type": "stream",
     "text": [
      "/home/yiting/Documents/Analysis/2024-11-22/anipose/pose_3d/2024-11-22_09-05-43_3d.csv\n"
     ]
    },
    {
     "name": "stderr",
     "output_type": "stream",
     "text": [
      "100%|██████████████████████████| 15015/15015 [00:59<00:00, 251.29it/s]\n"
     ]
    },
    {
     "name": "stdout",
     "output_type": "stream",
     "text": [
      "/home/yiting/Documents/Analysis/2024-11-22/anipose/pose_3d/2024-11-22_09-05-57_3d.csv\n"
     ]
    },
    {
     "name": "stderr",
     "output_type": "stream",
     "text": [
      "100%|██████████████████████████| 14742/14742 [00:46<00:00, 319.08it/s]\n"
     ]
    },
    {
     "name": "stdout",
     "output_type": "stream",
     "text": [
      "/home/yiting/Documents/Analysis/2024-11-22/anipose/pose_3d/2024-11-22_09-06-09_3d.csv\n"
     ]
    },
    {
     "name": "stderr",
     "output_type": "stream",
     "text": [
      "100%|██████████████████████████| 10836/10836 [00:44<00:00, 242.73it/s]\n"
     ]
    },
    {
     "name": "stdout",
     "output_type": "stream",
     "text": [
      "/home/yiting/Documents/Analysis/2024-11-22/anipose/pose_3d/2024-11-22_09-06-20_3d.csv\n"
     ]
    },
    {
     "name": "stderr",
     "output_type": "stream",
     "text": [
      "100%|██████████████████████████| 16191/16191 [01:01<00:00, 264.92it/s]\n"
     ]
    },
    {
     "name": "stdout",
     "output_type": "stream",
     "text": [
      "/home/yiting/Documents/Analysis/2024-11-22/anipose/pose_3d/2024-11-22_09-06-34_3d.csv\n"
     ]
    },
    {
     "name": "stderr",
     "output_type": "stream",
     "text": [
      "100%|██████████████████████████| 16170/16170 [01:05<00:00, 245.73it/s]\n"
     ]
    },
    {
     "name": "stdout",
     "output_type": "stream",
     "text": [
      "/home/yiting/Documents/Analysis/2024-11-22/anipose/pose_3d/2024-11-22_09-06-48_3d.csv\n"
     ]
    },
    {
     "name": "stderr",
     "output_type": "stream",
     "text": [
      "100%|██████████████████████████| 15141/15141 [01:04<00:00, 233.88it/s]\n"
     ]
    },
    {
     "name": "stdout",
     "output_type": "stream",
     "text": [
      "/home/yiting/Documents/Analysis/2024-11-22/anipose/pose_3d/2024-11-22_09-07-02_3d.csv\n"
     ]
    },
    {
     "name": "stderr",
     "output_type": "stream",
     "text": [
      "100%|██████████████████████████| 14889/14889 [00:56<00:00, 262.09it/s]\n"
     ]
    },
    {
     "name": "stdout",
     "output_type": "stream",
     "text": [
      "/home/yiting/Documents/Analysis/2024-11-22/anipose/pose_3d/2024-11-22_09-07-17_3d.csv\n"
     ]
    },
    {
     "name": "stderr",
     "output_type": "stream",
     "text": [
      "100%|██████████████████████████| 14511/14511 [01:00<00:00, 240.62it/s]\n"
     ]
    },
    {
     "name": "stdout",
     "output_type": "stream",
     "text": [
      "/home/yiting/Documents/Analysis/2024-11-22/anipose/pose_3d/2024-11-22_09-07-31_3d.csv\n"
     ]
    },
    {
     "name": "stderr",
     "output_type": "stream",
     "text": [
      "100%|██████████████████████████| 14700/14700 [00:50<00:00, 289.99it/s]\n"
     ]
    },
    {
     "name": "stdout",
     "output_type": "stream",
     "text": [
      "/home/yiting/Documents/Analysis/2024-11-22/anipose/pose_3d/2024-11-22_09-07-44_3d.csv\n"
     ]
    },
    {
     "name": "stderr",
     "output_type": "stream",
     "text": [
      "100%|██████████████████████████| 12033/12033 [00:51<00:00, 233.89it/s]\n"
     ]
    },
    {
     "name": "stdout",
     "output_type": "stream",
     "text": [
      "/home/yiting/Documents/Analysis/2024-11-22/anipose/pose_3d/2024-11-22_09-07-56_3d.csv\n"
     ]
    },
    {
     "name": "stderr",
     "output_type": "stream",
     "text": [
      "100%|██████████████████████████| 15708/15708 [01:11<00:00, 220.95it/s]\n"
     ]
    },
    {
     "name": "stdout",
     "output_type": "stream",
     "text": [
      "/home/yiting/Documents/Analysis/2024-11-22/anipose/pose_3d/2024-11-22_09-08-10_3d.csv\n"
     ]
    },
    {
     "name": "stderr",
     "output_type": "stream",
     "text": [
      "100%|██████████████████████████| 11466/11466 [00:54<00:00, 209.79it/s]\n"
     ]
    },
    {
     "name": "stdout",
     "output_type": "stream",
     "text": [
      "/home/yiting/Documents/Analysis/2024-11-22/anipose/pose_3d/2024-11-22_09-08-23_3d.csv\n"
     ]
    },
    {
     "name": "stderr",
     "output_type": "stream",
     "text": [
      "100%|██████████████████████████| 15057/15057 [00:50<00:00, 296.46it/s]\n"
     ]
    },
    {
     "name": "stdout",
     "output_type": "stream",
     "text": [
      "/home/yiting/Documents/Analysis/2024-11-22/anipose/pose_3d/2024-11-22_09-08-36_3d.csv\n"
     ]
    },
    {
     "name": "stderr",
     "output_type": "stream",
     "text": [
      "100%|██████████████████████████| 11130/11130 [00:43<00:00, 253.13it/s]\n"
     ]
    },
    {
     "name": "stdout",
     "output_type": "stream",
     "text": [
      "/home/yiting/Documents/Analysis/2024-11-22/anipose/pose_3d/2024-11-22_09-08-48_3d.csv\n"
     ]
    },
    {
     "name": "stderr",
     "output_type": "stream",
     "text": [
      "100%|██████████████████████████| 11088/11088 [00:48<00:00, 228.45it/s]\n"
     ]
    },
    {
     "name": "stdout",
     "output_type": "stream",
     "text": [
      "/home/yiting/Documents/Analysis/2024-11-22/anipose/pose_3d/2024-11-22_09-09-00_3d.csv\n"
     ]
    },
    {
     "name": "stderr",
     "output_type": "stream",
     "text": [
      "100%|██████████████████████████| 15246/15246 [01:05<00:00, 234.14it/s]\n"
     ]
    },
    {
     "name": "stdout",
     "output_type": "stream",
     "text": [
      "/home/yiting/Documents/Analysis/2024-11-22/anipose/pose_3d/2024-11-22_09-09-13_3d.csv\n"
     ]
    },
    {
     "name": "stderr",
     "output_type": "stream",
     "text": [
      "100%|██████████████████████████| 11550/11550 [00:43<00:00, 266.96it/s]\n"
     ]
    },
    {
     "name": "stdout",
     "output_type": "stream",
     "text": [
      "/home/yiting/Documents/Analysis/2024-11-22/anipose/pose_3d/2024-11-22_09-09-24_3d.csv\n"
     ]
    },
    {
     "name": "stderr",
     "output_type": "stream",
     "text": [
      "100%|██████████████████████████| 16128/16128 [00:58<00:00, 277.06it/s]\n"
     ]
    },
    {
     "name": "stdout",
     "output_type": "stream",
     "text": [
      "/home/yiting/Documents/Analysis/2024-11-22/anipose/pose_3d/2024-11-22_09-09-38_3d.csv\n"
     ]
    },
    {
     "name": "stderr",
     "output_type": "stream",
     "text": [
      "100%|██████████████████████████| 13125/13125 [01:02<00:00, 208.85it/s]\n"
     ]
    },
    {
     "name": "stdout",
     "output_type": "stream",
     "text": [
      "/home/yiting/Documents/Analysis/2024-11-22/anipose/pose_3d/2024-11-22_09-09-51_3d.csv\n"
     ]
    },
    {
     "name": "stderr",
     "output_type": "stream",
     "text": [
      "100%|██████████████████████████| 12264/12264 [00:45<00:00, 270.82it/s]\n"
     ]
    },
    {
     "name": "stdout",
     "output_type": "stream",
     "text": [
      "/home/yiting/Documents/Analysis/2024-11-22/anipose/pose_3d/2024-11-22_09-10-03_3d.csv\n"
     ]
    },
    {
     "name": "stderr",
     "output_type": "stream",
     "text": [
      "100%|██████████████████████████| 11361/11361 [00:48<00:00, 231.87it/s]\n"
     ]
    },
    {
     "name": "stdout",
     "output_type": "stream",
     "text": [
      "/home/yiting/Documents/Analysis/2024-11-22/anipose/pose_3d/2024-11-22_09-10-14_3d.csv\n"
     ]
    },
    {
     "name": "stderr",
     "output_type": "stream",
     "text": [
      "100%|██████████████████████████| 16653/16653 [01:10<00:00, 236.39it/s]\n"
     ]
    },
    {
     "name": "stdout",
     "output_type": "stream",
     "text": [
      "/home/yiting/Documents/Analysis/2024-11-22/anipose/pose_3d/2024-11-22_09-10-28_3d.csv\n"
     ]
    },
    {
     "name": "stderr",
     "output_type": "stream",
     "text": [
      "100%|██████████████████████████| 16128/16128 [01:04<00:00, 251.44it/s]\n"
     ]
    },
    {
     "name": "stdout",
     "output_type": "stream",
     "text": [
      "/home/yiting/Documents/Analysis/2024-11-22/anipose/pose_3d/2024-11-22_09-10-42_3d.csv\n"
     ]
    },
    {
     "name": "stderr",
     "output_type": "stream",
     "text": [
      "100%|██████████████████████████| 12054/12054 [00:54<00:00, 221.18it/s]\n"
     ]
    },
    {
     "name": "stdout",
     "output_type": "stream",
     "text": [
      "/home/yiting/Documents/Analysis/2024-11-22/anipose/pose_3d/2024-11-22_09-10-54_3d.csv\n"
     ]
    },
    {
     "name": "stderr",
     "output_type": "stream",
     "text": [
      "100%|██████████████████████████| 12264/12264 [00:53<00:00, 227.45it/s]\n"
     ]
    },
    {
     "name": "stdout",
     "output_type": "stream",
     "text": [
      "/home/yiting/Documents/Analysis/2024-11-22/anipose/pose_3d/2024-11-22_09-11-07_3d.csv\n"
     ]
    },
    {
     "name": "stderr",
     "output_type": "stream",
     "text": [
      "100%|██████████████████████████| 12117/12117 [00:57<00:00, 212.08it/s]\n"
     ]
    },
    {
     "name": "stdout",
     "output_type": "stream",
     "text": [
      "/home/yiting/Documents/Analysis/2024-11-22/anipose/pose_3d/2024-11-22_09-11-19_3d.csv\n"
     ]
    },
    {
     "name": "stderr",
     "output_type": "stream",
     "text": [
      "100%|██████████████████████████| 12495/12495 [00:56<00:00, 220.70it/s]\n"
     ]
    },
    {
     "name": "stdout",
     "output_type": "stream",
     "text": [
      "/home/yiting/Documents/Analysis/2024-11-22/anipose/pose_3d/2024-11-22_09-11-31_3d.csv\n"
     ]
    },
    {
     "name": "stderr",
     "output_type": "stream",
     "text": [
      "100%|██████████████████████████| 13524/13524 [01:05<00:00, 205.94it/s]\n"
     ]
    },
    {
     "name": "stdout",
     "output_type": "stream",
     "text": [
      "/home/yiting/Documents/Analysis/2024-11-22/anipose/pose_3d/2024-11-22_09-11-45_3d.csv\n"
     ]
    },
    {
     "name": "stderr",
     "output_type": "stream",
     "text": [
      "100%|██████████████████████████| 12705/12705 [01:00<00:00, 209.85it/s]\n"
     ]
    },
    {
     "name": "stdout",
     "output_type": "stream",
     "text": [
      "/home/yiting/Documents/Analysis/2024-11-22/anipose/pose_3d/2024-11-22_09-11-58_3d.csv\n"
     ]
    },
    {
     "name": "stderr",
     "output_type": "stream",
     "text": [
      "100%|██████████████████████████| 12180/12180 [00:56<00:00, 216.44it/s]\n"
     ]
    },
    {
     "name": "stdout",
     "output_type": "stream",
     "text": [
      "/home/yiting/Documents/Analysis/2024-11-22/anipose/pose_3d/2024-11-22_09-12-09_3d.csv\n"
     ]
    },
    {
     "name": "stderr",
     "output_type": "stream",
     "text": [
      "100%|██████████████████████████| 12138/12138 [01:00<00:00, 201.93it/s]\n"
     ]
    },
    {
     "name": "stdout",
     "output_type": "stream",
     "text": [
      "/home/yiting/Documents/Analysis/2024-11-22/anipose/pose_3d/2024-11-22_09-12-21_3d.csv\n"
     ]
    },
    {
     "name": "stderr",
     "output_type": "stream",
     "text": [
      "100%|██████████████████████████| 20139/20139 [01:20<00:00, 249.58it/s]\n"
     ]
    },
    {
     "name": "stdout",
     "output_type": "stream",
     "text": [
      "/home/yiting/Documents/Analysis/2024-11-22/anipose/pose_3d/2024-11-22_09-12-36_3d.csv\n"
     ]
    },
    {
     "name": "stderr",
     "output_type": "stream",
     "text": [
      "100%|██████████████████████████| 15078/15078 [01:02<00:00, 240.92it/s]\n"
     ]
    },
    {
     "name": "stdout",
     "output_type": "stream",
     "text": [
      "/home/yiting/Documents/Analysis/2024-11-22/anipose/pose_3d/2024-11-22_09-12-51_3d.csv\n"
     ]
    },
    {
     "name": "stderr",
     "output_type": "stream",
     "text": [
      "100%|██████████████████████████| 16506/16506 [01:08<00:00, 239.66it/s]\n"
     ]
    },
    {
     "name": "stdout",
     "output_type": "stream",
     "text": [
      "/home/yiting/Documents/Analysis/2024-11-22/anipose/pose_3d/2024-11-22_09-13-05_3d.csv\n"
     ]
    },
    {
     "name": "stderr",
     "output_type": "stream",
     "text": [
      "100%|██████████████████████████| 15771/15771 [01:05<00:00, 241.59it/s]\n"
     ]
    },
    {
     "name": "stdout",
     "output_type": "stream",
     "text": [
      "/home/yiting/Documents/Analysis/2024-11-22/anipose/pose_3d/2024-11-22_09-13-19_3d.csv\n"
     ]
    },
    {
     "name": "stderr",
     "output_type": "stream",
     "text": [
      "100%|██████████████████████████| 17115/17115 [01:12<00:00, 235.52it/s]\n"
     ]
    },
    {
     "name": "stdout",
     "output_type": "stream",
     "text": [
      "/home/yiting/Documents/Analysis/2024-11-22/anipose/pose_3d/2024-11-22_09-13-35_3d.csv\n"
     ]
    },
    {
     "name": "stderr",
     "output_type": "stream",
     "text": [
      "100%|████████████████████████████| 9408/9408 [00:14<00:00, 666.20it/s]\n"
     ]
    },
    {
     "name": "stdout",
     "output_type": "stream",
     "text": [
      "/home/yiting/Documents/Analysis/2024-11-22/anipose/pose_3d/2024-11-22_09-13-46_3d.csv\n"
     ]
    },
    {
     "name": "stderr",
     "output_type": "stream",
     "text": [
      "100%|██████████████████████████| 12747/12747 [00:51<00:00, 249.89it/s]\n"
     ]
    },
    {
     "name": "stdout",
     "output_type": "stream",
     "text": [
      "/home/yiting/Documents/Analysis/2024-11-22/anipose/pose_3d/2024-11-22_09-13-58_3d.csv\n"
     ]
    },
    {
     "name": "stderr",
     "output_type": "stream",
     "text": [
      "100%|██████████████████████████| 15960/15960 [00:51<00:00, 307.45it/s]\n"
     ]
    },
    {
     "name": "stdout",
     "output_type": "stream",
     "text": [
      "/home/yiting/Documents/Analysis/2024-11-22/anipose/pose_3d/2024-11-22_09-14-11_3d.csv\n"
     ]
    },
    {
     "name": "stderr",
     "output_type": "stream",
     "text": [
      "100%|██████████████████████████| 11970/11970 [00:46<00:00, 256.37it/s]\n"
     ]
    },
    {
     "name": "stdout",
     "output_type": "stream",
     "text": [
      "/home/yiting/Documents/Analysis/2024-11-22/anipose/pose_3d/2024-11-22_09-14-22_3d.csv\n"
     ]
    },
    {
     "name": "stderr",
     "output_type": "stream",
     "text": [
      "100%|██████████████████████████| 12159/12159 [00:45<00:00, 265.28it/s]\n"
     ]
    },
    {
     "name": "stdout",
     "output_type": "stream",
     "text": [
      "/home/yiting/Documents/Analysis/2024-11-22/anipose/pose_3d/2024-11-22_09-14-34_3d.csv\n"
     ]
    },
    {
     "name": "stderr",
     "output_type": "stream",
     "text": [
      "100%|██████████████████████████| 17031/17031 [01:19<00:00, 213.63it/s]\n"
     ]
    },
    {
     "name": "stdout",
     "output_type": "stream",
     "text": [
      "/home/yiting/Documents/Analysis/2024-11-22/anipose/pose_3d/2024-11-22_09-14-49_3d.csv\n"
     ]
    },
    {
     "name": "stderr",
     "output_type": "stream",
     "text": [
      "100%|██████████████████████████| 21609/21609 [01:35<00:00, 226.80it/s]\n"
     ]
    },
    {
     "name": "stdout",
     "output_type": "stream",
     "text": [
      "/home/yiting/Documents/Analysis/2024-11-22/anipose/pose_3d/2024-11-22_09-15-06_3d.csv\n"
     ]
    },
    {
     "name": "stderr",
     "output_type": "stream",
     "text": [
      "100%|██████████████████████████| 12621/12621 [01:00<00:00, 209.54it/s]\n"
     ]
    },
    {
     "name": "stdout",
     "output_type": "stream",
     "text": [
      "/home/yiting/Documents/Analysis/2024-11-22/anipose/pose_3d/2024-11-22_09-15-19_3d.csv\n"
     ]
    },
    {
     "name": "stderr",
     "output_type": "stream",
     "text": [
      "100%|██████████████████████████| 15414/15414 [00:51<00:00, 297.89it/s]\n"
     ]
    },
    {
     "name": "stdout",
     "output_type": "stream",
     "text": [
      "/home/yiting/Documents/Analysis/2024-11-22/anipose/pose_3d/2024-11-22_09-15-32_3d.csv\n"
     ]
    },
    {
     "name": "stderr",
     "output_type": "stream",
     "text": [
      "100%|██████████████████████████| 15309/15309 [00:42<00:00, 360.20it/s]\n"
     ]
    },
    {
     "name": "stdout",
     "output_type": "stream",
     "text": [
      "/home/yiting/Documents/Analysis/2024-11-22/anipose/pose_3d/2024-11-22_09-15-47_3d.csv\n"
     ]
    },
    {
     "name": "stderr",
     "output_type": "stream",
     "text": [
      "100%|██████████████████████████| 18690/18690 [01:13<00:00, 255.14it/s]\n"
     ]
    },
    {
     "name": "stdout",
     "output_type": "stream",
     "text": [
      "/home/yiting/Documents/Analysis/2024-11-22/anipose/pose_3d/2024-11-22_09-16-02_3d.csv\n"
     ]
    },
    {
     "name": "stderr",
     "output_type": "stream",
     "text": [
      "100%|██████████████████████████| 11907/11907 [00:48<00:00, 247.26it/s]\n"
     ]
    },
    {
     "name": "stdout",
     "output_type": "stream",
     "text": [
      "/home/yiting/Documents/Analysis/2024-11-22/anipose/pose_3d/2024-11-22_09-16-15_3d.csv\n"
     ]
    },
    {
     "name": "stderr",
     "output_type": "stream",
     "text": [
      "100%|██████████████████████████| 16485/16485 [01:09<00:00, 237.22it/s]\n"
     ]
    },
    {
     "name": "stdout",
     "output_type": "stream",
     "text": [
      "/home/yiting/Documents/Analysis/2024-11-22/anipose/pose_3d/2024-11-22_09-16-29_3d.csv\n"
     ]
    },
    {
     "name": "stderr",
     "output_type": "stream",
     "text": [
      "100%|██████████████████████████| 11760/11760 [00:52<00:00, 224.79it/s]\n"
     ]
    },
    {
     "name": "stdout",
     "output_type": "stream",
     "text": [
      "/home/yiting/Documents/Analysis/2024-11-22/anipose/pose_3d/2024-11-22_09-16-42_3d.csv\n"
     ]
    },
    {
     "name": "stderr",
     "output_type": "stream",
     "text": [
      "100%|██████████████████████████| 11907/11907 [00:52<00:00, 226.87it/s]\n"
     ]
    },
    {
     "name": "stdout",
     "output_type": "stream",
     "text": [
      "/home/yiting/Documents/Analysis/2024-11-22/anipose/pose_3d/2024-11-22_09-16-54_3d.csv\n"
     ]
    },
    {
     "name": "stderr",
     "output_type": "stream",
     "text": [
      "100%|██████████████████████████| 15183/15183 [01:06<00:00, 229.25it/s]\n"
     ]
    },
    {
     "name": "stdout",
     "output_type": "stream",
     "text": [
      "/home/yiting/Documents/Analysis/2024-11-22/anipose/pose_3d/2024-11-22_09-17-08_3d.csv\n"
     ]
    },
    {
     "name": "stderr",
     "output_type": "stream",
     "text": [
      "100%|██████████████████████████| 12789/12789 [00:59<00:00, 216.60it/s]\n"
     ]
    },
    {
     "name": "stdout",
     "output_type": "stream",
     "text": [
      "/home/yiting/Documents/Analysis/2024-11-22/anipose/pose_3d/2024-11-22_09-17-20_3d.csv\n"
     ]
    },
    {
     "name": "stderr",
     "output_type": "stream",
     "text": [
      "100%|██████████████████████████| 12327/12327 [01:00<00:00, 202.35it/s]\n"
     ]
    },
    {
     "name": "stdout",
     "output_type": "stream",
     "text": [
      "/home/yiting/Documents/Analysis/2024-11-22/anipose/pose_3d/2024-11-22_09-17-33_3d.csv\n"
     ]
    },
    {
     "name": "stderr",
     "output_type": "stream",
     "text": [
      "100%|██████████████████████████| 12348/12348 [00:54<00:00, 224.53it/s]\n"
     ]
    },
    {
     "name": "stdout",
     "output_type": "stream",
     "text": [
      "/home/yiting/Documents/Analysis/2024-11-22/anipose/pose_3d/2024-11-22_09-17-45_3d.csv\n"
     ]
    },
    {
     "name": "stderr",
     "output_type": "stream",
     "text": [
      "100%|██████████████████████████| 13398/13398 [01:03<00:00, 209.84it/s]\n"
     ]
    },
    {
     "name": "stdout",
     "output_type": "stream",
     "text": [
      "/home/yiting/Documents/Analysis/2024-11-22/anipose/pose_3d/2024-11-22_09-17-58_3d.csv\n"
     ]
    },
    {
     "name": "stderr",
     "output_type": "stream",
     "text": [
      "100%|██████████████████████████| 12768/12768 [01:02<00:00, 204.80it/s]\n"
     ]
    },
    {
     "name": "stdout",
     "output_type": "stream",
     "text": [
      "/home/yiting/Documents/Analysis/2024-11-22/anipose/pose_3d/2024-11-22_09-18-11_3d.csv\n"
     ]
    },
    {
     "name": "stderr",
     "output_type": "stream",
     "text": [
      "100%|██████████████████████████| 12180/12180 [00:55<00:00, 220.35it/s]\n"
     ]
    },
    {
     "name": "stdout",
     "output_type": "stream",
     "text": [
      "/home/yiting/Documents/Analysis/2024-11-22/anipose/pose_3d/2024-11-22_09-18-25_3d.csv\n"
     ]
    },
    {
     "name": "stderr",
     "output_type": "stream",
     "text": [
      "100%|██████████████████████████| 15897/15897 [01:03<00:00, 248.58it/s]\n"
     ]
    },
    {
     "name": "stdout",
     "output_type": "stream",
     "text": [
      "/home/yiting/Documents/Analysis/2024-11-22/anipose/pose_3d/2024-11-22_09-18-40_3d.csv\n"
     ]
    },
    {
     "name": "stderr",
     "output_type": "stream",
     "text": [
      "100%|██████████████████████████| 15267/15267 [01:04<00:00, 237.36it/s]\n"
     ]
    },
    {
     "name": "stdout",
     "output_type": "stream",
     "text": [
      "/home/yiting/Documents/Analysis/2024-11-22/anipose/pose_3d/2024-11-22_09-18-53_3d.csv\n"
     ]
    },
    {
     "name": "stderr",
     "output_type": "stream",
     "text": [
      "100%|██████████████████████████| 15288/15288 [01:08<00:00, 222.02it/s]\n"
     ]
    },
    {
     "name": "stdout",
     "output_type": "stream",
     "text": [
      "/home/yiting/Documents/Analysis/2024-11-22/anipose/pose_3d/2024-11-22_09-19-07_3d.csv\n"
     ]
    },
    {
     "name": "stderr",
     "output_type": "stream",
     "text": [
      "100%|██████████████████████████| 15015/15015 [00:59<00:00, 252.73it/s]\n"
     ]
    },
    {
     "name": "stdout",
     "output_type": "stream",
     "text": [
      "/home/yiting/Documents/Analysis/2024-11-22/anipose/pose_3d/2024-11-22_09-19-20_3d.csv\n"
     ]
    },
    {
     "name": "stderr",
     "output_type": "stream",
     "text": [
      "100%|██████████████████████████| 12159/12159 [00:45<00:00, 267.45it/s]\n"
     ]
    },
    {
     "name": "stdout",
     "output_type": "stream",
     "text": [
      "/home/yiting/Documents/Analysis/2024-11-22/anipose/pose_3d/2024-11-22_09-19-32_3d.csv\n"
     ]
    },
    {
     "name": "stderr",
     "output_type": "stream",
     "text": [
      "100%|██████████████████████████| 12159/12159 [00:53<00:00, 225.45it/s]\n"
     ]
    },
    {
     "name": "stdout",
     "output_type": "stream",
     "text": [
      "/home/yiting/Documents/Analysis/2024-11-22/anipose/pose_3d/2024-11-22_09-19-44_3d.csv\n"
     ]
    },
    {
     "name": "stderr",
     "output_type": "stream",
     "text": [
      "100%|██████████████████████████| 12264/12264 [00:55<00:00, 220.16it/s]\n"
     ]
    },
    {
     "name": "stdout",
     "output_type": "stream",
     "text": [
      "/home/yiting/Documents/Analysis/2024-11-22/anipose/pose_3d/2024-11-22_09-19-57_3d.csv\n"
     ]
    },
    {
     "name": "stderr",
     "output_type": "stream",
     "text": [
      "100%|██████████████████████████| 11592/11592 [00:49<00:00, 232.38it/s]\n"
     ]
    },
    {
     "name": "stdout",
     "output_type": "stream",
     "text": [
      "/home/yiting/Documents/Analysis/2024-11-22/anipose/pose_3d/2024-11-22_09-20-10_3d.csv\n"
     ]
    },
    {
     "name": "stderr",
     "output_type": "stream",
     "text": [
      "100%|██████████████████████████| 10752/10752 [00:51<00:00, 209.87it/s]\n"
     ]
    },
    {
     "name": "stdout",
     "output_type": "stream",
     "text": [
      "/home/yiting/Documents/Analysis/2024-11-22/anipose/pose_3d/2024-11-22_09-20-21_3d.csv\n"
     ]
    },
    {
     "name": "stderr",
     "output_type": "stream",
     "text": [
      "100%|██████████████████████████| 16842/16842 [01:08<00:00, 245.60it/s]\n"
     ]
    },
    {
     "name": "stdout",
     "output_type": "stream",
     "text": [
      "/home/yiting/Documents/Analysis/2024-11-22/anipose/pose_3d/2024-11-22_09-20-36_3d.csv\n"
     ]
    },
    {
     "name": "stderr",
     "output_type": "stream",
     "text": [
      "100%|██████████████████████████| 11718/11718 [00:54<00:00, 215.74it/s]\n"
     ]
    },
    {
     "name": "stdout",
     "output_type": "stream",
     "text": [
      "/home/yiting/Documents/Analysis/2024-11-22/anipose/pose_3d/2024-11-22_09-20-49_3d.csv\n"
     ]
    },
    {
     "name": "stderr",
     "output_type": "stream",
     "text": [
      "100%|██████████████████████████| 16296/16296 [00:58<00:00, 277.62it/s]\n"
     ]
    },
    {
     "name": "stdout",
     "output_type": "stream",
     "text": [
      "/home/yiting/Documents/Analysis/2024-11-22/anipose/pose_3d/2024-11-22_09-21-02_3d.csv\n"
     ]
    },
    {
     "name": "stderr",
     "output_type": "stream",
     "text": [
      "100%|██████████████████████████| 11781/11781 [00:50<00:00, 232.52it/s]\n"
     ]
    },
    {
     "name": "stdout",
     "output_type": "stream",
     "text": [
      "/home/yiting/Documents/Analysis/2024-11-22/anipose/pose_3d/2024-11-22_09-21-14_3d.csv\n"
     ]
    },
    {
     "name": "stderr",
     "output_type": "stream",
     "text": [
      "100%|██████████████████████████| 15729/15729 [01:11<00:00, 220.94it/s]\n"
     ]
    },
    {
     "name": "stdout",
     "output_type": "stream",
     "text": [
      "/home/yiting/Documents/Analysis/2024-11-22/anipose/pose_3d/2024-11-22_09-21-28_3d.csv\n"
     ]
    },
    {
     "name": "stderr",
     "output_type": "stream",
     "text": [
      "100%|██████████████████████████| 11781/11781 [01:00<00:00, 195.47it/s]\n"
     ]
    },
    {
     "name": "stdout",
     "output_type": "stream",
     "text": [
      "/home/yiting/Documents/Analysis/2024-11-22/anipose/pose_3d/2024-11-22_09-21-40_3d.csv\n"
     ]
    },
    {
     "name": "stderr",
     "output_type": "stream",
     "text": [
      "100%|██████████████████████████| 11214/11214 [00:51<00:00, 217.11it/s]\n"
     ]
    },
    {
     "name": "stdout",
     "output_type": "stream",
     "text": [
      "/home/yiting/Documents/Analysis/2024-11-22/anipose/pose_3d/2024-11-22_09-21-52_3d.csv\n"
     ]
    },
    {
     "name": "stderr",
     "output_type": "stream",
     "text": [
      "100%|██████████████████████████| 12264/12264 [01:00<00:00, 204.01it/s]\n"
     ]
    },
    {
     "name": "stdout",
     "output_type": "stream",
     "text": [
      "/home/yiting/Documents/Analysis/2024-11-22/anipose/pose_3d/2024-11-22_09-22-03_3d.csv\n"
     ]
    },
    {
     "name": "stderr",
     "output_type": "stream",
     "text": [
      "100%|██████████████████████████| 16338/16338 [00:54<00:00, 297.20it/s]\n"
     ]
    },
    {
     "name": "stdout",
     "output_type": "stream",
     "text": [
      "/home/yiting/Documents/Analysis/2024-11-22/anipose/pose_3d/2024-11-22_09-22-19_3d.csv\n"
     ]
    },
    {
     "name": "stderr",
     "output_type": "stream",
     "text": [
      "100%|██████████████████████████| 15435/15435 [01:16<00:00, 201.39it/s]\n"
     ]
    },
    {
     "name": "stdout",
     "output_type": "stream",
     "text": [
      "/home/yiting/Documents/Analysis/2024-11-22/anipose/pose_3d/2024-11-22_09-22-33_3d.csv\n"
     ]
    },
    {
     "name": "stderr",
     "output_type": "stream",
     "text": [
      "100%|██████████████████████████| 12432/12432 [00:59<00:00, 208.70it/s]\n"
     ]
    },
    {
     "name": "stdout",
     "output_type": "stream",
     "text": [
      "/home/yiting/Documents/Analysis/2024-11-22/anipose/pose_3d/2024-11-22_09-22-46_3d.csv\n"
     ]
    },
    {
     "name": "stderr",
     "output_type": "stream",
     "text": [
      "100%|██████████████████████████| 15792/15792 [00:53<00:00, 294.68it/s]\n"
     ]
    },
    {
     "name": "stdout",
     "output_type": "stream",
     "text": [
      "/home/yiting/Documents/Analysis/2024-11-22/anipose/pose_3d/2024-11-22_09-23-00_3d.csv\n"
     ]
    },
    {
     "name": "stderr",
     "output_type": "stream",
     "text": [
      "100%|██████████████████████████| 15666/15666 [00:54<00:00, 289.05it/s]\n"
     ]
    },
    {
     "name": "stdout",
     "output_type": "stream",
     "text": [
      "/home/yiting/Documents/Analysis/2024-11-22/anipose/pose_3d/2024-11-22_09-23-15_3d.csv\n"
     ]
    },
    {
     "name": "stderr",
     "output_type": "stream",
     "text": [
      "100%|██████████████████████████| 10668/10668 [00:22<00:00, 470.49it/s]\n"
     ]
    },
    {
     "name": "stdout",
     "output_type": "stream",
     "text": [
      "/home/yiting/Documents/Analysis/2024-11-22/anipose/pose_3d/2024-11-22_09-23-25_3d.csv\n"
     ]
    },
    {
     "name": "stderr",
     "output_type": "stream",
     "text": [
      "100%|██████████████████████████| 12579/12579 [00:54<00:00, 230.34it/s]\n"
     ]
    },
    {
     "name": "stdout",
     "output_type": "stream",
     "text": [
      "/home/yiting/Documents/Analysis/2024-11-22/anipose/pose_3d/2024-11-22_09-23-37_3d.csv\n"
     ]
    },
    {
     "name": "stderr",
     "output_type": "stream",
     "text": [
      "100%|██████████████████████████| 12348/12348 [01:00<00:00, 203.60it/s]\n"
     ]
    },
    {
     "name": "stdout",
     "output_type": "stream",
     "text": [
      "/home/yiting/Documents/Analysis/2024-11-22/anipose/pose_3d/2024-11-22_09-23-49_3d.csv\n"
     ]
    },
    {
     "name": "stderr",
     "output_type": "stream",
     "text": [
      "100%|██████████████████████████| 12264/12264 [00:59<00:00, 205.07it/s]\n"
     ]
    },
    {
     "name": "stdout",
     "output_type": "stream",
     "text": [
      "/home/yiting/Documents/Analysis/2024-11-22/anipose/pose_3d/2024-11-22_09-24-00_3d.csv\n"
     ]
    },
    {
     "name": "stderr",
     "output_type": "stream",
     "text": [
      "100%|██████████████████████████| 14658/14658 [00:50<00:00, 288.71it/s]\n"
     ]
    },
    {
     "name": "stdout",
     "output_type": "stream",
     "text": [
      "/home/yiting/Documents/Analysis/2024-11-22/anipose/pose_3d/2024-11-22_09-24-13_3d.csv\n"
     ]
    },
    {
     "name": "stderr",
     "output_type": "stream",
     "text": [
      "100%|██████████████████████████| 11697/11697 [00:49<00:00, 235.64it/s]\n"
     ]
    },
    {
     "name": "stdout",
     "output_type": "stream",
     "text": [
      "/home/yiting/Documents/Analysis/2024-11-22/anipose/pose_3d/2024-11-22_09-24-25_3d.csv\n"
     ]
    },
    {
     "name": "stderr",
     "output_type": "stream",
     "text": [
      "100%|██████████████████████████| 15540/15540 [01:07<00:00, 228.95it/s]\n"
     ]
    },
    {
     "name": "stdout",
     "output_type": "stream",
     "text": [
      "/home/yiting/Documents/Analysis/2024-11-22/anipose/pose_3d/2024-11-22_09-24-38_3d.csv\n"
     ]
    },
    {
     "name": "stderr",
     "output_type": "stream",
     "text": [
      "100%|██████████████████████████| 15561/15561 [01:04<00:00, 243.11it/s]\n"
     ]
    },
    {
     "name": "stdout",
     "output_type": "stream",
     "text": [
      "/home/yiting/Documents/Analysis/2024-11-22/anipose/pose_3d/2024-11-22_09-24-53_3d.csv\n"
     ]
    },
    {
     "name": "stderr",
     "output_type": "stream",
     "text": [
      "100%|██████████████████████████| 12411/12411 [01:00<00:00, 205.88it/s]\n"
     ]
    },
    {
     "name": "stdout",
     "output_type": "stream",
     "text": [
      "/home/yiting/Documents/Analysis/2024-11-22/anipose/pose_3d/2024-11-22_09-25-05_3d.csv\n"
     ]
    },
    {
     "name": "stderr",
     "output_type": "stream",
     "text": [
      "100%|██████████████████████████| 11298/11298 [00:45<00:00, 245.99it/s]\n"
     ]
    },
    {
     "name": "stdout",
     "output_type": "stream",
     "text": [
      "/home/yiting/Documents/Analysis/2024-11-22/anipose/pose_3d/2024-11-22_09-25-17_3d.csv\n"
     ]
    },
    {
     "name": "stderr",
     "output_type": "stream",
     "text": [
      "100%|██████████████████████████| 16653/16653 [01:16<00:00, 216.33it/s]\n"
     ]
    },
    {
     "name": "stdout",
     "output_type": "stream",
     "text": [
      "/home/yiting/Documents/Analysis/2024-11-22/anipose/pose_3d/2024-11-22_09-25-31_3d.csv\n"
     ]
    },
    {
     "name": "stderr",
     "output_type": "stream",
     "text": [
      "100%|██████████████████████████| 15351/15351 [01:06<00:00, 230.02it/s]\n"
     ]
    },
    {
     "name": "stdout",
     "output_type": "stream",
     "text": [
      "/home/yiting/Documents/Analysis/2024-11-22/anipose/pose_3d/2024-11-22_09-25-45_3d.csv\n"
     ]
    },
    {
     "name": "stderr",
     "output_type": "stream",
     "text": [
      "100%|██████████████████████████| 15246/15246 [01:03<00:00, 239.36it/s]\n"
     ]
    },
    {
     "name": "stdout",
     "output_type": "stream",
     "text": [
      "/home/yiting/Documents/Analysis/2024-11-22/anipose/pose_3d/2024-11-22_09-25-59_3d.csv\n"
     ]
    },
    {
     "name": "stderr",
     "output_type": "stream",
     "text": [
      "100%|██████████████████████████| 12726/12726 [00:56<00:00, 224.32it/s]\n"
     ]
    },
    {
     "name": "stdout",
     "output_type": "stream",
     "text": [
      "/home/yiting/Documents/Analysis/2024-11-22/anipose/pose_3d/2024-11-22_09-26-12_3d.csv\n"
     ]
    },
    {
     "name": "stderr",
     "output_type": "stream",
     "text": [
      "100%|██████████████████████████| 15582/15582 [01:01<00:00, 253.15it/s]\n"
     ]
    },
    {
     "name": "stdout",
     "output_type": "stream",
     "text": [
      "/home/yiting/Documents/Analysis/2024-11-22/anipose/pose_3d/2024-11-22_09-26-25_3d.csv\n"
     ]
    },
    {
     "name": "stderr",
     "output_type": "stream",
     "text": [
      "100%|██████████████████████████| 15645/15645 [00:55<00:00, 283.41it/s]\n"
     ]
    },
    {
     "name": "stdout",
     "output_type": "stream",
     "text": [
      "/home/yiting/Documents/Analysis/2024-11-22/anipose/pose_3d/2024-11-22_09-26-39_3d.csv\n"
     ]
    },
    {
     "name": "stderr",
     "output_type": "stream",
     "text": [
      "100%|██████████████████████████| 11907/11907 [00:44<00:00, 267.22it/s]\n"
     ]
    },
    {
     "name": "stdout",
     "output_type": "stream",
     "text": [
      "/home/yiting/Documents/Analysis/2024-11-22/anipose/pose_3d/2024-11-22_09-26-52_3d.csv\n"
     ]
    },
    {
     "name": "stderr",
     "output_type": "stream",
     "text": [
      "100%|██████████████████████████| 16359/16359 [01:09<00:00, 236.53it/s]\n"
     ]
    },
    {
     "name": "stdout",
     "output_type": "stream",
     "text": [
      "/home/yiting/Documents/Analysis/2024-11-22/anipose/pose_3d/2024-11-22_09-27-06_3d.csv\n"
     ]
    },
    {
     "name": "stderr",
     "output_type": "stream",
     "text": [
      "100%|██████████████████████████| 13167/13167 [00:58<00:00, 224.87it/s]\n"
     ]
    },
    {
     "name": "stdout",
     "output_type": "stream",
     "text": [
      "/home/yiting/Documents/Analysis/2024-11-22/anipose/pose_3d/2024-11-22_09-27-19_3d.csv\n"
     ]
    },
    {
     "name": "stderr",
     "output_type": "stream",
     "text": [
      "100%|██████████████████████████| 12201/12201 [00:54<00:00, 224.39it/s]\n"
     ]
    },
    {
     "name": "stdout",
     "output_type": "stream",
     "text": [
      "/home/yiting/Documents/Analysis/2024-11-22/anipose/pose_3d/2024-11-22_09-27-31_3d.csv\n"
     ]
    },
    {
     "name": "stderr",
     "output_type": "stream",
     "text": [
      "100%|██████████████████████████| 11844/11844 [00:54<00:00, 216.34it/s]\n"
     ]
    },
    {
     "name": "stdout",
     "output_type": "stream",
     "text": [
      "/home/yiting/Documents/Analysis/2024-11-22/anipose/pose_3d/2024-11-22_09-27-43_3d.csv\n"
     ]
    },
    {
     "name": "stderr",
     "output_type": "stream",
     "text": [
      "100%|██████████████████████████| 12138/12138 [00:54<00:00, 220.94it/s]\n"
     ]
    },
    {
     "name": "stdout",
     "output_type": "stream",
     "text": [
      "/home/yiting/Documents/Analysis/2024-11-22/anipose/pose_3d/2024-11-22_09-27-55_3d.csv\n"
     ]
    },
    {
     "name": "stderr",
     "output_type": "stream",
     "text": [
      "100%|██████████████████████████| 11550/11550 [00:54<00:00, 212.21it/s]\n"
     ]
    },
    {
     "name": "stdout",
     "output_type": "stream",
     "text": [
      "/home/yiting/Documents/Analysis/2024-11-22/anipose/pose_3d/2024-11-22_09-28-07_3d.csv\n"
     ]
    },
    {
     "name": "stderr",
     "output_type": "stream",
     "text": [
      "100%|██████████████████████████| 11739/11739 [00:55<00:00, 210.55it/s]\n"
     ]
    },
    {
     "name": "stdout",
     "output_type": "stream",
     "text": [
      "/home/yiting/Documents/Analysis/2024-11-22/anipose/pose_3d/2024-11-22_09-28-19_3d.csv\n"
     ]
    },
    {
     "name": "stderr",
     "output_type": "stream",
     "text": [
      "100%|██████████████████████████| 15456/15456 [00:48<00:00, 317.66it/s]\n"
     ]
    },
    {
     "name": "stdout",
     "output_type": "stream",
     "text": [
      "/home/yiting/Documents/Analysis/2024-11-22/anipose/pose_3d/2024-11-22_09-28-34_3d.csv\n"
     ]
    },
    {
     "name": "stderr",
     "output_type": "stream",
     "text": [
      "100%|██████████████████████████| 14973/14973 [01:04<00:00, 231.08it/s]\n"
     ]
    },
    {
     "name": "stdout",
     "output_type": "stream",
     "text": [
      "/home/yiting/Documents/Analysis/2024-11-22/anipose/pose_3d/2024-11-22_09-28-49_3d.csv\n"
     ]
    },
    {
     "name": "stderr",
     "output_type": "stream",
     "text": [
      "100%|██████████████████████████| 15288/15288 [01:11<00:00, 215.07it/s]\n"
     ]
    },
    {
     "name": "stdout",
     "output_type": "stream",
     "text": [
      "/home/yiting/Documents/Analysis/2024-11-22/anipose/pose_3d/2024-11-22_09-29-03_3d.csv\n"
     ]
    },
    {
     "name": "stderr",
     "output_type": "stream",
     "text": [
      "100%|██████████████████████████| 16317/16317 [01:06<00:00, 246.17it/s]\n"
     ]
    },
    {
     "name": "stdout",
     "output_type": "stream",
     "text": [
      "/home/yiting/Documents/Analysis/2024-11-22/anipose/pose_3d/2024-11-22_09-29-17_3d.csv\n"
     ]
    },
    {
     "name": "stderr",
     "output_type": "stream",
     "text": [
      "100%|██████████████████████████| 16443/16443 [01:08<00:00, 238.87it/s]\n"
     ]
    },
    {
     "name": "stdout",
     "output_type": "stream",
     "text": [
      "/home/yiting/Documents/Analysis/2024-11-22/anipose/pose_3d/2024-11-22_09-29-31_3d.csv\n"
     ]
    },
    {
     "name": "stderr",
     "output_type": "stream",
     "text": [
      "100%|██████████████████████████| 14742/14742 [00:50<00:00, 290.25it/s]\n"
     ]
    },
    {
     "name": "stdout",
     "output_type": "stream",
     "text": [
      "/home/yiting/Documents/Analysis/2024-11-22/anipose/pose_3d/2024-11-22_09-29-44_3d.csv\n"
     ]
    },
    {
     "name": "stderr",
     "output_type": "stream",
     "text": [
      "100%|██████████████████████████| 16422/16422 [01:10<00:00, 234.37it/s]\n"
     ]
    },
    {
     "name": "stdout",
     "output_type": "stream",
     "text": [
      "/home/yiting/Documents/Analysis/2024-11-22/anipose/pose_3d/2024-11-22_09-29-57_3d.csv\n"
     ]
    },
    {
     "name": "stderr",
     "output_type": "stream",
     "text": [
      "100%|██████████████████████████| 11424/11424 [00:49<00:00, 231.01it/s]\n"
     ]
    },
    {
     "name": "stdout",
     "output_type": "stream",
     "text": [
      "/home/yiting/Documents/Analysis/2024-11-22/anipose/pose_3d/2024-11-22_09-30-09_3d.csv\n"
     ]
    },
    {
     "name": "stderr",
     "output_type": "stream",
     "text": [
      "100%|██████████████████████████| 15834/15834 [01:11<00:00, 222.19it/s]\n"
     ]
    },
    {
     "name": "stdout",
     "output_type": "stream",
     "text": [
      "/home/yiting/Documents/Analysis/2024-11-22/anipose/pose_3d/2024-11-22_09-30-22_3d.csv\n"
     ]
    },
    {
     "name": "stderr",
     "output_type": "stream",
     "text": [
      "100%|██████████████████████████| 12684/12684 [01:01<00:00, 206.77it/s]\n"
     ]
    },
    {
     "name": "stdout",
     "output_type": "stream",
     "text": [
      "/home/yiting/Documents/Analysis/2024-11-22/anipose/pose_3d/2024-11-22_09-30-35_3d.csv\n"
     ]
    },
    {
     "name": "stderr",
     "output_type": "stream",
     "text": [
      "100%|██████████████████████████| 11382/11382 [00:53<00:00, 212.86it/s]\n"
     ]
    },
    {
     "name": "stdout",
     "output_type": "stream",
     "text": [
      "/home/yiting/Documents/Analysis/2024-11-22/anipose/pose_3d/2024-11-22_09-30-47_3d.csv\n"
     ]
    },
    {
     "name": "stderr",
     "output_type": "stream",
     "text": [
      "100%|██████████████████████████| 11508/11508 [00:52<00:00, 217.77it/s]\n"
     ]
    },
    {
     "name": "stdout",
     "output_type": "stream",
     "text": [
      "/home/yiting/Documents/Analysis/2024-11-22/anipose/pose_3d/2024-11-22_09-30-59_3d.csv\n"
     ]
    },
    {
     "name": "stderr",
     "output_type": "stream",
     "text": [
      "100%|██████████████████████████| 15351/15351 [00:45<00:00, 339.04it/s]\n"
     ]
    },
    {
     "name": "stdout",
     "output_type": "stream",
     "text": [
      "/home/yiting/Documents/Analysis/2024-11-22/anipose/pose_3d/2024-11-22_09-31-13_3d.csv\n"
     ]
    },
    {
     "name": "stderr",
     "output_type": "stream",
     "text": [
      "100%|██████████████████████████| 11529/11529 [00:46<00:00, 248.27it/s]\n"
     ]
    },
    {
     "name": "stdout",
     "output_type": "stream",
     "text": [
      "/home/yiting/Documents/Analysis/2024-11-22/anipose/pose_3d/2024-11-22_09-31-24_3d.csv\n"
     ]
    },
    {
     "name": "stderr",
     "output_type": "stream",
     "text": [
      "100%|██████████████████████████| 12012/12012 [00:45<00:00, 261.58it/s]\n"
     ]
    },
    {
     "name": "stdout",
     "output_type": "stream",
     "text": [
      "/home/yiting/Documents/Analysis/2024-11-22/anipose/pose_3d/2024-11-22_09-31-36_3d.csv\n"
     ]
    },
    {
     "name": "stderr",
     "output_type": "stream",
     "text": [
      "100%|██████████████████████████| 15939/15939 [01:09<00:00, 230.73it/s]\n"
     ]
    },
    {
     "name": "stdout",
     "output_type": "stream",
     "text": [
      "/home/yiting/Documents/Analysis/2024-11-22/anipose/pose_3d/2024-11-22_09-31-49_3d.csv\n"
     ]
    },
    {
     "name": "stderr",
     "output_type": "stream",
     "text": [
      "100%|██████████████████████████| 12033/12033 [00:55<00:00, 216.91it/s]\n"
     ]
    },
    {
     "name": "stdout",
     "output_type": "stream",
     "text": [
      "/home/yiting/Documents/Analysis/2024-11-22/anipose/pose_3d/2024-11-22_09-32-02_3d.csv\n"
     ]
    },
    {
     "name": "stderr",
     "output_type": "stream",
     "text": [
      "100%|██████████████████████████| 11571/11571 [00:51<00:00, 225.85it/s]\n"
     ]
    },
    {
     "name": "stdout",
     "output_type": "stream",
     "text": [
      "/home/yiting/Documents/Analysis/2024-11-22/anipose/pose_3d/2024-11-22_09-32-14_3d.csv\n"
     ]
    },
    {
     "name": "stderr",
     "output_type": "stream",
     "text": [
      "100%|██████████████████████████| 15582/15582 [01:10<00:00, 221.85it/s]\n"
     ]
    },
    {
     "name": "stdout",
     "output_type": "stream",
     "text": [
      "/home/yiting/Documents/Analysis/2024-11-22/anipose/pose_3d/2024-11-22_09-32-28_3d.csv\n"
     ]
    },
    {
     "name": "stderr",
     "output_type": "stream",
     "text": [
      "100%|██████████████████████████| 14931/14931 [01:00<00:00, 244.92it/s]\n"
     ]
    },
    {
     "name": "stdout",
     "output_type": "stream",
     "text": [
      "/home/yiting/Documents/Analysis/2024-11-22/anipose/pose_3d/2024-11-22_09-32-42_3d.csv\n"
     ]
    },
    {
     "name": "stderr",
     "output_type": "stream",
     "text": [
      "100%|██████████████████████████| 11403/11403 [00:52<00:00, 215.64it/s]\n"
     ]
    },
    {
     "name": "stdout",
     "output_type": "stream",
     "text": [
      "/home/yiting/Documents/Analysis/2024-11-22/anipose/pose_3d/2024-11-22_09-32-55_3d.csv\n"
     ]
    },
    {
     "name": "stderr",
     "output_type": "stream",
     "text": [
      "100%|██████████████████████████| 12411/12411 [00:57<00:00, 216.59it/s]\n"
     ]
    },
    {
     "name": "stdout",
     "output_type": "stream",
     "text": [
      "/home/yiting/Documents/Analysis/2024-11-22/anipose/pose_3d/2024-11-22_09-33-09_3d.csv\n"
     ]
    },
    {
     "name": "stderr",
     "output_type": "stream",
     "text": [
      "100%|██████████████████████████| 15393/15393 [01:04<00:00, 238.82it/s]\n"
     ]
    },
    {
     "name": "stdout",
     "output_type": "stream",
     "text": [
      "/home/yiting/Documents/Analysis/2024-11-22/anipose/pose_3d/2024-11-22_09-33-23_3d.csv\n"
     ]
    },
    {
     "name": "stderr",
     "output_type": "stream",
     "text": [
      "100%|██████████████████████████| 11907/11907 [00:59<00:00, 200.39it/s]\n"
     ]
    },
    {
     "name": "stdout",
     "output_type": "stream",
     "text": [
      "/home/yiting/Documents/Analysis/2024-11-22/anipose/pose_3d/2024-11-22_09-33-35_3d.csv\n"
     ]
    },
    {
     "name": "stderr",
     "output_type": "stream",
     "text": [
      "100%|██████████████████████████| 12684/12684 [01:00<00:00, 208.66it/s]\n"
     ]
    },
    {
     "name": "stdout",
     "output_type": "stream",
     "text": [
      "/home/yiting/Documents/Analysis/2024-11-22/anipose/pose_3d/2024-11-22_09-33-48_3d.csv\n"
     ]
    },
    {
     "name": "stderr",
     "output_type": "stream",
     "text": [
      "100%|██████████████████████████| 15855/15855 [00:50<00:00, 312.76it/s]\n"
     ]
    },
    {
     "name": "stdout",
     "output_type": "stream",
     "text": [
      "/home/yiting/Documents/Analysis/2024-11-22/anipose/pose_3d/2024-11-22_09-34-02_3d.csv\n"
     ]
    },
    {
     "name": "stderr",
     "output_type": "stream",
     "text": [
      "100%|██████████████████████████| 12936/12936 [00:58<00:00, 221.79it/s]\n"
     ]
    },
    {
     "name": "stdout",
     "output_type": "stream",
     "text": [
      "/home/yiting/Documents/Analysis/2024-11-22/anipose/pose_3d/2024-11-22_09-34-14_3d.csv\n"
     ]
    },
    {
     "name": "stderr",
     "output_type": "stream",
     "text": [
      "100%|██████████████████████████| 16023/16023 [01:06<00:00, 241.35it/s]\n"
     ]
    },
    {
     "name": "stdout",
     "output_type": "stream",
     "text": [
      "/home/yiting/Documents/Analysis/2024-11-22/anipose/pose_3d/2024-11-22_09-34-28_3d.csv\n"
     ]
    },
    {
     "name": "stderr",
     "output_type": "stream",
     "text": [
      "100%|██████████████████████████| 16023/16023 [01:14<00:00, 216.36it/s]\n"
     ]
    },
    {
     "name": "stdout",
     "output_type": "stream",
     "text": [
      "/home/yiting/Documents/Analysis/2024-11-22/anipose/pose_3d/2024-11-22_09-34-42_3d.csv\n"
     ]
    },
    {
     "name": "stderr",
     "output_type": "stream",
     "text": [
      "100%|██████████████████████████| 15183/15183 [01:04<00:00, 235.56it/s]\n"
     ]
    },
    {
     "name": "stdout",
     "output_type": "stream",
     "text": [
      "/home/yiting/Documents/Analysis/2024-11-22/anipose/pose_3d/2024-11-22_09-34-56_3d.csv\n"
     ]
    },
    {
     "name": "stderr",
     "output_type": "stream",
     "text": [
      "100%|██████████████████████████| 11886/11886 [00:55<00:00, 213.79it/s]\n"
     ]
    },
    {
     "name": "stdout",
     "output_type": "stream",
     "text": [
      "/home/yiting/Documents/Analysis/2024-11-22/anipose/pose_3d/2024-11-22_09-35-08_3d.csv\n"
     ]
    },
    {
     "name": "stderr",
     "output_type": "stream",
     "text": [
      "100%|██████████████████████████| 15897/15897 [00:56<00:00, 283.01it/s]\n"
     ]
    },
    {
     "name": "stdout",
     "output_type": "stream",
     "text": [
      "/home/yiting/Documents/Analysis/2024-11-22/anipose/pose_3d/2024-11-22_09-35-21_3d.csv\n"
     ]
    },
    {
     "name": "stderr",
     "output_type": "stream",
     "text": [
      "100%|██████████████████████████| 11508/11508 [00:44<00:00, 258.95it/s]\n"
     ]
    },
    {
     "name": "stdout",
     "output_type": "stream",
     "text": [
      "/home/yiting/Documents/Analysis/2024-11-22/anipose/pose_3d/2024-11-22_09-35-32_3d.csv\n"
     ]
    },
    {
     "name": "stderr",
     "output_type": "stream",
     "text": [
      "100%|██████████████████████████| 11172/11172 [00:46<00:00, 239.20it/s]\n"
     ]
    },
    {
     "name": "stdout",
     "output_type": "stream",
     "text": [
      "/home/yiting/Documents/Analysis/2024-11-22/anipose/pose_3d/2024-11-22_09-35-43_3d.csv\n"
     ]
    },
    {
     "name": "stderr",
     "output_type": "stream",
     "text": [
      "100%|██████████████████████████| 15561/15561 [00:55<00:00, 280.43it/s]\n"
     ]
    },
    {
     "name": "stdout",
     "output_type": "stream",
     "text": [
      "/home/yiting/Documents/Analysis/2024-11-22/anipose/pose_3d/2024-11-22_09-35-57_3d.csv\n"
     ]
    },
    {
     "name": "stderr",
     "output_type": "stream",
     "text": [
      "100%|██████████████████████████| 16044/16044 [01:07<00:00, 236.82it/s]\n"
     ]
    },
    {
     "name": "stdout",
     "output_type": "stream",
     "text": [
      "/home/yiting/Documents/Analysis/2024-11-22/anipose/pose_3d/2024-11-22_09-36-10_3d.csv\n"
     ]
    },
    {
     "name": "stderr",
     "output_type": "stream",
     "text": [
      "100%|██████████████████████████| 12831/12831 [01:04<00:00, 198.38it/s]\n"
     ]
    },
    {
     "name": "stdout",
     "output_type": "stream",
     "text": [
      "/home/yiting/Documents/Analysis/2024-11-22/anipose/pose_3d/2024-11-22_09-36-23_3d.csv\n"
     ]
    },
    {
     "name": "stderr",
     "output_type": "stream",
     "text": [
      "100%|██████████████████████████| 16695/16695 [01:14<00:00, 224.55it/s]\n"
     ]
    },
    {
     "name": "stdout",
     "output_type": "stream",
     "text": [
      "/home/yiting/Documents/Analysis/2024-11-22/anipose/pose_3d/2024-11-22_09-36-38_3d.csv\n"
     ]
    },
    {
     "name": "stderr",
     "output_type": "stream",
     "text": [
      "100%|██████████████████████████| 15855/15855 [00:52<00:00, 299.62it/s]\n"
     ]
    },
    {
     "name": "stdout",
     "output_type": "stream",
     "text": [
      "/home/yiting/Documents/Analysis/2024-11-22/anipose/pose_3d/2024-11-22_09-36-51_3d.csv\n"
     ]
    },
    {
     "name": "stderr",
     "output_type": "stream",
     "text": [
      "100%|██████████████████████████| 11298/11298 [00:48<00:00, 234.62it/s]\n"
     ]
    },
    {
     "name": "stdout",
     "output_type": "stream",
     "text": [
      "/home/yiting/Documents/Analysis/2024-11-22/anipose/pose_3d/2024-11-22_09-37-03_3d.csv\n"
     ]
    },
    {
     "name": "stderr",
     "output_type": "stream",
     "text": [
      "100%|██████████████████████████| 11970/11970 [00:43<00:00, 275.31it/s]\n"
     ]
    },
    {
     "name": "stdout",
     "output_type": "stream",
     "text": [
      "/home/yiting/Documents/Analysis/2024-11-22/anipose/pose_3d/2024-11-22_09-37-15_3d.csv\n"
     ]
    },
    {
     "name": "stderr",
     "output_type": "stream",
     "text": [
      "100%|██████████████████████████| 15414/15414 [01:05<00:00, 236.91it/s]\n"
     ]
    },
    {
     "name": "stdout",
     "output_type": "stream",
     "text": [
      "/home/yiting/Documents/Analysis/2024-11-22/anipose/pose_3d/2024-11-22_09-37-29_3d.csv\n"
     ]
    },
    {
     "name": "stderr",
     "output_type": "stream",
     "text": [
      "100%|██████████████████████████| 15309/15309 [01:04<00:00, 235.79it/s]\n"
     ]
    },
    {
     "name": "stdout",
     "output_type": "stream",
     "text": [
      "/home/yiting/Documents/Analysis/2024-11-22/anipose/pose_3d/2024-11-22_09-37-42_3d.csv\n"
     ]
    },
    {
     "name": "stderr",
     "output_type": "stream",
     "text": [
      "100%|██████████████████████████| 13818/13818 [01:04<00:00, 213.50it/s]\n"
     ]
    },
    {
     "name": "stdout",
     "output_type": "stream",
     "text": [
      "/home/yiting/Documents/Analysis/2024-11-22/anipose/pose_3d/2024-11-22_09-37-54_3d.csv\n"
     ]
    },
    {
     "name": "stderr",
     "output_type": "stream",
     "text": [
      "100%|██████████████████████████| 13020/13020 [00:53<00:00, 244.11it/s]\n"
     ]
    },
    {
     "name": "stdout",
     "output_type": "stream",
     "text": [
      "/home/yiting/Documents/Analysis/2024-11-22/anipose/pose_3d/2024-11-22_09-38-08_3d.csv\n"
     ]
    },
    {
     "name": "stderr",
     "output_type": "stream",
     "text": [
      "100%|██████████████████████████| 15267/15267 [00:49<00:00, 311.06it/s]\n"
     ]
    },
    {
     "name": "stdout",
     "output_type": "stream",
     "text": [
      "/home/yiting/Documents/Analysis/2024-11-22/anipose/pose_3d/2024-11-22_09-38-21_3d.csv\n"
     ]
    },
    {
     "name": "stderr",
     "output_type": "stream",
     "text": [
      "100%|██████████████████████████| 12159/12159 [00:48<00:00, 252.24it/s]\n"
     ]
    },
    {
     "name": "stdout",
     "output_type": "stream",
     "text": [
      "/home/yiting/Documents/Analysis/2024-11-22/anipose/pose_3d/2024-11-22_09-38-33_3d.csv\n"
     ]
    },
    {
     "name": "stderr",
     "output_type": "stream",
     "text": [
      "100%|██████████████████████████| 11298/11298 [00:45<00:00, 251.00it/s]\n"
     ]
    },
    {
     "name": "stdout",
     "output_type": "stream",
     "text": [
      "/home/yiting/Documents/Analysis/2024-11-22/anipose/pose_3d/2024-11-22_09-38-45_3d.csv\n"
     ]
    },
    {
     "name": "stderr",
     "output_type": "stream",
     "text": [
      "100%|██████████████████████████| 15519/15519 [01:07<00:00, 228.52it/s]\n"
     ]
    },
    {
     "name": "stdout",
     "output_type": "stream",
     "text": [
      "/home/yiting/Documents/Analysis/2024-11-22/anipose/pose_3d/2024-11-22_09-38-59_3d.csv\n"
     ]
    },
    {
     "name": "stderr",
     "output_type": "stream",
     "text": [
      "100%|██████████████████████████| 14742/14742 [00:56<00:00, 258.70it/s]\n"
     ]
    },
    {
     "name": "stdout",
     "output_type": "stream",
     "text": [
      "/home/yiting/Documents/Analysis/2024-11-22/anipose/pose_3d/2024-11-22_09-39-13_3d.csv\n"
     ]
    },
    {
     "name": "stderr",
     "output_type": "stream",
     "text": [
      "100%|██████████████████████████| 15372/15372 [01:02<00:00, 244.83it/s]\n"
     ]
    },
    {
     "name": "stdout",
     "output_type": "stream",
     "text": [
      "/home/yiting/Documents/Analysis/2024-11-22/anipose/pose_3d/2024-11-22_09-39-28_3d.csv\n"
     ]
    },
    {
     "name": "stderr",
     "output_type": "stream",
     "text": [
      "100%|██████████████████████████| 12684/12684 [00:58<00:00, 218.45it/s]\n"
     ]
    },
    {
     "name": "stdout",
     "output_type": "stream",
     "text": [
      "/home/yiting/Documents/Analysis/2024-11-22/anipose/pose_3d/2024-11-22_09-39-40_3d.csv\n"
     ]
    },
    {
     "name": "stderr",
     "output_type": "stream",
     "text": [
      "100%|██████████████████████████| 11613/11613 [00:54<00:00, 212.35it/s]\n"
     ]
    },
    {
     "name": "stdout",
     "output_type": "stream",
     "text": [
      "/home/yiting/Documents/Analysis/2024-11-22/anipose/pose_3d/2024-11-22_09-39-51_3d.csv\n"
     ]
    },
    {
     "name": "stderr",
     "output_type": "stream",
     "text": [
      "100%|██████████████████████████| 12474/12474 [00:57<00:00, 215.98it/s]\n"
     ]
    },
    {
     "name": "stdout",
     "output_type": "stream",
     "text": [
      "/home/yiting/Documents/Analysis/2024-11-22/anipose/pose_3d/2024-11-22_09-40-04_3d.csv\n"
     ]
    },
    {
     "name": "stderr",
     "output_type": "stream",
     "text": [
      "100%|██████████████████████████| 11886/11886 [00:57<00:00, 206.20it/s]\n"
     ]
    },
    {
     "name": "stdout",
     "output_type": "stream",
     "text": [
      "/home/yiting/Documents/Analysis/2024-11-22/anipose/pose_3d/2024-11-22_09-40-16_3d.csv\n"
     ]
    },
    {
     "name": "stderr",
     "output_type": "stream",
     "text": [
      "100%|██████████████████████████| 15687/15687 [01:03<00:00, 247.58it/s]\n"
     ]
    },
    {
     "name": "stdout",
     "output_type": "stream",
     "text": [
      "/home/yiting/Documents/Analysis/2024-11-22/anipose/pose_3d/2024-11-22_09-40-31_3d.csv\n"
     ]
    },
    {
     "name": "stderr",
     "output_type": "stream",
     "text": [
      "100%|██████████████████████████| 15456/15456 [00:46<00:00, 330.77it/s]\n"
     ]
    },
    {
     "name": "stdout",
     "output_type": "stream",
     "text": [
      "/home/yiting/Documents/Analysis/2024-11-22/anipose/pose_3d/2024-11-22_09-40-45_3d.csv\n"
     ]
    },
    {
     "name": "stderr",
     "output_type": "stream",
     "text": [
      "100%|██████████████████████████| 14931/14931 [01:06<00:00, 224.20it/s]\n"
     ]
    },
    {
     "name": "stdout",
     "output_type": "stream",
     "text": [
      "/home/yiting/Documents/Analysis/2024-11-22/anipose/pose_3d/2024-11-22_09-40-59_3d.csv\n"
     ]
    },
    {
     "name": "stderr",
     "output_type": "stream",
     "text": [
      "100%|██████████████████████████| 15666/15666 [01:02<00:00, 251.40it/s]\n"
     ]
    },
    {
     "name": "stdout",
     "output_type": "stream",
     "text": [
      "/home/yiting/Documents/Analysis/2024-11-22/anipose/pose_3d/2024-11-22_09-41-13_3d.csv\n"
     ]
    },
    {
     "name": "stderr",
     "output_type": "stream",
     "text": [
      "100%|██████████████████████████| 13881/13881 [00:58<00:00, 239.20it/s]\n"
     ]
    },
    {
     "name": "stdout",
     "output_type": "stream",
     "text": [
      "/home/yiting/Documents/Analysis/2024-11-22/anipose/pose_3d/2024-11-22_09-41-26_3d.csv\n"
     ]
    },
    {
     "name": "stderr",
     "output_type": "stream",
     "text": [
      "100%|██████████████████████████| 11445/11445 [00:50<00:00, 228.41it/s]\n"
     ]
    },
    {
     "name": "stdout",
     "output_type": "stream",
     "text": [
      "/home/yiting/Documents/Analysis/2024-11-22/anipose/pose_3d/2024-11-22_09-41-39_3d.csv\n"
     ]
    },
    {
     "name": "stderr",
     "output_type": "stream",
     "text": [
      "100%|██████████████████████████| 11928/11928 [00:53<00:00, 221.18it/s]\n"
     ]
    },
    {
     "name": "stdout",
     "output_type": "stream",
     "text": [
      "/home/yiting/Documents/Analysis/2024-11-22/anipose/pose_3d/2024-11-22_09-41-51_3d.csv\n"
     ]
    },
    {
     "name": "stderr",
     "output_type": "stream",
     "text": [
      "100%|██████████████████████████| 16548/16548 [01:06<00:00, 247.85it/s]\n"
     ]
    },
    {
     "name": "stdout",
     "output_type": "stream",
     "text": [
      "/home/yiting/Documents/Analysis/2024-11-22/anipose/pose_3d/2024-11-22_09-42-04_3d.csv\n"
     ]
    },
    {
     "name": "stderr",
     "output_type": "stream",
     "text": [
      "100%|██████████████████████████| 16212/16212 [01:14<00:00, 216.71it/s]\n"
     ]
    },
    {
     "name": "stdout",
     "output_type": "stream",
     "text": [
      "/home/yiting/Documents/Analysis/2024-11-22/anipose/pose_3d/2024-11-22_09-42-18_3d.csv\n"
     ]
    },
    {
     "name": "stderr",
     "output_type": "stream",
     "text": [
      "100%|██████████████████████████| 12411/12411 [00:57<00:00, 214.63it/s]\n"
     ]
    },
    {
     "name": "stdout",
     "output_type": "stream",
     "text": [
      "/home/yiting/Documents/Analysis/2024-11-22/anipose/pose_3d/2024-11-22_09-42-31_3d.csv\n"
     ]
    },
    {
     "name": "stderr",
     "output_type": "stream",
     "text": [
      "100%|██████████████████████████| 11508/11508 [00:54<00:00, 211.61it/s]\n"
     ]
    },
    {
     "name": "stdout",
     "output_type": "stream",
     "text": [
      "/home/yiting/Documents/Analysis/2024-11-22/anipose/pose_3d/2024-11-22_09-42-43_3d.csv\n"
     ]
    },
    {
     "name": "stderr",
     "output_type": "stream",
     "text": [
      "100%|██████████████████████████| 11718/11718 [00:55<00:00, 212.39it/s]\n"
     ]
    },
    {
     "name": "stdout",
     "output_type": "stream",
     "text": [
      "/home/yiting/Documents/Analysis/2024-11-22/anipose/pose_3d/2024-11-22_09-42-56_3d.csv\n"
     ]
    },
    {
     "name": "stderr",
     "output_type": "stream",
     "text": [
      "100%|██████████████████████████| 11802/11802 [00:57<00:00, 206.26it/s]\n"
     ]
    },
    {
     "name": "stdout",
     "output_type": "stream",
     "text": [
      "/home/yiting/Documents/Analysis/2024-11-22/anipose/pose_3d/2024-11-22_09-43-08_3d.csv\n"
     ]
    },
    {
     "name": "stderr",
     "output_type": "stream",
     "text": [
      "100%|██████████████████████████| 12033/12033 [00:56<00:00, 211.30it/s]\n"
     ]
    },
    {
     "name": "stdout",
     "output_type": "stream",
     "text": [
      "/home/yiting/Documents/Analysis/2024-11-22/anipose/pose_3d/2024-11-22_09-43-20_3d.csv\n"
     ]
    },
    {
     "name": "stderr",
     "output_type": "stream",
     "text": [
      "100%|██████████████████████████| 15750/15750 [00:48<00:00, 323.92it/s]\n"
     ]
    },
    {
     "name": "stdout",
     "output_type": "stream",
     "text": [
      "/home/yiting/Documents/Analysis/2024-11-22/anipose/pose_3d/2024-11-22_09-43-33_3d.csv\n"
     ]
    },
    {
     "name": "stderr",
     "output_type": "stream",
     "text": [
      "100%|██████████████████████████| 15624/15624 [01:11<00:00, 217.77it/s]\n"
     ]
    },
    {
     "name": "stdout",
     "output_type": "stream",
     "text": [
      "/home/yiting/Documents/Analysis/2024-11-22/anipose/pose_3d/2024-11-22_09-43-47_3d.csv\n"
     ]
    },
    {
     "name": "stderr",
     "output_type": "stream",
     "text": [
      "100%|██████████████████████████| 14973/14973 [00:51<00:00, 289.14it/s]\n"
     ]
    },
    {
     "name": "stdout",
     "output_type": "stream",
     "text": [
      "/home/yiting/Documents/Analysis/2024-11-22/anipose/pose_3d/2024-11-22_09-44-00_3d.csv\n"
     ]
    },
    {
     "name": "stderr",
     "output_type": "stream",
     "text": [
      "100%|██████████████████████████| 12369/12369 [00:58<00:00, 212.68it/s]\n"
     ]
    },
    {
     "name": "stdout",
     "output_type": "stream",
     "text": [
      "/home/yiting/Documents/Analysis/2024-11-22/anipose/pose_3d/2024-11-22_09-44-13_3d.csv\n"
     ]
    },
    {
     "name": "stderr",
     "output_type": "stream",
     "text": [
      "100%|██████████████████████████| 19194/19194 [01:13<00:00, 261.66it/s]\n"
     ]
    },
    {
     "name": "stdout",
     "output_type": "stream",
     "text": [
      "/home/yiting/Documents/Analysis/2024-11-22/anipose/pose_3d/2024-11-22_09-44-29_3d.csv\n"
     ]
    },
    {
     "name": "stderr",
     "output_type": "stream",
     "text": [
      "100%|██████████████████████████| 17346/17346 [00:48<00:00, 358.25it/s]\n"
     ]
    },
    {
     "name": "stdout",
     "output_type": "stream",
     "text": [
      "/home/yiting/Documents/Analysis/2024-11-22/anipose/pose_3d/2024-11-22_09-44-43_3d.csv\n"
     ]
    },
    {
     "name": "stderr",
     "output_type": "stream",
     "text": [
      "100%|██████████████████████████| 13608/13608 [00:58<00:00, 234.59it/s]\n"
     ]
    },
    {
     "name": "stdout",
     "output_type": "stream",
     "text": [
      "/home/yiting/Documents/Analysis/2024-11-22/anipose/pose_3d/2024-11-22_09-44-57_3d.csv\n"
     ]
    },
    {
     "name": "stderr",
     "output_type": "stream",
     "text": [
      "100%|██████████████████████████| 12747/12747 [01:00<00:00, 209.56it/s]\n"
     ]
    },
    {
     "name": "stdout",
     "output_type": "stream",
     "text": [
      "/home/yiting/Documents/Analysis/2024-11-22/anipose/pose_3d/2024-11-22_09-45-09_3d.csv\n"
     ]
    },
    {
     "name": "stderr",
     "output_type": "stream",
     "text": [
      "100%|██████████████████████████| 14847/14847 [01:01<00:00, 241.53it/s]\n"
     ]
    },
    {
     "name": "stdout",
     "output_type": "stream",
     "text": [
      "/home/yiting/Documents/Analysis/2024-11-22/anipose/pose_3d/2024-11-22_09-45-23_3d.csv\n"
     ]
    },
    {
     "name": "stderr",
     "output_type": "stream",
     "text": [
      "100%|██████████████████████████| 11949/11949 [00:51<00:00, 230.72it/s]\n"
     ]
    },
    {
     "name": "stdout",
     "output_type": "stream",
     "text": [
      "/home/yiting/Documents/Analysis/2024-11-22/anipose/pose_3d/2024-11-22_09-45-35_3d.csv\n"
     ]
    },
    {
     "name": "stderr",
     "output_type": "stream",
     "text": [
      "100%|██████████████████████████| 15918/15918 [00:52<00:00, 306.05it/s]\n"
     ]
    },
    {
     "name": "stdout",
     "output_type": "stream",
     "text": [
      "/home/yiting/Documents/Analysis/2024-11-22/anipose/pose_3d/2024-11-22_09-45-49_3d.csv\n"
     ]
    },
    {
     "name": "stderr",
     "output_type": "stream",
     "text": [
      "100%|██████████████████████████| 14196/14196 [00:58<00:00, 242.72it/s]\n"
     ]
    },
    {
     "name": "stdout",
     "output_type": "stream",
     "text": [
      "/home/yiting/Documents/Analysis/2024-11-22/anipose/pose_3d/2024-11-22_09-46-04_3d.csv\n"
     ]
    },
    {
     "name": "stderr",
     "output_type": "stream",
     "text": [
      "100%|██████████████████████████| 12075/12075 [00:53<00:00, 223.61it/s]\n"
     ]
    },
    {
     "name": "stdout",
     "output_type": "stream",
     "text": [
      "/home/yiting/Documents/Analysis/2024-11-22/anipose/pose_3d/2024-11-22_09-46-15_3d.csv\n"
     ]
    },
    {
     "name": "stderr",
     "output_type": "stream",
     "text": [
      "100%|██████████████████████████| 15267/15267 [01:06<00:00, 230.13it/s]\n"
     ]
    },
    {
     "name": "stdout",
     "output_type": "stream",
     "text": [
      "/home/yiting/Documents/Analysis/2024-11-22/anipose/pose_3d/2024-11-22_09-46-29_3d.csv\n"
     ]
    },
    {
     "name": "stderr",
     "output_type": "stream",
     "text": [
      "100%|██████████████████████████| 12180/12180 [00:53<00:00, 225.58it/s]\n"
     ]
    },
    {
     "name": "stdout",
     "output_type": "stream",
     "text": [
      "/home/yiting/Documents/Analysis/2024-11-22/anipose/pose_3d/2024-11-22_09-46-41_3d.csv\n"
     ]
    },
    {
     "name": "stderr",
     "output_type": "stream",
     "text": [
      "100%|██████████████████████████| 15540/15540 [00:52<00:00, 296.75it/s]\n"
     ]
    },
    {
     "name": "stdout",
     "output_type": "stream",
     "text": [
      "/home/yiting/Documents/Analysis/2024-11-22/anipose/pose_3d/2024-11-22_09-46-55_3d.csv\n"
     ]
    },
    {
     "name": "stderr",
     "output_type": "stream",
     "text": [
      "100%|██████████████████████████| 11445/11445 [00:49<00:00, 231.66it/s]\n"
     ]
    },
    {
     "name": "stdout",
     "output_type": "stream",
     "text": [
      "/home/yiting/Documents/Analysis/2024-11-22/anipose/pose_3d/2024-11-22_09-47-06_3d.csv\n"
     ]
    },
    {
     "name": "stderr",
     "output_type": "stream",
     "text": [
      "100%|██████████████████████████| 16569/16569 [01:13<00:00, 225.65it/s]\n"
     ]
    },
    {
     "name": "stdout",
     "output_type": "stream",
     "text": [
      "/home/yiting/Documents/Analysis/2024-11-22/anipose/pose_3d/2024-11-22_09-47-21_3d.csv\n"
     ]
    },
    {
     "name": "stderr",
     "output_type": "stream",
     "text": [
      "100%|██████████████████████████| 12390/12390 [00:56<00:00, 218.83it/s]\n"
     ]
    },
    {
     "name": "stdout",
     "output_type": "stream",
     "text": [
      "/home/yiting/Documents/Analysis/2024-11-22/anipose/pose_3d/2024-11-22_09-47-35_3d.csv\n"
     ]
    },
    {
     "name": "stderr",
     "output_type": "stream",
     "text": [
      "100%|██████████████████████████| 11697/11697 [00:54<00:00, 212.75it/s]\n"
     ]
    },
    {
     "name": "stdout",
     "output_type": "stream",
     "text": [
      "/home/yiting/Documents/Analysis/2024-11-22/anipose/pose_3d/2024-11-22_09-47-47_3d.csv\n"
     ]
    },
    {
     "name": "stderr",
     "output_type": "stream",
     "text": [
      "100%|██████████████████████████| 12096/12096 [00:53<00:00, 225.22it/s]\n"
     ]
    },
    {
     "name": "stdout",
     "output_type": "stream",
     "text": [
      "/home/yiting/Documents/Analysis/2024-11-22/anipose/pose_3d/2024-11-22_09-47-59_3d.csv\n"
     ]
    },
    {
     "name": "stderr",
     "output_type": "stream",
     "text": [
      "100%|██████████████████████████| 15456/15456 [01:02<00:00, 246.50it/s]\n"
     ]
    },
    {
     "name": "stdout",
     "output_type": "stream",
     "text": [
      "/home/yiting/Documents/Analysis/2024-11-22/anipose/pose_3d/2024-11-22_09-48-13_3d.csv\n"
     ]
    },
    {
     "name": "stderr",
     "output_type": "stream",
     "text": [
      "100%|██████████████████████████| 12663/12663 [00:45<00:00, 280.96it/s]\n"
     ]
    },
    {
     "name": "stdout",
     "output_type": "stream",
     "text": [
      "/home/yiting/Documents/Analysis/2024-11-22/anipose/pose_3d/2024-11-22_09-48-25_3d.csv\n"
     ]
    },
    {
     "name": "stderr",
     "output_type": "stream",
     "text": [
      "100%|██████████████████████████| 12138/12138 [00:49<00:00, 242.90it/s]\n"
     ]
    },
    {
     "name": "stdout",
     "output_type": "stream",
     "text": [
      "/home/yiting/Documents/Analysis/2024-11-22/anipose/pose_3d/2024-11-22_09-48-36_3d.csv\n"
     ]
    },
    {
     "name": "stderr",
     "output_type": "stream",
     "text": [
      "100%|██████████████████████████| 11277/11277 [00:45<00:00, 245.42it/s]\n"
     ]
    },
    {
     "name": "stdout",
     "output_type": "stream",
     "text": [
      "/home/yiting/Documents/Analysis/2024-11-22/anipose/pose_3d/2024-11-22_09-48-47_3d.csv\n"
     ]
    },
    {
     "name": "stderr",
     "output_type": "stream",
     "text": [
      "100%|██████████████████████████| 11865/11865 [00:46<00:00, 254.44it/s]\n"
     ]
    },
    {
     "name": "stdout",
     "output_type": "stream",
     "text": [
      "/home/yiting/Documents/Analysis/2024-11-22/anipose/pose_3d/2024-11-22_09-48-59_3d.csv\n"
     ]
    },
    {
     "name": "stderr",
     "output_type": "stream",
     "text": [
      "100%|██████████████████████████| 17304/17304 [01:03<00:00, 270.74it/s]\n"
     ]
    },
    {
     "name": "stdout",
     "output_type": "stream",
     "text": [
      "/home/yiting/Documents/Analysis/2024-11-22/anipose/pose_3d/2024-11-22_09-49-14_3d.csv\n"
     ]
    },
    {
     "name": "stderr",
     "output_type": "stream",
     "text": [
      "100%|██████████████████████████| 16485/16485 [01:15<00:00, 219.08it/s]\n"
     ]
    },
    {
     "name": "stdout",
     "output_type": "stream",
     "text": [
      "/home/yiting/Documents/Analysis/2024-11-22/anipose/pose_3d/2024-11-22_09-49-29_3d.csv\n"
     ]
    },
    {
     "name": "stderr",
     "output_type": "stream",
     "text": [
      "100%|██████████████████████████| 12390/12390 [00:56<00:00, 217.81it/s]\n"
     ]
    },
    {
     "name": "stdout",
     "output_type": "stream",
     "text": [
      "/home/yiting/Documents/Analysis/2024-11-22/anipose/pose_3d/2024-11-22_09-49-42_3d.csv\n"
     ]
    },
    {
     "name": "stderr",
     "output_type": "stream",
     "text": [
      "100%|██████████████████████████| 12138/12138 [00:53<00:00, 226.67it/s]\n"
     ]
    },
    {
     "name": "stdout",
     "output_type": "stream",
     "text": [
      "/home/yiting/Documents/Analysis/2024-11-22/anipose/pose_3d/2024-11-22_09-49-54_3d.csv\n"
     ]
    },
    {
     "name": "stderr",
     "output_type": "stream",
     "text": [
      "100%|██████████████████████████| 12831/12831 [00:59<00:00, 215.66it/s]\n"
     ]
    },
    {
     "name": "stdout",
     "output_type": "stream",
     "text": [
      "/home/yiting/Documents/Analysis/2024-11-22/anipose/pose_3d/2024-11-22_09-50-06_3d.csv\n"
     ]
    },
    {
     "name": "stderr",
     "output_type": "stream",
     "text": [
      "100%|██████████████████████████| 11571/11571 [00:56<00:00, 203.99it/s]\n"
     ]
    },
    {
     "name": "stdout",
     "output_type": "stream",
     "text": [
      "/home/yiting/Documents/Analysis/2024-11-22/anipose/pose_3d/2024-11-22_09-50-18_3d.csv\n"
     ]
    },
    {
     "name": "stderr",
     "output_type": "stream",
     "text": [
      "100%|██████████████████████████| 15708/15708 [01:05<00:00, 238.25it/s]\n"
     ]
    },
    {
     "name": "stdout",
     "output_type": "stream",
     "text": [
      "/home/yiting/Documents/Analysis/2024-11-22/anipose/pose_3d/2024-11-22_09-50-33_3d.csv\n"
     ]
    },
    {
     "name": "stderr",
     "output_type": "stream",
     "text": [
      "100%|██████████████████████████| 11256/11256 [00:50<00:00, 224.42it/s]\n"
     ]
    },
    {
     "name": "stdout",
     "output_type": "stream",
     "text": [
      "/home/yiting/Documents/Analysis/2024-11-22/anipose/pose_3d/2024-11-22_09-50-45_3d.csv\n"
     ]
    },
    {
     "name": "stderr",
     "output_type": "stream",
     "text": [
      "100%|██████████████████████████| 10857/10857 [00:49<00:00, 217.38it/s]\n"
     ]
    },
    {
     "name": "stdout",
     "output_type": "stream",
     "text": [
      "/home/yiting/Documents/Analysis/2024-11-22/anipose/pose_3d/2024-11-22_09-50-56_3d.csv\n"
     ]
    },
    {
     "name": "stderr",
     "output_type": "stream",
     "text": [
      "100%|██████████████████████████| 15708/15708 [01:06<00:00, 235.94it/s]\n"
     ]
    },
    {
     "name": "stdout",
     "output_type": "stream",
     "text": [
      "/home/yiting/Documents/Analysis/2024-11-22/anipose/pose_3d/2024-11-22_09-51-10_3d.csv\n"
     ]
    },
    {
     "name": "stderr",
     "output_type": "stream",
     "text": [
      "100%|██████████████████████████| 12957/12957 [00:58<00:00, 221.29it/s]\n"
     ]
    },
    {
     "name": "stdout",
     "output_type": "stream",
     "text": [
      "/home/yiting/Documents/Analysis/2024-11-22/anipose/pose_3d/2024-11-22_09-51-23_3d.csv\n"
     ]
    },
    {
     "name": "stderr",
     "output_type": "stream",
     "text": [
      "100%|██████████████████████████| 11781/11781 [00:52<00:00, 222.52it/s]\n"
     ]
    },
    {
     "name": "stdout",
     "output_type": "stream",
     "text": [
      "/home/yiting/Documents/Analysis/2024-11-22/anipose/pose_3d/2024-11-22_09-51-36_3d.csv\n"
     ]
    },
    {
     "name": "stderr",
     "output_type": "stream",
     "text": [
      "100%|██████████████████████████| 15687/15687 [00:56<00:00, 279.15it/s]\n"
     ]
    },
    {
     "name": "stdout",
     "output_type": "stream",
     "text": [
      "/home/yiting/Documents/Analysis/2024-11-22/anipose/pose_3d/2024-11-22_09-51-50_3d.csv\n"
     ]
    },
    {
     "name": "stderr",
     "output_type": "stream",
     "text": [
      "100%|██████████████████████████| 15750/15750 [01:02<00:00, 251.09it/s]\n"
     ]
    },
    {
     "name": "stdout",
     "output_type": "stream",
     "text": [
      "/home/yiting/Documents/Analysis/2024-11-22/anipose/pose_3d/2024-11-22_09-52-05_3d.csv\n"
     ]
    },
    {
     "name": "stderr",
     "output_type": "stream",
     "text": [
      "100%|██████████████████████████| 15687/15687 [01:10<00:00, 222.41it/s]\n"
     ]
    },
    {
     "name": "stdout",
     "output_type": "stream",
     "text": [
      "/home/yiting/Documents/Analysis/2024-11-22/anipose/pose_3d/2024-11-22_09-52-20_3d.csv\n"
     ]
    },
    {
     "name": "stderr",
     "output_type": "stream",
     "text": [
      "100%|██████████████████████████| 12894/12894 [00:57<00:00, 225.27it/s]\n"
     ]
    },
    {
     "name": "stdout",
     "output_type": "stream",
     "text": [
      "/home/yiting/Documents/Analysis/2024-11-22/anipose/pose_3d/2024-11-22_09-52-33_3d.csv\n"
     ]
    },
    {
     "name": "stderr",
     "output_type": "stream",
     "text": [
      "100%|██████████████████████████| 15477/15477 [00:52<00:00, 295.13it/s]\n"
     ]
    },
    {
     "name": "stdout",
     "output_type": "stream",
     "text": [
      "/home/yiting/Documents/Analysis/2024-11-22/anipose/pose_3d/2024-11-22_09-52-46_3d.csv\n"
     ]
    },
    {
     "name": "stderr",
     "output_type": "stream",
     "text": [
      "100%|██████████████████████████| 15918/15918 [01:14<00:00, 212.61it/s]\n"
     ]
    },
    {
     "name": "stdout",
     "output_type": "stream",
     "text": [
      "/home/yiting/Documents/Analysis/2024-11-22/anipose/pose_3d/2024-11-22_09-53-00_3d.csv\n"
     ]
    },
    {
     "name": "stderr",
     "output_type": "stream",
     "text": [
      "100%|██████████████████████████| 15918/15918 [01:14<00:00, 212.32it/s]\n"
     ]
    },
    {
     "name": "stdout",
     "output_type": "stream",
     "text": [
      "/home/yiting/Documents/Analysis/2024-11-22/anipose/pose_3d/2024-11-22_09-53-15_3d.csv\n"
     ]
    },
    {
     "name": "stderr",
     "output_type": "stream",
     "text": [
      "100%|██████████████████████████| 12348/12348 [01:00<00:00, 202.81it/s]\n"
     ]
    },
    {
     "name": "stdout",
     "output_type": "stream",
     "text": [
      "/home/yiting/Documents/Analysis/2024-11-22/anipose/pose_3d/2024-11-22_09-53-26_3d.csv\n"
     ]
    },
    {
     "name": "stderr",
     "output_type": "stream",
     "text": [
      "100%|██████████████████████████| 15141/15141 [01:03<00:00, 236.87it/s]\n"
     ]
    },
    {
     "name": "stdout",
     "output_type": "stream",
     "text": [
      "/home/yiting/Documents/Analysis/2024-11-22/anipose/pose_3d/2024-11-22_09-53-39_3d.csv\n"
     ]
    },
    {
     "name": "stderr",
     "output_type": "stream",
     "text": [
      "100%|██████████████████████████| 15435/15435 [01:05<00:00, 237.15it/s]\n"
     ]
    },
    {
     "name": "stdout",
     "output_type": "stream",
     "text": [
      "/home/yiting/Documents/Analysis/2024-11-22/anipose/pose_3d/2024-11-22_09-53-54_3d.csv\n"
     ]
    },
    {
     "name": "stderr",
     "output_type": "stream",
     "text": [
      "100%|██████████████████████████| 14679/14679 [01:00<00:00, 244.26it/s]\n"
     ]
    },
    {
     "name": "stdout",
     "output_type": "stream",
     "text": [
      "/home/yiting/Documents/Analysis/2024-11-22/anipose/pose_3d/2024-11-22_09-54-07_3d.csv\n"
     ]
    },
    {
     "name": "stderr",
     "output_type": "stream",
     "text": [
      "100%|██████████████████████████| 11697/11697 [00:52<00:00, 224.52it/s]\n"
     ]
    },
    {
     "name": "stdout",
     "output_type": "stream",
     "text": [
      "/home/yiting/Documents/Analysis/2024-11-22/anipose/pose_3d/2024-11-22_09-54-19_3d.csv\n"
     ]
    },
    {
     "name": "stderr",
     "output_type": "stream",
     "text": [
      "100%|██████████████████████████| 12369/12369 [00:54<00:00, 227.89it/s]\n"
     ]
    },
    {
     "name": "stdout",
     "output_type": "stream",
     "text": [
      "/home/yiting/Documents/Analysis/2024-11-22/anipose/pose_3d/2024-11-22_09-54-31_3d.csv\n"
     ]
    },
    {
     "name": "stderr",
     "output_type": "stream",
     "text": [
      "100%|██████████████████████████| 15582/15582 [00:43<00:00, 354.41it/s]\n"
     ]
    },
    {
     "name": "stdout",
     "output_type": "stream",
     "text": [
      "/home/yiting/Documents/Analysis/2024-11-22/anipose/pose_3d/2024-11-22_09-54-44_3d.csv\n"
     ]
    },
    {
     "name": "stderr",
     "output_type": "stream",
     "text": [
      "100%|██████████████████████████| 11508/11508 [00:47<00:00, 240.07it/s]\n"
     ]
    },
    {
     "name": "stdout",
     "output_type": "stream",
     "text": [
      "/home/yiting/Documents/Analysis/2024-11-22/anipose/pose_3d/2024-11-22_09-54-55_3d.csv\n"
     ]
    },
    {
     "name": "stderr",
     "output_type": "stream",
     "text": [
      "100%|██████████████████████████| 11277/11277 [00:46<00:00, 244.89it/s]\n"
     ]
    },
    {
     "name": "stdout",
     "output_type": "stream",
     "text": [
      "/home/yiting/Documents/Analysis/2024-11-22/anipose/pose_3d/2024-11-22_09-55-07_3d.csv\n"
     ]
    },
    {
     "name": "stderr",
     "output_type": "stream",
     "text": [
      "100%|██████████████████████████| 12474/12474 [00:51<00:00, 240.48it/s]\n"
     ]
    },
    {
     "name": "stdout",
     "output_type": "stream",
     "text": [
      "/home/yiting/Documents/Analysis/2024-11-22/anipose/pose_3d/2024-11-22_09-55-19_3d.csv\n"
     ]
    },
    {
     "name": "stderr",
     "output_type": "stream",
     "text": [
      "100%|██████████████████████████| 16044/16044 [01:10<00:00, 228.08it/s]\n"
     ]
    },
    {
     "name": "stdout",
     "output_type": "stream",
     "text": [
      "/home/yiting/Documents/Analysis/2024-11-22/anipose/pose_3d/2024-11-22_09-55-33_3d.csv\n"
     ]
    },
    {
     "name": "stderr",
     "output_type": "stream",
     "text": [
      "100%|██████████████████████████| 12768/12768 [00:55<00:00, 229.67it/s]\n"
     ]
    },
    {
     "name": "stdout",
     "output_type": "stream",
     "text": [
      "/home/yiting/Documents/Analysis/2024-11-22/anipose/pose_3d/2024-11-22_09-55-45_3d.csv\n"
     ]
    },
    {
     "name": "stderr",
     "output_type": "stream",
     "text": [
      "100%|██████████████████████████| 12999/12999 [00:58<00:00, 223.47it/s]\n"
     ]
    },
    {
     "name": "stdout",
     "output_type": "stream",
     "text": [
      "/home/yiting/Documents/Analysis/2024-11-22/anipose/pose_3d/2024-11-22_09-55-58_3d.csv\n"
     ]
    },
    {
     "name": "stderr",
     "output_type": "stream",
     "text": [
      "100%|██████████████████████████| 14805/14805 [01:09<00:00, 211.81it/s]\n"
     ]
    },
    {
     "name": "stdout",
     "output_type": "stream",
     "text": [
      "/home/yiting/Documents/Analysis/2024-11-22/anipose/pose_3d/2024-11-22_09-56-11_3d.csv\n"
     ]
    },
    {
     "name": "stderr",
     "output_type": "stream",
     "text": [
      "100%|██████████████████████████| 15225/15225 [00:51<00:00, 297.19it/s]\n"
     ]
    },
    {
     "name": "stdout",
     "output_type": "stream",
     "text": [
      "/home/yiting/Documents/Analysis/2024-11-22/anipose/pose_3d/2024-11-22_09-56-24_3d.csv\n"
     ]
    },
    {
     "name": "stderr",
     "output_type": "stream",
     "text": [
      "100%|██████████████████████████| 15435/15435 [01:05<00:00, 236.73it/s]\n"
     ]
    },
    {
     "name": "stdout",
     "output_type": "stream",
     "text": [
      "/home/yiting/Documents/Analysis/2024-11-22/anipose/pose_3d/2024-11-22_09-56-39_3d.csv\n"
     ]
    },
    {
     "name": "stderr",
     "output_type": "stream",
     "text": [
      "100%|██████████████████████████| 15393/15393 [01:11<00:00, 215.15it/s]\n"
     ]
    },
    {
     "name": "stdout",
     "output_type": "stream",
     "text": [
      "/home/yiting/Documents/Analysis/2024-11-22/anipose/pose_3d/2024-11-22_09-56-53_3d.csv\n"
     ]
    },
    {
     "name": "stderr",
     "output_type": "stream",
     "text": [
      "100%|██████████████████████████| 12033/12033 [00:58<00:00, 203.97it/s]\n"
     ]
    },
    {
     "name": "stdout",
     "output_type": "stream",
     "text": [
      "/home/yiting/Documents/Analysis/2024-11-22/anipose/pose_3d/2024-11-22_09-57-05_3d.csv\n"
     ]
    },
    {
     "name": "stderr",
     "output_type": "stream",
     "text": [
      "100%|██████████████████████████| 12369/12369 [00:57<00:00, 214.12it/s]\n"
     ]
    },
    {
     "name": "stdout",
     "output_type": "stream",
     "text": [
      "/home/yiting/Documents/Analysis/2024-11-22/anipose/pose_3d/2024-11-22_09-57-17_3d.csv\n"
     ]
    },
    {
     "name": "stderr",
     "output_type": "stream",
     "text": [
      "100%|████████████████████████████| 9849/9849 [00:15<00:00, 654.81it/s]\n"
     ]
    },
    {
     "name": "stdout",
     "output_type": "stream",
     "text": [
      "/home/yiting/Documents/Analysis/2024-11-22/anipose/pose_3d/2024-11-22_09-57-27_3d.csv\n"
     ]
    },
    {
     "name": "stderr",
     "output_type": "stream",
     "text": [
      "100%|████████████████████████████| 9744/9744 [00:14<00:00, 688.04it/s]\n"
     ]
    },
    {
     "name": "stdout",
     "output_type": "stream",
     "text": [
      "/home/yiting/Documents/Analysis/2024-11-22/anipose/pose_3d/2024-11-22_09-57-38_3d.csv\n"
     ]
    },
    {
     "name": "stderr",
     "output_type": "stream",
     "text": [
      "100%|███████████████████████████| 9429/9429 [00:09<00:00, 1010.33it/s]\n"
     ]
    },
    {
     "name": "stdout",
     "output_type": "stream",
     "text": [
      "/home/yiting/Documents/Analysis/2024-11-22/anipose/pose_3d/2024-11-22_09-58-44_3d.csv\n"
     ]
    },
    {
     "name": "stderr",
     "output_type": "stream",
     "text": [
      "100%|██████████████████████████| 13377/13377 [00:53<00:00, 248.95it/s]\n"
     ]
    },
    {
     "name": "stdout",
     "output_type": "stream",
     "text": [
      "/home/yiting/Documents/Analysis/2024-11-22/anipose/pose_3d/2024-11-22_09-58-57_3d.csv\n"
     ]
    },
    {
     "name": "stderr",
     "output_type": "stream",
     "text": [
      "100%|██████████████████████████| 12453/12453 [00:57<00:00, 217.94it/s]\n"
     ]
    },
    {
     "name": "stdout",
     "output_type": "stream",
     "text": [
      "/home/yiting/Documents/Analysis/2024-11-22/anipose/pose_3d/2024-11-22_09-59-09_3d.csv\n"
     ]
    },
    {
     "name": "stderr",
     "output_type": "stream",
     "text": [
      "100%|██████████████████████████| 15204/15204 [01:04<00:00, 235.81it/s]\n"
     ]
    },
    {
     "name": "stdout",
     "output_type": "stream",
     "text": [
      "/home/yiting/Documents/Analysis/2024-11-22/anipose/pose_3d/2024-11-22_09-59-23_3d.csv\n"
     ]
    },
    {
     "name": "stderr",
     "output_type": "stream",
     "text": [
      "100%|██████████████████████████| 15330/15330 [01:05<00:00, 233.44it/s]\n"
     ]
    },
    {
     "name": "stdout",
     "output_type": "stream",
     "text": [
      "/home/yiting/Documents/Analysis/2024-11-22/anipose/pose_3d/2024-11-22_09-59-37_3d.csv\n"
     ]
    },
    {
     "name": "stderr",
     "output_type": "stream",
     "text": [
      "100%|██████████████████████████| 15036/15036 [01:02<00:00, 242.26it/s]\n"
     ]
    },
    {
     "name": "stdout",
     "output_type": "stream",
     "text": [
      "/home/yiting/Documents/Analysis/2024-11-22/anipose/pose_3d/2024-11-22_09-59-51_3d.csv\n"
     ]
    },
    {
     "name": "stderr",
     "output_type": "stream",
     "text": [
      "100%|██████████████████████████| 16317/16317 [01:08<00:00, 239.66it/s]\n"
     ]
    },
    {
     "name": "stdout",
     "output_type": "stream",
     "text": [
      "/home/yiting/Documents/Analysis/2024-11-22/anipose/pose_3d/2024-11-22_10-00-06_3d.csv\n"
     ]
    },
    {
     "name": "stderr",
     "output_type": "stream",
     "text": [
      "100%|██████████████████████████| 15771/15771 [00:50<00:00, 309.54it/s]\n"
     ]
    },
    {
     "name": "stdout",
     "output_type": "stream",
     "text": [
      "/home/yiting/Documents/Analysis/2024-11-22/anipose/pose_3d/2024-11-22_10-00-21_3d.csv\n"
     ]
    },
    {
     "name": "stderr",
     "output_type": "stream",
     "text": [
      "100%|██████████████████████████| 15393/15393 [01:03<00:00, 244.23it/s]\n"
     ]
    },
    {
     "name": "stdout",
     "output_type": "stream",
     "text": [
      "/home/yiting/Documents/Analysis/2024-11-22/anipose/pose_3d/2024-11-22_10-00-34_3d.csv\n"
     ]
    },
    {
     "name": "stderr",
     "output_type": "stream",
     "text": [
      "100%|██████████████████████████| 17766/17766 [01:11<00:00, 247.38it/s]\n"
     ]
    },
    {
     "name": "stdout",
     "output_type": "stream",
     "text": [
      "/home/yiting/Documents/Analysis/2024-11-22/anipose/pose_3d/2024-11-22_10-00-49_3d.csv\n"
     ]
    },
    {
     "name": "stderr",
     "output_type": "stream",
     "text": [
      "100%|██████████████████████████| 12852/12852 [00:57<00:00, 224.60it/s]\n"
     ]
    },
    {
     "name": "stdout",
     "output_type": "stream",
     "text": [
      "/home/yiting/Documents/Analysis/2024-11-22/anipose/pose_3d/2024-11-22_10-01-01_3d.csv\n"
     ]
    },
    {
     "name": "stderr",
     "output_type": "stream",
     "text": [
      "100%|██████████████████████████| 12768/12768 [00:57<00:00, 222.21it/s]\n"
     ]
    },
    {
     "name": "stdout",
     "output_type": "stream",
     "text": [
      "/home/yiting/Documents/Analysis/2024-11-22/anipose/pose_3d/2024-11-22_10-01-14_3d.csv\n"
     ]
    },
    {
     "name": "stderr",
     "output_type": "stream",
     "text": [
      "100%|██████████████████████████| 12684/12684 [00:53<00:00, 238.44it/s]\n"
     ]
    },
    {
     "name": "stdout",
     "output_type": "stream",
     "text": [
      "/home/yiting/Documents/Analysis/2024-11-22/anipose/pose_3d/2024-11-22_10-01-26_3d.csv\n"
     ]
    },
    {
     "name": "stderr",
     "output_type": "stream",
     "text": [
      "100%|██████████████████████████| 11823/11823 [00:51<00:00, 231.49it/s]\n"
     ]
    },
    {
     "name": "stdout",
     "output_type": "stream",
     "text": [
      "/home/yiting/Documents/Analysis/2024-11-22/anipose/pose_3d/2024-11-22_10-01-38_3d.csv\n"
     ]
    },
    {
     "name": "stderr",
     "output_type": "stream",
     "text": [
      "100%|██████████████████████████| 15624/15624 [01:05<00:00, 238.74it/s]\n"
     ]
    },
    {
     "name": "stdout",
     "output_type": "stream",
     "text": [
      "/home/yiting/Documents/Analysis/2024-11-22/anipose/pose_3d/2024-11-22_10-01-52_3d.csv\n"
     ]
    },
    {
     "name": "stderr",
     "output_type": "stream",
     "text": [
      "100%|██████████████████████████| 11550/11550 [00:50<00:00, 228.89it/s]\n"
     ]
    },
    {
     "name": "stdout",
     "output_type": "stream",
     "text": [
      "/home/yiting/Documents/Analysis/2024-11-22/anipose/pose_3d/2024-11-22_10-02-03_3d.csv\n"
     ]
    },
    {
     "name": "stderr",
     "output_type": "stream",
     "text": [
      "100%|██████████████████████████| 15666/15666 [00:55<00:00, 284.12it/s]\n"
     ]
    },
    {
     "name": "stdout",
     "output_type": "stream",
     "text": [
      "/home/yiting/Documents/Analysis/2024-11-22/anipose/pose_3d/2024-11-22_10-02-17_3d.csv\n"
     ]
    },
    {
     "name": "stderr",
     "output_type": "stream",
     "text": [
      "100%|██████████████████████████| 11907/11907 [00:46<00:00, 257.49it/s]\n"
     ]
    },
    {
     "name": "stdout",
     "output_type": "stream",
     "text": [
      "/home/yiting/Documents/Analysis/2024-11-22/anipose/pose_3d/2024-11-22_10-02-28_3d.csv\n"
     ]
    },
    {
     "name": "stderr",
     "output_type": "stream",
     "text": [
      "100%|██████████████████████████| 15225/15225 [01:03<00:00, 239.17it/s]\n"
     ]
    },
    {
     "name": "stdout",
     "output_type": "stream",
     "text": [
      "/home/yiting/Documents/Analysis/2024-11-22/anipose/pose_3d/2024-11-22_10-02-43_3d.csv\n"
     ]
    },
    {
     "name": "stderr",
     "output_type": "stream",
     "text": [
      "100%|██████████████████████████| 12957/12957 [01:01<00:00, 210.40it/s]\n"
     ]
    },
    {
     "name": "stdout",
     "output_type": "stream",
     "text": [
      "/home/yiting/Documents/Analysis/2024-11-22/anipose/pose_3d/2024-11-22_10-02-56_3d.csv\n"
     ]
    },
    {
     "name": "stderr",
     "output_type": "stream",
     "text": [
      "100%|██████████████████████████| 16611/16611 [01:13<00:00, 227.11it/s]\n"
     ]
    },
    {
     "name": "stdout",
     "output_type": "stream",
     "text": [
      "/home/yiting/Documents/Analysis/2024-11-22/anipose/pose_3d/2024-11-22_10-03-10_3d.csv\n"
     ]
    },
    {
     "name": "stderr",
     "output_type": "stream",
     "text": [
      "100%|██████████████████████████| 15141/15141 [00:42<00:00, 354.79it/s]\n"
     ]
    },
    {
     "name": "stdout",
     "output_type": "stream",
     "text": [
      "/home/yiting/Documents/Analysis/2024-11-22/anipose/pose_3d/2024-11-22_10-03-23_3d.csv\n"
     ]
    },
    {
     "name": "stderr",
     "output_type": "stream",
     "text": [
      "100%|██████████████████████████| 12096/12096 [00:46<00:00, 261.72it/s]\n"
     ]
    },
    {
     "name": "stdout",
     "output_type": "stream",
     "text": [
      "/home/yiting/Documents/Analysis/2024-11-22/anipose/pose_3d/2024-11-22_10-03-34_3d.csv\n"
     ]
    },
    {
     "name": "stderr",
     "output_type": "stream",
     "text": [
      "100%|██████████████████████████| 15792/15792 [01:06<00:00, 236.02it/s]\n"
     ]
    },
    {
     "name": "stdout",
     "output_type": "stream",
     "text": [
      "/home/yiting/Documents/Analysis/2024-11-22/anipose/pose_3d/2024-11-22_10-03-47_3d.csv\n"
     ]
    },
    {
     "name": "stderr",
     "output_type": "stream",
     "text": [
      "100%|██████████████████████████| 12894/12894 [00:56<00:00, 230.23it/s]\n"
     ]
    },
    {
     "name": "stdout",
     "output_type": "stream",
     "text": [
      "/home/yiting/Documents/Analysis/2024-11-22/anipose/pose_3d/2024-11-22_10-04-00_3d.csv\n"
     ]
    },
    {
     "name": "stderr",
     "output_type": "stream",
     "text": [
      "100%|██████████████████████████| 12831/12831 [00:58<00:00, 218.10it/s]\n"
     ]
    },
    {
     "name": "stdout",
     "output_type": "stream",
     "text": [
      "/home/yiting/Documents/Analysis/2024-11-22/anipose/pose_3d/2024-11-22_10-04-12_3d.csv\n"
     ]
    },
    {
     "name": "stderr",
     "output_type": "stream",
     "text": [
      "100%|██████████████████████████| 12180/12180 [00:51<00:00, 235.38it/s]\n"
     ]
    },
    {
     "name": "stdout",
     "output_type": "stream",
     "text": [
      "/home/yiting/Documents/Analysis/2024-11-22/anipose/pose_3d/2024-11-22_10-04-24_3d.csv\n"
     ]
    },
    {
     "name": "stderr",
     "output_type": "stream",
     "text": [
      "100%|██████████████████████████| 15288/15288 [01:00<00:00, 251.82it/s]\n"
     ]
    },
    {
     "name": "stdout",
     "output_type": "stream",
     "text": [
      "/home/yiting/Documents/Analysis/2024-11-22/anipose/pose_3d/2024-11-22_10-04-38_3d.csv\n"
     ]
    },
    {
     "name": "stderr",
     "output_type": "stream",
     "text": [
      "100%|██████████████████████████| 11865/11865 [00:55<00:00, 215.68it/s]\n"
     ]
    },
    {
     "name": "stdout",
     "output_type": "stream",
     "text": [
      "/home/yiting/Documents/Analysis/2024-11-22/anipose/pose_3d/2024-11-22_10-04-50_3d.csv\n"
     ]
    },
    {
     "name": "stderr",
     "output_type": "stream",
     "text": [
      "100%|██████████████████████████| 15498/15498 [01:02<00:00, 248.85it/s]\n"
     ]
    },
    {
     "name": "stdout",
     "output_type": "stream",
     "text": [
      "/home/yiting/Documents/Analysis/2024-11-22/anipose/pose_3d/2024-11-22_10-05-04_3d.csv\n"
     ]
    },
    {
     "name": "stderr",
     "output_type": "stream",
     "text": [
      "100%|██████████████████████████| 16884/16884 [01:08<00:00, 247.42it/s]\n"
     ]
    },
    {
     "name": "stdout",
     "output_type": "stream",
     "text": [
      "/home/yiting/Documents/Analysis/2024-11-22/anipose/pose_3d/2024-11-22_10-05-18_3d.csv\n"
     ]
    },
    {
     "name": "stderr",
     "output_type": "stream",
     "text": [
      "100%|██████████████████████████| 13356/13356 [00:58<00:00, 229.20it/s]\n"
     ]
    },
    {
     "name": "stdout",
     "output_type": "stream",
     "text": [
      "/home/yiting/Documents/Analysis/2024-11-22/anipose/pose_3d/2024-11-22_10-05-32_3d.csv\n"
     ]
    },
    {
     "name": "stderr",
     "output_type": "stream",
     "text": [
      "100%|██████████████████████████| 14889/14889 [00:56<00:00, 263.66it/s]\n"
     ]
    },
    {
     "name": "stdout",
     "output_type": "stream",
     "text": [
      "/home/yiting/Documents/Analysis/2024-11-22/anipose/pose_3d/2024-11-22_10-05-46_3d.csv\n"
     ]
    },
    {
     "name": "stderr",
     "output_type": "stream",
     "text": [
      "100%|██████████████████████████| 15519/15519 [01:10<00:00, 221.53it/s]\n"
     ]
    },
    {
     "name": "stdout",
     "output_type": "stream",
     "text": [
      "/home/yiting/Documents/Analysis/2024-11-22/anipose/pose_3d/2024-11-22_10-06-00_3d.csv\n"
     ]
    },
    {
     "name": "stderr",
     "output_type": "stream",
     "text": [
      "100%|██████████████████████████| 12348/12348 [00:59<00:00, 208.77it/s]\n"
     ]
    },
    {
     "name": "stdout",
     "output_type": "stream",
     "text": [
      "/home/yiting/Documents/Analysis/2024-11-22/anipose/pose_3d/2024-11-22_10-06-12_3d.csv\n"
     ]
    },
    {
     "name": "stderr",
     "output_type": "stream",
     "text": [
      "100%|██████████████████████████| 15204/15204 [00:59<00:00, 256.66it/s]\n"
     ]
    },
    {
     "name": "stdout",
     "output_type": "stream",
     "text": [
      "/home/yiting/Documents/Analysis/2024-11-22/anipose/pose_3d/2024-11-22_10-06-26_3d.csv\n"
     ]
    },
    {
     "name": "stderr",
     "output_type": "stream",
     "text": [
      "100%|██████████████████████████| 16590/16590 [00:50<00:00, 327.32it/s]\n"
     ]
    },
    {
     "name": "stdout",
     "output_type": "stream",
     "text": [
      "/home/yiting/Documents/Analysis/2024-11-22/anipose/pose_3d/2024-11-22_10-06-40_3d.csv\n"
     ]
    },
    {
     "name": "stderr",
     "output_type": "stream",
     "text": [
      "100%|██████████████████████████| 10962/10962 [00:43<00:00, 249.54it/s]\n"
     ]
    },
    {
     "name": "stdout",
     "output_type": "stream",
     "text": [
      "/home/yiting/Documents/Analysis/2024-11-22/anipose/pose_3d/2024-11-22_10-06-51_3d.csv\n"
     ]
    },
    {
     "name": "stderr",
     "output_type": "stream",
     "text": [
      "100%|██████████████████████████| 15225/15225 [01:03<00:00, 239.29it/s]\n"
     ]
    },
    {
     "name": "stdout",
     "output_type": "stream",
     "text": [
      "/home/yiting/Documents/Analysis/2024-11-22/anipose/pose_3d/2024-11-22_10-07-05_3d.csv\n"
     ]
    },
    {
     "name": "stderr",
     "output_type": "stream",
     "text": [
      "100%|██████████████████████████| 12243/12243 [00:52<00:00, 231.32it/s]\n"
     ]
    },
    {
     "name": "stdout",
     "output_type": "stream",
     "text": [
      "/home/yiting/Documents/Analysis/2024-11-22/anipose/pose_3d/2024-11-22_10-07-19_3d.csv\n"
     ]
    },
    {
     "name": "stderr",
     "output_type": "stream",
     "text": [
      "100%|██████████████████████████| 11151/11151 [00:48<00:00, 231.90it/s]\n"
     ]
    },
    {
     "name": "stdout",
     "output_type": "stream",
     "text": [
      "/home/yiting/Documents/Analysis/2024-11-22/anipose/pose_3d/2024-11-22_10-07-33_3d.csv\n"
     ]
    },
    {
     "name": "stderr",
     "output_type": "stream",
     "text": [
      "100%|██████████████████████████| 11865/11865 [00:48<00:00, 245.53it/s]\n"
     ]
    },
    {
     "name": "stdout",
     "output_type": "stream",
     "text": [
      "/home/yiting/Documents/Analysis/2024-11-22/anipose/pose_3d/2024-11-22_10-07-46_3d.csv\n"
     ]
    },
    {
     "name": "stderr",
     "output_type": "stream",
     "text": [
      "100%|██████████████████████████| 12117/12117 [00:51<00:00, 233.87it/s]\n"
     ]
    },
    {
     "name": "stdout",
     "output_type": "stream",
     "text": [
      "/home/yiting/Documents/Analysis/2024-11-22/anipose/pose_3d/2024-11-22_10-07-58_3d.csv\n"
     ]
    },
    {
     "name": "stderr",
     "output_type": "stream",
     "text": [
      "100%|██████████████████████████| 15036/15036 [01:03<00:00, 235.05it/s]\n"
     ]
    },
    {
     "name": "stdout",
     "output_type": "stream",
     "text": [
      "/home/yiting/Documents/Analysis/2024-11-22/anipose/pose_3d/2024-11-22_10-08-11_3d.csv\n"
     ]
    },
    {
     "name": "stderr",
     "output_type": "stream",
     "text": [
      "100%|██████████████████████████| 14700/14700 [01:10<00:00, 207.91it/s]\n"
     ]
    },
    {
     "name": "stdout",
     "output_type": "stream",
     "text": [
      "/home/yiting/Documents/Analysis/2024-11-22/anipose/pose_3d/2024-11-22_10-08-23_3d.csv\n"
     ]
    },
    {
     "name": "stderr",
     "output_type": "stream",
     "text": [
      "100%|██████████████████████████| 12873/12873 [00:59<00:00, 214.87it/s]\n"
     ]
    },
    {
     "name": "stdout",
     "output_type": "stream",
     "text": [
      "/home/yiting/Documents/Analysis/2024-11-22/anipose/pose_3d/2024-11-22_10-08-36_3d.csv\n"
     ]
    },
    {
     "name": "stderr",
     "output_type": "stream",
     "text": [
      "100%|██████████████████████████| 12978/12978 [01:01<00:00, 210.23it/s]\n"
     ]
    },
    {
     "name": "stdout",
     "output_type": "stream",
     "text": [
      "/home/yiting/Documents/Analysis/2024-11-22/anipose/pose_3d/2024-11-22_10-08-49_3d.csv\n"
     ]
    },
    {
     "name": "stderr",
     "output_type": "stream",
     "text": [
      "100%|██████████████████████████| 12390/12390 [00:59<00:00, 207.86it/s]\n"
     ]
    },
    {
     "name": "stdout",
     "output_type": "stream",
     "text": [
      "/home/yiting/Documents/Analysis/2024-11-22/anipose/pose_3d/2024-11-22_10-09-02_3d.csv\n"
     ]
    },
    {
     "name": "stderr",
     "output_type": "stream",
     "text": [
      "100%|██████████████████████████| 17115/17115 [00:50<00:00, 336.48it/s]\n"
     ]
    },
    {
     "name": "stdout",
     "output_type": "stream",
     "text": [
      "/home/yiting/Documents/Analysis/2024-11-22/anipose/pose_3d/2024-11-22_10-09-18_3d.csv\n"
     ]
    },
    {
     "name": "stderr",
     "output_type": "stream",
     "text": [
      "100%|██████████████████████████| 16002/16002 [01:07<00:00, 236.94it/s]\n"
     ]
    },
    {
     "name": "stdout",
     "output_type": "stream",
     "text": [
      "/home/yiting/Documents/Analysis/2024-11-22/anipose/pose_3d/2024-11-22_10-09-31_3d.csv\n"
     ]
    },
    {
     "name": "stderr",
     "output_type": "stream",
     "text": [
      "100%|██████████████████████████| 11487/11487 [00:49<00:00, 231.67it/s]\n"
     ]
    },
    {
     "name": "stdout",
     "output_type": "stream",
     "text": [
      "/home/yiting/Documents/Analysis/2024-11-22/anipose/pose_3d/2024-11-22_10-09-43_3d.csv\n"
     ]
    },
    {
     "name": "stderr",
     "output_type": "stream",
     "text": [
      "100%|██████████████████████████| 15288/15288 [00:59<00:00, 256.12it/s]\n"
     ]
    },
    {
     "name": "stdout",
     "output_type": "stream",
     "text": [
      "/home/yiting/Documents/Analysis/2024-11-22/anipose/pose_3d/2024-11-22_10-09-57_3d.csv\n"
     ]
    },
    {
     "name": "stderr",
     "output_type": "stream",
     "text": [
      "100%|██████████████████████████| 13104/13104 [00:58<00:00, 222.36it/s]\n"
     ]
    },
    {
     "name": "stdout",
     "output_type": "stream",
     "text": [
      "/home/yiting/Documents/Analysis/2024-11-22/anipose/pose_3d/2024-11-22_10-10-09_3d.csv\n"
     ]
    },
    {
     "name": "stderr",
     "output_type": "stream",
     "text": [
      "100%|██████████████████████████| 17850/17850 [00:55<00:00, 321.64it/s]\n"
     ]
    },
    {
     "name": "stdout",
     "output_type": "stream",
     "text": [
      "/home/yiting/Documents/Analysis/2024-11-22/anipose/pose_3d/2024-11-22_10-10-24_3d.csv\n"
     ]
    },
    {
     "name": "stderr",
     "output_type": "stream",
     "text": [
      "100%|██████████████████████████| 16338/16338 [01:04<00:00, 252.61it/s]\n"
     ]
    },
    {
     "name": "stdout",
     "output_type": "stream",
     "text": [
      "/home/yiting/Documents/Analysis/2024-11-22/anipose/pose_3d/2024-11-22_10-10-38_3d.csv\n"
     ]
    },
    {
     "name": "stderr",
     "output_type": "stream",
     "text": [
      "100%|██████████████████████████| 12684/12684 [00:58<00:00, 218.40it/s]\n"
     ]
    },
    {
     "name": "stdout",
     "output_type": "stream",
     "text": [
      "/home/yiting/Documents/Analysis/2024-11-22/anipose/pose_3d/2024-11-22_10-10-51_3d.csv\n"
     ]
    },
    {
     "name": "stderr",
     "output_type": "stream",
     "text": [
      "100%|██████████████████████████| 14091/14091 [01:05<00:00, 215.20it/s]\n"
     ]
    },
    {
     "name": "stdout",
     "output_type": "stream",
     "text": [
      "/home/yiting/Documents/Analysis/2024-11-22/anipose/pose_3d/2024-11-22_10-11-05_3d.csv\n"
     ]
    },
    {
     "name": "stderr",
     "output_type": "stream",
     "text": [
      "100%|██████████████████████████| 15666/15666 [01:05<00:00, 238.56it/s]\n"
     ]
    },
    {
     "name": "stdout",
     "output_type": "stream",
     "text": [
      "/home/yiting/Documents/Analysis/2024-11-22/anipose/pose_3d/2024-11-22_10-11-19_3d.csv\n"
     ]
    },
    {
     "name": "stderr",
     "output_type": "stream",
     "text": [
      "100%|██████████████████████████| 15204/15204 [01:05<00:00, 232.60it/s]\n"
     ]
    },
    {
     "name": "stdout",
     "output_type": "stream",
     "text": [
      "/home/yiting/Documents/Analysis/2024-11-22/anipose/pose_3d/2024-11-22_10-11-33_3d.csv\n"
     ]
    },
    {
     "name": "stderr",
     "output_type": "stream",
     "text": [
      "100%|██████████████████████████| 11697/11697 [00:54<00:00, 215.99it/s]\n"
     ]
    },
    {
     "name": "stdout",
     "output_type": "stream",
     "text": [
      "/home/yiting/Documents/Analysis/2024-11-22/anipose/pose_3d/2024-11-22_10-11-45_3d.csv\n"
     ]
    },
    {
     "name": "stderr",
     "output_type": "stream",
     "text": [
      "100%|██████████████████████████| 15813/15813 [00:45<00:00, 350.52it/s]\n"
     ]
    },
    {
     "name": "stdout",
     "output_type": "stream",
     "text": [
      "/home/yiting/Documents/Analysis/2024-11-22/anipose/pose_3d/2024-11-22_10-11-58_3d.csv\n"
     ]
    },
    {
     "name": "stderr",
     "output_type": "stream",
     "text": [
      "100%|██████████████████████████| 12054/12054 [00:49<00:00, 242.47it/s]\n"
     ]
    },
    {
     "name": "stdout",
     "output_type": "stream",
     "text": [
      "/home/yiting/Documents/Analysis/2024-11-22/anipose/pose_3d/2024-11-22_10-12-11_3d.csv\n"
     ]
    },
    {
     "name": "stderr",
     "output_type": "stream",
     "text": [
      "100%|██████████████████████████| 15057/15057 [01:04<00:00, 234.65it/s]\n"
     ]
    },
    {
     "name": "stdout",
     "output_type": "stream",
     "text": [
      "/home/yiting/Documents/Analysis/2024-11-22/anipose/pose_3d/2024-11-22_10-12-25_3d.csv\n"
     ]
    },
    {
     "name": "stderr",
     "output_type": "stream",
     "text": [
      "100%|██████████████████████████| 12264/12264 [00:55<00:00, 222.73it/s]\n"
     ]
    },
    {
     "name": "stdout",
     "output_type": "stream",
     "text": [
      "/home/yiting/Documents/Analysis/2024-11-22/anipose/pose_3d/2024-11-22_10-12-37_3d.csv\n"
     ]
    },
    {
     "name": "stderr",
     "output_type": "stream",
     "text": [
      "100%|██████████████████████████| 11718/11718 [00:51<00:00, 227.91it/s]\n"
     ]
    },
    {
     "name": "stdout",
     "output_type": "stream",
     "text": [
      "/home/yiting/Documents/Analysis/2024-11-22/anipose/pose_3d/2024-11-22_10-12-49_3d.csv\n"
     ]
    },
    {
     "name": "stderr",
     "output_type": "stream",
     "text": [
      "100%|██████████████████████████| 15309/15309 [01:02<00:00, 243.34it/s]\n"
     ]
    },
    {
     "name": "stdout",
     "output_type": "stream",
     "text": [
      "/home/yiting/Documents/Analysis/2024-11-22/anipose/pose_3d/2024-11-22_10-13-03_3d.csv\n"
     ]
    },
    {
     "name": "stderr",
     "output_type": "stream",
     "text": [
      "100%|██████████████████████████| 12474/12474 [00:58<00:00, 211.59it/s]\n"
     ]
    },
    {
     "name": "stdout",
     "output_type": "stream",
     "text": [
      "/home/yiting/Documents/Analysis/2024-11-22/anipose/pose_3d/2024-11-22_10-13-14_3d.csv\n"
     ]
    },
    {
     "name": "stderr",
     "output_type": "stream",
     "text": [
      "100%|██████████████████████████| 15897/15897 [00:55<00:00, 288.75it/s]\n"
     ]
    },
    {
     "name": "stdout",
     "output_type": "stream",
     "text": [
      "/home/yiting/Documents/Analysis/2024-11-22/anipose/pose_3d/2024-11-22_10-13-28_3d.csv\n"
     ]
    },
    {
     "name": "stderr",
     "output_type": "stream",
     "text": [
      "100%|██████████████████████████| 12033/12033 [00:48<00:00, 249.66it/s]\n"
     ]
    },
    {
     "name": "stdout",
     "output_type": "stream",
     "text": [
      "/home/yiting/Documents/Analysis/2024-11-22/anipose/pose_3d/2024-11-22_10-13-40_3d.csv\n"
     ]
    },
    {
     "name": "stderr",
     "output_type": "stream",
     "text": [
      "100%|██████████████████████████| 15477/15477 [01:09<00:00, 221.65it/s]\n"
     ]
    },
    {
     "name": "stdout",
     "output_type": "stream",
     "text": [
      "/home/yiting/Documents/Analysis/2024-11-22/anipose/pose_3d/2024-11-22_10-13-53_3d.csv\n"
     ]
    },
    {
     "name": "stderr",
     "output_type": "stream",
     "text": [
      "100%|██████████████████████████| 12957/12957 [01:02<00:00, 207.57it/s]\n"
     ]
    },
    {
     "name": "stdout",
     "output_type": "stream",
     "text": [
      "/home/yiting/Documents/Analysis/2024-11-22/anipose/pose_3d/2024-11-22_10-14-05_3d.csv\n"
     ]
    },
    {
     "name": "stderr",
     "output_type": "stream",
     "text": [
      "100%|██████████████████████████| 15792/15792 [01:00<00:00, 261.61it/s]\n"
     ]
    },
    {
     "name": "stdout",
     "output_type": "stream",
     "text": [
      "/home/yiting/Documents/Analysis/2024-11-22/anipose/pose_3d/2024-11-22_10-14-19_3d.csv\n"
     ]
    },
    {
     "name": "stderr",
     "output_type": "stream",
     "text": [
      "100%|██████████████████████████| 13083/13083 [00:57<00:00, 225.87it/s]\n"
     ]
    },
    {
     "name": "stdout",
     "output_type": "stream",
     "text": [
      "/home/yiting/Documents/Analysis/2024-11-22/anipose/pose_3d/2024-11-22_10-14-32_3d.csv\n"
     ]
    },
    {
     "name": "stderr",
     "output_type": "stream",
     "text": [
      "100%|██████████████████████████| 15771/15771 [01:05<00:00, 241.78it/s]\n"
     ]
    },
    {
     "name": "stdout",
     "output_type": "stream",
     "text": [
      "/home/yiting/Documents/Analysis/2024-11-22/anipose/pose_3d/2024-11-22_10-14-46_3d.csv\n"
     ]
    },
    {
     "name": "stderr",
     "output_type": "stream",
     "text": [
      "100%|██████████████████████████| 15771/15771 [01:03<00:00, 247.67it/s]\n"
     ]
    },
    {
     "name": "stdout",
     "output_type": "stream",
     "text": [
      "/home/yiting/Documents/Analysis/2024-11-22/anipose/pose_3d/2024-11-22_10-15-00_3d.csv\n"
     ]
    },
    {
     "name": "stderr",
     "output_type": "stream",
     "text": [
      "100%|██████████████████████████| 14994/14994 [00:44<00:00, 335.08it/s]\n"
     ]
    },
    {
     "name": "stdout",
     "output_type": "stream",
     "text": [
      "/home/yiting/Documents/Analysis/2024-11-22/anipose/pose_3d/2024-11-22_10-15-14_3d.csv\n"
     ]
    },
    {
     "name": "stderr",
     "output_type": "stream",
     "text": [
      "100%|██████████████████████████| 15267/15267 [01:06<00:00, 230.65it/s]\n"
     ]
    },
    {
     "name": "stdout",
     "output_type": "stream",
     "text": [
      "/home/yiting/Documents/Analysis/2024-11-22/anipose/pose_3d/2024-11-22_10-15-28_3d.csv\n"
     ]
    },
    {
     "name": "stderr",
     "output_type": "stream",
     "text": [
      "100%|██████████████████████████| 15309/15309 [01:05<00:00, 234.95it/s]\n"
     ]
    },
    {
     "name": "stdout",
     "output_type": "stream",
     "text": [
      "/home/yiting/Documents/Analysis/2024-11-22/anipose/pose_3d/2024-11-22_10-15-42_3d.csv\n"
     ]
    },
    {
     "name": "stderr",
     "output_type": "stream",
     "text": [
      "100%|██████████████████████████| 11718/11718 [00:39<00:00, 293.09it/s]\n"
     ]
    },
    {
     "name": "stdout",
     "output_type": "stream",
     "text": [
      "/home/yiting/Documents/Analysis/2024-11-22/anipose/pose_3d/2024-11-22_10-15-53_3d.csv\n"
     ]
    },
    {
     "name": "stderr",
     "output_type": "stream",
     "text": [
      "100%|██████████████████████████| 15246/15246 [01:01<00:00, 246.51it/s]\n"
     ]
    },
    {
     "name": "stdout",
     "output_type": "stream",
     "text": [
      "/home/yiting/Documents/Analysis/2024-11-22/anipose/pose_3d/2024-11-22_10-16-07_3d.csv\n"
     ]
    },
    {
     "name": "stderr",
     "output_type": "stream",
     "text": [
      "100%|██████████████████████████| 13314/13314 [00:58<00:00, 228.33it/s]\n"
     ]
    },
    {
     "name": "stdout",
     "output_type": "stream",
     "text": [
      "/home/yiting/Documents/Analysis/2024-11-22/anipose/pose_3d/2024-11-22_10-16-20_3d.csv\n"
     ]
    },
    {
     "name": "stderr",
     "output_type": "stream",
     "text": [
      "100%|██████████████████████████| 15897/15897 [01:12<00:00, 219.12it/s]\n"
     ]
    },
    {
     "name": "stdout",
     "output_type": "stream",
     "text": [
      "/home/yiting/Documents/Analysis/2024-11-22/anipose/pose_3d/2024-11-22_10-16-35_3d.csv\n"
     ]
    },
    {
     "name": "stderr",
     "output_type": "stream",
     "text": [
      "100%|██████████████████████████| 17493/17493 [01:15<00:00, 231.72it/s]\n"
     ]
    },
    {
     "name": "stdout",
     "output_type": "stream",
     "text": [
      "/home/yiting/Documents/Analysis/2024-11-22/anipose/pose_3d/2024-11-22_10-16-50_3d.csv\n"
     ]
    },
    {
     "name": "stderr",
     "output_type": "stream",
     "text": [
      "100%|██████████████████████████| 12558/12558 [00:56<00:00, 223.61it/s]\n"
     ]
    },
    {
     "name": "stdout",
     "output_type": "stream",
     "text": [
      "/home/yiting/Documents/Analysis/2024-11-22/anipose/pose_3d/2024-11-22_10-17-03_3d.csv\n"
     ]
    },
    {
     "name": "stderr",
     "output_type": "stream",
     "text": [
      "100%|██████████████████████████| 13083/13083 [01:01<00:00, 213.63it/s]\n"
     ]
    },
    {
     "name": "stdout",
     "output_type": "stream",
     "text": [
      "/home/yiting/Documents/Analysis/2024-11-22/anipose/pose_3d/2024-11-22_10-17-16_3d.csv\n"
     ]
    },
    {
     "name": "stderr",
     "output_type": "stream",
     "text": [
      "100%|██████████████████████████| 13251/13251 [01:01<00:00, 215.76it/s]\n"
     ]
    },
    {
     "name": "stdout",
     "output_type": "stream",
     "text": [
      "/home/yiting/Documents/Analysis/2024-11-22/anipose/pose_3d/2024-11-22_10-17-28_3d.csv\n"
     ]
    },
    {
     "name": "stderr",
     "output_type": "stream",
     "text": [
      "100%|██████████████████████████| 14910/14910 [00:56<00:00, 265.06it/s]\n"
     ]
    },
    {
     "name": "stdout",
     "output_type": "stream",
     "text": [
      "/home/yiting/Documents/Analysis/2024-11-22/anipose/pose_3d/2024-11-22_10-17-41_3d.csv\n"
     ]
    },
    {
     "name": "stderr",
     "output_type": "stream",
     "text": [
      "100%|██████████████████████████| 12117/12117 [00:46<00:00, 262.98it/s]\n"
     ]
    },
    {
     "name": "stdout",
     "output_type": "stream",
     "text": [
      "/home/yiting/Documents/Analysis/2024-11-22/anipose/pose_3d/2024-11-22_10-17-53_3d.csv\n"
     ]
    },
    {
     "name": "stderr",
     "output_type": "stream",
     "text": [
      "100%|██████████████████████████| 16548/16548 [01:14<00:00, 222.40it/s]\n"
     ]
    },
    {
     "name": "stdout",
     "output_type": "stream",
     "text": [
      "/home/yiting/Documents/Analysis/2024-11-22/anipose/pose_3d/2024-11-22_10-18-07_3d.csv\n"
     ]
    },
    {
     "name": "stderr",
     "output_type": "stream",
     "text": [
      "100%|██████████████████████████| 15729/15729 [01:06<00:00, 236.09it/s]\n"
     ]
    },
    {
     "name": "stdout",
     "output_type": "stream",
     "text": [
      "/home/yiting/Documents/Analysis/2024-11-22/anipose/pose_3d/2024-11-22_10-18-21_3d.csv\n"
     ]
    },
    {
     "name": "stderr",
     "output_type": "stream",
     "text": [
      "100%|██████████████████████████| 12495/12495 [00:53<00:00, 234.75it/s]\n"
     ]
    },
    {
     "name": "stdout",
     "output_type": "stream",
     "text": [
      "/home/yiting/Documents/Analysis/2024-11-22/anipose/pose_3d/2024-11-22_10-18-34_3d.csv\n"
     ]
    },
    {
     "name": "stderr",
     "output_type": "stream",
     "text": [
      "100%|██████████████████████████| 15960/15960 [01:04<00:00, 247.78it/s]\n"
     ]
    },
    {
     "name": "stdout",
     "output_type": "stream",
     "text": [
      "/home/yiting/Documents/Analysis/2024-11-22/anipose/pose_3d/2024-11-22_10-18-48_3d.csv\n"
     ]
    },
    {
     "name": "stderr",
     "output_type": "stream",
     "text": [
      "100%|██████████████████████████| 16275/16275 [01:08<00:00, 236.07it/s]\n"
     ]
    },
    {
     "name": "stdout",
     "output_type": "stream",
     "text": [
      "/home/yiting/Documents/Analysis/2024-11-22/anipose/pose_3d/2024-11-22_10-19-02_3d.csv\n"
     ]
    },
    {
     "name": "stderr",
     "output_type": "stream",
     "text": [
      "100%|██████████████████████████| 12852/12852 [00:59<00:00, 215.10it/s]\n"
     ]
    },
    {
     "name": "stdout",
     "output_type": "stream",
     "text": [
      "/home/yiting/Documents/Analysis/2024-11-22/anipose/pose_3d/2024-11-22_10-19-14_3d.csv\n"
     ]
    },
    {
     "name": "stderr",
     "output_type": "stream",
     "text": [
      "100%|██████████████████████████| 13419/13419 [01:00<00:00, 221.55it/s]\n"
     ]
    },
    {
     "name": "stdout",
     "output_type": "stream",
     "text": [
      "/home/yiting/Documents/Analysis/2024-11-22/anipose/pose_3d/2024-11-22_10-19-27_3d.csv\n"
     ]
    },
    {
     "name": "stderr",
     "output_type": "stream",
     "text": [
      "100%|██████████████████████████| 16569/16569 [00:46<00:00, 356.02it/s]\n"
     ]
    },
    {
     "name": "stdout",
     "output_type": "stream",
     "text": [
      "/home/yiting/Documents/Analysis/2024-11-22/anipose/pose_3d/2024-11-22_10-19-41_3d.csv\n"
     ]
    },
    {
     "name": "stderr",
     "output_type": "stream",
     "text": [
      "100%|██████████████████████████| 15099/15099 [01:01<00:00, 246.31it/s]\n"
     ]
    },
    {
     "name": "stdout",
     "output_type": "stream",
     "text": [
      "/home/yiting/Documents/Analysis/2024-11-22/anipose/pose_3d/2024-11-22_10-19-57_3d.csv\n"
     ]
    },
    {
     "name": "stderr",
     "output_type": "stream",
     "text": [
      "100%|██████████████████████████| 14994/14994 [01:01<00:00, 242.18it/s]\n"
     ]
    },
    {
     "name": "stdout",
     "output_type": "stream",
     "text": [
      "/home/yiting/Documents/Analysis/2024-11-22/anipose/pose_3d/2024-11-22_10-20-11_3d.csv\n"
     ]
    },
    {
     "name": "stderr",
     "output_type": "stream",
     "text": [
      "100%|██████████████████████████| 11802/11802 [00:51<00:00, 226.98it/s]\n"
     ]
    },
    {
     "name": "stdout",
     "output_type": "stream",
     "text": [
      "/home/yiting/Documents/Analysis/2024-11-22/anipose/pose_3d/2024-11-22_10-20-24_3d.csv\n"
     ]
    },
    {
     "name": "stderr",
     "output_type": "stream",
     "text": [
      "100%|██████████████████████████| 12537/12537 [00:55<00:00, 227.14it/s]\n"
     ]
    },
    {
     "name": "stdout",
     "output_type": "stream",
     "text": [
      "/home/yiting/Documents/Analysis/2024-11-22/anipose/pose_3d/2024-11-22_10-20-37_3d.csv\n"
     ]
    },
    {
     "name": "stderr",
     "output_type": "stream",
     "text": [
      "100%|██████████████████████████| 15120/15120 [00:53<00:00, 284.77it/s]\n"
     ]
    },
    {
     "name": "stdout",
     "output_type": "stream",
     "text": [
      "/home/yiting/Documents/Analysis/2024-11-22/anipose/pose_3d/2024-11-22_10-20-50_3d.csv\n"
     ]
    },
    {
     "name": "stderr",
     "output_type": "stream",
     "text": [
      "100%|██████████████████████████| 12243/12243 [00:44<00:00, 276.70it/s]\n"
     ]
    },
    {
     "name": "stdout",
     "output_type": "stream",
     "text": [
      "/home/yiting/Documents/Analysis/2024-11-22/anipose/pose_3d/2024-11-22_10-21-01_3d.csv\n"
     ]
    },
    {
     "name": "stderr",
     "output_type": "stream",
     "text": [
      "100%|██████████████████████████| 11907/11907 [00:48<00:00, 244.25it/s]\n"
     ]
    },
    {
     "name": "stdout",
     "output_type": "stream",
     "text": [
      "/home/yiting/Documents/Analysis/2024-11-22/anipose/pose_3d/2024-11-22_10-21-14_3d.csv\n"
     ]
    },
    {
     "name": "stderr",
     "output_type": "stream",
     "text": [
      "100%|██████████████████████████| 15393/15393 [01:02<00:00, 246.56it/s]\n"
     ]
    },
    {
     "name": "stdout",
     "output_type": "stream",
     "text": [
      "/home/yiting/Documents/Analysis/2024-11-22/anipose/pose_3d/2024-11-22_10-21-29_3d.csv\n"
     ]
    },
    {
     "name": "stderr",
     "output_type": "stream",
     "text": [
      "100%|██████████████████████████| 15582/15582 [01:07<00:00, 230.08it/s]\n"
     ]
    },
    {
     "name": "stdout",
     "output_type": "stream",
     "text": [
      "/home/yiting/Documents/Analysis/2024-11-22/anipose/pose_3d/2024-11-22_10-21-44_3d.csv\n"
     ]
    },
    {
     "name": "stderr",
     "output_type": "stream",
     "text": [
      "100%|██████████████████████████| 15288/15288 [01:06<00:00, 230.99it/s]\n"
     ]
    },
    {
     "name": "stdout",
     "output_type": "stream",
     "text": [
      "/home/yiting/Documents/Analysis/2024-11-22/anipose/pose_3d/2024-11-22_10-21-57_3d.csv\n"
     ]
    },
    {
     "name": "stderr",
     "output_type": "stream",
     "text": [
      "100%|██████████████████████████| 12180/12180 [00:56<00:00, 215.66it/s]\n"
     ]
    },
    {
     "name": "stdout",
     "output_type": "stream",
     "text": [
      "/home/yiting/Documents/Analysis/2024-11-22/anipose/pose_3d/2024-11-22_10-22-09_3d.csv\n"
     ]
    },
    {
     "name": "stderr",
     "output_type": "stream",
     "text": [
      "100%|████████████████████████████| 9534/9534 [00:14<00:00, 649.19it/s]\n"
     ]
    },
    {
     "name": "stdout",
     "output_type": "stream",
     "text": [
      "/home/yiting/Documents/Analysis/2024-11-22/anipose/pose_3d/2024-11-22_10-22-20_3d.csv\n"
     ]
    },
    {
     "name": "stderr",
     "output_type": "stream",
     "text": [
      "100%|████████████████████████████| 9681/9681 [00:12<00:00, 803.78it/s]\n"
     ]
    },
    {
     "name": "stdout",
     "output_type": "stream",
     "text": [
      "/home/yiting/Documents/Analysis/2024-11-22/anipose/pose_3d/2024-11-22_10-22-30_3d.csv\n"
     ]
    },
    {
     "name": "stderr",
     "output_type": "stream",
     "text": [
      "100%|████████████████████████████| 9912/9912 [00:11<00:00, 831.59it/s]\n"
     ]
    },
    {
     "name": "stdout",
     "output_type": "stream",
     "text": [
      "/home/yiting/Documents/Analysis/2024-11-22/anipose/pose_3d/2024-11-22_10-22-40_3d.csv\n"
     ]
    },
    {
     "name": "stderr",
     "output_type": "stream",
     "text": [
      "100%|██████████████████████████| 10206/10206 [00:13<00:00, 766.05it/s]\n"
     ]
    },
    {
     "name": "stdout",
     "output_type": "stream",
     "text": [
      "/home/yiting/Documents/Analysis/2024-11-22/anipose/pose_3d/2024-11-22_10-22-51_3d.csv\n"
     ]
    },
    {
     "name": "stderr",
     "output_type": "stream",
     "text": [
      "100%|████████████████████████████| 9933/9933 [00:16<00:00, 587.79it/s]\n"
     ]
    },
    {
     "name": "stdout",
     "output_type": "stream",
     "text": [
      "/home/yiting/Documents/Analysis/2024-11-22/anipose/pose_3d/2024-11-22_10-23-01_3d.csv\n"
     ]
    },
    {
     "name": "stderr",
     "output_type": "stream",
     "text": [
      "100%|██████████████████████████| 10227/10227 [00:12<00:00, 827.86it/s]\n"
     ]
    },
    {
     "name": "stdout",
     "output_type": "stream",
     "text": [
      "/home/yiting/Documents/Analysis/2024-11-22/anipose/pose_3d/2024-11-22_10-23-12_3d.csv\n"
     ]
    },
    {
     "name": "stderr",
     "output_type": "stream",
     "text": [
      "100%|████████████████████████████| 9450/9450 [00:11<00:00, 843.95it/s]\n"
     ]
    },
    {
     "name": "stdout",
     "output_type": "stream",
     "text": [
      "/home/yiting/Documents/Analysis/2024-11-22/anipose/pose_3d/2024-11-22_10-23-22_3d.csv\n"
     ]
    },
    {
     "name": "stderr",
     "output_type": "stream",
     "text": [
      "100%|███████████████████████████| 9345/9345 [00:09<00:00, 1023.92it/s]\n"
     ]
    },
    {
     "name": "stdout",
     "output_type": "stream",
     "text": [
      "/home/yiting/Documents/Analysis/2024-11-22/anipose/pose_3d/2024-11-22_10-23-32_3d.csv\n"
     ]
    },
    {
     "name": "stderr",
     "output_type": "stream",
     "text": [
      "100%|████████████████████████████| 9408/9408 [00:09<00:00, 953.09it/s]\n"
     ]
    },
    {
     "name": "stdout",
     "output_type": "stream",
     "text": [
      "/home/yiting/Documents/Analysis/2024-11-22/anipose/pose_3d/2024-11-22_10-23-42_3d.csv\n"
     ]
    },
    {
     "name": "stderr",
     "output_type": "stream",
     "text": [
      "100%|██████████████████████████| 10185/10185 [00:11<00:00, 901.13it/s]\n"
     ]
    },
    {
     "name": "stdout",
     "output_type": "stream",
     "text": [
      "/home/yiting/Documents/Analysis/2024-11-22/anipose/pose_3d/2024-11-22_10-23-53_3d.csv\n"
     ]
    },
    {
     "name": "stderr",
     "output_type": "stream",
     "text": [
      "100%|████████████████████████████| 9807/9807 [00:10<00:00, 956.07it/s]\n"
     ]
    },
    {
     "name": "stdout",
     "output_type": "stream",
     "text": [
      "/home/yiting/Documents/Analysis/2024-11-22/anipose/pose_3d/2024-11-22_10-34-32_3d.csv\n"
     ]
    },
    {
     "name": "stderr",
     "output_type": "stream",
     "text": [
      "100%|████████████████████████████| 9933/9933 [00:12<00:00, 772.78it/s]\n"
     ]
    },
    {
     "name": "stdout",
     "output_type": "stream",
     "text": [
      "/home/yiting/Documents/Analysis/2024-11-22/anipose/pose_3d/2024-11-22_10-34-42_3d.csv\n"
     ]
    },
    {
     "name": "stderr",
     "output_type": "stream",
     "text": [
      "100%|██████████████████████████| 13608/13608 [00:52<00:00, 260.48it/s]\n"
     ]
    },
    {
     "name": "stdout",
     "output_type": "stream",
     "text": [
      "/home/yiting/Documents/Analysis/2024-11-22/anipose/pose_3d/2024-11-22_10-34-54_3d.csv\n"
     ]
    },
    {
     "name": "stderr",
     "output_type": "stream",
     "text": [
      "100%|██████████████████████████| 16422/16422 [00:58<00:00, 282.41it/s]\n"
     ]
    },
    {
     "name": "stdout",
     "output_type": "stream",
     "text": [
      "/home/yiting/Documents/Analysis/2024-11-22/anipose/pose_3d/2024-11-22_10-35-08_3d.csv\n"
     ]
    },
    {
     "name": "stderr",
     "output_type": "stream",
     "text": [
      "100%|██████████████████████████| 15435/15435 [01:03<00:00, 244.62it/s]\n"
     ]
    },
    {
     "name": "stdout",
     "output_type": "stream",
     "text": [
      "/home/yiting/Documents/Analysis/2024-11-22/anipose/pose_3d/2024-11-22_10-35-22_3d.csv\n"
     ]
    },
    {
     "name": "stderr",
     "output_type": "stream",
     "text": [
      "100%|██████████████████████████| 15477/15477 [00:58<00:00, 265.41it/s]\n"
     ]
    },
    {
     "name": "stdout",
     "output_type": "stream",
     "text": [
      "/home/yiting/Documents/Analysis/2024-11-22/anipose/pose_3d/2024-11-22_10-35-36_3d.csv\n"
     ]
    },
    {
     "name": "stderr",
     "output_type": "stream",
     "text": [
      "100%|██████████████████████████| 15834/15834 [01:07<00:00, 235.28it/s]\n"
     ]
    },
    {
     "name": "stdout",
     "output_type": "stream",
     "text": [
      "/home/yiting/Documents/Analysis/2024-11-22/anipose/pose_3d/2024-11-22_10-35-51_3d.csv\n"
     ]
    },
    {
     "name": "stderr",
     "output_type": "stream",
     "text": [
      "100%|██████████████████████████| 12936/12936 [00:56<00:00, 227.94it/s]\n"
     ]
    },
    {
     "name": "stdout",
     "output_type": "stream",
     "text": [
      "/home/yiting/Documents/Analysis/2024-11-22/anipose/pose_3d/2024-11-22_10-36-03_3d.csv\n"
     ]
    },
    {
     "name": "stderr",
     "output_type": "stream",
     "text": [
      "100%|██████████████████████████| 15876/15876 [00:54<00:00, 288.73it/s]\n"
     ]
    },
    {
     "name": "stdout",
     "output_type": "stream",
     "text": [
      "/home/yiting/Documents/Analysis/2024-11-22/anipose/pose_3d/2024-11-22_10-36-18_3d.csv\n"
     ]
    },
    {
     "name": "stderr",
     "output_type": "stream",
     "text": [
      "100%|██████████████████████████| 15666/15666 [01:00<00:00, 260.52it/s]\n"
     ]
    },
    {
     "name": "stdout",
     "output_type": "stream",
     "text": [
      "/home/yiting/Documents/Analysis/2024-11-22/anipose/pose_3d/2024-11-22_10-36-32_3d.csv\n"
     ]
    },
    {
     "name": "stderr",
     "output_type": "stream",
     "text": [
      "100%|██████████████████████████| 15246/15246 [00:53<00:00, 283.26it/s]\n"
     ]
    },
    {
     "name": "stdout",
     "output_type": "stream",
     "text": [
      "/home/yiting/Documents/Analysis/2024-11-22/anipose/pose_3d/2024-11-22_10-36-46_3d.csv\n"
     ]
    },
    {
     "name": "stderr",
     "output_type": "stream",
     "text": [
      "100%|██████████████████████████| 13629/13629 [01:02<00:00, 216.52it/s]\n"
     ]
    },
    {
     "name": "stdout",
     "output_type": "stream",
     "text": [
      "/home/yiting/Documents/Analysis/2024-11-22/anipose/pose_3d/2024-11-22_10-36-58_3d.csv\n"
     ]
    },
    {
     "name": "stderr",
     "output_type": "stream",
     "text": [
      "100%|██████████████████████████| 12474/12474 [00:55<00:00, 224.27it/s]\n"
     ]
    },
    {
     "name": "stdout",
     "output_type": "stream",
     "text": [
      "/home/yiting/Documents/Analysis/2024-11-22/anipose/pose_3d/2024-11-22_10-37-10_3d.csv\n"
     ]
    },
    {
     "name": "stderr",
     "output_type": "stream",
     "text": [
      "100%|██████████████████████████| 13923/13923 [00:57<00:00, 241.29it/s]\n"
     ]
    },
    {
     "name": "stdout",
     "output_type": "stream",
     "text": [
      "/home/yiting/Documents/Analysis/2024-11-22/anipose/pose_3d/2024-11-22_10-37-24_3d.csv\n"
     ]
    },
    {
     "name": "stderr",
     "output_type": "stream",
     "text": [
      "100%|██████████████████████████| 16002/16002 [01:04<00:00, 249.99it/s]\n"
     ]
    },
    {
     "name": "stdout",
     "output_type": "stream",
     "text": [
      "/home/yiting/Documents/Analysis/2024-11-22/anipose/pose_3d/2024-11-22_10-37-38_3d.csv\n"
     ]
    },
    {
     "name": "stderr",
     "output_type": "stream",
     "text": [
      "100%|██████████████████████████| 13293/13293 [00:52<00:00, 255.19it/s]\n"
     ]
    },
    {
     "name": "stdout",
     "output_type": "stream",
     "text": [
      "/home/yiting/Documents/Analysis/2024-11-22/anipose/pose_3d/2024-11-22_10-37-52_3d.csv\n"
     ]
    },
    {
     "name": "stderr",
     "output_type": "stream",
     "text": [
      "100%|██████████████████████████| 15204/15204 [01:07<00:00, 225.53it/s]\n"
     ]
    },
    {
     "name": "stdout",
     "output_type": "stream",
     "text": [
      "/home/yiting/Documents/Analysis/2024-11-22/anipose/pose_3d/2024-11-22_10-38-06_3d.csv\n"
     ]
    },
    {
     "name": "stderr",
     "output_type": "stream",
     "text": [
      "100%|██████████████████████████| 14049/14049 [01:04<00:00, 216.74it/s]\n"
     ]
    },
    {
     "name": "stdout",
     "output_type": "stream",
     "text": [
      "/home/yiting/Documents/Analysis/2024-11-22/anipose/pose_3d/2024-11-22_10-38-19_3d.csv\n"
     ]
    },
    {
     "name": "stderr",
     "output_type": "stream",
     "text": [
      "100%|██████████████████████████| 12747/12747 [00:57<00:00, 222.36it/s]\n"
     ]
    },
    {
     "name": "stdout",
     "output_type": "stream",
     "text": [
      "/home/yiting/Documents/Analysis/2024-11-22/anipose/pose_3d/2024-11-22_10-38-31_3d.csv\n"
     ]
    },
    {
     "name": "stderr",
     "output_type": "stream",
     "text": [
      "100%|██████████████████████████| 16779/16779 [01:06<00:00, 254.13it/s]\n"
     ]
    },
    {
     "name": "stdout",
     "output_type": "stream",
     "text": [
      "/home/yiting/Documents/Analysis/2024-11-22/anipose/pose_3d/2024-11-22_10-38-46_3d.csv\n"
     ]
    },
    {
     "name": "stderr",
     "output_type": "stream",
     "text": [
      "100%|██████████████████████████| 16086/16086 [01:07<00:00, 238.98it/s]\n"
     ]
    },
    {
     "name": "stdout",
     "output_type": "stream",
     "text": [
      "/home/yiting/Documents/Analysis/2024-11-22/anipose/pose_3d/2024-11-22_10-38-59_3d.csv\n"
     ]
    },
    {
     "name": "stderr",
     "output_type": "stream",
     "text": [
      "100%|██████████████████████████| 12831/12831 [00:59<00:00, 217.28it/s]\n"
     ]
    },
    {
     "name": "stdout",
     "output_type": "stream",
     "text": [
      "/home/yiting/Documents/Analysis/2024-11-22/anipose/pose_3d/2024-11-22_10-39-11_3d.csv\n"
     ]
    },
    {
     "name": "stderr",
     "output_type": "stream",
     "text": [
      "100%|██████████████████████████| 14994/14994 [01:04<00:00, 231.68it/s]\n"
     ]
    },
    {
     "name": "stdout",
     "output_type": "stream",
     "text": [
      "/home/yiting/Documents/Analysis/2024-11-22/anipose/pose_3d/2024-11-22_10-39-25_3d.csv\n"
     ]
    },
    {
     "name": "stderr",
     "output_type": "stream",
     "text": [
      "100%|██████████████████████████| 16842/16842 [00:54<00:00, 311.76it/s]\n"
     ]
    },
    {
     "name": "stdout",
     "output_type": "stream",
     "text": [
      "/home/yiting/Documents/Analysis/2024-11-22/anipose/pose_3d/2024-11-22_10-39-39_3d.csv\n"
     ]
    },
    {
     "name": "stderr",
     "output_type": "stream",
     "text": [
      "100%|██████████████████████████| 17808/17808 [00:47<00:00, 377.30it/s]\n"
     ]
    },
    {
     "name": "stdout",
     "output_type": "stream",
     "text": [
      "/home/yiting/Documents/Analysis/2024-11-22/anipose/pose_3d/2024-11-22_10-39-53_3d.csv\n"
     ]
    },
    {
     "name": "stderr",
     "output_type": "stream",
     "text": [
      "100%|██████████████████████████| 13755/13755 [00:41<00:00, 329.64it/s]\n"
     ]
    },
    {
     "name": "stdout",
     "output_type": "stream",
     "text": [
      "/home/yiting/Documents/Analysis/2024-11-22/anipose/pose_3d/2024-11-22_10-40-06_3d.csv\n"
     ]
    },
    {
     "name": "stderr",
     "output_type": "stream",
     "text": [
      "100%|██████████████████████████| 16107/16107 [01:05<00:00, 247.49it/s]\n"
     ]
    },
    {
     "name": "stdout",
     "output_type": "stream",
     "text": [
      "/home/yiting/Documents/Analysis/2024-11-22/anipose/pose_3d/2024-11-22_10-40-20_3d.csv\n"
     ]
    },
    {
     "name": "stderr",
     "output_type": "stream",
     "text": [
      "100%|██████████████████████████| 12180/12180 [00:53<00:00, 229.66it/s]\n"
     ]
    },
    {
     "name": "stdout",
     "output_type": "stream",
     "text": [
      "/home/yiting/Documents/Analysis/2024-11-22/anipose/pose_3d/2024-11-22_10-40-32_3d.csv\n"
     ]
    },
    {
     "name": "stderr",
     "output_type": "stream",
     "text": [
      "100%|██████████████████████████| 15036/15036 [01:08<00:00, 218.74it/s]\n"
     ]
    },
    {
     "name": "stdout",
     "output_type": "stream",
     "text": [
      "/home/yiting/Documents/Analysis/2024-11-22/anipose/pose_3d/2024-11-22_10-40-44_3d.csv\n"
     ]
    },
    {
     "name": "stderr",
     "output_type": "stream",
     "text": [
      "100%|██████████████████████████| 12453/12453 [00:55<00:00, 222.74it/s]\n"
     ]
    },
    {
     "name": "stdout",
     "output_type": "stream",
     "text": [
      "/home/yiting/Documents/Analysis/2024-11-22/anipose/pose_3d/2024-11-22_10-40-58_3d.csv\n"
     ]
    },
    {
     "name": "stderr",
     "output_type": "stream",
     "text": [
      "100%|██████████████████████████| 16128/16128 [01:02<00:00, 257.57it/s]\n"
     ]
    },
    {
     "name": "stdout",
     "output_type": "stream",
     "text": [
      "/home/yiting/Documents/Analysis/2024-11-22/anipose/pose_3d/2024-11-22_10-41-12_3d.csv\n"
     ]
    },
    {
     "name": "stderr",
     "output_type": "stream",
     "text": [
      "100%|██████████████████████████| 14511/14511 [01:01<00:00, 237.24it/s]\n"
     ]
    },
    {
     "name": "stdout",
     "output_type": "stream",
     "text": [
      "/home/yiting/Documents/Analysis/2024-11-22/anipose/pose_3d/2024-11-22_10-41-26_3d.csv\n"
     ]
    },
    {
     "name": "stderr",
     "output_type": "stream",
     "text": [
      "100%|██████████████████████████| 19068/19068 [01:19<00:00, 238.85it/s]\n"
     ]
    },
    {
     "name": "stdout",
     "output_type": "stream",
     "text": [
      "/home/yiting/Documents/Analysis/2024-11-22/anipose/pose_3d/2024-11-22_10-41-41_3d.csv\n"
     ]
    },
    {
     "name": "stderr",
     "output_type": "stream",
     "text": [
      "100%|██████████████████████████| 16254/16254 [00:56<00:00, 287.02it/s]\n"
     ]
    },
    {
     "name": "stdout",
     "output_type": "stream",
     "text": [
      "/home/yiting/Documents/Analysis/2024-11-22/anipose/pose_3d/2024-11-22_10-41-55_3d.csv\n"
     ]
    },
    {
     "name": "stderr",
     "output_type": "stream",
     "text": [
      "100%|██████████████████████████| 16002/16002 [01:00<00:00, 266.56it/s]\n"
     ]
    },
    {
     "name": "stdout",
     "output_type": "stream",
     "text": [
      "/home/yiting/Documents/Analysis/2024-11-22/anipose/pose_3d/2024-11-22_10-42-08_3d.csv\n"
     ]
    },
    {
     "name": "stderr",
     "output_type": "stream",
     "text": [
      "100%|██████████████████████████| 12411/12411 [00:48<00:00, 257.47it/s]\n"
     ]
    },
    {
     "name": "stdout",
     "output_type": "stream",
     "text": [
      "/home/yiting/Documents/Analysis/2024-11-22/anipose/pose_3d/2024-11-22_10-42-20_3d.csv\n"
     ]
    },
    {
     "name": "stderr",
     "output_type": "stream",
     "text": [
      "100%|██████████████████████████| 12201/12201 [00:49<00:00, 246.72it/s]\n"
     ]
    },
    {
     "name": "stdout",
     "output_type": "stream",
     "text": [
      "/home/yiting/Documents/Analysis/2024-11-22/anipose/pose_3d/2024-11-22_10-42-33_3d.csv\n"
     ]
    },
    {
     "name": "stderr",
     "output_type": "stream",
     "text": [
      "100%|██████████████████████████| 16737/16737 [01:15<00:00, 220.93it/s]\n"
     ]
    },
    {
     "name": "stdout",
     "output_type": "stream",
     "text": [
      "/home/yiting/Documents/Analysis/2024-11-22/anipose/pose_3d/2024-11-22_10-42-48_3d.csv\n"
     ]
    },
    {
     "name": "stderr",
     "output_type": "stream",
     "text": [
      "100%|██████████████████████████| 15225/15225 [01:07<00:00, 226.14it/s]\n"
     ]
    },
    {
     "name": "stdout",
     "output_type": "stream",
     "text": [
      "/home/yiting/Documents/Analysis/2024-11-22/anipose/pose_3d/2024-11-22_10-43-02_3d.csv\n"
     ]
    },
    {
     "name": "stderr",
     "output_type": "stream",
     "text": [
      "100%|██████████████████████████| 15246/15246 [00:52<00:00, 290.26it/s]\n"
     ]
    },
    {
     "name": "stdout",
     "output_type": "stream",
     "text": [
      "/home/yiting/Documents/Analysis/2024-11-22/anipose/pose_3d/2024-11-22_10-43-15_3d.csv\n"
     ]
    },
    {
     "name": "stderr",
     "output_type": "stream",
     "text": [
      "100%|██████████████████████████| 12453/12453 [00:53<00:00, 232.72it/s]\n"
     ]
    },
    {
     "name": "stdout",
     "output_type": "stream",
     "text": [
      "/home/yiting/Documents/Analysis/2024-11-22/anipose/pose_3d/2024-11-22_10-43-27_3d.csv\n"
     ]
    },
    {
     "name": "stderr",
     "output_type": "stream",
     "text": [
      "100%|██████████████████████████| 12012/12012 [00:51<00:00, 234.72it/s]\n"
     ]
    },
    {
     "name": "stdout",
     "output_type": "stream",
     "text": [
      "/home/yiting/Documents/Analysis/2024-11-22/anipose/pose_3d/2024-11-22_10-43-39_3d.csv\n"
     ]
    },
    {
     "name": "stderr",
     "output_type": "stream",
     "text": [
      "100%|██████████████████████████| 15498/15498 [01:04<00:00, 239.55it/s]\n"
     ]
    },
    {
     "name": "stdout",
     "output_type": "stream",
     "text": [
      "/home/yiting/Documents/Analysis/2024-11-22/anipose/pose_3d/2024-11-22_10-43-53_3d.csv\n"
     ]
    },
    {
     "name": "stderr",
     "output_type": "stream",
     "text": [
      "100%|██████████████████████████| 12243/12243 [00:56<00:00, 215.05it/s]\n"
     ]
    },
    {
     "name": "stdout",
     "output_type": "stream",
     "text": [
      "/home/yiting/Documents/Analysis/2024-11-22/anipose/pose_3d/2024-11-22_10-44-06_3d.csv\n"
     ]
    },
    {
     "name": "stderr",
     "output_type": "stream",
     "text": [
      "100%|██████████████████████████| 15267/15267 [01:12<00:00, 209.26it/s]\n"
     ]
    },
    {
     "name": "stdout",
     "output_type": "stream",
     "text": [
      "/home/yiting/Documents/Analysis/2024-11-22/anipose/pose_3d/2024-11-22_10-44-20_3d.csv\n"
     ]
    },
    {
     "name": "stderr",
     "output_type": "stream",
     "text": [
      "100%|██████████████████████████| 15687/15687 [01:09<00:00, 224.22it/s]\n"
     ]
    },
    {
     "name": "stdout",
     "output_type": "stream",
     "text": [
      "/home/yiting/Documents/Analysis/2024-11-22/anipose/pose_3d/2024-11-22_10-44-33_3d.csv\n"
     ]
    },
    {
     "name": "stderr",
     "output_type": "stream",
     "text": [
      "100%|██████████████████████████| 15120/15120 [01:01<00:00, 243.96it/s]\n"
     ]
    },
    {
     "name": "stdout",
     "output_type": "stream",
     "text": [
      "/home/yiting/Documents/Analysis/2024-11-22/anipose/pose_3d/2024-11-22_10-44-46_3d.csv\n"
     ]
    },
    {
     "name": "stderr",
     "output_type": "stream",
     "text": [
      "100%|██████████████████████████| 13041/13041 [01:02<00:00, 209.10it/s]\n"
     ]
    },
    {
     "name": "stdout",
     "output_type": "stream",
     "text": [
      "/home/yiting/Documents/Analysis/2024-11-22/anipose/pose_3d/2024-11-22_10-44-58_3d.csv\n"
     ]
    },
    {
     "name": "stderr",
     "output_type": "stream",
     "text": [
      "100%|██████████████████████████| 15729/15729 [01:10<00:00, 223.78it/s]\n"
     ]
    },
    {
     "name": "stdout",
     "output_type": "stream",
     "text": [
      "/home/yiting/Documents/Analysis/2024-11-22/anipose/pose_3d/2024-11-22_10-45-12_3d.csv\n"
     ]
    },
    {
     "name": "stderr",
     "output_type": "stream",
     "text": [
      "100%|██████████████████████████| 13356/13356 [01:10<00:00, 188.64it/s]\n"
     ]
    },
    {
     "name": "stdout",
     "output_type": "stream",
     "text": [
      "/home/yiting/Documents/Analysis/2024-11-22/anipose/pose_3d/2024-11-22_10-45-24_3d.csv\n"
     ]
    },
    {
     "name": "stderr",
     "output_type": "stream",
     "text": [
      "100%|██████████████████████████| 15918/15918 [00:57<00:00, 277.06it/s]\n"
     ]
    },
    {
     "name": "stdout",
     "output_type": "stream",
     "text": [
      "/home/yiting/Documents/Analysis/2024-11-22/anipose/pose_3d/2024-11-22_10-45-37_3d.csv\n"
     ]
    },
    {
     "name": "stderr",
     "output_type": "stream",
     "text": [
      "100%|██████████████████████████| 14868/14868 [01:06<00:00, 224.91it/s]\n"
     ]
    },
    {
     "name": "stdout",
     "output_type": "stream",
     "text": [
      "/home/yiting/Documents/Analysis/2024-11-22/anipose/pose_3d/2024-11-22_10-45-51_3d.csv\n"
     ]
    },
    {
     "name": "stderr",
     "output_type": "stream",
     "text": [
      "100%|██████████████████████████| 16296/16296 [01:18<00:00, 208.35it/s]\n"
     ]
    },
    {
     "name": "stdout",
     "output_type": "stream",
     "text": [
      "/home/yiting/Documents/Analysis/2024-11-22/anipose/pose_3d/2024-11-22_10-46-05_3d.csv\n"
     ]
    },
    {
     "name": "stderr",
     "output_type": "stream",
     "text": [
      "100%|██████████████████████████| 15183/15183 [01:05<00:00, 233.07it/s]\n"
     ]
    },
    {
     "name": "stdout",
     "output_type": "stream",
     "text": [
      "/home/yiting/Documents/Analysis/2024-11-22/anipose/pose_3d/2024-11-22_10-46-19_3d.csv\n"
     ]
    },
    {
     "name": "stderr",
     "output_type": "stream",
     "text": [
      "100%|██████████████████████████| 12096/12096 [00:55<00:00, 216.50it/s]\n"
     ]
    },
    {
     "name": "stdout",
     "output_type": "stream",
     "text": [
      "/home/yiting/Documents/Analysis/2024-11-22/anipose/pose_3d/2024-11-22_10-46-32_3d.csv\n"
     ]
    },
    {
     "name": "stderr",
     "output_type": "stream",
     "text": [
      "100%|██████████████████████████| 11529/11529 [00:53<00:00, 213.87it/s]\n"
     ]
    },
    {
     "name": "stdout",
     "output_type": "stream",
     "text": [
      "/home/yiting/Documents/Analysis/2024-11-22/anipose/pose_3d/2024-11-22_10-46-44_3d.csv\n"
     ]
    },
    {
     "name": "stderr",
     "output_type": "stream",
     "text": [
      "100%|██████████████████████████| 11970/11970 [00:55<00:00, 215.21it/s]\n"
     ]
    },
    {
     "name": "stdout",
     "output_type": "stream",
     "text": [
      "/home/yiting/Documents/Analysis/2024-11-22/anipose/pose_3d/2024-11-22_10-46-58_3d.csv\n"
     ]
    },
    {
     "name": "stderr",
     "output_type": "stream",
     "text": [
      "100%|██████████████████████████| 11046/11046 [00:54<00:00, 203.01it/s]\n"
     ]
    },
    {
     "name": "stdout",
     "output_type": "stream",
     "text": [
      "/home/yiting/Documents/Analysis/2024-11-22/anipose/pose_3d/2024-11-22_10-47-10_3d.csv\n"
     ]
    },
    {
     "name": "stderr",
     "output_type": "stream",
     "text": [
      "100%|██████████████████████████| 15351/15351 [01:12<00:00, 211.91it/s]\n"
     ]
    },
    {
     "name": "stdout",
     "output_type": "stream",
     "text": [
      "/home/yiting/Documents/Analysis/2024-11-22/anipose/pose_3d/2024-11-22_10-47-24_3d.csv\n"
     ]
    },
    {
     "name": "stderr",
     "output_type": "stream",
     "text": [
      "100%|██████████████████████████| 15960/15960 [00:56<00:00, 282.15it/s]\n"
     ]
    },
    {
     "name": "stdout",
     "output_type": "stream",
     "text": [
      "/home/yiting/Documents/Analysis/2024-11-22/anipose/pose_3d/2024-11-22_10-47-38_3d.csv\n"
     ]
    },
    {
     "name": "stderr",
     "output_type": "stream",
     "text": [
      "100%|██████████████████████████| 15225/15225 [01:11<00:00, 212.79it/s]\n"
     ]
    },
    {
     "name": "stdout",
     "output_type": "stream",
     "text": [
      "/home/yiting/Documents/Analysis/2024-11-22/anipose/pose_3d/2024-11-22_10-47-53_3d.csv\n"
     ]
    },
    {
     "name": "stderr",
     "output_type": "stream",
     "text": [
      "100%|██████████████████████████| 13104/13104 [01:05<00:00, 198.83it/s]\n"
     ]
    },
    {
     "name": "stdout",
     "output_type": "stream",
     "text": [
      "/home/yiting/Documents/Analysis/2024-11-22/anipose/pose_3d/2024-11-22_10-48-06_3d.csv\n"
     ]
    },
    {
     "name": "stderr",
     "output_type": "stream",
     "text": [
      "100%|██████████████████████████| 14175/14175 [01:01<00:00, 232.18it/s]\n"
     ]
    },
    {
     "name": "stdout",
     "output_type": "stream",
     "text": [
      "/home/yiting/Documents/Analysis/2024-11-22/anipose/pose_3d/2024-11-22_10-48-19_3d.csv\n"
     ]
    },
    {
     "name": "stderr",
     "output_type": "stream",
     "text": [
      "100%|██████████████████████████| 11655/11655 [00:50<00:00, 230.26it/s]\n"
     ]
    },
    {
     "name": "stdout",
     "output_type": "stream",
     "text": [
      "/home/yiting/Documents/Analysis/2024-11-22/anipose/pose_3d/2024-11-22_10-48-31_3d.csv\n"
     ]
    },
    {
     "name": "stderr",
     "output_type": "stream",
     "text": [
      "100%|██████████████████████████| 15414/15414 [00:55<00:00, 277.08it/s]\n"
     ]
    },
    {
     "name": "stdout",
     "output_type": "stream",
     "text": [
      "/home/yiting/Documents/Analysis/2024-11-22/anipose/pose_3d/2024-11-22_10-48-44_3d.csv\n"
     ]
    },
    {
     "name": "stderr",
     "output_type": "stream",
     "text": [
      "100%|██████████████████████████| 13356/13356 [00:44<00:00, 301.14it/s]\n"
     ]
    },
    {
     "name": "stdout",
     "output_type": "stream",
     "text": [
      "/home/yiting/Documents/Analysis/2024-11-22/anipose/pose_3d/2024-11-22_10-48-56_3d.csv\n"
     ]
    },
    {
     "name": "stderr",
     "output_type": "stream",
     "text": [
      "100%|██████████████████████████| 12306/12306 [00:54<00:00, 223.95it/s]\n"
     ]
    },
    {
     "name": "stdout",
     "output_type": "stream",
     "text": [
      "/home/yiting/Documents/Analysis/2024-11-22/anipose/pose_3d/2024-11-22_10-49-07_3d.csv\n"
     ]
    },
    {
     "name": "stderr",
     "output_type": "stream",
     "text": [
      "100%|██████████████████████████| 11172/11172 [00:46<00:00, 241.31it/s]\n"
     ]
    },
    {
     "name": "stdout",
     "output_type": "stream",
     "text": [
      "/home/yiting/Documents/Analysis/2024-11-22/anipose/pose_3d/2024-11-22_10-49-18_3d.csv\n"
     ]
    },
    {
     "name": "stderr",
     "output_type": "stream",
     "text": [
      "100%|██████████████████████████| 10983/10983 [00:47<00:00, 231.86it/s]\n"
     ]
    },
    {
     "name": "stdout",
     "output_type": "stream",
     "text": [
      "/home/yiting/Documents/Analysis/2024-11-22/anipose/pose_3d/2024-11-22_10-49-29_3d.csv\n"
     ]
    },
    {
     "name": "stderr",
     "output_type": "stream",
     "text": [
      "100%|██████████████████████████| 15918/15918 [01:20<00:00, 198.22it/s]\n"
     ]
    },
    {
     "name": "stdout",
     "output_type": "stream",
     "text": [
      "/home/yiting/Documents/Analysis/2024-11-22/anipose/pose_3d/2024-11-22_10-49-44_3d.csv\n"
     ]
    },
    {
     "name": "stderr",
     "output_type": "stream",
     "text": [
      "100%|██████████████████████████| 14826/14826 [01:02<00:00, 237.10it/s]\n"
     ]
    },
    {
     "name": "stdout",
     "output_type": "stream",
     "text": [
      "/home/yiting/Documents/Analysis/2024-11-22/anipose/pose_3d/2024-11-22_10-49-58_3d.csv\n"
     ]
    },
    {
     "name": "stderr",
     "output_type": "stream",
     "text": [
      "100%|██████████████████████████| 16569/16569 [01:24<00:00, 195.01it/s]\n"
     ]
    },
    {
     "name": "stdout",
     "output_type": "stream",
     "text": [
      "/home/yiting/Documents/Analysis/2024-11-22/anipose/pose_3d/2024-11-22_10-50-13_3d.csv\n"
     ]
    },
    {
     "name": "stderr",
     "output_type": "stream",
     "text": [
      "100%|██████████████████████████| 11991/11991 [00:56<00:00, 213.57it/s]\n"
     ]
    },
    {
     "name": "stdout",
     "output_type": "stream",
     "text": [
      "/home/yiting/Documents/Analysis/2024-11-22/anipose/pose_3d/2024-11-22_10-50-25_3d.csv\n"
     ]
    },
    {
     "name": "stderr",
     "output_type": "stream",
     "text": [
      "100%|██████████████████████████| 12054/12054 [01:00<00:00, 199.03it/s]\n"
     ]
    },
    {
     "name": "stdout",
     "output_type": "stream",
     "text": [
      "/home/yiting/Documents/Analysis/2024-11-22/anipose/pose_3d/2024-11-22_10-50-38_3d.csv\n"
     ]
    },
    {
     "name": "stderr",
     "output_type": "stream",
     "text": [
      "100%|██████████████████████████| 12285/12285 [01:04<00:00, 191.86it/s]\n"
     ]
    },
    {
     "name": "stdout",
     "output_type": "stream",
     "text": [
      "/home/yiting/Documents/Analysis/2024-11-22/anipose/pose_3d/2024-11-22_10-50-50_3d.csv\n"
     ]
    },
    {
     "name": "stderr",
     "output_type": "stream",
     "text": [
      "100%|██████████████████████████| 15351/15351 [00:56<00:00, 272.45it/s]\n"
     ]
    },
    {
     "name": "stdout",
     "output_type": "stream",
     "text": [
      "/home/yiting/Documents/Analysis/2024-11-22/anipose/pose_3d/2024-11-22_10-51-03_3d.csv\n"
     ]
    },
    {
     "name": "stderr",
     "output_type": "stream",
     "text": [
      "100%|██████████████████████████| 12600/12600 [00:58<00:00, 214.04it/s]\n"
     ]
    },
    {
     "name": "stdout",
     "output_type": "stream",
     "text": [
      "/home/yiting/Documents/Analysis/2024-11-22/anipose/pose_3d/2024-11-22_10-51-17_3d.csv\n"
     ]
    },
    {
     "name": "stderr",
     "output_type": "stream",
     "text": [
      "100%|██████████████████████████| 15036/15036 [01:06<00:00, 226.80it/s]\n"
     ]
    },
    {
     "name": "stdout",
     "output_type": "stream",
     "text": [
      "/home/yiting/Documents/Analysis/2024-11-22/anipose/pose_3d/2024-11-22_10-51-30_3d.csv\n"
     ]
    },
    {
     "name": "stderr",
     "output_type": "stream",
     "text": [
      "100%|██████████████████████████| 16002/16002 [01:05<00:00, 244.37it/s]\n"
     ]
    },
    {
     "name": "stdout",
     "output_type": "stream",
     "text": [
      "/home/yiting/Documents/Analysis/2024-11-22/anipose/pose_3d/2024-11-22_10-51-45_3d.csv\n"
     ]
    },
    {
     "name": "stderr",
     "output_type": "stream",
     "text": [
      "100%|██████████████████████████| 16569/16569 [01:19<00:00, 209.09it/s]\n"
     ]
    },
    {
     "name": "stdout",
     "output_type": "stream",
     "text": [
      "/home/yiting/Documents/Analysis/2024-11-22/anipose/pose_3d/2024-11-22_10-51-59_3d.csv\n"
     ]
    },
    {
     "name": "stderr",
     "output_type": "stream",
     "text": [
      "100%|████████████████████████████| 9702/9702 [00:15<00:00, 611.58it/s]\n"
     ]
    },
    {
     "name": "stdout",
     "output_type": "stream",
     "text": [
      "/home/yiting/Documents/Analysis/2024-11-22/anipose/pose_3d/2024-11-22_10-52-09_3d.csv\n"
     ]
    },
    {
     "name": "stderr",
     "output_type": "stream",
     "text": [
      "100%|██████████████████████████| 10206/10206 [00:17<00:00, 590.73it/s]\n"
     ]
    },
    {
     "name": "stdout",
     "output_type": "stream",
     "text": [
      "/home/yiting/Documents/Analysis/2024-11-22/anipose/pose_3d/2024-11-22_10-52-21_3d.csv\n"
     ]
    },
    {
     "name": "stderr",
     "output_type": "stream",
     "text": [
      "100%|████████████████████████████| 9807/9807 [00:12<00:00, 784.34it/s]\n"
     ]
    },
    {
     "name": "stdout",
     "output_type": "stream",
     "text": [
      "/home/yiting/Documents/Analysis/2024-11-22/anipose/pose_3d/2024-11-22_10-52-32_3d.csv\n"
     ]
    },
    {
     "name": "stderr",
     "output_type": "stream",
     "text": [
      "100%|██████████████████████████| 10962/10962 [00:21<00:00, 517.66it/s]\n"
     ]
    },
    {
     "name": "stdout",
     "output_type": "stream",
     "text": [
      "/home/yiting/Documents/Analysis/2024-11-22/anipose/pose_3d/2024-11-22_10-52-43_3d.csv\n"
     ]
    },
    {
     "name": "stderr",
     "output_type": "stream",
     "text": [
      "100%|████████████████████████████| 9555/9555 [00:16<00:00, 577.77it/s]\n"
     ]
    },
    {
     "name": "stdout",
     "output_type": "stream",
     "text": [
      "/home/yiting/Documents/Analysis/2024-11-22/anipose/pose_3d/2024-11-22_10-52-54_3d.csv\n"
     ]
    },
    {
     "name": "stderr",
     "output_type": "stream",
     "text": [
      "100%|██████████████████████████| 10269/10269 [00:15<00:00, 683.00it/s]\n"
     ]
    },
    {
     "name": "stdout",
     "output_type": "stream",
     "text": [
      "/home/yiting/Documents/Analysis/2024-11-22/anipose/pose_3d/2024-11-22_10-53-06_3d.csv\n"
     ]
    },
    {
     "name": "stderr",
     "output_type": "stream",
     "text": [
      "100%|████████████████████████████| 9513/9513 [00:14<00:00, 640.35it/s]\n"
     ]
    },
    {
     "name": "stdout",
     "output_type": "stream",
     "text": [
      "/home/yiting/Documents/Analysis/2024-11-22/anipose/pose_3d/2024-11-22_10-53-18_3d.csv\n"
     ]
    },
    {
     "name": "stderr",
     "output_type": "stream",
     "text": [
      "100%|██████████████████████████| 17010/17010 [00:55<00:00, 308.70it/s]\n"
     ]
    },
    {
     "name": "stdout",
     "output_type": "stream",
     "text": [
      "/home/yiting/Documents/Analysis/2024-11-22/anipose/pose_3d/2024-11-22_10-53-32_3d.csv\n"
     ]
    },
    {
     "name": "stderr",
     "output_type": "stream",
     "text": [
      "100%|██████████████████████████| 12537/12537 [00:48<00:00, 256.38it/s]\n"
     ]
    },
    {
     "name": "stdout",
     "output_type": "stream",
     "text": [
      "/home/yiting/Documents/Analysis/2024-11-22/anipose/pose_3d/2024-11-22_10-53-45_3d.csv\n"
     ]
    },
    {
     "name": "stderr",
     "output_type": "stream",
     "text": [
      "100%|██████████████████████████| 15582/15582 [01:05<00:00, 239.58it/s]\n"
     ]
    },
    {
     "name": "stdout",
     "output_type": "stream",
     "text": [
      "/home/yiting/Documents/Analysis/2024-11-22/anipose/pose_3d/2024-11-22_10-53-59_3d.csv\n"
     ]
    },
    {
     "name": "stderr",
     "output_type": "stream",
     "text": [
      "100%|██████████████████████████| 12705/12705 [01:01<00:00, 206.11it/s]\n"
     ]
    },
    {
     "name": "stdout",
     "output_type": "stream",
     "text": [
      "/home/yiting/Documents/Analysis/2024-11-22/anipose/pose_3d/2024-11-22_10-54-12_3d.csv\n"
     ]
    },
    {
     "name": "stderr",
     "output_type": "stream",
     "text": [
      "100%|██████████████████████████| 15288/15288 [00:45<00:00, 335.44it/s]\n"
     ]
    },
    {
     "name": "stdout",
     "output_type": "stream",
     "text": [
      "/home/yiting/Documents/Analysis/2024-11-22/anipose/pose_3d/2024-11-22_10-54-25_3d.csv\n"
     ]
    },
    {
     "name": "stderr",
     "output_type": "stream",
     "text": [
      "100%|██████████████████████████| 15834/15834 [01:12<00:00, 218.98it/s]\n"
     ]
    },
    {
     "name": "stdout",
     "output_type": "stream",
     "text": [
      "/home/yiting/Documents/Analysis/2024-11-22/anipose/pose_3d/2024-11-22_10-54-39_3d.csv\n"
     ]
    },
    {
     "name": "stderr",
     "output_type": "stream",
     "text": [
      "100%|██████████████████████████| 12411/12411 [01:01<00:00, 202.55it/s]\n"
     ]
    },
    {
     "name": "stdout",
     "output_type": "stream",
     "text": [
      "/home/yiting/Documents/Analysis/2024-11-22/anipose/pose_3d/2024-11-22_10-54-51_3d.csv\n"
     ]
    },
    {
     "name": "stderr",
     "output_type": "stream",
     "text": [
      "100%|██████████████████████████| 12579/12579 [00:58<00:00, 214.30it/s]\n"
     ]
    },
    {
     "name": "stdout",
     "output_type": "stream",
     "text": [
      "/home/yiting/Documents/Analysis/2024-11-22/anipose/pose_3d/2024-11-22_10-55-04_3d.csv\n"
     ]
    },
    {
     "name": "stderr",
     "output_type": "stream",
     "text": [
      "100%|██████████████████████████| 11739/11739 [00:51<00:00, 229.00it/s]\n"
     ]
    },
    {
     "name": "stdout",
     "output_type": "stream",
     "text": [
      "/home/yiting/Documents/Analysis/2024-11-22/anipose/pose_3d/2024-11-22_10-55-16_3d.csv\n"
     ]
    },
    {
     "name": "stderr",
     "output_type": "stream",
     "text": [
      "100%|██████████████████████████| 15267/15267 [01:05<00:00, 233.30it/s]\n"
     ]
    },
    {
     "name": "stdout",
     "output_type": "stream",
     "text": [
      "/home/yiting/Documents/Analysis/2024-11-22/anipose/pose_3d/2024-11-22_10-55-30_3d.csv\n"
     ]
    },
    {
     "name": "stderr",
     "output_type": "stream",
     "text": [
      "100%|██████████████████████████| 11697/11697 [00:51<00:00, 228.10it/s]\n"
     ]
    },
    {
     "name": "stdout",
     "output_type": "stream",
     "text": [
      "/home/yiting/Documents/Analysis/2024-11-22/anipose/pose_3d/2024-11-22_10-55-42_3d.csv\n"
     ]
    },
    {
     "name": "stderr",
     "output_type": "stream",
     "text": [
      "100%|██████████████████████████| 15183/15183 [00:56<00:00, 267.99it/s]\n"
     ]
    },
    {
     "name": "stdout",
     "output_type": "stream",
     "text": [
      "/home/yiting/Documents/Analysis/2024-11-22/anipose/pose_3d/2024-11-22_10-55-55_3d.csv\n"
     ]
    },
    {
     "name": "stderr",
     "output_type": "stream",
     "text": [
      "100%|██████████████████████████| 11676/11676 [00:50<00:00, 231.68it/s]\n"
     ]
    },
    {
     "name": "stdout",
     "output_type": "stream",
     "text": [
      "/home/yiting/Documents/Analysis/2024-11-22/anipose/pose_3d/2024-11-22_10-56-07_3d.csv\n"
     ]
    },
    {
     "name": "stderr",
     "output_type": "stream",
     "text": [
      "100%|██████████████████████████| 15141/15141 [01:08<00:00, 221.73it/s]\n"
     ]
    },
    {
     "name": "stdout",
     "output_type": "stream",
     "text": [
      "/home/yiting/Documents/Analysis/2024-11-22/anipose/pose_3d/2024-11-22_10-56-21_3d.csv\n"
     ]
    },
    {
     "name": "stderr",
     "output_type": "stream",
     "text": [
      "100%|██████████████████████████| 11025/11025 [00:50<00:00, 219.56it/s]\n"
     ]
    },
    {
     "name": "stdout",
     "output_type": "stream",
     "text": [
      "/home/yiting/Documents/Analysis/2024-11-22/anipose/pose_3d/2024-11-22_10-56-33_3d.csv\n"
     ]
    },
    {
     "name": "stderr",
     "output_type": "stream",
     "text": [
      "100%|██████████████████████████| 11949/11949 [00:57<00:00, 209.26it/s]\n"
     ]
    },
    {
     "name": "stdout",
     "output_type": "stream",
     "text": [
      "/home/yiting/Documents/Analysis/2024-11-22/anipose/pose_3d/2024-11-22_10-56-45_3d.csv\n"
     ]
    },
    {
     "name": "stderr",
     "output_type": "stream",
     "text": [
      "100%|██████████████████████████| 15267/15267 [01:12<00:00, 210.79it/s]\n"
     ]
    },
    {
     "name": "stdout",
     "output_type": "stream",
     "text": [
      "/home/yiting/Documents/Analysis/2024-11-22/anipose/pose_3d/2024-11-22_10-56-59_3d.csv\n"
     ]
    },
    {
     "name": "stderr",
     "output_type": "stream",
     "text": [
      "100%|██████████████████████████| 12705/12705 [01:01<00:00, 206.55it/s]\n"
     ]
    },
    {
     "name": "stdout",
     "output_type": "stream",
     "text": [
      "/home/yiting/Documents/Analysis/2024-11-22/anipose/pose_3d/2024-11-22_10-57-12_3d.csv\n"
     ]
    },
    {
     "name": "stderr",
     "output_type": "stream",
     "text": [
      "100%|██████████████████████████| 11550/11550 [00:54<00:00, 211.10it/s]\n"
     ]
    },
    {
     "name": "stdout",
     "output_type": "stream",
     "text": [
      "/home/yiting/Documents/Analysis/2024-11-22/anipose/pose_3d/2024-11-22_10-57-24_3d.csv\n"
     ]
    },
    {
     "name": "stderr",
     "output_type": "stream",
     "text": [
      "100%|██████████████████████████| 13146/13146 [01:00<00:00, 218.53it/s]\n"
     ]
    },
    {
     "name": "stdout",
     "output_type": "stream",
     "text": [
      "/home/yiting/Documents/Analysis/2024-11-22/anipose/pose_3d/2024-11-22_10-57-37_3d.csv\n"
     ]
    },
    {
     "name": "stderr",
     "output_type": "stream",
     "text": [
      "100%|██████████████████████████| 14364/14364 [01:03<00:00, 226.28it/s]\n"
     ]
    },
    {
     "name": "stdout",
     "output_type": "stream",
     "text": [
      "/home/yiting/Documents/Analysis/2024-11-22/anipose/pose_3d/2024-11-22_10-57-50_3d.csv\n"
     ]
    },
    {
     "name": "stderr",
     "output_type": "stream",
     "text": [
      "100%|██████████████████████████| 15666/15666 [01:05<00:00, 238.87it/s]\n"
     ]
    },
    {
     "name": "stdout",
     "output_type": "stream",
     "text": [
      "/home/yiting/Documents/Analysis/2024-11-22/anipose/pose_3d/2024-11-22_10-58-05_3d.csv\n"
     ]
    },
    {
     "name": "stderr",
     "output_type": "stream",
     "text": [
      "100%|██████████████████████████| 12159/12159 [01:00<00:00, 200.01it/s]\n"
     ]
    },
    {
     "name": "stdout",
     "output_type": "stream",
     "text": [
      "/home/yiting/Documents/Analysis/2024-11-22/anipose/pose_3d/2024-11-22_10-58-17_3d.csv\n"
     ]
    },
    {
     "name": "stderr",
     "output_type": "stream",
     "text": [
      "100%|██████████████████████████| 12474/12474 [01:00<00:00, 205.18it/s]\n"
     ]
    },
    {
     "name": "stdout",
     "output_type": "stream",
     "text": [
      "/home/yiting/Documents/Analysis/2024-11-22/anipose/pose_3d/2024-11-22_10-58-30_3d.csv\n"
     ]
    },
    {
     "name": "stderr",
     "output_type": "stream",
     "text": [
      "100%|██████████████████████████| 15792/15792 [01:11<00:00, 221.29it/s]\n"
     ]
    },
    {
     "name": "stdout",
     "output_type": "stream",
     "text": [
      "/home/yiting/Documents/Analysis/2024-11-22/anipose/pose_3d/2024-11-22_10-58-44_3d.csv\n"
     ]
    },
    {
     "name": "stderr",
     "output_type": "stream",
     "text": [
      "100%|██████████████████████████| 11403/11403 [00:54<00:00, 210.33it/s]\n"
     ]
    },
    {
     "name": "stdout",
     "output_type": "stream",
     "text": [
      "/home/yiting/Documents/Analysis/2024-11-22/anipose/pose_3d/2024-11-22_10-58-57_3d.csv\n"
     ]
    },
    {
     "name": "stderr",
     "output_type": "stream",
     "text": [
      "100%|██████████████████████████| 12852/12852 [00:53<00:00, 241.21it/s]\n"
     ]
    },
    {
     "name": "stdout",
     "output_type": "stream",
     "text": [
      "/home/yiting/Documents/Analysis/2024-11-22/anipose/pose_3d/2024-11-22_10-59-09_3d.csv\n"
     ]
    },
    {
     "name": "stderr",
     "output_type": "stream",
     "text": [
      "100%|██████████████████████████| 15267/15267 [01:14<00:00, 204.46it/s]\n"
     ]
    },
    {
     "name": "stdout",
     "output_type": "stream",
     "text": [
      "/home/yiting/Documents/Analysis/2024-11-22/anipose/pose_3d/2024-11-22_10-59-24_3d.csv\n"
     ]
    },
    {
     "name": "stderr",
     "output_type": "stream",
     "text": [
      "100%|██████████████████████████| 12495/12495 [00:56<00:00, 221.38it/s]\n"
     ]
    },
    {
     "name": "stdout",
     "output_type": "stream",
     "text": [
      "/home/yiting/Documents/Analysis/2024-11-22/anipose/pose_3d/2024-11-22_10-59-35_3d.csv\n"
     ]
    },
    {
     "name": "stderr",
     "output_type": "stream",
     "text": [
      "100%|██████████████████████████| 13041/13041 [00:56<00:00, 232.02it/s]\n"
     ]
    },
    {
     "name": "stdout",
     "output_type": "stream",
     "text": [
      "/home/yiting/Documents/Analysis/2024-11-22/anipose/pose_3d/2024-11-22_10-59-49_3d.csv\n"
     ]
    },
    {
     "name": "stderr",
     "output_type": "stream",
     "text": [
      "100%|██████████████████████████| 15834/15834 [01:08<00:00, 232.21it/s]\n"
     ]
    },
    {
     "name": "stdout",
     "output_type": "stream",
     "text": [
      "/home/yiting/Documents/Analysis/2024-11-22/anipose/pose_3d/2024-11-22_11-00-04_3d.csv\n"
     ]
    },
    {
     "name": "stderr",
     "output_type": "stream",
     "text": [
      "100%|██████████████████████████| 11613/11613 [00:53<00:00, 215.59it/s]\n"
     ]
    },
    {
     "name": "stdout",
     "output_type": "stream",
     "text": [
      "/home/yiting/Documents/Analysis/2024-11-22/anipose/pose_3d/2024-11-22_11-00-17_3d.csv\n"
     ]
    },
    {
     "name": "stderr",
     "output_type": "stream",
     "text": [
      "100%|██████████████████████████| 12558/12558 [00:55<00:00, 227.24it/s]\n"
     ]
    },
    {
     "name": "stdout",
     "output_type": "stream",
     "text": [
      "/home/yiting/Documents/Analysis/2024-11-22/anipose/pose_3d/2024-11-22_11-00-30_3d.csv\n"
     ]
    },
    {
     "name": "stderr",
     "output_type": "stream",
     "text": [
      "100%|██████████████████████████| 14931/14931 [01:04<00:00, 232.32it/s]\n"
     ]
    },
    {
     "name": "stdout",
     "output_type": "stream",
     "text": [
      "/home/yiting/Documents/Analysis/2024-11-22/anipose/pose_3d/2024-11-22_11-00-45_3d.csv\n"
     ]
    },
    {
     "name": "stderr",
     "output_type": "stream",
     "text": [
      "100%|██████████████████████████| 12243/12243 [01:00<00:00, 203.90it/s]\n"
     ]
    },
    {
     "name": "stdout",
     "output_type": "stream",
     "text": [
      "/home/yiting/Documents/Analysis/2024-11-22/anipose/pose_3d/2024-11-22_11-00-58_3d.csv\n"
     ]
    },
    {
     "name": "stderr",
     "output_type": "stream",
     "text": [
      "100%|██████████████████████████| 11466/11466 [00:47<00:00, 239.30it/s]\n"
     ]
    },
    {
     "name": "stdout",
     "output_type": "stream",
     "text": [
      "/home/yiting/Documents/Analysis/2024-11-22/anipose/pose_3d/2024-11-22_11-01-10_3d.csv\n"
     ]
    },
    {
     "name": "stderr",
     "output_type": "stream",
     "text": [
      "100%|██████████████████████████| 16821/16821 [01:09<00:00, 242.16it/s]\n"
     ]
    },
    {
     "name": "stdout",
     "output_type": "stream",
     "text": [
      "/home/yiting/Documents/Analysis/2024-11-22/anipose/pose_3d/2024-11-22_11-01-24_3d.csv\n"
     ]
    },
    {
     "name": "stderr",
     "output_type": "stream",
     "text": [
      "100%|██████████████████████████| 21777/21777 [01:12<00:00, 298.46it/s]\n"
     ]
    },
    {
     "name": "stdout",
     "output_type": "stream",
     "text": [
      "/home/yiting/Documents/Analysis/2024-11-22/anipose/pose_3d/2024-11-22_11-01-40_3d.csv\n"
     ]
    },
    {
     "name": "stderr",
     "output_type": "stream",
     "text": [
      "100%|██████████████████████████| 15960/15960 [01:16<00:00, 209.05it/s]\n"
     ]
    },
    {
     "name": "stdout",
     "output_type": "stream",
     "text": [
      "/home/yiting/Documents/Analysis/2024-11-22/anipose/pose_3d/2024-11-22_11-01-54_3d.csv\n"
     ]
    },
    {
     "name": "stderr",
     "output_type": "stream",
     "text": [
      "100%|██████████████████████████| 13104/13104 [01:03<00:00, 207.33it/s]\n"
     ]
    },
    {
     "name": "stdout",
     "output_type": "stream",
     "text": [
      "/home/yiting/Documents/Analysis/2024-11-22/anipose/pose_3d/2024-11-22_11-02-06_3d.csv\n"
     ]
    },
    {
     "name": "stderr",
     "output_type": "stream",
     "text": [
      "100%|██████████████████████████| 16338/16338 [01:12<00:00, 224.07it/s]\n"
     ]
    },
    {
     "name": "stdout",
     "output_type": "stream",
     "text": [
      "/home/yiting/Documents/Analysis/2024-11-22/anipose/pose_3d/2024-11-22_11-02-21_3d.csv\n"
     ]
    },
    {
     "name": "stderr",
     "output_type": "stream",
     "text": [
      "100%|██████████████████████████| 11487/11487 [00:52<00:00, 216.84it/s]\n"
     ]
    },
    {
     "name": "stdout",
     "output_type": "stream",
     "text": [
      "/home/yiting/Documents/Analysis/2024-11-22/anipose/pose_3d/2024-11-22_11-02-35_3d.csv\n"
     ]
    },
    {
     "name": "stderr",
     "output_type": "stream",
     "text": [
      "100%|██████████████████████████| 11865/11865 [00:54<00:00, 219.14it/s]\n"
     ]
    },
    {
     "name": "stdout",
     "output_type": "stream",
     "text": [
      "/home/yiting/Documents/Analysis/2024-11-22/anipose/pose_3d/2024-11-22_11-02-48_3d.csv\n"
     ]
    },
    {
     "name": "stderr",
     "output_type": "stream",
     "text": [
      "100%|██████████████████████████| 11697/11697 [00:51<00:00, 226.69it/s]\n"
     ]
    },
    {
     "name": "stdout",
     "output_type": "stream",
     "text": [
      "/home/yiting/Documents/Analysis/2024-11-22/anipose/pose_3d/2024-11-22_11-03-00_3d.csv\n"
     ]
    },
    {
     "name": "stderr",
     "output_type": "stream",
     "text": [
      "100%|██████████████████████████| 12453/12453 [00:58<00:00, 213.88it/s]\n"
     ]
    },
    {
     "name": "stdout",
     "output_type": "stream",
     "text": [
      "/home/yiting/Documents/Analysis/2024-11-22/anipose/pose_3d/2024-11-22_11-03-12_3d.csv\n"
     ]
    },
    {
     "name": "stderr",
     "output_type": "stream",
     "text": [
      "100%|██████████████████████████| 16947/16947 [01:17<00:00, 219.81it/s]\n"
     ]
    },
    {
     "name": "stdout",
     "output_type": "stream",
     "text": [
      "/home/yiting/Documents/Analysis/2024-11-22/anipose/pose_3d/2024-11-22_11-03-27_3d.csv\n"
     ]
    },
    {
     "name": "stderr",
     "output_type": "stream",
     "text": [
      "100%|██████████████████████████| 16590/16590 [01:09<00:00, 240.21it/s]\n"
     ]
    },
    {
     "name": "stdout",
     "output_type": "stream",
     "text": [
      "/home/yiting/Documents/Analysis/2024-11-22/anipose/pose_3d/2024-11-22_11-03-42_3d.csv\n"
     ]
    },
    {
     "name": "stderr",
     "output_type": "stream",
     "text": [
      "100%|██████████████████████████| 12243/12243 [00:55<00:00, 219.16it/s]\n"
     ]
    },
    {
     "name": "stdout",
     "output_type": "stream",
     "text": [
      "/home/yiting/Documents/Analysis/2024-11-22/anipose/pose_3d/2024-11-22_11-03-54_3d.csv\n"
     ]
    },
    {
     "name": "stderr",
     "output_type": "stream",
     "text": [
      "100%|██████████████████████████| 16296/16296 [01:14<00:00, 217.28it/s]\n"
     ]
    },
    {
     "name": "stdout",
     "output_type": "stream",
     "text": [
      "/home/yiting/Documents/Analysis/2024-11-22/anipose/pose_3d/2024-11-22_11-04-08_3d.csv\n"
     ]
    },
    {
     "name": "stderr",
     "output_type": "stream",
     "text": [
      "100%|██████████████████████████| 12117/12117 [00:58<00:00, 207.74it/s]\n"
     ]
    },
    {
     "name": "stdout",
     "output_type": "stream",
     "text": [
      "/home/yiting/Documents/Analysis/2024-11-22/anipose/pose_3d/2024-11-22_11-04-21_3d.csv\n"
     ]
    },
    {
     "name": "stderr",
     "output_type": "stream",
     "text": [
      "100%|██████████████████████████| 15792/15792 [00:55<00:00, 282.68it/s]\n"
     ]
    },
    {
     "name": "stdout",
     "output_type": "stream",
     "text": [
      "/home/yiting/Documents/Analysis/2024-11-22/anipose/pose_3d/2024-11-22_11-04-34_3d.csv\n"
     ]
    },
    {
     "name": "stderr",
     "output_type": "stream",
     "text": [
      "100%|██████████████████████████| 15498/15498 [01:05<00:00, 237.45it/s]\n"
     ]
    },
    {
     "name": "stdout",
     "output_type": "stream",
     "text": [
      "/home/yiting/Documents/Analysis/2024-11-22/anipose/pose_3d/2024-11-22_11-04-48_3d.csv\n"
     ]
    },
    {
     "name": "stderr",
     "output_type": "stream",
     "text": [
      "100%|██████████████████████████| 13482/13482 [00:49<00:00, 274.76it/s]\n"
     ]
    },
    {
     "name": "stdout",
     "output_type": "stream",
     "text": [
      "/home/yiting/Documents/Analysis/2024-11-22/anipose/pose_3d/2024-11-22_11-05-01_3d.csv\n"
     ]
    },
    {
     "name": "stderr",
     "output_type": "stream",
     "text": [
      "100%|██████████████████████████| 17220/17220 [01:16<00:00, 225.75it/s]\n"
     ]
    },
    {
     "name": "stdout",
     "output_type": "stream",
     "text": [
      "/home/yiting/Documents/Analysis/2024-11-22/anipose/pose_3d/2024-11-22_11-05-16_3d.csv\n"
     ]
    },
    {
     "name": "stderr",
     "output_type": "stream",
     "text": [
      "100%|██████████████████████████| 13608/13608 [01:02<00:00, 217.35it/s]\n"
     ]
    },
    {
     "name": "stdout",
     "output_type": "stream",
     "text": [
      "/home/yiting/Documents/Analysis/2024-11-22/anipose/pose_3d/2024-11-22_11-05-29_3d.csv\n"
     ]
    },
    {
     "name": "stderr",
     "output_type": "stream",
     "text": [
      "100%|██████████████████████████| 13314/13314 [01:01<00:00, 217.79it/s]\n"
     ]
    },
    {
     "name": "stdout",
     "output_type": "stream",
     "text": [
      "/home/yiting/Documents/Analysis/2024-11-22/anipose/pose_3d/2024-11-22_11-05-43_3d.csv\n"
     ]
    },
    {
     "name": "stderr",
     "output_type": "stream",
     "text": [
      "100%|██████████████████████████| 11886/11886 [00:59<00:00, 199.83it/s]\n"
     ]
    },
    {
     "name": "stdout",
     "output_type": "stream",
     "text": [
      "/home/yiting/Documents/Analysis/2024-11-22/anipose/pose_3d/2024-11-22_11-05-55_3d.csv\n"
     ]
    },
    {
     "name": "stderr",
     "output_type": "stream",
     "text": [
      "100%|██████████████████████████| 12579/12579 [01:03<00:00, 199.03it/s]\n"
     ]
    },
    {
     "name": "stdout",
     "output_type": "stream",
     "text": [
      "/home/yiting/Documents/Analysis/2024-11-22/anipose/pose_3d/2024-11-22_11-06-07_3d.csv\n"
     ]
    },
    {
     "name": "stderr",
     "output_type": "stream",
     "text": [
      "100%|██████████████████████████| 16905/16905 [01:12<00:00, 232.90it/s]\n"
     ]
    },
    {
     "name": "stdout",
     "output_type": "stream",
     "text": [
      "/home/yiting/Documents/Analysis/2024-11-22/anipose/pose_3d/2024-11-22_11-06-21_3d.csv\n"
     ]
    },
    {
     "name": "stderr",
     "output_type": "stream",
     "text": [
      "100%|██████████████████████████| 18228/18228 [01:05<00:00, 280.13it/s]\n"
     ]
    },
    {
     "name": "stdout",
     "output_type": "stream",
     "text": [
      "/home/yiting/Documents/Analysis/2024-11-22/anipose/pose_3d/2024-11-22_11-06-37_3d.csv\n"
     ]
    },
    {
     "name": "stderr",
     "output_type": "stream",
     "text": [
      "100%|██████████████████████████| 11760/11760 [00:59<00:00, 198.04it/s]\n"
     ]
    },
    {
     "name": "stdout",
     "output_type": "stream",
     "text": [
      "/home/yiting/Documents/Analysis/2024-11-22/anipose/pose_3d/2024-11-22_11-06-49_3d.csv\n"
     ]
    },
    {
     "name": "stderr",
     "output_type": "stream",
     "text": [
      "100%|██████████████████████████| 15876/15876 [00:50<00:00, 315.80it/s]\n"
     ]
    },
    {
     "name": "stdout",
     "output_type": "stream",
     "text": [
      "/home/yiting/Documents/Analysis/2024-11-22/anipose/pose_3d/2024-11-22_11-07-03_3d.csv\n"
     ]
    },
    {
     "name": "stderr",
     "output_type": "stream",
     "text": [
      "100%|██████████████████████████| 15729/15729 [01:04<00:00, 242.67it/s]\n"
     ]
    },
    {
     "name": "stdout",
     "output_type": "stream",
     "text": [
      "/home/yiting/Documents/Analysis/2024-11-22/anipose/pose_3d/2024-11-22_11-07-16_3d.csv\n"
     ]
    },
    {
     "name": "stderr",
     "output_type": "stream",
     "text": [
      "100%|██████████████████████████| 12789/12789 [01:00<00:00, 211.12it/s]\n"
     ]
    },
    {
     "name": "stdout",
     "output_type": "stream",
     "text": [
      "/home/yiting/Documents/Analysis/2024-11-22/anipose/pose_3d/2024-11-22_11-07-30_3d.csv\n"
     ]
    },
    {
     "name": "stderr",
     "output_type": "stream",
     "text": [
      "100%|██████████████████████████| 12747/12747 [01:00<00:00, 210.34it/s]\n"
     ]
    },
    {
     "name": "stdout",
     "output_type": "stream",
     "text": [
      "/home/yiting/Documents/Analysis/2024-11-22/anipose/pose_3d/2024-11-22_11-07-43_3d.csv\n"
     ]
    },
    {
     "name": "stderr",
     "output_type": "stream",
     "text": [
      "100%|██████████████████████████| 11970/11970 [00:55<00:00, 215.39it/s]\n"
     ]
    },
    {
     "name": "stdout",
     "output_type": "stream",
     "text": [
      "/home/yiting/Documents/Analysis/2024-11-22/anipose/pose_3d/2024-11-22_11-07-55_3d.csv\n"
     ]
    },
    {
     "name": "stderr",
     "output_type": "stream",
     "text": [
      "100%|██████████████████████████| 12306/12306 [00:55<00:00, 222.04it/s]\n"
     ]
    },
    {
     "name": "stdout",
     "output_type": "stream",
     "text": [
      "/home/yiting/Documents/Analysis/2024-11-22/anipose/pose_3d/2024-11-22_11-08-07_3d.csv\n"
     ]
    },
    {
     "name": "stderr",
     "output_type": "stream",
     "text": [
      "100%|██████████████████████████| 11340/11340 [00:53<00:00, 212.42it/s]\n"
     ]
    },
    {
     "name": "stdout",
     "output_type": "stream",
     "text": [
      "/home/yiting/Documents/Analysis/2024-11-22/anipose/pose_3d/2024-11-22_11-08-20_3d.csv\n"
     ]
    },
    {
     "name": "stderr",
     "output_type": "stream",
     "text": [
      "100%|██████████████████████████| 11592/11592 [00:50<00:00, 228.11it/s]\n"
     ]
    },
    {
     "name": "stdout",
     "output_type": "stream",
     "text": [
      "/home/yiting/Documents/Analysis/2024-11-22/anipose/pose_3d/2024-11-22_11-08-33_3d.csv\n"
     ]
    },
    {
     "name": "stderr",
     "output_type": "stream",
     "text": [
      "100%|██████████████████████████| 14826/14826 [00:49<00:00, 302.40it/s]\n"
     ]
    },
    {
     "name": "stdout",
     "output_type": "stream",
     "text": [
      "/home/yiting/Documents/Analysis/2024-11-22/anipose/pose_3d/2024-11-22_11-08-46_3d.csv\n"
     ]
    },
    {
     "name": "stderr",
     "output_type": "stream",
     "text": [
      "100%|██████████████████████████| 15456/15456 [01:04<00:00, 238.52it/s]\n"
     ]
    },
    {
     "name": "stdout",
     "output_type": "stream",
     "text": [
      "/home/yiting/Documents/Analysis/2024-11-22/anipose/pose_3d/2024-11-22_11-08-59_3d.csv\n"
     ]
    },
    {
     "name": "stderr",
     "output_type": "stream",
     "text": [
      "100%|██████████████████████████| 16632/16632 [01:11<00:00, 231.12it/s]\n"
     ]
    },
    {
     "name": "stdout",
     "output_type": "stream",
     "text": [
      "/home/yiting/Documents/Analysis/2024-11-22/anipose/pose_3d/2024-11-22_11-09-13_3d.csv\n"
     ]
    },
    {
     "name": "stderr",
     "output_type": "stream",
     "text": [
      "100%|██████████████████████████| 15603/15603 [01:09<00:00, 224.70it/s]\n"
     ]
    },
    {
     "name": "stdout",
     "output_type": "stream",
     "text": [
      "/home/yiting/Documents/Analysis/2024-11-22/anipose/pose_3d/2024-11-22_11-09-27_3d.csv\n"
     ]
    },
    {
     "name": "stderr",
     "output_type": "stream",
     "text": [
      "100%|██████████████████████████| 11613/11613 [00:50<00:00, 229.80it/s]\n"
     ]
    },
    {
     "name": "stdout",
     "output_type": "stream",
     "text": [
      "/home/yiting/Documents/Analysis/2024-11-22/anipose/pose_3d/2024-11-22_11-09-41_3d.csv\n"
     ]
    },
    {
     "name": "stderr",
     "output_type": "stream",
     "text": [
      "100%|██████████████████████████| 13125/13125 [00:58<00:00, 223.85it/s]\n"
     ]
    },
    {
     "name": "stdout",
     "output_type": "stream",
     "text": [
      "/home/yiting/Documents/Analysis/2024-11-22/anipose/pose_3d/2024-11-22_11-09-54_3d.csv\n"
     ]
    },
    {
     "name": "stderr",
     "output_type": "stream",
     "text": [
      "100%|██████████████████████████| 11907/11907 [00:59<00:00, 200.59it/s]\n"
     ]
    },
    {
     "name": "stdout",
     "output_type": "stream",
     "text": [
      "/home/yiting/Documents/Analysis/2024-11-22/anipose/pose_3d/2024-11-22_11-10-06_3d.csv\n"
     ]
    },
    {
     "name": "stderr",
     "output_type": "stream",
     "text": [
      "100%|██████████████████████████| 15351/15351 [01:02<00:00, 245.03it/s]\n"
     ]
    },
    {
     "name": "stdout",
     "output_type": "stream",
     "text": [
      "/home/yiting/Documents/Analysis/2024-11-22/anipose/pose_3d/2024-11-22_11-10-20_3d.csv\n"
     ]
    },
    {
     "name": "stderr",
     "output_type": "stream",
     "text": [
      "100%|██████████████████████████| 14868/14868 [00:49<00:00, 298.03it/s]\n"
     ]
    },
    {
     "name": "stdout",
     "output_type": "stream",
     "text": [
      "/home/yiting/Documents/Analysis/2024-11-22/anipose/pose_3d/2024-11-22_11-10-32_3d.csv\n"
     ]
    },
    {
     "name": "stderr",
     "output_type": "stream",
     "text": [
      "100%|██████████████████████████| 12726/12726 [00:48<00:00, 262.70it/s]\n"
     ]
    },
    {
     "name": "stdout",
     "output_type": "stream",
     "text": [
      "/home/yiting/Documents/Analysis/2024-11-22/anipose/pose_3d/2024-11-22_11-10-46_3d.csv\n"
     ]
    },
    {
     "name": "stderr",
     "output_type": "stream",
     "text": [
      "100%|██████████████████████████| 15750/15750 [01:08<00:00, 231.03it/s]\n"
     ]
    },
    {
     "name": "stdout",
     "output_type": "stream",
     "text": [
      "/home/yiting/Documents/Analysis/2024-11-22/anipose/pose_3d/2024-11-22_11-11-00_3d.csv\n"
     ]
    },
    {
     "name": "stderr",
     "output_type": "stream",
     "text": [
      "100%|██████████████████████████| 12054/12054 [00:50<00:00, 238.14it/s]\n"
     ]
    },
    {
     "name": "stdout",
     "output_type": "stream",
     "text": [
      "/home/yiting/Documents/Analysis/2024-11-22/anipose/pose_3d/2024-11-22_11-11-13_3d.csv\n"
     ]
    },
    {
     "name": "stderr",
     "output_type": "stream",
     "text": [
      "100%|██████████████████████████| 15351/15351 [01:03<00:00, 240.18it/s]\n"
     ]
    },
    {
     "name": "stdout",
     "output_type": "stream",
     "text": [
      "/home/yiting/Documents/Analysis/2024-11-22/anipose/pose_3d/2024-11-22_11-11-27_3d.csv\n"
     ]
    },
    {
     "name": "stderr",
     "output_type": "stream",
     "text": [
      "100%|██████████████████████████| 11613/11613 [00:54<00:00, 213.86it/s]\n"
     ]
    },
    {
     "name": "stdout",
     "output_type": "stream",
     "text": [
      "/home/yiting/Documents/Analysis/2024-11-22/anipose/pose_3d/2024-11-22_11-11-40_3d.csv\n"
     ]
    },
    {
     "name": "stderr",
     "output_type": "stream",
     "text": [
      "100%|██████████████████████████| 11424/11424 [00:53<00:00, 215.28it/s]\n"
     ]
    },
    {
     "name": "stdout",
     "output_type": "stream",
     "text": [
      "/home/yiting/Documents/Analysis/2024-11-22/anipose/pose_3d/2024-11-22_11-11-52_3d.csv\n"
     ]
    },
    {
     "name": "stderr",
     "output_type": "stream",
     "text": [
      "100%|██████████████████████████| 11340/11340 [00:53<00:00, 212.12it/s]\n"
     ]
    },
    {
     "name": "stdout",
     "output_type": "stream",
     "text": [
      "/home/yiting/Documents/Analysis/2024-11-22/anipose/pose_3d/2024-11-22_11-12-04_3d.csv\n"
     ]
    },
    {
     "name": "stderr",
     "output_type": "stream",
     "text": [
      "100%|██████████████████████████| 11760/11760 [00:50<00:00, 232.62it/s]\n"
     ]
    },
    {
     "name": "stdout",
     "output_type": "stream",
     "text": [
      "/home/yiting/Documents/Analysis/2024-11-22/anipose/pose_3d/2024-11-22_11-12-17_3d.csv\n"
     ]
    },
    {
     "name": "stderr",
     "output_type": "stream",
     "text": [
      "100%|██████████████████████████| 12159/12159 [00:55<00:00, 219.99it/s]\n"
     ]
    },
    {
     "name": "stdout",
     "output_type": "stream",
     "text": [
      "/home/yiting/Documents/Analysis/2024-11-22/anipose/pose_3d/2024-11-22_11-12-30_3d.csv\n"
     ]
    },
    {
     "name": "stderr",
     "output_type": "stream",
     "text": [
      "100%|██████████████████████████| 15813/15813 [01:09<00:00, 226.36it/s]\n"
     ]
    },
    {
     "name": "stdout",
     "output_type": "stream",
     "text": [
      "/home/yiting/Documents/Analysis/2024-11-22/anipose/pose_3d/2024-11-22_11-12-44_3d.csv\n"
     ]
    },
    {
     "name": "stderr",
     "output_type": "stream",
     "text": [
      "100%|██████████████████████████| 12159/12159 [00:44<00:00, 274.59it/s]\n"
     ]
    },
    {
     "name": "stdout",
     "output_type": "stream",
     "text": [
      "/home/yiting/Documents/Analysis/2024-11-22/anipose/pose_3d/2024-11-22_11-12-56_3d.csv\n"
     ]
    },
    {
     "name": "stderr",
     "output_type": "stream",
     "text": [
      "100%|████████████████████████████| 9660/9660 [00:17<00:00, 560.11it/s]\n"
     ]
    },
    {
     "name": "stdout",
     "output_type": "stream",
     "text": [
      "/home/yiting/Documents/Analysis/2024-11-22/anipose/pose_3d/2024-11-22_11-13-08_3d.csv\n"
     ]
    },
    {
     "name": "stderr",
     "output_type": "stream",
     "text": [
      "100%|██████████████████████████| 10290/10290 [00:13<00:00, 738.68it/s]\n"
     ]
    },
    {
     "name": "stdout",
     "output_type": "stream",
     "text": [
      "/home/yiting/Documents/Analysis/2024-11-22/anipose/pose_3d/2024-11-22_11-13-19_3d.csv\n"
     ]
    },
    {
     "name": "stderr",
     "output_type": "stream",
     "text": [
      "100%|████████████████████████████| 9408/9408 [00:18<00:00, 522.22it/s]\n"
     ]
    },
    {
     "name": "stdout",
     "output_type": "stream",
     "text": [
      "/home/yiting/Documents/Analysis/2024-11-22/anipose/pose_3d/2024-11-22_11-13-30_3d.csv\n"
     ]
    },
    {
     "name": "stderr",
     "output_type": "stream",
     "text": [
      "100%|████████████████████████████| 9450/9450 [00:14<00:00, 635.55it/s]\n"
     ]
    },
    {
     "name": "stdout",
     "output_type": "stream",
     "text": [
      "/home/yiting/Documents/Analysis/2024-11-22/anipose/pose_3d/2024-11-22_11-13-41_3d.csv\n"
     ]
    },
    {
     "name": "stderr",
     "output_type": "stream",
     "text": [
      "100%|████████████████████████████| 9681/9681 [00:19<00:00, 501.93it/s]\n"
     ]
    },
    {
     "name": "stdout",
     "output_type": "stream",
     "text": [
      "/home/yiting/Documents/Analysis/2024-11-22/anipose/pose_3d/2024-11-22_11-13-52_3d.csv\n"
     ]
    },
    {
     "name": "stderr",
     "output_type": "stream",
     "text": [
      "100%|██████████████████████████| 10752/10752 [00:16<00:00, 663.27it/s]\n"
     ]
    },
    {
     "name": "stdout",
     "output_type": "stream",
     "text": [
      "/home/yiting/Documents/Analysis/2024-11-22/anipose/pose_3d/2024-11-22_11-14-04_3d.csv\n"
     ]
    },
    {
     "name": "stderr",
     "output_type": "stream",
     "text": [
      "100%|████████████████████████████| 9702/9702 [00:19<00:00, 489.60it/s]\n"
     ]
    },
    {
     "name": "stdout",
     "output_type": "stream",
     "text": [
      "/home/yiting/Documents/Analysis/2024-11-22/anipose/pose_3d/2024-11-22_11-18-36_3d.csv\n"
     ]
    },
    {
     "name": "stderr",
     "output_type": "stream",
     "text": [
      "100%|██████████████████████████| 10395/10395 [00:24<00:00, 432.18it/s]\n"
     ]
    },
    {
     "name": "stdout",
     "output_type": "stream",
     "text": [
      "/home/yiting/Documents/Analysis/2024-11-22/anipose/pose_3d/2024-11-22_11-18-48_3d.csv\n"
     ]
    },
    {
     "name": "stderr",
     "output_type": "stream",
     "text": [
      "100%|██████████████████████████| 15267/15267 [01:11<00:00, 212.90it/s]\n"
     ]
    },
    {
     "name": "stdout",
     "output_type": "stream",
     "text": [
      "/home/yiting/Documents/Analysis/2024-11-22/anipose/pose_3d/2024-11-22_11-19-01_3d.csv\n"
     ]
    },
    {
     "name": "stderr",
     "output_type": "stream",
     "text": [
      "100%|██████████████████████████| 13167/13167 [01:02<00:00, 212.15it/s]\n"
     ]
    },
    {
     "name": "stdout",
     "output_type": "stream",
     "text": [
      "/home/yiting/Documents/Analysis/2024-11-22/anipose/pose_3d/2024-11-22_11-19-14_3d.csv\n"
     ]
    },
    {
     "name": "stderr",
     "output_type": "stream",
     "text": [
      "100%|██████████████████████████| 14406/14406 [01:04<00:00, 224.95it/s]\n"
     ]
    },
    {
     "name": "stdout",
     "output_type": "stream",
     "text": [
      "/home/yiting/Documents/Analysis/2024-11-22/anipose/pose_3d/2024-11-22_11-19-28_3d.csv\n"
     ]
    },
    {
     "name": "stderr",
     "output_type": "stream",
     "text": [
      "100%|██████████████████████████| 13734/13734 [00:59<00:00, 232.06it/s]\n"
     ]
    },
    {
     "name": "stdout",
     "output_type": "stream",
     "text": [
      "/home/yiting/Documents/Analysis/2024-11-22/anipose/pose_3d/2024-11-22_11-19-41_3d.csv\n"
     ]
    },
    {
     "name": "stderr",
     "output_type": "stream",
     "text": [
      "100%|██████████████████████████| 15498/15498 [00:59<00:00, 261.88it/s]\n"
     ]
    },
    {
     "name": "stdout",
     "output_type": "stream",
     "text": [
      "/home/yiting/Documents/Analysis/2024-11-22/anipose/pose_3d/2024-11-22_11-19-54_3d.csv\n"
     ]
    },
    {
     "name": "stderr",
     "output_type": "stream",
     "text": [
      "100%|██████████████████████████| 14931/14931 [01:10<00:00, 211.98it/s]\n"
     ]
    },
    {
     "name": "stdout",
     "output_type": "stream",
     "text": [
      "/home/yiting/Documents/Analysis/2024-11-22/anipose/pose_3d/2024-11-22_11-20-08_3d.csv\n"
     ]
    },
    {
     "name": "stderr",
     "output_type": "stream",
     "text": [
      "100%|██████████████████████████| 12747/12747 [00:57<00:00, 222.82it/s]\n"
     ]
    },
    {
     "name": "stdout",
     "output_type": "stream",
     "text": [
      "/home/yiting/Documents/Analysis/2024-11-22/anipose/pose_3d/2024-11-22_11-20-22_3d.csv\n"
     ]
    },
    {
     "name": "stderr",
     "output_type": "stream",
     "text": [
      "100%|██████████████████████████| 15519/15519 [01:07<00:00, 228.75it/s]\n"
     ]
    },
    {
     "name": "stdout",
     "output_type": "stream",
     "text": [
      "/home/yiting/Documents/Analysis/2024-11-22/anipose/pose_3d/2024-11-22_11-20-35_3d.csv\n"
     ]
    },
    {
     "name": "stderr",
     "output_type": "stream",
     "text": [
      "100%|██████████████████████████| 12432/12432 [01:02<00:00, 199.52it/s]\n"
     ]
    },
    {
     "name": "stdout",
     "output_type": "stream",
     "text": [
      "/home/yiting/Documents/Analysis/2024-11-22/anipose/pose_3d/2024-11-22_11-20-47_3d.csv\n"
     ]
    },
    {
     "name": "stderr",
     "output_type": "stream",
     "text": [
      "100%|██████████████████████████| 12306/12306 [00:59<00:00, 208.40it/s]\n"
     ]
    },
    {
     "name": "stdout",
     "output_type": "stream",
     "text": [
      "/home/yiting/Documents/Analysis/2024-11-22/anipose/pose_3d/2024-11-22_11-20-59_3d.csv\n"
     ]
    },
    {
     "name": "stderr",
     "output_type": "stream",
     "text": [
      "100%|██████████████████████████| 11886/11886 [00:57<00:00, 205.97it/s]\n"
     ]
    },
    {
     "name": "stdout",
     "output_type": "stream",
     "text": [
      "/home/yiting/Documents/Analysis/2024-11-22/anipose/pose_3d/2024-11-22_11-21-12_3d.csv\n"
     ]
    },
    {
     "name": "stderr",
     "output_type": "stream",
     "text": [
      "100%|██████████████████████████| 12978/12978 [00:49<00:00, 260.07it/s]\n"
     ]
    },
    {
     "name": "stdout",
     "output_type": "stream",
     "text": [
      "/home/yiting/Documents/Analysis/2024-11-22/anipose/pose_3d/2024-11-22_11-21-24_3d.csv\n"
     ]
    },
    {
     "name": "stderr",
     "output_type": "stream",
     "text": [
      "100%|██████████████████████████| 12222/12222 [00:53<00:00, 229.57it/s]\n"
     ]
    },
    {
     "name": "stdout",
     "output_type": "stream",
     "text": [
      "/home/yiting/Documents/Analysis/2024-11-22/anipose/pose_3d/2024-11-22_11-21-37_3d.csv\n"
     ]
    },
    {
     "name": "stderr",
     "output_type": "stream",
     "text": [
      "100%|██████████████████████████| 15918/15918 [01:08<00:00, 233.74it/s]\n"
     ]
    },
    {
     "name": "stdout",
     "output_type": "stream",
     "text": [
      "/home/yiting/Documents/Analysis/2024-11-22/anipose/pose_3d/2024-11-22_11-21-51_3d.csv\n"
     ]
    },
    {
     "name": "stderr",
     "output_type": "stream",
     "text": [
      "100%|██████████████████████████| 15855/15855 [00:56<00:00, 278.55it/s]\n"
     ]
    },
    {
     "name": "stdout",
     "output_type": "stream",
     "text": [
      "/home/yiting/Documents/Analysis/2024-11-22/anipose/pose_3d/2024-11-22_11-22-06_3d.csv\n"
     ]
    },
    {
     "name": "stderr",
     "output_type": "stream",
     "text": [
      "100%|██████████████████████████| 15603/15603 [01:13<00:00, 211.71it/s]\n"
     ]
    },
    {
     "name": "stdout",
     "output_type": "stream",
     "text": [
      "/home/yiting/Documents/Analysis/2024-11-22/anipose/pose_3d/2024-11-22_11-22-19_3d.csv\n"
     ]
    },
    {
     "name": "stderr",
     "output_type": "stream",
     "text": [
      "100%|██████████████████████████| 11571/11571 [00:53<00:00, 215.54it/s]\n"
     ]
    },
    {
     "name": "stdout",
     "output_type": "stream",
     "text": [
      "/home/yiting/Documents/Analysis/2024-11-22/anipose/pose_3d/2024-11-22_11-22-31_3d.csv\n"
     ]
    },
    {
     "name": "stderr",
     "output_type": "stream",
     "text": [
      "100%|██████████████████████████| 13839/13839 [01:02<00:00, 223.10it/s]\n"
     ]
    },
    {
     "name": "stdout",
     "output_type": "stream",
     "text": [
      "/home/yiting/Documents/Analysis/2024-11-22/anipose/pose_3d/2024-11-22_11-22-44_3d.csv\n"
     ]
    },
    {
     "name": "stderr",
     "output_type": "stream",
     "text": [
      "100%|██████████████████████████| 15246/15246 [01:08<00:00, 221.79it/s]\n"
     ]
    },
    {
     "name": "stdout",
     "output_type": "stream",
     "text": [
      "/home/yiting/Documents/Analysis/2024-11-22/anipose/pose_3d/2024-11-22_11-22-59_3d.csv\n"
     ]
    },
    {
     "name": "stderr",
     "output_type": "stream",
     "text": [
      "100%|██████████████████████████| 15897/15897 [01:11<00:00, 220.98it/s]\n"
     ]
    },
    {
     "name": "stdout",
     "output_type": "stream",
     "text": [
      "/home/yiting/Documents/Analysis/2024-11-22/anipose/pose_3d/2024-11-22_11-23-14_3d.csv\n"
     ]
    },
    {
     "name": "stderr",
     "output_type": "stream",
     "text": [
      "100%|██████████████████████████| 16611/16611 [01:06<00:00, 248.42it/s]\n"
     ]
    },
    {
     "name": "stdout",
     "output_type": "stream",
     "text": [
      "/home/yiting/Documents/Analysis/2024-11-22/anipose/pose_3d/2024-11-22_11-23-28_3d.csv\n"
     ]
    },
    {
     "name": "stderr",
     "output_type": "stream",
     "text": [
      "100%|██████████████████████████| 16779/16779 [01:08<00:00, 245.83it/s]\n"
     ]
    },
    {
     "name": "stdout",
     "output_type": "stream",
     "text": [
      "/home/yiting/Documents/Analysis/2024-11-22/anipose/pose_3d/2024-11-22_11-23-43_3d.csv\n"
     ]
    },
    {
     "name": "stderr",
     "output_type": "stream",
     "text": [
      "100%|██████████████████████████| 12075/12075 [00:52<00:00, 228.20it/s]\n"
     ]
    },
    {
     "name": "stdout",
     "output_type": "stream",
     "text": [
      "/home/yiting/Documents/Analysis/2024-11-22/anipose/pose_3d/2024-11-22_11-23-56_3d.csv\n"
     ]
    },
    {
     "name": "stderr",
     "output_type": "stream",
     "text": [
      "100%|██████████████████████████| 15540/15540 [01:10<00:00, 219.71it/s]\n"
     ]
    },
    {
     "name": "stdout",
     "output_type": "stream",
     "text": [
      "/home/yiting/Documents/Analysis/2024-11-22/anipose/pose_3d/2024-11-22_11-24-10_3d.csv\n"
     ]
    },
    {
     "name": "stderr",
     "output_type": "stream",
     "text": [
      "100%|██████████████████████████| 16233/16233 [00:59<00:00, 270.91it/s]\n"
     ]
    },
    {
     "name": "stdout",
     "output_type": "stream",
     "text": [
      "/home/yiting/Documents/Analysis/2024-11-22/anipose/pose_3d/2024-11-22_11-24-23_3d.csv\n"
     ]
    },
    {
     "name": "stderr",
     "output_type": "stream",
     "text": [
      "100%|██████████████████████████| 13986/13986 [00:57<00:00, 242.95it/s]\n"
     ]
    },
    {
     "name": "stdout",
     "output_type": "stream",
     "text": [
      "/home/yiting/Documents/Analysis/2024-11-22/anipose/pose_3d/2024-11-22_11-24-36_3d.csv\n"
     ]
    },
    {
     "name": "stderr",
     "output_type": "stream",
     "text": [
      "100%|██████████████████████████| 12726/12726 [00:50<00:00, 253.21it/s]\n"
     ]
    },
    {
     "name": "stdout",
     "output_type": "stream",
     "text": [
      "/home/yiting/Documents/Analysis/2024-11-22/anipose/pose_3d/2024-11-22_11-24-47_3d.csv\n"
     ]
    },
    {
     "name": "stderr",
     "output_type": "stream",
     "text": [
      "100%|██████████████████████████| 14406/14406 [01:04<00:00, 223.36it/s]\n"
     ]
    },
    {
     "name": "stdout",
     "output_type": "stream",
     "text": [
      "/home/yiting/Documents/Analysis/2024-11-22/anipose/pose_3d/2024-11-22_11-25-01_3d.csv\n"
     ]
    },
    {
     "name": "stderr",
     "output_type": "stream",
     "text": [
      "100%|██████████████████████████| 16926/16926 [01:17<00:00, 217.30it/s]\n"
     ]
    },
    {
     "name": "stdout",
     "output_type": "stream",
     "text": [
      "/home/yiting/Documents/Analysis/2024-11-22/anipose/pose_3d/2024-11-22_11-25-15_3d.csv\n"
     ]
    },
    {
     "name": "stderr",
     "output_type": "stream",
     "text": [
      "100%|██████████████████████████| 16149/16149 [01:07<00:00, 239.07it/s]\n"
     ]
    },
    {
     "name": "stdout",
     "output_type": "stream",
     "text": [
      "/home/yiting/Documents/Analysis/2024-11-22/anipose/pose_3d/2024-11-22_11-25-29_3d.csv\n"
     ]
    },
    {
     "name": "stderr",
     "output_type": "stream",
     "text": [
      "100%|██████████████████████████| 16338/16338 [01:05<00:00, 250.72it/s]\n"
     ]
    },
    {
     "name": "stdout",
     "output_type": "stream",
     "text": [
      "/home/yiting/Documents/Analysis/2024-11-22/anipose/pose_3d/2024-11-22_11-25-45_3d.csv\n"
     ]
    },
    {
     "name": "stderr",
     "output_type": "stream",
     "text": [
      "100%|██████████████████████████| 11991/11991 [00:49<00:00, 242.22it/s]\n"
     ]
    },
    {
     "name": "stdout",
     "output_type": "stream",
     "text": [
      "/home/yiting/Documents/Analysis/2024-11-22/anipose/pose_3d/2024-11-22_11-25-56_3d.csv\n"
     ]
    },
    {
     "name": "stderr",
     "output_type": "stream",
     "text": [
      "100%|██████████████████████████| 12600/12600 [01:01<00:00, 203.65it/s]\n"
     ]
    },
    {
     "name": "stdout",
     "output_type": "stream",
     "text": [
      "/home/yiting/Documents/Analysis/2024-11-22/anipose/pose_3d/2024-11-22_11-26-09_3d.csv\n"
     ]
    },
    {
     "name": "stderr",
     "output_type": "stream",
     "text": [
      "100%|██████████████████████████| 12978/12978 [01:00<00:00, 215.88it/s]\n"
     ]
    },
    {
     "name": "stdout",
     "output_type": "stream",
     "text": [
      "/home/yiting/Documents/Analysis/2024-11-22/anipose/pose_3d/2024-11-22_11-26-22_3d.csv\n"
     ]
    },
    {
     "name": "stderr",
     "output_type": "stream",
     "text": [
      "100%|██████████████████████████| 12201/12201 [00:56<00:00, 214.91it/s]\n"
     ]
    },
    {
     "name": "stdout",
     "output_type": "stream",
     "text": [
      "/home/yiting/Documents/Analysis/2024-11-22/anipose/pose_3d/2024-11-22_11-26-36_3d.csv\n"
     ]
    },
    {
     "name": "stderr",
     "output_type": "stream",
     "text": [
      "100%|██████████████████████████| 15582/15582 [01:08<00:00, 227.84it/s]\n"
     ]
    },
    {
     "name": "stdout",
     "output_type": "stream",
     "text": [
      "/home/yiting/Documents/Analysis/2024-11-22/anipose/pose_3d/2024-11-22_11-26-51_3d.csv\n"
     ]
    },
    {
     "name": "stderr",
     "output_type": "stream",
     "text": [
      "100%|██████████████████████████| 15750/15750 [00:58<00:00, 267.15it/s]\n"
     ]
    },
    {
     "name": "stdout",
     "output_type": "stream",
     "text": [
      "/home/yiting/Documents/Analysis/2024-11-22/anipose/pose_3d/2024-11-22_11-27-06_3d.csv\n"
     ]
    },
    {
     "name": "stderr",
     "output_type": "stream",
     "text": [
      "100%|██████████████████████████| 15960/15960 [01:13<00:00, 217.84it/s]\n"
     ]
    },
    {
     "name": "stdout",
     "output_type": "stream",
     "text": [
      "/home/yiting/Documents/Analysis/2024-11-22/anipose/pose_3d/2024-11-22_11-27-21_3d.csv\n"
     ]
    },
    {
     "name": "stderr",
     "output_type": "stream",
     "text": [
      "100%|██████████████████████████| 11949/11949 [00:55<00:00, 216.07it/s]\n"
     ]
    },
    {
     "name": "stdout",
     "output_type": "stream",
     "text": [
      "/home/yiting/Documents/Analysis/2024-11-22/anipose/pose_3d/2024-11-22_11-27-33_3d.csv\n"
     ]
    },
    {
     "name": "stderr",
     "output_type": "stream",
     "text": [
      "100%|██████████████████████████| 15225/15225 [00:52<00:00, 292.41it/s]\n"
     ]
    },
    {
     "name": "stdout",
     "output_type": "stream",
     "text": [
      "/home/yiting/Documents/Analysis/2024-11-22/anipose/pose_3d/2024-11-22_11-27-46_3d.csv\n"
     ]
    },
    {
     "name": "stderr",
     "output_type": "stream",
     "text": [
      "100%|██████████████████████████| 12222/12222 [00:52<00:00, 232.83it/s]\n"
     ]
    },
    {
     "name": "stdout",
     "output_type": "stream",
     "text": [
      "/home/yiting/Documents/Analysis/2024-11-22/anipose/pose_3d/2024-11-22_11-27-58_3d.csv\n"
     ]
    },
    {
     "name": "stderr",
     "output_type": "stream",
     "text": [
      "100%|██████████████████████████| 15351/15351 [01:04<00:00, 238.64it/s]\n"
     ]
    },
    {
     "name": "stdout",
     "output_type": "stream",
     "text": [
      "/home/yiting/Documents/Analysis/2024-11-22/anipose/pose_3d/2024-11-22_11-28-12_3d.csv\n"
     ]
    },
    {
     "name": "stderr",
     "output_type": "stream",
     "text": [
      "100%|██████████████████████████| 16254/16254 [01:04<00:00, 252.91it/s]\n"
     ]
    },
    {
     "name": "stdout",
     "output_type": "stream",
     "text": [
      "/home/yiting/Documents/Analysis/2024-11-22/anipose/pose_3d/2024-11-22_11-28-26_3d.csv\n"
     ]
    },
    {
     "name": "stderr",
     "output_type": "stream",
     "text": [
      "100%|██████████████████████████| 16296/16296 [01:04<00:00, 251.75it/s]\n"
     ]
    },
    {
     "name": "stdout",
     "output_type": "stream",
     "text": [
      "/home/yiting/Documents/Analysis/2024-11-22/anipose/pose_3d/2024-11-22_11-28-40_3d.csv\n"
     ]
    },
    {
     "name": "stderr",
     "output_type": "stream",
     "text": [
      "100%|██████████████████████████| 16401/16401 [01:13<00:00, 221.68it/s]\n"
     ]
    },
    {
     "name": "stdout",
     "output_type": "stream",
     "text": [
      "/home/yiting/Documents/Analysis/2024-11-22/anipose/pose_3d/2024-11-22_11-28-54_3d.csv\n"
     ]
    },
    {
     "name": "stderr",
     "output_type": "stream",
     "text": [
      "100%|██████████████████████████| 15225/15225 [01:05<00:00, 233.27it/s]\n"
     ]
    },
    {
     "name": "stdout",
     "output_type": "stream",
     "text": [
      "/home/yiting/Documents/Analysis/2024-11-22/anipose/pose_3d/2024-11-22_11-29-07_3d.csv\n"
     ]
    },
    {
     "name": "stderr",
     "output_type": "stream",
     "text": [
      "100%|██████████████████████████| 14070/14070 [01:09<00:00, 203.13it/s]\n"
     ]
    },
    {
     "name": "stdout",
     "output_type": "stream",
     "text": [
      "/home/yiting/Documents/Analysis/2024-11-22/anipose/pose_3d/2024-11-22_11-29-20_3d.csv\n"
     ]
    },
    {
     "name": "stderr",
     "output_type": "stream",
     "text": [
      "100%|██████████████████████████| 16905/16905 [01:09<00:00, 241.58it/s]\n"
     ]
    },
    {
     "name": "stdout",
     "output_type": "stream",
     "text": [
      "/home/yiting/Documents/Analysis/2024-11-22/anipose/pose_3d/2024-11-22_11-29-34_3d.csv\n"
     ]
    },
    {
     "name": "stderr",
     "output_type": "stream",
     "text": [
      "100%|██████████████████████████| 14070/14070 [01:08<00:00, 204.49it/s]\n"
     ]
    },
    {
     "name": "stdout",
     "output_type": "stream",
     "text": [
      "/home/yiting/Documents/Analysis/2024-11-22/anipose/pose_3d/2024-11-22_11-29-47_3d.csv\n"
     ]
    },
    {
     "name": "stderr",
     "output_type": "stream",
     "text": [
      "100%|██████████████████████████| 11802/11802 [00:55<00:00, 212.56it/s]\n"
     ]
    },
    {
     "name": "stdout",
     "output_type": "stream",
     "text": [
      "/home/yiting/Documents/Analysis/2024-11-22/anipose/pose_3d/2024-11-22_11-29-58_3d.csv\n"
     ]
    },
    {
     "name": "stderr",
     "output_type": "stream",
     "text": [
      "100%|██████████████████████████| 16800/16800 [01:08<00:00, 244.33it/s]\n"
     ]
    },
    {
     "name": "stdout",
     "output_type": "stream",
     "text": [
      "/home/yiting/Documents/Analysis/2024-11-22/anipose/pose_3d/2024-11-22_11-30-12_3d.csv\n"
     ]
    },
    {
     "name": "stderr",
     "output_type": "stream",
     "text": [
      "100%|██████████████████████████| 13545/13545 [00:52<00:00, 260.06it/s]\n"
     ]
    },
    {
     "name": "stdout",
     "output_type": "stream",
     "text": [
      "/home/yiting/Documents/Analysis/2024-11-22/anipose/pose_3d/2024-11-22_11-30-27_3d.csv\n"
     ]
    },
    {
     "name": "stderr",
     "output_type": "stream",
     "text": [
      "100%|██████████████████████████| 15813/15813 [01:16<00:00, 206.98it/s]\n"
     ]
    },
    {
     "name": "stdout",
     "output_type": "stream",
     "text": [
      "/home/yiting/Documents/Analysis/2024-11-22/anipose/pose_3d/2024-11-22_11-30-41_3d.csv\n"
     ]
    },
    {
     "name": "stderr",
     "output_type": "stream",
     "text": [
      "100%|██████████████████████████| 12705/12705 [00:59<00:00, 212.69it/s]\n"
     ]
    },
    {
     "name": "stdout",
     "output_type": "stream",
     "text": [
      "/home/yiting/Documents/Analysis/2024-11-22/anipose/pose_3d/2024-11-22_11-30-54_3d.csv\n"
     ]
    },
    {
     "name": "stderr",
     "output_type": "stream",
     "text": [
      "100%|██████████████████████████| 15834/15834 [01:05<00:00, 243.12it/s]\n"
     ]
    },
    {
     "name": "stdout",
     "output_type": "stream",
     "text": [
      "/home/yiting/Documents/Analysis/2024-11-22/anipose/pose_3d/2024-11-22_11-31-09_3d.csv\n"
     ]
    },
    {
     "name": "stderr",
     "output_type": "stream",
     "text": [
      "100%|██████████████████████████| 13629/13629 [00:53<00:00, 253.55it/s]\n"
     ]
    },
    {
     "name": "stdout",
     "output_type": "stream",
     "text": [
      "/home/yiting/Documents/Analysis/2024-11-22/anipose/pose_3d/2024-11-22_11-31-23_3d.csv\n"
     ]
    },
    {
     "name": "stderr",
     "output_type": "stream",
     "text": [
      "100%|██████████████████████████| 11760/11760 [00:52<00:00, 223.22it/s]\n"
     ]
    },
    {
     "name": "stdout",
     "output_type": "stream",
     "text": [
      "/home/yiting/Documents/Analysis/2024-11-22/anipose/pose_3d/2024-11-22_11-31-35_3d.csv\n"
     ]
    },
    {
     "name": "stderr",
     "output_type": "stream",
     "text": [
      "100%|██████████████████████████| 16086/16086 [01:02<00:00, 256.86it/s]\n"
     ]
    },
    {
     "name": "stdout",
     "output_type": "stream",
     "text": [
      "/home/yiting/Documents/Analysis/2024-11-22/anipose/pose_3d/2024-11-22_11-31-48_3d.csv\n"
     ]
    },
    {
     "name": "stderr",
     "output_type": "stream",
     "text": [
      "100%|██████████████████████████| 15687/15687 [01:01<00:00, 254.66it/s]\n"
     ]
    },
    {
     "name": "stdout",
     "output_type": "stream",
     "text": [
      "/home/yiting/Documents/Analysis/2024-11-22/anipose/pose_3d/2024-11-22_11-32-02_3d.csv\n"
     ]
    },
    {
     "name": "stderr",
     "output_type": "stream",
     "text": [
      "100%|██████████████████████████| 12096/12096 [00:55<00:00, 217.26it/s]\n"
     ]
    },
    {
     "name": "stdout",
     "output_type": "stream",
     "text": [
      "/home/yiting/Documents/Analysis/2024-11-22/anipose/pose_3d/2024-11-22_11-32-15_3d.csv\n"
     ]
    },
    {
     "name": "stderr",
     "output_type": "stream",
     "text": [
      "100%|██████████████████████████| 16170/16170 [00:59<00:00, 270.57it/s]\n"
     ]
    },
    {
     "name": "stdout",
     "output_type": "stream",
     "text": [
      "/home/yiting/Documents/Analysis/2024-11-22/anipose/pose_3d/2024-11-22_11-32-30_3d.csv\n"
     ]
    },
    {
     "name": "stderr",
     "output_type": "stream",
     "text": [
      "100%|██████████████████████████| 16527/16527 [01:07<00:00, 243.33it/s]\n"
     ]
    },
    {
     "name": "stdout",
     "output_type": "stream",
     "text": [
      "/home/yiting/Documents/Analysis/2024-11-22/anipose/pose_3d/2024-11-22_11-32-44_3d.csv\n"
     ]
    },
    {
     "name": "stderr",
     "output_type": "stream",
     "text": [
      "100%|██████████████████████████| 12243/12243 [00:57<00:00, 213.36it/s]\n"
     ]
    },
    {
     "name": "stdout",
     "output_type": "stream",
     "text": [
      "/home/yiting/Documents/Analysis/2024-11-22/anipose/pose_3d/2024-11-22_11-32-57_3d.csv\n"
     ]
    },
    {
     "name": "stderr",
     "output_type": "stream",
     "text": [
      "100%|██████████████████████████| 11991/11991 [00:58<00:00, 204.97it/s]\n"
     ]
    },
    {
     "name": "stdout",
     "output_type": "stream",
     "text": [
      "/home/yiting/Documents/Analysis/2024-11-22/anipose/pose_3d/2024-11-22_11-33-09_3d.csv\n"
     ]
    },
    {
     "name": "stderr",
     "output_type": "stream",
     "text": [
      "100%|██████████████████████████| 12642/12642 [00:51<00:00, 244.09it/s]\n"
     ]
    },
    {
     "name": "stdout",
     "output_type": "stream",
     "text": [
      "/home/yiting/Documents/Analysis/2024-11-22/anipose/pose_3d/2024-11-22_11-33-21_3d.csv\n"
     ]
    },
    {
     "name": "stderr",
     "output_type": "stream",
     "text": [
      "100%|████████████████████████████| 9345/9345 [00:12<00:00, 755.06it/s]\n"
     ]
    },
    {
     "name": "stdout",
     "output_type": "stream",
     "text": [
      "/home/yiting/Documents/Analysis/2024-11-22/anipose/pose_3d/2024-11-22_11-33-33_3d.csv\n"
     ]
    },
    {
     "name": "stderr",
     "output_type": "stream",
     "text": [
      "100%|████████████████████████████| 9366/9366 [00:14<00:00, 651.60it/s]\n"
     ]
    },
    {
     "name": "stdout",
     "output_type": "stream",
     "text": [
      "/home/yiting/Documents/Analysis/2024-11-22/anipose/pose_3d/2024-11-22_11-33-44_3d.csv\n"
     ]
    },
    {
     "name": "stderr",
     "output_type": "stream",
     "text": [
      "100%|████████████████████████████| 9534/9534 [00:13<00:00, 706.24it/s]\n"
     ]
    },
    {
     "name": "stdout",
     "output_type": "stream",
     "text": [
      "/home/yiting/Documents/Analysis/2024-11-22/anipose/pose_3d/2024-11-22_11-33-54_3d.csv\n"
     ]
    },
    {
     "name": "stderr",
     "output_type": "stream",
     "text": [
      "100%|████████████████████████████| 9408/9408 [00:13<00:00, 720.32it/s]\n"
     ]
    },
    {
     "name": "stdout",
     "output_type": "stream",
     "text": [
      "/home/yiting/Documents/Analysis/2024-11-22/anipose/pose_3d/2024-11-22_11-34-05_3d.csv\n"
     ]
    },
    {
     "name": "stderr",
     "output_type": "stream",
     "text": [
      "100%|████████████████████████████| 9450/9450 [00:15<00:00, 599.19it/s]\n"
     ]
    },
    {
     "name": "stdout",
     "output_type": "stream",
     "text": [
      "/home/yiting/Documents/Analysis/2024-11-22/anipose/pose_3d/2024-11-22_11-35-07_3d.csv\n"
     ]
    },
    {
     "name": "stderr",
     "output_type": "stream",
     "text": [
      "100%|████████████████████████████| 9429/9429 [00:13<00:00, 700.62it/s]\n"
     ]
    },
    {
     "name": "stdout",
     "output_type": "stream",
     "text": [
      "/home/yiting/Documents/Analysis/2024-11-22/anipose/pose_3d/2024-11-22_11-35-18_3d.csv\n"
     ]
    },
    {
     "name": "stderr",
     "output_type": "stream",
     "text": [
      "100%|████████████████████████████| 9408/9408 [00:14<00:00, 666.24it/s]\n"
     ]
    },
    {
     "name": "stdout",
     "output_type": "stream",
     "text": [
      "/home/yiting/Documents/Analysis/2024-11-22/anipose/pose_3d/2024-11-22_11-35-29_3d.csv\n"
     ]
    },
    {
     "name": "stderr",
     "output_type": "stream",
     "text": [
      "100%|██████████████████████████| 10626/10626 [00:16<00:00, 663.33it/s]\n"
     ]
    },
    {
     "name": "stdout",
     "output_type": "stream",
     "text": [
      "/home/yiting/Documents/Analysis/2024-11-22/anipose/pose_3d/2024-11-22_11-44-48_3d.csv\n"
     ]
    },
    {
     "name": "stderr",
     "output_type": "stream",
     "text": [
      "100%|████████████████████████████| 9597/9597 [00:18<00:00, 526.65it/s]\n"
     ]
    },
    {
     "name": "stdout",
     "output_type": "stream",
     "text": [
      "/home/yiting/Documents/Analysis/2024-11-22/anipose/pose_3d/2024-11-22_11-44-58_3d.csv\n"
     ]
    },
    {
     "name": "stderr",
     "output_type": "stream",
     "text": [
      "100%|████████████████████████████| 9786/9786 [00:16<00:00, 597.87it/s]\n"
     ]
    },
    {
     "name": "stdout",
     "output_type": "stream",
     "text": [
      "/home/yiting/Documents/Analysis/2024-11-22/anipose/pose_3d/2024-11-22_11-45-10_3d.csv\n"
     ]
    },
    {
     "name": "stderr",
     "output_type": "stream",
     "text": [
      "100%|████████████████████████████| 9597/9597 [00:17<00:00, 536.73it/s]\n"
     ]
    },
    {
     "name": "stdout",
     "output_type": "stream",
     "text": [
      "/home/yiting/Documents/Analysis/2024-11-22/anipose/pose_3d/2024-11-22_11-45-21_3d.csv\n"
     ]
    },
    {
     "name": "stderr",
     "output_type": "stream",
     "text": [
      "100%|████████████████████████████| 9576/9576 [00:16<00:00, 579.09it/s]\n"
     ]
    },
    {
     "name": "stdout",
     "output_type": "stream",
     "text": [
      "/home/yiting/Documents/Analysis/2024-11-22/anipose/pose_3d/2024-11-22_11-45-32_3d.csv\n"
     ]
    },
    {
     "name": "stderr",
     "output_type": "stream",
     "text": [
      "100%|████████████████████████████| 9786/9786 [00:17<00:00, 547.81it/s]\n"
     ]
    }
   ],
   "source": [
    "ap_2d_dir = os.path.join(ap_dir, \"pose_2d\")\n",
    "trials = sorted(os.listdir(ap_2d_dir))\n",
    "for t in trials:\n",
    "    triangulate_process(config, session_name, t)"
   ]
  },
  {
   "cell_type": "markdown",
   "metadata": {},
   "source": [
    "### Filtering 3D data\n",
    "The filter applied over the 3D data functions as a threshold filter. Predicted labels that do not fall within the threshold are removed and replaced with a new prediction that is determined by interpolating. "
   ]
  },
  {
   "cell_type": "code",
   "execution_count": 7,
   "metadata": {},
   "outputs": [
    {
     "name": "stdout",
     "output_type": "stream",
     "text": [
      "/home/yiting/Documents/Analysis/2024-11-22/anipose/pose_3d_filter/2024-11-22_08-43-44_f3d.csv\n",
      "/home/yiting/Documents/Analysis/2024-11-22/anipose/pose_3d_filter/2024-11-22_08-43-57_f3d.csv\n",
      "/home/yiting/Documents/Analysis/2024-11-22/anipose/pose_3d_filter/2024-11-22_08-44-11_f3d.csv\n",
      "/home/yiting/Documents/Analysis/2024-11-22/anipose/pose_3d_filter/2024-11-22_08-44-23_f3d.csv\n",
      "/home/yiting/Documents/Analysis/2024-11-22/anipose/pose_3d_filter/2024-11-22_08-44-36_f3d.csv\n",
      "/home/yiting/Documents/Analysis/2024-11-22/anipose/pose_3d_filter/2024-11-22_08-44-49_f3d.csv\n",
      "/home/yiting/Documents/Analysis/2024-11-22/anipose/pose_3d_filter/2024-11-22_08-45-08_f3d.csv\n",
      "/home/yiting/Documents/Analysis/2024-11-22/anipose/pose_3d_filter/2024-11-22_08-45-21_f3d.csv\n",
      "/home/yiting/Documents/Analysis/2024-11-22/anipose/pose_3d_filter/2024-11-22_08-45-35_f3d.csv\n",
      "/home/yiting/Documents/Analysis/2024-11-22/anipose/pose_3d_filter/2024-11-22_08-45-48_f3d.csv\n",
      "/home/yiting/Documents/Analysis/2024-11-22/anipose/pose_3d_filter/2024-11-22_08-46-02_f3d.csv\n",
      "/home/yiting/Documents/Analysis/2024-11-22/anipose/pose_3d_filter/2024-11-22_08-46-16_f3d.csv\n",
      "/home/yiting/Documents/Analysis/2024-11-22/anipose/pose_3d_filter/2024-11-22_08-46-27_f3d.csv\n",
      "/home/yiting/Documents/Analysis/2024-11-22/anipose/pose_3d_filter/2024-11-22_08-46-41_f3d.csv\n",
      "/home/yiting/Documents/Analysis/2024-11-22/anipose/pose_3d_filter/2024-11-22_08-46-54_f3d.csv\n",
      "/home/yiting/Documents/Analysis/2024-11-22/anipose/pose_3d_filter/2024-11-22_08-47-06_f3d.csv\n",
      "/home/yiting/Documents/Analysis/2024-11-22/anipose/pose_3d_filter/2024-11-22_08-47-20_f3d.csv\n",
      "/home/yiting/Documents/Analysis/2024-11-22/anipose/pose_3d_filter/2024-11-22_08-47-32_f3d.csv\n",
      "/home/yiting/Documents/Analysis/2024-11-22/anipose/pose_3d_filter/2024-11-22_08-47-45_f3d.csv\n",
      "/home/yiting/Documents/Analysis/2024-11-22/anipose/pose_3d_filter/2024-11-22_08-47-58_f3d.csv\n",
      "/home/yiting/Documents/Analysis/2024-11-22/anipose/pose_3d_filter/2024-11-22_08-48-12_f3d.csv\n",
      "/home/yiting/Documents/Analysis/2024-11-22/anipose/pose_3d_filter/2024-11-22_08-48-25_f3d.csv\n",
      "/home/yiting/Documents/Analysis/2024-11-22/anipose/pose_3d_filter/2024-11-22_08-48-39_f3d.csv\n",
      "/home/yiting/Documents/Analysis/2024-11-22/anipose/pose_3d_filter/2024-11-22_08-48-51_f3d.csv\n",
      "/home/yiting/Documents/Analysis/2024-11-22/anipose/pose_3d_filter/2024-11-22_08-49-04_f3d.csv\n",
      "/home/yiting/Documents/Analysis/2024-11-22/anipose/pose_3d_filter/2024-11-22_08-49-17_f3d.csv\n",
      "/home/yiting/Documents/Analysis/2024-11-22/anipose/pose_3d_filter/2024-11-22_08-49-30_f3d.csv\n",
      "/home/yiting/Documents/Analysis/2024-11-22/anipose/pose_3d_filter/2024-11-22_08-49-42_f3d.csv\n",
      "/home/yiting/Documents/Analysis/2024-11-22/anipose/pose_3d_filter/2024-11-22_08-49-56_f3d.csv\n",
      "/home/yiting/Documents/Analysis/2024-11-22/anipose/pose_3d_filter/2024-11-22_08-50-08_f3d.csv\n",
      "/home/yiting/Documents/Analysis/2024-11-22/anipose/pose_3d_filter/2024-11-22_08-50-20_f3d.csv\n",
      "/home/yiting/Documents/Analysis/2024-11-22/anipose/pose_3d_filter/2024-11-22_08-50-35_f3d.csv\n",
      "/home/yiting/Documents/Analysis/2024-11-22/anipose/pose_3d_filter/2024-11-22_08-50-46_f3d.csv\n",
      "/home/yiting/Documents/Analysis/2024-11-22/anipose/pose_3d_filter/2024-11-22_08-50-59_f3d.csv\n",
      "/home/yiting/Documents/Analysis/2024-11-22/anipose/pose_3d_filter/2024-11-22_08-51-13_f3d.csv\n",
      "/home/yiting/Documents/Analysis/2024-11-22/anipose/pose_3d_filter/2024-11-22_08-51-29_f3d.csv\n",
      "/home/yiting/Documents/Analysis/2024-11-22/anipose/pose_3d_filter/2024-11-22_08-51-42_f3d.csv\n",
      "/home/yiting/Documents/Analysis/2024-11-22/anipose/pose_3d_filter/2024-11-22_08-51-56_f3d.csv\n",
      "/home/yiting/Documents/Analysis/2024-11-22/anipose/pose_3d_filter/2024-11-22_08-52-08_f3d.csv\n",
      "/home/yiting/Documents/Analysis/2024-11-22/anipose/pose_3d_filter/2024-11-22_08-52-20_f3d.csv\n",
      "/home/yiting/Documents/Analysis/2024-11-22/anipose/pose_3d_filter/2024-11-22_08-52-33_f3d.csv\n",
      "/home/yiting/Documents/Analysis/2024-11-22/anipose/pose_3d_filter/2024-11-22_08-52-45_f3d.csv\n",
      "/home/yiting/Documents/Analysis/2024-11-22/anipose/pose_3d_filter/2024-11-22_08-52-58_f3d.csv\n",
      "/home/yiting/Documents/Analysis/2024-11-22/anipose/pose_3d_filter/2024-11-22_08-53-11_f3d.csv\n",
      "/home/yiting/Documents/Analysis/2024-11-22/anipose/pose_3d_filter/2024-11-22_08-53-23_f3d.csv\n",
      "/home/yiting/Documents/Analysis/2024-11-22/anipose/pose_3d_filter/2024-11-22_08-53-37_f3d.csv\n",
      "/home/yiting/Documents/Analysis/2024-11-22/anipose/pose_3d_filter/2024-11-22_08-53-50_f3d.csv\n",
      "/home/yiting/Documents/Analysis/2024-11-22/anipose/pose_3d_filter/2024-11-22_08-54-01_f3d.csv\n",
      "/home/yiting/Documents/Analysis/2024-11-22/anipose/pose_3d_filter/2024-11-22_08-54-14_f3d.csv\n",
      "/home/yiting/Documents/Analysis/2024-11-22/anipose/pose_3d_filter/2024-11-22_08-54-26_f3d.csv\n",
      "/home/yiting/Documents/Analysis/2024-11-22/anipose/pose_3d_filter/2024-11-22_08-54-38_f3d.csv\n",
      "/home/yiting/Documents/Analysis/2024-11-22/anipose/pose_3d_filter/2024-11-22_08-54-51_f3d.csv\n",
      "/home/yiting/Documents/Analysis/2024-11-22/anipose/pose_3d_filter/2024-11-22_08-55-04_f3d.csv\n",
      "/home/yiting/Documents/Analysis/2024-11-22/anipose/pose_3d_filter/2024-11-22_08-55-17_f3d.csv\n",
      "/home/yiting/Documents/Analysis/2024-11-22/anipose/pose_3d_filter/2024-11-22_08-55-29_f3d.csv\n",
      "/home/yiting/Documents/Analysis/2024-11-22/anipose/pose_3d_filter/2024-11-22_08-55-42_f3d.csv\n",
      "/home/yiting/Documents/Analysis/2024-11-22/anipose/pose_3d_filter/2024-11-22_08-55-54_f3d.csv\n",
      "/home/yiting/Documents/Analysis/2024-11-22/anipose/pose_3d_filter/2024-11-22_08-56-07_f3d.csv\n",
      "/home/yiting/Documents/Analysis/2024-11-22/anipose/pose_3d_filter/2024-11-22_08-56-19_f3d.csv\n",
      "/home/yiting/Documents/Analysis/2024-11-22/anipose/pose_3d_filter/2024-11-22_08-56-32_f3d.csv\n",
      "/home/yiting/Documents/Analysis/2024-11-22/anipose/pose_3d_filter/2024-11-22_08-56-44_f3d.csv\n",
      "/home/yiting/Documents/Analysis/2024-11-22/anipose/pose_3d_filter/2024-11-22_08-56-56_f3d.csv\n",
      "/home/yiting/Documents/Analysis/2024-11-22/anipose/pose_3d_filter/2024-11-22_08-57-11_f3d.csv\n",
      "/home/yiting/Documents/Analysis/2024-11-22/anipose/pose_3d_filter/2024-11-22_08-57-22_f3d.csv\n",
      "/home/yiting/Documents/Analysis/2024-11-22/anipose/pose_3d_filter/2024-11-22_08-57-35_f3d.csv\n",
      "/home/yiting/Documents/Analysis/2024-11-22/anipose/pose_3d_filter/2024-11-22_08-57-46_f3d.csv\n",
      "/home/yiting/Documents/Analysis/2024-11-22/anipose/pose_3d_filter/2024-11-22_08-57-59_f3d.csv\n",
      "/home/yiting/Documents/Analysis/2024-11-22/anipose/pose_3d_filter/2024-11-22_08-58-13_f3d.csv\n",
      "/home/yiting/Documents/Analysis/2024-11-22/anipose/pose_3d_filter/2024-11-22_08-58-24_f3d.csv\n",
      "/home/yiting/Documents/Analysis/2024-11-22/anipose/pose_3d_filter/2024-11-22_08-58-37_f3d.csv\n",
      "/home/yiting/Documents/Analysis/2024-11-22/anipose/pose_3d_filter/2024-11-22_08-58-51_f3d.csv\n",
      "/home/yiting/Documents/Analysis/2024-11-22/anipose/pose_3d_filter/2024-11-22_08-59-03_f3d.csv\n",
      "/home/yiting/Documents/Analysis/2024-11-22/anipose/pose_3d_filter/2024-11-22_08-59-14_f3d.csv\n",
      "/home/yiting/Documents/Analysis/2024-11-22/anipose/pose_3d_filter/2024-11-22_08-59-27_f3d.csv\n",
      "/home/yiting/Documents/Analysis/2024-11-22/anipose/pose_3d_filter/2024-11-22_08-59-41_f3d.csv\n",
      "/home/yiting/Documents/Analysis/2024-11-22/anipose/pose_3d_filter/2024-11-22_08-59-54_f3d.csv\n",
      "/home/yiting/Documents/Analysis/2024-11-22/anipose/pose_3d_filter/2024-11-22_09-00-07_f3d.csv\n",
      "/home/yiting/Documents/Analysis/2024-11-22/anipose/pose_3d_filter/2024-11-22_09-00-20_f3d.csv\n",
      "/home/yiting/Documents/Analysis/2024-11-22/anipose/pose_3d_filter/2024-11-22_09-00-34_f3d.csv\n",
      "/home/yiting/Documents/Analysis/2024-11-22/anipose/pose_3d_filter/2024-11-22_09-00-47_f3d.csv\n",
      "/home/yiting/Documents/Analysis/2024-11-22/anipose/pose_3d_filter/2024-11-22_09-00-59_f3d.csv\n",
      "/home/yiting/Documents/Analysis/2024-11-22/anipose/pose_3d_filter/2024-11-22_09-01-11_f3d.csv\n",
      "/home/yiting/Documents/Analysis/2024-11-22/anipose/pose_3d_filter/2024-11-22_09-01-25_f3d.csv\n",
      "/home/yiting/Documents/Analysis/2024-11-22/anipose/pose_3d_filter/2024-11-22_09-01-37_f3d.csv\n",
      "/home/yiting/Documents/Analysis/2024-11-22/anipose/pose_3d_filter/2024-11-22_09-01-51_f3d.csv\n",
      "/home/yiting/Documents/Analysis/2024-11-22/anipose/pose_3d_filter/2024-11-22_09-02-05_f3d.csv\n",
      "/home/yiting/Documents/Analysis/2024-11-22/anipose/pose_3d_filter/2024-11-22_09-02-19_f3d.csv\n",
      "/home/yiting/Documents/Analysis/2024-11-22/anipose/pose_3d_filter/2024-11-22_09-02-33_f3d.csv\n",
      "/home/yiting/Documents/Analysis/2024-11-22/anipose/pose_3d_filter/2024-11-22_09-02-45_f3d.csv\n",
      "/home/yiting/Documents/Analysis/2024-11-22/anipose/pose_3d_filter/2024-11-22_09-02-57_f3d.csv\n",
      "/home/yiting/Documents/Analysis/2024-11-22/anipose/pose_3d_filter/2024-11-22_09-03-08_f3d.csv\n",
      "/home/yiting/Documents/Analysis/2024-11-22/anipose/pose_3d_filter/2024-11-22_09-03-20_f3d.csv\n",
      "/home/yiting/Documents/Analysis/2024-11-22/anipose/pose_3d_filter/2024-11-22_09-03-32_f3d.csv\n",
      "/home/yiting/Documents/Analysis/2024-11-22/anipose/pose_3d_filter/2024-11-22_09-03-43_f3d.csv\n",
      "/home/yiting/Documents/Analysis/2024-11-22/anipose/pose_3d_filter/2024-11-22_09-03-54_f3d.csv\n",
      "/home/yiting/Documents/Analysis/2024-11-22/anipose/pose_3d_filter/2024-11-22_09-04-07_f3d.csv\n",
      "/home/yiting/Documents/Analysis/2024-11-22/anipose/pose_3d_filter/2024-11-22_09-04-20_f3d.csv\n",
      "/home/yiting/Documents/Analysis/2024-11-22/anipose/pose_3d_filter/2024-11-22_09-04-33_f3d.csv\n",
      "/home/yiting/Documents/Analysis/2024-11-22/anipose/pose_3d_filter/2024-11-22_09-04-48_f3d.csv\n",
      "/home/yiting/Documents/Analysis/2024-11-22/anipose/pose_3d_filter/2024-11-22_09-05-03_f3d.csv\n",
      "/home/yiting/Documents/Analysis/2024-11-22/anipose/pose_3d_filter/2024-11-22_09-05-16_f3d.csv\n",
      "/home/yiting/Documents/Analysis/2024-11-22/anipose/pose_3d_filter/2024-11-22_09-05-30_f3d.csv\n",
      "/home/yiting/Documents/Analysis/2024-11-22/anipose/pose_3d_filter/2024-11-22_09-05-43_f3d.csv\n",
      "/home/yiting/Documents/Analysis/2024-11-22/anipose/pose_3d_filter/2024-11-22_09-05-57_f3d.csv\n",
      "/home/yiting/Documents/Analysis/2024-11-22/anipose/pose_3d_filter/2024-11-22_09-06-09_f3d.csv\n",
      "/home/yiting/Documents/Analysis/2024-11-22/anipose/pose_3d_filter/2024-11-22_09-06-20_f3d.csv\n",
      "/home/yiting/Documents/Analysis/2024-11-22/anipose/pose_3d_filter/2024-11-22_09-06-34_f3d.csv\n",
      "/home/yiting/Documents/Analysis/2024-11-22/anipose/pose_3d_filter/2024-11-22_09-06-48_f3d.csv\n",
      "/home/yiting/Documents/Analysis/2024-11-22/anipose/pose_3d_filter/2024-11-22_09-07-02_f3d.csv\n",
      "/home/yiting/Documents/Analysis/2024-11-22/anipose/pose_3d_filter/2024-11-22_09-07-17_f3d.csv\n",
      "/home/yiting/Documents/Analysis/2024-11-22/anipose/pose_3d_filter/2024-11-22_09-07-31_f3d.csv\n",
      "/home/yiting/Documents/Analysis/2024-11-22/anipose/pose_3d_filter/2024-11-22_09-07-44_f3d.csv\n",
      "/home/yiting/Documents/Analysis/2024-11-22/anipose/pose_3d_filter/2024-11-22_09-07-56_f3d.csv\n",
      "/home/yiting/Documents/Analysis/2024-11-22/anipose/pose_3d_filter/2024-11-22_09-08-10_f3d.csv\n",
      "/home/yiting/Documents/Analysis/2024-11-22/anipose/pose_3d_filter/2024-11-22_09-08-23_f3d.csv\n",
      "/home/yiting/Documents/Analysis/2024-11-22/anipose/pose_3d_filter/2024-11-22_09-08-36_f3d.csv\n",
      "/home/yiting/Documents/Analysis/2024-11-22/anipose/pose_3d_filter/2024-11-22_09-08-48_f3d.csv\n",
      "/home/yiting/Documents/Analysis/2024-11-22/anipose/pose_3d_filter/2024-11-22_09-09-00_f3d.csv\n",
      "/home/yiting/Documents/Analysis/2024-11-22/anipose/pose_3d_filter/2024-11-22_09-09-13_f3d.csv\n",
      "/home/yiting/Documents/Analysis/2024-11-22/anipose/pose_3d_filter/2024-11-22_09-09-24_f3d.csv\n",
      "/home/yiting/Documents/Analysis/2024-11-22/anipose/pose_3d_filter/2024-11-22_09-09-38_f3d.csv\n",
      "/home/yiting/Documents/Analysis/2024-11-22/anipose/pose_3d_filter/2024-11-22_09-09-51_f3d.csv\n",
      "/home/yiting/Documents/Analysis/2024-11-22/anipose/pose_3d_filter/2024-11-22_09-10-03_f3d.csv\n",
      "/home/yiting/Documents/Analysis/2024-11-22/anipose/pose_3d_filter/2024-11-22_09-10-14_f3d.csv\n",
      "/home/yiting/Documents/Analysis/2024-11-22/anipose/pose_3d_filter/2024-11-22_09-10-28_f3d.csv\n",
      "/home/yiting/Documents/Analysis/2024-11-22/anipose/pose_3d_filter/2024-11-22_09-10-42_f3d.csv\n",
      "/home/yiting/Documents/Analysis/2024-11-22/anipose/pose_3d_filter/2024-11-22_09-10-54_f3d.csv\n",
      "/home/yiting/Documents/Analysis/2024-11-22/anipose/pose_3d_filter/2024-11-22_09-11-07_f3d.csv\n",
      "/home/yiting/Documents/Analysis/2024-11-22/anipose/pose_3d_filter/2024-11-22_09-11-19_f3d.csv\n",
      "/home/yiting/Documents/Analysis/2024-11-22/anipose/pose_3d_filter/2024-11-22_09-11-31_f3d.csv\n",
      "/home/yiting/Documents/Analysis/2024-11-22/anipose/pose_3d_filter/2024-11-22_09-11-45_f3d.csv\n",
      "/home/yiting/Documents/Analysis/2024-11-22/anipose/pose_3d_filter/2024-11-22_09-11-58_f3d.csv\n",
      "/home/yiting/Documents/Analysis/2024-11-22/anipose/pose_3d_filter/2024-11-22_09-12-09_f3d.csv\n",
      "/home/yiting/Documents/Analysis/2024-11-22/anipose/pose_3d_filter/2024-11-22_09-12-21_f3d.csv\n",
      "/home/yiting/Documents/Analysis/2024-11-22/anipose/pose_3d_filter/2024-11-22_09-12-36_f3d.csv\n",
      "/home/yiting/Documents/Analysis/2024-11-22/anipose/pose_3d_filter/2024-11-22_09-12-51_f3d.csv\n",
      "/home/yiting/Documents/Analysis/2024-11-22/anipose/pose_3d_filter/2024-11-22_09-13-05_f3d.csv\n",
      "/home/yiting/Documents/Analysis/2024-11-22/anipose/pose_3d_filter/2024-11-22_09-13-19_f3d.csv\n",
      "/home/yiting/Documents/Analysis/2024-11-22/anipose/pose_3d_filter/2024-11-22_09-13-35_f3d.csv\n",
      "/home/yiting/Documents/Analysis/2024-11-22/anipose/pose_3d_filter/2024-11-22_09-13-46_f3d.csv\n",
      "/home/yiting/Documents/Analysis/2024-11-22/anipose/pose_3d_filter/2024-11-22_09-13-58_f3d.csv\n",
      "/home/yiting/Documents/Analysis/2024-11-22/anipose/pose_3d_filter/2024-11-22_09-14-11_f3d.csv\n",
      "/home/yiting/Documents/Analysis/2024-11-22/anipose/pose_3d_filter/2024-11-22_09-14-22_f3d.csv\n",
      "/home/yiting/Documents/Analysis/2024-11-22/anipose/pose_3d_filter/2024-11-22_09-14-34_f3d.csv\n",
      "/home/yiting/Documents/Analysis/2024-11-22/anipose/pose_3d_filter/2024-11-22_09-14-49_f3d.csv\n",
      "/home/yiting/Documents/Analysis/2024-11-22/anipose/pose_3d_filter/2024-11-22_09-15-06_f3d.csv\n",
      "/home/yiting/Documents/Analysis/2024-11-22/anipose/pose_3d_filter/2024-11-22_09-15-19_f3d.csv\n",
      "/home/yiting/Documents/Analysis/2024-11-22/anipose/pose_3d_filter/2024-11-22_09-15-32_f3d.csv\n",
      "/home/yiting/Documents/Analysis/2024-11-22/anipose/pose_3d_filter/2024-11-22_09-15-47_f3d.csv\n",
      "/home/yiting/Documents/Analysis/2024-11-22/anipose/pose_3d_filter/2024-11-22_09-16-02_f3d.csv\n",
      "/home/yiting/Documents/Analysis/2024-11-22/anipose/pose_3d_filter/2024-11-22_09-16-15_f3d.csv\n",
      "/home/yiting/Documents/Analysis/2024-11-22/anipose/pose_3d_filter/2024-11-22_09-16-29_f3d.csv\n",
      "/home/yiting/Documents/Analysis/2024-11-22/anipose/pose_3d_filter/2024-11-22_09-16-42_f3d.csv\n",
      "/home/yiting/Documents/Analysis/2024-11-22/anipose/pose_3d_filter/2024-11-22_09-16-54_f3d.csv\n",
      "/home/yiting/Documents/Analysis/2024-11-22/anipose/pose_3d_filter/2024-11-22_09-17-08_f3d.csv\n",
      "/home/yiting/Documents/Analysis/2024-11-22/anipose/pose_3d_filter/2024-11-22_09-17-20_f3d.csv\n",
      "/home/yiting/Documents/Analysis/2024-11-22/anipose/pose_3d_filter/2024-11-22_09-17-33_f3d.csv\n",
      "/home/yiting/Documents/Analysis/2024-11-22/anipose/pose_3d_filter/2024-11-22_09-17-45_f3d.csv\n",
      "/home/yiting/Documents/Analysis/2024-11-22/anipose/pose_3d_filter/2024-11-22_09-17-58_f3d.csv\n",
      "/home/yiting/Documents/Analysis/2024-11-22/anipose/pose_3d_filter/2024-11-22_09-18-11_f3d.csv\n",
      "/home/yiting/Documents/Analysis/2024-11-22/anipose/pose_3d_filter/2024-11-22_09-18-25_f3d.csv\n",
      "/home/yiting/Documents/Analysis/2024-11-22/anipose/pose_3d_filter/2024-11-22_09-18-40_f3d.csv\n",
      "/home/yiting/Documents/Analysis/2024-11-22/anipose/pose_3d_filter/2024-11-22_09-18-53_f3d.csv\n",
      "/home/yiting/Documents/Analysis/2024-11-22/anipose/pose_3d_filter/2024-11-22_09-19-07_f3d.csv\n",
      "/home/yiting/Documents/Analysis/2024-11-22/anipose/pose_3d_filter/2024-11-22_09-19-20_f3d.csv\n",
      "/home/yiting/Documents/Analysis/2024-11-22/anipose/pose_3d_filter/2024-11-22_09-19-32_f3d.csv\n",
      "/home/yiting/Documents/Analysis/2024-11-22/anipose/pose_3d_filter/2024-11-22_09-19-44_f3d.csv\n",
      "/home/yiting/Documents/Analysis/2024-11-22/anipose/pose_3d_filter/2024-11-22_09-19-57_f3d.csv\n",
      "/home/yiting/Documents/Analysis/2024-11-22/anipose/pose_3d_filter/2024-11-22_09-20-10_f3d.csv\n",
      "/home/yiting/Documents/Analysis/2024-11-22/anipose/pose_3d_filter/2024-11-22_09-20-21_f3d.csv\n",
      "/home/yiting/Documents/Analysis/2024-11-22/anipose/pose_3d_filter/2024-11-22_09-20-36_f3d.csv\n",
      "/home/yiting/Documents/Analysis/2024-11-22/anipose/pose_3d_filter/2024-11-22_09-20-49_f3d.csv\n",
      "/home/yiting/Documents/Analysis/2024-11-22/anipose/pose_3d_filter/2024-11-22_09-21-02_f3d.csv\n",
      "/home/yiting/Documents/Analysis/2024-11-22/anipose/pose_3d_filter/2024-11-22_09-21-14_f3d.csv\n",
      "/home/yiting/Documents/Analysis/2024-11-22/anipose/pose_3d_filter/2024-11-22_09-21-28_f3d.csv\n",
      "/home/yiting/Documents/Analysis/2024-11-22/anipose/pose_3d_filter/2024-11-22_09-21-40_f3d.csv\n",
      "/home/yiting/Documents/Analysis/2024-11-22/anipose/pose_3d_filter/2024-11-22_09-21-52_f3d.csv\n",
      "/home/yiting/Documents/Analysis/2024-11-22/anipose/pose_3d_filter/2024-11-22_09-22-03_f3d.csv\n",
      "/home/yiting/Documents/Analysis/2024-11-22/anipose/pose_3d_filter/2024-11-22_09-22-19_f3d.csv\n",
      "/home/yiting/Documents/Analysis/2024-11-22/anipose/pose_3d_filter/2024-11-22_09-22-33_f3d.csv\n",
      "/home/yiting/Documents/Analysis/2024-11-22/anipose/pose_3d_filter/2024-11-22_09-22-46_f3d.csv\n",
      "/home/yiting/Documents/Analysis/2024-11-22/anipose/pose_3d_filter/2024-11-22_09-23-00_f3d.csv\n",
      "/home/yiting/Documents/Analysis/2024-11-22/anipose/pose_3d_filter/2024-11-22_09-23-15_f3d.csv\n",
      "/home/yiting/Documents/Analysis/2024-11-22/anipose/pose_3d_filter/2024-11-22_09-23-25_f3d.csv\n",
      "/home/yiting/Documents/Analysis/2024-11-22/anipose/pose_3d_filter/2024-11-22_09-23-37_f3d.csv\n",
      "/home/yiting/Documents/Analysis/2024-11-22/anipose/pose_3d_filter/2024-11-22_09-23-49_f3d.csv\n",
      "/home/yiting/Documents/Analysis/2024-11-22/anipose/pose_3d_filter/2024-11-22_09-24-00_f3d.csv\n",
      "/home/yiting/Documents/Analysis/2024-11-22/anipose/pose_3d_filter/2024-11-22_09-24-13_f3d.csv\n",
      "/home/yiting/Documents/Analysis/2024-11-22/anipose/pose_3d_filter/2024-11-22_09-24-25_f3d.csv\n",
      "/home/yiting/Documents/Analysis/2024-11-22/anipose/pose_3d_filter/2024-11-22_09-24-38_f3d.csv\n",
      "/home/yiting/Documents/Analysis/2024-11-22/anipose/pose_3d_filter/2024-11-22_09-24-53_f3d.csv\n",
      "/home/yiting/Documents/Analysis/2024-11-22/anipose/pose_3d_filter/2024-11-22_09-25-05_f3d.csv\n",
      "/home/yiting/Documents/Analysis/2024-11-22/anipose/pose_3d_filter/2024-11-22_09-25-17_f3d.csv\n",
      "/home/yiting/Documents/Analysis/2024-11-22/anipose/pose_3d_filter/2024-11-22_09-25-31_f3d.csv\n",
      "/home/yiting/Documents/Analysis/2024-11-22/anipose/pose_3d_filter/2024-11-22_09-25-45_f3d.csv\n",
      "/home/yiting/Documents/Analysis/2024-11-22/anipose/pose_3d_filter/2024-11-22_09-25-59_f3d.csv\n",
      "/home/yiting/Documents/Analysis/2024-11-22/anipose/pose_3d_filter/2024-11-22_09-26-12_f3d.csv\n",
      "/home/yiting/Documents/Analysis/2024-11-22/anipose/pose_3d_filter/2024-11-22_09-26-25_f3d.csv\n",
      "/home/yiting/Documents/Analysis/2024-11-22/anipose/pose_3d_filter/2024-11-22_09-26-39_f3d.csv\n",
      "/home/yiting/Documents/Analysis/2024-11-22/anipose/pose_3d_filter/2024-11-22_09-26-52_f3d.csv\n",
      "/home/yiting/Documents/Analysis/2024-11-22/anipose/pose_3d_filter/2024-11-22_09-27-06_f3d.csv\n",
      "/home/yiting/Documents/Analysis/2024-11-22/anipose/pose_3d_filter/2024-11-22_09-27-19_f3d.csv\n",
      "/home/yiting/Documents/Analysis/2024-11-22/anipose/pose_3d_filter/2024-11-22_09-27-31_f3d.csv\n",
      "/home/yiting/Documents/Analysis/2024-11-22/anipose/pose_3d_filter/2024-11-22_09-27-43_f3d.csv\n",
      "/home/yiting/Documents/Analysis/2024-11-22/anipose/pose_3d_filter/2024-11-22_09-27-55_f3d.csv\n",
      "/home/yiting/Documents/Analysis/2024-11-22/anipose/pose_3d_filter/2024-11-22_09-28-07_f3d.csv\n",
      "/home/yiting/Documents/Analysis/2024-11-22/anipose/pose_3d_filter/2024-11-22_09-28-19_f3d.csv\n",
      "/home/yiting/Documents/Analysis/2024-11-22/anipose/pose_3d_filter/2024-11-22_09-28-34_f3d.csv\n",
      "/home/yiting/Documents/Analysis/2024-11-22/anipose/pose_3d_filter/2024-11-22_09-28-49_f3d.csv\n",
      "/home/yiting/Documents/Analysis/2024-11-22/anipose/pose_3d_filter/2024-11-22_09-29-03_f3d.csv\n",
      "/home/yiting/Documents/Analysis/2024-11-22/anipose/pose_3d_filter/2024-11-22_09-29-17_f3d.csv\n",
      "/home/yiting/Documents/Analysis/2024-11-22/anipose/pose_3d_filter/2024-11-22_09-29-31_f3d.csv\n",
      "/home/yiting/Documents/Analysis/2024-11-22/anipose/pose_3d_filter/2024-11-22_09-29-44_f3d.csv\n",
      "/home/yiting/Documents/Analysis/2024-11-22/anipose/pose_3d_filter/2024-11-22_09-29-57_f3d.csv\n",
      "/home/yiting/Documents/Analysis/2024-11-22/anipose/pose_3d_filter/2024-11-22_09-30-09_f3d.csv\n",
      "/home/yiting/Documents/Analysis/2024-11-22/anipose/pose_3d_filter/2024-11-22_09-30-22_f3d.csv\n",
      "/home/yiting/Documents/Analysis/2024-11-22/anipose/pose_3d_filter/2024-11-22_09-30-35_f3d.csv\n",
      "/home/yiting/Documents/Analysis/2024-11-22/anipose/pose_3d_filter/2024-11-22_09-30-47_f3d.csv\n",
      "/home/yiting/Documents/Analysis/2024-11-22/anipose/pose_3d_filter/2024-11-22_09-30-59_f3d.csv\n",
      "/home/yiting/Documents/Analysis/2024-11-22/anipose/pose_3d_filter/2024-11-22_09-31-13_f3d.csv\n",
      "/home/yiting/Documents/Analysis/2024-11-22/anipose/pose_3d_filter/2024-11-22_09-31-24_f3d.csv\n",
      "/home/yiting/Documents/Analysis/2024-11-22/anipose/pose_3d_filter/2024-11-22_09-31-36_f3d.csv\n",
      "/home/yiting/Documents/Analysis/2024-11-22/anipose/pose_3d_filter/2024-11-22_09-31-49_f3d.csv\n",
      "/home/yiting/Documents/Analysis/2024-11-22/anipose/pose_3d_filter/2024-11-22_09-32-02_f3d.csv\n",
      "/home/yiting/Documents/Analysis/2024-11-22/anipose/pose_3d_filter/2024-11-22_09-32-14_f3d.csv\n",
      "/home/yiting/Documents/Analysis/2024-11-22/anipose/pose_3d_filter/2024-11-22_09-32-28_f3d.csv\n",
      "/home/yiting/Documents/Analysis/2024-11-22/anipose/pose_3d_filter/2024-11-22_09-32-42_f3d.csv\n",
      "/home/yiting/Documents/Analysis/2024-11-22/anipose/pose_3d_filter/2024-11-22_09-32-55_f3d.csv\n",
      "/home/yiting/Documents/Analysis/2024-11-22/anipose/pose_3d_filter/2024-11-22_09-33-09_f3d.csv\n",
      "/home/yiting/Documents/Analysis/2024-11-22/anipose/pose_3d_filter/2024-11-22_09-33-23_f3d.csv\n",
      "/home/yiting/Documents/Analysis/2024-11-22/anipose/pose_3d_filter/2024-11-22_09-33-35_f3d.csv\n",
      "/home/yiting/Documents/Analysis/2024-11-22/anipose/pose_3d_filter/2024-11-22_09-33-48_f3d.csv\n",
      "/home/yiting/Documents/Analysis/2024-11-22/anipose/pose_3d_filter/2024-11-22_09-34-02_f3d.csv\n",
      "/home/yiting/Documents/Analysis/2024-11-22/anipose/pose_3d_filter/2024-11-22_09-34-14_f3d.csv\n",
      "/home/yiting/Documents/Analysis/2024-11-22/anipose/pose_3d_filter/2024-11-22_09-34-28_f3d.csv\n",
      "/home/yiting/Documents/Analysis/2024-11-22/anipose/pose_3d_filter/2024-11-22_09-34-42_f3d.csv\n",
      "/home/yiting/Documents/Analysis/2024-11-22/anipose/pose_3d_filter/2024-11-22_09-34-56_f3d.csv\n",
      "/home/yiting/Documents/Analysis/2024-11-22/anipose/pose_3d_filter/2024-11-22_09-35-08_f3d.csv\n",
      "/home/yiting/Documents/Analysis/2024-11-22/anipose/pose_3d_filter/2024-11-22_09-35-21_f3d.csv\n",
      "/home/yiting/Documents/Analysis/2024-11-22/anipose/pose_3d_filter/2024-11-22_09-35-32_f3d.csv\n",
      "/home/yiting/Documents/Analysis/2024-11-22/anipose/pose_3d_filter/2024-11-22_09-35-43_f3d.csv\n",
      "/home/yiting/Documents/Analysis/2024-11-22/anipose/pose_3d_filter/2024-11-22_09-35-57_f3d.csv\n",
      "/home/yiting/Documents/Analysis/2024-11-22/anipose/pose_3d_filter/2024-11-22_09-36-10_f3d.csv\n",
      "/home/yiting/Documents/Analysis/2024-11-22/anipose/pose_3d_filter/2024-11-22_09-36-23_f3d.csv\n",
      "/home/yiting/Documents/Analysis/2024-11-22/anipose/pose_3d_filter/2024-11-22_09-36-38_f3d.csv\n",
      "/home/yiting/Documents/Analysis/2024-11-22/anipose/pose_3d_filter/2024-11-22_09-36-51_f3d.csv\n",
      "/home/yiting/Documents/Analysis/2024-11-22/anipose/pose_3d_filter/2024-11-22_09-37-03_f3d.csv\n",
      "/home/yiting/Documents/Analysis/2024-11-22/anipose/pose_3d_filter/2024-11-22_09-37-15_f3d.csv\n",
      "/home/yiting/Documents/Analysis/2024-11-22/anipose/pose_3d_filter/2024-11-22_09-37-29_f3d.csv\n",
      "/home/yiting/Documents/Analysis/2024-11-22/anipose/pose_3d_filter/2024-11-22_09-37-42_f3d.csv\n",
      "/home/yiting/Documents/Analysis/2024-11-22/anipose/pose_3d_filter/2024-11-22_09-37-54_f3d.csv\n",
      "/home/yiting/Documents/Analysis/2024-11-22/anipose/pose_3d_filter/2024-11-22_09-38-08_f3d.csv\n",
      "/home/yiting/Documents/Analysis/2024-11-22/anipose/pose_3d_filter/2024-11-22_09-38-21_f3d.csv\n",
      "/home/yiting/Documents/Analysis/2024-11-22/anipose/pose_3d_filter/2024-11-22_09-38-33_f3d.csv\n",
      "/home/yiting/Documents/Analysis/2024-11-22/anipose/pose_3d_filter/2024-11-22_09-38-45_f3d.csv\n",
      "/home/yiting/Documents/Analysis/2024-11-22/anipose/pose_3d_filter/2024-11-22_09-38-59_f3d.csv\n",
      "/home/yiting/Documents/Analysis/2024-11-22/anipose/pose_3d_filter/2024-11-22_09-39-13_f3d.csv\n",
      "/home/yiting/Documents/Analysis/2024-11-22/anipose/pose_3d_filter/2024-11-22_09-39-28_f3d.csv\n",
      "/home/yiting/Documents/Analysis/2024-11-22/anipose/pose_3d_filter/2024-11-22_09-39-40_f3d.csv\n",
      "/home/yiting/Documents/Analysis/2024-11-22/anipose/pose_3d_filter/2024-11-22_09-39-51_f3d.csv\n",
      "/home/yiting/Documents/Analysis/2024-11-22/anipose/pose_3d_filter/2024-11-22_09-40-04_f3d.csv\n",
      "/home/yiting/Documents/Analysis/2024-11-22/anipose/pose_3d_filter/2024-11-22_09-40-16_f3d.csv\n",
      "/home/yiting/Documents/Analysis/2024-11-22/anipose/pose_3d_filter/2024-11-22_09-40-31_f3d.csv\n",
      "/home/yiting/Documents/Analysis/2024-11-22/anipose/pose_3d_filter/2024-11-22_09-40-45_f3d.csv\n",
      "/home/yiting/Documents/Analysis/2024-11-22/anipose/pose_3d_filter/2024-11-22_09-40-59_f3d.csv\n",
      "/home/yiting/Documents/Analysis/2024-11-22/anipose/pose_3d_filter/2024-11-22_09-41-13_f3d.csv\n",
      "/home/yiting/Documents/Analysis/2024-11-22/anipose/pose_3d_filter/2024-11-22_09-41-26_f3d.csv\n",
      "/home/yiting/Documents/Analysis/2024-11-22/anipose/pose_3d_filter/2024-11-22_09-41-39_f3d.csv\n",
      "/home/yiting/Documents/Analysis/2024-11-22/anipose/pose_3d_filter/2024-11-22_09-41-51_f3d.csv\n",
      "/home/yiting/Documents/Analysis/2024-11-22/anipose/pose_3d_filter/2024-11-22_09-42-04_f3d.csv\n",
      "/home/yiting/Documents/Analysis/2024-11-22/anipose/pose_3d_filter/2024-11-22_09-42-18_f3d.csv\n",
      "/home/yiting/Documents/Analysis/2024-11-22/anipose/pose_3d_filter/2024-11-22_09-42-31_f3d.csv\n",
      "/home/yiting/Documents/Analysis/2024-11-22/anipose/pose_3d_filter/2024-11-22_09-42-43_f3d.csv\n",
      "/home/yiting/Documents/Analysis/2024-11-22/anipose/pose_3d_filter/2024-11-22_09-42-56_f3d.csv\n",
      "/home/yiting/Documents/Analysis/2024-11-22/anipose/pose_3d_filter/2024-11-22_09-43-08_f3d.csv\n",
      "/home/yiting/Documents/Analysis/2024-11-22/anipose/pose_3d_filter/2024-11-22_09-43-20_f3d.csv\n",
      "/home/yiting/Documents/Analysis/2024-11-22/anipose/pose_3d_filter/2024-11-22_09-43-33_f3d.csv\n",
      "/home/yiting/Documents/Analysis/2024-11-22/anipose/pose_3d_filter/2024-11-22_09-43-47_f3d.csv\n",
      "/home/yiting/Documents/Analysis/2024-11-22/anipose/pose_3d_filter/2024-11-22_09-44-00_f3d.csv\n",
      "/home/yiting/Documents/Analysis/2024-11-22/anipose/pose_3d_filter/2024-11-22_09-44-13_f3d.csv\n",
      "/home/yiting/Documents/Analysis/2024-11-22/anipose/pose_3d_filter/2024-11-22_09-44-29_f3d.csv\n",
      "/home/yiting/Documents/Analysis/2024-11-22/anipose/pose_3d_filter/2024-11-22_09-44-43_f3d.csv\n",
      "/home/yiting/Documents/Analysis/2024-11-22/anipose/pose_3d_filter/2024-11-22_09-44-57_f3d.csv\n",
      "/home/yiting/Documents/Analysis/2024-11-22/anipose/pose_3d_filter/2024-11-22_09-45-09_f3d.csv\n",
      "/home/yiting/Documents/Analysis/2024-11-22/anipose/pose_3d_filter/2024-11-22_09-45-23_f3d.csv\n",
      "/home/yiting/Documents/Analysis/2024-11-22/anipose/pose_3d_filter/2024-11-22_09-45-35_f3d.csv\n",
      "/home/yiting/Documents/Analysis/2024-11-22/anipose/pose_3d_filter/2024-11-22_09-45-49_f3d.csv\n",
      "/home/yiting/Documents/Analysis/2024-11-22/anipose/pose_3d_filter/2024-11-22_09-46-04_f3d.csv\n",
      "/home/yiting/Documents/Analysis/2024-11-22/anipose/pose_3d_filter/2024-11-22_09-46-15_f3d.csv\n",
      "/home/yiting/Documents/Analysis/2024-11-22/anipose/pose_3d_filter/2024-11-22_09-46-29_f3d.csv\n",
      "/home/yiting/Documents/Analysis/2024-11-22/anipose/pose_3d_filter/2024-11-22_09-46-41_f3d.csv\n",
      "/home/yiting/Documents/Analysis/2024-11-22/anipose/pose_3d_filter/2024-11-22_09-46-55_f3d.csv\n",
      "/home/yiting/Documents/Analysis/2024-11-22/anipose/pose_3d_filter/2024-11-22_09-47-06_f3d.csv\n",
      "/home/yiting/Documents/Analysis/2024-11-22/anipose/pose_3d_filter/2024-11-22_09-47-21_f3d.csv\n",
      "/home/yiting/Documents/Analysis/2024-11-22/anipose/pose_3d_filter/2024-11-22_09-47-35_f3d.csv\n",
      "/home/yiting/Documents/Analysis/2024-11-22/anipose/pose_3d_filter/2024-11-22_09-47-47_f3d.csv\n",
      "/home/yiting/Documents/Analysis/2024-11-22/anipose/pose_3d_filter/2024-11-22_09-47-59_f3d.csv\n",
      "/home/yiting/Documents/Analysis/2024-11-22/anipose/pose_3d_filter/2024-11-22_09-48-13_f3d.csv\n",
      "/home/yiting/Documents/Analysis/2024-11-22/anipose/pose_3d_filter/2024-11-22_09-48-25_f3d.csv\n",
      "/home/yiting/Documents/Analysis/2024-11-22/anipose/pose_3d_filter/2024-11-22_09-48-36_f3d.csv\n",
      "/home/yiting/Documents/Analysis/2024-11-22/anipose/pose_3d_filter/2024-11-22_09-48-47_f3d.csv\n",
      "/home/yiting/Documents/Analysis/2024-11-22/anipose/pose_3d_filter/2024-11-22_09-48-59_f3d.csv\n",
      "/home/yiting/Documents/Analysis/2024-11-22/anipose/pose_3d_filter/2024-11-22_09-49-14_f3d.csv\n",
      "/home/yiting/Documents/Analysis/2024-11-22/anipose/pose_3d_filter/2024-11-22_09-49-29_f3d.csv\n",
      "/home/yiting/Documents/Analysis/2024-11-22/anipose/pose_3d_filter/2024-11-22_09-49-42_f3d.csv\n",
      "/home/yiting/Documents/Analysis/2024-11-22/anipose/pose_3d_filter/2024-11-22_09-49-54_f3d.csv\n",
      "/home/yiting/Documents/Analysis/2024-11-22/anipose/pose_3d_filter/2024-11-22_09-50-06_f3d.csv\n",
      "/home/yiting/Documents/Analysis/2024-11-22/anipose/pose_3d_filter/2024-11-22_09-50-18_f3d.csv\n",
      "/home/yiting/Documents/Analysis/2024-11-22/anipose/pose_3d_filter/2024-11-22_09-50-33_f3d.csv\n",
      "/home/yiting/Documents/Analysis/2024-11-22/anipose/pose_3d_filter/2024-11-22_09-50-45_f3d.csv\n",
      "/home/yiting/Documents/Analysis/2024-11-22/anipose/pose_3d_filter/2024-11-22_09-50-56_f3d.csv\n",
      "/home/yiting/Documents/Analysis/2024-11-22/anipose/pose_3d_filter/2024-11-22_09-51-10_f3d.csv\n",
      "/home/yiting/Documents/Analysis/2024-11-22/anipose/pose_3d_filter/2024-11-22_09-51-23_f3d.csv\n",
      "/home/yiting/Documents/Analysis/2024-11-22/anipose/pose_3d_filter/2024-11-22_09-51-36_f3d.csv\n",
      "/home/yiting/Documents/Analysis/2024-11-22/anipose/pose_3d_filter/2024-11-22_09-51-50_f3d.csv\n",
      "/home/yiting/Documents/Analysis/2024-11-22/anipose/pose_3d_filter/2024-11-22_09-52-05_f3d.csv\n",
      "/home/yiting/Documents/Analysis/2024-11-22/anipose/pose_3d_filter/2024-11-22_09-52-20_f3d.csv\n",
      "/home/yiting/Documents/Analysis/2024-11-22/anipose/pose_3d_filter/2024-11-22_09-52-33_f3d.csv\n",
      "/home/yiting/Documents/Analysis/2024-11-22/anipose/pose_3d_filter/2024-11-22_09-52-46_f3d.csv\n",
      "/home/yiting/Documents/Analysis/2024-11-22/anipose/pose_3d_filter/2024-11-22_09-53-00_f3d.csv\n",
      "/home/yiting/Documents/Analysis/2024-11-22/anipose/pose_3d_filter/2024-11-22_09-53-15_f3d.csv\n",
      "/home/yiting/Documents/Analysis/2024-11-22/anipose/pose_3d_filter/2024-11-22_09-53-26_f3d.csv\n",
      "/home/yiting/Documents/Analysis/2024-11-22/anipose/pose_3d_filter/2024-11-22_09-53-39_f3d.csv\n",
      "/home/yiting/Documents/Analysis/2024-11-22/anipose/pose_3d_filter/2024-11-22_09-53-54_f3d.csv\n",
      "/home/yiting/Documents/Analysis/2024-11-22/anipose/pose_3d_filter/2024-11-22_09-54-07_f3d.csv\n",
      "/home/yiting/Documents/Analysis/2024-11-22/anipose/pose_3d_filter/2024-11-22_09-54-19_f3d.csv\n",
      "/home/yiting/Documents/Analysis/2024-11-22/anipose/pose_3d_filter/2024-11-22_09-54-31_f3d.csv\n",
      "/home/yiting/Documents/Analysis/2024-11-22/anipose/pose_3d_filter/2024-11-22_09-54-44_f3d.csv\n",
      "/home/yiting/Documents/Analysis/2024-11-22/anipose/pose_3d_filter/2024-11-22_09-54-55_f3d.csv\n",
      "/home/yiting/Documents/Analysis/2024-11-22/anipose/pose_3d_filter/2024-11-22_09-55-07_f3d.csv\n",
      "/home/yiting/Documents/Analysis/2024-11-22/anipose/pose_3d_filter/2024-11-22_09-55-19_f3d.csv\n",
      "/home/yiting/Documents/Analysis/2024-11-22/anipose/pose_3d_filter/2024-11-22_09-55-33_f3d.csv\n",
      "/home/yiting/Documents/Analysis/2024-11-22/anipose/pose_3d_filter/2024-11-22_09-55-45_f3d.csv\n",
      "/home/yiting/Documents/Analysis/2024-11-22/anipose/pose_3d_filter/2024-11-22_09-55-58_f3d.csv\n",
      "/home/yiting/Documents/Analysis/2024-11-22/anipose/pose_3d_filter/2024-11-22_09-56-11_f3d.csv\n",
      "/home/yiting/Documents/Analysis/2024-11-22/anipose/pose_3d_filter/2024-11-22_09-56-24_f3d.csv\n",
      "/home/yiting/Documents/Analysis/2024-11-22/anipose/pose_3d_filter/2024-11-22_09-56-39_f3d.csv\n",
      "/home/yiting/Documents/Analysis/2024-11-22/anipose/pose_3d_filter/2024-11-22_09-56-53_f3d.csv\n",
      "/home/yiting/Documents/Analysis/2024-11-22/anipose/pose_3d_filter/2024-11-22_09-57-05_f3d.csv\n",
      "/home/yiting/Documents/Analysis/2024-11-22/anipose/pose_3d_filter/2024-11-22_09-57-17_f3d.csv\n",
      "/home/yiting/Documents/Analysis/2024-11-22/anipose/pose_3d_filter/2024-11-22_09-57-27_f3d.csv\n",
      "/home/yiting/Documents/Analysis/2024-11-22/anipose/pose_3d_filter/2024-11-22_09-57-38_f3d.csv\n",
      "/home/yiting/Documents/Analysis/2024-11-22/anipose/pose_3d_filter/2024-11-22_09-58-44_f3d.csv\n",
      "/home/yiting/Documents/Analysis/2024-11-22/anipose/pose_3d_filter/2024-11-22_09-58-57_f3d.csv\n",
      "/home/yiting/Documents/Analysis/2024-11-22/anipose/pose_3d_filter/2024-11-22_09-59-09_f3d.csv\n",
      "/home/yiting/Documents/Analysis/2024-11-22/anipose/pose_3d_filter/2024-11-22_09-59-23_f3d.csv\n",
      "/home/yiting/Documents/Analysis/2024-11-22/anipose/pose_3d_filter/2024-11-22_09-59-37_f3d.csv\n",
      "/home/yiting/Documents/Analysis/2024-11-22/anipose/pose_3d_filter/2024-11-22_09-59-51_f3d.csv\n",
      "/home/yiting/Documents/Analysis/2024-11-22/anipose/pose_3d_filter/2024-11-22_10-00-06_f3d.csv\n",
      "/home/yiting/Documents/Analysis/2024-11-22/anipose/pose_3d_filter/2024-11-22_10-00-21_f3d.csv\n",
      "/home/yiting/Documents/Analysis/2024-11-22/anipose/pose_3d_filter/2024-11-22_10-00-34_f3d.csv\n",
      "/home/yiting/Documents/Analysis/2024-11-22/anipose/pose_3d_filter/2024-11-22_10-00-49_f3d.csv\n",
      "/home/yiting/Documents/Analysis/2024-11-22/anipose/pose_3d_filter/2024-11-22_10-01-01_f3d.csv\n",
      "/home/yiting/Documents/Analysis/2024-11-22/anipose/pose_3d_filter/2024-11-22_10-01-14_f3d.csv\n",
      "/home/yiting/Documents/Analysis/2024-11-22/anipose/pose_3d_filter/2024-11-22_10-01-26_f3d.csv\n",
      "/home/yiting/Documents/Analysis/2024-11-22/anipose/pose_3d_filter/2024-11-22_10-01-38_f3d.csv\n",
      "/home/yiting/Documents/Analysis/2024-11-22/anipose/pose_3d_filter/2024-11-22_10-01-52_f3d.csv\n",
      "/home/yiting/Documents/Analysis/2024-11-22/anipose/pose_3d_filter/2024-11-22_10-02-03_f3d.csv\n",
      "/home/yiting/Documents/Analysis/2024-11-22/anipose/pose_3d_filter/2024-11-22_10-02-17_f3d.csv\n",
      "/home/yiting/Documents/Analysis/2024-11-22/anipose/pose_3d_filter/2024-11-22_10-02-28_f3d.csv\n",
      "/home/yiting/Documents/Analysis/2024-11-22/anipose/pose_3d_filter/2024-11-22_10-02-43_f3d.csv\n",
      "/home/yiting/Documents/Analysis/2024-11-22/anipose/pose_3d_filter/2024-11-22_10-02-56_f3d.csv\n",
      "/home/yiting/Documents/Analysis/2024-11-22/anipose/pose_3d_filter/2024-11-22_10-03-10_f3d.csv\n",
      "/home/yiting/Documents/Analysis/2024-11-22/anipose/pose_3d_filter/2024-11-22_10-03-23_f3d.csv\n",
      "/home/yiting/Documents/Analysis/2024-11-22/anipose/pose_3d_filter/2024-11-22_10-03-34_f3d.csv\n",
      "/home/yiting/Documents/Analysis/2024-11-22/anipose/pose_3d_filter/2024-11-22_10-03-47_f3d.csv\n",
      "/home/yiting/Documents/Analysis/2024-11-22/anipose/pose_3d_filter/2024-11-22_10-04-00_f3d.csv\n",
      "/home/yiting/Documents/Analysis/2024-11-22/anipose/pose_3d_filter/2024-11-22_10-04-12_f3d.csv\n",
      "/home/yiting/Documents/Analysis/2024-11-22/anipose/pose_3d_filter/2024-11-22_10-04-24_f3d.csv\n",
      "/home/yiting/Documents/Analysis/2024-11-22/anipose/pose_3d_filter/2024-11-22_10-04-38_f3d.csv\n",
      "/home/yiting/Documents/Analysis/2024-11-22/anipose/pose_3d_filter/2024-11-22_10-04-50_f3d.csv\n",
      "/home/yiting/Documents/Analysis/2024-11-22/anipose/pose_3d_filter/2024-11-22_10-05-04_f3d.csv\n",
      "/home/yiting/Documents/Analysis/2024-11-22/anipose/pose_3d_filter/2024-11-22_10-05-18_f3d.csv\n",
      "/home/yiting/Documents/Analysis/2024-11-22/anipose/pose_3d_filter/2024-11-22_10-05-32_f3d.csv\n",
      "/home/yiting/Documents/Analysis/2024-11-22/anipose/pose_3d_filter/2024-11-22_10-05-46_f3d.csv\n",
      "/home/yiting/Documents/Analysis/2024-11-22/anipose/pose_3d_filter/2024-11-22_10-06-00_f3d.csv\n",
      "/home/yiting/Documents/Analysis/2024-11-22/anipose/pose_3d_filter/2024-11-22_10-06-12_f3d.csv\n",
      "/home/yiting/Documents/Analysis/2024-11-22/anipose/pose_3d_filter/2024-11-22_10-06-26_f3d.csv\n",
      "/home/yiting/Documents/Analysis/2024-11-22/anipose/pose_3d_filter/2024-11-22_10-06-40_f3d.csv\n",
      "/home/yiting/Documents/Analysis/2024-11-22/anipose/pose_3d_filter/2024-11-22_10-06-51_f3d.csv\n",
      "/home/yiting/Documents/Analysis/2024-11-22/anipose/pose_3d_filter/2024-11-22_10-07-05_f3d.csv\n",
      "/home/yiting/Documents/Analysis/2024-11-22/anipose/pose_3d_filter/2024-11-22_10-07-19_f3d.csv\n",
      "/home/yiting/Documents/Analysis/2024-11-22/anipose/pose_3d_filter/2024-11-22_10-07-33_f3d.csv\n",
      "/home/yiting/Documents/Analysis/2024-11-22/anipose/pose_3d_filter/2024-11-22_10-07-46_f3d.csv\n",
      "/home/yiting/Documents/Analysis/2024-11-22/anipose/pose_3d_filter/2024-11-22_10-07-58_f3d.csv\n",
      "/home/yiting/Documents/Analysis/2024-11-22/anipose/pose_3d_filter/2024-11-22_10-08-11_f3d.csv\n",
      "/home/yiting/Documents/Analysis/2024-11-22/anipose/pose_3d_filter/2024-11-22_10-08-23_f3d.csv\n",
      "/home/yiting/Documents/Analysis/2024-11-22/anipose/pose_3d_filter/2024-11-22_10-08-36_f3d.csv\n",
      "/home/yiting/Documents/Analysis/2024-11-22/anipose/pose_3d_filter/2024-11-22_10-08-49_f3d.csv\n",
      "/home/yiting/Documents/Analysis/2024-11-22/anipose/pose_3d_filter/2024-11-22_10-09-02_f3d.csv\n",
      "/home/yiting/Documents/Analysis/2024-11-22/anipose/pose_3d_filter/2024-11-22_10-09-18_f3d.csv\n",
      "/home/yiting/Documents/Analysis/2024-11-22/anipose/pose_3d_filter/2024-11-22_10-09-31_f3d.csv\n",
      "/home/yiting/Documents/Analysis/2024-11-22/anipose/pose_3d_filter/2024-11-22_10-09-43_f3d.csv\n",
      "/home/yiting/Documents/Analysis/2024-11-22/anipose/pose_3d_filter/2024-11-22_10-09-57_f3d.csv\n",
      "/home/yiting/Documents/Analysis/2024-11-22/anipose/pose_3d_filter/2024-11-22_10-10-09_f3d.csv\n",
      "/home/yiting/Documents/Analysis/2024-11-22/anipose/pose_3d_filter/2024-11-22_10-10-24_f3d.csv\n",
      "/home/yiting/Documents/Analysis/2024-11-22/anipose/pose_3d_filter/2024-11-22_10-10-38_f3d.csv\n",
      "/home/yiting/Documents/Analysis/2024-11-22/anipose/pose_3d_filter/2024-11-22_10-10-51_f3d.csv\n",
      "/home/yiting/Documents/Analysis/2024-11-22/anipose/pose_3d_filter/2024-11-22_10-11-05_f3d.csv\n",
      "/home/yiting/Documents/Analysis/2024-11-22/anipose/pose_3d_filter/2024-11-22_10-11-19_f3d.csv\n",
      "/home/yiting/Documents/Analysis/2024-11-22/anipose/pose_3d_filter/2024-11-22_10-11-33_f3d.csv\n",
      "/home/yiting/Documents/Analysis/2024-11-22/anipose/pose_3d_filter/2024-11-22_10-11-45_f3d.csv\n",
      "/home/yiting/Documents/Analysis/2024-11-22/anipose/pose_3d_filter/2024-11-22_10-11-58_f3d.csv\n",
      "/home/yiting/Documents/Analysis/2024-11-22/anipose/pose_3d_filter/2024-11-22_10-12-11_f3d.csv\n",
      "/home/yiting/Documents/Analysis/2024-11-22/anipose/pose_3d_filter/2024-11-22_10-12-25_f3d.csv\n",
      "/home/yiting/Documents/Analysis/2024-11-22/anipose/pose_3d_filter/2024-11-22_10-12-37_f3d.csv\n",
      "/home/yiting/Documents/Analysis/2024-11-22/anipose/pose_3d_filter/2024-11-22_10-12-49_f3d.csv\n",
      "/home/yiting/Documents/Analysis/2024-11-22/anipose/pose_3d_filter/2024-11-22_10-13-03_f3d.csv\n",
      "/home/yiting/Documents/Analysis/2024-11-22/anipose/pose_3d_filter/2024-11-22_10-13-14_f3d.csv\n",
      "/home/yiting/Documents/Analysis/2024-11-22/anipose/pose_3d_filter/2024-11-22_10-13-28_f3d.csv\n",
      "/home/yiting/Documents/Analysis/2024-11-22/anipose/pose_3d_filter/2024-11-22_10-13-40_f3d.csv\n",
      "/home/yiting/Documents/Analysis/2024-11-22/anipose/pose_3d_filter/2024-11-22_10-13-53_f3d.csv\n",
      "/home/yiting/Documents/Analysis/2024-11-22/anipose/pose_3d_filter/2024-11-22_10-14-05_f3d.csv\n",
      "/home/yiting/Documents/Analysis/2024-11-22/anipose/pose_3d_filter/2024-11-22_10-14-19_f3d.csv\n",
      "/home/yiting/Documents/Analysis/2024-11-22/anipose/pose_3d_filter/2024-11-22_10-14-32_f3d.csv\n",
      "/home/yiting/Documents/Analysis/2024-11-22/anipose/pose_3d_filter/2024-11-22_10-14-46_f3d.csv\n",
      "/home/yiting/Documents/Analysis/2024-11-22/anipose/pose_3d_filter/2024-11-22_10-15-00_f3d.csv\n",
      "/home/yiting/Documents/Analysis/2024-11-22/anipose/pose_3d_filter/2024-11-22_10-15-14_f3d.csv\n",
      "/home/yiting/Documents/Analysis/2024-11-22/anipose/pose_3d_filter/2024-11-22_10-15-28_f3d.csv\n",
      "/home/yiting/Documents/Analysis/2024-11-22/anipose/pose_3d_filter/2024-11-22_10-15-42_f3d.csv\n",
      "/home/yiting/Documents/Analysis/2024-11-22/anipose/pose_3d_filter/2024-11-22_10-15-53_f3d.csv\n",
      "/home/yiting/Documents/Analysis/2024-11-22/anipose/pose_3d_filter/2024-11-22_10-16-07_f3d.csv\n",
      "/home/yiting/Documents/Analysis/2024-11-22/anipose/pose_3d_filter/2024-11-22_10-16-20_f3d.csv\n",
      "/home/yiting/Documents/Analysis/2024-11-22/anipose/pose_3d_filter/2024-11-22_10-16-35_f3d.csv\n",
      "/home/yiting/Documents/Analysis/2024-11-22/anipose/pose_3d_filter/2024-11-22_10-16-50_f3d.csv\n",
      "/home/yiting/Documents/Analysis/2024-11-22/anipose/pose_3d_filter/2024-11-22_10-17-03_f3d.csv\n",
      "/home/yiting/Documents/Analysis/2024-11-22/anipose/pose_3d_filter/2024-11-22_10-17-16_f3d.csv\n",
      "/home/yiting/Documents/Analysis/2024-11-22/anipose/pose_3d_filter/2024-11-22_10-17-28_f3d.csv\n",
      "/home/yiting/Documents/Analysis/2024-11-22/anipose/pose_3d_filter/2024-11-22_10-17-41_f3d.csv\n",
      "/home/yiting/Documents/Analysis/2024-11-22/anipose/pose_3d_filter/2024-11-22_10-17-53_f3d.csv\n",
      "/home/yiting/Documents/Analysis/2024-11-22/anipose/pose_3d_filter/2024-11-22_10-18-07_f3d.csv\n",
      "/home/yiting/Documents/Analysis/2024-11-22/anipose/pose_3d_filter/2024-11-22_10-18-21_f3d.csv\n",
      "/home/yiting/Documents/Analysis/2024-11-22/anipose/pose_3d_filter/2024-11-22_10-18-34_f3d.csv\n",
      "/home/yiting/Documents/Analysis/2024-11-22/anipose/pose_3d_filter/2024-11-22_10-18-48_f3d.csv\n",
      "/home/yiting/Documents/Analysis/2024-11-22/anipose/pose_3d_filter/2024-11-22_10-19-02_f3d.csv\n",
      "/home/yiting/Documents/Analysis/2024-11-22/anipose/pose_3d_filter/2024-11-22_10-19-14_f3d.csv\n",
      "/home/yiting/Documents/Analysis/2024-11-22/anipose/pose_3d_filter/2024-11-22_10-19-27_f3d.csv\n",
      "/home/yiting/Documents/Analysis/2024-11-22/anipose/pose_3d_filter/2024-11-22_10-19-41_f3d.csv\n",
      "/home/yiting/Documents/Analysis/2024-11-22/anipose/pose_3d_filter/2024-11-22_10-19-57_f3d.csv\n",
      "/home/yiting/Documents/Analysis/2024-11-22/anipose/pose_3d_filter/2024-11-22_10-20-11_f3d.csv\n",
      "/home/yiting/Documents/Analysis/2024-11-22/anipose/pose_3d_filter/2024-11-22_10-20-24_f3d.csv\n",
      "/home/yiting/Documents/Analysis/2024-11-22/anipose/pose_3d_filter/2024-11-22_10-20-37_f3d.csv\n",
      "/home/yiting/Documents/Analysis/2024-11-22/anipose/pose_3d_filter/2024-11-22_10-20-50_f3d.csv\n",
      "/home/yiting/Documents/Analysis/2024-11-22/anipose/pose_3d_filter/2024-11-22_10-21-01_f3d.csv\n",
      "/home/yiting/Documents/Analysis/2024-11-22/anipose/pose_3d_filter/2024-11-22_10-21-14_f3d.csv\n",
      "/home/yiting/Documents/Analysis/2024-11-22/anipose/pose_3d_filter/2024-11-22_10-21-29_f3d.csv\n",
      "/home/yiting/Documents/Analysis/2024-11-22/anipose/pose_3d_filter/2024-11-22_10-21-44_f3d.csv\n",
      "/home/yiting/Documents/Analysis/2024-11-22/anipose/pose_3d_filter/2024-11-22_10-21-57_f3d.csv\n",
      "/home/yiting/Documents/Analysis/2024-11-22/anipose/pose_3d_filter/2024-11-22_10-22-09_f3d.csv\n",
      "/home/yiting/Documents/Analysis/2024-11-22/anipose/pose_3d_filter/2024-11-22_10-22-20_f3d.csv\n",
      "/home/yiting/Documents/Analysis/2024-11-22/anipose/pose_3d_filter/2024-11-22_10-22-30_f3d.csv\n",
      "/home/yiting/Documents/Analysis/2024-11-22/anipose/pose_3d_filter/2024-11-22_10-22-40_f3d.csv\n",
      "/home/yiting/Documents/Analysis/2024-11-22/anipose/pose_3d_filter/2024-11-22_10-22-51_f3d.csv\n",
      "/home/yiting/Documents/Analysis/2024-11-22/anipose/pose_3d_filter/2024-11-22_10-23-01_f3d.csv\n",
      "/home/yiting/Documents/Analysis/2024-11-22/anipose/pose_3d_filter/2024-11-22_10-23-12_f3d.csv\n",
      "/home/yiting/Documents/Analysis/2024-11-22/anipose/pose_3d_filter/2024-11-22_10-23-22_f3d.csv\n",
      "/home/yiting/Documents/Analysis/2024-11-22/anipose/pose_3d_filter/2024-11-22_10-23-32_f3d.csv\n",
      "/home/yiting/Documents/Analysis/2024-11-22/anipose/pose_3d_filter/2024-11-22_10-23-42_f3d.csv\n",
      "/home/yiting/Documents/Analysis/2024-11-22/anipose/pose_3d_filter/2024-11-22_10-23-53_f3d.csv\n",
      "/home/yiting/Documents/Analysis/2024-11-22/anipose/pose_3d_filter/2024-11-22_10-34-32_f3d.csv\n",
      "/home/yiting/Documents/Analysis/2024-11-22/anipose/pose_3d_filter/2024-11-22_10-34-42_f3d.csv\n",
      "/home/yiting/Documents/Analysis/2024-11-22/anipose/pose_3d_filter/2024-11-22_10-34-54_f3d.csv\n",
      "/home/yiting/Documents/Analysis/2024-11-22/anipose/pose_3d_filter/2024-11-22_10-35-08_f3d.csv\n",
      "/home/yiting/Documents/Analysis/2024-11-22/anipose/pose_3d_filter/2024-11-22_10-35-22_f3d.csv\n",
      "/home/yiting/Documents/Analysis/2024-11-22/anipose/pose_3d_filter/2024-11-22_10-35-36_f3d.csv\n",
      "/home/yiting/Documents/Analysis/2024-11-22/anipose/pose_3d_filter/2024-11-22_10-35-51_f3d.csv\n",
      "/home/yiting/Documents/Analysis/2024-11-22/anipose/pose_3d_filter/2024-11-22_10-36-03_f3d.csv\n",
      "/home/yiting/Documents/Analysis/2024-11-22/anipose/pose_3d_filter/2024-11-22_10-36-18_f3d.csv\n",
      "/home/yiting/Documents/Analysis/2024-11-22/anipose/pose_3d_filter/2024-11-22_10-36-32_f3d.csv\n",
      "/home/yiting/Documents/Analysis/2024-11-22/anipose/pose_3d_filter/2024-11-22_10-36-46_f3d.csv\n",
      "/home/yiting/Documents/Analysis/2024-11-22/anipose/pose_3d_filter/2024-11-22_10-36-58_f3d.csv\n",
      "/home/yiting/Documents/Analysis/2024-11-22/anipose/pose_3d_filter/2024-11-22_10-37-10_f3d.csv\n",
      "/home/yiting/Documents/Analysis/2024-11-22/anipose/pose_3d_filter/2024-11-22_10-37-24_f3d.csv\n",
      "/home/yiting/Documents/Analysis/2024-11-22/anipose/pose_3d_filter/2024-11-22_10-37-38_f3d.csv\n",
      "/home/yiting/Documents/Analysis/2024-11-22/anipose/pose_3d_filter/2024-11-22_10-37-52_f3d.csv\n",
      "/home/yiting/Documents/Analysis/2024-11-22/anipose/pose_3d_filter/2024-11-22_10-38-06_f3d.csv\n",
      "/home/yiting/Documents/Analysis/2024-11-22/anipose/pose_3d_filter/2024-11-22_10-38-19_f3d.csv\n",
      "/home/yiting/Documents/Analysis/2024-11-22/anipose/pose_3d_filter/2024-11-22_10-38-31_f3d.csv\n",
      "/home/yiting/Documents/Analysis/2024-11-22/anipose/pose_3d_filter/2024-11-22_10-38-46_f3d.csv\n",
      "/home/yiting/Documents/Analysis/2024-11-22/anipose/pose_3d_filter/2024-11-22_10-38-59_f3d.csv\n",
      "/home/yiting/Documents/Analysis/2024-11-22/anipose/pose_3d_filter/2024-11-22_10-39-11_f3d.csv\n",
      "/home/yiting/Documents/Analysis/2024-11-22/anipose/pose_3d_filter/2024-11-22_10-39-25_f3d.csv\n",
      "/home/yiting/Documents/Analysis/2024-11-22/anipose/pose_3d_filter/2024-11-22_10-39-39_f3d.csv\n",
      "/home/yiting/Documents/Analysis/2024-11-22/anipose/pose_3d_filter/2024-11-22_10-39-53_f3d.csv\n",
      "/home/yiting/Documents/Analysis/2024-11-22/anipose/pose_3d_filter/2024-11-22_10-40-06_f3d.csv\n",
      "/home/yiting/Documents/Analysis/2024-11-22/anipose/pose_3d_filter/2024-11-22_10-40-20_f3d.csv\n",
      "/home/yiting/Documents/Analysis/2024-11-22/anipose/pose_3d_filter/2024-11-22_10-40-32_f3d.csv\n",
      "/home/yiting/Documents/Analysis/2024-11-22/anipose/pose_3d_filter/2024-11-22_10-40-44_f3d.csv\n",
      "/home/yiting/Documents/Analysis/2024-11-22/anipose/pose_3d_filter/2024-11-22_10-40-58_f3d.csv\n",
      "/home/yiting/Documents/Analysis/2024-11-22/anipose/pose_3d_filter/2024-11-22_10-41-12_f3d.csv\n",
      "/home/yiting/Documents/Analysis/2024-11-22/anipose/pose_3d_filter/2024-11-22_10-41-26_f3d.csv\n",
      "/home/yiting/Documents/Analysis/2024-11-22/anipose/pose_3d_filter/2024-11-22_10-41-41_f3d.csv\n",
      "/home/yiting/Documents/Analysis/2024-11-22/anipose/pose_3d_filter/2024-11-22_10-41-55_f3d.csv\n",
      "/home/yiting/Documents/Analysis/2024-11-22/anipose/pose_3d_filter/2024-11-22_10-42-08_f3d.csv\n",
      "/home/yiting/Documents/Analysis/2024-11-22/anipose/pose_3d_filter/2024-11-22_10-42-20_f3d.csv\n",
      "/home/yiting/Documents/Analysis/2024-11-22/anipose/pose_3d_filter/2024-11-22_10-42-33_f3d.csv\n",
      "/home/yiting/Documents/Analysis/2024-11-22/anipose/pose_3d_filter/2024-11-22_10-42-48_f3d.csv\n",
      "/home/yiting/Documents/Analysis/2024-11-22/anipose/pose_3d_filter/2024-11-22_10-43-02_f3d.csv\n",
      "/home/yiting/Documents/Analysis/2024-11-22/anipose/pose_3d_filter/2024-11-22_10-43-15_f3d.csv\n",
      "/home/yiting/Documents/Analysis/2024-11-22/anipose/pose_3d_filter/2024-11-22_10-43-27_f3d.csv\n",
      "/home/yiting/Documents/Analysis/2024-11-22/anipose/pose_3d_filter/2024-11-22_10-43-39_f3d.csv\n",
      "/home/yiting/Documents/Analysis/2024-11-22/anipose/pose_3d_filter/2024-11-22_10-43-53_f3d.csv\n",
      "/home/yiting/Documents/Analysis/2024-11-22/anipose/pose_3d_filter/2024-11-22_10-44-06_f3d.csv\n",
      "/home/yiting/Documents/Analysis/2024-11-22/anipose/pose_3d_filter/2024-11-22_10-44-20_f3d.csv\n",
      "/home/yiting/Documents/Analysis/2024-11-22/anipose/pose_3d_filter/2024-11-22_10-44-33_f3d.csv\n",
      "/home/yiting/Documents/Analysis/2024-11-22/anipose/pose_3d_filter/2024-11-22_10-44-46_f3d.csv\n",
      "/home/yiting/Documents/Analysis/2024-11-22/anipose/pose_3d_filter/2024-11-22_10-44-58_f3d.csv\n",
      "/home/yiting/Documents/Analysis/2024-11-22/anipose/pose_3d_filter/2024-11-22_10-45-12_f3d.csv\n",
      "/home/yiting/Documents/Analysis/2024-11-22/anipose/pose_3d_filter/2024-11-22_10-45-24_f3d.csv\n",
      "/home/yiting/Documents/Analysis/2024-11-22/anipose/pose_3d_filter/2024-11-22_10-45-37_f3d.csv\n",
      "/home/yiting/Documents/Analysis/2024-11-22/anipose/pose_3d_filter/2024-11-22_10-45-51_f3d.csv\n",
      "/home/yiting/Documents/Analysis/2024-11-22/anipose/pose_3d_filter/2024-11-22_10-46-05_f3d.csv\n",
      "/home/yiting/Documents/Analysis/2024-11-22/anipose/pose_3d_filter/2024-11-22_10-46-19_f3d.csv\n",
      "/home/yiting/Documents/Analysis/2024-11-22/anipose/pose_3d_filter/2024-11-22_10-46-32_f3d.csv\n",
      "/home/yiting/Documents/Analysis/2024-11-22/anipose/pose_3d_filter/2024-11-22_10-46-44_f3d.csv\n",
      "/home/yiting/Documents/Analysis/2024-11-22/anipose/pose_3d_filter/2024-11-22_10-46-58_f3d.csv\n",
      "/home/yiting/Documents/Analysis/2024-11-22/anipose/pose_3d_filter/2024-11-22_10-47-10_f3d.csv\n",
      "/home/yiting/Documents/Analysis/2024-11-22/anipose/pose_3d_filter/2024-11-22_10-47-24_f3d.csv\n",
      "/home/yiting/Documents/Analysis/2024-11-22/anipose/pose_3d_filter/2024-11-22_10-47-38_f3d.csv\n",
      "/home/yiting/Documents/Analysis/2024-11-22/anipose/pose_3d_filter/2024-11-22_10-47-53_f3d.csv\n",
      "/home/yiting/Documents/Analysis/2024-11-22/anipose/pose_3d_filter/2024-11-22_10-48-06_f3d.csv\n",
      "/home/yiting/Documents/Analysis/2024-11-22/anipose/pose_3d_filter/2024-11-22_10-48-19_f3d.csv\n",
      "/home/yiting/Documents/Analysis/2024-11-22/anipose/pose_3d_filter/2024-11-22_10-48-31_f3d.csv\n",
      "/home/yiting/Documents/Analysis/2024-11-22/anipose/pose_3d_filter/2024-11-22_10-48-44_f3d.csv\n",
      "/home/yiting/Documents/Analysis/2024-11-22/anipose/pose_3d_filter/2024-11-22_10-48-56_f3d.csv\n",
      "/home/yiting/Documents/Analysis/2024-11-22/anipose/pose_3d_filter/2024-11-22_10-49-07_f3d.csv\n",
      "/home/yiting/Documents/Analysis/2024-11-22/anipose/pose_3d_filter/2024-11-22_10-49-18_f3d.csv\n",
      "/home/yiting/Documents/Analysis/2024-11-22/anipose/pose_3d_filter/2024-11-22_10-49-29_f3d.csv\n",
      "/home/yiting/Documents/Analysis/2024-11-22/anipose/pose_3d_filter/2024-11-22_10-49-44_f3d.csv\n",
      "/home/yiting/Documents/Analysis/2024-11-22/anipose/pose_3d_filter/2024-11-22_10-49-58_f3d.csv\n",
      "/home/yiting/Documents/Analysis/2024-11-22/anipose/pose_3d_filter/2024-11-22_10-50-13_f3d.csv\n",
      "/home/yiting/Documents/Analysis/2024-11-22/anipose/pose_3d_filter/2024-11-22_10-50-25_f3d.csv\n",
      "/home/yiting/Documents/Analysis/2024-11-22/anipose/pose_3d_filter/2024-11-22_10-50-38_f3d.csv\n",
      "/home/yiting/Documents/Analysis/2024-11-22/anipose/pose_3d_filter/2024-11-22_10-50-50_f3d.csv\n",
      "/home/yiting/Documents/Analysis/2024-11-22/anipose/pose_3d_filter/2024-11-22_10-51-03_f3d.csv\n",
      "/home/yiting/Documents/Analysis/2024-11-22/anipose/pose_3d_filter/2024-11-22_10-51-17_f3d.csv\n",
      "/home/yiting/Documents/Analysis/2024-11-22/anipose/pose_3d_filter/2024-11-22_10-51-30_f3d.csv\n",
      "/home/yiting/Documents/Analysis/2024-11-22/anipose/pose_3d_filter/2024-11-22_10-51-45_f3d.csv\n",
      "/home/yiting/Documents/Analysis/2024-11-22/anipose/pose_3d_filter/2024-11-22_10-51-59_f3d.csv\n",
      "/home/yiting/Documents/Analysis/2024-11-22/anipose/pose_3d_filter/2024-11-22_10-52-09_f3d.csv\n",
      "/home/yiting/Documents/Analysis/2024-11-22/anipose/pose_3d_filter/2024-11-22_10-52-21_f3d.csv\n",
      "/home/yiting/Documents/Analysis/2024-11-22/anipose/pose_3d_filter/2024-11-22_10-52-32_f3d.csv\n",
      "/home/yiting/Documents/Analysis/2024-11-22/anipose/pose_3d_filter/2024-11-22_10-52-43_f3d.csv\n",
      "/home/yiting/Documents/Analysis/2024-11-22/anipose/pose_3d_filter/2024-11-22_10-52-54_f3d.csv\n",
      "/home/yiting/Documents/Analysis/2024-11-22/anipose/pose_3d_filter/2024-11-22_10-53-06_f3d.csv\n",
      "/home/yiting/Documents/Analysis/2024-11-22/anipose/pose_3d_filter/2024-11-22_10-53-18_f3d.csv\n",
      "/home/yiting/Documents/Analysis/2024-11-22/anipose/pose_3d_filter/2024-11-22_10-53-32_f3d.csv\n",
      "/home/yiting/Documents/Analysis/2024-11-22/anipose/pose_3d_filter/2024-11-22_10-53-45_f3d.csv\n",
      "/home/yiting/Documents/Analysis/2024-11-22/anipose/pose_3d_filter/2024-11-22_10-53-59_f3d.csv\n",
      "/home/yiting/Documents/Analysis/2024-11-22/anipose/pose_3d_filter/2024-11-22_10-54-12_f3d.csv\n",
      "/home/yiting/Documents/Analysis/2024-11-22/anipose/pose_3d_filter/2024-11-22_10-54-25_f3d.csv\n",
      "/home/yiting/Documents/Analysis/2024-11-22/anipose/pose_3d_filter/2024-11-22_10-54-39_f3d.csv\n",
      "/home/yiting/Documents/Analysis/2024-11-22/anipose/pose_3d_filter/2024-11-22_10-54-51_f3d.csv\n",
      "/home/yiting/Documents/Analysis/2024-11-22/anipose/pose_3d_filter/2024-11-22_10-55-04_f3d.csv\n",
      "/home/yiting/Documents/Analysis/2024-11-22/anipose/pose_3d_filter/2024-11-22_10-55-16_f3d.csv\n",
      "/home/yiting/Documents/Analysis/2024-11-22/anipose/pose_3d_filter/2024-11-22_10-55-30_f3d.csv\n",
      "/home/yiting/Documents/Analysis/2024-11-22/anipose/pose_3d_filter/2024-11-22_10-55-42_f3d.csv\n",
      "/home/yiting/Documents/Analysis/2024-11-22/anipose/pose_3d_filter/2024-11-22_10-55-55_f3d.csv\n",
      "/home/yiting/Documents/Analysis/2024-11-22/anipose/pose_3d_filter/2024-11-22_10-56-07_f3d.csv\n",
      "/home/yiting/Documents/Analysis/2024-11-22/anipose/pose_3d_filter/2024-11-22_10-56-21_f3d.csv\n",
      "/home/yiting/Documents/Analysis/2024-11-22/anipose/pose_3d_filter/2024-11-22_10-56-33_f3d.csv\n",
      "/home/yiting/Documents/Analysis/2024-11-22/anipose/pose_3d_filter/2024-11-22_10-56-45_f3d.csv\n",
      "/home/yiting/Documents/Analysis/2024-11-22/anipose/pose_3d_filter/2024-11-22_10-56-59_f3d.csv\n",
      "/home/yiting/Documents/Analysis/2024-11-22/anipose/pose_3d_filter/2024-11-22_10-57-12_f3d.csv\n",
      "/home/yiting/Documents/Analysis/2024-11-22/anipose/pose_3d_filter/2024-11-22_10-57-24_f3d.csv\n",
      "/home/yiting/Documents/Analysis/2024-11-22/anipose/pose_3d_filter/2024-11-22_10-57-37_f3d.csv\n",
      "/home/yiting/Documents/Analysis/2024-11-22/anipose/pose_3d_filter/2024-11-22_10-57-50_f3d.csv\n",
      "/home/yiting/Documents/Analysis/2024-11-22/anipose/pose_3d_filter/2024-11-22_10-58-05_f3d.csv\n",
      "/home/yiting/Documents/Analysis/2024-11-22/anipose/pose_3d_filter/2024-11-22_10-58-17_f3d.csv\n",
      "/home/yiting/Documents/Analysis/2024-11-22/anipose/pose_3d_filter/2024-11-22_10-58-30_f3d.csv\n",
      "/home/yiting/Documents/Analysis/2024-11-22/anipose/pose_3d_filter/2024-11-22_10-58-44_f3d.csv\n",
      "/home/yiting/Documents/Analysis/2024-11-22/anipose/pose_3d_filter/2024-11-22_10-58-57_f3d.csv\n",
      "/home/yiting/Documents/Analysis/2024-11-22/anipose/pose_3d_filter/2024-11-22_10-59-09_f3d.csv\n",
      "/home/yiting/Documents/Analysis/2024-11-22/anipose/pose_3d_filter/2024-11-22_10-59-24_f3d.csv\n",
      "/home/yiting/Documents/Analysis/2024-11-22/anipose/pose_3d_filter/2024-11-22_10-59-35_f3d.csv\n",
      "/home/yiting/Documents/Analysis/2024-11-22/anipose/pose_3d_filter/2024-11-22_10-59-49_f3d.csv\n",
      "/home/yiting/Documents/Analysis/2024-11-22/anipose/pose_3d_filter/2024-11-22_11-00-04_f3d.csv\n",
      "/home/yiting/Documents/Analysis/2024-11-22/anipose/pose_3d_filter/2024-11-22_11-00-17_f3d.csv\n",
      "/home/yiting/Documents/Analysis/2024-11-22/anipose/pose_3d_filter/2024-11-22_11-00-30_f3d.csv\n",
      "/home/yiting/Documents/Analysis/2024-11-22/anipose/pose_3d_filter/2024-11-22_11-00-45_f3d.csv\n",
      "/home/yiting/Documents/Analysis/2024-11-22/anipose/pose_3d_filter/2024-11-22_11-00-58_f3d.csv\n",
      "/home/yiting/Documents/Analysis/2024-11-22/anipose/pose_3d_filter/2024-11-22_11-01-10_f3d.csv\n",
      "/home/yiting/Documents/Analysis/2024-11-22/anipose/pose_3d_filter/2024-11-22_11-01-24_f3d.csv\n",
      "/home/yiting/Documents/Analysis/2024-11-22/anipose/pose_3d_filter/2024-11-22_11-01-40_f3d.csv\n",
      "/home/yiting/Documents/Analysis/2024-11-22/anipose/pose_3d_filter/2024-11-22_11-01-54_f3d.csv\n",
      "/home/yiting/Documents/Analysis/2024-11-22/anipose/pose_3d_filter/2024-11-22_11-02-06_f3d.csv\n",
      "/home/yiting/Documents/Analysis/2024-11-22/anipose/pose_3d_filter/2024-11-22_11-02-21_f3d.csv\n",
      "/home/yiting/Documents/Analysis/2024-11-22/anipose/pose_3d_filter/2024-11-22_11-02-35_f3d.csv\n",
      "/home/yiting/Documents/Analysis/2024-11-22/anipose/pose_3d_filter/2024-11-22_11-02-48_f3d.csv\n",
      "/home/yiting/Documents/Analysis/2024-11-22/anipose/pose_3d_filter/2024-11-22_11-03-00_f3d.csv\n",
      "/home/yiting/Documents/Analysis/2024-11-22/anipose/pose_3d_filter/2024-11-22_11-03-12_f3d.csv\n",
      "/home/yiting/Documents/Analysis/2024-11-22/anipose/pose_3d_filter/2024-11-22_11-03-27_f3d.csv\n",
      "/home/yiting/Documents/Analysis/2024-11-22/anipose/pose_3d_filter/2024-11-22_11-03-42_f3d.csv\n",
      "/home/yiting/Documents/Analysis/2024-11-22/anipose/pose_3d_filter/2024-11-22_11-03-54_f3d.csv\n",
      "/home/yiting/Documents/Analysis/2024-11-22/anipose/pose_3d_filter/2024-11-22_11-04-08_f3d.csv\n",
      "/home/yiting/Documents/Analysis/2024-11-22/anipose/pose_3d_filter/2024-11-22_11-04-21_f3d.csv\n",
      "/home/yiting/Documents/Analysis/2024-11-22/anipose/pose_3d_filter/2024-11-22_11-04-34_f3d.csv\n",
      "/home/yiting/Documents/Analysis/2024-11-22/anipose/pose_3d_filter/2024-11-22_11-04-48_f3d.csv\n",
      "/home/yiting/Documents/Analysis/2024-11-22/anipose/pose_3d_filter/2024-11-22_11-05-01_f3d.csv\n",
      "/home/yiting/Documents/Analysis/2024-11-22/anipose/pose_3d_filter/2024-11-22_11-05-16_f3d.csv\n",
      "/home/yiting/Documents/Analysis/2024-11-22/anipose/pose_3d_filter/2024-11-22_11-05-29_f3d.csv\n",
      "/home/yiting/Documents/Analysis/2024-11-22/anipose/pose_3d_filter/2024-11-22_11-05-43_f3d.csv\n",
      "/home/yiting/Documents/Analysis/2024-11-22/anipose/pose_3d_filter/2024-11-22_11-05-55_f3d.csv\n",
      "/home/yiting/Documents/Analysis/2024-11-22/anipose/pose_3d_filter/2024-11-22_11-06-07_f3d.csv\n",
      "/home/yiting/Documents/Analysis/2024-11-22/anipose/pose_3d_filter/2024-11-22_11-06-21_f3d.csv\n",
      "/home/yiting/Documents/Analysis/2024-11-22/anipose/pose_3d_filter/2024-11-22_11-06-37_f3d.csv\n",
      "/home/yiting/Documents/Analysis/2024-11-22/anipose/pose_3d_filter/2024-11-22_11-06-49_f3d.csv\n",
      "/home/yiting/Documents/Analysis/2024-11-22/anipose/pose_3d_filter/2024-11-22_11-07-03_f3d.csv\n",
      "/home/yiting/Documents/Analysis/2024-11-22/anipose/pose_3d_filter/2024-11-22_11-07-16_f3d.csv\n",
      "/home/yiting/Documents/Analysis/2024-11-22/anipose/pose_3d_filter/2024-11-22_11-07-30_f3d.csv\n",
      "/home/yiting/Documents/Analysis/2024-11-22/anipose/pose_3d_filter/2024-11-22_11-07-43_f3d.csv\n",
      "/home/yiting/Documents/Analysis/2024-11-22/anipose/pose_3d_filter/2024-11-22_11-07-55_f3d.csv\n",
      "/home/yiting/Documents/Analysis/2024-11-22/anipose/pose_3d_filter/2024-11-22_11-08-07_f3d.csv\n",
      "/home/yiting/Documents/Analysis/2024-11-22/anipose/pose_3d_filter/2024-11-22_11-08-20_f3d.csv\n",
      "/home/yiting/Documents/Analysis/2024-11-22/anipose/pose_3d_filter/2024-11-22_11-08-33_f3d.csv\n",
      "/home/yiting/Documents/Analysis/2024-11-22/anipose/pose_3d_filter/2024-11-22_11-08-46_f3d.csv\n",
      "/home/yiting/Documents/Analysis/2024-11-22/anipose/pose_3d_filter/2024-11-22_11-08-59_f3d.csv\n",
      "/home/yiting/Documents/Analysis/2024-11-22/anipose/pose_3d_filter/2024-11-22_11-09-13_f3d.csv\n",
      "/home/yiting/Documents/Analysis/2024-11-22/anipose/pose_3d_filter/2024-11-22_11-09-27_f3d.csv\n",
      "/home/yiting/Documents/Analysis/2024-11-22/anipose/pose_3d_filter/2024-11-22_11-09-41_f3d.csv\n",
      "/home/yiting/Documents/Analysis/2024-11-22/anipose/pose_3d_filter/2024-11-22_11-09-54_f3d.csv\n",
      "/home/yiting/Documents/Analysis/2024-11-22/anipose/pose_3d_filter/2024-11-22_11-10-06_f3d.csv\n",
      "/home/yiting/Documents/Analysis/2024-11-22/anipose/pose_3d_filter/2024-11-22_11-10-20_f3d.csv\n",
      "/home/yiting/Documents/Analysis/2024-11-22/anipose/pose_3d_filter/2024-11-22_11-10-32_f3d.csv\n",
      "/home/yiting/Documents/Analysis/2024-11-22/anipose/pose_3d_filter/2024-11-22_11-10-46_f3d.csv\n",
      "/home/yiting/Documents/Analysis/2024-11-22/anipose/pose_3d_filter/2024-11-22_11-11-00_f3d.csv\n",
      "/home/yiting/Documents/Analysis/2024-11-22/anipose/pose_3d_filter/2024-11-22_11-11-13_f3d.csv\n",
      "/home/yiting/Documents/Analysis/2024-11-22/anipose/pose_3d_filter/2024-11-22_11-11-27_f3d.csv\n",
      "/home/yiting/Documents/Analysis/2024-11-22/anipose/pose_3d_filter/2024-11-22_11-11-40_f3d.csv\n",
      "/home/yiting/Documents/Analysis/2024-11-22/anipose/pose_3d_filter/2024-11-22_11-11-52_f3d.csv\n",
      "/home/yiting/Documents/Analysis/2024-11-22/anipose/pose_3d_filter/2024-11-22_11-12-04_f3d.csv\n",
      "/home/yiting/Documents/Analysis/2024-11-22/anipose/pose_3d_filter/2024-11-22_11-12-17_f3d.csv\n",
      "/home/yiting/Documents/Analysis/2024-11-22/anipose/pose_3d_filter/2024-11-22_11-12-30_f3d.csv\n",
      "/home/yiting/Documents/Analysis/2024-11-22/anipose/pose_3d_filter/2024-11-22_11-12-44_f3d.csv\n",
      "/home/yiting/Documents/Analysis/2024-11-22/anipose/pose_3d_filter/2024-11-22_11-12-56_f3d.csv\n",
      "/home/yiting/Documents/Analysis/2024-11-22/anipose/pose_3d_filter/2024-11-22_11-13-08_f3d.csv\n",
      "/home/yiting/Documents/Analysis/2024-11-22/anipose/pose_3d_filter/2024-11-22_11-13-19_f3d.csv\n",
      "/home/yiting/Documents/Analysis/2024-11-22/anipose/pose_3d_filter/2024-11-22_11-13-30_f3d.csv\n",
      "/home/yiting/Documents/Analysis/2024-11-22/anipose/pose_3d_filter/2024-11-22_11-13-41_f3d.csv\n",
      "/home/yiting/Documents/Analysis/2024-11-22/anipose/pose_3d_filter/2024-11-22_11-13-52_f3d.csv\n",
      "/home/yiting/Documents/Analysis/2024-11-22/anipose/pose_3d_filter/2024-11-22_11-14-04_f3d.csv\n",
      "/home/yiting/Documents/Analysis/2024-11-22/anipose/pose_3d_filter/2024-11-22_11-18-36_f3d.csv\n",
      "/home/yiting/Documents/Analysis/2024-11-22/anipose/pose_3d_filter/2024-11-22_11-18-48_f3d.csv\n",
      "/home/yiting/Documents/Analysis/2024-11-22/anipose/pose_3d_filter/2024-11-22_11-19-01_f3d.csv\n",
      "/home/yiting/Documents/Analysis/2024-11-22/anipose/pose_3d_filter/2024-11-22_11-19-14_f3d.csv\n",
      "/home/yiting/Documents/Analysis/2024-11-22/anipose/pose_3d_filter/2024-11-22_11-19-28_f3d.csv\n",
      "/home/yiting/Documents/Analysis/2024-11-22/anipose/pose_3d_filter/2024-11-22_11-19-41_f3d.csv\n",
      "/home/yiting/Documents/Analysis/2024-11-22/anipose/pose_3d_filter/2024-11-22_11-19-54_f3d.csv\n",
      "/home/yiting/Documents/Analysis/2024-11-22/anipose/pose_3d_filter/2024-11-22_11-20-08_f3d.csv\n",
      "/home/yiting/Documents/Analysis/2024-11-22/anipose/pose_3d_filter/2024-11-22_11-20-22_f3d.csv\n",
      "/home/yiting/Documents/Analysis/2024-11-22/anipose/pose_3d_filter/2024-11-22_11-20-35_f3d.csv\n",
      "/home/yiting/Documents/Analysis/2024-11-22/anipose/pose_3d_filter/2024-11-22_11-20-47_f3d.csv\n",
      "/home/yiting/Documents/Analysis/2024-11-22/anipose/pose_3d_filter/2024-11-22_11-20-59_f3d.csv\n",
      "/home/yiting/Documents/Analysis/2024-11-22/anipose/pose_3d_filter/2024-11-22_11-21-12_f3d.csv\n",
      "/home/yiting/Documents/Analysis/2024-11-22/anipose/pose_3d_filter/2024-11-22_11-21-24_f3d.csv\n",
      "/home/yiting/Documents/Analysis/2024-11-22/anipose/pose_3d_filter/2024-11-22_11-21-37_f3d.csv\n",
      "/home/yiting/Documents/Analysis/2024-11-22/anipose/pose_3d_filter/2024-11-22_11-21-51_f3d.csv\n",
      "/home/yiting/Documents/Analysis/2024-11-22/anipose/pose_3d_filter/2024-11-22_11-22-06_f3d.csv\n",
      "/home/yiting/Documents/Analysis/2024-11-22/anipose/pose_3d_filter/2024-11-22_11-22-19_f3d.csv\n",
      "/home/yiting/Documents/Analysis/2024-11-22/anipose/pose_3d_filter/2024-11-22_11-22-31_f3d.csv\n",
      "/home/yiting/Documents/Analysis/2024-11-22/anipose/pose_3d_filter/2024-11-22_11-22-44_f3d.csv\n",
      "/home/yiting/Documents/Analysis/2024-11-22/anipose/pose_3d_filter/2024-11-22_11-22-59_f3d.csv\n",
      "/home/yiting/Documents/Analysis/2024-11-22/anipose/pose_3d_filter/2024-11-22_11-23-14_f3d.csv\n",
      "/home/yiting/Documents/Analysis/2024-11-22/anipose/pose_3d_filter/2024-11-22_11-23-28_f3d.csv\n",
      "/home/yiting/Documents/Analysis/2024-11-22/anipose/pose_3d_filter/2024-11-22_11-23-43_f3d.csv\n",
      "/home/yiting/Documents/Analysis/2024-11-22/anipose/pose_3d_filter/2024-11-22_11-23-56_f3d.csv\n",
      "/home/yiting/Documents/Analysis/2024-11-22/anipose/pose_3d_filter/2024-11-22_11-24-10_f3d.csv\n",
      "/home/yiting/Documents/Analysis/2024-11-22/anipose/pose_3d_filter/2024-11-22_11-24-23_f3d.csv\n",
      "/home/yiting/Documents/Analysis/2024-11-22/anipose/pose_3d_filter/2024-11-22_11-24-36_f3d.csv\n",
      "/home/yiting/Documents/Analysis/2024-11-22/anipose/pose_3d_filter/2024-11-22_11-24-47_f3d.csv\n",
      "/home/yiting/Documents/Analysis/2024-11-22/anipose/pose_3d_filter/2024-11-22_11-25-01_f3d.csv\n",
      "/home/yiting/Documents/Analysis/2024-11-22/anipose/pose_3d_filter/2024-11-22_11-25-15_f3d.csv\n",
      "/home/yiting/Documents/Analysis/2024-11-22/anipose/pose_3d_filter/2024-11-22_11-25-29_f3d.csv\n",
      "/home/yiting/Documents/Analysis/2024-11-22/anipose/pose_3d_filter/2024-11-22_11-25-45_f3d.csv\n",
      "/home/yiting/Documents/Analysis/2024-11-22/anipose/pose_3d_filter/2024-11-22_11-25-56_f3d.csv\n",
      "/home/yiting/Documents/Analysis/2024-11-22/anipose/pose_3d_filter/2024-11-22_11-26-09_f3d.csv\n",
      "/home/yiting/Documents/Analysis/2024-11-22/anipose/pose_3d_filter/2024-11-22_11-26-22_f3d.csv\n",
      "/home/yiting/Documents/Analysis/2024-11-22/anipose/pose_3d_filter/2024-11-22_11-26-36_f3d.csv\n",
      "/home/yiting/Documents/Analysis/2024-11-22/anipose/pose_3d_filter/2024-11-22_11-26-51_f3d.csv\n",
      "/home/yiting/Documents/Analysis/2024-11-22/anipose/pose_3d_filter/2024-11-22_11-27-06_f3d.csv\n",
      "/home/yiting/Documents/Analysis/2024-11-22/anipose/pose_3d_filter/2024-11-22_11-27-21_f3d.csv\n",
      "/home/yiting/Documents/Analysis/2024-11-22/anipose/pose_3d_filter/2024-11-22_11-27-33_f3d.csv\n",
      "/home/yiting/Documents/Analysis/2024-11-22/anipose/pose_3d_filter/2024-11-22_11-27-46_f3d.csv\n",
      "/home/yiting/Documents/Analysis/2024-11-22/anipose/pose_3d_filter/2024-11-22_11-27-58_f3d.csv\n",
      "/home/yiting/Documents/Analysis/2024-11-22/anipose/pose_3d_filter/2024-11-22_11-28-12_f3d.csv\n",
      "/home/yiting/Documents/Analysis/2024-11-22/anipose/pose_3d_filter/2024-11-22_11-28-26_f3d.csv\n",
      "/home/yiting/Documents/Analysis/2024-11-22/anipose/pose_3d_filter/2024-11-22_11-28-40_f3d.csv\n",
      "/home/yiting/Documents/Analysis/2024-11-22/anipose/pose_3d_filter/2024-11-22_11-28-54_f3d.csv\n",
      "/home/yiting/Documents/Analysis/2024-11-22/anipose/pose_3d_filter/2024-11-22_11-29-07_f3d.csv\n",
      "/home/yiting/Documents/Analysis/2024-11-22/anipose/pose_3d_filter/2024-11-22_11-29-20_f3d.csv\n",
      "/home/yiting/Documents/Analysis/2024-11-22/anipose/pose_3d_filter/2024-11-22_11-29-34_f3d.csv\n",
      "/home/yiting/Documents/Analysis/2024-11-22/anipose/pose_3d_filter/2024-11-22_11-29-47_f3d.csv\n",
      "/home/yiting/Documents/Analysis/2024-11-22/anipose/pose_3d_filter/2024-11-22_11-29-58_f3d.csv\n",
      "/home/yiting/Documents/Analysis/2024-11-22/anipose/pose_3d_filter/2024-11-22_11-30-12_f3d.csv\n",
      "/home/yiting/Documents/Analysis/2024-11-22/anipose/pose_3d_filter/2024-11-22_11-30-27_f3d.csv\n",
      "/home/yiting/Documents/Analysis/2024-11-22/anipose/pose_3d_filter/2024-11-22_11-30-41_f3d.csv\n",
      "/home/yiting/Documents/Analysis/2024-11-22/anipose/pose_3d_filter/2024-11-22_11-30-54_f3d.csv\n",
      "/home/yiting/Documents/Analysis/2024-11-22/anipose/pose_3d_filter/2024-11-22_11-31-09_f3d.csv\n",
      "/home/yiting/Documents/Analysis/2024-11-22/anipose/pose_3d_filter/2024-11-22_11-31-23_f3d.csv\n",
      "/home/yiting/Documents/Analysis/2024-11-22/anipose/pose_3d_filter/2024-11-22_11-31-35_f3d.csv\n",
      "/home/yiting/Documents/Analysis/2024-11-22/anipose/pose_3d_filter/2024-11-22_11-31-48_f3d.csv\n",
      "/home/yiting/Documents/Analysis/2024-11-22/anipose/pose_3d_filter/2024-11-22_11-32-02_f3d.csv\n",
      "/home/yiting/Documents/Analysis/2024-11-22/anipose/pose_3d_filter/2024-11-22_11-32-15_f3d.csv\n",
      "/home/yiting/Documents/Analysis/2024-11-22/anipose/pose_3d_filter/2024-11-22_11-32-30_f3d.csv\n",
      "/home/yiting/Documents/Analysis/2024-11-22/anipose/pose_3d_filter/2024-11-22_11-32-44_f3d.csv\n",
      "/home/yiting/Documents/Analysis/2024-11-22/anipose/pose_3d_filter/2024-11-22_11-32-57_f3d.csv\n",
      "/home/yiting/Documents/Analysis/2024-11-22/anipose/pose_3d_filter/2024-11-22_11-33-09_f3d.csv\n",
      "/home/yiting/Documents/Analysis/2024-11-22/anipose/pose_3d_filter/2024-11-22_11-33-21_f3d.csv\n",
      "/home/yiting/Documents/Analysis/2024-11-22/anipose/pose_3d_filter/2024-11-22_11-33-33_f3d.csv\n",
      "/home/yiting/Documents/Analysis/2024-11-22/anipose/pose_3d_filter/2024-11-22_11-33-44_f3d.csv\n",
      "/home/yiting/Documents/Analysis/2024-11-22/anipose/pose_3d_filter/2024-11-22_11-33-54_f3d.csv\n",
      "/home/yiting/Documents/Analysis/2024-11-22/anipose/pose_3d_filter/2024-11-22_11-34-05_f3d.csv\n",
      "/home/yiting/Documents/Analysis/2024-11-22/anipose/pose_3d_filter/2024-11-22_11-35-07_f3d.csv\n",
      "/home/yiting/Documents/Analysis/2024-11-22/anipose/pose_3d_filter/2024-11-22_11-35-18_f3d.csv\n",
      "/home/yiting/Documents/Analysis/2024-11-22/anipose/pose_3d_filter/2024-11-22_11-35-29_f3d.csv\n",
      "/home/yiting/Documents/Analysis/2024-11-22/anipose/pose_3d_filter/2024-11-22_11-44-48_f3d.csv\n",
      "/home/yiting/Documents/Analysis/2024-11-22/anipose/pose_3d_filter/2024-11-22_11-44-58_f3d.csv\n",
      "/home/yiting/Documents/Analysis/2024-11-22/anipose/pose_3d_filter/2024-11-22_11-45-10_f3d.csv\n",
      "/home/yiting/Documents/Analysis/2024-11-22/anipose/pose_3d_filter/2024-11-22_11-45-21_f3d.csv\n",
      "/home/yiting/Documents/Analysis/2024-11-22/anipose/pose_3d_filter/2024-11-22_11-45-32_f3d.csv\n"
     ]
    }
   ],
   "source": [
    "if config['filter']['enabled']:\n",
    "    ap_2d_dir = os.path.join(ap_dir, \"pose_2d_filter\")\n",
    "trials = sorted(os.listdir(ap_2d_dir))\n",
    "for t in trials:\n",
    "    filter3d_process(config, session_name, t)"
   ]
  },
  {
   "cell_type": "markdown",
   "metadata": {},
   "source": [
    "### Feature Extraction\n",
    "Compute hand configuration parameters (length, angle, etc)"
   ]
  },
  {
   "cell_type": "code",
   "execution_count": 8,
   "metadata": {},
   "outputs": [
    {
     "name": "stdout",
     "output_type": "stream",
     "text": [
      "/home/yiting/Documents/Analysis/2024-11-22/anipose/angles/2024-11-22_08-43-44_angles.csv\n",
      "/home/yiting/Documents/Analysis/2024-11-22/anipose/angles/2024-11-22_08-43-57_angles.csv\n",
      "/home/yiting/Documents/Analysis/2024-11-22/anipose/angles/2024-11-22_08-44-11_angles.csv\n",
      "/home/yiting/Documents/Analysis/2024-11-22/anipose/angles/2024-11-22_08-44-23_angles.csv\n",
      "/home/yiting/Documents/Analysis/2024-11-22/anipose/angles/2024-11-22_08-44-36_angles.csv\n",
      "/home/yiting/Documents/Analysis/2024-11-22/anipose/angles/2024-11-22_08-44-49_angles.csv\n",
      "/home/yiting/Documents/Analysis/2024-11-22/anipose/angles/2024-11-22_08-45-08_angles.csv\n",
      "/home/yiting/Documents/Analysis/2024-11-22/anipose/angles/2024-11-22_08-45-21_angles.csv\n",
      "/home/yiting/Documents/Analysis/2024-11-22/anipose/angles/2024-11-22_08-45-35_angles.csv\n",
      "/home/yiting/Documents/Analysis/2024-11-22/anipose/angles/2024-11-22_08-45-48_angles.csv\n",
      "/home/yiting/Documents/Analysis/2024-11-22/anipose/angles/2024-11-22_08-46-02_angles.csv\n",
      "/home/yiting/Documents/Analysis/2024-11-22/anipose/angles/2024-11-22_08-46-16_angles.csv\n",
      "/home/yiting/Documents/Analysis/2024-11-22/anipose/angles/2024-11-22_08-46-27_angles.csv\n",
      "/home/yiting/Documents/Analysis/2024-11-22/anipose/angles/2024-11-22_08-46-41_angles.csv\n",
      "/home/yiting/Documents/Analysis/2024-11-22/anipose/angles/2024-11-22_08-46-54_angles.csv\n",
      "/home/yiting/Documents/Analysis/2024-11-22/anipose/angles/2024-11-22_08-47-06_angles.csv\n",
      "/home/yiting/Documents/Analysis/2024-11-22/anipose/angles/2024-11-22_08-47-20_angles.csv\n",
      "/home/yiting/Documents/Analysis/2024-11-22/anipose/angles/2024-11-22_08-47-32_angles.csv\n",
      "/home/yiting/Documents/Analysis/2024-11-22/anipose/angles/2024-11-22_08-47-45_angles.csv\n",
      "/home/yiting/Documents/Analysis/2024-11-22/anipose/angles/2024-11-22_08-47-58_angles.csv\n",
      "/home/yiting/Documents/Analysis/2024-11-22/anipose/angles/2024-11-22_08-48-12_angles.csv\n",
      "/home/yiting/Documents/Analysis/2024-11-22/anipose/angles/2024-11-22_08-48-25_angles.csv\n",
      "/home/yiting/Documents/Analysis/2024-11-22/anipose/angles/2024-11-22_08-48-39_angles.csv\n",
      "/home/yiting/Documents/Analysis/2024-11-22/anipose/angles/2024-11-22_08-48-51_angles.csv\n",
      "/home/yiting/Documents/Analysis/2024-11-22/anipose/angles/2024-11-22_08-49-04_angles.csv\n",
      "/home/yiting/Documents/Analysis/2024-11-22/anipose/angles/2024-11-22_08-49-17_angles.csv\n",
      "/home/yiting/Documents/Analysis/2024-11-22/anipose/angles/2024-11-22_08-49-30_angles.csv\n",
      "/home/yiting/Documents/Analysis/2024-11-22/anipose/angles/2024-11-22_08-49-42_angles.csv\n",
      "/home/yiting/Documents/Analysis/2024-11-22/anipose/angles/2024-11-22_08-49-56_angles.csv\n",
      "/home/yiting/Documents/Analysis/2024-11-22/anipose/angles/2024-11-22_08-50-08_angles.csv\n",
      "/home/yiting/Documents/Analysis/2024-11-22/anipose/angles/2024-11-22_08-50-20_angles.csv\n",
      "/home/yiting/Documents/Analysis/2024-11-22/anipose/angles/2024-11-22_08-50-35_angles.csv\n",
      "/home/yiting/Documents/Analysis/2024-11-22/anipose/angles/2024-11-22_08-50-46_angles.csv\n",
      "/home/yiting/Documents/Analysis/2024-11-22/anipose/angles/2024-11-22_08-50-59_angles.csv\n",
      "/home/yiting/Documents/Analysis/2024-11-22/anipose/angles/2024-11-22_08-51-13_angles.csv\n",
      "/home/yiting/Documents/Analysis/2024-11-22/anipose/angles/2024-11-22_08-51-29_angles.csv\n",
      "/home/yiting/Documents/Analysis/2024-11-22/anipose/angles/2024-11-22_08-51-42_angles.csv\n",
      "/home/yiting/Documents/Analysis/2024-11-22/anipose/angles/2024-11-22_08-51-56_angles.csv\n",
      "/home/yiting/Documents/Analysis/2024-11-22/anipose/angles/2024-11-22_08-52-08_angles.csv\n",
      "/home/yiting/Documents/Analysis/2024-11-22/anipose/angles/2024-11-22_08-52-20_angles.csv\n",
      "/home/yiting/Documents/Analysis/2024-11-22/anipose/angles/2024-11-22_08-52-33_angles.csv\n",
      "/home/yiting/Documents/Analysis/2024-11-22/anipose/angles/2024-11-22_08-52-45_angles.csv\n",
      "/home/yiting/Documents/Analysis/2024-11-22/anipose/angles/2024-11-22_08-52-58_angles.csv\n",
      "/home/yiting/Documents/Analysis/2024-11-22/anipose/angles/2024-11-22_08-53-11_angles.csv\n",
      "/home/yiting/Documents/Analysis/2024-11-22/anipose/angles/2024-11-22_08-53-23_angles.csv\n",
      "/home/yiting/Documents/Analysis/2024-11-22/anipose/angles/2024-11-22_08-53-37_angles.csv\n",
      "/home/yiting/Documents/Analysis/2024-11-22/anipose/angles/2024-11-22_08-53-50_angles.csv\n",
      "/home/yiting/Documents/Analysis/2024-11-22/anipose/angles/2024-11-22_08-54-01_angles.csv\n",
      "/home/yiting/Documents/Analysis/2024-11-22/anipose/angles/2024-11-22_08-54-14_angles.csv\n",
      "/home/yiting/Documents/Analysis/2024-11-22/anipose/angles/2024-11-22_08-54-26_angles.csv\n",
      "/home/yiting/Documents/Analysis/2024-11-22/anipose/angles/2024-11-22_08-54-38_angles.csv\n",
      "/home/yiting/Documents/Analysis/2024-11-22/anipose/angles/2024-11-22_08-54-51_angles.csv\n",
      "/home/yiting/Documents/Analysis/2024-11-22/anipose/angles/2024-11-22_08-55-04_angles.csv\n",
      "/home/yiting/Documents/Analysis/2024-11-22/anipose/angles/2024-11-22_08-55-17_angles.csv\n",
      "/home/yiting/Documents/Analysis/2024-11-22/anipose/angles/2024-11-22_08-55-29_angles.csv\n",
      "/home/yiting/Documents/Analysis/2024-11-22/anipose/angles/2024-11-22_08-55-42_angles.csv\n",
      "/home/yiting/Documents/Analysis/2024-11-22/anipose/angles/2024-11-22_08-55-54_angles.csv\n",
      "/home/yiting/Documents/Analysis/2024-11-22/anipose/angles/2024-11-22_08-56-07_angles.csv\n",
      "/home/yiting/Documents/Analysis/2024-11-22/anipose/angles/2024-11-22_08-56-19_angles.csv\n",
      "/home/yiting/Documents/Analysis/2024-11-22/anipose/angles/2024-11-22_08-56-32_angles.csv\n",
      "/home/yiting/Documents/Analysis/2024-11-22/anipose/angles/2024-11-22_08-56-44_angles.csv\n",
      "/home/yiting/Documents/Analysis/2024-11-22/anipose/angles/2024-11-22_08-56-56_angles.csv\n",
      "/home/yiting/Documents/Analysis/2024-11-22/anipose/angles/2024-11-22_08-57-11_angles.csv\n",
      "/home/yiting/Documents/Analysis/2024-11-22/anipose/angles/2024-11-22_08-57-22_angles.csv\n",
      "/home/yiting/Documents/Analysis/2024-11-22/anipose/angles/2024-11-22_08-57-35_angles.csv\n",
      "/home/yiting/Documents/Analysis/2024-11-22/anipose/angles/2024-11-22_08-57-46_angles.csv\n",
      "/home/yiting/Documents/Analysis/2024-11-22/anipose/angles/2024-11-22_08-57-59_angles.csv\n",
      "/home/yiting/Documents/Analysis/2024-11-22/anipose/angles/2024-11-22_08-58-13_angles.csv\n",
      "/home/yiting/Documents/Analysis/2024-11-22/anipose/angles/2024-11-22_08-58-24_angles.csv\n",
      "/home/yiting/Documents/Analysis/2024-11-22/anipose/angles/2024-11-22_08-58-37_angles.csv\n",
      "/home/yiting/Documents/Analysis/2024-11-22/anipose/angles/2024-11-22_08-58-51_angles.csv\n",
      "/home/yiting/Documents/Analysis/2024-11-22/anipose/angles/2024-11-22_08-59-03_angles.csv\n",
      "/home/yiting/Documents/Analysis/2024-11-22/anipose/angles/2024-11-22_08-59-14_angles.csv\n",
      "/home/yiting/Documents/Analysis/2024-11-22/anipose/angles/2024-11-22_08-59-27_angles.csv\n",
      "/home/yiting/Documents/Analysis/2024-11-22/anipose/angles/2024-11-22_08-59-41_angles.csv\n",
      "/home/yiting/Documents/Analysis/2024-11-22/anipose/angles/2024-11-22_08-59-54_angles.csv\n",
      "/home/yiting/Documents/Analysis/2024-11-22/anipose/angles/2024-11-22_09-00-07_angles.csv\n",
      "/home/yiting/Documents/Analysis/2024-11-22/anipose/angles/2024-11-22_09-00-20_angles.csv\n",
      "/home/yiting/Documents/Analysis/2024-11-22/anipose/angles/2024-11-22_09-00-34_angles.csv\n",
      "/home/yiting/Documents/Analysis/2024-11-22/anipose/angles/2024-11-22_09-00-47_angles.csv\n",
      "/home/yiting/Documents/Analysis/2024-11-22/anipose/angles/2024-11-22_09-00-59_angles.csv\n",
      "/home/yiting/Documents/Analysis/2024-11-22/anipose/angles/2024-11-22_09-01-11_angles.csv\n",
      "/home/yiting/Documents/Analysis/2024-11-22/anipose/angles/2024-11-22_09-01-25_angles.csv\n",
      "/home/yiting/Documents/Analysis/2024-11-22/anipose/angles/2024-11-22_09-01-37_angles.csv\n",
      "/home/yiting/Documents/Analysis/2024-11-22/anipose/angles/2024-11-22_09-01-51_angles.csv\n",
      "/home/yiting/Documents/Analysis/2024-11-22/anipose/angles/2024-11-22_09-02-05_angles.csv\n",
      "/home/yiting/Documents/Analysis/2024-11-22/anipose/angles/2024-11-22_09-02-19_angles.csv\n",
      "/home/yiting/Documents/Analysis/2024-11-22/anipose/angles/2024-11-22_09-02-33_angles.csv\n",
      "/home/yiting/Documents/Analysis/2024-11-22/anipose/angles/2024-11-22_09-02-45_angles.csv\n",
      "/home/yiting/Documents/Analysis/2024-11-22/anipose/angles/2024-11-22_09-02-57_angles.csv\n",
      "/home/yiting/Documents/Analysis/2024-11-22/anipose/angles/2024-11-22_09-03-08_angles.csv\n",
      "/home/yiting/Documents/Analysis/2024-11-22/anipose/angles/2024-11-22_09-03-20_angles.csv\n",
      "/home/yiting/Documents/Analysis/2024-11-22/anipose/angles/2024-11-22_09-03-32_angles.csv\n",
      "/home/yiting/Documents/Analysis/2024-11-22/anipose/angles/2024-11-22_09-03-43_angles.csv\n",
      "/home/yiting/Documents/Analysis/2024-11-22/anipose/angles/2024-11-22_09-03-54_angles.csv\n",
      "/home/yiting/Documents/Analysis/2024-11-22/anipose/angles/2024-11-22_09-04-07_angles.csv\n",
      "/home/yiting/Documents/Analysis/2024-11-22/anipose/angles/2024-11-22_09-04-20_angles.csv\n",
      "/home/yiting/Documents/Analysis/2024-11-22/anipose/angles/2024-11-22_09-04-33_angles.csv\n",
      "/home/yiting/Documents/Analysis/2024-11-22/anipose/angles/2024-11-22_09-04-48_angles.csv\n",
      "/home/yiting/Documents/Analysis/2024-11-22/anipose/angles/2024-11-22_09-05-03_angles.csv\n",
      "/home/yiting/Documents/Analysis/2024-11-22/anipose/angles/2024-11-22_09-05-16_angles.csv\n",
      "/home/yiting/Documents/Analysis/2024-11-22/anipose/angles/2024-11-22_09-05-30_angles.csv\n",
      "/home/yiting/Documents/Analysis/2024-11-22/anipose/angles/2024-11-22_09-05-43_angles.csv\n",
      "/home/yiting/Documents/Analysis/2024-11-22/anipose/angles/2024-11-22_09-05-57_angles.csv\n",
      "/home/yiting/Documents/Analysis/2024-11-22/anipose/angles/2024-11-22_09-06-09_angles.csv\n",
      "/home/yiting/Documents/Analysis/2024-11-22/anipose/angles/2024-11-22_09-06-20_angles.csv\n",
      "/home/yiting/Documents/Analysis/2024-11-22/anipose/angles/2024-11-22_09-06-34_angles.csv\n",
      "/home/yiting/Documents/Analysis/2024-11-22/anipose/angles/2024-11-22_09-06-48_angles.csv\n",
      "/home/yiting/Documents/Analysis/2024-11-22/anipose/angles/2024-11-22_09-07-02_angles.csv\n",
      "/home/yiting/Documents/Analysis/2024-11-22/anipose/angles/2024-11-22_09-07-17_angles.csv\n",
      "/home/yiting/Documents/Analysis/2024-11-22/anipose/angles/2024-11-22_09-07-31_angles.csv\n",
      "/home/yiting/Documents/Analysis/2024-11-22/anipose/angles/2024-11-22_09-07-44_angles.csv\n",
      "/home/yiting/Documents/Analysis/2024-11-22/anipose/angles/2024-11-22_09-07-56_angles.csv\n",
      "/home/yiting/Documents/Analysis/2024-11-22/anipose/angles/2024-11-22_09-08-10_angles.csv\n",
      "/home/yiting/Documents/Analysis/2024-11-22/anipose/angles/2024-11-22_09-08-23_angles.csv\n",
      "/home/yiting/Documents/Analysis/2024-11-22/anipose/angles/2024-11-22_09-08-36_angles.csv\n",
      "/home/yiting/Documents/Analysis/2024-11-22/anipose/angles/2024-11-22_09-08-48_angles.csv\n",
      "/home/yiting/Documents/Analysis/2024-11-22/anipose/angles/2024-11-22_09-09-00_angles.csv\n",
      "/home/yiting/Documents/Analysis/2024-11-22/anipose/angles/2024-11-22_09-09-13_angles.csv\n",
      "/home/yiting/Documents/Analysis/2024-11-22/anipose/angles/2024-11-22_09-09-24_angles.csv\n",
      "/home/yiting/Documents/Analysis/2024-11-22/anipose/angles/2024-11-22_09-09-38_angles.csv\n",
      "/home/yiting/Documents/Analysis/2024-11-22/anipose/angles/2024-11-22_09-09-51_angles.csv\n",
      "/home/yiting/Documents/Analysis/2024-11-22/anipose/angles/2024-11-22_09-10-03_angles.csv\n",
      "/home/yiting/Documents/Analysis/2024-11-22/anipose/angles/2024-11-22_09-10-14_angles.csv\n",
      "/home/yiting/Documents/Analysis/2024-11-22/anipose/angles/2024-11-22_09-10-28_angles.csv\n",
      "/home/yiting/Documents/Analysis/2024-11-22/anipose/angles/2024-11-22_09-10-42_angles.csv\n",
      "/home/yiting/Documents/Analysis/2024-11-22/anipose/angles/2024-11-22_09-10-54_angles.csv\n",
      "/home/yiting/Documents/Analysis/2024-11-22/anipose/angles/2024-11-22_09-11-07_angles.csv\n",
      "/home/yiting/Documents/Analysis/2024-11-22/anipose/angles/2024-11-22_09-11-19_angles.csv\n",
      "/home/yiting/Documents/Analysis/2024-11-22/anipose/angles/2024-11-22_09-11-31_angles.csv\n",
      "/home/yiting/Documents/Analysis/2024-11-22/anipose/angles/2024-11-22_09-11-45_angles.csv\n",
      "/home/yiting/Documents/Analysis/2024-11-22/anipose/angles/2024-11-22_09-11-58_angles.csv\n",
      "/home/yiting/Documents/Analysis/2024-11-22/anipose/angles/2024-11-22_09-12-09_angles.csv\n",
      "/home/yiting/Documents/Analysis/2024-11-22/anipose/angles/2024-11-22_09-12-21_angles.csv\n",
      "/home/yiting/Documents/Analysis/2024-11-22/anipose/angles/2024-11-22_09-12-36_angles.csv\n",
      "/home/yiting/Documents/Analysis/2024-11-22/anipose/angles/2024-11-22_09-12-51_angles.csv\n",
      "/home/yiting/Documents/Analysis/2024-11-22/anipose/angles/2024-11-22_09-13-05_angles.csv\n",
      "/home/yiting/Documents/Analysis/2024-11-22/anipose/angles/2024-11-22_09-13-19_angles.csv\n",
      "/home/yiting/Documents/Analysis/2024-11-22/anipose/angles/2024-11-22_09-13-35_angles.csv\n",
      "/home/yiting/Documents/Analysis/2024-11-22/anipose/angles/2024-11-22_09-13-46_angles.csv\n",
      "/home/yiting/Documents/Analysis/2024-11-22/anipose/angles/2024-11-22_09-13-58_angles.csv\n",
      "/home/yiting/Documents/Analysis/2024-11-22/anipose/angles/2024-11-22_09-14-11_angles.csv\n",
      "/home/yiting/Documents/Analysis/2024-11-22/anipose/angles/2024-11-22_09-14-22_angles.csv\n",
      "/home/yiting/Documents/Analysis/2024-11-22/anipose/angles/2024-11-22_09-14-34_angles.csv\n",
      "/home/yiting/Documents/Analysis/2024-11-22/anipose/angles/2024-11-22_09-14-49_angles.csv\n",
      "/home/yiting/Documents/Analysis/2024-11-22/anipose/angles/2024-11-22_09-15-06_angles.csv\n",
      "/home/yiting/Documents/Analysis/2024-11-22/anipose/angles/2024-11-22_09-15-19_angles.csv\n",
      "/home/yiting/Documents/Analysis/2024-11-22/anipose/angles/2024-11-22_09-15-32_angles.csv\n",
      "/home/yiting/Documents/Analysis/2024-11-22/anipose/angles/2024-11-22_09-15-47_angles.csv\n",
      "/home/yiting/Documents/Analysis/2024-11-22/anipose/angles/2024-11-22_09-16-02_angles.csv\n",
      "/home/yiting/Documents/Analysis/2024-11-22/anipose/angles/2024-11-22_09-16-15_angles.csv\n",
      "/home/yiting/Documents/Analysis/2024-11-22/anipose/angles/2024-11-22_09-16-29_angles.csv\n",
      "/home/yiting/Documents/Analysis/2024-11-22/anipose/angles/2024-11-22_09-16-42_angles.csv\n",
      "/home/yiting/Documents/Analysis/2024-11-22/anipose/angles/2024-11-22_09-16-54_angles.csv\n",
      "/home/yiting/Documents/Analysis/2024-11-22/anipose/angles/2024-11-22_09-17-08_angles.csv\n",
      "/home/yiting/Documents/Analysis/2024-11-22/anipose/angles/2024-11-22_09-17-20_angles.csv\n",
      "/home/yiting/Documents/Analysis/2024-11-22/anipose/angles/2024-11-22_09-17-33_angles.csv\n",
      "/home/yiting/Documents/Analysis/2024-11-22/anipose/angles/2024-11-22_09-17-45_angles.csv\n",
      "/home/yiting/Documents/Analysis/2024-11-22/anipose/angles/2024-11-22_09-17-58_angles.csv\n",
      "/home/yiting/Documents/Analysis/2024-11-22/anipose/angles/2024-11-22_09-18-11_angles.csv\n",
      "/home/yiting/Documents/Analysis/2024-11-22/anipose/angles/2024-11-22_09-18-25_angles.csv\n",
      "/home/yiting/Documents/Analysis/2024-11-22/anipose/angles/2024-11-22_09-18-40_angles.csv\n",
      "/home/yiting/Documents/Analysis/2024-11-22/anipose/angles/2024-11-22_09-18-53_angles.csv\n",
      "/home/yiting/Documents/Analysis/2024-11-22/anipose/angles/2024-11-22_09-19-07_angles.csv\n",
      "/home/yiting/Documents/Analysis/2024-11-22/anipose/angles/2024-11-22_09-19-20_angles.csv\n",
      "/home/yiting/Documents/Analysis/2024-11-22/anipose/angles/2024-11-22_09-19-32_angles.csv\n",
      "/home/yiting/Documents/Analysis/2024-11-22/anipose/angles/2024-11-22_09-19-44_angles.csv\n",
      "/home/yiting/Documents/Analysis/2024-11-22/anipose/angles/2024-11-22_09-19-57_angles.csv\n",
      "/home/yiting/Documents/Analysis/2024-11-22/anipose/angles/2024-11-22_09-20-10_angles.csv\n",
      "/home/yiting/Documents/Analysis/2024-11-22/anipose/angles/2024-11-22_09-20-21_angles.csv\n",
      "/home/yiting/Documents/Analysis/2024-11-22/anipose/angles/2024-11-22_09-20-36_angles.csv\n",
      "/home/yiting/Documents/Analysis/2024-11-22/anipose/angles/2024-11-22_09-20-49_angles.csv\n",
      "/home/yiting/Documents/Analysis/2024-11-22/anipose/angles/2024-11-22_09-21-02_angles.csv\n",
      "/home/yiting/Documents/Analysis/2024-11-22/anipose/angles/2024-11-22_09-21-14_angles.csv\n",
      "/home/yiting/Documents/Analysis/2024-11-22/anipose/angles/2024-11-22_09-21-28_angles.csv\n",
      "/home/yiting/Documents/Analysis/2024-11-22/anipose/angles/2024-11-22_09-21-40_angles.csv\n",
      "/home/yiting/Documents/Analysis/2024-11-22/anipose/angles/2024-11-22_09-21-52_angles.csv\n",
      "/home/yiting/Documents/Analysis/2024-11-22/anipose/angles/2024-11-22_09-22-03_angles.csv\n",
      "/home/yiting/Documents/Analysis/2024-11-22/anipose/angles/2024-11-22_09-22-19_angles.csv\n",
      "/home/yiting/Documents/Analysis/2024-11-22/anipose/angles/2024-11-22_09-22-33_angles.csv\n",
      "/home/yiting/Documents/Analysis/2024-11-22/anipose/angles/2024-11-22_09-22-46_angles.csv\n",
      "/home/yiting/Documents/Analysis/2024-11-22/anipose/angles/2024-11-22_09-23-00_angles.csv\n",
      "/home/yiting/Documents/Analysis/2024-11-22/anipose/angles/2024-11-22_09-23-15_angles.csv\n",
      "/home/yiting/Documents/Analysis/2024-11-22/anipose/angles/2024-11-22_09-23-25_angles.csv\n",
      "/home/yiting/Documents/Analysis/2024-11-22/anipose/angles/2024-11-22_09-23-37_angles.csv\n",
      "/home/yiting/Documents/Analysis/2024-11-22/anipose/angles/2024-11-22_09-23-49_angles.csv\n",
      "/home/yiting/Documents/Analysis/2024-11-22/anipose/angles/2024-11-22_09-24-00_angles.csv\n",
      "/home/yiting/Documents/Analysis/2024-11-22/anipose/angles/2024-11-22_09-24-13_angles.csv\n",
      "/home/yiting/Documents/Analysis/2024-11-22/anipose/angles/2024-11-22_09-24-25_angles.csv\n",
      "/home/yiting/Documents/Analysis/2024-11-22/anipose/angles/2024-11-22_09-24-38_angles.csv\n",
      "/home/yiting/Documents/Analysis/2024-11-22/anipose/angles/2024-11-22_09-24-53_angles.csv\n",
      "/home/yiting/Documents/Analysis/2024-11-22/anipose/angles/2024-11-22_09-25-05_angles.csv\n",
      "/home/yiting/Documents/Analysis/2024-11-22/anipose/angles/2024-11-22_09-25-17_angles.csv\n",
      "/home/yiting/Documents/Analysis/2024-11-22/anipose/angles/2024-11-22_09-25-31_angles.csv\n",
      "/home/yiting/Documents/Analysis/2024-11-22/anipose/angles/2024-11-22_09-25-45_angles.csv\n",
      "/home/yiting/Documents/Analysis/2024-11-22/anipose/angles/2024-11-22_09-25-59_angles.csv\n",
      "/home/yiting/Documents/Analysis/2024-11-22/anipose/angles/2024-11-22_09-26-12_angles.csv\n",
      "/home/yiting/Documents/Analysis/2024-11-22/anipose/angles/2024-11-22_09-26-25_angles.csv\n",
      "/home/yiting/Documents/Analysis/2024-11-22/anipose/angles/2024-11-22_09-26-39_angles.csv\n",
      "/home/yiting/Documents/Analysis/2024-11-22/anipose/angles/2024-11-22_09-26-52_angles.csv\n",
      "/home/yiting/Documents/Analysis/2024-11-22/anipose/angles/2024-11-22_09-27-06_angles.csv\n",
      "/home/yiting/Documents/Analysis/2024-11-22/anipose/angles/2024-11-22_09-27-19_angles.csv\n",
      "/home/yiting/Documents/Analysis/2024-11-22/anipose/angles/2024-11-22_09-27-31_angles.csv\n",
      "/home/yiting/Documents/Analysis/2024-11-22/anipose/angles/2024-11-22_09-27-43_angles.csv\n",
      "/home/yiting/Documents/Analysis/2024-11-22/anipose/angles/2024-11-22_09-27-55_angles.csv\n",
      "/home/yiting/Documents/Analysis/2024-11-22/anipose/angles/2024-11-22_09-28-07_angles.csv\n",
      "/home/yiting/Documents/Analysis/2024-11-22/anipose/angles/2024-11-22_09-28-19_angles.csv\n",
      "/home/yiting/Documents/Analysis/2024-11-22/anipose/angles/2024-11-22_09-28-34_angles.csv\n",
      "/home/yiting/Documents/Analysis/2024-11-22/anipose/angles/2024-11-22_09-28-49_angles.csv\n",
      "/home/yiting/Documents/Analysis/2024-11-22/anipose/angles/2024-11-22_09-29-03_angles.csv\n",
      "/home/yiting/Documents/Analysis/2024-11-22/anipose/angles/2024-11-22_09-29-17_angles.csv\n",
      "/home/yiting/Documents/Analysis/2024-11-22/anipose/angles/2024-11-22_09-29-31_angles.csv\n",
      "/home/yiting/Documents/Analysis/2024-11-22/anipose/angles/2024-11-22_09-29-44_angles.csv\n",
      "/home/yiting/Documents/Analysis/2024-11-22/anipose/angles/2024-11-22_09-29-57_angles.csv\n",
      "/home/yiting/Documents/Analysis/2024-11-22/anipose/angles/2024-11-22_09-30-09_angles.csv\n",
      "/home/yiting/Documents/Analysis/2024-11-22/anipose/angles/2024-11-22_09-30-22_angles.csv\n",
      "/home/yiting/Documents/Analysis/2024-11-22/anipose/angles/2024-11-22_09-30-35_angles.csv\n",
      "/home/yiting/Documents/Analysis/2024-11-22/anipose/angles/2024-11-22_09-30-47_angles.csv\n",
      "/home/yiting/Documents/Analysis/2024-11-22/anipose/angles/2024-11-22_09-30-59_angles.csv\n",
      "/home/yiting/Documents/Analysis/2024-11-22/anipose/angles/2024-11-22_09-31-13_angles.csv\n",
      "/home/yiting/Documents/Analysis/2024-11-22/anipose/angles/2024-11-22_09-31-24_angles.csv\n",
      "/home/yiting/Documents/Analysis/2024-11-22/anipose/angles/2024-11-22_09-31-36_angles.csv\n",
      "/home/yiting/Documents/Analysis/2024-11-22/anipose/angles/2024-11-22_09-31-49_angles.csv\n",
      "/home/yiting/Documents/Analysis/2024-11-22/anipose/angles/2024-11-22_09-32-02_angles.csv\n",
      "/home/yiting/Documents/Analysis/2024-11-22/anipose/angles/2024-11-22_09-32-14_angles.csv\n",
      "/home/yiting/Documents/Analysis/2024-11-22/anipose/angles/2024-11-22_09-32-28_angles.csv\n",
      "/home/yiting/Documents/Analysis/2024-11-22/anipose/angles/2024-11-22_09-32-42_angles.csv\n",
      "/home/yiting/Documents/Analysis/2024-11-22/anipose/angles/2024-11-22_09-32-55_angles.csv\n",
      "/home/yiting/Documents/Analysis/2024-11-22/anipose/angles/2024-11-22_09-33-09_angles.csv\n",
      "/home/yiting/Documents/Analysis/2024-11-22/anipose/angles/2024-11-22_09-33-23_angles.csv\n",
      "/home/yiting/Documents/Analysis/2024-11-22/anipose/angles/2024-11-22_09-33-35_angles.csv\n",
      "/home/yiting/Documents/Analysis/2024-11-22/anipose/angles/2024-11-22_09-33-48_angles.csv\n",
      "/home/yiting/Documents/Analysis/2024-11-22/anipose/angles/2024-11-22_09-34-02_angles.csv\n",
      "/home/yiting/Documents/Analysis/2024-11-22/anipose/angles/2024-11-22_09-34-14_angles.csv\n",
      "/home/yiting/Documents/Analysis/2024-11-22/anipose/angles/2024-11-22_09-34-28_angles.csv\n",
      "/home/yiting/Documents/Analysis/2024-11-22/anipose/angles/2024-11-22_09-34-42_angles.csv\n",
      "/home/yiting/Documents/Analysis/2024-11-22/anipose/angles/2024-11-22_09-34-56_angles.csv\n",
      "/home/yiting/Documents/Analysis/2024-11-22/anipose/angles/2024-11-22_09-35-08_angles.csv\n",
      "/home/yiting/Documents/Analysis/2024-11-22/anipose/angles/2024-11-22_09-35-21_angles.csv\n",
      "/home/yiting/Documents/Analysis/2024-11-22/anipose/angles/2024-11-22_09-35-32_angles.csv\n",
      "/home/yiting/Documents/Analysis/2024-11-22/anipose/angles/2024-11-22_09-35-43_angles.csv\n",
      "/home/yiting/Documents/Analysis/2024-11-22/anipose/angles/2024-11-22_09-35-57_angles.csv\n",
      "/home/yiting/Documents/Analysis/2024-11-22/anipose/angles/2024-11-22_09-36-10_angles.csv\n",
      "/home/yiting/Documents/Analysis/2024-11-22/anipose/angles/2024-11-22_09-36-23_angles.csv\n",
      "/home/yiting/Documents/Analysis/2024-11-22/anipose/angles/2024-11-22_09-36-38_angles.csv\n",
      "/home/yiting/Documents/Analysis/2024-11-22/anipose/angles/2024-11-22_09-36-51_angles.csv\n",
      "/home/yiting/Documents/Analysis/2024-11-22/anipose/angles/2024-11-22_09-37-03_angles.csv\n",
      "/home/yiting/Documents/Analysis/2024-11-22/anipose/angles/2024-11-22_09-37-15_angles.csv\n",
      "/home/yiting/Documents/Analysis/2024-11-22/anipose/angles/2024-11-22_09-37-29_angles.csv\n",
      "/home/yiting/Documents/Analysis/2024-11-22/anipose/angles/2024-11-22_09-37-42_angles.csv\n",
      "/home/yiting/Documents/Analysis/2024-11-22/anipose/angles/2024-11-22_09-37-54_angles.csv\n",
      "/home/yiting/Documents/Analysis/2024-11-22/anipose/angles/2024-11-22_09-38-08_angles.csv\n",
      "/home/yiting/Documents/Analysis/2024-11-22/anipose/angles/2024-11-22_09-38-21_angles.csv\n",
      "/home/yiting/Documents/Analysis/2024-11-22/anipose/angles/2024-11-22_09-38-33_angles.csv\n",
      "/home/yiting/Documents/Analysis/2024-11-22/anipose/angles/2024-11-22_09-38-45_angles.csv\n",
      "/home/yiting/Documents/Analysis/2024-11-22/anipose/angles/2024-11-22_09-38-59_angles.csv\n",
      "/home/yiting/Documents/Analysis/2024-11-22/anipose/angles/2024-11-22_09-39-13_angles.csv\n",
      "/home/yiting/Documents/Analysis/2024-11-22/anipose/angles/2024-11-22_09-39-28_angles.csv\n",
      "/home/yiting/Documents/Analysis/2024-11-22/anipose/angles/2024-11-22_09-39-40_angles.csv\n",
      "/home/yiting/Documents/Analysis/2024-11-22/anipose/angles/2024-11-22_09-39-51_angles.csv\n",
      "/home/yiting/Documents/Analysis/2024-11-22/anipose/angles/2024-11-22_09-40-04_angles.csv\n",
      "/home/yiting/Documents/Analysis/2024-11-22/anipose/angles/2024-11-22_09-40-16_angles.csv\n",
      "/home/yiting/Documents/Analysis/2024-11-22/anipose/angles/2024-11-22_09-40-31_angles.csv\n",
      "/home/yiting/Documents/Analysis/2024-11-22/anipose/angles/2024-11-22_09-40-45_angles.csv\n",
      "/home/yiting/Documents/Analysis/2024-11-22/anipose/angles/2024-11-22_09-40-59_angles.csv\n",
      "/home/yiting/Documents/Analysis/2024-11-22/anipose/angles/2024-11-22_09-41-13_angles.csv\n",
      "/home/yiting/Documents/Analysis/2024-11-22/anipose/angles/2024-11-22_09-41-26_angles.csv\n",
      "/home/yiting/Documents/Analysis/2024-11-22/anipose/angles/2024-11-22_09-41-39_angles.csv\n",
      "/home/yiting/Documents/Analysis/2024-11-22/anipose/angles/2024-11-22_09-41-51_angles.csv\n",
      "/home/yiting/Documents/Analysis/2024-11-22/anipose/angles/2024-11-22_09-42-04_angles.csv\n",
      "/home/yiting/Documents/Analysis/2024-11-22/anipose/angles/2024-11-22_09-42-18_angles.csv\n",
      "/home/yiting/Documents/Analysis/2024-11-22/anipose/angles/2024-11-22_09-42-31_angles.csv\n",
      "/home/yiting/Documents/Analysis/2024-11-22/anipose/angles/2024-11-22_09-42-43_angles.csv\n",
      "/home/yiting/Documents/Analysis/2024-11-22/anipose/angles/2024-11-22_09-42-56_angles.csv\n",
      "/home/yiting/Documents/Analysis/2024-11-22/anipose/angles/2024-11-22_09-43-08_angles.csv\n",
      "/home/yiting/Documents/Analysis/2024-11-22/anipose/angles/2024-11-22_09-43-20_angles.csv\n",
      "/home/yiting/Documents/Analysis/2024-11-22/anipose/angles/2024-11-22_09-43-33_angles.csv\n",
      "/home/yiting/Documents/Analysis/2024-11-22/anipose/angles/2024-11-22_09-43-47_angles.csv\n",
      "/home/yiting/Documents/Analysis/2024-11-22/anipose/angles/2024-11-22_09-44-00_angles.csv\n",
      "/home/yiting/Documents/Analysis/2024-11-22/anipose/angles/2024-11-22_09-44-13_angles.csv\n",
      "/home/yiting/Documents/Analysis/2024-11-22/anipose/angles/2024-11-22_09-44-29_angles.csv\n",
      "/home/yiting/Documents/Analysis/2024-11-22/anipose/angles/2024-11-22_09-44-43_angles.csv\n",
      "/home/yiting/Documents/Analysis/2024-11-22/anipose/angles/2024-11-22_09-44-57_angles.csv\n",
      "/home/yiting/Documents/Analysis/2024-11-22/anipose/angles/2024-11-22_09-45-09_angles.csv\n",
      "/home/yiting/Documents/Analysis/2024-11-22/anipose/angles/2024-11-22_09-45-23_angles.csv\n",
      "/home/yiting/Documents/Analysis/2024-11-22/anipose/angles/2024-11-22_09-45-35_angles.csv\n",
      "/home/yiting/Documents/Analysis/2024-11-22/anipose/angles/2024-11-22_09-45-49_angles.csv\n",
      "/home/yiting/Documents/Analysis/2024-11-22/anipose/angles/2024-11-22_09-46-04_angles.csv\n",
      "/home/yiting/Documents/Analysis/2024-11-22/anipose/angles/2024-11-22_09-46-15_angles.csv\n",
      "/home/yiting/Documents/Analysis/2024-11-22/anipose/angles/2024-11-22_09-46-29_angles.csv\n",
      "/home/yiting/Documents/Analysis/2024-11-22/anipose/angles/2024-11-22_09-46-41_angles.csv\n",
      "/home/yiting/Documents/Analysis/2024-11-22/anipose/angles/2024-11-22_09-46-55_angles.csv\n",
      "/home/yiting/Documents/Analysis/2024-11-22/anipose/angles/2024-11-22_09-47-06_angles.csv\n",
      "/home/yiting/Documents/Analysis/2024-11-22/anipose/angles/2024-11-22_09-47-21_angles.csv\n",
      "/home/yiting/Documents/Analysis/2024-11-22/anipose/angles/2024-11-22_09-47-35_angles.csv\n",
      "/home/yiting/Documents/Analysis/2024-11-22/anipose/angles/2024-11-22_09-47-47_angles.csv\n",
      "/home/yiting/Documents/Analysis/2024-11-22/anipose/angles/2024-11-22_09-47-59_angles.csv\n",
      "/home/yiting/Documents/Analysis/2024-11-22/anipose/angles/2024-11-22_09-48-13_angles.csv\n",
      "/home/yiting/Documents/Analysis/2024-11-22/anipose/angles/2024-11-22_09-48-25_angles.csv\n",
      "/home/yiting/Documents/Analysis/2024-11-22/anipose/angles/2024-11-22_09-48-36_angles.csv\n",
      "/home/yiting/Documents/Analysis/2024-11-22/anipose/angles/2024-11-22_09-48-47_angles.csv\n",
      "/home/yiting/Documents/Analysis/2024-11-22/anipose/angles/2024-11-22_09-48-59_angles.csv\n",
      "/home/yiting/Documents/Analysis/2024-11-22/anipose/angles/2024-11-22_09-49-14_angles.csv\n",
      "/home/yiting/Documents/Analysis/2024-11-22/anipose/angles/2024-11-22_09-49-29_angles.csv\n",
      "/home/yiting/Documents/Analysis/2024-11-22/anipose/angles/2024-11-22_09-49-42_angles.csv\n",
      "/home/yiting/Documents/Analysis/2024-11-22/anipose/angles/2024-11-22_09-49-54_angles.csv\n",
      "/home/yiting/Documents/Analysis/2024-11-22/anipose/angles/2024-11-22_09-50-06_angles.csv\n",
      "/home/yiting/Documents/Analysis/2024-11-22/anipose/angles/2024-11-22_09-50-18_angles.csv\n",
      "/home/yiting/Documents/Analysis/2024-11-22/anipose/angles/2024-11-22_09-50-33_angles.csv\n",
      "/home/yiting/Documents/Analysis/2024-11-22/anipose/angles/2024-11-22_09-50-45_angles.csv\n",
      "/home/yiting/Documents/Analysis/2024-11-22/anipose/angles/2024-11-22_09-50-56_angles.csv\n",
      "/home/yiting/Documents/Analysis/2024-11-22/anipose/angles/2024-11-22_09-51-10_angles.csv\n",
      "/home/yiting/Documents/Analysis/2024-11-22/anipose/angles/2024-11-22_09-51-23_angles.csv\n",
      "/home/yiting/Documents/Analysis/2024-11-22/anipose/angles/2024-11-22_09-51-36_angles.csv\n",
      "/home/yiting/Documents/Analysis/2024-11-22/anipose/angles/2024-11-22_09-51-50_angles.csv\n",
      "/home/yiting/Documents/Analysis/2024-11-22/anipose/angles/2024-11-22_09-52-05_angles.csv\n",
      "/home/yiting/Documents/Analysis/2024-11-22/anipose/angles/2024-11-22_09-52-20_angles.csv\n",
      "/home/yiting/Documents/Analysis/2024-11-22/anipose/angles/2024-11-22_09-52-33_angles.csv\n",
      "/home/yiting/Documents/Analysis/2024-11-22/anipose/angles/2024-11-22_09-52-46_angles.csv\n",
      "/home/yiting/Documents/Analysis/2024-11-22/anipose/angles/2024-11-22_09-53-00_angles.csv\n",
      "/home/yiting/Documents/Analysis/2024-11-22/anipose/angles/2024-11-22_09-53-15_angles.csv\n",
      "/home/yiting/Documents/Analysis/2024-11-22/anipose/angles/2024-11-22_09-53-26_angles.csv\n",
      "/home/yiting/Documents/Analysis/2024-11-22/anipose/angles/2024-11-22_09-53-39_angles.csv\n",
      "/home/yiting/Documents/Analysis/2024-11-22/anipose/angles/2024-11-22_09-53-54_angles.csv\n",
      "/home/yiting/Documents/Analysis/2024-11-22/anipose/angles/2024-11-22_09-54-07_angles.csv\n",
      "/home/yiting/Documents/Analysis/2024-11-22/anipose/angles/2024-11-22_09-54-19_angles.csv\n",
      "/home/yiting/Documents/Analysis/2024-11-22/anipose/angles/2024-11-22_09-54-31_angles.csv\n",
      "/home/yiting/Documents/Analysis/2024-11-22/anipose/angles/2024-11-22_09-54-44_angles.csv\n",
      "/home/yiting/Documents/Analysis/2024-11-22/anipose/angles/2024-11-22_09-54-55_angles.csv\n",
      "/home/yiting/Documents/Analysis/2024-11-22/anipose/angles/2024-11-22_09-55-07_angles.csv\n",
      "/home/yiting/Documents/Analysis/2024-11-22/anipose/angles/2024-11-22_09-55-19_angles.csv\n",
      "/home/yiting/Documents/Analysis/2024-11-22/anipose/angles/2024-11-22_09-55-33_angles.csv\n",
      "/home/yiting/Documents/Analysis/2024-11-22/anipose/angles/2024-11-22_09-55-45_angles.csv\n",
      "/home/yiting/Documents/Analysis/2024-11-22/anipose/angles/2024-11-22_09-55-58_angles.csv\n",
      "/home/yiting/Documents/Analysis/2024-11-22/anipose/angles/2024-11-22_09-56-11_angles.csv\n",
      "/home/yiting/Documents/Analysis/2024-11-22/anipose/angles/2024-11-22_09-56-24_angles.csv\n",
      "/home/yiting/Documents/Analysis/2024-11-22/anipose/angles/2024-11-22_09-56-39_angles.csv\n",
      "/home/yiting/Documents/Analysis/2024-11-22/anipose/angles/2024-11-22_09-56-53_angles.csv\n",
      "/home/yiting/Documents/Analysis/2024-11-22/anipose/angles/2024-11-22_09-57-05_angles.csv\n",
      "/home/yiting/Documents/Analysis/2024-11-22/anipose/angles/2024-11-22_09-57-17_angles.csv\n",
      "/home/yiting/Documents/Analysis/2024-11-22/anipose/angles/2024-11-22_09-57-27_angles.csv\n",
      "/home/yiting/Documents/Analysis/2024-11-22/anipose/angles/2024-11-22_09-57-38_angles.csv\n",
      "/home/yiting/Documents/Analysis/2024-11-22/anipose/angles/2024-11-22_09-58-44_angles.csv\n",
      "/home/yiting/Documents/Analysis/2024-11-22/anipose/angles/2024-11-22_09-58-57_angles.csv\n",
      "/home/yiting/Documents/Analysis/2024-11-22/anipose/angles/2024-11-22_09-59-09_angles.csv\n",
      "/home/yiting/Documents/Analysis/2024-11-22/anipose/angles/2024-11-22_09-59-23_angles.csv\n",
      "/home/yiting/Documents/Analysis/2024-11-22/anipose/angles/2024-11-22_09-59-37_angles.csv\n",
      "/home/yiting/Documents/Analysis/2024-11-22/anipose/angles/2024-11-22_09-59-51_angles.csv\n",
      "/home/yiting/Documents/Analysis/2024-11-22/anipose/angles/2024-11-22_10-00-06_angles.csv\n",
      "/home/yiting/Documents/Analysis/2024-11-22/anipose/angles/2024-11-22_10-00-21_angles.csv\n",
      "/home/yiting/Documents/Analysis/2024-11-22/anipose/angles/2024-11-22_10-00-34_angles.csv\n",
      "/home/yiting/Documents/Analysis/2024-11-22/anipose/angles/2024-11-22_10-00-49_angles.csv\n",
      "/home/yiting/Documents/Analysis/2024-11-22/anipose/angles/2024-11-22_10-01-01_angles.csv\n",
      "/home/yiting/Documents/Analysis/2024-11-22/anipose/angles/2024-11-22_10-01-14_angles.csv\n",
      "/home/yiting/Documents/Analysis/2024-11-22/anipose/angles/2024-11-22_10-01-26_angles.csv\n",
      "/home/yiting/Documents/Analysis/2024-11-22/anipose/angles/2024-11-22_10-01-38_angles.csv\n",
      "/home/yiting/Documents/Analysis/2024-11-22/anipose/angles/2024-11-22_10-01-52_angles.csv\n",
      "/home/yiting/Documents/Analysis/2024-11-22/anipose/angles/2024-11-22_10-02-03_angles.csv\n",
      "/home/yiting/Documents/Analysis/2024-11-22/anipose/angles/2024-11-22_10-02-17_angles.csv\n",
      "/home/yiting/Documents/Analysis/2024-11-22/anipose/angles/2024-11-22_10-02-28_angles.csv\n",
      "/home/yiting/Documents/Analysis/2024-11-22/anipose/angles/2024-11-22_10-02-43_angles.csv\n",
      "/home/yiting/Documents/Analysis/2024-11-22/anipose/angles/2024-11-22_10-02-56_angles.csv\n",
      "/home/yiting/Documents/Analysis/2024-11-22/anipose/angles/2024-11-22_10-03-10_angles.csv\n",
      "/home/yiting/Documents/Analysis/2024-11-22/anipose/angles/2024-11-22_10-03-23_angles.csv\n",
      "/home/yiting/Documents/Analysis/2024-11-22/anipose/angles/2024-11-22_10-03-34_angles.csv\n",
      "/home/yiting/Documents/Analysis/2024-11-22/anipose/angles/2024-11-22_10-03-47_angles.csv\n",
      "/home/yiting/Documents/Analysis/2024-11-22/anipose/angles/2024-11-22_10-04-00_angles.csv\n",
      "/home/yiting/Documents/Analysis/2024-11-22/anipose/angles/2024-11-22_10-04-12_angles.csv\n",
      "/home/yiting/Documents/Analysis/2024-11-22/anipose/angles/2024-11-22_10-04-24_angles.csv\n",
      "/home/yiting/Documents/Analysis/2024-11-22/anipose/angles/2024-11-22_10-04-38_angles.csv\n",
      "/home/yiting/Documents/Analysis/2024-11-22/anipose/angles/2024-11-22_10-04-50_angles.csv\n",
      "/home/yiting/Documents/Analysis/2024-11-22/anipose/angles/2024-11-22_10-05-04_angles.csv\n",
      "/home/yiting/Documents/Analysis/2024-11-22/anipose/angles/2024-11-22_10-05-18_angles.csv\n",
      "/home/yiting/Documents/Analysis/2024-11-22/anipose/angles/2024-11-22_10-05-32_angles.csv\n",
      "/home/yiting/Documents/Analysis/2024-11-22/anipose/angles/2024-11-22_10-05-46_angles.csv\n",
      "/home/yiting/Documents/Analysis/2024-11-22/anipose/angles/2024-11-22_10-06-00_angles.csv\n",
      "/home/yiting/Documents/Analysis/2024-11-22/anipose/angles/2024-11-22_10-06-12_angles.csv\n",
      "/home/yiting/Documents/Analysis/2024-11-22/anipose/angles/2024-11-22_10-06-26_angles.csv\n",
      "/home/yiting/Documents/Analysis/2024-11-22/anipose/angles/2024-11-22_10-06-40_angles.csv\n",
      "/home/yiting/Documents/Analysis/2024-11-22/anipose/angles/2024-11-22_10-06-51_angles.csv\n",
      "/home/yiting/Documents/Analysis/2024-11-22/anipose/angles/2024-11-22_10-07-05_angles.csv\n",
      "/home/yiting/Documents/Analysis/2024-11-22/anipose/angles/2024-11-22_10-07-19_angles.csv\n",
      "/home/yiting/Documents/Analysis/2024-11-22/anipose/angles/2024-11-22_10-07-33_angles.csv\n",
      "/home/yiting/Documents/Analysis/2024-11-22/anipose/angles/2024-11-22_10-07-46_angles.csv\n",
      "/home/yiting/Documents/Analysis/2024-11-22/anipose/angles/2024-11-22_10-07-58_angles.csv\n",
      "/home/yiting/Documents/Analysis/2024-11-22/anipose/angles/2024-11-22_10-08-11_angles.csv\n",
      "/home/yiting/Documents/Analysis/2024-11-22/anipose/angles/2024-11-22_10-08-23_angles.csv\n",
      "/home/yiting/Documents/Analysis/2024-11-22/anipose/angles/2024-11-22_10-08-36_angles.csv\n",
      "/home/yiting/Documents/Analysis/2024-11-22/anipose/angles/2024-11-22_10-08-49_angles.csv\n",
      "/home/yiting/Documents/Analysis/2024-11-22/anipose/angles/2024-11-22_10-09-02_angles.csv\n",
      "/home/yiting/Documents/Analysis/2024-11-22/anipose/angles/2024-11-22_10-09-18_angles.csv\n",
      "/home/yiting/Documents/Analysis/2024-11-22/anipose/angles/2024-11-22_10-09-31_angles.csv\n",
      "/home/yiting/Documents/Analysis/2024-11-22/anipose/angles/2024-11-22_10-09-43_angles.csv\n",
      "/home/yiting/Documents/Analysis/2024-11-22/anipose/angles/2024-11-22_10-09-57_angles.csv\n",
      "/home/yiting/Documents/Analysis/2024-11-22/anipose/angles/2024-11-22_10-10-09_angles.csv\n",
      "/home/yiting/Documents/Analysis/2024-11-22/anipose/angles/2024-11-22_10-10-24_angles.csv\n",
      "/home/yiting/Documents/Analysis/2024-11-22/anipose/angles/2024-11-22_10-10-38_angles.csv\n",
      "/home/yiting/Documents/Analysis/2024-11-22/anipose/angles/2024-11-22_10-10-51_angles.csv\n",
      "/home/yiting/Documents/Analysis/2024-11-22/anipose/angles/2024-11-22_10-11-05_angles.csv\n",
      "/home/yiting/Documents/Analysis/2024-11-22/anipose/angles/2024-11-22_10-11-19_angles.csv\n",
      "/home/yiting/Documents/Analysis/2024-11-22/anipose/angles/2024-11-22_10-11-33_angles.csv\n",
      "/home/yiting/Documents/Analysis/2024-11-22/anipose/angles/2024-11-22_10-11-45_angles.csv\n",
      "/home/yiting/Documents/Analysis/2024-11-22/anipose/angles/2024-11-22_10-11-58_angles.csv\n",
      "/home/yiting/Documents/Analysis/2024-11-22/anipose/angles/2024-11-22_10-12-11_angles.csv\n",
      "/home/yiting/Documents/Analysis/2024-11-22/anipose/angles/2024-11-22_10-12-25_angles.csv\n",
      "/home/yiting/Documents/Analysis/2024-11-22/anipose/angles/2024-11-22_10-12-37_angles.csv\n",
      "/home/yiting/Documents/Analysis/2024-11-22/anipose/angles/2024-11-22_10-12-49_angles.csv\n",
      "/home/yiting/Documents/Analysis/2024-11-22/anipose/angles/2024-11-22_10-13-03_angles.csv\n",
      "/home/yiting/Documents/Analysis/2024-11-22/anipose/angles/2024-11-22_10-13-14_angles.csv\n",
      "/home/yiting/Documents/Analysis/2024-11-22/anipose/angles/2024-11-22_10-13-28_angles.csv\n",
      "/home/yiting/Documents/Analysis/2024-11-22/anipose/angles/2024-11-22_10-13-40_angles.csv\n",
      "/home/yiting/Documents/Analysis/2024-11-22/anipose/angles/2024-11-22_10-13-53_angles.csv\n",
      "/home/yiting/Documents/Analysis/2024-11-22/anipose/angles/2024-11-22_10-14-05_angles.csv\n",
      "/home/yiting/Documents/Analysis/2024-11-22/anipose/angles/2024-11-22_10-14-19_angles.csv\n",
      "/home/yiting/Documents/Analysis/2024-11-22/anipose/angles/2024-11-22_10-14-32_angles.csv\n",
      "/home/yiting/Documents/Analysis/2024-11-22/anipose/angles/2024-11-22_10-14-46_angles.csv\n",
      "/home/yiting/Documents/Analysis/2024-11-22/anipose/angles/2024-11-22_10-15-00_angles.csv\n",
      "/home/yiting/Documents/Analysis/2024-11-22/anipose/angles/2024-11-22_10-15-14_angles.csv\n",
      "/home/yiting/Documents/Analysis/2024-11-22/anipose/angles/2024-11-22_10-15-28_angles.csv\n",
      "/home/yiting/Documents/Analysis/2024-11-22/anipose/angles/2024-11-22_10-15-42_angles.csv\n",
      "/home/yiting/Documents/Analysis/2024-11-22/anipose/angles/2024-11-22_10-15-53_angles.csv\n",
      "/home/yiting/Documents/Analysis/2024-11-22/anipose/angles/2024-11-22_10-16-07_angles.csv\n",
      "/home/yiting/Documents/Analysis/2024-11-22/anipose/angles/2024-11-22_10-16-20_angles.csv\n",
      "/home/yiting/Documents/Analysis/2024-11-22/anipose/angles/2024-11-22_10-16-35_angles.csv\n",
      "/home/yiting/Documents/Analysis/2024-11-22/anipose/angles/2024-11-22_10-16-50_angles.csv\n",
      "/home/yiting/Documents/Analysis/2024-11-22/anipose/angles/2024-11-22_10-17-03_angles.csv\n",
      "/home/yiting/Documents/Analysis/2024-11-22/anipose/angles/2024-11-22_10-17-16_angles.csv\n",
      "/home/yiting/Documents/Analysis/2024-11-22/anipose/angles/2024-11-22_10-17-28_angles.csv\n",
      "/home/yiting/Documents/Analysis/2024-11-22/anipose/angles/2024-11-22_10-17-41_angles.csv\n",
      "/home/yiting/Documents/Analysis/2024-11-22/anipose/angles/2024-11-22_10-17-53_angles.csv\n",
      "/home/yiting/Documents/Analysis/2024-11-22/anipose/angles/2024-11-22_10-18-07_angles.csv\n",
      "/home/yiting/Documents/Analysis/2024-11-22/anipose/angles/2024-11-22_10-18-21_angles.csv\n",
      "/home/yiting/Documents/Analysis/2024-11-22/anipose/angles/2024-11-22_10-18-34_angles.csv\n",
      "/home/yiting/Documents/Analysis/2024-11-22/anipose/angles/2024-11-22_10-18-48_angles.csv\n",
      "/home/yiting/Documents/Analysis/2024-11-22/anipose/angles/2024-11-22_10-19-02_angles.csv\n",
      "/home/yiting/Documents/Analysis/2024-11-22/anipose/angles/2024-11-22_10-19-14_angles.csv\n",
      "/home/yiting/Documents/Analysis/2024-11-22/anipose/angles/2024-11-22_10-19-27_angles.csv\n",
      "/home/yiting/Documents/Analysis/2024-11-22/anipose/angles/2024-11-22_10-19-41_angles.csv\n",
      "/home/yiting/Documents/Analysis/2024-11-22/anipose/angles/2024-11-22_10-19-57_angles.csv\n",
      "/home/yiting/Documents/Analysis/2024-11-22/anipose/angles/2024-11-22_10-20-11_angles.csv\n",
      "/home/yiting/Documents/Analysis/2024-11-22/anipose/angles/2024-11-22_10-20-24_angles.csv\n",
      "/home/yiting/Documents/Analysis/2024-11-22/anipose/angles/2024-11-22_10-20-37_angles.csv\n",
      "/home/yiting/Documents/Analysis/2024-11-22/anipose/angles/2024-11-22_10-20-50_angles.csv\n",
      "/home/yiting/Documents/Analysis/2024-11-22/anipose/angles/2024-11-22_10-21-01_angles.csv\n",
      "/home/yiting/Documents/Analysis/2024-11-22/anipose/angles/2024-11-22_10-21-14_angles.csv\n",
      "/home/yiting/Documents/Analysis/2024-11-22/anipose/angles/2024-11-22_10-21-29_angles.csv\n",
      "/home/yiting/Documents/Analysis/2024-11-22/anipose/angles/2024-11-22_10-21-44_angles.csv\n",
      "/home/yiting/Documents/Analysis/2024-11-22/anipose/angles/2024-11-22_10-21-57_angles.csv\n",
      "/home/yiting/Documents/Analysis/2024-11-22/anipose/angles/2024-11-22_10-22-09_angles.csv\n",
      "/home/yiting/Documents/Analysis/2024-11-22/anipose/angles/2024-11-22_10-22-20_angles.csv\n",
      "/home/yiting/Documents/Analysis/2024-11-22/anipose/angles/2024-11-22_10-22-30_angles.csv\n",
      "/home/yiting/Documents/Analysis/2024-11-22/anipose/angles/2024-11-22_10-22-40_angles.csv\n",
      "/home/yiting/Documents/Analysis/2024-11-22/anipose/angles/2024-11-22_10-22-51_angles.csv\n",
      "/home/yiting/Documents/Analysis/2024-11-22/anipose/angles/2024-11-22_10-23-01_angles.csv\n",
      "/home/yiting/Documents/Analysis/2024-11-22/anipose/angles/2024-11-22_10-23-12_angles.csv\n",
      "/home/yiting/Documents/Analysis/2024-11-22/anipose/angles/2024-11-22_10-23-22_angles.csv\n",
      "/home/yiting/Documents/Analysis/2024-11-22/anipose/angles/2024-11-22_10-23-32_angles.csv\n",
      "/home/yiting/Documents/Analysis/2024-11-22/anipose/angles/2024-11-22_10-23-42_angles.csv\n",
      "/home/yiting/Documents/Analysis/2024-11-22/anipose/angles/2024-11-22_10-23-53_angles.csv\n",
      "/home/yiting/Documents/Analysis/2024-11-22/anipose/angles/2024-11-22_10-34-32_angles.csv\n",
      "/home/yiting/Documents/Analysis/2024-11-22/anipose/angles/2024-11-22_10-34-42_angles.csv\n",
      "/home/yiting/Documents/Analysis/2024-11-22/anipose/angles/2024-11-22_10-34-54_angles.csv\n",
      "/home/yiting/Documents/Analysis/2024-11-22/anipose/angles/2024-11-22_10-35-08_angles.csv\n",
      "/home/yiting/Documents/Analysis/2024-11-22/anipose/angles/2024-11-22_10-35-22_angles.csv\n",
      "/home/yiting/Documents/Analysis/2024-11-22/anipose/angles/2024-11-22_10-35-36_angles.csv\n",
      "/home/yiting/Documents/Analysis/2024-11-22/anipose/angles/2024-11-22_10-35-51_angles.csv\n",
      "/home/yiting/Documents/Analysis/2024-11-22/anipose/angles/2024-11-22_10-36-03_angles.csv\n",
      "/home/yiting/Documents/Analysis/2024-11-22/anipose/angles/2024-11-22_10-36-18_angles.csv\n",
      "/home/yiting/Documents/Analysis/2024-11-22/anipose/angles/2024-11-22_10-36-32_angles.csv\n",
      "/home/yiting/Documents/Analysis/2024-11-22/anipose/angles/2024-11-22_10-36-46_angles.csv\n",
      "/home/yiting/Documents/Analysis/2024-11-22/anipose/angles/2024-11-22_10-36-58_angles.csv\n",
      "/home/yiting/Documents/Analysis/2024-11-22/anipose/angles/2024-11-22_10-37-10_angles.csv\n",
      "/home/yiting/Documents/Analysis/2024-11-22/anipose/angles/2024-11-22_10-37-24_angles.csv\n",
      "/home/yiting/Documents/Analysis/2024-11-22/anipose/angles/2024-11-22_10-37-38_angles.csv\n",
      "/home/yiting/Documents/Analysis/2024-11-22/anipose/angles/2024-11-22_10-37-52_angles.csv\n",
      "/home/yiting/Documents/Analysis/2024-11-22/anipose/angles/2024-11-22_10-38-06_angles.csv\n",
      "/home/yiting/Documents/Analysis/2024-11-22/anipose/angles/2024-11-22_10-38-19_angles.csv\n",
      "/home/yiting/Documents/Analysis/2024-11-22/anipose/angles/2024-11-22_10-38-31_angles.csv\n",
      "/home/yiting/Documents/Analysis/2024-11-22/anipose/angles/2024-11-22_10-38-46_angles.csv\n",
      "/home/yiting/Documents/Analysis/2024-11-22/anipose/angles/2024-11-22_10-38-59_angles.csv\n",
      "/home/yiting/Documents/Analysis/2024-11-22/anipose/angles/2024-11-22_10-39-11_angles.csv\n",
      "/home/yiting/Documents/Analysis/2024-11-22/anipose/angles/2024-11-22_10-39-25_angles.csv\n",
      "/home/yiting/Documents/Analysis/2024-11-22/anipose/angles/2024-11-22_10-39-39_angles.csv\n",
      "/home/yiting/Documents/Analysis/2024-11-22/anipose/angles/2024-11-22_10-39-53_angles.csv\n",
      "/home/yiting/Documents/Analysis/2024-11-22/anipose/angles/2024-11-22_10-40-06_angles.csv\n",
      "/home/yiting/Documents/Analysis/2024-11-22/anipose/angles/2024-11-22_10-40-20_angles.csv\n",
      "/home/yiting/Documents/Analysis/2024-11-22/anipose/angles/2024-11-22_10-40-32_angles.csv\n",
      "/home/yiting/Documents/Analysis/2024-11-22/anipose/angles/2024-11-22_10-40-44_angles.csv\n",
      "/home/yiting/Documents/Analysis/2024-11-22/anipose/angles/2024-11-22_10-40-58_angles.csv\n",
      "/home/yiting/Documents/Analysis/2024-11-22/anipose/angles/2024-11-22_10-41-12_angles.csv\n",
      "/home/yiting/Documents/Analysis/2024-11-22/anipose/angles/2024-11-22_10-41-26_angles.csv\n",
      "/home/yiting/Documents/Analysis/2024-11-22/anipose/angles/2024-11-22_10-41-41_angles.csv\n",
      "/home/yiting/Documents/Analysis/2024-11-22/anipose/angles/2024-11-22_10-41-55_angles.csv\n",
      "/home/yiting/Documents/Analysis/2024-11-22/anipose/angles/2024-11-22_10-42-08_angles.csv\n",
      "/home/yiting/Documents/Analysis/2024-11-22/anipose/angles/2024-11-22_10-42-20_angles.csv\n",
      "/home/yiting/Documents/Analysis/2024-11-22/anipose/angles/2024-11-22_10-42-33_angles.csv\n",
      "/home/yiting/Documents/Analysis/2024-11-22/anipose/angles/2024-11-22_10-42-48_angles.csv\n",
      "/home/yiting/Documents/Analysis/2024-11-22/anipose/angles/2024-11-22_10-43-02_angles.csv\n",
      "/home/yiting/Documents/Analysis/2024-11-22/anipose/angles/2024-11-22_10-43-15_angles.csv\n",
      "/home/yiting/Documents/Analysis/2024-11-22/anipose/angles/2024-11-22_10-43-27_angles.csv\n",
      "/home/yiting/Documents/Analysis/2024-11-22/anipose/angles/2024-11-22_10-43-39_angles.csv\n",
      "/home/yiting/Documents/Analysis/2024-11-22/anipose/angles/2024-11-22_10-43-53_angles.csv\n",
      "/home/yiting/Documents/Analysis/2024-11-22/anipose/angles/2024-11-22_10-44-06_angles.csv\n",
      "/home/yiting/Documents/Analysis/2024-11-22/anipose/angles/2024-11-22_10-44-20_angles.csv\n",
      "/home/yiting/Documents/Analysis/2024-11-22/anipose/angles/2024-11-22_10-44-33_angles.csv\n",
      "/home/yiting/Documents/Analysis/2024-11-22/anipose/angles/2024-11-22_10-44-46_angles.csv\n",
      "/home/yiting/Documents/Analysis/2024-11-22/anipose/angles/2024-11-22_10-44-58_angles.csv\n",
      "/home/yiting/Documents/Analysis/2024-11-22/anipose/angles/2024-11-22_10-45-12_angles.csv\n",
      "/home/yiting/Documents/Analysis/2024-11-22/anipose/angles/2024-11-22_10-45-24_angles.csv\n",
      "/home/yiting/Documents/Analysis/2024-11-22/anipose/angles/2024-11-22_10-45-37_angles.csv\n",
      "/home/yiting/Documents/Analysis/2024-11-22/anipose/angles/2024-11-22_10-45-51_angles.csv\n",
      "/home/yiting/Documents/Analysis/2024-11-22/anipose/angles/2024-11-22_10-46-05_angles.csv\n",
      "/home/yiting/Documents/Analysis/2024-11-22/anipose/angles/2024-11-22_10-46-19_angles.csv\n",
      "/home/yiting/Documents/Analysis/2024-11-22/anipose/angles/2024-11-22_10-46-32_angles.csv\n",
      "/home/yiting/Documents/Analysis/2024-11-22/anipose/angles/2024-11-22_10-46-44_angles.csv\n",
      "/home/yiting/Documents/Analysis/2024-11-22/anipose/angles/2024-11-22_10-46-58_angles.csv\n",
      "/home/yiting/Documents/Analysis/2024-11-22/anipose/angles/2024-11-22_10-47-10_angles.csv\n",
      "/home/yiting/Documents/Analysis/2024-11-22/anipose/angles/2024-11-22_10-47-24_angles.csv\n",
      "/home/yiting/Documents/Analysis/2024-11-22/anipose/angles/2024-11-22_10-47-38_angles.csv\n",
      "/home/yiting/Documents/Analysis/2024-11-22/anipose/angles/2024-11-22_10-47-53_angles.csv\n",
      "/home/yiting/Documents/Analysis/2024-11-22/anipose/angles/2024-11-22_10-48-06_angles.csv\n",
      "/home/yiting/Documents/Analysis/2024-11-22/anipose/angles/2024-11-22_10-48-19_angles.csv\n",
      "/home/yiting/Documents/Analysis/2024-11-22/anipose/angles/2024-11-22_10-48-31_angles.csv\n",
      "/home/yiting/Documents/Analysis/2024-11-22/anipose/angles/2024-11-22_10-48-44_angles.csv\n",
      "/home/yiting/Documents/Analysis/2024-11-22/anipose/angles/2024-11-22_10-48-56_angles.csv\n",
      "/home/yiting/Documents/Analysis/2024-11-22/anipose/angles/2024-11-22_10-49-07_angles.csv\n",
      "/home/yiting/Documents/Analysis/2024-11-22/anipose/angles/2024-11-22_10-49-18_angles.csv\n",
      "/home/yiting/Documents/Analysis/2024-11-22/anipose/angles/2024-11-22_10-49-29_angles.csv\n",
      "/home/yiting/Documents/Analysis/2024-11-22/anipose/angles/2024-11-22_10-49-44_angles.csv\n",
      "/home/yiting/Documents/Analysis/2024-11-22/anipose/angles/2024-11-22_10-49-58_angles.csv\n",
      "/home/yiting/Documents/Analysis/2024-11-22/anipose/angles/2024-11-22_10-50-13_angles.csv\n",
      "/home/yiting/Documents/Analysis/2024-11-22/anipose/angles/2024-11-22_10-50-25_angles.csv\n",
      "/home/yiting/Documents/Analysis/2024-11-22/anipose/angles/2024-11-22_10-50-38_angles.csv\n",
      "/home/yiting/Documents/Analysis/2024-11-22/anipose/angles/2024-11-22_10-50-50_angles.csv\n",
      "/home/yiting/Documents/Analysis/2024-11-22/anipose/angles/2024-11-22_10-51-03_angles.csv\n",
      "/home/yiting/Documents/Analysis/2024-11-22/anipose/angles/2024-11-22_10-51-17_angles.csv\n",
      "/home/yiting/Documents/Analysis/2024-11-22/anipose/angles/2024-11-22_10-51-30_angles.csv\n",
      "/home/yiting/Documents/Analysis/2024-11-22/anipose/angles/2024-11-22_10-51-45_angles.csv\n",
      "/home/yiting/Documents/Analysis/2024-11-22/anipose/angles/2024-11-22_10-51-59_angles.csv\n",
      "/home/yiting/Documents/Analysis/2024-11-22/anipose/angles/2024-11-22_10-52-09_angles.csv\n",
      "/home/yiting/Documents/Analysis/2024-11-22/anipose/angles/2024-11-22_10-52-21_angles.csv\n",
      "/home/yiting/Documents/Analysis/2024-11-22/anipose/angles/2024-11-22_10-52-32_angles.csv\n",
      "/home/yiting/Documents/Analysis/2024-11-22/anipose/angles/2024-11-22_10-52-43_angles.csv\n",
      "/home/yiting/Documents/Analysis/2024-11-22/anipose/angles/2024-11-22_10-52-54_angles.csv\n",
      "/home/yiting/Documents/Analysis/2024-11-22/anipose/angles/2024-11-22_10-53-06_angles.csv\n",
      "/home/yiting/Documents/Analysis/2024-11-22/anipose/angles/2024-11-22_10-53-18_angles.csv\n",
      "/home/yiting/Documents/Analysis/2024-11-22/anipose/angles/2024-11-22_10-53-32_angles.csv\n",
      "/home/yiting/Documents/Analysis/2024-11-22/anipose/angles/2024-11-22_10-53-45_angles.csv\n",
      "/home/yiting/Documents/Analysis/2024-11-22/anipose/angles/2024-11-22_10-53-59_angles.csv\n",
      "/home/yiting/Documents/Analysis/2024-11-22/anipose/angles/2024-11-22_10-54-12_angles.csv\n",
      "/home/yiting/Documents/Analysis/2024-11-22/anipose/angles/2024-11-22_10-54-25_angles.csv\n",
      "/home/yiting/Documents/Analysis/2024-11-22/anipose/angles/2024-11-22_10-54-39_angles.csv\n",
      "/home/yiting/Documents/Analysis/2024-11-22/anipose/angles/2024-11-22_10-54-51_angles.csv\n",
      "/home/yiting/Documents/Analysis/2024-11-22/anipose/angles/2024-11-22_10-55-04_angles.csv\n",
      "/home/yiting/Documents/Analysis/2024-11-22/anipose/angles/2024-11-22_10-55-16_angles.csv\n",
      "/home/yiting/Documents/Analysis/2024-11-22/anipose/angles/2024-11-22_10-55-30_angles.csv\n",
      "/home/yiting/Documents/Analysis/2024-11-22/anipose/angles/2024-11-22_10-55-42_angles.csv\n",
      "/home/yiting/Documents/Analysis/2024-11-22/anipose/angles/2024-11-22_10-55-55_angles.csv\n",
      "/home/yiting/Documents/Analysis/2024-11-22/anipose/angles/2024-11-22_10-56-07_angles.csv\n",
      "/home/yiting/Documents/Analysis/2024-11-22/anipose/angles/2024-11-22_10-56-21_angles.csv\n",
      "/home/yiting/Documents/Analysis/2024-11-22/anipose/angles/2024-11-22_10-56-33_angles.csv\n",
      "/home/yiting/Documents/Analysis/2024-11-22/anipose/angles/2024-11-22_10-56-45_angles.csv\n",
      "/home/yiting/Documents/Analysis/2024-11-22/anipose/angles/2024-11-22_10-56-59_angles.csv\n",
      "/home/yiting/Documents/Analysis/2024-11-22/anipose/angles/2024-11-22_10-57-12_angles.csv\n",
      "/home/yiting/Documents/Analysis/2024-11-22/anipose/angles/2024-11-22_10-57-24_angles.csv\n",
      "/home/yiting/Documents/Analysis/2024-11-22/anipose/angles/2024-11-22_10-57-37_angles.csv\n",
      "/home/yiting/Documents/Analysis/2024-11-22/anipose/angles/2024-11-22_10-57-50_angles.csv\n",
      "/home/yiting/Documents/Analysis/2024-11-22/anipose/angles/2024-11-22_10-58-05_angles.csv\n",
      "/home/yiting/Documents/Analysis/2024-11-22/anipose/angles/2024-11-22_10-58-17_angles.csv\n",
      "/home/yiting/Documents/Analysis/2024-11-22/anipose/angles/2024-11-22_10-58-30_angles.csv\n",
      "/home/yiting/Documents/Analysis/2024-11-22/anipose/angles/2024-11-22_10-58-44_angles.csv\n",
      "/home/yiting/Documents/Analysis/2024-11-22/anipose/angles/2024-11-22_10-58-57_angles.csv\n",
      "/home/yiting/Documents/Analysis/2024-11-22/anipose/angles/2024-11-22_10-59-09_angles.csv\n",
      "/home/yiting/Documents/Analysis/2024-11-22/anipose/angles/2024-11-22_10-59-24_angles.csv\n",
      "/home/yiting/Documents/Analysis/2024-11-22/anipose/angles/2024-11-22_10-59-35_angles.csv\n",
      "/home/yiting/Documents/Analysis/2024-11-22/anipose/angles/2024-11-22_10-59-49_angles.csv\n",
      "/home/yiting/Documents/Analysis/2024-11-22/anipose/angles/2024-11-22_11-00-04_angles.csv\n",
      "/home/yiting/Documents/Analysis/2024-11-22/anipose/angles/2024-11-22_11-00-17_angles.csv\n",
      "/home/yiting/Documents/Analysis/2024-11-22/anipose/angles/2024-11-22_11-00-30_angles.csv\n",
      "/home/yiting/Documents/Analysis/2024-11-22/anipose/angles/2024-11-22_11-00-45_angles.csv\n",
      "/home/yiting/Documents/Analysis/2024-11-22/anipose/angles/2024-11-22_11-00-58_angles.csv\n",
      "/home/yiting/Documents/Analysis/2024-11-22/anipose/angles/2024-11-22_11-01-10_angles.csv\n",
      "/home/yiting/Documents/Analysis/2024-11-22/anipose/angles/2024-11-22_11-01-24_angles.csv\n",
      "/home/yiting/Documents/Analysis/2024-11-22/anipose/angles/2024-11-22_11-01-40_angles.csv\n",
      "/home/yiting/Documents/Analysis/2024-11-22/anipose/angles/2024-11-22_11-01-54_angles.csv\n",
      "/home/yiting/Documents/Analysis/2024-11-22/anipose/angles/2024-11-22_11-02-06_angles.csv\n",
      "/home/yiting/Documents/Analysis/2024-11-22/anipose/angles/2024-11-22_11-02-21_angles.csv\n",
      "/home/yiting/Documents/Analysis/2024-11-22/anipose/angles/2024-11-22_11-02-35_angles.csv\n",
      "/home/yiting/Documents/Analysis/2024-11-22/anipose/angles/2024-11-22_11-02-48_angles.csv\n",
      "/home/yiting/Documents/Analysis/2024-11-22/anipose/angles/2024-11-22_11-03-00_angles.csv\n",
      "/home/yiting/Documents/Analysis/2024-11-22/anipose/angles/2024-11-22_11-03-12_angles.csv\n",
      "/home/yiting/Documents/Analysis/2024-11-22/anipose/angles/2024-11-22_11-03-27_angles.csv\n",
      "/home/yiting/Documents/Analysis/2024-11-22/anipose/angles/2024-11-22_11-03-42_angles.csv\n",
      "/home/yiting/Documents/Analysis/2024-11-22/anipose/angles/2024-11-22_11-03-54_angles.csv\n",
      "/home/yiting/Documents/Analysis/2024-11-22/anipose/angles/2024-11-22_11-04-08_angles.csv\n",
      "/home/yiting/Documents/Analysis/2024-11-22/anipose/angles/2024-11-22_11-04-21_angles.csv\n",
      "/home/yiting/Documents/Analysis/2024-11-22/anipose/angles/2024-11-22_11-04-34_angles.csv\n",
      "/home/yiting/Documents/Analysis/2024-11-22/anipose/angles/2024-11-22_11-04-48_angles.csv\n",
      "/home/yiting/Documents/Analysis/2024-11-22/anipose/angles/2024-11-22_11-05-01_angles.csv\n",
      "/home/yiting/Documents/Analysis/2024-11-22/anipose/angles/2024-11-22_11-05-16_angles.csv\n",
      "/home/yiting/Documents/Analysis/2024-11-22/anipose/angles/2024-11-22_11-05-29_angles.csv\n",
      "/home/yiting/Documents/Analysis/2024-11-22/anipose/angles/2024-11-22_11-05-43_angles.csv\n",
      "/home/yiting/Documents/Analysis/2024-11-22/anipose/angles/2024-11-22_11-05-55_angles.csv\n",
      "/home/yiting/Documents/Analysis/2024-11-22/anipose/angles/2024-11-22_11-06-07_angles.csv\n",
      "/home/yiting/Documents/Analysis/2024-11-22/anipose/angles/2024-11-22_11-06-21_angles.csv\n",
      "/home/yiting/Documents/Analysis/2024-11-22/anipose/angles/2024-11-22_11-06-37_angles.csv\n",
      "/home/yiting/Documents/Analysis/2024-11-22/anipose/angles/2024-11-22_11-06-49_angles.csv\n",
      "/home/yiting/Documents/Analysis/2024-11-22/anipose/angles/2024-11-22_11-07-03_angles.csv\n",
      "/home/yiting/Documents/Analysis/2024-11-22/anipose/angles/2024-11-22_11-07-16_angles.csv\n",
      "/home/yiting/Documents/Analysis/2024-11-22/anipose/angles/2024-11-22_11-07-30_angles.csv\n",
      "/home/yiting/Documents/Analysis/2024-11-22/anipose/angles/2024-11-22_11-07-43_angles.csv\n",
      "/home/yiting/Documents/Analysis/2024-11-22/anipose/angles/2024-11-22_11-07-55_angles.csv\n",
      "/home/yiting/Documents/Analysis/2024-11-22/anipose/angles/2024-11-22_11-08-07_angles.csv\n",
      "/home/yiting/Documents/Analysis/2024-11-22/anipose/angles/2024-11-22_11-08-20_angles.csv\n",
      "/home/yiting/Documents/Analysis/2024-11-22/anipose/angles/2024-11-22_11-08-33_angles.csv\n",
      "/home/yiting/Documents/Analysis/2024-11-22/anipose/angles/2024-11-22_11-08-46_angles.csv\n",
      "/home/yiting/Documents/Analysis/2024-11-22/anipose/angles/2024-11-22_11-08-59_angles.csv\n",
      "/home/yiting/Documents/Analysis/2024-11-22/anipose/angles/2024-11-22_11-09-13_angles.csv\n",
      "/home/yiting/Documents/Analysis/2024-11-22/anipose/angles/2024-11-22_11-09-27_angles.csv\n",
      "/home/yiting/Documents/Analysis/2024-11-22/anipose/angles/2024-11-22_11-09-41_angles.csv\n",
      "/home/yiting/Documents/Analysis/2024-11-22/anipose/angles/2024-11-22_11-09-54_angles.csv\n",
      "/home/yiting/Documents/Analysis/2024-11-22/anipose/angles/2024-11-22_11-10-06_angles.csv\n",
      "/home/yiting/Documents/Analysis/2024-11-22/anipose/angles/2024-11-22_11-10-20_angles.csv\n",
      "/home/yiting/Documents/Analysis/2024-11-22/anipose/angles/2024-11-22_11-10-32_angles.csv\n",
      "/home/yiting/Documents/Analysis/2024-11-22/anipose/angles/2024-11-22_11-10-46_angles.csv\n",
      "/home/yiting/Documents/Analysis/2024-11-22/anipose/angles/2024-11-22_11-11-00_angles.csv\n",
      "/home/yiting/Documents/Analysis/2024-11-22/anipose/angles/2024-11-22_11-11-13_angles.csv\n",
      "/home/yiting/Documents/Analysis/2024-11-22/anipose/angles/2024-11-22_11-11-27_angles.csv\n",
      "/home/yiting/Documents/Analysis/2024-11-22/anipose/angles/2024-11-22_11-11-40_angles.csv\n",
      "/home/yiting/Documents/Analysis/2024-11-22/anipose/angles/2024-11-22_11-11-52_angles.csv\n",
      "/home/yiting/Documents/Analysis/2024-11-22/anipose/angles/2024-11-22_11-12-04_angles.csv\n",
      "/home/yiting/Documents/Analysis/2024-11-22/anipose/angles/2024-11-22_11-12-17_angles.csv\n",
      "/home/yiting/Documents/Analysis/2024-11-22/anipose/angles/2024-11-22_11-12-30_angles.csv\n",
      "/home/yiting/Documents/Analysis/2024-11-22/anipose/angles/2024-11-22_11-12-44_angles.csv\n",
      "/home/yiting/Documents/Analysis/2024-11-22/anipose/angles/2024-11-22_11-12-56_angles.csv\n",
      "/home/yiting/Documents/Analysis/2024-11-22/anipose/angles/2024-11-22_11-13-08_angles.csv\n",
      "/home/yiting/Documents/Analysis/2024-11-22/anipose/angles/2024-11-22_11-13-19_angles.csv\n",
      "/home/yiting/Documents/Analysis/2024-11-22/anipose/angles/2024-11-22_11-13-30_angles.csv\n",
      "/home/yiting/Documents/Analysis/2024-11-22/anipose/angles/2024-11-22_11-13-41_angles.csv\n",
      "/home/yiting/Documents/Analysis/2024-11-22/anipose/angles/2024-11-22_11-13-52_angles.csv\n",
      "/home/yiting/Documents/Analysis/2024-11-22/anipose/angles/2024-11-22_11-14-04_angles.csv\n",
      "/home/yiting/Documents/Analysis/2024-11-22/anipose/angles/2024-11-22_11-18-36_angles.csv\n",
      "/home/yiting/Documents/Analysis/2024-11-22/anipose/angles/2024-11-22_11-18-48_angles.csv\n",
      "/home/yiting/Documents/Analysis/2024-11-22/anipose/angles/2024-11-22_11-19-01_angles.csv\n",
      "/home/yiting/Documents/Analysis/2024-11-22/anipose/angles/2024-11-22_11-19-14_angles.csv\n",
      "/home/yiting/Documents/Analysis/2024-11-22/anipose/angles/2024-11-22_11-19-28_angles.csv\n",
      "/home/yiting/Documents/Analysis/2024-11-22/anipose/angles/2024-11-22_11-19-41_angles.csv\n",
      "/home/yiting/Documents/Analysis/2024-11-22/anipose/angles/2024-11-22_11-19-54_angles.csv\n",
      "/home/yiting/Documents/Analysis/2024-11-22/anipose/angles/2024-11-22_11-20-08_angles.csv\n",
      "/home/yiting/Documents/Analysis/2024-11-22/anipose/angles/2024-11-22_11-20-22_angles.csv\n",
      "/home/yiting/Documents/Analysis/2024-11-22/anipose/angles/2024-11-22_11-20-35_angles.csv\n",
      "/home/yiting/Documents/Analysis/2024-11-22/anipose/angles/2024-11-22_11-20-47_angles.csv\n",
      "/home/yiting/Documents/Analysis/2024-11-22/anipose/angles/2024-11-22_11-20-59_angles.csv\n",
      "/home/yiting/Documents/Analysis/2024-11-22/anipose/angles/2024-11-22_11-21-12_angles.csv\n",
      "/home/yiting/Documents/Analysis/2024-11-22/anipose/angles/2024-11-22_11-21-24_angles.csv\n",
      "/home/yiting/Documents/Analysis/2024-11-22/anipose/angles/2024-11-22_11-21-37_angles.csv\n",
      "/home/yiting/Documents/Analysis/2024-11-22/anipose/angles/2024-11-22_11-21-51_angles.csv\n",
      "/home/yiting/Documents/Analysis/2024-11-22/anipose/angles/2024-11-22_11-22-06_angles.csv\n",
      "/home/yiting/Documents/Analysis/2024-11-22/anipose/angles/2024-11-22_11-22-19_angles.csv\n",
      "/home/yiting/Documents/Analysis/2024-11-22/anipose/angles/2024-11-22_11-22-31_angles.csv\n",
      "/home/yiting/Documents/Analysis/2024-11-22/anipose/angles/2024-11-22_11-22-44_angles.csv\n",
      "/home/yiting/Documents/Analysis/2024-11-22/anipose/angles/2024-11-22_11-22-59_angles.csv\n",
      "/home/yiting/Documents/Analysis/2024-11-22/anipose/angles/2024-11-22_11-23-14_angles.csv\n",
      "/home/yiting/Documents/Analysis/2024-11-22/anipose/angles/2024-11-22_11-23-28_angles.csv\n",
      "/home/yiting/Documents/Analysis/2024-11-22/anipose/angles/2024-11-22_11-23-43_angles.csv\n",
      "/home/yiting/Documents/Analysis/2024-11-22/anipose/angles/2024-11-22_11-23-56_angles.csv\n",
      "/home/yiting/Documents/Analysis/2024-11-22/anipose/angles/2024-11-22_11-24-10_angles.csv\n",
      "/home/yiting/Documents/Analysis/2024-11-22/anipose/angles/2024-11-22_11-24-23_angles.csv\n",
      "/home/yiting/Documents/Analysis/2024-11-22/anipose/angles/2024-11-22_11-24-36_angles.csv\n",
      "/home/yiting/Documents/Analysis/2024-11-22/anipose/angles/2024-11-22_11-24-47_angles.csv\n",
      "/home/yiting/Documents/Analysis/2024-11-22/anipose/angles/2024-11-22_11-25-01_angles.csv\n",
      "/home/yiting/Documents/Analysis/2024-11-22/anipose/angles/2024-11-22_11-25-15_angles.csv\n",
      "/home/yiting/Documents/Analysis/2024-11-22/anipose/angles/2024-11-22_11-25-29_angles.csv\n",
      "/home/yiting/Documents/Analysis/2024-11-22/anipose/angles/2024-11-22_11-25-45_angles.csv\n",
      "/home/yiting/Documents/Analysis/2024-11-22/anipose/angles/2024-11-22_11-25-56_angles.csv\n",
      "/home/yiting/Documents/Analysis/2024-11-22/anipose/angles/2024-11-22_11-26-09_angles.csv\n",
      "/home/yiting/Documents/Analysis/2024-11-22/anipose/angles/2024-11-22_11-26-22_angles.csv\n",
      "/home/yiting/Documents/Analysis/2024-11-22/anipose/angles/2024-11-22_11-26-36_angles.csv\n",
      "/home/yiting/Documents/Analysis/2024-11-22/anipose/angles/2024-11-22_11-26-51_angles.csv\n",
      "/home/yiting/Documents/Analysis/2024-11-22/anipose/angles/2024-11-22_11-27-06_angles.csv\n",
      "/home/yiting/Documents/Analysis/2024-11-22/anipose/angles/2024-11-22_11-27-21_angles.csv\n",
      "/home/yiting/Documents/Analysis/2024-11-22/anipose/angles/2024-11-22_11-27-33_angles.csv\n",
      "/home/yiting/Documents/Analysis/2024-11-22/anipose/angles/2024-11-22_11-27-46_angles.csv\n",
      "/home/yiting/Documents/Analysis/2024-11-22/anipose/angles/2024-11-22_11-27-58_angles.csv\n",
      "/home/yiting/Documents/Analysis/2024-11-22/anipose/angles/2024-11-22_11-28-12_angles.csv\n",
      "/home/yiting/Documents/Analysis/2024-11-22/anipose/angles/2024-11-22_11-28-26_angles.csv\n",
      "/home/yiting/Documents/Analysis/2024-11-22/anipose/angles/2024-11-22_11-28-40_angles.csv\n",
      "/home/yiting/Documents/Analysis/2024-11-22/anipose/angles/2024-11-22_11-28-54_angles.csv\n",
      "/home/yiting/Documents/Analysis/2024-11-22/anipose/angles/2024-11-22_11-29-07_angles.csv\n",
      "/home/yiting/Documents/Analysis/2024-11-22/anipose/angles/2024-11-22_11-29-20_angles.csv\n",
      "/home/yiting/Documents/Analysis/2024-11-22/anipose/angles/2024-11-22_11-29-34_angles.csv\n",
      "/home/yiting/Documents/Analysis/2024-11-22/anipose/angles/2024-11-22_11-29-47_angles.csv\n",
      "/home/yiting/Documents/Analysis/2024-11-22/anipose/angles/2024-11-22_11-29-58_angles.csv\n",
      "/home/yiting/Documents/Analysis/2024-11-22/anipose/angles/2024-11-22_11-30-12_angles.csv\n",
      "/home/yiting/Documents/Analysis/2024-11-22/anipose/angles/2024-11-22_11-30-27_angles.csv\n",
      "/home/yiting/Documents/Analysis/2024-11-22/anipose/angles/2024-11-22_11-30-41_angles.csv\n",
      "/home/yiting/Documents/Analysis/2024-11-22/anipose/angles/2024-11-22_11-30-54_angles.csv\n",
      "/home/yiting/Documents/Analysis/2024-11-22/anipose/angles/2024-11-22_11-31-09_angles.csv\n",
      "/home/yiting/Documents/Analysis/2024-11-22/anipose/angles/2024-11-22_11-31-23_angles.csv\n",
      "/home/yiting/Documents/Analysis/2024-11-22/anipose/angles/2024-11-22_11-31-35_angles.csv\n",
      "/home/yiting/Documents/Analysis/2024-11-22/anipose/angles/2024-11-22_11-31-48_angles.csv\n",
      "/home/yiting/Documents/Analysis/2024-11-22/anipose/angles/2024-11-22_11-32-02_angles.csv\n",
      "/home/yiting/Documents/Analysis/2024-11-22/anipose/angles/2024-11-22_11-32-15_angles.csv\n",
      "/home/yiting/Documents/Analysis/2024-11-22/anipose/angles/2024-11-22_11-32-30_angles.csv\n",
      "/home/yiting/Documents/Analysis/2024-11-22/anipose/angles/2024-11-22_11-32-44_angles.csv\n",
      "/home/yiting/Documents/Analysis/2024-11-22/anipose/angles/2024-11-22_11-32-57_angles.csv\n",
      "/home/yiting/Documents/Analysis/2024-11-22/anipose/angles/2024-11-22_11-33-09_angles.csv\n",
      "/home/yiting/Documents/Analysis/2024-11-22/anipose/angles/2024-11-22_11-33-21_angles.csv\n",
      "/home/yiting/Documents/Analysis/2024-11-22/anipose/angles/2024-11-22_11-33-33_angles.csv\n",
      "/home/yiting/Documents/Analysis/2024-11-22/anipose/angles/2024-11-22_11-33-44_angles.csv\n",
      "/home/yiting/Documents/Analysis/2024-11-22/anipose/angles/2024-11-22_11-33-54_angles.csv\n",
      "/home/yiting/Documents/Analysis/2024-11-22/anipose/angles/2024-11-22_11-34-05_angles.csv\n",
      "/home/yiting/Documents/Analysis/2024-11-22/anipose/angles/2024-11-22_11-35-07_angles.csv\n",
      "/home/yiting/Documents/Analysis/2024-11-22/anipose/angles/2024-11-22_11-35-18_angles.csv\n",
      "/home/yiting/Documents/Analysis/2024-11-22/anipose/angles/2024-11-22_11-35-29_angles.csv\n",
      "/home/yiting/Documents/Analysis/2024-11-22/anipose/angles/2024-11-22_11-44-48_angles.csv\n",
      "/home/yiting/Documents/Analysis/2024-11-22/anipose/angles/2024-11-22_11-44-58_angles.csv\n",
      "/home/yiting/Documents/Analysis/2024-11-22/anipose/angles/2024-11-22_11-45-10_angles.csv\n",
      "/home/yiting/Documents/Analysis/2024-11-22/anipose/angles/2024-11-22_11-45-21_angles.csv\n",
      "/home/yiting/Documents/Analysis/2024-11-22/anipose/angles/2024-11-22_11-45-32_angles.csv\n"
     ]
    }
   ],
   "source": [
    "if config['filter']['enabled']:\n",
    "    ap_2d_dir = os.path.join(ap_dir, \"pose_2d_filter\")\n",
    "trials = sorted(os.listdir(ap_2d_dir))\n",
    "for t in trials:\n",
    "    angles_process(config, session_name, t)"
   ]
  },
  {
   "cell_type": "markdown",
   "metadata": {},
   "source": [
    "### Visualization"
   ]
  },
  {
   "cell_type": "code",
   "execution_count": null,
   "metadata": {},
   "outputs": [],
   "source": [
    "# Create labeled 3d videos\n",
    "ap_2d_dir = os.path.join(ap_dir, \"pose_2d\")\n",
    "trials = os.listdir(ap_2d_dir)\n",
    "for t in trials:\n",
    "    v3d_process(config, session_name, t, filtered=True)"
   ]
  },
  {
   "cell_type": "code",
   "execution_count": null,
   "metadata": {},
   "outputs": [],
   "source": [
    "# Create combined videos that have reprojected labeled 2d videos, labeled 3d videos, and angle traces across time. \n",
    "ap_2d_dir = os.path.join(ap_dir, \"pose_2d\")\n",
    "trials = os.listdir(ap_2d_dir)\n",
    "for t in trials:\n",
    "    v2d3d_process(config, session_name, t)"
   ]
  },
  {
   "cell_type": "code",
   "execution_count": null,
   "metadata": {},
   "outputs": [],
   "source": [
    "# Create combined videos that have a 2d video from a single camera view and selected angles\n",
    "ap_2d_dir = os.path.join(ap_dir, \"pose_2d\")\n",
    "trials = sorted(os.listdir(ap_2d_dir))\n",
    "camera_view = 'camTL'\n",
    "feature_columns = ['index_mcp', 'middle_mcp', 'ring_mcp', 'ring_mcp']\n",
    "# feature_columns = ['index_dip', 'index_pip', 'index_mcp']\n",
    "# feature_columns = ['index_pip', 'middle_pip', 'ring_pip', 'ring_pip']\n",
    "# feature_columns = ['index_dip', 'middle_dip', 'ring_dip', 'ring_dip']\n",
    "# feature_columns = ['middle_dip', 'middle_pip', 'middle_mcp']\n",
    "# feature_columns = ['thumb_ip', 'thumb_mcp']\n",
    "\n",
    "if len(trials) > 0:\n",
    "    os.makedirs(os.path.join(analysis_dir, session_name, 'anipose', 'videos_v2d_angles'), exist_ok=True)\n",
    "for t in trials:\n",
    "    video_path = os.path.join(data_dir, session_name, 'cameras', t, t + '_' + camera_view + '.mp4')\n",
    "    traces_csv = os.path.join(analysis_dir, session_name, 'anipose', 'angles', t + '_angles.csv')\n",
    "    output_path = os.path.join(analysis_dir, session_name, 'anipose', 'videos_v2d_angles', t + '_' + camera_view + '_mcp.mp4')\n",
    "    if os.path.exists(output_path):\n",
    "        continue\n",
    "    creat_combined_video(video_path, traces_csv, output_path, feature_columns)"
   ]
  }
 ],
 "metadata": {
  "kernelspec": {
   "display_name": "anipose",
   "language": "python",
   "name": "python3"
  },
  "language_info": {
   "codemirror_mode": {
    "name": "ipython",
    "version": 3
   },
   "file_extension": ".py",
   "mimetype": "text/x-python",
   "name": "python",
   "nbconvert_exporter": "python",
   "pygments_lexer": "ipython3",
   "version": "3.7.12"
  }
 },
 "nbformat": 4,
 "nbformat_minor": 2
}
