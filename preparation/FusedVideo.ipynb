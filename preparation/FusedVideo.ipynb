{
 "cells": [
  {
   "cell_type": "code",
   "execution_count": 1,
   "metadata": {},
   "outputs": [],
   "source": [
    "# Fuse Videos\n",
    "import cv2\n",
    "import os\n",
    "import numpy as np"
   ]
  },
  {
   "cell_type": "code",
   "execution_count": 2,
   "metadata": {},
   "outputs": [],
   "source": [
    "# Get the video folder of a trial\n",
    "video_path_trial = r'/home/yiting/Documents/Data/Videos/2024-04-15/camera_annotation/2024-04-15_10-36-24_969748'\n",
    "cameras = [\"camTL\", \"camTo\", \"camTR\", \"camBL\", \"camBo\", \"camBR\"]\n",
    "\n",
    "# Get the frame size and total frame number\n",
    "vidcap = cv2.VideoCapture(os.path.join(video_path_trial, cameras[0] + '.mp4'))\n",
    "success, frame = vidcap.read()\n",
    "height, width, layers = frame.shape\n",
    "total_frame_number = int(vidcap.get(cv2.CAP_PROP_FRAME_COUNT))\n",
    "frame_rate = int(vidcap.get(cv2.CAP_PROP_FPS))\n"
   ]
  },
  {
   "cell_type": "code",
   "execution_count": 3,
   "metadata": {},
   "outputs": [],
   "source": [
    "downsample = 1\n",
    "resize_factor = 10\n",
    "new_width = int(width/resize_factor)\n",
    "new_height = int(height/resize_factor)\n",
    "# Initiate a video for combined videos\n",
    "video_save_path = r'/home/yiting/Documents/Data/Videos/FusedVideos/2024-04-15_10-36-24_969748_resized10_downsampled2.mp4'\n",
    "video = cv2.VideoWriter(video_save_path,  \n",
    "                fourcc = cv2.VideoWriter_fourcc(*'mp4v'), \n",
    "                fps=frame_rate/downsample,                                       \n",
    "                frameSize=(new_width*3, new_height*2)) \n",
    "\n",
    "for idx in range(total_frame_number):\n",
    "    if idx % downsample == 0:\n",
    "        frames = dict()\n",
    "        for c in cameras:\n",
    "            vidcap = cv2.VideoCapture(os.path.join(video_path_trial, c + '.mp4'))\n",
    "            vidcap.set(cv2.CAP_PROP_POS_FRAMES, idx) # Set the frame to get\n",
    "            success, frame = vidcap.read() \n",
    "            frames[c] = cv2.resize(frame, (new_height, new_width))\n",
    "\n",
    "        # Generage top-row frame by concatenating camTL, camTo, camTR horizontally\n",
    "        combined_frames_top = np.concatenate((frames[\"camTL\"], frames[\"camTo\"], frames[\"camTR\"]), axis=1)\n",
    "\n",
    "        # Generate bottom-row image by concatenating camBL, camBo, camBR horizontally\n",
    "        combined_frames_bottom = np.concatenate((frames[\"camBL\"], frames[\"camBo\"], frames[\"camBR\"]), axis=1)\n",
    "\n",
    "        # Concatenate top-row and bottom-row images vertically\n",
    "        combined_frames = np.concatenate((combined_frames_top, combined_frames_bottom), axis=0)\n",
    "\n",
    "        # Write the combined image to the video\n",
    "        video.write(combined_frames)\n",
    "    \n",
    "cv2.destroyAllWindows()    \n",
    "video.release()"
   ]
  },
  {
   "cell_type": "code",
   "execution_count": null,
   "metadata": {},
   "outputs": [],
   "source": []
  }
 ],
 "metadata": {
  "kernelspec": {
   "display_name": "litpose",
   "language": "python",
   "name": "python3"
  },
  "language_info": {
   "codemirror_mode": {
    "name": "ipython",
    "version": 3
   },
   "file_extension": ".py",
   "mimetype": "text/x-python",
   "name": "python",
   "nbconvert_exporter": "python",
   "pygments_lexer": "ipython3",
   "version": "3.10.14"
  }
 },
 "nbformat": 4,
 "nbformat_minor": 2
}
