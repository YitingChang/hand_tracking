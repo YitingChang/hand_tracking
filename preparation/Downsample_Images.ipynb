{
 "cells": [
  {
   "cell_type": "code",
   "execution_count": 1,
   "id": "0e5a373b",
   "metadata": {},
   "outputs": [],
   "source": [
    "import os\n",
    "import shutil\n",
    "import cv2"
   ]
  },
  {
   "cell_type": "code",
   "execution_count": null,
   "id": "68f731f2",
   "metadata": {},
   "outputs": [],
   "source": [
    "# Downsample images"
   ]
  },
  {
   "cell_type": "code",
   "execution_count": 2,
   "id": "65c8afe1",
   "metadata": {},
   "outputs": [],
   "source": [
    "downsample = 300\n",
    "session_folder = r'E:\\Hand_tracking\\Calibration\\2023-12-13_18-15-30_620762'\n",
    "downsample_folder = r'E:\\Hand_tracking\\Calibration\\2023-12-13_downsampled_300'\n",
    "cameras = os.listdir(session_folder)\n",
    "for c in cameras:\n",
    "    image_folder = os.path.join(session_folder, c) # folder containing images\n",
    "    images = sorted(os.listdir(image_folder))\n",
    "    os.makedirs(os.path.join(downsample_folder, c), exist_ok = True)\n",
    "    for img in images:\n",
    "        if int(img[7:13]) % downsample == 0:\n",
    "            src = os.path.join(image_folder, img)\n",
    "            dst = os.path.join(downsample_folder, c, img)\n",
    "            shutil.copy(src, dst)\n",
    " "
   ]
  },
  {
   "cell_type": "code",
   "execution_count": null,
   "id": "ea62945b",
   "metadata": {},
   "outputs": [],
   "source": [
    "# Downsample images from videos\n"
   ]
  },
  {
   "cell_type": "code",
   "execution_count": 4,
   "id": "22da1fe0",
   "metadata": {},
   "outputs": [],
   "source": [
    "downsample = 30\n",
    "session_folder = r'E:\\Hand_tracking\\Calibration\\Camera_calibration_231213\\Intrinsics'\n",
    "downsample_folder = r'E:\\Hand_tracking\\Calibration\\2023-12-13_downsampled_300\\intrinsic'\n",
    "cameras = os.listdir(session_folder)\n",
    "for c in cameras:\n",
    "    video_path = os.path.join(session_folder, c)\n",
    "    vidcap = cv2.VideoCapture(video_path)\n",
    "    success, frame = vidcap.read()\n",
    "    os.makedirs(os.path.join(downsample_folder, c[:5]), exist_ok = True)\n",
    "    total_frame_number = int(vidcap.get(cv2.CAP_PROP_FRAME_COUNT))\n",
    "    for idx in range(total_frame_number):\n",
    "        if idx % downsample == 0:\n",
    "            image_path = os.path.join(downsample_folder, c[:5], c[:5] + '_image' + str(idx) + '.jpg' )\n",
    "            vidcap.set(cv2.CAP_PROP_POS_FRAMES, idx) # Set the frame to get\n",
    "            ref, frame = vidcap.read()\n",
    "            cv2.imwrite(image_path, frame)\n",
    "        \n"
   ]
  },
  {
   "cell_type": "code",
   "execution_count": null,
   "id": "9e062384",
   "metadata": {},
   "outputs": [],
   "source": []
  }
 ],
 "metadata": {
  "kernelspec": {
   "display_name": "Python [conda env:ncams] *",
   "language": "python",
   "name": "conda-env-ncams-py"
  },
  "language_info": {
   "codemirror_mode": {
    "name": "ipython",
    "version": 3
   },
   "file_extension": ".py",
   "mimetype": "text/x-python",
   "name": "python",
   "nbconvert_exporter": "python",
   "pygments_lexer": "ipython3",
   "version": "3.8.17"
  }
 },
 "nbformat": 4,
 "nbformat_minor": 5
}
