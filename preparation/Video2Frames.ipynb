{
 "cells": [
  {
   "cell_type": "code",
   "execution_count": null,
   "id": "2581b5b9",
   "metadata": {},
   "outputs": [],
   "source": [
    "# Extract frames from a video for camera calibration\n"
   ]
  },
  {
   "cell_type": "code",
   "execution_count": 1,
   "id": "524e2f74",
   "metadata": {},
   "outputs": [],
   "source": [
    "import os\n",
    "import shutil\n",
    "import cv2"
   ]
  },
  {
   "cell_type": "code",
   "execution_count": 2,
   "id": "7a006dbd",
   "metadata": {},
   "outputs": [],
   "source": [
    "downsample = 1\n",
    "# session_folder = r'E:\\Hand_tracking\\Recordings\\Videos\\2024-03-27_charuco_test'\n",
    "# downsample_folder = r'E:\\Hand_tracking\\NCams_projects\\24.03.27_calibration\\intrinsic'\n",
    "session_folder = r'/home/yiting/Documents/Data/Videos/2024-04-15/camera_annotation/2024-04-15_10-36-24_969748'\n",
    "downsample_folder = r'/home/yiting/Documents/Data/Images/2024-04-15_10-36-24_969748'\n",
    "cameras = os.listdir(session_folder)\n",
    "for c in cameras:\n",
    "    video_path = os.path.join(session_folder, c)\n",
    "    vidcap = cv2.VideoCapture(video_path)\n",
    "    success, frame = vidcap.read()\n",
    "    os.makedirs(os.path.join(downsample_folder, c[:5]), exist_ok = True)\n",
    "    total_frame_number = int(vidcap.get(cv2.CAP_PROP_FRAME_COUNT))\n",
    "    for idx in range(total_frame_number):\n",
    "        if idx % downsample == 0:\n",
    "            image_path = os.path.join(downsample_folder, c[:5], 'image' + str(idx) + '.jpg' )\n",
    "            # image_path = os.path.join(downsample_folder, c[:5], c[:5] + '_image' + str(idx) + '.jpg' )\n",
    "            vidcap.set(cv2.CAP_PROP_POS_FRAMES, idx) # Set the frame to get\n",
    "            ref, frame = vidcap.read()\n",
    "            cv2.imwrite(image_path, frame)"
   ]
  },
  {
   "cell_type": "code",
   "execution_count": 2,
   "id": "7686f31f",
   "metadata": {},
   "outputs": [
    {
     "data": {
      "text/plain": [
       "True"
      ]
     },
     "execution_count": 2,
     "metadata": {},
     "output_type": "execute_result"
    }
   ],
   "source": [
    "# Create a thumbnail image for a video\n",
    "video_path = r'/home/yiting/Documents/GitHub/hand_tracking/examples/2024-04-15_10-36-24_969748_resized5.mp4'\n",
    "image_path = r'/home/yiting/Documents/GitHub/hand_tracking/examples/2024-04-15_10-36-24_969748_resized5.jpg'\n",
    "vidcap = cv2.VideoCapture(video_path)\n",
    "vidcap.set(cv2.CAP_PROP_POS_FRAMES, 0) # Set the frame to get\n",
    "ref, frame = vidcap.read()\n",
    "cv2.imwrite(image_path, frame)\n"
   ]
  }
 ],
 "metadata": {
  "kernelspec": {
   "display_name": "litpose",
   "language": "python",
   "name": "python3"
  },
  "language_info": {
   "codemirror_mode": {
    "name": "ipython",
    "version": 3
   },
   "file_extension": ".py",
   "mimetype": "text/x-python",
   "name": "python",
   "nbconvert_exporter": "python",
   "pygments_lexer": "ipython3",
   "version": "3.10.14"
  }
 },
 "nbformat": 4,
 "nbformat_minor": 5
}
