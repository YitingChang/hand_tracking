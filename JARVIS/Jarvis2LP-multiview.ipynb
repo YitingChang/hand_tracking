{
 "cells": [
  {
   "cell_type": "code",
   "execution_count": null,
   "id": "67900b58",
   "metadata": {},
   "outputs": [],
   "source": [
    "# Convet labeled data in JARVIS to the Lightning Pose format for multiple camera views\n",
    "# \n",
    "# Lightening Pose provides a function to convert DLC labeled data to LP labeled data\n",
    "# Reference\n",
    "# https://github.com/danbider/lightning-pose/blob/main/scripts/converters/dlc2lp.py\n",
    "# "
   ]
  },
  {
   "cell_type": "code",
   "execution_count": 11,
   "id": "8c82f8f8",
   "metadata": {},
   "outputs": [],
   "source": [
    "import glob\n",
    "import os\n",
    "import shutil\n",
    "\n",
    "import numpy as np\n",
    "import pandas as pd\n",
    "from PIL import Image"
   ]
  },
  {
   "cell_type": "code",
   "execution_count": 12,
   "id": "5141f6a5",
   "metadata": {},
   "outputs": [],
   "source": [
    "jarvis_dir = r'/home/yiting/Documents/Jarvis_projects/Datasets/annotations/6cam_dataset_231216' # path to the labeled dataset \n",
    "lp_dir = r'/home/yiting/Documents/LP_projects/LP_240719' # path to the lp project\n",
    "\n",
    "# find all labeled data in JARVIS project\n",
    "prefix_year = '2023' # Trial names starts with XXXX year. \n",
    "dirs = [filename for filename in os.listdir(jarvis_dir) if filename.startswith(prefix_year)]\n",
    "dirs.sort()\n",
    "\n",
    "\n",
    "cameras = os.listdir(os.path.join(jarvis_dir, dirs[0]))"
   ]
  },
  {
   "cell_type": "code",
   "execution_count": 8,
   "id": "68aeaf76",
   "metadata": {},
   "outputs": [],
   "source": [
    "for c in cameras:\n",
    "    dfs = []\n",
    "    for d in dirs: # videos for each trial\n",
    "        csv_file = glob.glob(os.path.join(jarvis_dir, d, c, \"annotations.csv\"))[0]\n",
    "\n",
    "        df1 = pd.read_csv(csv_file, on_bad_lines='skip', header = None, index_col=0) \n",
    "        df2 = pd.read_csv(csv_file, skiprows=4, header = None, index_col=0) \n",
    "        last_column = df2.shape[1]\n",
    "        df2 = df2.drop(columns=[last_column],axis='columns')\n",
    "\n",
    "        # Remove entities row\n",
    "        isNotEntities = [x != 'entities' for x in df1.index.values]\n",
    "        df1 = df1.iloc[isNotEntities]\n",
    "        # Find coords row and remove state columns\n",
    "        isCoords = [x == 'coords' for x in df1.index.values]\n",
    "        isXY = [s != 'state' for s in df1.iloc[isCoords].values]\n",
    "        df1 = df1.iloc[:,isXY[0]]\n",
    "        df2 = df2.iloc[:, isXY[0]]\n",
    "\n",
    "        # Replace image file name with its file path\n",
    "        imgs = list(df2.index.values)\n",
    "        # Change .jpg to .png (JARVIS- .jpg, LP/DLC- .png)\n",
    "        im_idx = [i[6:len(i)-4] for i in imgs]\n",
    "        imgs_new =['img' + format(int(i), '04d') + \".png\" for i in im_idx]\n",
    "        trialname_parts = d.split('_')\n",
    "        new_vid_name = trialname_parts[0] + 'T' + trialname_parts[1]\n",
    "        new_col = [f\"labeled-data/{new_vid_name}/{c}/{i}\" for i in imgs_new]\n",
    "        df2.index = new_col\n",
    "\n",
    "        df_tmp = pd.concat([df1,df2])\n",
    "        \n",
    "        df_tmp.to_csv(os.path.join(jarvis_dir,d,c, \"CollectedData.csv\"), header = False)\n",
    "        df = pd.read_csv(os.path.join(jarvis_dir,d,c, \"CollectedData.csv\"), header = [0,1,2], index_col=0)\n",
    "        \n",
    "        dfs.append(df)\n",
    "    df_all = pd.concat(dfs)\n",
    "\n",
    "    os.makedirs(lp_dir, exist_ok=True)\n",
    "\n",
    "    # save concatenated labels for each camera view\n",
    "    df_all.to_csv(os.path.join(lp_dir, c + \".csv\"))"
   ]
  },
  {
   "cell_type": "code",
   "execution_count": 9,
   "id": "3099bfe2",
   "metadata": {},
   "outputs": [],
   "source": [
    "# Copy videos and labeled frames to the LP project folder\n",
    "src_vid_dir = r'/home/yiting/Documents/Data/Videos'\n",
    "os.makedirs(os.path.join(lp_dir,'videos'), exist_ok=True)\n",
    "for c in cameras: # camera view name\n",
    "    for d in dirs: # trial video name\n",
    "        trialname_parts = d.split('_')\n",
    "        new_vid_name = trialname_parts[0] + 'T' + trialname_parts[1]\n",
    "        os.makedirs(os.path.join(lp_dir,\"labeled-data\",new_vid_name, c), exist_ok=True)\n",
    "        # Convert .jpg to .png and copy frames over\n",
    "        imgs = [im for im in os.listdir(os.path.join(jarvis_dir,d,c)) if im.endswith('.jpg')]\n",
    "        for i in imgs:\n",
    "            im = Image.open(os.path.join(jarvis_dir,d,c,i))\n",
    "            im_idx = i[6:len(i)-4] \n",
    "            new_frame_name ='img' + format(int(im_idx), '04d') + \".png\" \n",
    "            im.save(os.path.join(lp_dir,\"labeled-data\",new_vid_name,c, new_frame_name))\n",
    "        # Copy videos over\n",
    "        session = d[0:10]\n",
    "        src = os.path.join(src_vid_dir, session, d, c + '.mp4')\n",
    "        dst = os.path.join(lp_dir, \"videos\", new_vid_name + '_' + c + '.mp4')\n",
    "        shutil.copy(src, dst)\n",
    "\n"
   ]
  },
  {
   "cell_type": "code",
   "execution_count": 10,
   "id": "435b0b4d",
   "metadata": {},
   "outputs": [],
   "source": [
    "# check if image paths are correct\n",
    "for c in cameras:\n",
    "    csv_file = os.path.join(lp_dir, c + \".csv\")\n",
    "    df_all = pd.read_csv(csv_file, header = [0,1,2], index_col=0)\n",
    "    for im in df_all.index:\n",
    "        assert os.path.exists(os.path.join(lp_dir, im))"
   ]
  },
  {
   "cell_type": "code",
   "execution_count": null,
   "id": "9a2d1915",
   "metadata": {},
   "outputs": [],
   "source": []
  }
 ],
 "metadata": {
  "kernelspec": {
   "display_name": "jarvis",
   "language": "python",
   "name": "python3"
  },
  "language_info": {
   "codemirror_mode": {
    "name": "ipython",
    "version": 3
   },
   "file_extension": ".py",
   "mimetype": "text/x-python",
   "name": "python",
   "nbconvert_exporter": "python",
   "pygments_lexer": "ipython3",
   "version": "3.9.18"
  }
 },
 "nbformat": 4,
 "nbformat_minor": 5
}
