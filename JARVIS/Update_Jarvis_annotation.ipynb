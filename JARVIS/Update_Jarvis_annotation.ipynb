{
 "cells": [
  {
   "cell_type": "code",
   "execution_count": null,
   "metadata": {},
   "outputs": [],
   "source": [
    "# Update Jarvis annotation\n",
    "# 1. Change entities\n",
    "# 2. Add keypoints\n",
    "\n",
    "\n"
   ]
  },
  {
   "cell_type": "code",
   "execution_count": 30,
   "metadata": {},
   "outputs": [],
   "source": [
    "import pandas as pd\n",
    "import os\n"
   ]
  },
  {
   "cell_type": "code",
   "execution_count": 40,
   "metadata": {},
   "outputs": [],
   "source": [
    "dataset_dir = r'E:\\Hand_tracking\\Jarvis_projects\\datasets\\annotation\\dataset_250106'\n",
    "new_entities = \"HandObj\"\n",
    "new_kpt = [\"Obj_t2\", \"Obj_l2\", \"Obj_r2\"]\n",
    "rec_sessions = [x for x in os.listdir(dataset_dir) if x.startswith('2024')] \n",
    "cam_names = os.listdir(os.path.join(dataset_dir, rec_sessions[0]))\n"
   ]
  },
  {
   "cell_type": "code",
   "execution_count": 41,
   "metadata": {},
   "outputs": [],
   "source": [
    "def read_jarvis_csv(csv_file):\n",
    "    df1 = pd.read_csv(csv_file, on_bad_lines='skip', header = None, index_col=0) \n",
    "    df2 = pd.read_csv(csv_file, skiprows=4, header = None, index_col=0) \n",
    "    last_column = df2.shape[1]\n",
    "    df2 = df2.drop(columns=[last_column],axis='columns')\n",
    "\n",
    "    df = pd.concat([df1,df2])\n",
    "\n",
    "    return df\n",
    "    "
   ]
  },
  {
   "cell_type": "code",
   "execution_count": 42,
   "metadata": {},
   "outputs": [],
   "source": [
    "# Load data frame for new keypoints\n",
    "csv_file = r\"E:\\Hand_tracking\\Jarvis_projects\\datasets\\annotation\\dataset_250105\\2024-10-24_10-31-35_275531\\camBL\\annotations.csv\"\n",
    "df2 = read_jarvis_csv(csv_file)\n",
    "\n",
    "df3 = df2.iloc[:, 63:72]"
   ]
  },
  {
   "cell_type": "code",
   "execution_count": 45,
   "metadata": {},
   "outputs": [],
   "source": [
    "for s in rec_sessions[4:]:\n",
    "    for c in cam_names:\n",
    "        csv_file = os.path.join(dataset_dir, s, c, \"annotations.csv\")\n",
    "\n",
    "        df1 = read_jarvis_csv(csv_file)\n",
    "\n",
    "        # Change entities name\n",
    "        isEntities = [x == 'entities' for x in df1.index.values]\n",
    "        df1.iloc[isEntities] = new_entities\n",
    "\n",
    "        # Update index of new data frame\n",
    "        df3.index = df1.index\n",
    "        \n",
    "        # Concatenate data frames\n",
    "        df = pd.concat([df1,df3], axis=1)\n",
    "\n",
    "        # Save new file\n",
    "        df.to_csv(csv_file, header=False)\n"
   ]
  }
 ],
 "metadata": {
  "kernelspec": {
   "display_name": "jarvis",
   "language": "python",
   "name": "jarvis"
  },
  "language_info": {
   "codemirror_mode": {
    "name": "ipython",
    "version": 3
   },
   "file_extension": ".py",
   "mimetype": "text/x-python",
   "name": "python",
   "nbconvert_exporter": "python",
   "pygments_lexer": "ipython3",
   "version": "3.9.18"
  }
 },
 "nbformat": 4,
 "nbformat_minor": 2
}
