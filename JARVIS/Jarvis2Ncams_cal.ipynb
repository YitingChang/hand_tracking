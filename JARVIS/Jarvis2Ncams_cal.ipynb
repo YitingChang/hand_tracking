{
 "cells": [
  {
   "cell_type": "code",
   "execution_count": null,
   "metadata": {},
   "outputs": [],
   "source": [
    "# Convert JARVIS calibration to NCams\n"
   ]
  },
  {
   "cell_type": "code",
   "execution_count": 1,
   "metadata": {},
   "outputs": [],
   "source": [
    "import os \n",
    "import glob\n",
    "import cv2"
   ]
  },
  {
   "cell_type": "code",
   "execution_count": 2,
   "metadata": {},
   "outputs": [],
   "source": [
    "videos_cal = r'/home/yiting/Documents/NCams_projects/Calibration/Videos/231213'"
   ]
  },
  {
   "cell_type": "code",
   "execution_count": 14,
   "metadata": {},
   "outputs": [],
   "source": [
    "# intrinsic calibration\n",
    "intrinsic_folder = r'/home/yiting/Documents/NCams_projects/Calibration/231213/intrinsic'\n",
    "videos = os.listdir(os.path.join(videos_cal, 'Intrinsics'))\n",
    "for vid in videos:\n",
    "    camera_name = vid[:5]\n",
    "    os.makedirs(os.path.join(intrinsic_folder, camera_name), exist_ok=True)\n",
    "    video_path = os.path.join(videos_cal, 'Intrinsics', vid)\n",
    "    cap = cv2.VideoCapture(video_path)\n",
    "    length = int(cap.get(cv2.CAP_PROP_FRAME_COUNT))\n",
    "    for idx in range(length):\n",
    "        cap.set(cv2.CAP_PROP_POS_FRAMES, idx)\n",
    "        ret, frame = cap.read()\n",
    "        save_path = os.path.join(intrinsic_folder, camera_name, camera_name + '_image' + str(idx) + '.jpg')\n",
    "        cv2.imwrite(save_path, frame)"
   ]
  },
  {
   "cell_type": "code",
   "execution_count": null,
   "metadata": {},
   "outputs": [],
   "source": [
    "# extrisic calibration\n",
    "extrisic_folder = r'/home/yiting/Documents/NCams_projects/Calibration/231213/extrinsic'\n",
    "video_pairs = os.listdir(os.path.join(videos_cal, 'Extrinsics'))\n",
    "\n",
    "for vid in videos:\n",
    "    camera_name = vid[:5]\n",
    "    os.makedirs(os.path.join(intrinsic_folder, camera_name), exist_ok=True)\n",
    "    video_path = os.path.join(videos_cal, 'Intrinsics', vid)\n",
    "    cap = cv2.VideoCapture(video_path)\n",
    "    length = int(cap.get(cv2.CAP_PROP_FRAME_COUNT))\n",
    "    for idx in range(length):\n",
    "        cap.set(cv2.CAP_PROP_POS_FRAMES, idx)\n",
    "        ret, frame = cap.read()\n",
    "        save_path = os.path.join(intrinsic_folder, camera_name, camera_name + '_image' + str(idx) + '.jpg')\n",
    "        cv2.imwrite(save_path, frame)"
   ]
  }
 ],
 "metadata": {
  "kernelspec": {
   "display_name": "Python 3",
   "language": "python",
   "name": "python3"
  },
  "language_info": {
   "codemirror_mode": {
    "name": "ipython",
    "version": 3
   },
   "file_extension": ".py",
   "mimetype": "text/x-python",
   "name": "python",
   "nbconvert_exporter": "python",
   "pygments_lexer": "ipython3",
   "version": "3.8.18"
  }
 },
 "nbformat": 4,
 "nbformat_minor": 2
}
