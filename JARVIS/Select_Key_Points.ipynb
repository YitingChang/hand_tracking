{
 "cells": [
  {
   "cell_type": "code",
   "execution_count": null,
   "id": "53ad4376",
   "metadata": {},
   "outputs": [],
   "source": [
    "# Select a subset of keypoints for training"
   ]
  },
  {
   "cell_type": "code",
   "execution_count": 1,
   "id": "ed569fac",
   "metadata": {},
   "outputs": [],
   "source": [
    "import os\n",
    "import numpy as np\n",
    "import pandas as pd\n"
   ]
  },
  {
   "cell_type": "code",
   "execution_count": null,
   "id": "5ea21f5a",
   "metadata": {},
   "outputs": [],
   "source": [
    "selected_keypoints = ['Small_Tip', 'Samll_DIP', 'Small_PIP','Ring_Tip', 'Ring_DIP','Ring_PIP',\n",
    "                     'Middle_Tip', 'Middle_DIP', 'Middle_PIP', 'Index_Tip', 'Index_DIP', 'Index_PIP']\n",
    "# correct 'Small_DIP' in the annotation tool"
   ]
  },
  {
   "cell_type": "code",
   "execution_count": null,
   "id": "d2a2cc2d",
   "metadata": {},
   "outputs": [],
   "source": [
    "base_dir = r'E:\\Hand_tracking\\Datasets\\6cam_dataset_231124'\n",
    "save_dir = r'E:\\Hand_tracking\\Datasets\\6cam_dataset_231127'\n",
    "trials = [t for t in os.listdir(base_dir) if t.startswith(\"2023\")]\n",
    "for t in trials:\n",
    "    cameras = os.listdir(os.path.join(base_dir,t)) \n",
    "    for c in cameras:\n",
    "        csv_path = os.path.join(base_dir,t,c,'annotations.csv')\n",
    "        df1 = pd.read_csv(csv_path, on_bad_lines='skip', header = None) \n",
    "        df2 = pd.read_csv(csv_path, skiprows=4, header = None) \n",
    "        df2 = df2.drop(columns=[70],axis='columns')\n",
    "        df = pd.concat([df1,df2],ignore_index=True)\n",
    "        \n",
    "        # Find bodyparts row\n",
    "        isBodyparts = [x == 'bodyparts' for x in df[0]]\n",
    "        df_bodyparts = df[isBodyparts]\n",
    "        # Select bodyparts in selected keypoints\n",
    "        isSelected = [df_bodyparts.iloc[0, index] in selected_keypoints for index in range(df_bodyparts.shape[1])]\n",
    "        df3 = df.iloc[:,isSelected]\n",
    "        new_df = pd.concat([df[0],df3], axis=1,ignore_index=True)\n",
    "        \n",
    "        # Change entities MonkeyHand -> MonkeyFingers\n",
    "        isEntities = [x == 'entities' for x in new_df[0]]\n",
    "        new_entities = np.repeat('MonkeyFingers',36)\n",
    "        new_df.iloc[isEntities,1:] = new_entities\n",
    "        \n",
    "        # Correct \"Small_DIP\" typo\n",
    "        new_bodyparts = np.repeat('Small_DIP',3).reshape([1,3])\n",
    "        new_df.iloc[2, 4:7] = new_bodyparts\n",
    "\n",
    "        # save new csv\n",
    "        new_csv_path = os.path.join(save_dir,t,c,'annotations.csv')\n",
    "        new_df.to_csv(new_csv_path, index=False, header=False)"
   ]
  },
  {
   "cell_type": "code",
   "execution_count": null,
   "id": "f06490d8",
   "metadata": {},
   "outputs": [],
   "source": []
  }
 ],
 "metadata": {
  "kernelspec": {
   "display_name": "jarvis",
   "language": "python",
   "name": "jarvis"
  },
  "language_info": {
   "codemirror_mode": {
    "name": "ipython",
    "version": 3
   },
   "file_extension": ".py",
   "mimetype": "text/x-python",
   "name": "python",
   "nbconvert_exporter": "python",
   "pygments_lexer": "ipython3",
   "version": "3.9.18"
  }
 },
 "nbformat": 4,
 "nbformat_minor": 5
}
