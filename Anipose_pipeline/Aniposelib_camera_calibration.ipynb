{
 "cells": [
  {
   "cell_type": "code",
   "execution_count": null,
   "metadata": {},
   "outputs": [],
   "source": [
    "## Anipose Camera Calibration"
   ]
  },
  {
   "cell_type": "code",
   "execution_count": 1,
   "metadata": {},
   "outputs": [],
   "source": [
    "import numpy as np\n",
    "from aniposelib.boards import CharucoBoard, Checkerboard\n",
    "from aniposelib.cameras import Camera, CameraGroup\n",
    "from aniposelib.utils import load_pose2d_fnames\n",
    "import os"
   ]
  },
  {
   "cell_type": "code",
   "execution_count": 2,
   "metadata": {},
   "outputs": [],
   "source": [
    "calibration_folder = r'/home/yiting/Documents/Anipose_projects/Anipose_5cam_241127/calibration'\n",
    "vidnames = [[os.path.join(calibration_folder,'camBL.mp4')],\n",
    "            [os.path.join(calibration_folder,'camBR.mp4')],\n",
    "            [os.path.join(calibration_folder,'camTL.mp4')],\n",
    "            [os.path.join(calibration_folder,'camTo.mp4')],\n",
    "            [os.path.join(calibration_folder,'camTR.mp4')]\n",
    "]\n",
    "\n",
    "cam_names = ['BL', 'BR', 'TL', 'To', 'TR']\n",
    "\n",
    "n_cams = len(vidnames)\n",
    "\n",
    "# board = Checkerboard(4, 3, square_length=15)\n",
    "board = CharucoBoard(5, 4,\n",
    "                     square_length=15, # here, in mm but any unit works\n",
    "                     marker_length=9,\n",
    "                     marker_bits=6, dict_size=250)\n",
    "\n",
    "\n",
    "# the videos provided are fisheye, so we need the fisheye option\n",
    "cgroup = CameraGroup.from_names(cam_names, fisheye=True)\n"
   ]
  },
  {
   "cell_type": "code",
   "execution_count": null,
   "metadata": {},
   "outputs": [],
   "source": [
    "# calibration_folder = r'/home/yiting/Documents/Anipose_projects/Anipose_5cam_241105/Anipose_241105/2024-11-05_15-09-29/calibration_videos'\n",
    "# vidnames = [[os.path.join(calibration_folder,'vid_cal_camA.mp4')],\n",
    "#             [os.path.join(calibration_folder,'vid_cal_camB.mp4')],\n",
    "#             [os.path.join(calibration_folder,'vid_cal_camC.mp4')],\n",
    "#             [os.path.join(calibration_folder,'vid_cal_camD.mp4')],\n",
    "#             [os.path.join(calibration_folder,'vid_cal_camE.mp4')],\n",
    "#             [os.path.join(calibration_folder,'vid_cal_camF.mp4')]\n",
    "# ]\n",
    "\n",
    "# cam_names = ['A', 'B', 'C', 'D', 'E']\n",
    "\n",
    "# n_cams = len(vidnames)\n",
    "\n",
    "# # board = Checkerboard(4, 3, square_length=15)\n",
    "# board = CharucoBoard(5, 4,\n",
    "#                      square_length=15, # here, in mm but any unit works\n",
    "#                      marker_length=9,\n",
    "#                      marker_bits=6, dict_size=250)\n",
    "\n",
    "\n",
    "# # the videos provided are fisheye, so we need the fisheye option\n",
    "# cgroup = CameraGroup.from_names(cam_names, fisheye=True)"
   ]
  },
  {
   "cell_type": "code",
   "execution_count": 3,
   "metadata": {},
   "outputs": [
    {
     "name": "stdout",
     "output_type": "stream",
     "text": [
      "/home/yiting/Documents/Anipose_projects/Anipose_5cam_241127/calibration/camBL.mp4\n"
     ]
    },
    {
     "name": "stderr",
     "output_type": "stream",
     "text": [
      "100%|████████████████████████████| 2171/2171 [00:12<00:00, 167.60it/s]\n"
     ]
    },
    {
     "name": "stdout",
     "output_type": "stream",
     "text": [
      "247 boards detected\n",
      "/home/yiting/Documents/Anipose_projects/Anipose_5cam_241127/calibration/camBR.mp4\n"
     ]
    },
    {
     "name": "stderr",
     "output_type": "stream",
     "text": [
      "100%|████████████████████████████| 2171/2171 [00:18<00:00, 115.28it/s]\n"
     ]
    },
    {
     "name": "stdout",
     "output_type": "stream",
     "text": [
      "402 boards detected\n",
      "/home/yiting/Documents/Anipose_projects/Anipose_5cam_241127/calibration/camTL.mp4\n"
     ]
    },
    {
     "name": "stderr",
     "output_type": "stream",
     "text": [
      "100%|█████████████████████████████| 2171/2171 [00:36<00:00, 59.90it/s]\n"
     ]
    },
    {
     "name": "stdout",
     "output_type": "stream",
     "text": [
      "849 boards detected\n",
      "/home/yiting/Documents/Anipose_projects/Anipose_5cam_241127/calibration/camTo.mp4\n"
     ]
    },
    {
     "name": "stderr",
     "output_type": "stream",
     "text": [
      "100%|█████████████████████████████| 2171/2171 [00:47<00:00, 45.82it/s]\n"
     ]
    },
    {
     "name": "stdout",
     "output_type": "stream",
     "text": [
      "1188 boards detected\n",
      "/home/yiting/Documents/Anipose_projects/Anipose_5cam_241127/calibration/camTR.mp4\n"
     ]
    },
    {
     "name": "stderr",
     "output_type": "stream",
     "text": [
      "100%|█████████████████████████████| 2171/2171 [00:31<00:00, 69.85it/s]\n"
     ]
    },
    {
     "name": "stdout",
     "output_type": "stream",
     "text": [
      "1045 boards detected\n",
      "[{'name': 'BL', 'size': [1200, 1200], 'matrix': [[3256.921679271345, 0.0, 599.5], [0.0, 3256.921679271345, 599.5], [0.0, 0.0, 1.0]], 'distortions': [0.0, 0.0, 0.0, 0.0], 'rotation': [0.0, 0.0, 0.0], 'translation': [0.0, 0.0, 0.0], 'fisheye': True}, {'name': 'BR', 'size': [1200, 1200], 'matrix': [[3113.947606224652, 0.0, 599.5], [0.0, 3113.947606224652, 599.5], [0.0, 0.0, 1.0]], 'distortions': [0.0, 0.0, 0.0, 0.0], 'rotation': [0.0, 0.0, 0.0], 'translation': [0.0, 0.0, 0.0], 'fisheye': True}, {'name': 'TL', 'size': [1200, 1200], 'matrix': [[3346.8558335528514, 0.0, 599.5], [0.0, 3346.8558335528514, 599.5], [0.0, 0.0, 1.0]], 'distortions': [0.0, 0.0, 0.0, 0.0], 'rotation': [0.0, 0.0, 0.0], 'translation': [0.0, 0.0, 0.0], 'fisheye': True}, {'name': 'To', 'size': [1200, 1200], 'matrix': [[6517.659477497387, 0.0, 599.5], [0.0, 6517.659477497387, 599.5], [0.0, 0.0, 1.0]], 'distortions': [0.0, 0.0, 0.0, 0.0], 'rotation': [0.0, 0.0, 0.0], 'translation': [0.0, 0.0, 0.0], 'fisheye': True}, {'name': 'TR', 'size': [1200, 1200], 'matrix': [[7096.681961275299, 0.0, 599.5], [0.0, 7096.681961275299, 599.5], [0.0, 0.0, 1.0]], 'distortions': [0.0, 0.0, 0.0, 0.0], 'rotation': [0.0, 0.0, 0.0], 'translation': [0.0, 0.0, 0.0], 'fisheye': True}]\n",
      "defaultdict(<class 'int'>,\n",
      "            {('BL', 'TL'): 196,\n",
      "             ('BL', 'To'): 5,\n",
      "             ('BR', 'TR'): 194,\n",
      "             ('BR', 'To'): 10,\n",
      "             ('TL', 'BL'): 196,\n",
      "             ('TL', 'TR'): 93,\n",
      "             ('TL', 'To'): 487,\n",
      "             ('TR', 'BR'): 194,\n",
      "             ('TR', 'TL'): 93,\n",
      "             ('TR', 'To'): 657,\n",
      "             ('To', 'BL'): 5,\n",
      "             ('To', 'BR'): 10,\n",
      "             ('To', 'TL'): 487,\n",
      "             ('To', 'TR'): 657})\n"
     ]
    },
    {
     "name": "stderr",
     "output_type": "stream",
     "text": [
      "OMP: Info #276: omp_set_nested routine deprecated, please use omp_set_max_active_levels instead.\n"
     ]
    },
    {
     "name": "stdout",
     "output_type": "stream",
     "text": [
      "error:  0.6703402707316435\n",
      "n_samples: 200\n",
      "{(0, 2): (1000, array([0.09200683, 0.60228093])),\n",
      " (0, 3): (46, array([1.97321386, 3.97190468])),\n",
      " (1, 3): (110, array([10.79698081, 12.23074235])),\n",
      " (1, 4): (1000, array([0.09766584, 0.82248733])),\n",
      " (2, 3): (1069, array([7.70422142, 8.291904  ])),\n",
      " (2, 4): (1023, array([11.8911835 , 13.45029842])),\n",
      " (3, 4): (1133, array([12.42226051, 14.18493538]))}\n",
      "error: 0.69, mu: 14.2, ratio: 1.000\n",
      "   Iteration     Total nfev        Cost      Cost reduction    Step norm     Optimality   \n",
      "       0              1         1.4173e+05                                    2.36e+07    \n",
      "       1              2         4.6049e+02      1.41e+05       9.48e+02       1.94e+05    \n",
      "       2              3         4.2457e+02      3.59e+01       1.03e+02       7.99e+02    \n",
      "       3              4         4.2452e+02      4.38e-02       8.63e+00       6.57e+02    \n",
      "       4              5         4.2452e+02      3.28e-03       1.35e+00       1.65e+02    \n",
      "`ftol` termination condition is satisfied.\n",
      "Function evaluations 5, initial cost 1.4173e+05, final cost 4.2452e+02, first-order optimality 1.65e+02.\n",
      "{(0, 2): (1000, array([0.02143802, 0.12985763])),\n",
      " (0, 3): (46, array([0.10820127, 0.26613985])),\n",
      " (1, 3): (110, array([0.13706553, 0.71603266])),\n",
      " (1, 4): (1000, array([0.06462157, 0.47534174])),\n",
      " (2, 3): (1069, array([0.03742449, 0.09891233])),\n",
      " (2, 4): (1023, array([0.03496631, 0.10013798])),\n",
      " (3, 4): (1133, array([0.0414718 , 0.12402117]))}\n",
      "   Iteration     Total nfev        Cost      Cost reduction    Step norm     Optimality   \n",
      "       0              1         1.1231e+05                                    5.46e+04    \n",
      "       1              2         1.2817e+02      1.12e+05       1.33e+03       7.62e+04    \n",
      "       2              3         9.4854e+01      3.33e+01       8.39e+01       1.22e+03    \n",
      "       3              4         8.8916e+01      5.94e+00       1.56e+01       1.81e+01    \n",
      "       4              5         8.7748e+01      1.17e+00       1.14e+01       2.46e+00    \n",
      "       5              6         8.7695e+01      5.31e-02       2.57e+00       1.28e+00    \n",
      "       6              7         8.7694e+01      5.50e-04       1.35e+00       1.62e+01    \n",
      "`ftol` termination condition is satisfied.\n",
      "Function evaluations 7, initial cost 1.1231e+05, final cost 8.7694e+01, first-order optimality 1.62e+01.\n",
      "{(0, 2): (1000, array([0.01549152, 0.0966054 ])),\n",
      " (0, 3): (46, array([0.1072823 , 0.30574827])),\n",
      " (1, 3): (110, array([0.07583505, 0.70708238])),\n",
      " (1, 4): (1000, array([0.02853373, 0.17800957])),\n",
      " (2, 3): (1069, array([0.03572248, 0.09740411])),\n",
      " (2, 4): (1023, array([0.03240565, 0.08801194])),\n",
      " (3, 4): (1133, array([0.03721892, 0.10788021]))}\n",
      "error:  0.06773511972583351\n"
     ]
    }
   ],
   "source": [
    "# this will take about 15 minutes (mostly due to detection)\n",
    "# it will detect the charuco board in the videos,\n",
    "# then calibrate the cameras based on the detections, using iterative bundle adjustment\n",
    "cgroup.calibrate_videos(vidnames, board)\n",
    "\n",
    "# if you need to save and load\n",
    "# example saving and loading for later\n",
    "cgroup.dump(os.path.join(calibration_folder,'calibration.toml'))"
   ]
  },
  {
   "cell_type": "code",
   "execution_count": null,
   "metadata": {},
   "outputs": [],
   "source": []
  }
 ],
 "metadata": {
  "kernelspec": {
   "display_name": "anipose",
   "language": "python",
   "name": "python3"
  },
  "language_info": {
   "codemirror_mode": {
    "name": "ipython",
    "version": 3
   },
   "file_extension": ".py",
   "mimetype": "text/x-python",
   "name": "python",
   "nbconvert_exporter": "python",
   "pygments_lexer": "ipython3",
   "version": "3.7.12"
  }
 },
 "nbformat": 4,
 "nbformat_minor": 2
}
