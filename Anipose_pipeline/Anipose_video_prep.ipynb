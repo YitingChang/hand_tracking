{
 "cells": [
  {
   "cell_type": "code",
   "execution_count": 4,
   "metadata": {},
   "outputs": [],
   "source": [
    "import os\n",
    "import shutil\n",
    "import cv2"
   ]
  },
  {
   "cell_type": "code",
   "execution_count": null,
   "metadata": {},
   "outputs": [],
   "source": [
    "# Anipose calibration: Video concatenation and downsample\n",
    "downsample = 100\n",
    "anipose_folder = r'/home/yiting/Documents/Anipose_projects/Anipose_6cam_240331/Anipose_240701/calibration_videos_downsampled_100'\n",
    "session_folder = r'/home/yiting/Documents/Data/Videos/2024-03-31_calibration/2024-03-31/cameras'\n",
    "trials = os.listdir(session_folder)\n",
    "cameras = os.listdir(os.path.join(session_folder, trials[0]))\n",
    "# Get frame rate and frame size\n",
    "video_path = os.path.join(session_folder, trials[0], cameras[0])\n",
    "vidcap = cv2.VideoCapture(video_path)\n",
    "frame_rate = vidcap.get(cv2.CAP_PROP_FPS)\n",
    "width  = int(vidcap.get(cv2.CAP_PROP_FRAME_WIDTH))   # float `width`\n",
    "height = int(vidcap.get(cv2.CAP_PROP_FRAME_HEIGHT))  # float `height`\n",
    "\n",
    "for c in cameras:   \n",
    "    video_save_path = os.path.join(anipose_folder, c[:5] + '.mp4')\n",
    "    video = cv2.VideoWriter(video_save_path,  #Provide a file to write the video to\n",
    "                fourcc = cv2.VideoWriter_fourcc(*'mp4v'), # code for mp4\n",
    "                fps=int(frame_rate/downsample),                #How many frames do you want to display per second in your video?\n",
    "                frameSize=(width, height))                #The size of the frames you are writing\n",
    "    for t in trials:\n",
    "        video_path = os.path.join(session_folder, t, c)\n",
    "        vidcap = cv2.VideoCapture(video_path)\n",
    "        total_frame_number = int(vidcap.get(cv2.CAP_PROP_FRAME_COUNT))\n",
    "\n",
    "        for idx in range(total_frame_number):\n",
    "            if idx % downsample == 0:\n",
    "                vidcap.set(cv2.CAP_PROP_POS_FRAMES, idx) # Set the frame to get\n",
    "                ref, frame = vidcap.read()\n",
    "                video.write(frame)\n",
    "\n",
    "    cv2.destroyAllWindows()\n",
    "    video.release()"
   ]
  }
 ],
 "metadata": {
  "kernelspec": {
   "display_name": "anipose",
   "language": "python",
   "name": "python3"
  },
  "language_info": {
   "codemirror_mode": {
    "name": "ipython",
    "version": 3
   },
   "file_extension": ".py",
   "mimetype": "text/x-python",
   "name": "python",
   "nbconvert_exporter": "python",
   "pygments_lexer": "ipython3",
   "version": "3.7.12"
  }
 },
 "nbformat": 4,
 "nbformat_minor": 2
}
