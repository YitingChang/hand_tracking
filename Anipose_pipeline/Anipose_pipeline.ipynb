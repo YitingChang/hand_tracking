{
 "cells": [
  {
   "cell_type": "code",
   "execution_count": null,
   "metadata": {},
   "outputs": [],
   "source": [
    "# Anipose pipeline for a single trial\n",
    "# Input: 2D pose estimation from different camera views\n",
    "# Output: 3D pose estimation "
   ]
  },
  {
   "cell_type": "code",
   "execution_count": 27,
   "metadata": {},
   "outputs": [],
   "source": [
    "import os\n",
    "import toml\n",
    "from anipose.calibrate import process_session as calibration_process\n",
    "from anipose.triangulate import process_session as triangulate_process\n",
    "from anipose.label_videos_3d import process_session as v3d_process\n",
    "from anipose.label_combined import process_session as combined_process\n",
    "from anipose.compute_angles import process_session as angles_process"
   ]
  },
  {
   "cell_type": "code",
   "execution_count": null,
   "metadata": {},
   "outputs": [],
   "source": [
    "# Set paths\n",
    "config_file = '/home/yiting/Documents/Anipose_projects/Anipose_5cam_241128/config_241128.toml'\n",
    "session_path = '/home/yiting/Documents/Anipose_projects/Anipose_5cam_241128/241122/241122-101024'\n",
    "# Load config file\n",
    "config = toml.load(config_file)"
   ]
  },
  {
   "cell_type": "code",
   "execution_count": null,
   "metadata": {},
   "outputs": [],
   "source": [
    "## Camera calibration (if needed)\n",
    "# calibration_process(config, session_path)"
   ]
  },
  {
   "cell_type": "code",
   "execution_count": null,
   "metadata": {},
   "outputs": [],
   "source": [
    "# Anipose_triangulation\n",
    "\n",
    "# To-do list:\n",
    "# Apply 3d filter if needed"
   ]
  },
  {
   "cell_type": "code",
   "execution_count": 30,
   "metadata": {},
   "outputs": [
    {
     "name": "stdout",
     "output_type": "stream",
     "text": [
      "/home/yiting/Documents/Anipose_projects/Anipose_5cam_241128/241122/241122-101024/pose_3d/2024-11-22T10-10-24_.csv\n"
     ]
    },
    {
     "name": "stderr",
     "output_type": "stream",
     "text": [
      "100%|██████████████████████████| 16338/16338 [01:13<00:00, 220.92it/s]\n"
     ]
    }
   ],
   "source": [
    "triangulate_process(config, session_path)\n"
   ]
  },
  {
   "cell_type": "code",
   "execution_count": null,
   "metadata": {},
   "outputs": [],
   "source": [
    "# Anipose_visualization\n",
    "# Create labeled 3d videos\n",
    "# Create combined videos that have 2d and labeled 3d videos "
   ]
  },
  {
   "cell_type": "code",
   "execution_count": 31,
   "metadata": {},
   "outputs": [
    {
     "name": "stdout",
     "output_type": "stream",
     "text": [
      "/home/yiting/Documents/Anipose_projects/Anipose_5cam_241128/241122/241122-101024/videos_labeled_3d/2024-11-22T10-10-24_.mp4\n"
     ]
    },
    {
     "name": "stderr",
     "output_type": "stream",
     "text": [
      "100%|███████████████████████████████| 778/778 [00:12<00:00, 60.30it/s]\n"
     ]
    }
   ],
   "source": [
    "# Create labeled 3d videos\n",
    "v3d_process(config, session_path)"
   ]
  },
  {
   "cell_type": "code",
   "execution_count": 32,
   "metadata": {},
   "outputs": [
    {
     "name": "stdout",
     "output_type": "stream",
     "text": [
      "/home/yiting/Documents/Anipose_projects/Anipose_5cam_241128/241122/241122-101024/videos_combined/2024-11-22T10-10-24_.mp4\n"
     ]
    },
    {
     "name": "stderr",
     "output_type": "stream",
     "text": [
      "100%|███████████████████████████████| 778/778 [00:23<00:00, 32.46it/s]\n"
     ]
    }
   ],
   "source": [
    "# Create combined videos that have 2d and labeled 3d videos\n",
    "combined_process(config, session_path)"
   ]
  },
  {
   "cell_type": "code",
   "execution_count": null,
   "metadata": {},
   "outputs": [],
   "source": [
    "# Compute angles\n",
    "angles_process(config, session_path)"
   ]
  }
 ],
 "metadata": {
  "kernelspec": {
   "display_name": "anipose",
   "language": "python",
   "name": "python3"
  },
  "language_info": {
   "codemirror_mode": {
    "name": "ipython",
    "version": 3
   },
   "file_extension": ".py",
   "mimetype": "text/x-python",
   "name": "python",
   "nbconvert_exporter": "python",
   "pygments_lexer": "ipython3",
   "version": "3.7.12"
  }
 },
 "nbformat": 4,
 "nbformat_minor": 2
}
