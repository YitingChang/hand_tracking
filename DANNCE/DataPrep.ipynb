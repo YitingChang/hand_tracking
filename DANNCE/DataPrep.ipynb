{
 "cells": [
  {
   "cell_type": "code",
   "execution_count": null,
   "id": "18c46a4c",
   "metadata": {},
   "outputs": [],
   "source": [
    "# This notebook: \n",
    "# 1. formats our data based on DANNCE requirements.\n",
    "# 2. creates synchronization files."
   ]
  },
  {
   "cell_type": "code",
   "execution_count": null,
   "id": "3ee2d2d7",
   "metadata": {},
   "outputs": [],
   "source": [
    "# Videos must be named according the frame index of the first frame in the file\n",
    "\n",
    "## Our recordings are organized in a trial-based structure. \n",
    "# ~/Videos/session/trial/camTo.mp4\n",
    "#                       /camTR.mp4\n",
    "\n",
    "\n",
    "## DANNCE\n",
    "# /videos/\n",
    "\n",
    "# +-- Camera1\n",
    "# |__+--0.mp4\n",
    "# |__+--3000.mp4\n",
    "\n",
    "# +-- Camera2\n",
    "# |__+--0.mp4\n",
    "# |__+--3000.mp4\n",
    "\n",
    "# +-- Camera3\n",
    "# |__+--0.mp4\n",
    "# |__+--3000.mp4 \n",
    "\n"
   ]
  },
  {
   "cell_type": "code",
   "execution_count": 33,
   "id": "b957bb00",
   "metadata": {},
   "outputs": [],
   "source": [
    "import os\n",
    "import shutil"
   ]
  },
  {
   "cell_type": "code",
   "execution_count": 35,
   "id": "87c510d5",
   "metadata": {},
   "outputs": [],
   "source": [
    "recording_dir = r'E:\\Hand_tracking\\Recordings\\Videos' # where the recording videos are stored\n",
    "session = '2023-12-07_test'\n",
    "cameras = ['camBL', 'camBo', 'camBR', 'camTL', 'camTo', 'camTR'] # a list of camera names\n",
    "output_dir = r'C:\\Users\\Yiting\\Documents\\GitHub\\dannce\\project\\monkey_hand_231207\\videos'"
   ]
  },
  {
   "cell_type": "code",
   "execution_count": 36,
   "id": "ae8ee371",
   "metadata": {},
   "outputs": [],
   "source": [
    "for cam in cameras:\n",
    "    os.makedirs(os.path.join(output_dir,'Camera' + cam[3:]), exist_ok = True)\n",
    "    trials = os.listdir(os.path.join(recording_dir, session))\n",
    "    frame_idx = 0\n",
    "    for t in trials:\n",
    "        # Get video\n",
    "        recording_path = os.path.join(recording_dir,session,t, cam + '.mp4')\n",
    "        cap = cv2.VideoCapture(recording_path)\n",
    "        num_frame = int(cap.get(cv2.CAP_PROP_FRAME_COUNT))\n",
    "\n",
    "        # Copy, rename, save video to a new dir\n",
    "        output_path = os.path.join(output_dir, cam, str(frame_idx) + '.mp4')\n",
    "        shutil.copyfile(recording_path, output_path)\n",
    "        \n",
    "        frame_idx += num_frame"
   ]
  },
  {
   "cell_type": "code",
   "execution_count": null,
   "id": "83ceaef8",
   "metadata": {},
   "outputs": [],
   "source": [
    "# Make synchronization file\n",
    "# python dannce/utils/makeSyncFiles.py {path_to_videos} {acquisition_frame_rate} {number_tracked_landmarks}\n",
    "# Run this in the terminal \n",
    "# python dannce/utils/makeSyncFiles.py C:\\Users\\Yiting\\Documents\\GitHub\\dannce\\project\\monkey_hand_231207\\videos 100 12"
   ]
  }
 ],
 "metadata": {
  "kernelspec": {
   "display_name": "dannce",
   "language": "python",
   "name": "dannce"
  },
  "language_info": {
   "codemirror_mode": {
    "name": "ipython",
    "version": 3
   },
   "file_extension": ".py",
   "mimetype": "text/x-python",
   "name": "python",
   "nbconvert_exporter": "python",
   "pygments_lexer": "ipython3",
   "version": "3.7.16"
  }
 },
 "nbformat": 4,
 "nbformat_minor": 5
}
