{
 "cells": [
  {
   "cell_type": "code",
   "execution_count": 16,
   "metadata": {},
   "outputs": [],
   "source": [
    "import os\n",
    "from glob import glob\n",
    "import shutil\n",
    "import toml\n",
    "import pandas as pd\n",
    "\n"
   ]
  },
  {
   "cell_type": "code",
   "execution_count": 8,
   "metadata": {},
   "outputs": [],
   "source": [
    "# Rename video names\n",
    "data_dir = r\"/home/yiting/Documents/Data\"\n",
    "analysis_dir = r\"/home/yiting/Documents/Analysis\"\n",
    "\n",
    "session_name = \"2024-11-22\"\n",
    "camera_views = [\"To\", \"TL\", \"TR\", \"BL\", \"BR\"]"
   ]
  },
  {
   "cell_type": "code",
   "execution_count": 5,
   "metadata": {},
   "outputs": [],
   "source": [
    "os.makedirs(os.path.join(data_dir, session_name, \"cameras\"), exist_ok = True)\n",
    "trials = sorted(os.listdir(os.path.join(data_dir, session_name, \"cameras_v0\")))\n",
    "for t in trials:\n",
    "    trialname_parts = t.split('_')\n",
    "    new_trial_name = trialname_parts[0] + \"_\" + trialname_parts[1]\n",
    "    new_trial_folder = os.path.join(data_dir, session_name, \"cameras\", new_trial_name)\n",
    "    os.makedirs(new_trial_folder, exist_ok = True)\n",
    "    for c in camera_views:\n",
    "        raw_vid_file = os.path.join(data_dir, session_name, \"cameras_v0\", t, \"cam\" + c +\".mp4\")\n",
    "        new_vid_name = new_trial_name + \"_cam\" + c + \".mp4\"\n",
    "        new_vid_file = os.path.join(new_trial_folder, new_vid_name)\n",
    "        shutil.copyfile(raw_vid_file, new_vid_file)"
   ]
  },
  {
   "cell_type": "code",
   "execution_count": null,
   "metadata": {},
   "outputs": [],
   "source": []
  }
 ],
 "metadata": {
  "kernelspec": {
   "display_name": "anipose",
   "language": "python",
   "name": "python3"
  },
  "language_info": {
   "codemirror_mode": {
    "name": "ipython",
    "version": 3
   },
   "file_extension": ".py",
   "mimetype": "text/x-python",
   "name": "python",
   "nbconvert_exporter": "python",
   "pygments_lexer": "ipython3",
   "version": "3.7.12"
  }
 },
 "nbformat": 4,
 "nbformat_minor": 2
}
