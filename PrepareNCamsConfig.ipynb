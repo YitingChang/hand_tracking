{
 "cells": [
  {
   "cell_type": "code",
   "execution_count": 4,
   "id": "5784e012",
   "metadata": {},
   "outputs": [],
   "source": [
    "# NCams Config Script\n",
    "\n",
    "import ncams\n",
    "import os\n",
    "import time\n",
    "import numpy as np\n",
    "import cv2\n",
    "from glob import glob\n",
    "from PIL import Image\n",
    "\n",
    "\n",
    "BASE_DIR = r'C:\\Users\\Yiting\\YitingData\\Hand_tracking'\n",
    "session_dir = r'23.08.04_calibration'\n",
    "config_dir = os.path.join(BASE_DIR, session_dir)"
   ]
  },
  {
   "cell_type": "code",
   "execution_count": 5,
   "id": "23b2eecd",
   "metadata": {},
   "outputs": [],
   "source": [
    "#%% charuco\n",
    "#%% Create the ncams_config\n",
    "ncams_config = {\n",
    "    # Camera information\n",
    "    'serials': [19472072, 19472089], #\n",
    "    'reference_camera_serial': 19472072,  # This is linked to how the cameras are hardwired\n",
    "    'image_size': (1200, 1920),  # height x width \n",
    "    # Board information\n",
    "    'board_type': 'charuco',  # charuco (preferred) or checkerboard\n",
    "    'board_dim': [6, 8],  # If this is incorrect it will cause analyses to freeze\n",
    "    'check_size': 20, # Size of the checks in mm, essential for accurate 3D reconstructions\n",
    "    'world_units': 'mm', # Determines how to scale the world ('m', 'dm', 'cm', 'mm')\n",
    "    # Path information\n",
    "    'setup_path': config_dir, # Where to store this configuration\n",
    "    'setup_filename': 'ncams_config.yaml', # Desired filename for the configuration\n",
    "    'intrinsic_path': 'intrinsic', # Name of the subdirectory for the intrinsic calibration data\n",
    "    'intrinsic_filename': 'intrinsic_calib.pickle', # Desired filename for the intrinsics\n",
    "    'extrinsic_path': 'extrinsic', # Name of the subdirectory for the extrinsic calibration data\n",
    "    'extrinsic_filename': 'extrinsic_calib.pickle'}"
   ]
  },
  {
   "cell_type": "code",
   "execution_count": 3,
   "id": "75e507d7",
   "metadata": {},
   "outputs": [],
   "source": [
    "#%% checkerboard\n",
    "#%% Create the ncams_config\n",
    "# ncams_config = {\n",
    "#     # Camera information\n",
    "#     'serials': [19472072, 19472089], #\n",
    "#     'reference_camera_serial': 19472072,  # This is linked to how the cameras are hardwired\n",
    "#     'image_size': (1200, 1920),  # height x width \n",
    "#     # Board information\n",
    "#     'board_type': 'checkerboard',  # charuco (preferred) or checkerboard\n",
    "#     'board_dim': [6, 8],  # If this is incorrect it will cause analyses to freeze\n",
    "#     'check_size': 16, # Size of the checks in mm, essential for accurate 3D reconstructions\n",
    "#     'world_units': 'mm', # Determines how to scale the world ('m', 'dm', 'cm', 'mm')\n",
    "#     # Path information\n",
    "#     'setup_path': config_dir, # Where to store this configuration\n",
    "#     'setup_filename': 'ncams_config.yaml', # Desired filename for the configuration\n",
    "#     'intrinsic_path': 'intrinsic', # Name of the subdirectory for the intrinsic calibration data\n",
    "#     'intrinsic_filename': 'intrinsic_calib.pickle', # Desired filename for the intrinsics\n",
    "#     'extrinsic_path': 'extrinsic', # Name of the subdirectory for the extrinsic calibration data\n",
    "#     'extrinsic_filename': 'extrinsic_calib.pickle'}"
   ]
  },
  {
   "cell_type": "code",
   "execution_count": 6,
   "id": "a0afd6e7",
   "metadata": {},
   "outputs": [],
   "source": [
    "#%% Prepare folders\n",
    "if os.path.exists(config_dir) is False:\n",
    "    os.mkdir(config_dir)\n",
    "\n",
    "ncams.camera_io.config_to_yaml(ncams_config)\n",
    "\n",
    "if os.path.exists(os.path.join(config_dir, ncams_config['extrinsic_path'])) is False:\n",
    "    os.mkdir(os.path.join(config_dir, ncams_config['extrinsic_path']))\n",
    "    \n",
    "if os.path.exists(os.path.join(config_dir, ncams_config['intrinsic_path'])) is False:\n",
    "    os.mkdir(os.path.join(config_dir, ncams_config['intrinsic_path']))\n",
    "    \n",
    "    for s in ncams_config['serials']:\n",
    "        os.mkdir(os.path.join(config_dir, ncams_config['intrinsic_path'], str(s)))"
   ]
  },
  {
   "cell_type": "code",
   "execution_count": 7,
   "id": "4623e184",
   "metadata": {},
   "outputs": [],
   "source": [
    "#%% Save images as .jpg and copy them to the respective folder in the intrinsics folder.\n",
    "\n",
    "movie_dir = r'C:\\Monkey_project_videos\\Calibration_230804'\n",
    "CAMERA_NAMES_DICT = {\"19472072\": \"cam-A\", \"19472089\": \"cam-B\"}\n",
    "\n",
    "for i, (k, v) in enumerate(CAMERA_NAMES_DICT.items()):\n",
    "\n",
    "    cam_dir = os.path.join(movie_dir, v)\n",
    "    cam_image_list = glob(os.path.join(cam_dir, '*.tiff'))\n",
    "\n",
    "    for j, file in enumerate(cam_image_list):\n",
    "        im = Image.open(file)\n",
    "        name, old_extension = os.path.splitext(os.path.basename(file).split('/')[0])\n",
    "        outfile = os.path.join(config_dir, ncams_config['intrinsic_path'], k, k + name[6:] + '.jpg')\n",
    "        im.save(outfile, \"JPEG\", quality=100)\n",
    "                \n",
    "\n"
   ]
  },
  {
   "cell_type": "code",
   "execution_count": null,
   "id": "161a32b5",
   "metadata": {},
   "outputs": [],
   "source": []
  }
 ],
 "metadata": {
  "kernelspec": {
   "display_name": "Python [conda env:ncams] *",
   "language": "python",
   "name": "conda-env-ncams-py"
  },
  "language_info": {
   "codemirror_mode": {
    "name": "ipython",
    "version": 3
   },
   "file_extension": ".py",
   "mimetype": "text/x-python",
   "name": "python",
   "nbconvert_exporter": "python",
   "pygments_lexer": "ipython3",
   "version": "3.8.17"
  }
 },
 "nbformat": 4,
 "nbformat_minor": 5
}
